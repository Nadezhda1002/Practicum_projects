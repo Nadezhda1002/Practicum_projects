{
 "cells": [
  {
   "cell_type": "markdown",
   "id": "a689bf08",
   "metadata": {},
   "source": [
    "# Проект: \"Принятие решений в бизнесе. Анализ крупного интернет-магазина\""
   ]
  },
  {
   "cell_type": "markdown",
   "id": "beb5241d",
   "metadata": {},
   "source": [
    "# Описание проекта  \n",
    "Необходимо провести анализ крупного интернет-магазина и вместе с отделом маркетинга подготовить список гипотез для увеличения выручки. Приоритизировать гипотезы, запустить A/B-тест и проанализировать результаты.   \n",
    "\n",
    "**Описание данных**  \n",
    "\n",
    "*Данные для первой части*  \n",
    "Файл /datasets/hypothesis.csv.    \n",
    "Hypothesis — краткое описание гипотезы;  \n",
    "Reach — охват пользователей по 10-балльной шкале;  \n",
    "Impact — влияние на пользователей по 10-балльной шкале;  \n",
    "Confidence — уверенность в гипотезе по 10-балльной шкале;  \n",
    "Efforts — затраты ресурсов на проверку гипотезы по 10-балльной шкале. Чем больше значение Efforts, тем дороже проверка гипотезы.  \n",
    "\n",
    "*Данные для второй части*  \n",
    "Файл /datasets/orders.csv.    \n",
    "transactionId — идентификатор заказа;  \n",
    "visitorId — идентификатор пользователя, совершившего заказ;  \n",
    "date — дата, когда был совершён заказ;  \n",
    "revenue — выручка заказа;  \n",
    "group — группа A/B-теста, в которую попал заказ.  \n",
    "\n",
    "Файл /datasets/visitors.csv.  \n",
    "date — дата;  \n",
    "group — группа A/B-теста;  \n",
    "visitors — количество пользователей в указанную дату в указанной группе A/B-теста"
   ]
  },
  {
   "cell_type": "markdown",
   "id": "11ac318f",
   "metadata": {},
   "source": [
    "## Предобработка данных."
   ]
  },
  {
   "cell_type": "markdown",
   "id": "810145b6",
   "metadata": {},
   "source": [
    "**Изучим файлы и выполним предобработку данных**"
   ]
  },
  {
   "cell_type": "code",
   "execution_count": 1,
   "id": "6562bba5",
   "metadata": {},
   "outputs": [],
   "source": [
    "import pandas as pd\n",
    "import math\n",
    "import numpy as np\n",
    "import matplotlib\n",
    "import seaborn as sns\n",
    "import matplotlib.pyplot as plt \n",
    "import datetime as dt\n",
    "import scipy.stats as stats"
   ]
  },
  {
   "cell_type": "markdown",
   "id": "f4aaae60",
   "metadata": {},
   "source": [
    "Считаем CSV-файлы с данными с помощью библиотеки pandas и сохраним их в датафреймы hypothesis, orders и visitors"
   ]
  },
  {
   "cell_type": "code",
   "execution_count": 2,
   "id": "86d52444",
   "metadata": {},
   "outputs": [],
   "source": [
    "hypothesis = pd.read_csv('/datasets/hypothesis.csv', sep=',')\n",
    "orders = pd.read_csv('/datasets/orders.csv', sep=',')\n",
    "orders['date'] = orders['date'].map(\n",
    "    lambda x: dt.datetime.strptime(x, '%Y-%m-%d')\n",
    ")    \n",
    "visitors = pd.read_csv('/datasets/visitors.csv', sep=',')\n",
    "visitors['date'] = visitors['date'].map(\n",
    "    lambda x: dt.datetime.strptime(x, '%Y-%m-%d')\n",
    ")"
   ]
  },
  {
   "cell_type": "markdown",
   "id": "addfa4b3",
   "metadata": {},
   "source": [
    "Столбцы с датой и временем приведем к типу datetime64."
   ]
  },
  {
   "cell_type": "markdown",
   "id": "43dd0d4f",
   "metadata": {},
   "source": [
    "### Получим информацию о датафрейме hypothesis, в котором находятся гипотезы."
   ]
  },
  {
   "cell_type": "code",
   "execution_count": 3,
   "id": "ab71013a",
   "metadata": {},
   "outputs": [
    {
     "data": {
      "text/html": [
       "<div>\n",
       "<style scoped>\n",
       "    .dataframe tbody tr th:only-of-type {\n",
       "        vertical-align: middle;\n",
       "    }\n",
       "\n",
       "    .dataframe tbody tr th {\n",
       "        vertical-align: top;\n",
       "    }\n",
       "\n",
       "    .dataframe thead th {\n",
       "        text-align: right;\n",
       "    }\n",
       "</style>\n",
       "<table border=\"1\" class=\"dataframe\">\n",
       "  <thead>\n",
       "    <tr style=\"text-align: right;\">\n",
       "      <th></th>\n",
       "      <th>Hypothesis</th>\n",
       "      <th>Reach</th>\n",
       "      <th>Impact</th>\n",
       "      <th>Confidence</th>\n",
       "      <th>Efforts</th>\n",
       "    </tr>\n",
       "  </thead>\n",
       "  <tbody>\n",
       "    <tr>\n",
       "      <th>0</th>\n",
       "      <td>Добавить два новых канала привлечения трафика,...</td>\n",
       "      <td>3</td>\n",
       "      <td>10</td>\n",
       "      <td>8</td>\n",
       "      <td>6</td>\n",
       "    </tr>\n",
       "    <tr>\n",
       "      <th>1</th>\n",
       "      <td>Запустить собственную службу доставки, что сок...</td>\n",
       "      <td>2</td>\n",
       "      <td>5</td>\n",
       "      <td>4</td>\n",
       "      <td>10</td>\n",
       "    </tr>\n",
       "    <tr>\n",
       "      <th>2</th>\n",
       "      <td>Добавить блоки рекомендаций товаров на сайт ин...</td>\n",
       "      <td>8</td>\n",
       "      <td>3</td>\n",
       "      <td>7</td>\n",
       "      <td>3</td>\n",
       "    </tr>\n",
       "    <tr>\n",
       "      <th>3</th>\n",
       "      <td>Изменить структура категорий, что увеличит кон...</td>\n",
       "      <td>8</td>\n",
       "      <td>3</td>\n",
       "      <td>3</td>\n",
       "      <td>8</td>\n",
       "    </tr>\n",
       "    <tr>\n",
       "      <th>4</th>\n",
       "      <td>Изменить цвет фона главной страницы, чтобы уве...</td>\n",
       "      <td>3</td>\n",
       "      <td>1</td>\n",
       "      <td>1</td>\n",
       "      <td>1</td>\n",
       "    </tr>\n",
       "    <tr>\n",
       "      <th>5</th>\n",
       "      <td>Добавить страницу отзывов клиентов о магазине,...</td>\n",
       "      <td>3</td>\n",
       "      <td>2</td>\n",
       "      <td>2</td>\n",
       "      <td>3</td>\n",
       "    </tr>\n",
       "    <tr>\n",
       "      <th>6</th>\n",
       "      <td>Показать на главной странице баннеры с актуаль...</td>\n",
       "      <td>5</td>\n",
       "      <td>3</td>\n",
       "      <td>8</td>\n",
       "      <td>3</td>\n",
       "    </tr>\n",
       "    <tr>\n",
       "      <th>7</th>\n",
       "      <td>Добавить форму подписки на все основные страни...</td>\n",
       "      <td>10</td>\n",
       "      <td>7</td>\n",
       "      <td>8</td>\n",
       "      <td>5</td>\n",
       "    </tr>\n",
       "    <tr>\n",
       "      <th>8</th>\n",
       "      <td>Запустить акцию, дающую скидку на товар в день...</td>\n",
       "      <td>1</td>\n",
       "      <td>9</td>\n",
       "      <td>9</td>\n",
       "      <td>5</td>\n",
       "    </tr>\n",
       "  </tbody>\n",
       "</table>\n",
       "</div>"
      ],
      "text/plain": [
       "                                          Hypothesis  Reach  Impact  \\\n",
       "0  Добавить два новых канала привлечения трафика,...      3      10   \n",
       "1  Запустить собственную службу доставки, что сок...      2       5   \n",
       "2  Добавить блоки рекомендаций товаров на сайт ин...      8       3   \n",
       "3  Изменить структура категорий, что увеличит кон...      8       3   \n",
       "4  Изменить цвет фона главной страницы, чтобы уве...      3       1   \n",
       "5  Добавить страницу отзывов клиентов о магазине,...      3       2   \n",
       "6  Показать на главной странице баннеры с актуаль...      5       3   \n",
       "7  Добавить форму подписки на все основные страни...     10       7   \n",
       "8  Запустить акцию, дающую скидку на товар в день...      1       9   \n",
       "\n",
       "   Confidence  Efforts  \n",
       "0           8        6  \n",
       "1           4       10  \n",
       "2           7        3  \n",
       "3           3        8  \n",
       "4           1        1  \n",
       "5           2        3  \n",
       "6           8        3  \n",
       "7           8        5  \n",
       "8           9        5  "
      ]
     },
     "metadata": {},
     "output_type": "display_data"
    },
    {
     "data": {
      "text/plain": [
       "'Oсновная информация о датафрейме hypothesis'"
      ]
     },
     "metadata": {},
     "output_type": "display_data"
    },
    {
     "name": "stdout",
     "output_type": "stream",
     "text": [
      "<class 'pandas.core.frame.DataFrame'>\n",
      "RangeIndex: 9 entries, 0 to 8\n",
      "Data columns (total 5 columns):\n",
      " #   Column      Non-Null Count  Dtype \n",
      "---  ------      --------------  ----- \n",
      " 0   Hypothesis  9 non-null      object\n",
      " 1   Reach       9 non-null      int64 \n",
      " 2   Impact      9 non-null      int64 \n",
      " 3   Confidence  9 non-null      int64 \n",
      " 4   Efforts     9 non-null      int64 \n",
      "dtypes: int64(4), object(1)\n",
      "memory usage: 488.0+ bytes\n"
     ]
    },
    {
     "data": {
      "text/plain": [
       "None"
      ]
     },
     "metadata": {},
     "output_type": "display_data"
    },
    {
     "data": {
      "text/plain": [
       "'Числовое описание данных'"
      ]
     },
     "metadata": {},
     "output_type": "display_data"
    },
    {
     "data": {
      "text/html": [
       "<div>\n",
       "<style scoped>\n",
       "    .dataframe tbody tr th:only-of-type {\n",
       "        vertical-align: middle;\n",
       "    }\n",
       "\n",
       "    .dataframe tbody tr th {\n",
       "        vertical-align: top;\n",
       "    }\n",
       "\n",
       "    .dataframe thead th {\n",
       "        text-align: right;\n",
       "    }\n",
       "</style>\n",
       "<table border=\"1\" class=\"dataframe\">\n",
       "  <thead>\n",
       "    <tr style=\"text-align: right;\">\n",
       "      <th></th>\n",
       "      <th>Reach</th>\n",
       "      <th>Impact</th>\n",
       "      <th>Confidence</th>\n",
       "      <th>Efforts</th>\n",
       "    </tr>\n",
       "  </thead>\n",
       "  <tbody>\n",
       "    <tr>\n",
       "      <th>count</th>\n",
       "      <td>9.000000</td>\n",
       "      <td>9.000000</td>\n",
       "      <td>9.000000</td>\n",
       "      <td>9.000000</td>\n",
       "    </tr>\n",
       "    <tr>\n",
       "      <th>mean</th>\n",
       "      <td>4.777778</td>\n",
       "      <td>4.777778</td>\n",
       "      <td>5.555556</td>\n",
       "      <td>4.888889</td>\n",
       "    </tr>\n",
       "    <tr>\n",
       "      <th>std</th>\n",
       "      <td>3.153481</td>\n",
       "      <td>3.192874</td>\n",
       "      <td>3.045944</td>\n",
       "      <td>2.803767</td>\n",
       "    </tr>\n",
       "    <tr>\n",
       "      <th>min</th>\n",
       "      <td>1.000000</td>\n",
       "      <td>1.000000</td>\n",
       "      <td>1.000000</td>\n",
       "      <td>1.000000</td>\n",
       "    </tr>\n",
       "    <tr>\n",
       "      <th>25%</th>\n",
       "      <td>3.000000</td>\n",
       "      <td>3.000000</td>\n",
       "      <td>3.000000</td>\n",
       "      <td>3.000000</td>\n",
       "    </tr>\n",
       "    <tr>\n",
       "      <th>50%</th>\n",
       "      <td>3.000000</td>\n",
       "      <td>3.000000</td>\n",
       "      <td>7.000000</td>\n",
       "      <td>5.000000</td>\n",
       "    </tr>\n",
       "    <tr>\n",
       "      <th>75%</th>\n",
       "      <td>8.000000</td>\n",
       "      <td>7.000000</td>\n",
       "      <td>8.000000</td>\n",
       "      <td>6.000000</td>\n",
       "    </tr>\n",
       "    <tr>\n",
       "      <th>max</th>\n",
       "      <td>10.000000</td>\n",
       "      <td>10.000000</td>\n",
       "      <td>9.000000</td>\n",
       "      <td>10.000000</td>\n",
       "    </tr>\n",
       "  </tbody>\n",
       "</table>\n",
       "</div>"
      ],
      "text/plain": [
       "           Reach     Impact  Confidence    Efforts\n",
       "count   9.000000   9.000000    9.000000   9.000000\n",
       "mean    4.777778   4.777778    5.555556   4.888889\n",
       "std     3.153481   3.192874    3.045944   2.803767\n",
       "min     1.000000   1.000000    1.000000   1.000000\n",
       "25%     3.000000   3.000000    3.000000   3.000000\n",
       "50%     3.000000   3.000000    7.000000   5.000000\n",
       "75%     8.000000   7.000000    8.000000   6.000000\n",
       "max    10.000000  10.000000    9.000000  10.000000"
      ]
     },
     "metadata": {},
     "output_type": "display_data"
    },
    {
     "data": {
      "text/plain": [
       "'Количество пропусков'"
      ]
     },
     "metadata": {},
     "output_type": "display_data"
    },
    {
     "data": {
      "text/plain": [
       "Hypothesis    0\n",
       "Reach         0\n",
       "Impact        0\n",
       "Confidence    0\n",
       "Efforts       0\n",
       "dtype: int64"
      ]
     },
     "metadata": {},
     "output_type": "display_data"
    },
    {
     "name": "stdout",
     "output_type": "stream",
     "text": [
      "Количество явных дубликатов 0\n"
     ]
    },
    {
     "data": {
      "text/plain": [
       "'Hаличие неявных дубликатов'"
      ]
     },
     "metadata": {},
     "output_type": "display_data"
    },
    {
     "data": {
      "text/plain": [
       "Hypothesis                                                                                                    Reach  Impact  Confidence  Efforts\n",
       "Добавить блоки рекомендаций товаров на сайт интернет магазина, чтобы повысить конверсию и средний чек заказа  8      3       7           3          1\n",
       "Добавить два новых канала привлечения трафика, что позволит привлекать на 30% больше пользователей            3      10      8           6          1\n",
       "Добавить страницу отзывов клиентов о магазине, что позволит увеличить количество заказов                      3      2       2           3          1\n",
       "Добавить форму подписки на все основные страницы, чтобы собрать базу клиентов для email-рассылок              10     7       8           5          1\n",
       "Запустить акцию, дающую скидку на товар в день рождения                                                       1      9       9           5          1\n",
       "Запустить собственную службу доставки, что сократит срок доставки заказов                                     2      5       4           10         1\n",
       "Изменить структура категорий, что увеличит конверсию, т.к. пользователи быстрее найдут нужный товар           8      3       3           8          1\n",
       "Изменить цвет фона главной страницы, чтобы увеличить вовлеченность пользователей                              3      1       1           1          1\n",
       "Показать на главной странице баннеры с актуальными акциями и распродажами, чтобы увеличить конверсию          5      3       8           3          1\n",
       "dtype: int64"
      ]
     },
     "metadata": {},
     "output_type": "display_data"
    }
   ],
   "source": [
    "display(hypothesis)\n",
    "display(\"Oсновная информация о датафрейме hypothesis\")\n",
    "display(hypothesis.info())\n",
    "display(\"Числовое описание данных\")\n",
    "display(hypothesis.describe())\n",
    "display(\"Количество пропусков\")\n",
    "display(hypothesis.isna().sum())\n",
    "print(\"Количество явных дубликатов\", hypothesis.duplicated().sum())\n",
    "display(\"Hаличие неявных дубликатов\")\n",
    "display(hypothesis.value_counts())"
   ]
  },
  {
   "cell_type": "markdown",
   "id": "63aeecad",
   "metadata": {},
   "source": [
    "В названиях столбцов есть расхождения с хорошим стилем. На этапе предобработки данных их необходимо привести к нижнему регистру."
   ]
  },
  {
   "cell_type": "code",
   "execution_count": 4,
   "id": "1e56eb4e",
   "metadata": {},
   "outputs": [],
   "source": [
    "hypothesis.columns = hypothesis.columns.str.lower()"
   ]
  },
  {
   "cell_type": "code",
   "execution_count": 5,
   "id": "8c2e9cba",
   "metadata": {},
   "outputs": [
    {
     "data": {
      "image/png": "[encoded data removed]",
      "text/plain": [
       "<Figure size 720x720 with 4 Axes>"
      ]
     },
     "metadata": {
      "needs_background": "light"
     },
     "output_type": "display_data"
    }
   ],
   "source": [
    "hypothesis.hist(figsize=(10, 10), color='b', ec='black') \n",
    "plt.show()"
   ]
  },
  {
   "cell_type": "markdown",
   "id": "2562a627",
   "metadata": {},
   "source": [
    "Данные корректны, типы данных верны, дубликатов и пропусков нет. "
   ]
  },
  {
   "cell_type": "markdown",
   "id": "3e79cf3c",
   "metadata": {},
   "source": [
    "### Получим информацию о датафрейме orders, в котором находится информация о заказах."
   ]
  },
  {
   "cell_type": "code",
   "execution_count": 6,
   "id": "a5aba627",
   "metadata": {},
   "outputs": [
    {
     "data": {
      "text/html": [
       "<div>\n",
       "<style scoped>\n",
       "    .dataframe tbody tr th:only-of-type {\n",
       "        vertical-align: middle;\n",
       "    }\n",
       "\n",
       "    .dataframe tbody tr th {\n",
       "        vertical-align: top;\n",
       "    }\n",
       "\n",
       "    .dataframe thead th {\n",
       "        text-align: right;\n",
       "    }\n",
       "</style>\n",
       "<table border=\"1\" class=\"dataframe\">\n",
       "  <thead>\n",
       "    <tr style=\"text-align: right;\">\n",
       "      <th></th>\n",
       "      <th>transactionId</th>\n",
       "      <th>visitorId</th>\n",
       "      <th>date</th>\n",
       "      <th>revenue</th>\n",
       "      <th>group</th>\n",
       "    </tr>\n",
       "  </thead>\n",
       "  <tbody>\n",
       "    <tr>\n",
       "      <th>0</th>\n",
       "      <td>3667963787</td>\n",
       "      <td>3312258926</td>\n",
       "      <td>2019-08-15</td>\n",
       "      <td>1650</td>\n",
       "      <td>B</td>\n",
       "    </tr>\n",
       "    <tr>\n",
       "      <th>1</th>\n",
       "      <td>2804400009</td>\n",
       "      <td>3642806036</td>\n",
       "      <td>2019-08-15</td>\n",
       "      <td>730</td>\n",
       "      <td>B</td>\n",
       "    </tr>\n",
       "    <tr>\n",
       "      <th>2</th>\n",
       "      <td>2961555356</td>\n",
       "      <td>4069496402</td>\n",
       "      <td>2019-08-15</td>\n",
       "      <td>400</td>\n",
       "      <td>A</td>\n",
       "    </tr>\n",
       "    <tr>\n",
       "      <th>3</th>\n",
       "      <td>3797467345</td>\n",
       "      <td>1196621759</td>\n",
       "      <td>2019-08-15</td>\n",
       "      <td>9759</td>\n",
       "      <td>B</td>\n",
       "    </tr>\n",
       "    <tr>\n",
       "      <th>4</th>\n",
       "      <td>2282983706</td>\n",
       "      <td>2322279887</td>\n",
       "      <td>2019-08-15</td>\n",
       "      <td>2308</td>\n",
       "      <td>B</td>\n",
       "    </tr>\n",
       "    <tr>\n",
       "      <th>...</th>\n",
       "      <td>...</td>\n",
       "      <td>...</td>\n",
       "      <td>...</td>\n",
       "      <td>...</td>\n",
       "      <td>...</td>\n",
       "    </tr>\n",
       "    <tr>\n",
       "      <th>1192</th>\n",
       "      <td>2662137336</td>\n",
       "      <td>3733762160</td>\n",
       "      <td>2019-08-14</td>\n",
       "      <td>6490</td>\n",
       "      <td>B</td>\n",
       "    </tr>\n",
       "    <tr>\n",
       "      <th>1193</th>\n",
       "      <td>2203539145</td>\n",
       "      <td>370388673</td>\n",
       "      <td>2019-08-14</td>\n",
       "      <td>3190</td>\n",
       "      <td>A</td>\n",
       "    </tr>\n",
       "    <tr>\n",
       "      <th>1194</th>\n",
       "      <td>1807773912</td>\n",
       "      <td>573423106</td>\n",
       "      <td>2019-08-14</td>\n",
       "      <td>10550</td>\n",
       "      <td>A</td>\n",
       "    </tr>\n",
       "    <tr>\n",
       "      <th>1195</th>\n",
       "      <td>1947021204</td>\n",
       "      <td>1614305549</td>\n",
       "      <td>2019-08-14</td>\n",
       "      <td>100</td>\n",
       "      <td>A</td>\n",
       "    </tr>\n",
       "    <tr>\n",
       "      <th>1196</th>\n",
       "      <td>3936777065</td>\n",
       "      <td>2108080724</td>\n",
       "      <td>2019-08-15</td>\n",
       "      <td>202740</td>\n",
       "      <td>B</td>\n",
       "    </tr>\n",
       "  </tbody>\n",
       "</table>\n",
       "<p>1197 rows × 5 columns</p>\n",
       "</div>"
      ],
      "text/plain": [
       "      transactionId   visitorId       date  revenue group\n",
       "0        3667963787  3312258926 2019-08-15     1650     B\n",
       "1        2804400009  3642806036 2019-08-15      730     B\n",
       "2        2961555356  4069496402 2019-08-15      400     A\n",
       "3        3797467345  1196621759 2019-08-15     9759     B\n",
       "4        2282983706  2322279887 2019-08-15     2308     B\n",
       "...             ...         ...        ...      ...   ...\n",
       "1192     2662137336  3733762160 2019-08-14     6490     B\n",
       "1193     2203539145   370388673 2019-08-14     3190     A\n",
       "1194     1807773912   573423106 2019-08-14    10550     A\n",
       "1195     1947021204  1614305549 2019-08-14      100     A\n",
       "1196     3936777065  2108080724 2019-08-15   202740     B\n",
       "\n",
       "[1197 rows x 5 columns]"
      ]
     },
     "metadata": {},
     "output_type": "display_data"
    },
    {
     "data": {
      "text/plain": [
       "'Oсновная информация о датафрейме orders'"
      ]
     },
     "metadata": {},
     "output_type": "display_data"
    },
    {
     "name": "stdout",
     "output_type": "stream",
     "text": [
      "<class 'pandas.core.frame.DataFrame'>\n",
      "RangeIndex: 1197 entries, 0 to 1196\n",
      "Data columns (total 5 columns):\n",
      " #   Column         Non-Null Count  Dtype         \n",
      "---  ------         --------------  -----         \n",
      " 0   transactionId  1197 non-null   int64         \n",
      " 1   visitorId      1197 non-null   int64         \n",
      " 2   date           1197 non-null   datetime64[ns]\n",
      " 3   revenue        1197 non-null   int64         \n",
      " 4   group          1197 non-null   object        \n",
      "dtypes: datetime64[ns](1), int64(3), object(1)\n",
      "memory usage: 46.9+ KB\n"
     ]
    },
    {
     "data": {
      "text/plain": [
       "None"
      ]
     },
     "metadata": {},
     "output_type": "display_data"
    },
    {
     "data": {
      "text/plain": [
       "'Числовое описание данных'"
      ]
     },
     "metadata": {},
     "output_type": "display_data"
    },
    {
     "data": {
      "text/html": [
       "<div>\n",
       "<style scoped>\n",
       "    .dataframe tbody tr th:only-of-type {\n",
       "        vertical-align: middle;\n",
       "    }\n",
       "\n",
       "    .dataframe tbody tr th {\n",
       "        vertical-align: top;\n",
       "    }\n",
       "\n",
       "    .dataframe thead th {\n",
       "        text-align: right;\n",
       "    }\n",
       "</style>\n",
       "<table border=\"1\" class=\"dataframe\">\n",
       "  <thead>\n",
       "    <tr style=\"text-align: right;\">\n",
       "      <th></th>\n",
       "      <th>transactionId</th>\n",
       "      <th>visitorId</th>\n",
       "      <th>revenue</th>\n",
       "    </tr>\n",
       "  </thead>\n",
       "  <tbody>\n",
       "    <tr>\n",
       "      <th>count</th>\n",
       "      <td>1.197000e+03</td>\n",
       "      <td>1.197000e+03</td>\n",
       "      <td>1.197000e+03</td>\n",
       "    </tr>\n",
       "    <tr>\n",
       "      <th>mean</th>\n",
       "      <td>2.155621e+09</td>\n",
       "      <td>2.165960e+09</td>\n",
       "      <td>8.348006e+03</td>\n",
       "    </tr>\n",
       "    <tr>\n",
       "      <th>std</th>\n",
       "      <td>1.229085e+09</td>\n",
       "      <td>1.236014e+09</td>\n",
       "      <td>3.919113e+04</td>\n",
       "    </tr>\n",
       "    <tr>\n",
       "      <th>min</th>\n",
       "      <td>1.062393e+06</td>\n",
       "      <td>5.114589e+06</td>\n",
       "      <td>5.000000e+01</td>\n",
       "    </tr>\n",
       "    <tr>\n",
       "      <th>25%</th>\n",
       "      <td>1.166776e+09</td>\n",
       "      <td>1.111826e+09</td>\n",
       "      <td>1.220000e+03</td>\n",
       "    </tr>\n",
       "    <tr>\n",
       "      <th>50%</th>\n",
       "      <td>2.145194e+09</td>\n",
       "      <td>2.217985e+09</td>\n",
       "      <td>2.978000e+03</td>\n",
       "    </tr>\n",
       "    <tr>\n",
       "      <th>75%</th>\n",
       "      <td>3.237740e+09</td>\n",
       "      <td>3.177606e+09</td>\n",
       "      <td>8.290000e+03</td>\n",
       "    </tr>\n",
       "    <tr>\n",
       "      <th>max</th>\n",
       "      <td>4.293856e+09</td>\n",
       "      <td>4.283872e+09</td>\n",
       "      <td>1.294500e+06</td>\n",
       "    </tr>\n",
       "  </tbody>\n",
       "</table>\n",
       "</div>"
      ],
      "text/plain": [
       "       transactionId     visitorId       revenue\n",
       "count   1.197000e+03  1.197000e+03  1.197000e+03\n",
       "mean    2.155621e+09  2.165960e+09  8.348006e+03\n",
       "std     1.229085e+09  1.236014e+09  3.919113e+04\n",
       "min     1.062393e+06  5.114589e+06  5.000000e+01\n",
       "25%     1.166776e+09  1.111826e+09  1.220000e+03\n",
       "50%     2.145194e+09  2.217985e+09  2.978000e+03\n",
       "75%     3.237740e+09  3.177606e+09  8.290000e+03\n",
       "max     4.293856e+09  4.283872e+09  1.294500e+06"
      ]
     },
     "metadata": {},
     "output_type": "display_data"
    },
    {
     "data": {
      "text/plain": [
       "'Количество пропусков'"
      ]
     },
     "metadata": {},
     "output_type": "display_data"
    },
    {
     "data": {
      "text/plain": [
       "transactionId    0\n",
       "visitorId        0\n",
       "date             0\n",
       "revenue          0\n",
       "group            0\n",
       "dtype: int64"
      ]
     },
     "metadata": {},
     "output_type": "display_data"
    },
    {
     "name": "stdout",
     "output_type": "stream",
     "text": [
      "Количество явных дубликатов 0\n"
     ]
    },
    {
     "data": {
      "text/plain": [
       "'Hаличие неявных дубликатов'"
      ]
     },
     "metadata": {},
     "output_type": "display_data"
    },
    {
     "data": {
      "text/plain": [
       "transactionId  visitorId   date        revenue  group\n",
       "1062393        2661240577  2019-08-05  6420     A        1\n",
       "2883105032     3086835579  2019-08-23  2646     A        1\n",
       "2875229767     1627549308  2019-08-05  650      B        1\n",
       "2872509092     983496389   2019-08-02  165      A        1\n",
       "2866469834     3917749921  2019-08-29  3950     B        1\n",
       "                                                        ..\n",
       "1476831880     1422476412  2019-08-14  6180     A        1\n",
       "1476390797     2044161277  2019-08-31  1450     B        1\n",
       "1473132782     4069496402  2019-08-12  640      B        1\n",
       "1472783002     1617417821  2019-08-26  1690     A        1\n",
       "4293855558     8300375     2019-08-07  1790     A        1\n",
       "Length: 1197, dtype: int64"
      ]
     },
     "metadata": {},
     "output_type": "display_data"
    }
   ],
   "source": [
    "display(orders)\n",
    "display(\"Oсновная информация о датафрейме orders\")\n",
    "display(orders.info())\n",
    "display(\"Числовое описание данных\")\n",
    "display(orders.describe())\n",
    "display(\"Количество пропусков\")\n",
    "display(orders.isna().sum())\n",
    "print(\"Количество явных дубликатов\", orders.duplicated().sum())\n",
    "display(\"Hаличие неявных дубликатов\")\n",
    "display(orders.value_counts())"
   ]
  },
  {
   "cell_type": "markdown",
   "id": "bfc7e048",
   "metadata": {},
   "source": [
    "В названиях столбцов есть расхождения с хорошим стилем. На этапе предобработки данных их необходимо привести к нижнему регистру, добавить нижнее подчеркивание."
   ]
  },
  {
   "cell_type": "code",
   "execution_count": 7,
   "id": "55b99bf6",
   "metadata": {},
   "outputs": [],
   "source": [
    "orders.columns = orders.columns.str.replace('transactionId', 'transaction_id') \n",
    "orders.columns = orders.columns.str.replace('visitorId', 'visitor_id') "
   ]
  },
  {
   "cell_type": "markdown",
   "id": "52be8cf4",
   "metadata": {},
   "source": [
    "Типы данных во всех колонках соответствуют сохранённым в них значениям. "
   ]
  },
  {
   "cell_type": "code",
   "execution_count": 8,
   "id": "ec0b7890",
   "metadata": {},
   "outputs": [
    {
     "data": {
      "image/png": "[encoded data removed]",
      "text/plain": [
       "<Figure size 720x720 with 4 Axes>"
      ]
     },
     "metadata": {
      "needs_background": "light"
     },
     "output_type": "display_data"
    }
   ],
   "source": [
    "orders.hist(figsize=(10, 10), color='b', ec='black') \n",
    "plt.show()"
   ]
  },
  {
   "cell_type": "markdown",
   "id": "98c0e6c7",
   "metadata": {},
   "source": [
    "Данные корректны, типы данных верны, дубликатов и пропусков нет. Возможны аномалии в значениях revenue. "
   ]
  },
  {
   "cell_type": "markdown",
   "id": "c5c35e30",
   "metadata": {},
   "source": [
    "### Получим информацию о датафрейме visitors, в котором находится информация о пользователях."
   ]
  },
  {
   "cell_type": "code",
   "execution_count": 9,
   "id": "ab246f6b",
   "metadata": {},
   "outputs": [
    {
     "data": {
      "text/html": [
       "<div>\n",
       "<style scoped>\n",
       "    .dataframe tbody tr th:only-of-type {\n",
       "        vertical-align: middle;\n",
       "    }\n",
       "\n",
       "    .dataframe tbody tr th {\n",
       "        vertical-align: top;\n",
       "    }\n",
       "\n",
       "    .dataframe thead th {\n",
       "        text-align: right;\n",
       "    }\n",
       "</style>\n",
       "<table border=\"1\" class=\"dataframe\">\n",
       "  <thead>\n",
       "    <tr style=\"text-align: right;\">\n",
       "      <th></th>\n",
       "      <th>date</th>\n",
       "      <th>group</th>\n",
       "      <th>visitors</th>\n",
       "    </tr>\n",
       "  </thead>\n",
       "  <tbody>\n",
       "    <tr>\n",
       "      <th>0</th>\n",
       "      <td>2019-08-01</td>\n",
       "      <td>A</td>\n",
       "      <td>719</td>\n",
       "    </tr>\n",
       "    <tr>\n",
       "      <th>1</th>\n",
       "      <td>2019-08-02</td>\n",
       "      <td>A</td>\n",
       "      <td>619</td>\n",
       "    </tr>\n",
       "    <tr>\n",
       "      <th>2</th>\n",
       "      <td>2019-08-03</td>\n",
       "      <td>A</td>\n",
       "      <td>507</td>\n",
       "    </tr>\n",
       "    <tr>\n",
       "      <th>3</th>\n",
       "      <td>2019-08-04</td>\n",
       "      <td>A</td>\n",
       "      <td>717</td>\n",
       "    </tr>\n",
       "    <tr>\n",
       "      <th>4</th>\n",
       "      <td>2019-08-05</td>\n",
       "      <td>A</td>\n",
       "      <td>756</td>\n",
       "    </tr>\n",
       "    <tr>\n",
       "      <th>...</th>\n",
       "      <td>...</td>\n",
       "      <td>...</td>\n",
       "      <td>...</td>\n",
       "    </tr>\n",
       "    <tr>\n",
       "      <th>57</th>\n",
       "      <td>2019-08-27</td>\n",
       "      <td>B</td>\n",
       "      <td>720</td>\n",
       "    </tr>\n",
       "    <tr>\n",
       "      <th>58</th>\n",
       "      <td>2019-08-28</td>\n",
       "      <td>B</td>\n",
       "      <td>654</td>\n",
       "    </tr>\n",
       "    <tr>\n",
       "      <th>59</th>\n",
       "      <td>2019-08-29</td>\n",
       "      <td>B</td>\n",
       "      <td>531</td>\n",
       "    </tr>\n",
       "    <tr>\n",
       "      <th>60</th>\n",
       "      <td>2019-08-30</td>\n",
       "      <td>B</td>\n",
       "      <td>490</td>\n",
       "    </tr>\n",
       "    <tr>\n",
       "      <th>61</th>\n",
       "      <td>2019-08-31</td>\n",
       "      <td>B</td>\n",
       "      <td>718</td>\n",
       "    </tr>\n",
       "  </tbody>\n",
       "</table>\n",
       "<p>62 rows × 3 columns</p>\n",
       "</div>"
      ],
      "text/plain": [
       "         date group  visitors\n",
       "0  2019-08-01     A       719\n",
       "1  2019-08-02     A       619\n",
       "2  2019-08-03     A       507\n",
       "3  2019-08-04     A       717\n",
       "4  2019-08-05     A       756\n",
       "..        ...   ...       ...\n",
       "57 2019-08-27     B       720\n",
       "58 2019-08-28     B       654\n",
       "59 2019-08-29     B       531\n",
       "60 2019-08-30     B       490\n",
       "61 2019-08-31     B       718\n",
       "\n",
       "[62 rows x 3 columns]"
      ]
     },
     "metadata": {},
     "output_type": "display_data"
    },
    {
     "data": {
      "text/plain": [
       "'Oсновная информация о датафрейме visitors'"
      ]
     },
     "metadata": {},
     "output_type": "display_data"
    },
    {
     "name": "stdout",
     "output_type": "stream",
     "text": [
      "<class 'pandas.core.frame.DataFrame'>\n",
      "RangeIndex: 62 entries, 0 to 61\n",
      "Data columns (total 3 columns):\n",
      " #   Column    Non-Null Count  Dtype         \n",
      "---  ------    --------------  -----         \n",
      " 0   date      62 non-null     datetime64[ns]\n",
      " 1   group     62 non-null     object        \n",
      " 2   visitors  62 non-null     int64         \n",
      "dtypes: datetime64[ns](1), int64(1), object(1)\n",
      "memory usage: 1.6+ KB\n"
     ]
    },
    {
     "data": {
      "text/plain": [
       "None"
      ]
     },
     "metadata": {},
     "output_type": "display_data"
    },
    {
     "data": {
      "text/plain": [
       "'Числовое описание данных'"
      ]
     },
     "metadata": {},
     "output_type": "display_data"
    },
    {
     "data": {
      "text/html": [
       "<div>\n",
       "<style scoped>\n",
       "    .dataframe tbody tr th:only-of-type {\n",
       "        vertical-align: middle;\n",
       "    }\n",
       "\n",
       "    .dataframe tbody tr th {\n",
       "        vertical-align: top;\n",
       "    }\n",
       "\n",
       "    .dataframe thead th {\n",
       "        text-align: right;\n",
       "    }\n",
       "</style>\n",
       "<table border=\"1\" class=\"dataframe\">\n",
       "  <thead>\n",
       "    <tr style=\"text-align: right;\">\n",
       "      <th></th>\n",
       "      <th>visitors</th>\n",
       "    </tr>\n",
       "  </thead>\n",
       "  <tbody>\n",
       "    <tr>\n",
       "      <th>count</th>\n",
       "      <td>62.000000</td>\n",
       "    </tr>\n",
       "    <tr>\n",
       "      <th>mean</th>\n",
       "      <td>607.290323</td>\n",
       "    </tr>\n",
       "    <tr>\n",
       "      <th>std</th>\n",
       "      <td>114.400560</td>\n",
       "    </tr>\n",
       "    <tr>\n",
       "      <th>min</th>\n",
       "      <td>361.000000</td>\n",
       "    </tr>\n",
       "    <tr>\n",
       "      <th>25%</th>\n",
       "      <td>534.000000</td>\n",
       "    </tr>\n",
       "    <tr>\n",
       "      <th>50%</th>\n",
       "      <td>624.500000</td>\n",
       "    </tr>\n",
       "    <tr>\n",
       "      <th>75%</th>\n",
       "      <td>710.500000</td>\n",
       "    </tr>\n",
       "    <tr>\n",
       "      <th>max</th>\n",
       "      <td>770.000000</td>\n",
       "    </tr>\n",
       "  </tbody>\n",
       "</table>\n",
       "</div>"
      ],
      "text/plain": [
       "         visitors\n",
       "count   62.000000\n",
       "mean   607.290323\n",
       "std    114.400560\n",
       "min    361.000000\n",
       "25%    534.000000\n",
       "50%    624.500000\n",
       "75%    710.500000\n",
       "max    770.000000"
      ]
     },
     "metadata": {},
     "output_type": "display_data"
    },
    {
     "data": {
      "text/plain": [
       "'Количество пропусков'"
      ]
     },
     "metadata": {},
     "output_type": "display_data"
    },
    {
     "data": {
      "text/plain": [
       "date        0\n",
       "group       0\n",
       "visitors    0\n",
       "dtype: int64"
      ]
     },
     "metadata": {},
     "output_type": "display_data"
    },
    {
     "name": "stdout",
     "output_type": "stream",
     "text": [
      "Количество явных дубликатов 0\n"
     ]
    },
    {
     "data": {
      "text/plain": [
       "'Hаличие неявных дубликатов'"
      ]
     },
     "metadata": {},
     "output_type": "display_data"
    },
    {
     "data": {
      "text/plain": [
       "date        group  visitors\n",
       "2019-08-01  A      719         1\n",
       "2019-08-24  A      395         1\n",
       "2019-08-17  B      421         1\n",
       "2019-08-18  A      668         1\n",
       "            B      737         1\n",
       "                              ..\n",
       "2019-08-13  B      769         1\n",
       "2019-08-14  A      735         1\n",
       "            B      746         1\n",
       "2019-08-15  A      628         1\n",
       "2019-08-31  B      718         1\n",
       "Length: 62, dtype: int64"
      ]
     },
     "metadata": {},
     "output_type": "display_data"
    }
   ],
   "source": [
    "display(visitors)\n",
    "display(\"Oсновная информация о датафрейме visitors\")\n",
    "display(visitors.info())\n",
    "display(\"Числовое описание данных\")\n",
    "display(visitors.describe())\n",
    "display(\"Количество пропусков\")\n",
    "display(visitors.isna().sum())\n",
    "print(\"Количество явных дубликатов\", visitors.duplicated().sum())\n",
    "display(\"Hаличие неявных дубликатов\")\n",
    "display(visitors.value_counts())"
   ]
  },
  {
   "cell_type": "markdown",
   "id": "e70f0077",
   "metadata": {},
   "source": [
    "Типы данных во всех колонках соответствуют сохранённым в них значениям. "
   ]
  },
  {
   "cell_type": "code",
   "execution_count": 10,
   "id": "b4108030",
   "metadata": {},
   "outputs": [
    {
     "data": {
      "image/png": "[encoded data removed]",
      "text/plain": [
       "<Figure size 720x360 with 2 Axes>"
      ]
     },
     "metadata": {
      "needs_background": "light"
     },
     "output_type": "display_data"
    }
   ],
   "source": [
    "visitors.hist(figsize=(10, 5), color='b', ec='black') \n",
    "plt.show()"
   ]
  },
  {
   "cell_type": "markdown",
   "id": "dc384f07",
   "metadata": {},
   "source": [
    "Данные корректны, типы данных верны, дубликатов и пропусков нет. "
   ]
  },
  {
   "cell_type": "markdown",
   "id": "93034fec",
   "metadata": {},
   "source": [
    "**Вывод**  \n",
    "В нашем распоряжении три датасета:  \n",
    " \n",
    "Файл /datasets/hypothesis.csv.    \n",
    "Hypothesis — краткое описание гипотезы;  \n",
    "Reach — охват пользователей по 10-балльной шкале;  \n",
    "Impact — влияние на пользователей по 10-балльной шкале;  \n",
    "Confidence — уверенность в гипотезе по 10-балльной шкале;  \n",
    "Efforts — затраты ресурсов на проверку гипотезы по 10-балльной шкале. Чем больше значение Efforts, тем дороже проверка гипотезы.  \n",
    "\n",
    "  \n",
    "Файл /datasets/orders.csv.    \n",
    "transactionId — идентификатор заказа;  \n",
    "visitorId — идентификатор пользователя, совершившего заказ;  \n",
    "date — дата, когда был совершён заказ;  \n",
    "revenue — выручка заказа;  \n",
    "group — группа A/B-теста, в которую попал заказ.  \n",
    "\n",
    "Файл /datasets/visitors.csv.  \n",
    "date — дата;  \n",
    "group — группа A/B-теста;  \n",
    "visitors — количество пользователей в указанную дату в указанной группе A/B-теста\n",
    "\n",
    "В названиях столбцов есть расхождения с хорошим стилем. Эти названия были приведены к нижнему регистру, а также заменины пробелы на нижнее подчеркивание.  \n",
    "Типы данных во всех колонках соответствуют сохранённым в них значениям. Столбцы с датой и временем приведены к типу datetime64.  \n",
    "Дубликаты и пропуски отсуствуют. Возможны аномалии в значениях revenue."
   ]
  },
  {
   "cell_type": "markdown",
   "id": "40ca571e",
   "metadata": {},
   "source": [
    "## Часть 1. Приоритизация гипотез.  \n",
    "В файле /datasets/hypothesis.csv 9 гипотез по увеличению выручки интернет-магазина с указанными параметрами Reach, Impact, Confidence, Effort.  \n",
    "\n",
    "*Задача:*  \n",
    "1. Применить фреймворк ICE для приоритизации гипотез. Отсортировать их по убыванию приоритета.  \n",
    "2. Применить фреймворк RICE для приоритизации гипотез. Отсортировать их по убыванию приоритета.  \n",
    "3. Указать, как изменилась приоритизация гипотез при применении RICE вместо ICE. Объяснить, почему так произошло."
   ]
  },
  {
   "cell_type": "markdown",
   "id": "0091e46a",
   "metadata": {},
   "source": [
    "### Применим фреймворк ICE для приоритизации гипотез. Отсортируем их по убыванию приоритета. "
   ]
  },
  {
   "cell_type": "code",
   "execution_count": 11,
   "id": "d053d78d",
   "metadata": {},
   "outputs": [
    {
     "data": {
      "text/html": [
       "<div>\n",
       "<style scoped>\n",
       "    .dataframe tbody tr th:only-of-type {\n",
       "        vertical-align: middle;\n",
       "    }\n",
       "\n",
       "    .dataframe tbody tr th {\n",
       "        vertical-align: top;\n",
       "    }\n",
       "\n",
       "    .dataframe thead th {\n",
       "        text-align: right;\n",
       "    }\n",
       "</style>\n",
       "<table border=\"1\" class=\"dataframe\">\n",
       "  <thead>\n",
       "    <tr style=\"text-align: right;\">\n",
       "      <th></th>\n",
       "      <th>hypothesis</th>\n",
       "      <th>ICE</th>\n",
       "    </tr>\n",
       "  </thead>\n",
       "  <tbody>\n",
       "    <tr>\n",
       "      <th>8</th>\n",
       "      <td>Запустить акцию, дающую скидку на товар в день...</td>\n",
       "      <td>16.20</td>\n",
       "    </tr>\n",
       "    <tr>\n",
       "      <th>0</th>\n",
       "      <td>Добавить два новых канала привлечения трафика,...</td>\n",
       "      <td>13.33</td>\n",
       "    </tr>\n",
       "    <tr>\n",
       "      <th>7</th>\n",
       "      <td>Добавить форму подписки на все основные страни...</td>\n",
       "      <td>11.20</td>\n",
       "    </tr>\n",
       "    <tr>\n",
       "      <th>6</th>\n",
       "      <td>Показать на главной странице баннеры с актуаль...</td>\n",
       "      <td>8.00</td>\n",
       "    </tr>\n",
       "    <tr>\n",
       "      <th>2</th>\n",
       "      <td>Добавить блоки рекомендаций товаров на сайт ин...</td>\n",
       "      <td>7.00</td>\n",
       "    </tr>\n",
       "    <tr>\n",
       "      <th>1</th>\n",
       "      <td>Запустить собственную службу доставки, что сок...</td>\n",
       "      <td>2.00</td>\n",
       "    </tr>\n",
       "    <tr>\n",
       "      <th>5</th>\n",
       "      <td>Добавить страницу отзывов клиентов о магазине,...</td>\n",
       "      <td>1.33</td>\n",
       "    </tr>\n",
       "    <tr>\n",
       "      <th>3</th>\n",
       "      <td>Изменить структура категорий, что увеличит кон...</td>\n",
       "      <td>1.12</td>\n",
       "    </tr>\n",
       "    <tr>\n",
       "      <th>4</th>\n",
       "      <td>Изменить цвет фона главной страницы, чтобы уве...</td>\n",
       "      <td>1.00</td>\n",
       "    </tr>\n",
       "  </tbody>\n",
       "</table>\n",
       "</div>"
      ],
      "text/plain": [
       "                                          hypothesis    ICE\n",
       "8  Запустить акцию, дающую скидку на товар в день...  16.20\n",
       "0  Добавить два новых канала привлечения трафика,...  13.33\n",
       "7  Добавить форму подписки на все основные страни...  11.20\n",
       "6  Показать на главной странице баннеры с актуаль...   8.00\n",
       "2  Добавить блоки рекомендаций товаров на сайт ин...   7.00\n",
       "1  Запустить собственную службу доставки, что сок...   2.00\n",
       "5  Добавить страницу отзывов клиентов о магазине,...   1.33\n",
       "3  Изменить структура категорий, что увеличит кон...   1.12\n",
       "4  Изменить цвет фона главной страницы, чтобы уве...   1.00"
      ]
     },
     "execution_count": 11,
     "metadata": {},
     "output_type": "execute_result"
    }
   ],
   "source": [
    "hypothesis['ICE'] = ((hypothesis['impact'] * hypothesis['confidence']) / hypothesis['efforts']).round(2)\n",
    "hypothesis[['hypothesis', 'ICE']].sort_values(by='ICE', ascending=False)"
   ]
  },
  {
   "cell_type": "markdown",
   "id": "4bae64c9",
   "metadata": {},
   "source": [
    "### Применим фреймворк RICE для приоритизации гипотез. Отсортируем их по убыванию приоритета. "
   ]
  },
  {
   "cell_type": "code",
   "execution_count": 12,
   "id": "520a6abf",
   "metadata": {},
   "outputs": [
    {
     "data": {
      "text/html": [
       "<div>\n",
       "<style scoped>\n",
       "    .dataframe tbody tr th:only-of-type {\n",
       "        vertical-align: middle;\n",
       "    }\n",
       "\n",
       "    .dataframe tbody tr th {\n",
       "        vertical-align: top;\n",
       "    }\n",
       "\n",
       "    .dataframe thead th {\n",
       "        text-align: right;\n",
       "    }\n",
       "</style>\n",
       "<table border=\"1\" class=\"dataframe\">\n",
       "  <thead>\n",
       "    <tr style=\"text-align: right;\">\n",
       "      <th></th>\n",
       "      <th>hypothesis</th>\n",
       "      <th>RICE</th>\n",
       "    </tr>\n",
       "  </thead>\n",
       "  <tbody>\n",
       "    <tr>\n",
       "      <th>7</th>\n",
       "      <td>Добавить форму подписки на все основные страни...</td>\n",
       "      <td>112.0</td>\n",
       "    </tr>\n",
       "    <tr>\n",
       "      <th>2</th>\n",
       "      <td>Добавить блоки рекомендаций товаров на сайт ин...</td>\n",
       "      <td>56.0</td>\n",
       "    </tr>\n",
       "    <tr>\n",
       "      <th>0</th>\n",
       "      <td>Добавить два новых канала привлечения трафика,...</td>\n",
       "      <td>40.0</td>\n",
       "    </tr>\n",
       "    <tr>\n",
       "      <th>6</th>\n",
       "      <td>Показать на главной странице баннеры с актуаль...</td>\n",
       "      <td>40.0</td>\n",
       "    </tr>\n",
       "    <tr>\n",
       "      <th>8</th>\n",
       "      <td>Запустить акцию, дающую скидку на товар в день...</td>\n",
       "      <td>16.2</td>\n",
       "    </tr>\n",
       "    <tr>\n",
       "      <th>3</th>\n",
       "      <td>Изменить структура категорий, что увеличит кон...</td>\n",
       "      <td>9.0</td>\n",
       "    </tr>\n",
       "    <tr>\n",
       "      <th>1</th>\n",
       "      <td>Запустить собственную службу доставки, что сок...</td>\n",
       "      <td>4.0</td>\n",
       "    </tr>\n",
       "    <tr>\n",
       "      <th>5</th>\n",
       "      <td>Добавить страницу отзывов клиентов о магазине,...</td>\n",
       "      <td>4.0</td>\n",
       "    </tr>\n",
       "    <tr>\n",
       "      <th>4</th>\n",
       "      <td>Изменить цвет фона главной страницы, чтобы уве...</td>\n",
       "      <td>3.0</td>\n",
       "    </tr>\n",
       "  </tbody>\n",
       "</table>\n",
       "</div>"
      ],
      "text/plain": [
       "                                          hypothesis   RICE\n",
       "7  Добавить форму подписки на все основные страни...  112.0\n",
       "2  Добавить блоки рекомендаций товаров на сайт ин...   56.0\n",
       "0  Добавить два новых канала привлечения трафика,...   40.0\n",
       "6  Показать на главной странице баннеры с актуаль...   40.0\n",
       "8  Запустить акцию, дающую скидку на товар в день...   16.2\n",
       "3  Изменить структура категорий, что увеличит кон...    9.0\n",
       "1  Запустить собственную службу доставки, что сок...    4.0\n",
       "5  Добавить страницу отзывов клиентов о магазине,...    4.0\n",
       "4  Изменить цвет фона главной страницы, чтобы уве...    3.0"
      ]
     },
     "execution_count": 12,
     "metadata": {},
     "output_type": "execute_result"
    }
   ],
   "source": [
    "hypothesis['RICE'] = ((hypothesis['impact'] * hypothesis['confidence'] * hypothesis['reach']) / hypothesis['efforts']).round(2)\n",
    "hypothesis[['hypothesis', 'RICE']].sort_values(by='RICE', ascending=False)"
   ]
  },
  {
   "cell_type": "markdown",
   "id": "6b65d173",
   "metadata": {},
   "source": [
    "### Как изменилась приоритизация гипотез при применении RICE вместо ICE. Объяснить, почему так произошло."
   ]
  },
  {
   "cell_type": "markdown",
   "id": "acdca06e",
   "metadata": {},
   "source": [
    "ТОП-3 гипотезы по оценке ICE под номерами 8, 0, 7.  \n",
    "ТОП-3 гипотезы по оценке RICE под номерами 7, 2, 0. В фреймворке RICE учитывается параметр reach, отвечающий за охват пользователей по 10-балльной шкале. Найдем наибольшее значение этого параметра."
   ]
  },
  {
   "cell_type": "code",
   "execution_count": 13,
   "id": "8ff8d6da",
   "metadata": {},
   "outputs": [
    {
     "data": {
      "text/plain": [
       "7    10\n",
       "2     8\n",
       "3     8\n",
       "6     5\n",
       "0     3\n",
       "4     3\n",
       "5     3\n",
       "1     2\n",
       "8     1\n",
       "Name: reach, dtype: int64"
      ]
     },
     "metadata": {},
     "output_type": "display_data"
    }
   ],
   "source": [
    "display(hypothesis['reach'].sort_values(ascending=False))"
   ]
  },
  {
   "cell_type": "markdown",
   "id": "e87910bf",
   "metadata": {},
   "source": [
    "**Вывод**  \n",
    "Гипотеза под номером 8 имеет минимальный охват. Несмотря на то, что гипотеза под номером 8 лидирует по результатам оценки ICE, тестировать её нецелесообразно.  \n",
    "Гипотеза под номером 0 также имеет низкий охват. Её также тестировать нецелесообразно.  \n",
    "Гипотезу под номером 7 однозначно рекомендую отправить на тестирование. По оценке ICE она занимает 3 место, по оценке RICE 1 место и имеет максимальный охват.  \n",
    "Гипотеза под номером 2 имеет хороший охват, занимает по оценке RICE 2 место, по оценке ICE -  5 место. Её также можно предложить отправить на тестирование. "
   ]
  },
  {
   "cell_type": "markdown",
   "id": "6145f5cc",
   "metadata": {},
   "source": [
    "## Часть 2. Анализ A/B-теста\n",
    "Мы провели A/B-тест и получили результаты, которые описаны в файлах /datasets/orders.csv и /datasets/visitors.csv.  \n",
    "\n",
    "*Задача*  \n",
    "Необходимо проанализировать A/B-тест:  \n",
    "1. Построить график кумулятивной выручки по группам. Сделать выводы и предположения.  \n",
    "2. Построить график кумулятивного среднего чека по группам. Сделать выводы и предположения.  \n",
    "3. Построить график относительного изменения кумулятивного среднего чека группы B к группе A. Сделать выводы и предположения.  \n",
    "4. Построить график кумулятивного среднего количества заказов на посетителя по группам. Сделать выводы и предположения.  \n",
    "5. Построить график относительного изменения кумулятивного среднего количества заказов на посетителя группы B к группе A. Сделать выводы и предположения.  \n",
    "6. Построить точечный график количества заказов по пользователям. Сделать выводы и предположения.  \n",
    "7. Посчитать 95-й и 99-й перцентили количества заказов на пользователя. Выбрать границу для определения аномальных пользователей.  \n",
    "8. Построить точечный график стоимостей заказов. Сделать выводы и предположения.  \n",
    "9. Посчитать 95-й и 99-й перцентили стоимости заказов. Выбрать границу для определения аномальных заказов.  \n",
    "10. Посчитать статистическую значимость различий в среднем количестве заказов на посетителя между группами по «сырым» данным. Сделать выводы и предположения.  \n",
    "11. Посчитать статистическую значимость различий в среднем чеке заказа между группами по «сырым» данным. Сделать выводы и предположения.  \n",
    "12. Посчитать статистическую значимость различий в среднем количестве заказов на посетителя между группами по «очищенным» данным. Сделать выводы и предположения.  \n",
    "13. Посчитать статистическую значимость различий в среднем чеке заказа между группами по «очищенным» данным. Сделать выводы и предположения.  \n",
    "14. Принять решение по результатам теста и объясните его. Варианты решений:  \n",
    "  1. Остановить тест, зафиксировать победу одной из групп.  \n",
    "  2. Остановить тест, зафиксировать отсутствие различий между группами.  \n",
    "  3. Продолжить тест."
   ]
  },
  {
   "cell_type": "markdown",
   "id": "272b5daf",
   "metadata": {},
   "source": [
    "Найдем количество пользователей в указанную дату и количество заказов в каждой группе."
   ]
  },
  {
   "cell_type": "code",
   "execution_count": 14,
   "id": "f6fbd43e",
   "metadata": {},
   "outputs": [
    {
     "name": "stdout",
     "output_type": "stream",
     "text": [
      "  group  visitors\n",
      "0     A     18736\n",
      "1     B     18916\n"
     ]
    }
   ],
   "source": [
    "# Количество пользователей в указанную дату\n",
    "visitors_new = (\n",
    "    visitors.groupby('group', as_index=False)\n",
    "    .agg({'visitors': 'sum'})\n",
    ")\n",
    "\n",
    "print(visitors_new)"
   ]
  },
  {
   "cell_type": "code",
   "execution_count": 15,
   "id": "90ecff3f",
   "metadata": {},
   "outputs": [
    {
     "data": {
      "text/plain": [
       "180"
      ]
     },
     "execution_count": 15,
     "metadata": {},
     "output_type": "execute_result"
    }
   ],
   "source": [
    "# разница между количеством пользователей в группе А и в группе В\n",
    "abs(visitors.query('group == \"A\"')['visitors'].sum() - visitors.query('group == \"B\"')['visitors'].sum())"
   ]
  },
  {
   "cell_type": "code",
   "execution_count": 16,
   "id": "5dc99fe4",
   "metadata": {},
   "outputs": [
    {
     "name": "stdout",
     "output_type": "stream",
     "text": [
      "  group  visitor_id\n",
      "0     A         557\n",
      "1     B         640\n"
     ]
    }
   ],
   "source": [
    "# Количество заказов\n",
    "orders_new = (\n",
    "    orders.groupby('group', as_index=False)\n",
    "    .agg({'visitor_id': 'count'})\n",
    ")\n",
    "\n",
    "print(orders_new)"
   ]
  },
  {
   "cell_type": "code",
   "execution_count": 17,
   "id": "10292e0c",
   "metadata": {},
   "outputs": [
    {
     "name": "stdout",
     "output_type": "stream",
     "text": [
      "  group  visitor_id ordersToVisitorsRatio\n",
      "0     A         557                 0.030\n",
      "1     B         640                 0.034\n"
     ]
    }
   ],
   "source": [
    "# отношение числа заказов к количеству пользователей в каждой группе\n",
    "orders_new['ordersToVisitorsRatio'] = (\n",
    "    orders_new['visitor_id'] / visitors_new['visitors']\n",
    ").map(lambda x: \"{0:.3f}\".format(x))\n",
    "print(orders_new)"
   ]
  },
  {
   "cell_type": "code",
   "execution_count": 18,
   "id": "74bf4e6c",
   "metadata": {},
   "outputs": [
    {
     "data": {
      "text/plain": [
       "58"
      ]
     },
     "execution_count": 18,
     "metadata": {},
     "output_type": "execute_result"
    }
   ],
   "source": [
    "# количество пользователей, которые попали в обе группы \n",
    "orders.loc[orders['visitor_id'].isin(orders[orders['group'] == 'A']['visitor_id']) & \n",
    "           orders['visitor_id'].isin(orders[orders['group'] == 'B']['visitor_id']), 'visitor_id'].nunique()"
   ]
  },
  {
   "cell_type": "markdown",
   "id": "cc9c69ae",
   "metadata": {},
   "source": [
    "58 пользователей попало в обе группы. Удалим их."
   ]
  },
  {
   "cell_type": "code",
   "execution_count": 19,
   "id": "0992a1e2",
   "metadata": {},
   "outputs": [],
   "source": [
    "# создадим таблицу, из которой возьмем дубли group\n",
    "doubles_orders = orders.groupby(['visitor_id']).agg({'group' : 'nunique', 'transaction_id' : 'count'}).reset_index()"
   ]
  },
  {
   "cell_type": "code",
   "execution_count": 20,
   "id": "d760f644",
   "metadata": {},
   "outputs": [],
   "source": [
    "# исключим пользователей, которые попали в обе группы \n",
    "doubles_list = list(doubles_orders[doubles_orders.group > 1]['visitor_id'])\n",
    "orders = orders.query('visitor_id not in @doubles_list')"
   ]
  },
  {
   "cell_type": "code",
   "execution_count": 21,
   "id": "dc20fb85",
   "metadata": {},
   "outputs": [
    {
     "name": "stdout",
     "output_type": "stream",
     "text": [
      "Количество заказов в группе А: 468\n",
      "Количество заказов в группе B: 548\n"
     ]
    }
   ],
   "source": [
    "print ('Количество заказов в группе А:', orders.query('group == \"A\"').shape[0])\n",
    "print ('Количество заказов в группе B:', orders.query('group == \"B\"').shape[0])"
   ]
  },
  {
   "cell_type": "markdown",
   "id": "7e42f699",
   "metadata": {},
   "source": [
    "### Построим график кумулятивной выручки по группам. Сделаем выводы и предположения."
   ]
  },
  {
   "cell_type": "markdown",
   "id": "e3eb612b",
   "metadata": {},
   "source": [
    "Oбъединяем кумулятивные данные в одной таблице"
   ]
  },
  {
   "cell_type": "code",
   "execution_count": 22,
   "id": "c180a792",
   "metadata": {},
   "outputs": [
    {
     "name": "stdout",
     "output_type": "stream",
     "text": [
      "        date group  orders  buyers  revenue  visitors\n",
      "0 2019-08-01     A      23      19   142779       719\n",
      "1 2019-08-01     B      17      17    59758       713\n",
      "2 2019-08-02     A      42      36   234381      1338\n",
      "3 2019-08-02     B      40      39   221801      1294\n",
      "4 2019-08-03     A      66      60   346854      1845\n"
     ]
    }
   ],
   "source": [
    "# создаем массив уникальных пар значений дат и групп теста\n",
    "datesGroups = orders[['date','group']].drop_duplicates()\n",
    "\n",
    "# получаем агрегированные кумулятивные по дням данные о заказах \n",
    "ordersAggregated = datesGroups.apply(lambda x: orders[np.logical_and(orders['date'] <= x['date'], orders['group'] == x['group'])].\n",
    "                                     agg({'date' : 'max', \n",
    "                                          'group' : 'max', \n",
    "                                          'transaction_id' : 'nunique', \n",
    "                                          'visitor_id' : 'nunique', \n",
    "                                          'revenue' : 'sum'}), axis=1).sort_values(by=['date','group'])\n",
    "\n",
    "# получаем агрегированные кумулятивные по дням данные о посетителях интернет-магазина \n",
    "visitorsAggregated = datesGroups.apply(lambda x: visitors[np.logical_and(visitors['date'] <= x['date'], visitors['group'] == x['group'])].\n",
    "                                       agg({'date' : 'max', \n",
    "                                            'group' : 'max', \n",
    "                                            'visitors' : 'sum'}), axis=1).sort_values(by=['date','group'])\n",
    "\n",
    "# объединяем кумулятивные данные в одной таблице и присваиваем ее столбцам понятные названия\n",
    "cumulativeData = ordersAggregated.merge(visitorsAggregated, left_on=['date', 'group'], right_on=['date', 'group'])\n",
    "cumulativeData.columns = ['date', 'group', 'orders', 'buyers', 'revenue', 'visitors']\n",
    "\n",
    "print(cumulativeData.head(5))"
   ]
  },
  {
   "cell_type": "markdown",
   "id": "6dd5a349",
   "metadata": {},
   "source": [
    "Построим графики кумулятивной выручки по дням и группам A/B-тестирования: "
   ]
  },
  {
   "cell_type": "code",
   "execution_count": 23,
   "id": "a5a0ab57",
   "metadata": {},
   "outputs": [
    {
     "data": {
      "image/png": "[encoded data removed]",
      "text/plain": [
       "<Figure size 1440x576 with 1 Axes>"
      ]
     },
     "metadata": {
      "needs_background": "light"
     },
     "output_type": "display_data"
    }
   ],
   "source": [
    "# датафрейм с кумулятивным количеством заказов и кумулятивной выручкой по дням в группе А\n",
    "cumulativeRevenueA = cumulativeData[cumulativeData['group']=='A'][['date','revenue', 'orders']]\n",
    "\n",
    "# датафрейм с кумулятивным количеством заказов и кумулятивной выручкой по дням в группе B\n",
    "cumulativeRevenueB = cumulativeData[cumulativeData['group']=='B'][['date','revenue', 'orders']]\n",
    "\n",
    "plt.figure(figsize=(20, 8))\n",
    "# Строим график выручки группы А\n",
    "plt.plot(cumulativeRevenueA['date'], cumulativeRevenueA['revenue'], label='Выручка группы A')\n",
    "\n",
    "# Строим график выручки группы B\n",
    "plt.plot(cumulativeRevenueB['date'], cumulativeRevenueB['revenue'], label='Выручка группы B')\n",
    "\n",
    "plt.grid()\n",
    "plt.title('Графики кумулятивной выручки по дням и группам A/B-тестирования')\n",
    "plt.legend(loc='upper right')\n",
    "plt.show()"
   ]
  },
  {
   "cell_type": "markdown",
   "id": "6bc17e67",
   "metadata": {},
   "source": [
    "Выручка почти равномерно увеличивается и стала равной 13.08.2019г. Затем выручка группы В стала значительно больше. Однако график выручки группы В в короткий период резко вырос. Это может сигнализировать о всплесках числа заказов, либо о появлении очень дорогих заказов в выборке. Рассмотрим период с 17.08.2019 по 21.08.2019 для графика В. "
   ]
  },
  {
   "cell_type": "code",
   "execution_count": 24,
   "id": "3950eb6d",
   "metadata": {},
   "outputs": [
    {
     "data": {
      "text/html": [
       "<div>\n",
       "<style scoped>\n",
       "    .dataframe tbody tr th:only-of-type {\n",
       "        vertical-align: middle;\n",
       "    }\n",
       "\n",
       "    .dataframe tbody tr th {\n",
       "        vertical-align: top;\n",
       "    }\n",
       "\n",
       "    .dataframe thead th {\n",
       "        text-align: right;\n",
       "    }\n",
       "</style>\n",
       "<table border=\"1\" class=\"dataframe\">\n",
       "  <thead>\n",
       "    <tr style=\"text-align: right;\">\n",
       "      <th></th>\n",
       "      <th>transaction_id</th>\n",
       "      <th>visitor_id</th>\n",
       "      <th>date</th>\n",
       "      <th>revenue</th>\n",
       "      <th>group</th>\n",
       "    </tr>\n",
       "  </thead>\n",
       "  <tbody>\n",
       "    <tr>\n",
       "      <th>425</th>\n",
       "      <td>590470918</td>\n",
       "      <td>1920142716</td>\n",
       "      <td>2019-08-19</td>\n",
       "      <td>1294500</td>\n",
       "      <td>B</td>\n",
       "    </tr>\n",
       "    <tr>\n",
       "      <th>530</th>\n",
       "      <td>3970235543</td>\n",
       "      <td>2912540959</td>\n",
       "      <td>2019-08-19</td>\n",
       "      <td>43990</td>\n",
       "      <td>A</td>\n",
       "    </tr>\n",
       "    <tr>\n",
       "      <th>751</th>\n",
       "      <td>348143148</td>\n",
       "      <td>689129267</td>\n",
       "      <td>2019-08-20</td>\n",
       "      <td>37150</td>\n",
       "      <td>B</td>\n",
       "    </tr>\n",
       "    <tr>\n",
       "      <th>527</th>\n",
       "      <td>1570513684</td>\n",
       "      <td>2837914161</td>\n",
       "      <td>2019-08-19</td>\n",
       "      <td>33405</td>\n",
       "      <td>B</td>\n",
       "    </tr>\n",
       "    <tr>\n",
       "      <th>421</th>\n",
       "      <td>3765974140</td>\n",
       "      <td>1357170471</td>\n",
       "      <td>2019-08-19</td>\n",
       "      <td>31680</td>\n",
       "      <td>A</td>\n",
       "    </tr>\n",
       "  </tbody>\n",
       "</table>\n",
       "</div>"
      ],
      "text/plain": [
       "     transaction_id  visitor_id       date  revenue group\n",
       "425       590470918  1920142716 2019-08-19  1294500     B\n",
       "530      3970235543  2912540959 2019-08-19    43990     A\n",
       "751       348143148   689129267 2019-08-20    37150     B\n",
       "527      1570513684  2837914161 2019-08-19    33405     B\n",
       "421      3765974140  1357170471 2019-08-19    31680     A"
      ]
     },
     "execution_count": 24,
     "metadata": {},
     "output_type": "execute_result"
    }
   ],
   "source": [
    "orders.query('\"2019-08-17\" < date < \"2019-08-21\"').sort_values(by='revenue', ascending=False).head()"
   ]
  },
  {
   "cell_type": "code",
   "execution_count": 25,
   "id": "152594b3",
   "metadata": {},
   "outputs": [
    {
     "name": "stdout",
     "output_type": "stream",
     "text": [
      "Стоимость средней покупки в период с 17.08.2019 по 21.08.2019 составляет:  2578.0\n"
     ]
    }
   ],
   "source": [
    "print('Стоимость средней покупки в период с 17.08.2019 по 21.08.2019 составляет: ', orders\n",
    "      .query('\"2019-08-17\" < date < \"2019-08-21\"')['revenue'].median().round(2))"
   ]
  },
  {
   "cell_type": "markdown",
   "id": "b75eb4b2",
   "metadata": {},
   "source": [
    "19.08.2019г. была одна крупная покупка на сумму 1294500 руб., что гораздо выше средней покупки в период с 17.08.2019 по 21.08.2019. Проверим на боксплоте является ли эта покупка выбросом. "
   ]
  },
  {
   "cell_type": "code",
   "execution_count": 26,
   "id": "4c029ad0",
   "metadata": {},
   "outputs": [
    {
     "data": {
      "image/png": "[encoded data removed]",
      "text/plain": [
       "<Figure size 720x720 with 1 Axes>"
      ]
     },
     "metadata": {
      "needs_background": "light"
     },
     "output_type": "display_data"
    }
   ],
   "source": [
    "plt.figure(figsize=(10, 10))\n",
    "sns.boxplot(x='date', y='revenue', data=orders.query('\"2019-08-17\" < date < \"2019-08-21\"')\n",
    "            .sort_values(by='revenue', ascending=False))\n",
    "plt.title('Выручка за период с 17.08.2019 по 21.08.2019')\n",
    "plt.xlabel('Дата')\n",
    "plt.ylabel('Выручка')\n",
    "plt.show()"
   ]
  },
  {
   "cell_type": "markdown",
   "id": "bfc671e2",
   "metadata": {},
   "source": [
    "Данное значение предположительно является выбросом. "
   ]
  },
  {
   "cell_type": "markdown",
   "id": "f5135f03",
   "metadata": {},
   "source": [
    "### Построим график кумулятивного среднего чека по группам. Сделаем выводы и предположения."
   ]
  },
  {
   "cell_type": "markdown",
   "id": "0d144de4",
   "metadata": {},
   "source": [
    "Построим графики среднего чека по группам — разделим кумулятивную выручку на кумулятивное число заказов:"
   ]
  },
  {
   "cell_type": "code",
   "execution_count": 27,
   "id": "31956b9f",
   "metadata": {},
   "outputs": [
    {
     "data": {
      "image/png": "[encoded data removed]",
      "text/plain": [
       "<Figure size 1440x576 with 1 Axes>"
      ]
     },
     "metadata": {
      "needs_background": "light"
     },
     "output_type": "display_data"
    }
   ],
   "source": [
    "plt.figure(figsize=(20, 8))\n",
    "plt.plot(cumulativeRevenueA['date'], cumulativeRevenueA['revenue']/cumulativeRevenueA['orders'], label='Кумулятивный средний чек группы A')\n",
    "plt.plot(cumulativeRevenueB['date'], cumulativeRevenueB['revenue']/cumulativeRevenueB['orders'], label='Кумулятивный средний чек группы B')\n",
    "plt.title('Графики среднего чека по группам')\n",
    "plt.grid()\n",
    "plt.legend(loc='upper right')\n",
    "plt.show()"
   ]
  },
  {
   "cell_type": "markdown",
   "id": "6809f8d8",
   "metadata": {},
   "source": [
    "Кумулятивный средний чек группы B практически всегда выше, чем у группы А. Исключением являются два периода: с 01.08.2019 по 03.08.2019 и с 11.08.2019 по 15.08.2019. Также на графике группы В заметен вброс от 19.08.2019 года. "
   ]
  },
  {
   "cell_type": "markdown",
   "id": "da1165cb",
   "metadata": {},
   "source": [
    "### Построим график относительного изменения кумулятивного среднего чека группы B к группе A. Сделаем выводы и предположения."
   ]
  },
  {
   "cell_type": "markdown",
   "id": "f0897d04",
   "metadata": {},
   "source": [
    "Построим график относительного различия для среднего чека. Добавим горизонтальную ось методом axhline():"
   ]
  },
  {
   "cell_type": "code",
   "execution_count": 28,
   "id": "4160fbed",
   "metadata": {},
   "outputs": [
    {
     "data": {
      "image/png": "[encoded data removed]",
      "text/plain": [
       "<Figure size 1440x576 with 1 Axes>"
      ]
     },
     "metadata": {
      "needs_background": "light"
     },
     "output_type": "display_data"
    }
   ],
   "source": [
    "plt.figure(figsize=(20, 8))\n",
    "\n",
    "# собираем данные в одном датафрейме\n",
    "mergedCumulativeRevenue = cumulativeRevenueA.merge(cumulativeRevenueB, left_on='date', right_on='date', how='left', suffixes=['A', 'B'])\n",
    "\n",
    "# cтроим отношение средних чеков\n",
    "plt.plot(mergedCumulativeRevenue['date'], (mergedCumulativeRevenue['revenueB']/mergedCumulativeRevenue['ordersB'])/(mergedCumulativeRevenue['revenueA']/mergedCumulativeRevenue['ordersA'])-1)\n",
    "\n",
    "# добавляем ось X\n",
    "plt.axhline(y=0, color='black', linestyle='--')\n",
    "plt.title('График относительного изменения кумулятивного среднего чека группы B к группе A')\n",
    "plt.grid()\n",
    "plt.show()"
   ]
  },
  {
   "cell_type": "markdown",
   "id": "4dc604dc",
   "metadata": {},
   "source": [
    "По графику можно отметить периоды роста кумулятивного среднего чека группы B к группе A: с 02.08.2019 по 12.08.2019 и с 15.08.2019 по 31.08.2019. А также периоды периоды снижения: с 01.08.2019 по 02.08.2019 и с 12.08.2019 по 15.08.2019. "
   ]
  },
  {
   "cell_type": "markdown",
   "id": "a0d89d67",
   "metadata": {},
   "source": [
    "### Построим график кумулятивного среднего количества заказов на посетителя по группам. Сделаем выводы и предположения."
   ]
  },
  {
   "cell_type": "markdown",
   "id": "b4efcd75",
   "metadata": {},
   "source": [
    "Аналогично проанализируем график кумулятивного среднего количества заказов на посетителя по группам. "
   ]
  },
  {
   "cell_type": "code",
   "execution_count": 29,
   "id": "2f512365",
   "metadata": {},
   "outputs": [
    {
     "data": {
      "image/png": "[encoded data removed]",
      "text/plain": [
       "<Figure size 1440x576 with 1 Axes>"
      ]
     },
     "metadata": {
      "needs_background": "light"
     },
     "output_type": "display_data"
    }
   ],
   "source": [
    "# считаем среднее количество заказов на посетителя\n",
    "cumulativeData['conversion'] = cumulativeData['orders']/cumulativeData['visitors']\n",
    "\n",
    "# отделяем данные по группе A\n",
    "cumulativeDataA = cumulativeData[cumulativeData['group']=='A']\n",
    "\n",
    "# отделяем данные по группе B\n",
    "cumulativeDataB = cumulativeData[cumulativeData['group']=='B']\n",
    "\n",
    "# строим графики\n",
    "plt.figure(figsize=(20, 8))\n",
    "plt.plot(cumulativeDataA['date'], cumulativeDataA['conversion'], label='Кумулятивное среднее количество заказов на посетителя группы A')\n",
    "plt.plot(cumulativeDataB['date'], cumulativeDataB['conversion'], label='Кумулятивное среднее количество заказов на посетителя группы B')\n",
    "plt.legend()\n",
    "plt.title('График кумулятивного среднего количества заказов на посетителя по группам')\n",
    "plt.grid()\n",
    "plt.show()"
   ]
  },
  {
   "cell_type": "markdown",
   "id": "8b820b24",
   "metadata": {},
   "source": [
    "В период с 01.08.2019 по 06.08.2019 кумулятивное среднее количество заказов на посетителя группы A выше группы В. Затем с 06.08.2019 по 31.08.2019 наоборот кумулятивное среднее количество заказов на посетителя группы В стало значительно выше группы А. Графики в этот период практически симметричны. "
   ]
  },
  {
   "cell_type": "markdown",
   "id": "aafcfa74",
   "metadata": {},
   "source": [
    "### Построим график относительного изменения кумулятивного среднего количества заказов на посетителя группы B к группе A. Сделаем выводы и предположения. "
   ]
  },
  {
   "cell_type": "markdown",
   "id": "308df856",
   "metadata": {},
   "source": [
    "Построим график изменения кумулятивного среднего количества заказов на посетителя группы B к группе A:"
   ]
  },
  {
   "cell_type": "code",
   "execution_count": 30,
   "id": "1b88b128",
   "metadata": {},
   "outputs": [
    {
     "data": {
      "image/png": "[encoded data removed]",
      "text/plain": [
       "<Figure size 1440x576 with 1 Axes>"
      ]
     },
     "metadata": {
      "needs_background": "light"
     },
     "output_type": "display_data"
    }
   ],
   "source": [
    "mergedCumulativeConversions = cumulativeDataA[['date','conversion']].merge(cumulativeDataB[['date','conversion']], \n",
    "                                                                           left_on='date', right_on='date', how='left', suffixes=['A', 'B'])\n",
    "\n",
    "plt.figure(figsize=(20, 8))\n",
    "plt.plot(mergedCumulativeConversions['date'], mergedCumulativeConversions['conversionB']/\n",
    "         mergedCumulativeConversions['conversionA']-1, label=\"Относительный прирост кумулятивного среднего количества заказов на посетителя группы B относительно группы A\")\n",
    "plt.legend()\n",
    "\n",
    "plt.axhline(y=0, color='black', linestyle='--')\n",
    "plt.axhline(y=-0.1, color='grey', linestyle='--')\n",
    "\n",
    "plt.legend(loc='upper right')\n",
    "plt.title('График изменения кумулятивного среднего количества заказов на посетителя группы B к группе A')\n",
    "plt.grid()\n",
    "plt.show()"
   ]
  },
  {
   "cell_type": "markdown",
   "id": "4bc53b12",
   "metadata": {},
   "source": [
    "Относительный прирост кумулятивного среднего количества заказов на посетителя группы B относительно группы A первоначально составлял около 5-10%. После 06.08.2019 график стал расти и принял свой максимум 15.08.2019, что составило около 21%. Затем происходит постепенно снижение и прирост на период 06.08.2019 по 31.08.2019 составил около 10-15%."
   ]
  },
  {
   "cell_type": "markdown",
   "id": "7bb23fb2",
   "metadata": {},
   "source": [
    "### Построим точечный график количества заказов по пользователям. Сделаем выводы и предположения."
   ]
  },
  {
   "cell_type": "code",
   "execution_count": 31,
   "id": "b5812264",
   "metadata": {},
   "outputs": [
    {
     "data": {
      "text/html": [
       "<div>\n",
       "<style scoped>\n",
       "    .dataframe tbody tr th:only-of-type {\n",
       "        vertical-align: middle;\n",
       "    }\n",
       "\n",
       "    .dataframe tbody tr th {\n",
       "        vertical-align: top;\n",
       "    }\n",
       "\n",
       "    .dataframe thead th {\n",
       "        text-align: right;\n",
       "    }\n",
       "</style>\n",
       "<table border=\"1\" class=\"dataframe\">\n",
       "  <thead>\n",
       "    <tr style=\"text-align: right;\">\n",
       "      <th></th>\n",
       "      <th>transaction_id</th>\n",
       "      <th>visitor_id</th>\n",
       "      <th>date</th>\n",
       "      <th>revenue</th>\n",
       "      <th>group</th>\n",
       "    </tr>\n",
       "  </thead>\n",
       "  <tbody>\n",
       "    <tr>\n",
       "      <th>0</th>\n",
       "      <td>3667963787</td>\n",
       "      <td>3312258926</td>\n",
       "      <td>2019-08-15</td>\n",
       "      <td>1650</td>\n",
       "      <td>B</td>\n",
       "    </tr>\n",
       "    <tr>\n",
       "      <th>1</th>\n",
       "      <td>2804400009</td>\n",
       "      <td>3642806036</td>\n",
       "      <td>2019-08-15</td>\n",
       "      <td>730</td>\n",
       "      <td>B</td>\n",
       "    </tr>\n",
       "    <tr>\n",
       "      <th>3</th>\n",
       "      <td>3797467345</td>\n",
       "      <td>1196621759</td>\n",
       "      <td>2019-08-15</td>\n",
       "      <td>9759</td>\n",
       "      <td>B</td>\n",
       "    </tr>\n",
       "    <tr>\n",
       "      <th>4</th>\n",
       "      <td>2282983706</td>\n",
       "      <td>2322279887</td>\n",
       "      <td>2019-08-15</td>\n",
       "      <td>2308</td>\n",
       "      <td>B</td>\n",
       "    </tr>\n",
       "    <tr>\n",
       "      <th>5</th>\n",
       "      <td>182168103</td>\n",
       "      <td>935554773</td>\n",
       "      <td>2019-08-15</td>\n",
       "      <td>2210</td>\n",
       "      <td>B</td>\n",
       "    </tr>\n",
       "    <tr>\n",
       "      <th>...</th>\n",
       "      <td>...</td>\n",
       "      <td>...</td>\n",
       "      <td>...</td>\n",
       "      <td>...</td>\n",
       "      <td>...</td>\n",
       "    </tr>\n",
       "    <tr>\n",
       "      <th>1191</th>\n",
       "      <td>3592955527</td>\n",
       "      <td>608641596</td>\n",
       "      <td>2019-08-14</td>\n",
       "      <td>16490</td>\n",
       "      <td>B</td>\n",
       "    </tr>\n",
       "    <tr>\n",
       "      <th>1192</th>\n",
       "      <td>2662137336</td>\n",
       "      <td>3733762160</td>\n",
       "      <td>2019-08-14</td>\n",
       "      <td>6490</td>\n",
       "      <td>B</td>\n",
       "    </tr>\n",
       "    <tr>\n",
       "      <th>1193</th>\n",
       "      <td>2203539145</td>\n",
       "      <td>370388673</td>\n",
       "      <td>2019-08-14</td>\n",
       "      <td>3190</td>\n",
       "      <td>A</td>\n",
       "    </tr>\n",
       "    <tr>\n",
       "      <th>1194</th>\n",
       "      <td>1807773912</td>\n",
       "      <td>573423106</td>\n",
       "      <td>2019-08-14</td>\n",
       "      <td>10550</td>\n",
       "      <td>A</td>\n",
       "    </tr>\n",
       "    <tr>\n",
       "      <th>1196</th>\n",
       "      <td>3936777065</td>\n",
       "      <td>2108080724</td>\n",
       "      <td>2019-08-15</td>\n",
       "      <td>202740</td>\n",
       "      <td>B</td>\n",
       "    </tr>\n",
       "  </tbody>\n",
       "</table>\n",
       "<p>1016 rows × 5 columns</p>\n",
       "</div>"
      ],
      "text/plain": [
       "      transaction_id  visitor_id       date  revenue group\n",
       "0         3667963787  3312258926 2019-08-15     1650     B\n",
       "1         2804400009  3642806036 2019-08-15      730     B\n",
       "3         3797467345  1196621759 2019-08-15     9759     B\n",
       "4         2282983706  2322279887 2019-08-15     2308     B\n",
       "5          182168103   935554773 2019-08-15     2210     B\n",
       "...              ...         ...        ...      ...   ...\n",
       "1191      3592955527   608641596 2019-08-14    16490     B\n",
       "1192      2662137336  3733762160 2019-08-14     6490     B\n",
       "1193      2203539145   370388673 2019-08-14     3190     A\n",
       "1194      1807773912   573423106 2019-08-14    10550     A\n",
       "1196      3936777065  2108080724 2019-08-15   202740     B\n",
       "\n",
       "[1016 rows x 5 columns]"
      ]
     },
     "execution_count": 31,
     "metadata": {},
     "output_type": "execute_result"
    }
   ],
   "source": [
    "orders"
   ]
  },
  {
   "cell_type": "code",
   "execution_count": 32,
   "id": "fcb6f53a",
   "metadata": {},
   "outputs": [
    {
     "name": "stdout",
     "output_type": "stream",
     "text": [
      "        user_id  orders\n",
      "908  3967698036       3\n",
      "55    249864742       3\n",
      "478  2108163459       3\n",
      "687  2988190573       3\n",
      "890  3908431265       3\n",
      "138   611059232       3\n",
      "632  2742574263       3\n",
      "157   678354126       2\n",
      "323  1404560065       2\n",
      "452  1985475298       2\n"
     ]
    }
   ],
   "source": [
    "ordersByUsers = (\n",
    "    orders.groupby('visitor_id', as_index=False)\n",
    "    .agg({'transaction_id': 'nunique'})\n",
    ")\n",
    "\n",
    "ordersByUsers.columns = ['user_id', 'orders']\n",
    "\n",
    "print(ordersByUsers.sort_values(by='orders', ascending=False).head(10))"
   ]
  },
  {
   "cell_type": "code",
   "execution_count": 33,
   "id": "38cc4949",
   "metadata": {},
   "outputs": [
    {
     "data": {
      "image/png": "[encoded data removed]",
      "text/plain": [
       "<Figure size 1440x576 with 1 Axes>"
      ]
     },
     "metadata": {
      "needs_background": "light"
     },
     "output_type": "display_data"
    }
   ],
   "source": [
    "x_values = pd.Series(range(0,len(ordersByUsers)))\n",
    "plt.figure(figsize=(20, 8))\n",
    "plt.scatter(x_values, ordersByUsers['orders'])\n",
    "plt.title('Точечный график количества заказов по пользователям')\n",
    "plt.grid()\n",
    "plt.show()"
   ]
  },
  {
   "cell_type": "markdown",
   "id": "92280e29",
   "metadata": {},
   "source": [
    "В основном пользователи совершали по 1 заказу. Небольшое количество пользователей совершало 2 заказа, еще реже 3 заказа. Большее количество заказов настолько редкое, что их можно считать аномалиями. "
   ]
  },
  {
   "cell_type": "markdown",
   "id": "a644d466",
   "metadata": {},
   "source": [
    "### Посчитаем 95-й и 99-й перцентили количества заказов на пользователя. Выберем границу для определения аномальных пользователей."
   ]
  },
  {
   "cell_type": "code",
   "execution_count": 34,
   "id": "c99c06d9",
   "metadata": {},
   "outputs": [
    {
     "name": "stdout",
     "output_type": "stream",
     "text": [
      "95-й и 99-й перцентили количества заказов на пользователя составляют:  [1. 2.]\n"
     ]
    }
   ],
   "source": [
    "print('95-й и 99-й перцентили количества заказов на пользователя составляют: ', \n",
    "      np.percentile(ordersByUsers['orders'], [95, 99])) "
   ]
  },
  {
   "cell_type": "markdown",
   "id": "2c1a25cf",
   "metadata": {},
   "source": [
    "Лишь 1% пользователей делает 4 заказа. От 4 заказов и выше будем считать аномалией. "
   ]
  },
  {
   "cell_type": "markdown",
   "id": "fc1fa8b4",
   "metadata": {},
   "source": [
    "### Построим точечный график стоимостей заказов. Сделаем выводы и предположения."
   ]
  },
  {
   "cell_type": "markdown",
   "id": "a3f52bf9",
   "metadata": {},
   "source": [
    "19.08.2019г. была одна крупная покупка на сумму 1294500 руб., являющаяся выбросом. Построим точечный график без нее."
   ]
  },
  {
   "cell_type": "code",
   "execution_count": 35,
   "id": "73f0441a",
   "metadata": {},
   "outputs": [
    {
     "data": {
      "image/png": "[encoded data removed]",
      "text/plain": [
       "<Figure size 1440x576 with 1 Axes>"
      ]
     },
     "metadata": {
      "needs_background": "light"
     },
     "output_type": "display_data"
    }
   ],
   "source": [
    "orders_1 = orders[orders['revenue'] != 1294500]['revenue']\n",
    "x_1_values = pd.Series(range(0,len(orders_1)))\n",
    "plt.figure(figsize=(20, 8))\n",
    "plt.scatter(x_1_values, orders_1)\n",
    "plt.title('Точечный график стоимостей заказов')\n",
    "plt.grid()\n",
    "plt.show()"
   ]
  },
  {
   "cell_type": "markdown",
   "id": "38797504",
   "metadata": {},
   "source": [
    "На графике есть один выброс на 200000 руб. Большая часть заказов не превышает 25000 руб. Для нахождения более точной границы рассчитаем процентили."
   ]
  },
  {
   "cell_type": "markdown",
   "id": "f8a4b1b9",
   "metadata": {},
   "source": [
    "### Посчитаем 95-й и 99-й перцентили стоимости заказов. Выберем границу для определения аномальных заказов."
   ]
  },
  {
   "cell_type": "code",
   "execution_count": 36,
   "id": "9e6f12e7",
   "metadata": {},
   "outputs": [
    {
     "name": "stdout",
     "output_type": "stream",
     "text": [
      "95-й и 99-й перцентили стоимости заказов составляют:  [26785. 53904.]\n"
     ]
    }
   ],
   "source": [
    "print('95-й и 99-й перцентили стоимости заказов составляют: ', \n",
    "      np.percentile(orders['revenue'], [95, 99])) "
   ]
  },
  {
   "cell_type": "markdown",
   "id": "820fe77d",
   "metadata": {},
   "source": [
    "Лишь 1% заказов больше 58233.2 руб. Примем их за аномалии."
   ]
  },
  {
   "cell_type": "markdown",
   "id": "b8b055f5",
   "metadata": {},
   "source": [
    "### Посчитаем статистическую значимость различий в среднем количестве заказов на посетителя между группами по «сырым» данным. Сделаем выводы и предположения.  "
   ]
  },
  {
   "cell_type": "markdown",
   "id": "42e8b8ac",
   "metadata": {},
   "source": [
    "Примем за нулевую гипотезу Н0 утверждение: \"Статистически значимых различий в среднем количестве заказов на посетителя между группами по «сырым» данным нет.\"  \n",
    "Альтернативная гипотеза Н1: \"Статистически значимые различия в среднем количестве заказов на посетителя между группами по «сырым» данным есть.\"  \n",
    "Примем пороговое значение alpha = 0.05"
   ]
  },
  {
   "cell_type": "markdown",
   "id": "ffb2f005",
   "metadata": {},
   "source": [
    "Соберем все необходимые данные в одну таблицу."
   ]
  },
  {
   "cell_type": "code",
   "execution_count": 37,
   "id": "6ae9499a",
   "metadata": {},
   "outputs": [
    {
     "data": {
      "text/html": [
       "<div>\n",
       "<style scoped>\n",
       "    .dataframe tbody tr th:only-of-type {\n",
       "        vertical-align: middle;\n",
       "    }\n",
       "\n",
       "    .dataframe tbody tr th {\n",
       "        vertical-align: top;\n",
       "    }\n",
       "\n",
       "    .dataframe thead th {\n",
       "        text-align: right;\n",
       "    }\n",
       "</style>\n",
       "<table border=\"1\" class=\"dataframe\">\n",
       "  <thead>\n",
       "    <tr style=\"text-align: right;\">\n",
       "      <th></th>\n",
       "      <th>date</th>\n",
       "      <th>ordersPerDateA</th>\n",
       "      <th>revenuePerDateA</th>\n",
       "      <th>ordersPerDateB</th>\n",
       "      <th>revenuePerDateB</th>\n",
       "      <th>ordersCummulativeA</th>\n",
       "      <th>revenueCummulativeA</th>\n",
       "      <th>ordersCummulativeB</th>\n",
       "      <th>revenueCummulativeB</th>\n",
       "      <th>visitorsPerDateA</th>\n",
       "      <th>visitorsPerDateB</th>\n",
       "      <th>visitorsCummulativeA</th>\n",
       "      <th>visitorsCummulativeB</th>\n",
       "    </tr>\n",
       "  </thead>\n",
       "  <tbody>\n",
       "    <tr>\n",
       "      <th>0</th>\n",
       "      <td>2019-08-01</td>\n",
       "      <td>23</td>\n",
       "      <td>142779</td>\n",
       "      <td>17</td>\n",
       "      <td>59758</td>\n",
       "      <td>23</td>\n",
       "      <td>142779</td>\n",
       "      <td>17</td>\n",
       "      <td>59758</td>\n",
       "      <td>719</td>\n",
       "      <td>713</td>\n",
       "      <td>719</td>\n",
       "      <td>713</td>\n",
       "    </tr>\n",
       "    <tr>\n",
       "      <th>1</th>\n",
       "      <td>2019-08-02</td>\n",
       "      <td>19</td>\n",
       "      <td>91602</td>\n",
       "      <td>23</td>\n",
       "      <td>162043</td>\n",
       "      <td>42</td>\n",
       "      <td>234381</td>\n",
       "      <td>40</td>\n",
       "      <td>221801</td>\n",
       "      <td>619</td>\n",
       "      <td>581</td>\n",
       "      <td>1338</td>\n",
       "      <td>1294</td>\n",
       "    </tr>\n",
       "    <tr>\n",
       "      <th>2</th>\n",
       "      <td>2019-08-03</td>\n",
       "      <td>24</td>\n",
       "      <td>112473</td>\n",
       "      <td>14</td>\n",
       "      <td>67049</td>\n",
       "      <td>66</td>\n",
       "      <td>346854</td>\n",
       "      <td>54</td>\n",
       "      <td>288850</td>\n",
       "      <td>507</td>\n",
       "      <td>509</td>\n",
       "      <td>1845</td>\n",
       "      <td>1803</td>\n",
       "    </tr>\n",
       "    <tr>\n",
       "      <th>3</th>\n",
       "      <td>2019-08-04</td>\n",
       "      <td>11</td>\n",
       "      <td>41176</td>\n",
       "      <td>14</td>\n",
       "      <td>96890</td>\n",
       "      <td>77</td>\n",
       "      <td>388030</td>\n",
       "      <td>68</td>\n",
       "      <td>385740</td>\n",
       "      <td>717</td>\n",
       "      <td>770</td>\n",
       "      <td>2562</td>\n",
       "      <td>2573</td>\n",
       "    </tr>\n",
       "    <tr>\n",
       "      <th>4</th>\n",
       "      <td>2019-08-05</td>\n",
       "      <td>22</td>\n",
       "      <td>86383</td>\n",
       "      <td>21</td>\n",
       "      <td>89908</td>\n",
       "      <td>99</td>\n",
       "      <td>474413</td>\n",
       "      <td>89</td>\n",
       "      <td>475648</td>\n",
       "      <td>756</td>\n",
       "      <td>707</td>\n",
       "      <td>3318</td>\n",
       "      <td>3280</td>\n",
       "    </tr>\n",
       "  </tbody>\n",
       "</table>\n",
       "</div>"
      ],
      "text/plain": [
       "        date  ordersPerDateA  revenuePerDateA  ordersPerDateB  \\\n",
       "0 2019-08-01              23           142779              17   \n",
       "1 2019-08-02              19            91602              23   \n",
       "2 2019-08-03              24           112473              14   \n",
       "3 2019-08-04              11            41176              14   \n",
       "4 2019-08-05              22            86383              21   \n",
       "\n",
       "   revenuePerDateB  ordersCummulativeA  revenueCummulativeA  \\\n",
       "0            59758                  23               142779   \n",
       "1           162043                  42               234381   \n",
       "2            67049                  66               346854   \n",
       "3            96890                  77               388030   \n",
       "4            89908                  99               474413   \n",
       "\n",
       "   ordersCummulativeB  revenueCummulativeB  visitorsPerDateA  \\\n",
       "0                  17                59758               719   \n",
       "1                  40               221801               619   \n",
       "2                  54               288850               507   \n",
       "3                  68               385740               717   \n",
       "4                  89               475648               756   \n",
       "\n",
       "   visitorsPerDateB  visitorsCummulativeA  visitorsCummulativeB  \n",
       "0               713                   719                   713  \n",
       "1               581                  1338                  1294  \n",
       "2               509                  1845                  1803  \n",
       "3               770                  2562                  2573  \n",
       "4               707                  3318                  3280  "
      ]
     },
     "execution_count": 37,
     "metadata": {},
     "output_type": "execute_result"
    }
   ],
   "source": [
    "visitorsADaily = visitors[visitors['group'] == 'A'][['date', 'visitors']]\n",
    "visitorsADaily.columns = ['date', 'visitorsPerDateA']\n",
    "\n",
    "visitorsACummulative = visitorsADaily.apply(\n",
    "    lambda x: visitorsADaily[visitorsADaily['date'] <= x['date']].agg(\n",
    "        {'date': 'max', 'visitorsPerDateA': 'sum'}\n",
    "    ),\n",
    "    axis=1,\n",
    ")\n",
    "visitorsACummulative.columns = ['date', 'visitorsCummulativeA']\n",
    "\n",
    "visitorsBDaily = visitors[visitors['group'] == 'B'][['date', 'visitors']]\n",
    "visitorsBDaily.columns = ['date', 'visitorsPerDateB']\n",
    "\n",
    "visitorsBCummulative = visitorsBDaily.apply(\n",
    "    lambda x: visitorsBDaily[visitorsBDaily['date'] <= x['date']].agg(\n",
    "        {'date': 'max', 'visitorsPerDateB': 'sum'}\n",
    "    ),\n",
    "    axis=1,\n",
    ")\n",
    "visitorsBCummulative.columns = ['date', 'visitorsCummulativeB']\n",
    "\n",
    "ordersADaily = (\n",
    "    orders[orders['group'] == 'A'][['date', 'transaction_id', 'visitor_id', 'revenue']]\n",
    "    .groupby('date', as_index=False)\n",
    "    .agg({'transaction_id': pd.Series.nunique, 'revenue': 'sum'})\n",
    ")\n",
    "ordersADaily.columns = ['date', 'ordersPerDateA', 'revenuePerDateA']\n",
    "\n",
    "ordersACummulative = ordersADaily.apply(\n",
    "    lambda x: ordersADaily[ordersADaily['date'] <= x['date']].agg(\n",
    "        {'date': 'max', 'ordersPerDateA': 'sum', 'revenuePerDateA': 'sum'}\n",
    "    ),\n",
    "    axis=1,\n",
    ").sort_values(by=['date'])\n",
    "ordersACummulative.columns = [\n",
    "    'date',\n",
    "    'ordersCummulativeA',\n",
    "    'revenueCummulativeA',\n",
    "]\n",
    "\n",
    "ordersBDaily = (\n",
    "    orders[orders['group'] == 'B'][['date', 'transaction_id', 'visitor_id', 'revenue']]\n",
    "    .groupby('date', as_index=False)\n",
    "    .agg({'transaction_id': pd.Series.nunique, 'revenue': 'sum'})\n",
    ")\n",
    "ordersBDaily.columns = ['date', 'ordersPerDateB', 'revenuePerDateB']\n",
    "\n",
    "ordersBCummulative = ordersBDaily.apply(\n",
    "    lambda x: ordersBDaily[ordersBDaily['date'] <= x['date']].agg(\n",
    "        {'date': 'max', 'ordersPerDateB': 'sum', 'revenuePerDateB': 'sum'}\n",
    "    ),\n",
    "    axis=1,\n",
    ").sort_values(by=['date'])\n",
    "ordersBCummulative.columns = [\n",
    "    'date',\n",
    "    'ordersCummulativeB',\n",
    "    'revenueCummulativeB',\n",
    "]\n",
    "\n",
    "data = (\n",
    "    ordersADaily.merge(\n",
    "        ordersBDaily, left_on='date', right_on='date', how='left'\n",
    "    )\n",
    "    .merge(ordersACummulative, left_on='date', right_on='date', how='left')\n",
    "    .merge(ordersBCummulative, left_on='date', right_on='date', how='left')\n",
    "    .merge(visitorsADaily, left_on='date', right_on='date', how='left')\n",
    "    .merge(visitorsBDaily, left_on='date', right_on='date', how='left')\n",
    "    .merge(visitorsACummulative, left_on='date', right_on='date', how='left')\n",
    "    .merge(visitorsBCummulative, left_on='date', right_on='date', how='left')\n",
    ")\n",
    "\n",
    "data.head()"
   ]
  },
  {
   "cell_type": "markdown",
   "id": "c683ceef",
   "metadata": {},
   "source": [
    "Напомним названия столбцов данных:  \n",
    "date — дата;  \n",
    "ordersPerDateA — количество заказов в выбранную дату в группе A;  \n",
    "revenuePerDateA — суммарная выручка в выбранную дату в группе A;  \n",
    "ordersPerDateB — количество заказов в выбранную дату в группе B;  \n",
    "revenuePerDateB — суммарная выручка в выбранную дату в группе B;  \n",
    "ordersCummulativeA — суммарное число заказов до выбранной даты включительно в группе A;  \n",
    "revenueCummulativeA — суммарная выручка до выбранной даты включительно в группе A;  \n",
    "ordersCummulativeB — суммарное количество заказов до выбранной даты включительно в группе B;  \n",
    "revenueCummulativeB — суммарная выручка до выбранной даты включительно в группе B;  \n",
    "visitorsPerDateA — количество пользователей в выбранную дату в группе A;  \n",
    "visitorsPerDateB — количество пользователей в выбранную дату в группе B;  \n",
    "visitorsCummulativeA — количество пользователей до выбранной даты включительно в группе A;  \n",
    "visitorsCummulativeB — количество пользователей до выбранной даты включительно в группе B."
   ]
  },
  {
   "cell_type": "markdown",
   "id": "b47889e1",
   "metadata": {},
   "source": [
    "Посчитаем статистическую значимость различия в среднем количестве заказов между группами.\n",
    "Создадим переменные ordersByUsersA и ordersByUsersB со столбцами ['user_id', 'orders']. В них для пользователей, которые заказывали хотя бы 1 раз, укажем число совершённых заказов. "
   ]
  },
  {
   "cell_type": "code",
   "execution_count": 38,
   "id": "ab988d03",
   "metadata": {},
   "outputs": [],
   "source": [
    "ordersByUsersA = (\n",
    "    orders[orders['group'] == 'A']\n",
    "    .groupby('visitor_id', as_index=False)\n",
    "    .agg({'transaction_id': pd.Series.nunique})\n",
    ")\n",
    "ordersByUsersA.columns = ['user_id', 'orders']\n",
    "\n",
    "ordersByUsersB = (\n",
    "    orders[orders['group'] == 'B']\n",
    "    .groupby('visitor_id', as_index=False)\n",
    "    .agg({'transaction_id': pd.Series.nunique})\n",
    ")\n",
    "ordersByUsersB.columns = ['user_id', 'orders']"
   ]
  },
  {
   "cell_type": "markdown",
   "id": "9a02e777",
   "metadata": {},
   "source": [
    "Объявим переменные sampleA и sampleB, в которых пользователям из разных групп будет соответствовать количество заказов. Тем, кто ничего не заказал, будут соответствовать нули. Это нужно, чтобы подготовить выборки к проверке критерием Манна-Уитни.  \n",
    "Применим критерий и отформатируем p-value, округлив его до трёх знаков после запятой.  \n",
    "Выведем относительный прирост среднего числа заказов группы B: среднее число заказов группы B / среднее число заказов группы A - 1.  Округлим до трёх знаков после запятой."
   ]
  },
  {
   "cell_type": "code",
   "execution_count": 39,
   "id": "9032ec85",
   "metadata": {},
   "outputs": [
    {
     "name": "stdout",
     "output_type": "stream",
     "text": [
      "p-value = 0.011\n",
      "Oтносительный прирост среднего числа заказов группы B = 0.160\n"
     ]
    }
   ],
   "source": [
    "sampleA = pd.concat(\n",
    "    [\n",
    "        ordersByUsersA['orders'],\n",
    "        pd.Series(\n",
    "            0,\n",
    "            index=np.arange(\n",
    "                data['visitorsPerDateA'].sum() - len(ordersByUsersA['orders'])\n",
    "            ),\n",
    "            name='orders',\n",
    "        ),\n",
    "    ],\n",
    "    axis=0,\n",
    ")\n",
    "\n",
    "sampleB = pd.concat(\n",
    "    [\n",
    "        ordersByUsersB['orders'],\n",
    "        pd.Series(\n",
    "            0,\n",
    "            index=np.arange(\n",
    "                data['visitorsPerDateB'].sum() - len(ordersByUsersB['orders'])\n",
    "            ),\n",
    "            name='orders',\n",
    "        ),\n",
    "    ],\n",
    "    axis=0,\n",
    ")\n",
    "\n",
    "print(\"p-value = {0:.3f}\".format(stats.mannwhitneyu(sampleA, sampleB)[1]))\n",
    "\n",
    "print(\"Oтносительный прирост среднего числа заказов группы B = {0:.3f}\".format(sampleB.mean() / sampleA.mean() - 1))"
   ]
  },
  {
   "cell_type": "markdown",
   "id": "fb57edfc",
   "metadata": {},
   "source": [
    "p-value = 0.011 при пороговом значении alpha = 0.05. P-value меньше alpha - это значит, нулевую гипотезу: \"Статистически значимых различий в среднем количестве заказов на посетителя между группами по «сырым» данным нет.\" - отвергаем. Относительный выигрыш группы B равен 16%."
   ]
  },
  {
   "cell_type": "markdown",
   "id": "55fff8c4",
   "metadata": {},
   "source": [
    "### Посчитаем статистическую значимость различий в среднем чеке заказа между группами по «сырым» данным. Сделаем выводы и предположения."
   ]
  },
  {
   "cell_type": "markdown",
   "id": "08b803b4",
   "metadata": {},
   "source": [
    "Теперь проверим статистическую значимость различий в среднем чеке между сегментами.  \n",
    "Нулевая гипотеза: \"Pазличий в среднем чеке между группами по «сырым» данным нет.\"  \n",
    "    Альтернативная гипотеза: \"Pазличия в среднем чеке между группами по «сырым» данным есть.\"  \n",
    "Чтобы рассчитать статистическую значимость различий в среднем чеке, передадим критерию mannwhitneyu() данные о выручке с заказов.   \n",
    "А ещё найдём относительные различия в среднем чеке между группами:"
   ]
  },
  {
   "cell_type": "code",
   "execution_count": 40,
   "id": "85198625",
   "metadata": {},
   "outputs": [
    {
     "name": "stdout",
     "output_type": "stream",
     "text": [
      "p-value = 0.829\n",
      "Oтносительный прирост среднего чека заказов группы B = 0.287\n"
     ]
    }
   ],
   "source": [
    "print('p-value = {0:.3f}'.format(stats.mannwhitneyu(orders[orders['group']=='A']['revenue'], orders[orders['group']=='B']['revenue'])[1]))\n",
    "print('Oтносительный прирост среднего чека заказов группы B = {0:.3f}'.format(orders[orders['group']=='B']['revenue'].mean()/orders[orders['group']=='A']['revenue'].mean()-1))"
   ]
  },
  {
   "cell_type": "markdown",
   "id": "21efcda3",
   "metadata": {},
   "source": [
    "Наблюдаемое различие в 28,7% не является статистически значимым, p-value = 0.829 при пороговом значении alpha = 0.05., нулевую гипотезу: \"Pазличий в среднем чеке между группами по «сырым» данным нет.\" - не отвергаем."
   ]
  },
  {
   "cell_type": "markdown",
   "id": "0ad6542c",
   "metadata": {},
   "source": [
    "### Посчитаем статистическую значимость различий в среднем количестве заказов на посетителя между группами по «очищенным» данным. Сделаем выводы и предположения."
   ]
  },
  {
   "cell_type": "markdown",
   "id": "c787c1f1",
   "metadata": {},
   "source": [
    "По результатам предыдущих ислледований мы выяснили, что лишь 1% пользователей делает 4 заказа. А также лишь 1% заказов больше 58233.2 руб. Примем их за аномалии. Узнаем, сколько всего аномальных пользователей атрибутом shape."
   ]
  },
  {
   "cell_type": "code",
   "execution_count": 41,
   "id": "6fbca148",
   "metadata": {},
   "outputs": [
    {
     "name": "stdout",
     "output_type": "stream",
     "text": [
      "1099    148427295\n",
      "33      249864742\n",
      "58      611059232\n",
      "949     887908475\n",
      "744     888512513\n",
      "dtype: int64\n",
      "Всего аномальных пользователей -  16\n"
     ]
    }
   ],
   "source": [
    "usersWithManyOrders = pd.concat(\n",
    "    [\n",
    "        ordersByUsersA[ordersByUsersA['orders'] > 2]['user_id'],\n",
    "        ordersByUsersB[ordersByUsersB['orders'] > 2]['user_id'],\n",
    "    ],\n",
    "    axis=0,\n",
    ")\n",
    "usersWithExpensiveOrders = orders[orders['revenue'] > 53904]['visitor_id']\n",
    "abnormalUsers = (\n",
    "    pd.concat([usersWithManyOrders, usersWithExpensiveOrders], axis=0)\n",
    "    .drop_duplicates()\n",
    "    .sort_values()\n",
    ")\n",
    "print(abnormalUsers.head(5))\n",
    "print('Всего аномальных пользователей - ', abnormalUsers.shape[0])"
   ]
  },
  {
   "cell_type": "markdown",
   "id": "74186e8a",
   "metadata": {},
   "source": [
    "Всего 16 аномальных пользователей.  \n",
    "Узнаем, как их действия повлияли на результаты теста. Посчитаем статистическую значимость различий в среднем количестве заказов между группами теста по очищенным данным. Сначала подготовим выборки количества заказов по пользователям по группам теста:"
   ]
  },
  {
   "cell_type": "code",
   "execution_count": 42,
   "id": "bdc052d9",
   "metadata": {},
   "outputs": [],
   "source": [
    "sampleAFiltered = pd.concat(\n",
    "    [\n",
    "        ordersByUsersA[\n",
    "            np.logical_not(ordersByUsersA['user_id'].isin(abnormalUsers))\n",
    "        ]['orders'],\n",
    "        pd.Series(\n",
    "            0,\n",
    "            index=np.arange(\n",
    "                data['visitorsPerDateA'].sum() - len(ordersByUsersA['orders'])\n",
    "            ),\n",
    "            name='orders',\n",
    "        ),\n",
    "    ],\n",
    "    axis=0,\n",
    ")\n",
    "\n",
    "sampleBFiltered = pd.concat(\n",
    "    [\n",
    "        ordersByUsersB[\n",
    "            np.logical_not(ordersByUsersB['user_id'].isin(abnormalUsers))\n",
    "        ]['orders'],\n",
    "        pd.Series(\n",
    "            0,\n",
    "            index=np.arange(\n",
    "                data['visitorsPerDateB'].sum() - len(ordersByUsersB['orders'])\n",
    "            ),\n",
    "            name='orders',\n",
    "        ),\n",
    "    ],\n",
    "    axis=0,\n",
    ")"
   ]
  },
  {
   "cell_type": "markdown",
   "id": "77e0621c",
   "metadata": {},
   "source": [
    "Применим статистический критерий Манна-Уитни к полученным выборкам.  \n",
    "Примем за нулевую гипотезу Н0 утверждение: \"Статистически значимых различий в среднем количестве заказов на посетителя между группами по «очищенным» данным нет.\"  \n",
    "Альтернативная гипотеза Н1: \"Статистически значимые различия в среднем количестве заказов на посетителя между группами по «очищенным» данным есть.\"  \n",
    "Примем пороговое значение alpha = 0.05"
   ]
  },
  {
   "cell_type": "code",
   "execution_count": 43,
   "id": "8fbb5a2d",
   "metadata": {},
   "outputs": [
    {
     "name": "stdout",
     "output_type": "stream",
     "text": [
      "p-value = 0.007\n",
      "Oтносительный прирост среднего числа заказов группы B = 0.189\n"
     ]
    }
   ],
   "source": [
    "print('p-value = {0:.3f}'.format(stats.mannwhitneyu(sampleAFiltered, sampleBFiltered)[1]))\n",
    "print('Oтносительный прирост среднего числа заказов группы B = {0:.3f}'.format(sampleBFiltered.mean()/sampleAFiltered.mean()-1))"
   ]
  },
  {
   "cell_type": "markdown",
   "id": "573160e6",
   "metadata": {},
   "source": [
    "p-value = 0.007 при пороговом значении alpha = 0.05. P-value меньше alpha - это значит, нулевую гипотезу: \"Статистически значимых различий в среднем количестве заказов на посетителя между группами по «очищенным» данным нет.\" - отвергаем. Относительный выигрыш группы B равен 18.9%. Результаты схожи с результами \"сырых\" данных."
   ]
  },
  {
   "cell_type": "markdown",
   "id": "a21e8ab2",
   "metadata": {},
   "source": [
    "### Посчитаем статистическую значимость различий в среднем чеке заказа между группами по «очищенным» данным. Сделаем выводы и предположения."
   ]
  },
  {
   "cell_type": "markdown",
   "id": "3ebbea32",
   "metadata": {},
   "source": [
    "Нулевая гипотеза: \"Pазличий в среднем чеке между группами по «очищенным» данным нет.\"  \n",
    "    Альтернативная гипотеза: \"Pазличия в среднем чеке между группами по «очищенным» данным есть.\"  \n",
    "    Пороговое значение alpha = 0.05"
   ]
  },
  {
   "cell_type": "code",
   "execution_count": 44,
   "id": "cb486195",
   "metadata": {},
   "outputs": [
    {
     "name": "stdout",
     "output_type": "stream",
     "text": [
      "p-value = 0.788\n",
      "Oтносительный прирост среднего числа заказов группы B = -0.032\n"
     ]
    }
   ],
   "source": [
    "print(\n",
    "    'p-value = {0:.3f}'.format(\n",
    "        stats.mannwhitneyu(\n",
    "            orders[\n",
    "                np.logical_and(\n",
    "                    orders['group'] == 'A',\n",
    "                    np.logical_not(orders['visitor_id'].isin(abnormalUsers)),\n",
    "                )\n",
    "            ]['revenue'],\n",
    "            orders[\n",
    "                np.logical_and(\n",
    "                    orders['group'] == 'B',\n",
    "                    np.logical_not(orders['visitor_id'].isin(abnormalUsers)),\n",
    "                )\n",
    "            ]['revenue'],\n",
    "        )[1]\n",
    "    )\n",
    ")\n",
    "\n",
    "print(\n",
    "    \"Oтносительный прирост среднего числа заказов группы B = {0:.3f}\".format(\n",
    "        orders[\n",
    "            np.logical_and(\n",
    "                orders['group'] == 'B',\n",
    "                np.logical_not(orders['visitor_id'].isin(abnormalUsers)),\n",
    "            )\n",
    "        ]['revenue'].mean()\n",
    "        / orders[\n",
    "            np.logical_and(\n",
    "                orders['group'] == 'A',\n",
    "                np.logical_not(orders['visitor_id'].isin(abnormalUsers)),\n",
    "            )\n",
    "        ]['revenue'].mean()\n",
    "        - 1\n",
    "    )\n",
    ")"
   ]
  },
  {
   "cell_type": "markdown",
   "id": "ee67700c",
   "metadata": {},
   "source": [
    "Наблюдаемое различие в 3,2% не является статистически значимым, p-value = 0.788 при пороговом значении alpha = 0.05., нулевую гипотезу: \"Pазличий в среднем чеке между группами по «очищенным» данным нет.\" - не отвергаем."
   ]
  },
  {
   "cell_type": "markdown",
   "id": "91e05962",
   "metadata": {},
   "source": [
    "### Примем решение по результатам теста и объясним его. Варианты решений:  \n",
    "1. Остановить тест, зафиксировать победу одной из групп.  \n",
    "2. Остановить тест, зафиксировать отсутствие различий между группами.  \n",
    "3. Продолжить тест."
   ]
  },
  {
   "cell_type": "markdown",
   "id": "0ebf882f",
   "metadata": {},
   "source": [
    "**По результатам теста можно принять решение об остановке теста и зафиксировать победу группы В.**  \n",
    "**Результаты теста:**  \n",
    "1. При подсчете статистической значимости различий в среднем количестве заказов на посетителя между группами относительный выигрыш группы В над группой А оставил 16% по «сырым» и 18.9% по \"очищенным\" данным.  \n",
    "2. При подсчете статистической значимости различий в среднем чеке между группами относительный выигрыш группы В над группой А оставил 28.7% по «сырым». Причина в аномальных заказах. По \"очищенным\" данным относительный проигрыш группы В над группой А оставил 3.2%, что незначительно.  \n",
    "3. По результатам А/В теста были отвергнуты гипотезы: \"Статистически значимых различий в среднем количестве заказов на посетителя между группами нет.\" Как по \"сырым\", так и по \"ощищенным\" данным. По количеству заказов лидирует группа В.  \n",
    "4. По результатам А/В теста не были отвергнуты гипотезы: \"Pазличий в среднем чеке между группами нет.\" Как по \"сырым\", так и по \"ощищенным\" данным. Различий в средних чеках группы А и группы В нет. "
   ]
  }
 ],
 "metadata": {
  "ExecuteTimeLog": [
   {
    "duration": 1261,
    "start_time": "2024-07-23T11:41:45.701Z"
   },
   {
    "duration": 217,
    "start_time": "2024-07-23T11:42:45.513Z"
   },
   {
    "duration": 72,
    "start_time": "2024-07-23T11:43:02.584Z"
   },
   {
    "duration": 21,
    "start_time": "2024-07-23T11:44:01.000Z"
   },
   {
    "duration": 68,
    "start_time": "2024-07-23T11:44:35.510Z"
   },
   {
    "duration": 17,
    "start_time": "2024-07-23T11:44:40.759Z"
   },
   {
    "duration": 6,
    "start_time": "2024-07-23T11:55:02.820Z"
   },
   {
    "duration": 6,
    "start_time": "2024-07-23T11:55:09.541Z"
   },
   {
    "duration": 12,
    "start_time": "2024-07-23T11:55:37.208Z"
   },
   {
    "duration": 98,
    "start_time": "2024-07-23T12:01:16.382Z"
   },
   {
    "duration": 20,
    "start_time": "2024-07-23T12:02:18.731Z"
   },
   {
    "duration": 24,
    "start_time": "2024-07-23T12:06:35.096Z"
   },
   {
    "duration": 21,
    "start_time": "2024-07-23T12:07:18.698Z"
   },
   {
    "duration": 21,
    "start_time": "2024-07-23T12:07:29.037Z"
   },
   {
    "duration": 20,
    "start_time": "2024-07-23T12:08:24.772Z"
   },
   {
    "duration": 21,
    "start_time": "2024-07-23T12:08:38.794Z"
   },
   {
    "duration": 23,
    "start_time": "2024-07-23T12:08:57.249Z"
   },
   {
    "duration": 26,
    "start_time": "2024-07-23T12:09:31.304Z"
   },
   {
    "duration": 30,
    "start_time": "2024-07-23T12:09:53.184Z"
   },
   {
    "duration": 29,
    "start_time": "2024-07-23T12:10:03.139Z"
   },
   {
    "duration": 31,
    "start_time": "2024-07-23T12:11:30.821Z"
   },
   {
    "duration": 33,
    "start_time": "2024-07-23T12:11:41.642Z"
   },
   {
    "duration": 39,
    "start_time": "2024-07-23T12:12:04.190Z"
   },
   {
    "duration": 41,
    "start_time": "2024-07-23T12:14:06.051Z"
   },
   {
    "duration": 36,
    "start_time": "2024-07-23T12:15:15.318Z"
   },
   {
    "duration": 43,
    "start_time": "2024-07-23T12:16:13.397Z"
   },
   {
    "duration": 28,
    "start_time": "2024-07-23T12:16:31.801Z"
   },
   {
    "duration": 35,
    "start_time": "2024-07-23T12:16:46.010Z"
   },
   {
    "duration": 3,
    "start_time": "2024-07-23T12:17:57.333Z"
   },
   {
    "duration": 9,
    "start_time": "2024-07-23T12:18:01.736Z"
   },
   {
    "duration": 36,
    "start_time": "2024-07-23T12:23:02.416Z"
   },
   {
    "duration": 1105,
    "start_time": "2024-07-23T12:23:53.566Z"
   },
   {
    "duration": 72,
    "start_time": "2024-07-23T12:23:54.673Z"
   },
   {
    "duration": 40,
    "start_time": "2024-07-23T12:23:54.747Z"
   },
   {
    "duration": 3,
    "start_time": "2024-07-23T12:23:54.788Z"
   },
   {
    "duration": 8,
    "start_time": "2024-07-23T12:23:54.792Z"
   },
   {
    "duration": 83,
    "start_time": "2024-07-23T12:23:54.801Z"
   },
   {
    "duration": 425,
    "start_time": "2024-07-23T12:24:56.865Z"
   },
   {
    "duration": 443,
    "start_time": "2024-07-23T12:25:28.874Z"
   },
   {
    "duration": 369,
    "start_time": "2024-07-23T12:25:34.448Z"
   },
   {
    "duration": 385,
    "start_time": "2024-07-23T12:25:47.609Z"
   },
   {
    "duration": 454,
    "start_time": "2024-07-23T12:25:59.437Z"
   },
   {
    "duration": 408,
    "start_time": "2024-07-23T12:26:17.959Z"
   },
   {
    "duration": 418,
    "start_time": "2024-07-23T12:26:31.298Z"
   },
   {
    "duration": 436,
    "start_time": "2024-07-23T12:26:38.915Z"
   },
   {
    "duration": 423,
    "start_time": "2024-07-23T12:26:49.131Z"
   },
   {
    "duration": 45,
    "start_time": "2024-07-23T12:27:12.251Z"
   },
   {
    "duration": 343,
    "start_time": "2024-07-23T12:27:43.435Z"
   },
   {
    "duration": 1053,
    "start_time": "2024-07-23T12:27:52.422Z"
   },
   {
    "duration": 74,
    "start_time": "2024-07-23T12:27:53.477Z"
   },
   {
    "duration": 47,
    "start_time": "2024-07-23T12:27:53.552Z"
   },
   {
    "duration": 3,
    "start_time": "2024-07-23T12:27:53.600Z"
   },
   {
    "duration": 43,
    "start_time": "2024-07-23T12:27:53.605Z"
   },
   {
    "duration": 369,
    "start_time": "2024-07-23T12:27:53.649Z"
   },
   {
    "duration": 57,
    "start_time": "2024-07-23T12:30:38.884Z"
   },
   {
    "duration": 11,
    "start_time": "2024-07-23T12:31:00.529Z"
   },
   {
    "duration": 119,
    "start_time": "2024-07-23T12:35:14.949Z"
   },
   {
    "duration": 4,
    "start_time": "2024-07-23T12:35:31.343Z"
   },
   {
    "duration": 17,
    "start_time": "2024-07-23T12:35:36.931Z"
   },
   {
    "duration": 4,
    "start_time": "2024-07-23T12:36:03.887Z"
   },
   {
    "duration": 5,
    "start_time": "2024-07-23T12:37:34.302Z"
   },
   {
    "duration": 489,
    "start_time": "2024-07-23T12:37:35.663Z"
   },
   {
    "duration": 11,
    "start_time": "2024-07-23T12:37:38.886Z"
   },
   {
    "duration": 367,
    "start_time": "2024-07-23T12:37:55.219Z"
   },
   {
    "duration": 437,
    "start_time": "2024-07-23T12:38:04.048Z"
   },
   {
    "duration": 11,
    "start_time": "2024-07-23T12:38:08.707Z"
   },
   {
    "duration": 46,
    "start_time": "2024-07-23T12:41:42.180Z"
   },
   {
    "duration": 4,
    "start_time": "2024-07-23T12:43:00.550Z"
   },
   {
    "duration": 306,
    "start_time": "2024-07-23T12:43:16.338Z"
   },
   {
    "duration": 228,
    "start_time": "2024-07-23T12:43:26.143Z"
   },
   {
    "duration": 216,
    "start_time": "2024-07-23T12:43:35.364Z"
   },
   {
    "duration": 1053,
    "start_time": "2024-07-23T12:50:02.851Z"
   },
   {
    "duration": 73,
    "start_time": "2024-07-23T12:50:03.905Z"
   },
   {
    "duration": 40,
    "start_time": "2024-07-23T12:50:03.979Z"
   },
   {
    "duration": 2,
    "start_time": "2024-07-23T12:50:04.021Z"
   },
   {
    "duration": 394,
    "start_time": "2024-07-23T12:50:04.025Z"
   },
   {
    "duration": 7,
    "start_time": "2024-07-23T12:50:04.421Z"
   },
   {
    "duration": 78,
    "start_time": "2024-07-23T12:50:04.430Z"
   },
   {
    "duration": 3,
    "start_time": "2024-07-23T12:50:04.509Z"
   },
   {
    "duration": 13,
    "start_time": "2024-07-23T12:50:04.513Z"
   },
   {
    "duration": 511,
    "start_time": "2024-07-23T12:50:04.527Z"
   },
   {
    "duration": 11,
    "start_time": "2024-07-23T12:50:05.040Z"
   },
   {
    "duration": 70,
    "start_time": "2024-07-23T12:50:05.052Z"
   },
   {
    "duration": 3,
    "start_time": "2024-07-23T12:50:05.124Z"
   },
   {
    "duration": 257,
    "start_time": "2024-07-23T12:50:05.129Z"
   },
   {
    "duration": 8,
    "start_time": "2024-07-23T13:01:19.507Z"
   },
   {
    "duration": 92,
    "start_time": "2024-07-23T13:02:40.055Z"
   },
   {
    "duration": 8,
    "start_time": "2024-07-23T13:03:25.930Z"
   },
   {
    "duration": 8,
    "start_time": "2024-07-23T13:03:59.049Z"
   },
   {
    "duration": 11,
    "start_time": "2024-07-23T13:04:11.548Z"
   },
   {
    "duration": 9,
    "start_time": "2024-07-23T13:04:22.471Z"
   },
   {
    "duration": 4,
    "start_time": "2024-07-23T13:04:31.461Z"
   },
   {
    "duration": 7,
    "start_time": "2024-07-23T13:04:34.149Z"
   },
   {
    "duration": 7,
    "start_time": "2024-07-23T13:04:37.626Z"
   },
   {
    "duration": 7,
    "start_time": "2024-07-23T13:05:02.184Z"
   },
   {
    "duration": 7,
    "start_time": "2024-07-23T13:05:04.974Z"
   },
   {
    "duration": 9,
    "start_time": "2024-07-23T13:05:49.824Z"
   },
   {
    "duration": 10,
    "start_time": "2024-07-23T13:06:10.490Z"
   },
   {
    "duration": 10,
    "start_time": "2024-07-23T13:06:29.592Z"
   },
   {
    "duration": 10,
    "start_time": "2024-07-23T13:06:31.525Z"
   },
   {
    "duration": 1082,
    "start_time": "2024-07-23T13:10:18.772Z"
   },
   {
    "duration": 74,
    "start_time": "2024-07-23T13:10:19.856Z"
   },
   {
    "duration": 44,
    "start_time": "2024-07-23T13:10:19.932Z"
   },
   {
    "duration": 16,
    "start_time": "2024-07-23T13:10:19.978Z"
   },
   {
    "duration": 420,
    "start_time": "2024-07-23T13:10:19.996Z"
   },
   {
    "duration": 85,
    "start_time": "2024-07-23T13:10:20.418Z"
   },
   {
    "duration": 4,
    "start_time": "2024-07-23T13:10:20.505Z"
   },
   {
    "duration": 12,
    "start_time": "2024-07-23T13:10:20.510Z"
   },
   {
    "duration": 500,
    "start_time": "2024-07-23T13:10:20.524Z"
   },
   {
    "duration": 36,
    "start_time": "2024-07-23T13:10:21.025Z"
   },
   {
    "duration": 3,
    "start_time": "2024-07-23T13:10:21.062Z"
   },
   {
    "duration": 263,
    "start_time": "2024-07-23T13:10:21.066Z"
   },
   {
    "duration": 10,
    "start_time": "2024-07-23T13:10:21.330Z"
   },
   {
    "duration": 102,
    "start_time": "2024-07-23T13:12:03.137Z"
   },
   {
    "duration": 18,
    "start_time": "2024-07-23T13:12:15.299Z"
   },
   {
    "duration": 5,
    "start_time": "2024-07-23T13:18:36.084Z"
   },
   {
    "duration": 5,
    "start_time": "2024-07-23T13:19:06.173Z"
   },
   {
    "duration": 4,
    "start_time": "2024-07-23T13:19:16.621Z"
   },
   {
    "duration": 4,
    "start_time": "2024-07-23T13:19:32.055Z"
   },
   {
    "duration": 4,
    "start_time": "2024-07-23T13:19:51.252Z"
   },
   {
    "duration": 1087,
    "start_time": "2024-07-23T13:35:36.819Z"
   },
   {
    "duration": 71,
    "start_time": "2024-07-23T13:35:37.908Z"
   },
   {
    "duration": 38,
    "start_time": "2024-07-23T13:35:37.981Z"
   },
   {
    "duration": 37,
    "start_time": "2024-07-23T13:35:38.020Z"
   },
   {
    "duration": 360,
    "start_time": "2024-07-23T13:35:38.059Z"
   },
   {
    "duration": 44,
    "start_time": "2024-07-23T13:35:38.420Z"
   },
   {
    "duration": 34,
    "start_time": "2024-07-23T13:35:38.465Z"
   },
   {
    "duration": 31,
    "start_time": "2024-07-23T13:35:38.500Z"
   },
   {
    "duration": 494,
    "start_time": "2024-07-23T13:35:38.532Z"
   },
   {
    "duration": 37,
    "start_time": "2024-07-23T13:35:39.027Z"
   },
   {
    "duration": 3,
    "start_time": "2024-07-23T13:35:39.065Z"
   },
   {
    "duration": 273,
    "start_time": "2024-07-23T13:35:39.069Z"
   },
   {
    "duration": 11,
    "start_time": "2024-07-23T13:35:39.343Z"
   },
   {
    "duration": 30,
    "start_time": "2024-07-23T13:35:39.355Z"
   },
   {
    "duration": 13,
    "start_time": "2024-07-23T13:35:39.386Z"
   },
   {
    "duration": 5,
    "start_time": "2024-07-23T13:36:10.416Z"
   },
   {
    "duration": 69,
    "start_time": "2024-07-23T13:40:33.599Z"
   },
   {
    "duration": 59,
    "start_time": "2024-07-23T13:40:47.414Z"
   },
   {
    "duration": 2615,
    "start_time": "2024-07-23T13:41:15.448Z"
   },
   {
    "duration": 71,
    "start_time": "2024-07-23T13:41:18.065Z"
   },
   {
    "duration": 41,
    "start_time": "2024-07-23T13:41:18.137Z"
   },
   {
    "duration": 3,
    "start_time": "2024-07-23T13:41:18.179Z"
   },
   {
    "duration": 365,
    "start_time": "2024-07-23T13:41:18.183Z"
   },
   {
    "duration": 61,
    "start_time": "2024-07-23T13:41:18.550Z"
   },
   {
    "duration": 5,
    "start_time": "2024-07-23T13:41:18.612Z"
   },
   {
    "duration": 56,
    "start_time": "2024-07-23T13:41:18.618Z"
   },
   {
    "duration": 0,
    "start_time": "2024-07-23T13:41:18.675Z"
   },
   {
    "duration": 0,
    "start_time": "2024-07-23T13:41:18.676Z"
   },
   {
    "duration": 0,
    "start_time": "2024-07-23T13:41:18.677Z"
   },
   {
    "duration": 0,
    "start_time": "2024-07-23T13:41:18.678Z"
   },
   {
    "duration": 0,
    "start_time": "2024-07-23T13:41:18.679Z"
   },
   {
    "duration": 0,
    "start_time": "2024-07-23T13:41:18.680Z"
   },
   {
    "duration": 0,
    "start_time": "2024-07-23T13:41:18.681Z"
   },
   {
    "duration": 64,
    "start_time": "2024-07-23T13:42:05.533Z"
   },
   {
    "duration": 346,
    "start_time": "2024-07-23T13:42:42.365Z"
   },
   {
    "duration": 248,
    "start_time": "2024-07-23T13:43:46.673Z"
   },
   {
    "duration": 4,
    "start_time": "2024-07-23T13:44:11.662Z"
   },
   {
    "duration": 1060,
    "start_time": "2024-07-23T13:44:23.918Z"
   },
   {
    "duration": 74,
    "start_time": "2024-07-23T13:44:24.980Z"
   },
   {
    "duration": 40,
    "start_time": "2024-07-23T13:44:25.055Z"
   },
   {
    "duration": 2,
    "start_time": "2024-07-23T13:44:25.097Z"
   },
   {
    "duration": 404,
    "start_time": "2024-07-23T13:44:25.100Z"
   },
   {
    "duration": 53,
    "start_time": "2024-07-23T13:44:25.506Z"
   },
   {
    "duration": 3,
    "start_time": "2024-07-23T13:44:25.560Z"
   },
   {
    "duration": 37,
    "start_time": "2024-07-23T13:44:25.565Z"
   },
   {
    "duration": 509,
    "start_time": "2024-07-23T13:44:25.603Z"
   },
   {
    "duration": 33,
    "start_time": "2024-07-23T13:44:26.113Z"
   },
   {
    "duration": 2,
    "start_time": "2024-07-23T13:44:26.147Z"
   },
   {
    "duration": 251,
    "start_time": "2024-07-23T13:44:26.151Z"
   },
   {
    "duration": 10,
    "start_time": "2024-07-23T13:44:26.404Z"
   },
   {
    "duration": 9,
    "start_time": "2024-07-23T13:44:26.415Z"
   },
   {
    "duration": 11,
    "start_time": "2024-07-23T13:44:26.425Z"
   },
   {
    "duration": 416,
    "start_time": "2024-07-23T13:47:04.105Z"
   },
   {
    "duration": 343,
    "start_time": "2024-07-23T13:47:50.120Z"
   },
   {
    "duration": 1022,
    "start_time": "2024-07-23T13:47:57.343Z"
   },
   {
    "duration": 413,
    "start_time": "2024-07-23T13:47:58.367Z"
   },
   {
    "duration": 0,
    "start_time": "2024-07-23T13:47:58.782Z"
   },
   {
    "duration": 0,
    "start_time": "2024-07-23T13:47:58.783Z"
   },
   {
    "duration": 0,
    "start_time": "2024-07-23T13:47:58.784Z"
   },
   {
    "duration": 0,
    "start_time": "2024-07-23T13:47:58.785Z"
   },
   {
    "duration": 0,
    "start_time": "2024-07-23T13:47:58.786Z"
   },
   {
    "duration": 0,
    "start_time": "2024-07-23T13:47:58.786Z"
   },
   {
    "duration": 0,
    "start_time": "2024-07-23T13:47:58.787Z"
   },
   {
    "duration": 0,
    "start_time": "2024-07-23T13:47:58.788Z"
   },
   {
    "duration": 0,
    "start_time": "2024-07-23T13:47:58.788Z"
   },
   {
    "duration": 0,
    "start_time": "2024-07-23T13:47:58.790Z"
   },
   {
    "duration": 0,
    "start_time": "2024-07-23T13:47:58.790Z"
   },
   {
    "duration": 0,
    "start_time": "2024-07-23T13:47:58.791Z"
   },
   {
    "duration": 0,
    "start_time": "2024-07-23T13:47:58.792Z"
   },
   {
    "duration": 2,
    "start_time": "2024-07-23T13:48:50.333Z"
   },
   {
    "duration": 378,
    "start_time": "2024-07-23T13:48:54.537Z"
   },
   {
    "duration": 80,
    "start_time": "2024-07-23T13:49:24.776Z"
   },
   {
    "duration": 338,
    "start_time": "2024-07-23T13:50:18.734Z"
   },
   {
    "duration": 81,
    "start_time": "2024-07-23T13:50:19.073Z"
   },
   {
    "duration": 44,
    "start_time": "2024-07-23T13:50:19.155Z"
   },
   {
    "duration": 3,
    "start_time": "2024-07-23T13:50:19.200Z"
   },
   {
    "duration": 691,
    "start_time": "2024-07-23T13:50:19.206Z"
   },
   {
    "duration": 0,
    "start_time": "2024-07-23T13:50:19.899Z"
   },
   {
    "duration": 0,
    "start_time": "2024-07-23T13:50:19.901Z"
   },
   {
    "duration": 0,
    "start_time": "2024-07-23T13:50:19.902Z"
   },
   {
    "duration": 0,
    "start_time": "2024-07-23T13:50:19.903Z"
   },
   {
    "duration": 0,
    "start_time": "2024-07-23T13:50:19.904Z"
   },
   {
    "duration": 0,
    "start_time": "2024-07-23T13:50:19.905Z"
   },
   {
    "duration": 0,
    "start_time": "2024-07-23T13:50:19.906Z"
   },
   {
    "duration": 0,
    "start_time": "2024-07-23T13:50:19.907Z"
   },
   {
    "duration": 0,
    "start_time": "2024-07-23T13:50:19.907Z"
   },
   {
    "duration": 0,
    "start_time": "2024-07-23T13:50:19.908Z"
   },
   {
    "duration": 479,
    "start_time": "2024-07-23T13:51:18.664Z"
   },
   {
    "duration": 1058,
    "start_time": "2024-07-23T13:51:24.420Z"
   },
   {
    "duration": 390,
    "start_time": "2024-07-23T13:51:25.480Z"
   },
   {
    "duration": 0,
    "start_time": "2024-07-23T13:51:25.872Z"
   },
   {
    "duration": 0,
    "start_time": "2024-07-23T13:51:25.873Z"
   },
   {
    "duration": 0,
    "start_time": "2024-07-23T13:51:25.874Z"
   },
   {
    "duration": 0,
    "start_time": "2024-07-23T13:51:25.876Z"
   },
   {
    "duration": 0,
    "start_time": "2024-07-23T13:51:25.877Z"
   },
   {
    "duration": 0,
    "start_time": "2024-07-23T13:51:25.878Z"
   },
   {
    "duration": 0,
    "start_time": "2024-07-23T13:51:25.879Z"
   },
   {
    "duration": 0,
    "start_time": "2024-07-23T13:51:25.880Z"
   },
   {
    "duration": 0,
    "start_time": "2024-07-23T13:51:25.881Z"
   },
   {
    "duration": 0,
    "start_time": "2024-07-23T13:51:25.883Z"
   },
   {
    "duration": 0,
    "start_time": "2024-07-23T13:51:25.884Z"
   },
   {
    "duration": 0,
    "start_time": "2024-07-23T13:51:25.885Z"
   },
   {
    "duration": 0,
    "start_time": "2024-07-23T13:51:25.886Z"
   },
   {
    "duration": 87,
    "start_time": "2024-07-23T13:51:49.257Z"
   },
   {
    "duration": 0,
    "start_time": "2024-07-23T13:51:49.345Z"
   },
   {
    "duration": 0,
    "start_time": "2024-07-23T13:51:49.346Z"
   },
   {
    "duration": 0,
    "start_time": "2024-07-23T13:51:49.347Z"
   },
   {
    "duration": 0,
    "start_time": "2024-07-23T13:51:49.348Z"
   },
   {
    "duration": 0,
    "start_time": "2024-07-23T13:51:49.349Z"
   },
   {
    "duration": 0,
    "start_time": "2024-07-23T13:51:49.350Z"
   },
   {
    "duration": 0,
    "start_time": "2024-07-23T13:51:49.351Z"
   },
   {
    "duration": 41,
    "start_time": "2024-07-23T13:51:49.592Z"
   },
   {
    "duration": 0,
    "start_time": "2024-07-23T13:51:49.634Z"
   },
   {
    "duration": 0,
    "start_time": "2024-07-23T13:51:49.635Z"
   },
   {
    "duration": 0,
    "start_time": "2024-07-23T13:51:49.636Z"
   },
   {
    "duration": 0,
    "start_time": "2024-07-23T13:51:49.636Z"
   },
   {
    "duration": 0,
    "start_time": "2024-07-23T13:51:49.637Z"
   },
   {
    "duration": 0,
    "start_time": "2024-07-23T13:51:49.638Z"
   },
   {
    "duration": 1064,
    "start_time": "2024-07-23T13:52:14.813Z"
   },
   {
    "duration": 84,
    "start_time": "2024-07-23T13:52:15.879Z"
   },
   {
    "duration": 40,
    "start_time": "2024-07-23T13:52:15.964Z"
   },
   {
    "duration": 3,
    "start_time": "2024-07-23T13:52:16.006Z"
   },
   {
    "duration": 394,
    "start_time": "2024-07-23T13:52:16.010Z"
   },
   {
    "duration": 45,
    "start_time": "2024-07-23T13:52:16.405Z"
   },
   {
    "duration": 4,
    "start_time": "2024-07-23T13:52:16.451Z"
   },
   {
    "duration": 95,
    "start_time": "2024-07-23T13:52:16.456Z"
   },
   {
    "duration": 480,
    "start_time": "2024-07-23T13:52:16.552Z"
   },
   {
    "duration": 39,
    "start_time": "2024-07-23T13:52:17.034Z"
   },
   {
    "duration": 3,
    "start_time": "2024-07-23T13:52:17.074Z"
   },
   {
    "duration": 338,
    "start_time": "2024-07-23T13:52:17.101Z"
   },
   {
    "duration": 10,
    "start_time": "2024-07-23T13:52:17.441Z"
   },
   {
    "duration": 42,
    "start_time": "2024-07-23T13:52:17.452Z"
   },
   {
    "duration": 14,
    "start_time": "2024-07-23T13:52:17.495Z"
   },
   {
    "duration": 1079,
    "start_time": "2024-07-23T13:53:22.875Z"
   },
   {
    "duration": 85,
    "start_time": "2024-07-23T13:53:23.955Z"
   },
   {
    "duration": 39,
    "start_time": "2024-07-23T13:53:24.041Z"
   },
   {
    "duration": 2,
    "start_time": "2024-07-23T13:53:24.082Z"
   },
   {
    "duration": 348,
    "start_time": "2024-07-23T13:53:24.087Z"
   },
   {
    "duration": 68,
    "start_time": "2024-07-23T13:53:24.437Z"
   },
   {
    "duration": 32,
    "start_time": "2024-07-23T13:53:24.507Z"
   },
   {
    "duration": 480,
    "start_time": "2024-07-23T13:53:24.540Z"
   },
   {
    "duration": 49,
    "start_time": "2024-07-23T13:53:25.022Z"
   },
   {
    "duration": 267,
    "start_time": "2024-07-23T13:53:25.073Z"
   },
   {
    "duration": 10,
    "start_time": "2024-07-23T13:53:25.341Z"
   },
   {
    "duration": 56,
    "start_time": "2024-07-23T13:53:25.352Z"
   },
   {
    "duration": 125,
    "start_time": "2024-07-23T13:53:25.409Z"
   },
   {
    "duration": 5,
    "start_time": "2024-07-23T14:02:11.267Z"
   },
   {
    "duration": 14,
    "start_time": "2024-07-23T14:02:31.822Z"
   },
   {
    "duration": 126,
    "start_time": "2024-07-23T14:03:36.982Z"
   },
   {
    "duration": 28,
    "start_time": "2024-07-23T14:05:13.981Z"
   },
   {
    "duration": 238,
    "start_time": "2024-07-23T14:11:59.529Z"
   },
   {
    "duration": 139,
    "start_time": "2024-07-23T14:15:24.480Z"
   },
   {
    "duration": 197,
    "start_time": "2024-07-23T14:16:03.835Z"
   },
   {
    "duration": 141,
    "start_time": "2024-07-23T14:17:37.481Z"
   },
   {
    "duration": 146,
    "start_time": "2024-07-23T14:17:44.312Z"
   },
   {
    "duration": 232,
    "start_time": "2024-07-23T14:18:07.353Z"
   },
   {
    "duration": 138,
    "start_time": "2024-07-23T14:18:17.517Z"
   },
   {
    "duration": 148,
    "start_time": "2024-07-23T14:22:57.700Z"
   },
   {
    "duration": 145,
    "start_time": "2024-07-23T14:24:46.174Z"
   },
   {
    "duration": 154,
    "start_time": "2024-07-23T14:24:55.287Z"
   },
   {
    "duration": 164,
    "start_time": "2024-07-23T14:25:05.086Z"
   },
   {
    "duration": 156,
    "start_time": "2024-07-23T14:25:13.318Z"
   },
   {
    "duration": 144,
    "start_time": "2024-07-23T14:26:02.167Z"
   },
   {
    "duration": 145,
    "start_time": "2024-07-23T14:26:10.482Z"
   },
   {
    "duration": 162,
    "start_time": "2024-07-23T14:26:45.715Z"
   },
   {
    "duration": 164,
    "start_time": "2024-07-23T14:27:02.290Z"
   },
   {
    "duration": 220,
    "start_time": "2024-07-23T14:27:18.662Z"
   },
   {
    "duration": 180,
    "start_time": "2024-07-23T14:27:24.942Z"
   },
   {
    "duration": 190,
    "start_time": "2024-07-23T14:27:35.753Z"
   },
   {
    "duration": 8,
    "start_time": "2024-07-23T14:36:40.618Z"
   },
   {
    "duration": 13,
    "start_time": "2024-07-23T14:38:06.983Z"
   },
   {
    "duration": 14,
    "start_time": "2024-07-23T14:39:09.796Z"
   },
   {
    "duration": 509,
    "start_time": "2024-07-23T14:41:15.740Z"
   },
   {
    "duration": 5,
    "start_time": "2024-07-23T14:41:36.633Z"
   },
   {
    "duration": 159,
    "start_time": "2024-07-23T14:41:44.158Z"
   },
   {
    "duration": 13,
    "start_time": "2024-07-23T14:43:06.460Z"
   },
   {
    "duration": 1956,
    "start_time": "2024-07-23T14:43:35.600Z"
   },
   {
    "duration": 13,
    "start_time": "2024-07-23T14:44:05.022Z"
   },
   {
    "duration": 8,
    "start_time": "2024-07-23T14:45:01.080Z"
   },
   {
    "duration": 62,
    "start_time": "2024-07-23T14:45:13.935Z"
   },
   {
    "duration": 58,
    "start_time": "2024-07-23T14:45:22.678Z"
   },
   {
    "duration": 8,
    "start_time": "2024-07-23T14:45:30.201Z"
   },
   {
    "duration": 340,
    "start_time": "2024-07-23T14:46:35.220Z"
   },
   {
    "duration": 7,
    "start_time": "2024-07-23T14:46:57.357Z"
   },
   {
    "duration": 18,
    "start_time": "2024-07-23T14:47:09.243Z"
   },
   {
    "duration": 14,
    "start_time": "2024-07-23T14:49:00.467Z"
   },
   {
    "duration": 164,
    "start_time": "2024-07-23T14:51:25.649Z"
   },
   {
    "duration": 134,
    "start_time": "2024-07-23T14:51:38.410Z"
   },
   {
    "duration": 220,
    "start_time": "2024-07-23T14:52:02.921Z"
   },
   {
    "duration": 137,
    "start_time": "2024-07-23T14:52:13.119Z"
   },
   {
    "duration": 133,
    "start_time": "2024-07-23T14:52:21.446Z"
   },
   {
    "duration": 7,
    "start_time": "2024-07-23T14:56:59.628Z"
   },
   {
    "duration": 8,
    "start_time": "2024-07-23T14:57:06.674Z"
   },
   {
    "duration": 61,
    "start_time": "2024-07-23T14:59:51.369Z"
   },
   {
    "duration": 10,
    "start_time": "2024-07-23T15:00:26.695Z"
   },
   {
    "duration": 5,
    "start_time": "2024-07-23T15:00:58.764Z"
   },
   {
    "duration": 5,
    "start_time": "2024-07-23T15:01:18.671Z"
   },
   {
    "duration": 9,
    "start_time": "2024-07-23T15:01:53.682Z"
   },
   {
    "duration": 5,
    "start_time": "2024-07-23T15:01:57.059Z"
   },
   {
    "duration": 140,
    "start_time": "2024-07-23T15:02:11.708Z"
   },
   {
    "duration": 138,
    "start_time": "2024-07-23T15:02:23.588Z"
   },
   {
    "duration": 10,
    "start_time": "2024-07-23T15:02:38.562Z"
   },
   {
    "duration": 1040,
    "start_time": "2024-07-23T15:06:41.889Z"
   },
   {
    "duration": 81,
    "start_time": "2024-07-23T15:06:42.930Z"
   },
   {
    "duration": 42,
    "start_time": "2024-07-23T15:06:43.013Z"
   },
   {
    "duration": 3,
    "start_time": "2024-07-23T15:06:43.056Z"
   },
   {
    "duration": 445,
    "start_time": "2024-07-23T15:06:43.061Z"
   },
   {
    "duration": 42,
    "start_time": "2024-07-23T15:06:43.507Z"
   },
   {
    "duration": 3,
    "start_time": "2024-07-23T15:06:43.550Z"
   },
   {
    "duration": 489,
    "start_time": "2024-07-23T15:06:43.554Z"
   },
   {
    "duration": 58,
    "start_time": "2024-07-23T15:06:44.044Z"
   },
   {
    "duration": 254,
    "start_time": "2024-07-23T15:06:44.103Z"
   },
   {
    "duration": 10,
    "start_time": "2024-07-23T15:06:44.358Z"
   },
   {
    "duration": 11,
    "start_time": "2024-07-23T15:06:44.369Z"
   },
   {
    "duration": 12,
    "start_time": "2024-07-23T15:06:44.381Z"
   },
   {
    "duration": 246,
    "start_time": "2024-07-23T15:06:44.402Z"
   },
   {
    "duration": 204,
    "start_time": "2024-07-23T15:06:44.650Z"
   },
   {
    "duration": 9,
    "start_time": "2024-07-23T15:06:44.856Z"
   },
   {
    "duration": 16,
    "start_time": "2024-07-23T15:06:44.866Z"
   },
   {
    "duration": 211,
    "start_time": "2024-07-23T15:06:44.883Z"
   },
   {
    "duration": 62,
    "start_time": "2024-07-24T06:18:22.756Z"
   },
   {
    "duration": 1468,
    "start_time": "2024-07-24T06:18:31.856Z"
   },
   {
    "duration": 244,
    "start_time": "2024-07-24T06:18:33.326Z"
   },
   {
    "duration": 66,
    "start_time": "2024-07-24T06:18:33.571Z"
   },
   {
    "duration": 17,
    "start_time": "2024-07-24T06:18:33.639Z"
   },
   {
    "duration": 446,
    "start_time": "2024-07-24T06:18:33.658Z"
   },
   {
    "duration": 72,
    "start_time": "2024-07-24T06:18:34.105Z"
   },
   {
    "duration": 4,
    "start_time": "2024-07-24T06:18:34.179Z"
   },
   {
    "duration": 633,
    "start_time": "2024-07-24T06:18:34.185Z"
   },
   {
    "duration": 74,
    "start_time": "2024-07-24T06:18:34.820Z"
   },
   {
    "duration": 317,
    "start_time": "2024-07-24T06:18:34.897Z"
   },
   {
    "duration": 12,
    "start_time": "2024-07-24T06:18:35.216Z"
   },
   {
    "duration": 26,
    "start_time": "2024-07-24T06:18:35.230Z"
   },
   {
    "duration": 6,
    "start_time": "2024-07-24T06:18:35.258Z"
   },
   {
    "duration": 379,
    "start_time": "2024-07-24T06:18:35.266Z"
   },
   {
    "duration": 262,
    "start_time": "2024-07-24T06:18:35.646Z"
   },
   {
    "duration": 14,
    "start_time": "2024-07-24T06:18:35.909Z"
   },
   {
    "duration": 7,
    "start_time": "2024-07-24T06:18:35.925Z"
   },
   {
    "duration": 284,
    "start_time": "2024-07-24T06:18:35.933Z"
   },
   {
    "duration": 201,
    "start_time": "2024-07-24T06:18:36.219Z"
   },
   {
    "duration": 182,
    "start_time": "2024-07-24T06:19:08.939Z"
   },
   {
    "duration": 230,
    "start_time": "2024-07-24T06:19:38.286Z"
   },
   {
    "duration": 329,
    "start_time": "2024-07-24T06:28:46.218Z"
   },
   {
    "duration": 335,
    "start_time": "2024-07-24T06:29:21.312Z"
   },
   {
    "duration": 340,
    "start_time": "2024-07-24T06:29:43.968Z"
   },
   {
    "duration": 271,
    "start_time": "2024-07-24T06:31:44.384Z"
   },
   {
    "duration": 174,
    "start_time": "2024-07-24T06:33:03.687Z"
   },
   {
    "duration": 179,
    "start_time": "2024-07-24T06:33:26.738Z"
   },
   {
    "duration": 242,
    "start_time": "2024-07-24T06:34:16.476Z"
   },
   {
    "duration": 464,
    "start_time": "2024-07-24T06:36:08.553Z"
   },
   {
    "duration": 330,
    "start_time": "2024-07-24T06:55:13.672Z"
   },
   {
    "duration": 239,
    "start_time": "2024-07-24T06:55:31.433Z"
   },
   {
    "duration": 193,
    "start_time": "2024-07-24T06:56:37.779Z"
   },
   {
    "duration": 222,
    "start_time": "2024-07-24T06:57:54.650Z"
   },
   {
    "duration": 298,
    "start_time": "2024-07-24T06:58:12.830Z"
   },
   {
    "duration": 277,
    "start_time": "2024-07-24T06:58:24.957Z"
   },
   {
    "duration": 293,
    "start_time": "2024-07-24T06:59:31.843Z"
   },
   {
    "duration": 371,
    "start_time": "2024-07-24T07:07:30.613Z"
   },
   {
    "duration": 305,
    "start_time": "2024-07-24T07:07:36.704Z"
   },
   {
    "duration": 379,
    "start_time": "2024-07-24T07:08:07.691Z"
   },
   {
    "duration": 532,
    "start_time": "2024-07-24T07:08:24.929Z"
   },
   {
    "duration": 358,
    "start_time": "2024-07-24T07:08:43.591Z"
   },
   {
    "duration": 395,
    "start_time": "2024-07-24T07:08:58.946Z"
   },
   {
    "duration": 11,
    "start_time": "2024-07-24T07:30:35.487Z"
   },
   {
    "duration": 137,
    "start_time": "2024-07-24T07:33:03.365Z"
   },
   {
    "duration": 138,
    "start_time": "2024-07-24T07:34:06.363Z"
   },
   {
    "duration": 173,
    "start_time": "2024-07-24T07:35:40.264Z"
   },
   {
    "duration": 201,
    "start_time": "2024-07-24T07:36:31.025Z"
   },
   {
    "duration": 15,
    "start_time": "2024-07-24T07:38:57.561Z"
   },
   {
    "duration": 10,
    "start_time": "2024-07-24T07:39:13.343Z"
   },
   {
    "duration": 11,
    "start_time": "2024-07-24T07:39:46.505Z"
   },
   {
    "duration": 177,
    "start_time": "2024-07-24T07:41:30.340Z"
   },
   {
    "duration": 5,
    "start_time": "2024-07-24T07:46:41.420Z"
   },
   {
    "duration": 5,
    "start_time": "2024-07-24T07:46:58.756Z"
   },
   {
    "duration": 12,
    "start_time": "2024-07-24T07:47:12.134Z"
   },
   {
    "duration": 4,
    "start_time": "2024-07-24T07:47:26.006Z"
   },
   {
    "duration": 4,
    "start_time": "2024-07-24T07:47:59.070Z"
   },
   {
    "duration": 187,
    "start_time": "2024-07-24T07:53:11.509Z"
   },
   {
    "duration": 871,
    "start_time": "2024-07-24T07:58:30.813Z"
   },
   {
    "duration": 219,
    "start_time": "2024-07-24T08:12:22.100Z"
   },
   {
    "duration": 4,
    "start_time": "2024-07-24T08:17:38.982Z"
   },
   {
    "duration": 5,
    "start_time": "2024-07-24T08:18:40.037Z"
   },
   {
    "duration": 111,
    "start_time": "2024-07-24T08:22:18.597Z"
   },
   {
    "duration": 218,
    "start_time": "2024-07-24T08:25:06.937Z"
   },
   {
    "duration": 223,
    "start_time": "2024-07-24T08:25:31.803Z"
   },
   {
    "duration": 230,
    "start_time": "2024-07-24T08:28:19.633Z"
   },
   {
    "duration": 138,
    "start_time": "2024-07-24T08:32:40.273Z"
   },
   {
    "duration": 170,
    "start_time": "2024-07-24T08:33:55.804Z"
   },
   {
    "duration": 15,
    "start_time": "2024-07-24T08:38:09.957Z"
   },
   {
    "duration": 3,
    "start_time": "2024-07-24T08:42:10.304Z"
   },
   {
    "duration": 30,
    "start_time": "2024-07-24T08:42:24.076Z"
   },
   {
    "duration": 30,
    "start_time": "2024-07-24T09:07:53.257Z"
   },
   {
    "duration": 12,
    "start_time": "2024-07-24T09:17:21.071Z"
   },
   {
    "duration": 1026,
    "start_time": "2024-07-24T09:25:32.608Z"
   },
   {
    "duration": 1055,
    "start_time": "2024-07-24T09:26:22.802Z"
   },
   {
    "duration": 10,
    "start_time": "2024-07-24T09:27:04.375Z"
   },
   {
    "duration": 10,
    "start_time": "2024-07-24T09:27:57.024Z"
   },
   {
    "duration": 9,
    "start_time": "2024-07-24T09:29:10.270Z"
   },
   {
    "duration": 26,
    "start_time": "2024-07-24T09:32:38.078Z"
   },
   {
    "duration": 16,
    "start_time": "2024-07-24T09:54:17.545Z"
   },
   {
    "duration": 1293,
    "start_time": "2024-07-24T10:20:57.277Z"
   },
   {
    "duration": 100,
    "start_time": "2024-07-24T10:20:58.573Z"
   },
   {
    "duration": 61,
    "start_time": "2024-07-24T10:20:58.675Z"
   },
   {
    "duration": 26,
    "start_time": "2024-07-24T10:20:58.737Z"
   },
   {
    "duration": 520,
    "start_time": "2024-07-24T10:20:58.767Z"
   },
   {
    "duration": 94,
    "start_time": "2024-07-24T10:20:59.289Z"
   },
   {
    "duration": 5,
    "start_time": "2024-07-24T10:20:59.385Z"
   },
   {
    "duration": 693,
    "start_time": "2024-07-24T10:20:59.392Z"
   },
   {
    "duration": 91,
    "start_time": "2024-07-24T10:21:00.087Z"
   },
   {
    "duration": 354,
    "start_time": "2024-07-24T10:21:00.180Z"
   },
   {
    "duration": 23,
    "start_time": "2024-07-24T10:21:00.536Z"
   },
   {
    "duration": 79,
    "start_time": "2024-07-24T10:21:00.564Z"
   },
   {
    "duration": 68,
    "start_time": "2024-07-24T10:21:00.645Z"
   },
   {
    "duration": 414,
    "start_time": "2024-07-24T10:21:00.717Z"
   },
   {
    "duration": 352,
    "start_time": "2024-07-24T10:21:01.133Z"
   },
   {
    "duration": 14,
    "start_time": "2024-07-24T10:21:01.487Z"
   },
   {
    "duration": 90,
    "start_time": "2024-07-24T10:21:01.503Z"
   },
   {
    "duration": 367,
    "start_time": "2024-07-24T10:21:01.595Z"
   },
   {
    "duration": 280,
    "start_time": "2024-07-24T10:21:01.966Z"
   },
   {
    "duration": 386,
    "start_time": "2024-07-24T10:21:02.255Z"
   },
   {
    "duration": 358,
    "start_time": "2024-07-24T10:21:02.643Z"
   },
   {
    "duration": 408,
    "start_time": "2024-07-24T10:21:03.003Z"
   },
   {
    "duration": 13,
    "start_time": "2024-07-24T10:21:03.413Z"
   },
   {
    "duration": 62,
    "start_time": "2024-07-24T10:21:03.428Z"
   },
   {
    "duration": 201,
    "start_time": "2024-07-24T10:21:03.491Z"
   },
   {
    "duration": 4,
    "start_time": "2024-07-24T10:21:03.695Z"
   },
   {
    "duration": 285,
    "start_time": "2024-07-24T10:21:03.700Z"
   },
   {
    "duration": 5,
    "start_time": "2024-07-24T10:21:03.987Z"
   },
   {
    "duration": 274,
    "start_time": "2024-07-24T10:21:03.993Z"
   },
   {
    "duration": 180,
    "start_time": "2024-07-24T10:21:04.269Z"
   },
   {
    "duration": 50,
    "start_time": "2024-07-24T10:21:04.450Z"
   },
   {
    "duration": 45,
    "start_time": "2024-07-24T10:21:04.502Z"
   },
   {
    "duration": 28,
    "start_time": "2024-07-24T10:21:04.549Z"
   },
   {
    "duration": 26,
    "start_time": "2024-07-24T10:21:04.579Z"
   },
   {
    "duration": 90,
    "start_time": "2024-07-24T10:21:04.607Z"
   },
   {
    "duration": 13,
    "start_time": "2024-07-24T10:21:04.699Z"
   },
   {
    "duration": 1279,
    "start_time": "2024-07-24T10:21:43.018Z"
   },
   {
    "duration": 102,
    "start_time": "2024-07-24T10:21:44.299Z"
   },
   {
    "duration": 66,
    "start_time": "2024-07-24T10:21:44.403Z"
   },
   {
    "duration": 4,
    "start_time": "2024-07-24T10:21:44.471Z"
   },
   {
    "duration": 525,
    "start_time": "2024-07-24T10:21:44.478Z"
   },
   {
    "duration": 82,
    "start_time": "2024-07-24T10:21:45.005Z"
   },
   {
    "duration": 4,
    "start_time": "2024-07-24T10:21:45.089Z"
   },
   {
    "duration": 710,
    "start_time": "2024-07-24T10:21:45.095Z"
   },
   {
    "duration": 80,
    "start_time": "2024-07-24T10:21:45.807Z"
   },
   {
    "duration": 311,
    "start_time": "2024-07-24T10:21:45.889Z"
   },
   {
    "duration": 13,
    "start_time": "2024-07-24T10:21:46.201Z"
   },
   {
    "duration": 13,
    "start_time": "2024-07-24T10:21:46.216Z"
   },
   {
    "duration": 33,
    "start_time": "2024-07-24T10:21:46.231Z"
   },
   {
    "duration": 310,
    "start_time": "2024-07-24T10:21:46.268Z"
   },
   {
    "duration": 303,
    "start_time": "2024-07-24T10:21:46.580Z"
   },
   {
    "duration": 18,
    "start_time": "2024-07-24T10:21:46.886Z"
   },
   {
    "duration": 16,
    "start_time": "2024-07-24T10:21:46.907Z"
   },
   {
    "duration": 340,
    "start_time": "2024-07-24T10:21:46.925Z"
   },
   {
    "duration": 298,
    "start_time": "2024-07-24T10:21:47.271Z"
   },
   {
    "duration": 378,
    "start_time": "2024-07-24T10:21:47.571Z"
   },
   {
    "duration": 362,
    "start_time": "2024-07-24T10:21:47.951Z"
   },
   {
    "duration": 425,
    "start_time": "2024-07-24T10:21:48.315Z"
   },
   {
    "duration": 31,
    "start_time": "2024-07-24T10:21:48.742Z"
   },
   {
    "duration": 12,
    "start_time": "2024-07-24T10:21:48.775Z"
   },
   {
    "duration": 189,
    "start_time": "2024-07-24T10:21:48.788Z"
   },
   {
    "duration": 4,
    "start_time": "2024-07-24T10:21:48.979Z"
   },
   {
    "duration": 246,
    "start_time": "2024-07-24T10:21:48.985Z"
   },
   {
    "duration": 4,
    "start_time": "2024-07-24T10:21:49.233Z"
   },
   {
    "duration": 273,
    "start_time": "2024-07-24T10:21:49.239Z"
   },
   {
    "duration": 198,
    "start_time": "2024-07-24T10:21:49.514Z"
   },
   {
    "duration": 50,
    "start_time": "2024-07-24T10:21:49.713Z"
   },
   {
    "duration": 17,
    "start_time": "2024-07-24T10:21:49.769Z"
   },
   {
    "duration": 11,
    "start_time": "2024-07-24T10:21:49.792Z"
   },
   {
    "duration": 72,
    "start_time": "2024-07-24T10:21:49.804Z"
   },
   {
    "duration": 50,
    "start_time": "2024-07-24T10:21:49.878Z"
   },
   {
    "duration": 16,
    "start_time": "2024-07-24T10:21:49.930Z"
   },
   {
    "duration": 1335,
    "start_time": "2024-07-24T10:23:05.629Z"
   },
   {
    "duration": 97,
    "start_time": "2024-07-24T10:23:06.966Z"
   },
   {
    "duration": 53,
    "start_time": "2024-07-24T10:23:07.065Z"
   },
   {
    "duration": 3,
    "start_time": "2024-07-24T10:23:07.120Z"
   },
   {
    "duration": 551,
    "start_time": "2024-07-24T10:23:07.126Z"
   },
   {
    "duration": 90,
    "start_time": "2024-07-24T10:23:07.679Z"
   },
   {
    "duration": 5,
    "start_time": "2024-07-24T10:23:07.772Z"
   },
   {
    "duration": 657,
    "start_time": "2024-07-24T10:23:07.778Z"
   },
   {
    "duration": 69,
    "start_time": "2024-07-24T10:23:08.437Z"
   },
   {
    "duration": 362,
    "start_time": "2024-07-24T10:23:08.508Z"
   },
   {
    "duration": 17,
    "start_time": "2024-07-24T10:23:08.872Z"
   },
   {
    "duration": 27,
    "start_time": "2024-07-24T10:23:08.891Z"
   },
   {
    "duration": 9,
    "start_time": "2024-07-24T10:23:08.920Z"
   },
   {
    "duration": 335,
    "start_time": "2024-07-24T10:23:08.932Z"
   },
   {
    "duration": 276,
    "start_time": "2024-07-24T10:23:09.269Z"
   },
   {
    "duration": 22,
    "start_time": "2024-07-24T10:23:09.547Z"
   },
   {
    "duration": 12,
    "start_time": "2024-07-24T10:23:09.572Z"
   },
   {
    "duration": 285,
    "start_time": "2024-07-24T10:23:09.585Z"
   },
   {
    "duration": 267,
    "start_time": "2024-07-24T10:23:09.872Z"
   },
   {
    "duration": 391,
    "start_time": "2024-07-24T10:23:10.140Z"
   },
   {
    "duration": 346,
    "start_time": "2024-07-24T10:23:10.533Z"
   },
   {
    "duration": 389,
    "start_time": "2024-07-24T10:23:10.881Z"
   },
   {
    "duration": 11,
    "start_time": "2024-07-24T10:23:11.272Z"
   },
   {
    "duration": 8,
    "start_time": "2024-07-24T10:23:11.285Z"
   },
   {
    "duration": 217,
    "start_time": "2024-07-24T10:23:11.295Z"
   },
   {
    "duration": 5,
    "start_time": "2024-07-24T10:23:11.514Z"
   },
   {
    "duration": 257,
    "start_time": "2024-07-24T10:23:11.521Z"
   },
   {
    "duration": 5,
    "start_time": "2024-07-24T10:23:11.780Z"
   },
   {
    "duration": 248,
    "start_time": "2024-07-24T10:23:11.787Z"
   },
   {
    "duration": 165,
    "start_time": "2024-07-24T10:23:12.036Z"
   },
   {
    "duration": 30,
    "start_time": "2024-07-24T10:23:12.203Z"
   },
   {
    "duration": 33,
    "start_time": "2024-07-24T10:23:12.235Z"
   },
   {
    "duration": 10,
    "start_time": "2024-07-24T10:23:12.270Z"
   },
   {
    "duration": 28,
    "start_time": "2024-07-24T10:23:12.282Z"
   },
   {
    "duration": 35,
    "start_time": "2024-07-24T10:23:12.312Z"
   },
   {
    "duration": 20,
    "start_time": "2024-07-24T10:23:12.349Z"
   },
   {
    "duration": 56,
    "start_time": "2024-07-24T10:23:40.672Z"
   },
   {
    "duration": 1197,
    "start_time": "2024-07-24T10:25:45.764Z"
   },
   {
    "duration": 89,
    "start_time": "2024-07-24T10:25:46.963Z"
   },
   {
    "duration": 53,
    "start_time": "2024-07-24T10:25:47.053Z"
   },
   {
    "duration": 3,
    "start_time": "2024-07-24T10:25:47.107Z"
   },
   {
    "duration": 487,
    "start_time": "2024-07-24T10:25:47.113Z"
   },
   {
    "duration": 81,
    "start_time": "2024-07-24T10:25:47.602Z"
   },
   {
    "duration": 3,
    "start_time": "2024-07-24T10:25:47.685Z"
   },
   {
    "duration": 656,
    "start_time": "2024-07-24T10:25:47.690Z"
   },
   {
    "duration": 55,
    "start_time": "2024-07-24T10:25:48.348Z"
   },
   {
    "duration": 320,
    "start_time": "2024-07-24T10:25:48.404Z"
   },
   {
    "duration": 14,
    "start_time": "2024-07-24T10:25:48.726Z"
   },
   {
    "duration": 13,
    "start_time": "2024-07-24T10:25:48.754Z"
   },
   {
    "duration": 6,
    "start_time": "2024-07-24T10:25:48.769Z"
   },
   {
    "duration": 311,
    "start_time": "2024-07-24T10:25:48.778Z"
   },
   {
    "duration": 306,
    "start_time": "2024-07-24T10:25:49.091Z"
   },
   {
    "duration": 13,
    "start_time": "2024-07-24T10:25:49.399Z"
   },
   {
    "duration": 8,
    "start_time": "2024-07-24T10:25:49.414Z"
   },
   {
    "duration": 305,
    "start_time": "2024-07-24T10:25:49.424Z"
   },
   {
    "duration": 265,
    "start_time": "2024-07-24T10:25:49.731Z"
   },
   {
    "duration": 334,
    "start_time": "2024-07-24T10:25:49.997Z"
   },
   {
    "duration": 319,
    "start_time": "2024-07-24T10:25:50.333Z"
   },
   {
    "duration": 386,
    "start_time": "2024-07-24T10:25:50.654Z"
   },
   {
    "duration": 18,
    "start_time": "2024-07-24T10:25:51.042Z"
   },
   {
    "duration": 12,
    "start_time": "2024-07-24T10:25:51.062Z"
   },
   {
    "duration": 194,
    "start_time": "2024-07-24T10:25:51.076Z"
   },
   {
    "duration": 4,
    "start_time": "2024-07-24T10:25:51.272Z"
   },
   {
    "duration": 220,
    "start_time": "2024-07-24T10:25:51.278Z"
   },
   {
    "duration": 4,
    "start_time": "2024-07-24T10:25:51.500Z"
   },
   {
    "duration": 232,
    "start_time": "2024-07-24T10:25:51.506Z"
   },
   {
    "duration": 151,
    "start_time": "2024-07-24T10:25:51.740Z"
   },
   {
    "duration": 29,
    "start_time": "2024-07-24T10:25:51.892Z"
   },
   {
    "duration": 16,
    "start_time": "2024-07-24T10:25:51.923Z"
   },
   {
    "duration": 20,
    "start_time": "2024-07-24T10:25:51.941Z"
   },
   {
    "duration": 11,
    "start_time": "2024-07-24T10:25:51.963Z"
   },
   {
    "duration": 33,
    "start_time": "2024-07-24T10:25:51.976Z"
   },
   {
    "duration": 14,
    "start_time": "2024-07-24T10:25:52.011Z"
   },
   {
    "duration": 1058,
    "start_time": "2024-07-24T10:44:59.152Z"
   },
   {
    "duration": 91,
    "start_time": "2024-07-24T10:45:00.212Z"
   },
   {
    "duration": 47,
    "start_time": "2024-07-24T10:45:00.305Z"
   },
   {
    "duration": 52,
    "start_time": "2024-07-24T10:45:00.354Z"
   },
   {
    "duration": 409,
    "start_time": "2024-07-24T10:45:00.407Z"
   },
   {
    "duration": 45,
    "start_time": "2024-07-24T10:45:00.818Z"
   },
   {
    "duration": 39,
    "start_time": "2024-07-24T10:45:00.864Z"
   },
   {
    "duration": 610,
    "start_time": "2024-07-24T10:45:00.904Z"
   },
   {
    "duration": 98,
    "start_time": "2024-07-24T10:45:01.515Z"
   },
   {
    "duration": 619,
    "start_time": "2024-07-24T10:45:01.616Z"
   },
   {
    "duration": 64,
    "start_time": "2024-07-24T10:45:02.236Z"
   },
   {
    "duration": 10,
    "start_time": "2024-07-24T10:45:02.301Z"
   },
   {
    "duration": 24,
    "start_time": "2024-07-24T10:45:02.312Z"
   },
   {
    "duration": 433,
    "start_time": "2024-07-24T10:45:02.337Z"
   },
   {
    "duration": 227,
    "start_time": "2024-07-24T10:45:02.771Z"
   },
   {
    "duration": 11,
    "start_time": "2024-07-24T10:45:02.999Z"
   },
   {
    "duration": 13,
    "start_time": "2024-07-24T10:45:03.012Z"
   },
   {
    "duration": 215,
    "start_time": "2024-07-24T10:45:03.026Z"
   },
   {
    "duration": 212,
    "start_time": "2024-07-24T10:45:03.242Z"
   },
   {
    "duration": 316,
    "start_time": "2024-07-24T10:45:03.455Z"
   },
   {
    "duration": 242,
    "start_time": "2024-07-24T10:45:03.773Z"
   },
   {
    "duration": 332,
    "start_time": "2024-07-24T10:45:04.016Z"
   },
   {
    "duration": 12,
    "start_time": "2024-07-24T10:45:04.349Z"
   },
   {
    "duration": 21,
    "start_time": "2024-07-24T10:45:04.362Z"
   },
   {
    "duration": 162,
    "start_time": "2024-07-24T10:45:04.385Z"
   },
   {
    "duration": 4,
    "start_time": "2024-07-24T10:45:04.548Z"
   },
   {
    "duration": 186,
    "start_time": "2024-07-24T10:45:04.553Z"
   },
   {
    "duration": 4,
    "start_time": "2024-07-24T10:45:04.742Z"
   },
   {
    "duration": 204,
    "start_time": "2024-07-24T10:45:04.748Z"
   },
   {
    "duration": 132,
    "start_time": "2024-07-24T10:45:04.954Z"
   },
   {
    "duration": 30,
    "start_time": "2024-07-24T10:45:05.088Z"
   },
   {
    "duration": 9,
    "start_time": "2024-07-24T10:45:05.119Z"
   },
   {
    "duration": 10,
    "start_time": "2024-07-24T10:45:05.129Z"
   },
   {
    "duration": 6,
    "start_time": "2024-07-24T10:45:05.141Z"
   },
   {
    "duration": 32,
    "start_time": "2024-07-24T10:45:05.148Z"
   },
   {
    "duration": 13,
    "start_time": "2024-07-24T10:45:05.195Z"
   },
   {
    "duration": 73,
    "start_time": "2024-07-24T13:17:34.398Z"
   },
   {
    "duration": 50,
    "start_time": "2024-07-24T13:18:26.877Z"
   },
   {
    "duration": 1427,
    "start_time": "2024-07-24T13:19:17.816Z"
   },
   {
    "duration": 244,
    "start_time": "2024-07-24T13:19:19.246Z"
   },
   {
    "duration": 50,
    "start_time": "2024-07-24T13:19:19.492Z"
   },
   {
    "duration": 95,
    "start_time": "2024-07-24T13:19:19.544Z"
   },
   {
    "duration": 481,
    "start_time": "2024-07-24T13:19:19.641Z"
   },
   {
    "duration": 70,
    "start_time": "2024-07-24T13:19:20.124Z"
   },
   {
    "duration": 5,
    "start_time": "2024-07-24T13:19:20.196Z"
   },
   {
    "duration": 677,
    "start_time": "2024-07-24T13:19:20.203Z"
   },
   {
    "duration": 75,
    "start_time": "2024-07-24T13:19:20.881Z"
   },
   {
    "duration": 303,
    "start_time": "2024-07-24T13:19:20.958Z"
   },
   {
    "duration": 12,
    "start_time": "2024-07-24T13:19:21.262Z"
   },
   {
    "duration": 20,
    "start_time": "2024-07-24T13:19:21.276Z"
   },
   {
    "duration": 16,
    "start_time": "2024-07-24T13:19:21.298Z"
   },
   {
    "duration": 42,
    "start_time": "2024-07-24T13:19:21.317Z"
   },
   {
    "duration": 308,
    "start_time": "2024-07-24T13:19:21.361Z"
   },
   {
    "duration": 297,
    "start_time": "2024-07-24T13:19:21.670Z"
   },
   {
    "duration": 13,
    "start_time": "2024-07-24T13:19:21.968Z"
   },
   {
    "duration": 14,
    "start_time": "2024-07-24T13:19:21.983Z"
   },
   {
    "duration": 301,
    "start_time": "2024-07-24T13:19:21.999Z"
   },
   {
    "duration": 257,
    "start_time": "2024-07-24T13:19:22.302Z"
   },
   {
    "duration": 395,
    "start_time": "2024-07-24T13:19:22.560Z"
   },
   {
    "duration": 336,
    "start_time": "2024-07-24T13:19:22.957Z"
   },
   {
    "duration": 368,
    "start_time": "2024-07-24T13:19:23.295Z"
   },
   {
    "duration": 14,
    "start_time": "2024-07-24T13:19:23.664Z"
   },
   {
    "duration": 54,
    "start_time": "2024-07-24T13:19:23.679Z"
   },
   {
    "duration": 191,
    "start_time": "2024-07-24T13:19:23.735Z"
   },
   {
    "duration": 4,
    "start_time": "2024-07-24T13:19:23.928Z"
   },
   {
    "duration": 219,
    "start_time": "2024-07-24T13:19:23.933Z"
   },
   {
    "duration": 5,
    "start_time": "2024-07-24T13:19:24.155Z"
   },
   {
    "duration": 256,
    "start_time": "2024-07-24T13:19:24.162Z"
   },
   {
    "duration": 157,
    "start_time": "2024-07-24T13:19:24.420Z"
   },
   {
    "duration": 30,
    "start_time": "2024-07-24T13:19:24.579Z"
   },
   {
    "duration": 12,
    "start_time": "2024-07-24T13:19:24.610Z"
   },
   {
    "duration": 34,
    "start_time": "2024-07-24T13:19:24.624Z"
   },
   {
    "duration": 26,
    "start_time": "2024-07-24T13:19:24.660Z"
   },
   {
    "duration": 45,
    "start_time": "2024-07-24T13:19:24.688Z"
   },
   {
    "duration": 32,
    "start_time": "2024-07-24T13:19:24.735Z"
   },
   {
    "duration": 14,
    "start_time": "2024-07-24T13:19:46.870Z"
   },
   {
    "duration": 10,
    "start_time": "2024-07-24T13:42:48.776Z"
   },
   {
    "duration": 9,
    "start_time": "2024-07-24T13:43:01.336Z"
   },
   {
    "duration": 10,
    "start_time": "2024-07-24T13:43:55.536Z"
   },
   {
    "duration": 9,
    "start_time": "2024-07-24T13:44:26.875Z"
   },
   {
    "duration": 112,
    "start_time": "2024-07-24T13:49:25.926Z"
   },
   {
    "duration": 8,
    "start_time": "2024-07-24T13:49:39.947Z"
   },
   {
    "duration": 8,
    "start_time": "2024-07-24T13:53:32.157Z"
   },
   {
    "duration": 4,
    "start_time": "2024-07-24T13:55:09.651Z"
   },
   {
    "duration": 5,
    "start_time": "2024-07-24T13:55:24.841Z"
   },
   {
    "duration": 5,
    "start_time": "2024-07-24T13:55:40.285Z"
   },
   {
    "duration": 3470,
    "start_time": "2024-07-24T13:55:54.833Z"
   },
   {
    "duration": 5,
    "start_time": "2024-07-24T13:56:05.000Z"
   },
   {
    "duration": 4,
    "start_time": "2024-07-24T14:00:17.814Z"
   },
   {
    "duration": 4,
    "start_time": "2024-07-24T14:00:34.094Z"
   },
   {
    "duration": 5,
    "start_time": "2024-07-24T14:00:56.414Z"
   },
   {
    "duration": 5,
    "start_time": "2024-07-24T14:02:10.428Z"
   },
   {
    "duration": 4,
    "start_time": "2024-07-24T14:02:13.982Z"
   },
   {
    "duration": 4,
    "start_time": "2024-07-24T14:02:27.715Z"
   },
   {
    "duration": 9,
    "start_time": "2024-07-24T14:05:04.118Z"
   },
   {
    "duration": 8,
    "start_time": "2024-07-24T14:05:15.628Z"
   },
   {
    "duration": 8,
    "start_time": "2024-07-24T14:05:24.282Z"
   },
   {
    "duration": 5,
    "start_time": "2024-07-24T14:08:02.803Z"
   },
   {
    "duration": 5,
    "start_time": "2024-07-24T14:09:40.016Z"
   },
   {
    "duration": 9,
    "start_time": "2024-07-24T14:10:32.586Z"
   },
   {
    "duration": 5,
    "start_time": "2024-07-24T14:10:43.659Z"
   },
   {
    "duration": 11,
    "start_time": "2024-07-24T14:14:06.773Z"
   },
   {
    "duration": 9,
    "start_time": "2024-07-24T14:14:21.751Z"
   },
   {
    "duration": 7,
    "start_time": "2024-07-24T14:14:58.023Z"
   },
   {
    "duration": 11,
    "start_time": "2024-07-24T14:15:04.977Z"
   },
   {
    "duration": 9,
    "start_time": "2024-07-24T14:15:18.274Z"
   },
   {
    "duration": 9,
    "start_time": "2024-07-24T14:15:25.247Z"
   },
   {
    "duration": 1220,
    "start_time": "2024-07-24T14:15:36.927Z"
   },
   {
    "duration": 95,
    "start_time": "2024-07-24T14:15:38.149Z"
   },
   {
    "duration": 59,
    "start_time": "2024-07-24T14:15:38.245Z"
   },
   {
    "duration": 5,
    "start_time": "2024-07-24T14:15:38.306Z"
   },
   {
    "duration": 518,
    "start_time": "2024-07-24T14:15:38.314Z"
   },
   {
    "duration": 66,
    "start_time": "2024-07-24T14:15:38.834Z"
   },
   {
    "duration": 4,
    "start_time": "2024-07-24T14:15:38.902Z"
   },
   {
    "duration": 666,
    "start_time": "2024-07-24T14:15:38.907Z"
   },
   {
    "duration": 87,
    "start_time": "2024-07-24T14:15:39.575Z"
   },
   {
    "duration": 299,
    "start_time": "2024-07-24T14:15:39.663Z"
   },
   {
    "duration": 13,
    "start_time": "2024-07-24T14:15:39.964Z"
   },
   {
    "duration": 11,
    "start_time": "2024-07-24T14:15:39.979Z"
   },
   {
    "duration": 6,
    "start_time": "2024-07-24T14:15:39.991Z"
   },
   {
    "duration": 17,
    "start_time": "2024-07-24T14:15:40.000Z"
   },
   {
    "duration": 10,
    "start_time": "2024-07-24T14:15:40.018Z"
   },
   {
    "duration": 10,
    "start_time": "2024-07-24T14:15:40.055Z"
   },
   {
    "duration": 32,
    "start_time": "2024-07-24T14:15:40.067Z"
   },
   {
    "duration": 8,
    "start_time": "2024-07-24T14:15:40.101Z"
   },
   {
    "duration": 12,
    "start_time": "2024-07-24T14:15:40.111Z"
   },
   {
    "duration": 13,
    "start_time": "2024-07-24T14:15:40.125Z"
   },
   {
    "duration": 10,
    "start_time": "2024-07-24T14:15:40.140Z"
   },
   {
    "duration": 313,
    "start_time": "2024-07-24T14:15:40.154Z"
   },
   {
    "duration": 297,
    "start_time": "2024-07-24T14:15:40.469Z"
   },
   {
    "duration": 13,
    "start_time": "2024-07-24T14:15:40.768Z"
   },
   {
    "duration": 12,
    "start_time": "2024-07-24T14:15:40.783Z"
   },
   {
    "duration": 279,
    "start_time": "2024-07-24T14:15:40.796Z"
   },
   {
    "duration": 253,
    "start_time": "2024-07-24T14:15:41.077Z"
   },
   {
    "duration": 379,
    "start_time": "2024-07-24T14:15:41.332Z"
   },
   {
    "duration": 327,
    "start_time": "2024-07-24T14:15:41.713Z"
   },
   {
    "duration": 400,
    "start_time": "2024-07-24T14:15:42.042Z"
   },
   {
    "duration": 20,
    "start_time": "2024-07-24T14:15:42.445Z"
   },
   {
    "duration": 13,
    "start_time": "2024-07-24T14:15:42.467Z"
   },
   {
    "duration": 177,
    "start_time": "2024-07-24T14:15:42.481Z"
   },
   {
    "duration": 5,
    "start_time": "2024-07-24T14:15:42.659Z"
   },
   {
    "duration": 317,
    "start_time": "2024-07-24T14:15:42.666Z"
   },
   {
    "duration": 5,
    "start_time": "2024-07-24T14:15:42.985Z"
   },
   {
    "duration": 573,
    "start_time": "2024-07-24T14:15:42.992Z"
   },
   {
    "duration": 324,
    "start_time": "2024-07-24T14:15:43.568Z"
   },
   {
    "duration": 76,
    "start_time": "2024-07-24T14:15:43.893Z"
   },
   {
    "duration": 10,
    "start_time": "2024-07-24T14:15:43.970Z"
   },
   {
    "duration": 11,
    "start_time": "2024-07-24T14:15:43.984Z"
   },
   {
    "duration": 63,
    "start_time": "2024-07-24T14:15:43.996Z"
   },
   {
    "duration": 25,
    "start_time": "2024-07-24T14:15:44.061Z"
   },
   {
    "duration": 68,
    "start_time": "2024-07-24T14:15:44.088Z"
   },
   {
    "duration": 7,
    "start_time": "2024-07-24T14:16:08.335Z"
   },
   {
    "duration": 1172,
    "start_time": "2024-07-24T14:16:21.285Z"
   },
   {
    "duration": 89,
    "start_time": "2024-07-24T14:16:22.459Z"
   },
   {
    "duration": 54,
    "start_time": "2024-07-24T14:16:22.549Z"
   },
   {
    "duration": 3,
    "start_time": "2024-07-24T14:16:22.605Z"
   },
   {
    "duration": 471,
    "start_time": "2024-07-24T14:16:22.610Z"
   },
   {
    "duration": 84,
    "start_time": "2024-07-24T14:16:23.083Z"
   },
   {
    "duration": 4,
    "start_time": "2024-07-24T14:16:23.169Z"
   },
   {
    "duration": 659,
    "start_time": "2024-07-24T14:16:23.175Z"
   },
   {
    "duration": 65,
    "start_time": "2024-07-24T14:16:23.836Z"
   },
   {
    "duration": 323,
    "start_time": "2024-07-24T14:16:23.903Z"
   },
   {
    "duration": 14,
    "start_time": "2024-07-24T14:16:24.228Z"
   },
   {
    "duration": 13,
    "start_time": "2024-07-24T14:16:24.256Z"
   },
   {
    "duration": 35,
    "start_time": "2024-07-24T14:16:24.271Z"
   },
   {
    "duration": 16,
    "start_time": "2024-07-24T14:16:24.310Z"
   },
   {
    "duration": 12,
    "start_time": "2024-07-24T14:16:24.327Z"
   },
   {
    "duration": 12,
    "start_time": "2024-07-24T14:16:24.340Z"
   },
   {
    "duration": 4,
    "start_time": "2024-07-24T14:16:24.354Z"
   },
   {
    "duration": 16,
    "start_time": "2024-07-24T14:16:24.359Z"
   },
   {
    "duration": 7,
    "start_time": "2024-07-24T14:16:24.376Z"
   },
   {
    "duration": 10,
    "start_time": "2024-07-24T14:16:24.385Z"
   },
   {
    "duration": 14,
    "start_time": "2024-07-24T14:16:24.397Z"
   },
   {
    "duration": 126,
    "start_time": "2024-07-24T14:16:24.412Z"
   },
   {
    "duration": 0,
    "start_time": "2024-07-24T14:16:24.540Z"
   },
   {
    "duration": 0,
    "start_time": "2024-07-24T14:16:24.541Z"
   },
   {
    "duration": 0,
    "start_time": "2024-07-24T14:16:24.542Z"
   },
   {
    "duration": 0,
    "start_time": "2024-07-24T14:16:24.543Z"
   },
   {
    "duration": 0,
    "start_time": "2024-07-24T14:16:24.556Z"
   },
   {
    "duration": 0,
    "start_time": "2024-07-24T14:16:24.557Z"
   },
   {
    "duration": 0,
    "start_time": "2024-07-24T14:16:24.558Z"
   },
   {
    "duration": 0,
    "start_time": "2024-07-24T14:16:24.559Z"
   },
   {
    "duration": 0,
    "start_time": "2024-07-24T14:16:24.560Z"
   },
   {
    "duration": 0,
    "start_time": "2024-07-24T14:16:24.561Z"
   },
   {
    "duration": 0,
    "start_time": "2024-07-24T14:16:24.562Z"
   },
   {
    "duration": 0,
    "start_time": "2024-07-24T14:16:24.563Z"
   },
   {
    "duration": 0,
    "start_time": "2024-07-24T14:16:24.564Z"
   },
   {
    "duration": 0,
    "start_time": "2024-07-24T14:16:24.565Z"
   },
   {
    "duration": 0,
    "start_time": "2024-07-24T14:16:24.566Z"
   },
   {
    "duration": 0,
    "start_time": "2024-07-24T14:16:24.567Z"
   },
   {
    "duration": 0,
    "start_time": "2024-07-24T14:16:24.568Z"
   },
   {
    "duration": 0,
    "start_time": "2024-07-24T14:16:24.569Z"
   },
   {
    "duration": 0,
    "start_time": "2024-07-24T14:16:24.570Z"
   },
   {
    "duration": 0,
    "start_time": "2024-07-24T14:16:24.571Z"
   },
   {
    "duration": 0,
    "start_time": "2024-07-24T14:16:24.572Z"
   },
   {
    "duration": 0,
    "start_time": "2024-07-24T14:16:24.573Z"
   },
   {
    "duration": 10,
    "start_time": "2024-07-24T14:16:53.686Z"
   },
   {
    "duration": 1222,
    "start_time": "2024-07-24T14:17:18.540Z"
   },
   {
    "duration": 88,
    "start_time": "2024-07-24T14:17:19.764Z"
   },
   {
    "duration": 57,
    "start_time": "2024-07-24T14:17:19.854Z"
   },
   {
    "duration": 3,
    "start_time": "2024-07-24T14:17:19.914Z"
   },
   {
    "duration": 488,
    "start_time": "2024-07-24T14:17:19.918Z"
   },
   {
    "duration": 73,
    "start_time": "2024-07-24T14:17:20.407Z"
   },
   {
    "duration": 4,
    "start_time": "2024-07-24T14:17:20.482Z"
   },
   {
    "duration": 671,
    "start_time": "2024-07-24T14:17:20.487Z"
   },
   {
    "duration": 62,
    "start_time": "2024-07-24T14:17:21.159Z"
   },
   {
    "duration": 309,
    "start_time": "2024-07-24T14:17:21.256Z"
   },
   {
    "duration": 13,
    "start_time": "2024-07-24T14:17:21.566Z"
   },
   {
    "duration": 11,
    "start_time": "2024-07-24T14:17:21.580Z"
   },
   {
    "duration": 16,
    "start_time": "2024-07-24T14:17:21.592Z"
   },
   {
    "duration": 30,
    "start_time": "2024-07-24T14:17:21.609Z"
   },
   {
    "duration": 17,
    "start_time": "2024-07-24T14:17:21.640Z"
   },
   {
    "duration": 20,
    "start_time": "2024-07-24T14:17:21.659Z"
   },
   {
    "duration": 10,
    "start_time": "2024-07-24T14:17:21.681Z"
   },
   {
    "duration": 51,
    "start_time": "2024-07-24T14:17:21.693Z"
   },
   {
    "duration": 132,
    "start_time": "2024-07-24T14:17:21.746Z"
   },
   {
    "duration": 24,
    "start_time": "2024-07-24T14:17:21.879Z"
   },
   {
    "duration": 7,
    "start_time": "2024-07-24T14:17:21.905Z"
   },
   {
    "duration": 100,
    "start_time": "2024-07-24T14:17:21.914Z"
   },
   {
    "duration": 0,
    "start_time": "2024-07-24T14:17:22.017Z"
   },
   {
    "duration": 0,
    "start_time": "2024-07-24T14:17:22.018Z"
   },
   {
    "duration": 1,
    "start_time": "2024-07-24T14:17:22.018Z"
   },
   {
    "duration": 0,
    "start_time": "2024-07-24T14:17:22.020Z"
   },
   {
    "duration": 0,
    "start_time": "2024-07-24T14:17:22.021Z"
   },
   {
    "duration": 0,
    "start_time": "2024-07-24T14:17:22.022Z"
   },
   {
    "duration": 0,
    "start_time": "2024-07-24T14:17:22.023Z"
   },
   {
    "duration": 0,
    "start_time": "2024-07-24T14:17:22.024Z"
   },
   {
    "duration": 0,
    "start_time": "2024-07-24T14:17:22.025Z"
   },
   {
    "duration": 0,
    "start_time": "2024-07-24T14:17:22.026Z"
   },
   {
    "duration": 0,
    "start_time": "2024-07-24T14:17:22.027Z"
   },
   {
    "duration": 0,
    "start_time": "2024-07-24T14:17:22.028Z"
   },
   {
    "duration": 0,
    "start_time": "2024-07-24T14:17:22.029Z"
   },
   {
    "duration": 0,
    "start_time": "2024-07-24T14:17:22.055Z"
   },
   {
    "duration": 0,
    "start_time": "2024-07-24T14:17:22.057Z"
   },
   {
    "duration": 0,
    "start_time": "2024-07-24T14:17:22.058Z"
   },
   {
    "duration": 0,
    "start_time": "2024-07-24T14:17:22.059Z"
   },
   {
    "duration": 0,
    "start_time": "2024-07-24T14:17:22.061Z"
   },
   {
    "duration": 0,
    "start_time": "2024-07-24T14:17:22.062Z"
   },
   {
    "duration": 0,
    "start_time": "2024-07-24T14:17:22.063Z"
   },
   {
    "duration": 0,
    "start_time": "2024-07-24T14:17:22.064Z"
   },
   {
    "duration": 0,
    "start_time": "2024-07-24T14:17:22.065Z"
   },
   {
    "duration": 0,
    "start_time": "2024-07-24T14:17:22.066Z"
   },
   {
    "duration": 10,
    "start_time": "2024-07-24T14:18:02.540Z"
   },
   {
    "duration": 11,
    "start_time": "2024-07-24T14:18:04.374Z"
   },
   {
    "duration": 1204,
    "start_time": "2024-07-24T14:18:17.651Z"
   },
   {
    "duration": 89,
    "start_time": "2024-07-24T14:18:18.857Z"
   },
   {
    "duration": 52,
    "start_time": "2024-07-24T14:18:18.947Z"
   },
   {
    "duration": 3,
    "start_time": "2024-07-24T14:18:19.001Z"
   },
   {
    "duration": 494,
    "start_time": "2024-07-24T14:18:19.005Z"
   },
   {
    "duration": 71,
    "start_time": "2024-07-24T14:18:19.501Z"
   },
   {
    "duration": 3,
    "start_time": "2024-07-24T14:18:19.574Z"
   },
   {
    "duration": 645,
    "start_time": "2024-07-24T14:18:19.579Z"
   },
   {
    "duration": 62,
    "start_time": "2024-07-24T14:18:20.226Z"
   },
   {
    "duration": 317,
    "start_time": "2024-07-24T14:18:20.290Z"
   },
   {
    "duration": 12,
    "start_time": "2024-07-24T14:18:20.609Z"
   },
   {
    "duration": 19,
    "start_time": "2024-07-24T14:18:20.622Z"
   },
   {
    "duration": 27,
    "start_time": "2024-07-24T14:18:20.643Z"
   },
   {
    "duration": 11,
    "start_time": "2024-07-24T14:18:20.673Z"
   },
   {
    "duration": 26,
    "start_time": "2024-07-24T14:18:20.685Z"
   },
   {
    "duration": 11,
    "start_time": "2024-07-24T14:18:20.713Z"
   },
   {
    "duration": 10,
    "start_time": "2024-07-24T14:18:20.725Z"
   },
   {
    "duration": 37,
    "start_time": "2024-07-24T14:18:20.737Z"
   },
   {
    "duration": 31,
    "start_time": "2024-07-24T14:18:20.775Z"
   },
   {
    "duration": 29,
    "start_time": "2024-07-24T14:18:20.808Z"
   },
   {
    "duration": 29,
    "start_time": "2024-07-24T14:18:20.839Z"
   },
   {
    "duration": 141,
    "start_time": "2024-07-24T14:18:20.869Z"
   },
   {
    "duration": 0,
    "start_time": "2024-07-24T14:18:21.012Z"
   },
   {
    "duration": 0,
    "start_time": "2024-07-24T14:18:21.013Z"
   },
   {
    "duration": 0,
    "start_time": "2024-07-24T14:18:21.014Z"
   },
   {
    "duration": 0,
    "start_time": "2024-07-24T14:18:21.015Z"
   },
   {
    "duration": 0,
    "start_time": "2024-07-24T14:18:21.016Z"
   },
   {
    "duration": 0,
    "start_time": "2024-07-24T14:18:21.017Z"
   },
   {
    "duration": 0,
    "start_time": "2024-07-24T14:18:21.018Z"
   },
   {
    "duration": 0,
    "start_time": "2024-07-24T14:18:21.020Z"
   },
   {
    "duration": 0,
    "start_time": "2024-07-24T14:18:21.021Z"
   },
   {
    "duration": 0,
    "start_time": "2024-07-24T14:18:21.022Z"
   },
   {
    "duration": 0,
    "start_time": "2024-07-24T14:18:21.023Z"
   },
   {
    "duration": 0,
    "start_time": "2024-07-24T14:18:21.024Z"
   },
   {
    "duration": 0,
    "start_time": "2024-07-24T14:18:21.025Z"
   },
   {
    "duration": 0,
    "start_time": "2024-07-24T14:18:21.026Z"
   },
   {
    "duration": 0,
    "start_time": "2024-07-24T14:18:21.027Z"
   },
   {
    "duration": 0,
    "start_time": "2024-07-24T14:18:21.028Z"
   },
   {
    "duration": 0,
    "start_time": "2024-07-24T14:18:21.055Z"
   },
   {
    "duration": 0,
    "start_time": "2024-07-24T14:18:21.057Z"
   },
   {
    "duration": 0,
    "start_time": "2024-07-24T14:18:21.058Z"
   },
   {
    "duration": 0,
    "start_time": "2024-07-24T14:18:21.059Z"
   },
   {
    "duration": 0,
    "start_time": "2024-07-24T14:18:21.060Z"
   },
   {
    "duration": 0,
    "start_time": "2024-07-24T14:18:21.061Z"
   },
   {
    "duration": 0,
    "start_time": "2024-07-24T14:18:21.062Z"
   },
   {
    "duration": 7,
    "start_time": "2024-07-24T14:19:17.776Z"
   },
   {
    "duration": 13,
    "start_time": "2024-07-24T14:19:26.608Z"
   },
   {
    "duration": 9,
    "start_time": "2024-07-24T14:19:30.410Z"
   },
   {
    "duration": 1180,
    "start_time": "2024-07-24T14:19:42.303Z"
   },
   {
    "duration": 90,
    "start_time": "2024-07-24T14:19:43.485Z"
   },
   {
    "duration": 53,
    "start_time": "2024-07-24T14:19:43.576Z"
   },
   {
    "duration": 3,
    "start_time": "2024-07-24T14:19:43.631Z"
   },
   {
    "duration": 449,
    "start_time": "2024-07-24T14:19:43.655Z"
   },
   {
    "duration": 72,
    "start_time": "2024-07-24T14:19:44.106Z"
   },
   {
    "duration": 4,
    "start_time": "2024-07-24T14:19:44.180Z"
   },
   {
    "duration": 661,
    "start_time": "2024-07-24T14:19:44.186Z"
   },
   {
    "duration": 52,
    "start_time": "2024-07-24T14:19:44.849Z"
   },
   {
    "duration": 337,
    "start_time": "2024-07-24T14:19:44.905Z"
   },
   {
    "duration": 22,
    "start_time": "2024-07-24T14:19:45.243Z"
   },
   {
    "duration": 12,
    "start_time": "2024-07-24T14:19:45.267Z"
   },
   {
    "duration": 12,
    "start_time": "2024-07-24T14:19:45.280Z"
   },
   {
    "duration": 15,
    "start_time": "2024-07-24T14:19:45.293Z"
   },
   {
    "duration": 9,
    "start_time": "2024-07-24T14:19:45.310Z"
   },
   {
    "duration": 19,
    "start_time": "2024-07-24T14:19:45.321Z"
   },
   {
    "duration": 4,
    "start_time": "2024-07-24T14:19:45.355Z"
   },
   {
    "duration": 14,
    "start_time": "2024-07-24T14:19:45.361Z"
   },
   {
    "duration": 10,
    "start_time": "2024-07-24T14:19:45.377Z"
   },
   {
    "duration": 47,
    "start_time": "2024-07-24T14:19:45.389Z"
   },
   {
    "duration": 9,
    "start_time": "2024-07-24T14:19:45.438Z"
   },
   {
    "duration": 9,
    "start_time": "2024-07-24T14:19:45.449Z"
   },
   {
    "duration": 320,
    "start_time": "2024-07-24T14:19:45.460Z"
   },
   {
    "duration": 263,
    "start_time": "2024-07-24T14:19:45.781Z"
   },
   {
    "duration": 17,
    "start_time": "2024-07-24T14:19:46.046Z"
   },
   {
    "duration": 19,
    "start_time": "2024-07-24T14:19:46.065Z"
   },
   {
    "duration": 278,
    "start_time": "2024-07-24T14:19:46.086Z"
   },
   {
    "duration": 263,
    "start_time": "2024-07-24T14:19:46.367Z"
   },
   {
    "duration": 403,
    "start_time": "2024-07-24T14:19:46.632Z"
   },
   {
    "duration": 359,
    "start_time": "2024-07-24T14:19:47.037Z"
   },
   {
    "duration": 393,
    "start_time": "2024-07-24T14:19:47.399Z"
   },
   {
    "duration": 13,
    "start_time": "2024-07-24T14:19:47.794Z"
   },
   {
    "duration": 116,
    "start_time": "2024-07-24T14:19:47.809Z"
   },
   {
    "duration": 335,
    "start_time": "2024-07-24T14:19:47.928Z"
   },
   {
    "duration": 4,
    "start_time": "2024-07-24T14:19:48.265Z"
   },
   {
    "duration": 484,
    "start_time": "2024-07-24T14:19:48.271Z"
   },
   {
    "duration": 5,
    "start_time": "2024-07-24T14:19:48.757Z"
   },
   {
    "duration": 511,
    "start_time": "2024-07-24T14:19:48.764Z"
   },
   {
    "duration": 282,
    "start_time": "2024-07-24T14:19:49.277Z"
   },
   {
    "duration": 31,
    "start_time": "2024-07-24T14:19:49.561Z"
   },
   {
    "duration": 11,
    "start_time": "2024-07-24T14:19:49.594Z"
   },
   {
    "duration": 10,
    "start_time": "2024-07-24T14:19:49.607Z"
   },
   {
    "duration": 11,
    "start_time": "2024-07-24T14:19:49.619Z"
   },
   {
    "duration": 49,
    "start_time": "2024-07-24T14:19:49.632Z"
   },
   {
    "duration": 14,
    "start_time": "2024-07-24T14:19:49.683Z"
   },
   {
    "duration": 103,
    "start_time": "2024-07-24T14:20:30.972Z"
   },
   {
    "duration": 8,
    "start_time": "2024-07-24T14:20:33.258Z"
   },
   {
    "duration": 9,
    "start_time": "2024-07-24T14:20:34.140Z"
   },
   {
    "duration": 13,
    "start_time": "2024-07-24T14:20:59.355Z"
   },
   {
    "duration": 10,
    "start_time": "2024-07-24T14:21:00.001Z"
   },
   {
    "duration": 1235,
    "start_time": "2024-07-24T14:24:03.267Z"
   },
   {
    "duration": 89,
    "start_time": "2024-07-24T14:24:04.504Z"
   },
   {
    "duration": 50,
    "start_time": "2024-07-24T14:24:04.595Z"
   },
   {
    "duration": 3,
    "start_time": "2024-07-24T14:24:04.647Z"
   },
   {
    "duration": 456,
    "start_time": "2024-07-24T14:24:04.654Z"
   },
   {
    "duration": 82,
    "start_time": "2024-07-24T14:24:05.111Z"
   },
   {
    "duration": 4,
    "start_time": "2024-07-24T14:24:05.195Z"
   },
   {
    "duration": 714,
    "start_time": "2024-07-24T14:24:05.201Z"
   },
   {
    "duration": 64,
    "start_time": "2024-07-24T14:24:05.917Z"
   },
   {
    "duration": 508,
    "start_time": "2024-07-24T14:24:05.982Z"
   },
   {
    "duration": 65,
    "start_time": "2024-07-24T14:24:06.491Z"
   },
   {
    "duration": 15,
    "start_time": "2024-07-24T14:24:06.558Z"
   },
   {
    "duration": 30,
    "start_time": "2024-07-24T14:24:06.575Z"
   },
   {
    "duration": 52,
    "start_time": "2024-07-24T14:24:06.610Z"
   },
   {
    "duration": 14,
    "start_time": "2024-07-24T14:24:06.664Z"
   },
   {
    "duration": 25,
    "start_time": "2024-07-24T14:24:06.679Z"
   },
   {
    "duration": 11,
    "start_time": "2024-07-24T14:24:06.754Z"
   },
   {
    "duration": 18,
    "start_time": "2024-07-24T14:24:06.767Z"
   },
   {
    "duration": 28,
    "start_time": "2024-07-24T14:24:06.787Z"
   },
   {
    "duration": 42,
    "start_time": "2024-07-24T14:24:06.817Z"
   },
   {
    "duration": 324,
    "start_time": "2024-07-24T14:24:06.862Z"
   },
   {
    "duration": 0,
    "start_time": "2024-07-24T14:24:07.188Z"
   },
   {
    "duration": 0,
    "start_time": "2024-07-24T14:24:07.190Z"
   },
   {
    "duration": 0,
    "start_time": "2024-07-24T14:24:07.191Z"
   },
   {
    "duration": 0,
    "start_time": "2024-07-24T14:24:07.192Z"
   },
   {
    "duration": 0,
    "start_time": "2024-07-24T14:24:07.194Z"
   },
   {
    "duration": 0,
    "start_time": "2024-07-24T14:24:07.195Z"
   },
   {
    "duration": 0,
    "start_time": "2024-07-24T14:24:07.196Z"
   },
   {
    "duration": 0,
    "start_time": "2024-07-24T14:24:07.197Z"
   },
   {
    "duration": 0,
    "start_time": "2024-07-24T14:24:07.198Z"
   },
   {
    "duration": 0,
    "start_time": "2024-07-24T14:24:07.255Z"
   },
   {
    "duration": 0,
    "start_time": "2024-07-24T14:24:07.256Z"
   },
   {
    "duration": 0,
    "start_time": "2024-07-24T14:24:07.258Z"
   },
   {
    "duration": 0,
    "start_time": "2024-07-24T14:24:07.259Z"
   },
   {
    "duration": 0,
    "start_time": "2024-07-24T14:24:07.260Z"
   },
   {
    "duration": 0,
    "start_time": "2024-07-24T14:24:07.261Z"
   },
   {
    "duration": 0,
    "start_time": "2024-07-24T14:24:07.262Z"
   },
   {
    "duration": 0,
    "start_time": "2024-07-24T14:24:07.263Z"
   },
   {
    "duration": 0,
    "start_time": "2024-07-24T14:24:07.264Z"
   },
   {
    "duration": 0,
    "start_time": "2024-07-24T14:24:07.266Z"
   },
   {
    "duration": 0,
    "start_time": "2024-07-24T14:24:07.267Z"
   },
   {
    "duration": 0,
    "start_time": "2024-07-24T14:24:07.268Z"
   },
   {
    "duration": 0,
    "start_time": "2024-07-24T14:24:07.269Z"
   },
   {
    "duration": 0,
    "start_time": "2024-07-24T14:24:07.270Z"
   },
   {
    "duration": 11,
    "start_time": "2024-07-24T14:25:52.915Z"
   },
   {
    "duration": 1253,
    "start_time": "2024-07-24T14:26:01.826Z"
   },
   {
    "duration": 88,
    "start_time": "2024-07-24T14:26:03.081Z"
   },
   {
    "duration": 51,
    "start_time": "2024-07-24T14:26:03.171Z"
   },
   {
    "duration": 3,
    "start_time": "2024-07-24T14:26:03.223Z"
   },
   {
    "duration": 540,
    "start_time": "2024-07-24T14:26:03.228Z"
   },
   {
    "duration": 95,
    "start_time": "2024-07-24T14:26:03.769Z"
   },
   {
    "duration": 4,
    "start_time": "2024-07-24T14:26:03.866Z"
   },
   {
    "duration": 996,
    "start_time": "2024-07-24T14:26:03.871Z"
   },
   {
    "duration": 105,
    "start_time": "2024-07-24T14:26:04.868Z"
   },
   {
    "duration": 619,
    "start_time": "2024-07-24T14:26:04.975Z"
   },
   {
    "duration": 65,
    "start_time": "2024-07-24T14:26:05.595Z"
   },
   {
    "duration": 12,
    "start_time": "2024-07-24T14:26:05.662Z"
   },
   {
    "duration": 19,
    "start_time": "2024-07-24T14:26:05.676Z"
   },
   {
    "duration": 27,
    "start_time": "2024-07-24T14:26:05.698Z"
   },
   {
    "duration": 30,
    "start_time": "2024-07-24T14:26:05.726Z"
   },
   {
    "duration": 94,
    "start_time": "2024-07-24T14:26:05.758Z"
   },
   {
    "duration": 78,
    "start_time": "2024-07-24T14:26:05.853Z"
   },
   {
    "duration": 11,
    "start_time": "2024-07-24T14:26:05.933Z"
   },
   {
    "duration": 16,
    "start_time": "2024-07-24T14:26:05.946Z"
   },
   {
    "duration": 11,
    "start_time": "2024-07-24T14:26:05.964Z"
   },
   {
    "duration": 16,
    "start_time": "2024-07-24T14:26:05.977Z"
   },
   {
    "duration": 289,
    "start_time": "2024-07-24T14:26:05.994Z"
   },
   {
    "duration": 274,
    "start_time": "2024-07-24T14:26:06.285Z"
   },
   {
    "duration": 13,
    "start_time": "2024-07-24T14:26:06.560Z"
   },
   {
    "duration": 16,
    "start_time": "2024-07-24T14:26:06.575Z"
   },
   {
    "duration": 280,
    "start_time": "2024-07-24T14:26:06.592Z"
   },
   {
    "duration": 254,
    "start_time": "2024-07-24T14:26:06.874Z"
   },
   {
    "duration": 392,
    "start_time": "2024-07-24T14:26:07.130Z"
   },
   {
    "duration": 340,
    "start_time": "2024-07-24T14:26:07.524Z"
   },
   {
    "duration": 371,
    "start_time": "2024-07-24T14:26:07.866Z"
   },
   {
    "duration": 20,
    "start_time": "2024-07-24T14:26:08.238Z"
   },
   {
    "duration": 13,
    "start_time": "2024-07-24T14:26:08.260Z"
   },
   {
    "duration": 190,
    "start_time": "2024-07-24T14:26:08.274Z"
   },
   {
    "duration": 5,
    "start_time": "2024-07-24T14:26:08.465Z"
   },
   {
    "duration": 231,
    "start_time": "2024-07-24T14:26:08.471Z"
   },
   {
    "duration": 5,
    "start_time": "2024-07-24T14:26:08.704Z"
   },
   {
    "duration": 250,
    "start_time": "2024-07-24T14:26:08.711Z"
   },
   {
    "duration": 152,
    "start_time": "2024-07-24T14:26:08.963Z"
   },
   {
    "duration": 40,
    "start_time": "2024-07-24T14:26:09.117Z"
   },
   {
    "duration": 13,
    "start_time": "2024-07-24T14:26:09.159Z"
   },
   {
    "duration": 10,
    "start_time": "2024-07-24T14:26:09.175Z"
   },
   {
    "duration": 14,
    "start_time": "2024-07-24T14:26:09.187Z"
   },
   {
    "duration": 29,
    "start_time": "2024-07-24T14:26:09.203Z"
   },
   {
    "duration": 15,
    "start_time": "2024-07-24T14:26:09.255Z"
   },
   {
    "duration": 1195,
    "start_time": "2024-07-24T14:26:49.245Z"
   },
   {
    "duration": 90,
    "start_time": "2024-07-24T14:26:50.442Z"
   },
   {
    "duration": 59,
    "start_time": "2024-07-24T14:26:50.534Z"
   },
   {
    "duration": 4,
    "start_time": "2024-07-24T14:26:50.595Z"
   },
   {
    "duration": 481,
    "start_time": "2024-07-24T14:26:50.600Z"
   },
   {
    "duration": 73,
    "start_time": "2024-07-24T14:26:51.083Z"
   },
   {
    "duration": 5,
    "start_time": "2024-07-24T14:26:51.158Z"
   },
   {
    "duration": 1136,
    "start_time": "2024-07-24T14:26:51.164Z"
   },
   {
    "duration": 100,
    "start_time": "2024-07-24T14:26:52.301Z"
   },
   {
    "duration": 474,
    "start_time": "2024-07-24T14:26:52.456Z"
   },
   {
    "duration": 13,
    "start_time": "2024-07-24T14:26:52.931Z"
   },
   {
    "duration": 31,
    "start_time": "2024-07-24T14:26:52.945Z"
   },
   {
    "duration": 27,
    "start_time": "2024-07-24T14:26:52.978Z"
   },
   {
    "duration": 21,
    "start_time": "2024-07-24T14:26:53.009Z"
   },
   {
    "duration": 16,
    "start_time": "2024-07-24T14:26:53.031Z"
   },
   {
    "duration": 9,
    "start_time": "2024-07-24T14:26:53.048Z"
   },
   {
    "duration": 17,
    "start_time": "2024-07-24T14:26:53.059Z"
   },
   {
    "duration": 6,
    "start_time": "2024-07-24T14:26:53.079Z"
   },
   {
    "duration": 25,
    "start_time": "2024-07-24T14:26:53.087Z"
   },
   {
    "duration": 30,
    "start_time": "2024-07-24T14:26:53.114Z"
   },
   {
    "duration": 112,
    "start_time": "2024-07-24T14:26:53.146Z"
   },
   {
    "duration": 0,
    "start_time": "2024-07-24T14:26:53.260Z"
   },
   {
    "duration": 0,
    "start_time": "2024-07-24T14:26:53.261Z"
   },
   {
    "duration": 0,
    "start_time": "2024-07-24T14:26:53.262Z"
   },
   {
    "duration": 0,
    "start_time": "2024-07-24T14:26:53.263Z"
   },
   {
    "duration": 0,
    "start_time": "2024-07-24T14:26:53.264Z"
   },
   {
    "duration": 0,
    "start_time": "2024-07-24T14:26:53.265Z"
   },
   {
    "duration": 0,
    "start_time": "2024-07-24T14:26:53.266Z"
   },
   {
    "duration": 0,
    "start_time": "2024-07-24T14:26:53.268Z"
   },
   {
    "duration": 0,
    "start_time": "2024-07-24T14:26:53.269Z"
   },
   {
    "duration": 0,
    "start_time": "2024-07-24T14:26:53.270Z"
   },
   {
    "duration": 0,
    "start_time": "2024-07-24T14:26:53.271Z"
   },
   {
    "duration": 0,
    "start_time": "2024-07-24T14:26:53.272Z"
   },
   {
    "duration": 0,
    "start_time": "2024-07-24T14:26:53.273Z"
   },
   {
    "duration": 0,
    "start_time": "2024-07-24T14:26:53.274Z"
   },
   {
    "duration": 0,
    "start_time": "2024-07-24T14:26:53.275Z"
   },
   {
    "duration": 0,
    "start_time": "2024-07-24T14:26:53.276Z"
   },
   {
    "duration": 0,
    "start_time": "2024-07-24T14:26:53.277Z"
   },
   {
    "duration": 0,
    "start_time": "2024-07-24T14:26:53.278Z"
   },
   {
    "duration": 0,
    "start_time": "2024-07-24T14:26:53.279Z"
   },
   {
    "duration": 0,
    "start_time": "2024-07-24T14:26:53.280Z"
   },
   {
    "duration": 0,
    "start_time": "2024-07-24T14:26:53.281Z"
   },
   {
    "duration": 0,
    "start_time": "2024-07-24T14:26:53.282Z"
   },
   {
    "duration": 0,
    "start_time": "2024-07-24T14:26:53.283Z"
   },
   {
    "duration": 11,
    "start_time": "2024-07-24T14:30:46.514Z"
   },
   {
    "duration": 18,
    "start_time": "2024-07-24T14:38:19.966Z"
   },
   {
    "duration": 63,
    "start_time": "2024-07-24T14:39:41.816Z"
   },
   {
    "duration": 15,
    "start_time": "2024-07-24T14:40:06.248Z"
   },
   {
    "duration": 15,
    "start_time": "2024-07-24T14:43:14.196Z"
   },
   {
    "duration": 7,
    "start_time": "2024-07-24T14:44:21.633Z"
   },
   {
    "duration": 10,
    "start_time": "2024-07-24T14:44:25.139Z"
   },
   {
    "duration": 11,
    "start_time": "2024-07-24T14:44:26.566Z"
   },
   {
    "duration": 11,
    "start_time": "2024-07-24T14:44:50.177Z"
   },
   {
    "duration": 12,
    "start_time": "2024-07-24T14:46:18.546Z"
   },
   {
    "duration": 61,
    "start_time": "2024-07-24T14:46:23.485Z"
   },
   {
    "duration": 10,
    "start_time": "2024-07-24T14:46:34.329Z"
   },
   {
    "duration": 6,
    "start_time": "2024-07-24T14:50:51.002Z"
   },
   {
    "duration": 11,
    "start_time": "2024-07-24T14:51:22.255Z"
   },
   {
    "duration": 1227,
    "start_time": "2024-07-24T14:51:34.628Z"
   },
   {
    "duration": 92,
    "start_time": "2024-07-24T14:51:35.858Z"
   },
   {
    "duration": 52,
    "start_time": "2024-07-24T14:51:35.952Z"
   },
   {
    "duration": 60,
    "start_time": "2024-07-24T14:51:36.006Z"
   },
   {
    "duration": 474,
    "start_time": "2024-07-24T14:51:36.068Z"
   },
   {
    "duration": 66,
    "start_time": "2024-07-24T14:51:36.544Z"
   },
   {
    "duration": 4,
    "start_time": "2024-07-24T14:51:36.612Z"
   },
   {
    "duration": 649,
    "start_time": "2024-07-24T14:51:36.617Z"
   },
   {
    "duration": 46,
    "start_time": "2024-07-24T14:51:37.268Z"
   },
   {
    "duration": 344,
    "start_time": "2024-07-24T14:51:37.316Z"
   },
   {
    "duration": 13,
    "start_time": "2024-07-24T14:51:37.662Z"
   },
   {
    "duration": 24,
    "start_time": "2024-07-24T14:51:37.677Z"
   },
   {
    "duration": 17,
    "start_time": "2024-07-24T14:51:37.703Z"
   },
   {
    "duration": 36,
    "start_time": "2024-07-24T14:51:37.724Z"
   },
   {
    "duration": 9,
    "start_time": "2024-07-24T14:51:37.762Z"
   },
   {
    "duration": 35,
    "start_time": "2024-07-24T14:51:37.773Z"
   },
   {
    "duration": 50,
    "start_time": "2024-07-24T14:51:37.810Z"
   },
   {
    "duration": 74,
    "start_time": "2024-07-24T14:51:37.862Z"
   },
   {
    "duration": 241,
    "start_time": "2024-07-24T14:51:37.938Z"
   },
   {
    "duration": 1,
    "start_time": "2024-07-24T14:51:38.180Z"
   },
   {
    "duration": 0,
    "start_time": "2024-07-24T14:51:38.182Z"
   },
   {
    "duration": 0,
    "start_time": "2024-07-24T14:51:38.183Z"
   },
   {
    "duration": 0,
    "start_time": "2024-07-24T14:51:38.184Z"
   },
   {
    "duration": 0,
    "start_time": "2024-07-24T14:51:38.185Z"
   },
   {
    "duration": 0,
    "start_time": "2024-07-24T14:51:38.186Z"
   },
   {
    "duration": 0,
    "start_time": "2024-07-24T14:51:38.187Z"
   },
   {
    "duration": 0,
    "start_time": "2024-07-24T14:51:38.188Z"
   },
   {
    "duration": 0,
    "start_time": "2024-07-24T14:51:38.189Z"
   },
   {
    "duration": 0,
    "start_time": "2024-07-24T14:51:38.190Z"
   },
   {
    "duration": 0,
    "start_time": "2024-07-24T14:51:38.191Z"
   },
   {
    "duration": 0,
    "start_time": "2024-07-24T14:51:38.192Z"
   },
   {
    "duration": 0,
    "start_time": "2024-07-24T14:51:38.193Z"
   },
   {
    "duration": 0,
    "start_time": "2024-07-24T14:51:38.194Z"
   },
   {
    "duration": 0,
    "start_time": "2024-07-24T14:51:38.195Z"
   },
   {
    "duration": 0,
    "start_time": "2024-07-24T14:51:38.196Z"
   },
   {
    "duration": 0,
    "start_time": "2024-07-24T14:51:38.255Z"
   },
   {
    "duration": 0,
    "start_time": "2024-07-24T14:51:38.257Z"
   },
   {
    "duration": 0,
    "start_time": "2024-07-24T14:51:38.258Z"
   },
   {
    "duration": 0,
    "start_time": "2024-07-24T14:51:38.259Z"
   },
   {
    "duration": 0,
    "start_time": "2024-07-24T14:51:38.260Z"
   },
   {
    "duration": 0,
    "start_time": "2024-07-24T14:51:38.261Z"
   },
   {
    "duration": 0,
    "start_time": "2024-07-24T14:51:38.263Z"
   },
   {
    "duration": 83,
    "start_time": "2024-07-24T14:55:37.820Z"
   },
   {
    "duration": 5,
    "start_time": "2024-07-24T14:55:53.723Z"
   },
   {
    "duration": 11,
    "start_time": "2024-07-24T14:56:09.166Z"
   },
   {
    "duration": 9,
    "start_time": "2024-07-24T14:56:27.423Z"
   },
   {
    "duration": 9,
    "start_time": "2024-07-24T14:56:28.825Z"
   },
   {
    "duration": 17,
    "start_time": "2024-07-24T14:56:44.134Z"
   },
   {
    "duration": 11,
    "start_time": "2024-07-24T14:56:49.836Z"
   },
   {
    "duration": 22,
    "start_time": "2024-07-24T14:57:12.382Z"
   },
   {
    "duration": 6,
    "start_time": "2024-07-24T14:57:21.301Z"
   },
   {
    "duration": 13,
    "start_time": "2024-07-24T14:57:27.336Z"
   },
   {
    "duration": 13,
    "start_time": "2024-07-24T14:58:22.866Z"
   },
   {
    "duration": 21,
    "start_time": "2024-07-24T14:58:55.150Z"
   },
   {
    "duration": 4,
    "start_time": "2024-07-24T14:59:56.657Z"
   },
   {
    "duration": 17,
    "start_time": "2024-07-24T15:00:04.383Z"
   },
   {
    "duration": 15,
    "start_time": "2024-07-24T15:00:12.880Z"
   },
   {
    "duration": 13,
    "start_time": "2024-07-24T15:00:16.162Z"
   },
   {
    "duration": 9,
    "start_time": "2024-07-24T15:00:18.254Z"
   },
   {
    "duration": 6,
    "start_time": "2024-07-24T15:01:42.621Z"
   },
   {
    "duration": 12,
    "start_time": "2024-07-24T15:01:45.377Z"
   },
   {
    "duration": 1245,
    "start_time": "2024-07-24T15:02:12.148Z"
   },
   {
    "duration": 89,
    "start_time": "2024-07-24T15:02:13.395Z"
   },
   {
    "duration": 76,
    "start_time": "2024-07-24T15:02:13.485Z"
   },
   {
    "duration": 3,
    "start_time": "2024-07-24T15:02:13.563Z"
   },
   {
    "duration": 490,
    "start_time": "2024-07-24T15:02:13.569Z"
   },
   {
    "duration": 58,
    "start_time": "2024-07-24T15:02:14.061Z"
   },
   {
    "duration": 35,
    "start_time": "2024-07-24T15:02:14.120Z"
   },
   {
    "duration": 702,
    "start_time": "2024-07-24T15:02:14.157Z"
   },
   {
    "duration": 107,
    "start_time": "2024-07-24T15:02:14.861Z"
   },
   {
    "duration": 612,
    "start_time": "2024-07-24T15:02:14.970Z"
   },
   {
    "duration": 12,
    "start_time": "2024-07-24T15:02:15.583Z"
   },
   {
    "duration": 65,
    "start_time": "2024-07-24T15:02:15.597Z"
   },
   {
    "duration": 37,
    "start_time": "2024-07-24T15:02:15.663Z"
   },
   {
    "duration": 53,
    "start_time": "2024-07-24T15:02:15.703Z"
   },
   {
    "duration": 13,
    "start_time": "2024-07-24T15:02:15.758Z"
   },
   {
    "duration": 20,
    "start_time": "2024-07-24T15:02:15.773Z"
   },
   {
    "duration": 4,
    "start_time": "2024-07-24T15:02:15.795Z"
   },
   {
    "duration": 7,
    "start_time": "2024-07-24T15:02:15.801Z"
   },
   {
    "duration": 248,
    "start_time": "2024-07-24T15:02:15.810Z"
   },
   {
    "duration": 0,
    "start_time": "2024-07-24T15:02:16.060Z"
   },
   {
    "duration": 0,
    "start_time": "2024-07-24T15:02:16.061Z"
   },
   {
    "duration": 0,
    "start_time": "2024-07-24T15:02:16.062Z"
   },
   {
    "duration": 0,
    "start_time": "2024-07-24T15:02:16.063Z"
   },
   {
    "duration": 0,
    "start_time": "2024-07-24T15:02:16.064Z"
   },
   {
    "duration": 0,
    "start_time": "2024-07-24T15:02:16.066Z"
   },
   {
    "duration": 0,
    "start_time": "2024-07-24T15:02:16.066Z"
   },
   {
    "duration": 0,
    "start_time": "2024-07-24T15:02:16.068Z"
   },
   {
    "duration": 0,
    "start_time": "2024-07-24T15:02:16.069Z"
   },
   {
    "duration": 0,
    "start_time": "2024-07-24T15:02:16.070Z"
   },
   {
    "duration": 0,
    "start_time": "2024-07-24T15:02:16.071Z"
   },
   {
    "duration": 0,
    "start_time": "2024-07-24T15:02:16.072Z"
   },
   {
    "duration": 1,
    "start_time": "2024-07-24T15:02:16.072Z"
   },
   {
    "duration": 0,
    "start_time": "2024-07-24T15:02:16.073Z"
   },
   {
    "duration": 0,
    "start_time": "2024-07-24T15:02:16.075Z"
   },
   {
    "duration": 0,
    "start_time": "2024-07-24T15:02:16.075Z"
   },
   {
    "duration": 0,
    "start_time": "2024-07-24T15:02:16.076Z"
   },
   {
    "duration": 0,
    "start_time": "2024-07-24T15:02:16.077Z"
   },
   {
    "duration": 0,
    "start_time": "2024-07-24T15:02:16.078Z"
   },
   {
    "duration": 0,
    "start_time": "2024-07-24T15:02:16.079Z"
   },
   {
    "duration": 0,
    "start_time": "2024-07-24T15:02:16.080Z"
   },
   {
    "duration": 0,
    "start_time": "2024-07-24T15:02:16.081Z"
   },
   {
    "duration": 0,
    "start_time": "2024-07-24T15:02:16.082Z"
   },
   {
    "duration": 71,
    "start_time": "2024-07-24T15:02:16.091Z"
   },
   {
    "duration": 8,
    "start_time": "2024-07-24T15:02:50.381Z"
   },
   {
    "duration": 13,
    "start_time": "2024-07-24T15:02:52.550Z"
   },
   {
    "duration": 8,
    "start_time": "2024-07-24T15:03:08.290Z"
   },
   {
    "duration": 7,
    "start_time": "2024-07-24T15:06:53.338Z"
   },
   {
    "duration": 4,
    "start_time": "2024-07-24T15:06:55.339Z"
   },
   {
    "duration": 9,
    "start_time": "2024-07-24T15:06:56.432Z"
   },
   {
    "duration": 18,
    "start_time": "2024-07-24T15:07:08.726Z"
   },
   {
    "duration": 14,
    "start_time": "2024-07-24T15:07:16.501Z"
   },
   {
    "duration": 12,
    "start_time": "2024-07-24T15:07:24.523Z"
   },
   {
    "duration": 1236,
    "start_time": "2024-07-24T15:07:31.502Z"
   },
   {
    "duration": 91,
    "start_time": "2024-07-24T15:07:32.740Z"
   },
   {
    "duration": 54,
    "start_time": "2024-07-24T15:07:32.833Z"
   },
   {
    "duration": 3,
    "start_time": "2024-07-24T15:07:32.889Z"
   },
   {
    "duration": 502,
    "start_time": "2024-07-24T15:07:32.894Z"
   },
   {
    "duration": 104,
    "start_time": "2024-07-24T15:07:33.397Z"
   },
   {
    "duration": 6,
    "start_time": "2024-07-24T15:07:33.503Z"
   },
   {
    "duration": 652,
    "start_time": "2024-07-24T15:07:33.510Z"
   },
   {
    "duration": 55,
    "start_time": "2024-07-24T15:07:34.164Z"
   },
   {
    "duration": 315,
    "start_time": "2024-07-24T15:07:34.256Z"
   },
   {
    "duration": 14,
    "start_time": "2024-07-24T15:07:34.573Z"
   },
   {
    "duration": 20,
    "start_time": "2024-07-24T15:07:34.589Z"
   },
   {
    "duration": 7,
    "start_time": "2024-07-24T15:07:34.611Z"
   },
   {
    "duration": 9,
    "start_time": "2024-07-24T15:07:34.620Z"
   },
   {
    "duration": 8,
    "start_time": "2024-07-24T15:07:34.656Z"
   },
   {
    "duration": 22,
    "start_time": "2024-07-24T15:07:34.666Z"
   },
   {
    "duration": 15,
    "start_time": "2024-07-24T15:07:34.690Z"
   },
   {
    "duration": 16,
    "start_time": "2024-07-24T15:07:34.706Z"
   },
   {
    "duration": 10,
    "start_time": "2024-07-24T15:07:34.724Z"
   },
   {
    "duration": 14,
    "start_time": "2024-07-24T15:07:34.735Z"
   },
   {
    "duration": 310,
    "start_time": "2024-07-24T15:07:34.755Z"
   },
   {
    "duration": 275,
    "start_time": "2024-07-24T15:07:35.067Z"
   },
   {
    "duration": 19,
    "start_time": "2024-07-24T15:07:35.343Z"
   },
   {
    "duration": 37,
    "start_time": "2024-07-24T15:07:35.363Z"
   },
   {
    "duration": 275,
    "start_time": "2024-07-24T15:07:35.402Z"
   },
   {
    "duration": 270,
    "start_time": "2024-07-24T15:07:35.679Z"
   },
   {
    "duration": 403,
    "start_time": "2024-07-24T15:07:35.955Z"
   },
   {
    "duration": 352,
    "start_time": "2024-07-24T15:07:36.360Z"
   },
   {
    "duration": 356,
    "start_time": "2024-07-24T15:07:36.714Z"
   },
   {
    "duration": 12,
    "start_time": "2024-07-24T15:07:37.072Z"
   },
   {
    "duration": 17,
    "start_time": "2024-07-24T15:07:37.086Z"
   },
   {
    "duration": 218,
    "start_time": "2024-07-24T15:07:37.105Z"
   },
   {
    "duration": 7,
    "start_time": "2024-07-24T15:07:37.325Z"
   },
   {
    "duration": 270,
    "start_time": "2024-07-24T15:07:37.334Z"
   },
   {
    "duration": 9,
    "start_time": "2024-07-24T15:07:37.607Z"
   },
   {
    "duration": 263,
    "start_time": "2024-07-24T15:07:37.621Z"
   },
   {
    "duration": 155,
    "start_time": "2024-07-24T15:07:37.886Z"
   },
   {
    "duration": 40,
    "start_time": "2024-07-24T15:07:38.043Z"
   },
   {
    "duration": 74,
    "start_time": "2024-07-24T15:07:38.085Z"
   },
   {
    "duration": 21,
    "start_time": "2024-07-24T15:07:38.161Z"
   },
   {
    "duration": 20,
    "start_time": "2024-07-24T15:07:38.186Z"
   },
   {
    "duration": 27,
    "start_time": "2024-07-24T15:07:38.208Z"
   },
   {
    "duration": 18,
    "start_time": "2024-07-24T15:07:38.237Z"
   },
   {
    "duration": 1274,
    "start_time": "2024-07-25T09:51:09.998Z"
   },
   {
    "duration": 274,
    "start_time": "2024-07-25T09:51:11.274Z"
   },
   {
    "duration": 44,
    "start_time": "2024-07-25T09:51:11.550Z"
   },
   {
    "duration": 3,
    "start_time": "2024-07-25T09:51:11.596Z"
   },
   {
    "duration": 390,
    "start_time": "2024-07-25T09:51:11.600Z"
   },
   {
    "duration": 51,
    "start_time": "2024-07-25T09:51:11.991Z"
   },
   {
    "duration": 3,
    "start_time": "2024-07-25T09:51:12.044Z"
   },
   {
    "duration": 567,
    "start_time": "2024-07-25T09:51:12.048Z"
   },
   {
    "duration": 41,
    "start_time": "2024-07-25T09:51:12.616Z"
   },
   {
    "duration": 290,
    "start_time": "2024-07-25T09:51:12.660Z"
   },
   {
    "duration": 11,
    "start_time": "2024-07-25T09:51:12.951Z"
   },
   {
    "duration": 9,
    "start_time": "2024-07-25T09:51:12.964Z"
   },
   {
    "duration": 6,
    "start_time": "2024-07-25T09:51:12.974Z"
   },
   {
    "duration": 7,
    "start_time": "2024-07-25T09:51:12.996Z"
   },
   {
    "duration": 18,
    "start_time": "2024-07-25T09:51:13.004Z"
   },
   {
    "duration": 9,
    "start_time": "2024-07-25T09:51:13.023Z"
   },
   {
    "duration": 5,
    "start_time": "2024-07-25T09:51:13.033Z"
   },
   {
    "duration": 10,
    "start_time": "2024-07-25T09:51:13.039Z"
   },
   {
    "duration": 50,
    "start_time": "2024-07-25T09:51:13.050Z"
   },
   {
    "duration": 18,
    "start_time": "2024-07-25T09:51:13.102Z"
   },
   {
    "duration": 494,
    "start_time": "2024-07-25T09:51:13.121Z"
   },
   {
    "duration": 482,
    "start_time": "2024-07-25T09:51:13.616Z"
   },
   {
    "duration": 11,
    "start_time": "2024-07-25T09:51:14.099Z"
   },
   {
    "duration": 8,
    "start_time": "2024-07-25T09:51:14.112Z"
   },
   {
    "duration": 342,
    "start_time": "2024-07-25T09:51:14.121Z"
   },
   {
    "duration": 231,
    "start_time": "2024-07-25T09:51:14.465Z"
   },
   {
    "duration": 380,
    "start_time": "2024-07-25T09:51:14.697Z"
   },
   {
    "duration": 257,
    "start_time": "2024-07-25T09:51:15.080Z"
   },
   {
    "duration": 360,
    "start_time": "2024-07-25T09:51:15.339Z"
   },
   {
    "duration": 12,
    "start_time": "2024-07-25T09:51:15.700Z"
   },
   {
    "duration": 16,
    "start_time": "2024-07-25T09:51:15.713Z"
   },
   {
    "duration": 178,
    "start_time": "2024-07-25T09:51:15.730Z"
   },
   {
    "duration": 4,
    "start_time": "2024-07-25T09:51:15.909Z"
   },
   {
    "duration": 199,
    "start_time": "2024-07-25T09:51:15.914Z"
   },
   {
    "duration": 3,
    "start_time": "2024-07-25T09:51:16.114Z"
   },
   {
    "duration": 202,
    "start_time": "2024-07-25T09:51:16.119Z"
   },
   {
    "duration": 133,
    "start_time": "2024-07-25T09:51:16.323Z"
   },
   {
    "duration": 25,
    "start_time": "2024-07-25T09:51:16.457Z"
   },
   {
    "duration": 18,
    "start_time": "2024-07-25T09:51:16.484Z"
   },
   {
    "duration": 8,
    "start_time": "2024-07-25T09:51:16.503Z"
   },
   {
    "duration": 28,
    "start_time": "2024-07-25T09:51:16.513Z"
   },
   {
    "duration": 26,
    "start_time": "2024-07-25T09:51:16.542Z"
   },
   {
    "duration": 11,
    "start_time": "2024-07-25T09:51:16.570Z"
   },
   {
    "duration": 103,
    "start_time": "2024-07-25T09:51:48.153Z"
   },
   {
    "duration": 11,
    "start_time": "2024-07-25T09:52:03.295Z"
   },
   {
    "duration": 7,
    "start_time": "2024-07-25T09:52:11.052Z"
   },
   {
    "duration": 1136,
    "start_time": "2024-07-25T09:52:16.583Z"
   },
   {
    "duration": 102,
    "start_time": "2024-07-25T09:52:17.721Z"
   },
   {
    "duration": 48,
    "start_time": "2024-07-25T09:52:17.825Z"
   },
   {
    "duration": 3,
    "start_time": "2024-07-25T09:52:17.875Z"
   },
   {
    "duration": 412,
    "start_time": "2024-07-25T09:52:17.879Z"
   },
   {
    "duration": 53,
    "start_time": "2024-07-25T09:52:18.295Z"
   },
   {
    "duration": 3,
    "start_time": "2024-07-25T09:52:18.349Z"
   },
   {
    "duration": 564,
    "start_time": "2024-07-25T09:52:18.353Z"
   },
   {
    "duration": 43,
    "start_time": "2024-07-25T09:52:18.918Z"
   },
   {
    "duration": 278,
    "start_time": "2024-07-25T09:52:18.963Z"
   },
   {
    "duration": 11,
    "start_time": "2024-07-25T09:52:19.243Z"
   },
   {
    "duration": 10,
    "start_time": "2024-07-25T09:52:19.255Z"
   },
   {
    "duration": 9,
    "start_time": "2024-07-25T09:52:19.266Z"
   },
   {
    "duration": 24,
    "start_time": "2024-07-25T09:52:19.277Z"
   },
   {
    "duration": 7,
    "start_time": "2024-07-25T09:52:19.302Z"
   },
   {
    "duration": 12,
    "start_time": "2024-07-25T09:52:19.310Z"
   },
   {
    "duration": 3,
    "start_time": "2024-07-25T09:52:19.323Z"
   },
   {
    "duration": 73,
    "start_time": "2024-07-25T09:52:19.328Z"
   },
   {
    "duration": 33,
    "start_time": "2024-07-25T09:52:19.403Z"
   },
   {
    "duration": 8,
    "start_time": "2024-07-25T09:52:19.438Z"
   },
   {
    "duration": 383,
    "start_time": "2024-07-25T09:52:19.447Z"
   },
   {
    "duration": 490,
    "start_time": "2024-07-25T09:52:19.832Z"
   },
   {
    "duration": 11,
    "start_time": "2024-07-25T09:52:20.323Z"
   },
   {
    "duration": 63,
    "start_time": "2024-07-25T09:52:20.336Z"
   },
   {
    "duration": 445,
    "start_time": "2024-07-25T09:52:20.400Z"
   },
   {
    "duration": 276,
    "start_time": "2024-07-25T09:52:20.846Z"
   },
   {
    "duration": 338,
    "start_time": "2024-07-25T09:52:21.124Z"
   },
   {
    "duration": 271,
    "start_time": "2024-07-25T09:52:21.466Z"
   },
   {
    "duration": 351,
    "start_time": "2024-07-25T09:52:21.739Z"
   },
   {
    "duration": 12,
    "start_time": "2024-07-25T09:52:22.092Z"
   },
   {
    "duration": 16,
    "start_time": "2024-07-25T09:52:22.106Z"
   },
   {
    "duration": 168,
    "start_time": "2024-07-25T09:52:22.123Z"
   },
   {
    "duration": 5,
    "start_time": "2024-07-25T09:52:22.293Z"
   },
   {
    "duration": 194,
    "start_time": "2024-07-25T09:52:22.299Z"
   },
   {
    "duration": 4,
    "start_time": "2024-07-25T09:52:22.495Z"
   },
   {
    "duration": 215,
    "start_time": "2024-07-25T09:52:22.501Z"
   },
   {
    "duration": 126,
    "start_time": "2024-07-25T09:52:22.718Z"
   },
   {
    "duration": 27,
    "start_time": "2024-07-25T09:52:22.845Z"
   },
   {
    "duration": 26,
    "start_time": "2024-07-25T09:52:22.874Z"
   },
   {
    "duration": 8,
    "start_time": "2024-07-25T09:52:22.902Z"
   },
   {
    "duration": 73,
    "start_time": "2024-07-25T09:52:22.912Z"
   },
   {
    "duration": 33,
    "start_time": "2024-07-25T09:52:22.987Z"
   },
   {
    "duration": 14,
    "start_time": "2024-07-25T09:52:23.022Z"
   },
   {
    "duration": 8,
    "start_time": "2024-07-25T09:52:41.152Z"
   },
   {
    "duration": 8,
    "start_time": "2024-07-25T09:54:53.363Z"
   },
   {
    "duration": 103,
    "start_time": "2024-07-25T09:57:31.498Z"
   },
   {
    "duration": 9,
    "start_time": "2024-07-25T09:58:23.940Z"
   },
   {
    "duration": 12,
    "start_time": "2024-07-25T09:58:31.896Z"
   },
   {
    "duration": 12,
    "start_time": "2024-07-25T10:01:34.103Z"
   },
   {
    "duration": 10,
    "start_time": "2024-07-25T10:02:47.636Z"
   },
   {
    "duration": 13,
    "start_time": "2024-07-25T10:02:50.943Z"
   },
   {
    "duration": 67,
    "start_time": "2024-07-25T10:03:16.264Z"
   },
   {
    "duration": 14,
    "start_time": "2024-07-25T10:03:36.617Z"
   },
   {
    "duration": 14,
    "start_time": "2024-07-25T10:03:54.113Z"
   },
   {
    "duration": 7,
    "start_time": "2024-07-25T10:04:11.182Z"
   },
   {
    "duration": 7,
    "start_time": "2024-07-25T10:04:20.535Z"
   },
   {
    "duration": 7,
    "start_time": "2024-07-25T10:04:34.876Z"
   },
   {
    "duration": 13,
    "start_time": "2024-07-25T10:05:00.899Z"
   },
   {
    "duration": 13,
    "start_time": "2024-07-25T10:13:25.610Z"
   },
   {
    "duration": 1181,
    "start_time": "2024-07-25T10:13:54.987Z"
   },
   {
    "duration": 98,
    "start_time": "2024-07-25T10:13:56.170Z"
   },
   {
    "duration": 53,
    "start_time": "2024-07-25T10:13:56.269Z"
   },
   {
    "duration": 3,
    "start_time": "2024-07-25T10:13:56.324Z"
   },
   {
    "duration": 410,
    "start_time": "2024-07-25T10:13:56.329Z"
   },
   {
    "duration": 73,
    "start_time": "2024-07-25T10:13:56.741Z"
   },
   {
    "duration": 4,
    "start_time": "2024-07-25T10:13:56.815Z"
   },
   {
    "duration": 563,
    "start_time": "2024-07-25T10:13:56.821Z"
   },
   {
    "duration": 53,
    "start_time": "2024-07-25T10:13:57.386Z"
   },
   {
    "duration": 284,
    "start_time": "2024-07-25T10:13:57.442Z"
   },
   {
    "duration": 11,
    "start_time": "2024-07-25T10:13:57.728Z"
   },
   {
    "duration": 65,
    "start_time": "2024-07-25T10:13:57.740Z"
   },
   {
    "duration": 13,
    "start_time": "2024-07-25T10:13:57.807Z"
   },
   {
    "duration": 9,
    "start_time": "2024-07-25T10:13:57.821Z"
   },
   {
    "duration": 15,
    "start_time": "2024-07-25T10:13:57.831Z"
   },
   {
    "duration": 35,
    "start_time": "2024-07-25T10:13:57.847Z"
   },
   {
    "duration": 5,
    "start_time": "2024-07-25T10:13:57.883Z"
   },
   {
    "duration": 8,
    "start_time": "2024-07-25T10:13:57.889Z"
   },
   {
    "duration": 5,
    "start_time": "2024-07-25T10:13:57.898Z"
   },
   {
    "duration": 0,
    "start_time": "2024-07-25T10:13:57.905Z"
   },
   {
    "duration": 0,
    "start_time": "2024-07-25T10:13:57.906Z"
   },
   {
    "duration": 0,
    "start_time": "2024-07-25T10:13:57.907Z"
   },
   {
    "duration": 0,
    "start_time": "2024-07-25T10:13:57.909Z"
   },
   {
    "duration": 0,
    "start_time": "2024-07-25T10:13:57.910Z"
   },
   {
    "duration": 0,
    "start_time": "2024-07-25T10:13:57.911Z"
   },
   {
    "duration": 0,
    "start_time": "2024-07-25T10:13:57.912Z"
   },
   {
    "duration": 0,
    "start_time": "2024-07-25T10:13:57.913Z"
   },
   {
    "duration": 0,
    "start_time": "2024-07-25T10:13:57.914Z"
   },
   {
    "duration": 0,
    "start_time": "2024-07-25T10:13:57.915Z"
   },
   {
    "duration": 0,
    "start_time": "2024-07-25T10:13:57.916Z"
   },
   {
    "duration": 0,
    "start_time": "2024-07-25T10:13:57.917Z"
   },
   {
    "duration": 0,
    "start_time": "2024-07-25T10:13:57.918Z"
   },
   {
    "duration": 0,
    "start_time": "2024-07-25T10:13:57.919Z"
   },
   {
    "duration": 0,
    "start_time": "2024-07-25T10:13:57.920Z"
   },
   {
    "duration": 0,
    "start_time": "2024-07-25T10:13:57.921Z"
   },
   {
    "duration": 0,
    "start_time": "2024-07-25T10:13:57.922Z"
   },
   {
    "duration": 0,
    "start_time": "2024-07-25T10:13:57.922Z"
   },
   {
    "duration": 0,
    "start_time": "2024-07-25T10:13:57.924Z"
   },
   {
    "duration": 0,
    "start_time": "2024-07-25T10:13:57.925Z"
   },
   {
    "duration": 0,
    "start_time": "2024-07-25T10:13:57.925Z"
   },
   {
    "duration": 0,
    "start_time": "2024-07-25T10:13:57.926Z"
   },
   {
    "duration": 0,
    "start_time": "2024-07-25T10:13:57.927Z"
   },
   {
    "duration": 0,
    "start_time": "2024-07-25T10:13:57.928Z"
   },
   {
    "duration": 0,
    "start_time": "2024-07-25T10:13:57.929Z"
   },
   {
    "duration": 93,
    "start_time": "2024-07-25T10:14:08.405Z"
   },
   {
    "duration": 12,
    "start_time": "2024-07-25T10:14:22.710Z"
   },
   {
    "duration": 11,
    "start_time": "2024-07-25T10:18:48.844Z"
   },
   {
    "duration": 8,
    "start_time": "2024-07-25T10:19:01.846Z"
   },
   {
    "duration": 8,
    "start_time": "2024-07-25T10:19:17.614Z"
   },
   {
    "duration": 10,
    "start_time": "2024-07-25T10:20:08.864Z"
   },
   {
    "duration": 7,
    "start_time": "2024-07-25T10:21:03.615Z"
   },
   {
    "duration": 7,
    "start_time": "2024-07-25T10:21:20.252Z"
   },
   {
    "duration": 23,
    "start_time": "2024-07-25T10:25:27.527Z"
   },
   {
    "duration": 7,
    "start_time": "2024-07-25T10:25:44.471Z"
   },
   {
    "duration": 9,
    "start_time": "2024-07-25T10:26:36.925Z"
   },
   {
    "duration": 9,
    "start_time": "2024-07-25T10:27:22.192Z"
   },
   {
    "duration": 8,
    "start_time": "2024-07-25T10:27:32.724Z"
   },
   {
    "duration": 755,
    "start_time": "2024-07-25T10:27:44.069Z"
   },
   {
    "duration": 6,
    "start_time": "2024-07-25T10:33:53.710Z"
   },
   {
    "duration": 5,
    "start_time": "2024-07-25T10:34:37.863Z"
   },
   {
    "duration": 1110,
    "start_time": "2024-07-25T10:35:02.899Z"
   },
   {
    "duration": 98,
    "start_time": "2024-07-25T10:35:04.010Z"
   },
   {
    "duration": 49,
    "start_time": "2024-07-25T10:35:04.110Z"
   },
   {
    "duration": 3,
    "start_time": "2024-07-25T10:35:04.161Z"
   },
   {
    "duration": 413,
    "start_time": "2024-07-25T10:35:04.165Z"
   },
   {
    "duration": 58,
    "start_time": "2024-07-25T10:35:04.580Z"
   },
   {
    "duration": 3,
    "start_time": "2024-07-25T10:35:04.639Z"
   },
   {
    "duration": 588,
    "start_time": "2024-07-25T10:35:04.643Z"
   },
   {
    "duration": 103,
    "start_time": "2024-07-25T10:35:05.232Z"
   },
   {
    "duration": 599,
    "start_time": "2024-07-25T10:35:05.338Z"
   },
   {
    "duration": 59,
    "start_time": "2024-07-25T10:35:05.938Z"
   },
   {
    "duration": 11,
    "start_time": "2024-07-25T10:35:05.999Z"
   },
   {
    "duration": 17,
    "start_time": "2024-07-25T10:35:06.011Z"
   },
   {
    "duration": 14,
    "start_time": "2024-07-25T10:35:06.030Z"
   },
   {
    "duration": 52,
    "start_time": "2024-07-25T10:35:06.046Z"
   },
   {
    "duration": 30,
    "start_time": "2024-07-25T10:35:06.099Z"
   },
   {
    "duration": 283,
    "start_time": "2024-07-25T10:35:06.131Z"
   },
   {
    "duration": 0,
    "start_time": "2024-07-25T10:35:06.416Z"
   },
   {
    "duration": 0,
    "start_time": "2024-07-25T10:35:06.417Z"
   },
   {
    "duration": 0,
    "start_time": "2024-07-25T10:35:06.418Z"
   },
   {
    "duration": 0,
    "start_time": "2024-07-25T10:35:06.419Z"
   },
   {
    "duration": 0,
    "start_time": "2024-07-25T10:35:06.420Z"
   },
   {
    "duration": 0,
    "start_time": "2024-07-25T10:35:06.421Z"
   },
   {
    "duration": 0,
    "start_time": "2024-07-25T10:35:06.422Z"
   },
   {
    "duration": 0,
    "start_time": "2024-07-25T10:35:06.423Z"
   },
   {
    "duration": 0,
    "start_time": "2024-07-25T10:35:06.424Z"
   },
   {
    "duration": 0,
    "start_time": "2024-07-25T10:35:06.425Z"
   },
   {
    "duration": 0,
    "start_time": "2024-07-25T10:35:06.426Z"
   },
   {
    "duration": 0,
    "start_time": "2024-07-25T10:35:06.426Z"
   },
   {
    "duration": 0,
    "start_time": "2024-07-25T10:35:06.427Z"
   },
   {
    "duration": 0,
    "start_time": "2024-07-25T10:35:06.428Z"
   },
   {
    "duration": 0,
    "start_time": "2024-07-25T10:35:06.429Z"
   },
   {
    "duration": 0,
    "start_time": "2024-07-25T10:35:06.430Z"
   },
   {
    "duration": 0,
    "start_time": "2024-07-25T10:35:06.432Z"
   },
   {
    "duration": 0,
    "start_time": "2024-07-25T10:35:06.433Z"
   },
   {
    "duration": 0,
    "start_time": "2024-07-25T10:35:06.433Z"
   },
   {
    "duration": 0,
    "start_time": "2024-07-25T10:35:06.434Z"
   },
   {
    "duration": 0,
    "start_time": "2024-07-25T10:35:06.435Z"
   },
   {
    "duration": 0,
    "start_time": "2024-07-25T10:35:06.437Z"
   },
   {
    "duration": 0,
    "start_time": "2024-07-25T10:35:06.437Z"
   },
   {
    "duration": 0,
    "start_time": "2024-07-25T10:35:06.438Z"
   },
   {
    "duration": 0,
    "start_time": "2024-07-25T10:35:06.497Z"
   },
   {
    "duration": 0,
    "start_time": "2024-07-25T10:35:06.497Z"
   },
   {
    "duration": 0,
    "start_time": "2024-07-25T10:35:06.498Z"
   },
   {
    "duration": 0,
    "start_time": "2024-07-25T10:35:06.499Z"
   },
   {
    "duration": 0,
    "start_time": "2024-07-25T10:35:06.500Z"
   },
   {
    "duration": 6,
    "start_time": "2024-07-25T10:35:31.206Z"
   },
   {
    "duration": 1125,
    "start_time": "2024-07-25T10:35:52.984Z"
   },
   {
    "duration": 98,
    "start_time": "2024-07-25T10:35:54.111Z"
   },
   {
    "duration": 44,
    "start_time": "2024-07-25T10:35:54.210Z"
   },
   {
    "duration": 3,
    "start_time": "2024-07-25T10:35:54.256Z"
   },
   {
    "duration": 410,
    "start_time": "2024-07-25T10:35:54.260Z"
   },
   {
    "duration": 58,
    "start_time": "2024-07-25T10:35:54.671Z"
   },
   {
    "duration": 3,
    "start_time": "2024-07-25T10:35:54.731Z"
   },
   {
    "duration": 553,
    "start_time": "2024-07-25T10:35:54.736Z"
   },
   {
    "duration": 51,
    "start_time": "2024-07-25T10:35:55.295Z"
   },
   {
    "duration": 317,
    "start_time": "2024-07-25T10:35:55.349Z"
   },
   {
    "duration": 11,
    "start_time": "2024-07-25T10:35:55.668Z"
   },
   {
    "duration": 22,
    "start_time": "2024-07-25T10:35:55.680Z"
   },
   {
    "duration": 13,
    "start_time": "2024-07-25T10:35:55.704Z"
   },
   {
    "duration": 9,
    "start_time": "2024-07-25T10:35:55.718Z"
   },
   {
    "duration": 8,
    "start_time": "2024-07-25T10:35:55.728Z"
   },
   {
    "duration": 23,
    "start_time": "2024-07-25T10:35:55.737Z"
   },
   {
    "duration": 10,
    "start_time": "2024-07-25T10:35:55.762Z"
   },
   {
    "duration": 92,
    "start_time": "2024-07-25T10:35:55.773Z"
   },
   {
    "duration": 0,
    "start_time": "2024-07-25T10:35:55.867Z"
   },
   {
    "duration": 0,
    "start_time": "2024-07-25T10:35:55.868Z"
   },
   {
    "duration": 0,
    "start_time": "2024-07-25T10:35:55.869Z"
   },
   {
    "duration": 0,
    "start_time": "2024-07-25T10:35:55.869Z"
   },
   {
    "duration": 0,
    "start_time": "2024-07-25T10:35:55.870Z"
   },
   {
    "duration": 0,
    "start_time": "2024-07-25T10:35:55.872Z"
   },
   {
    "duration": 0,
    "start_time": "2024-07-25T10:35:55.873Z"
   },
   {
    "duration": 0,
    "start_time": "2024-07-25T10:35:55.874Z"
   },
   {
    "duration": 0,
    "start_time": "2024-07-25T10:35:55.875Z"
   },
   {
    "duration": 0,
    "start_time": "2024-07-25T10:35:55.875Z"
   },
   {
    "duration": 0,
    "start_time": "2024-07-25T10:35:55.876Z"
   },
   {
    "duration": 0,
    "start_time": "2024-07-25T10:35:55.877Z"
   },
   {
    "duration": 0,
    "start_time": "2024-07-25T10:35:55.878Z"
   },
   {
    "duration": 0,
    "start_time": "2024-07-25T10:35:55.896Z"
   },
   {
    "duration": 0,
    "start_time": "2024-07-25T10:35:55.897Z"
   },
   {
    "duration": 0,
    "start_time": "2024-07-25T10:35:55.898Z"
   },
   {
    "duration": 0,
    "start_time": "2024-07-25T10:35:55.899Z"
   },
   {
    "duration": 0,
    "start_time": "2024-07-25T10:35:55.900Z"
   },
   {
    "duration": 0,
    "start_time": "2024-07-25T10:35:55.901Z"
   },
   {
    "duration": 0,
    "start_time": "2024-07-25T10:35:55.902Z"
   },
   {
    "duration": 0,
    "start_time": "2024-07-25T10:35:55.903Z"
   },
   {
    "duration": 0,
    "start_time": "2024-07-25T10:35:55.904Z"
   },
   {
    "duration": 0,
    "start_time": "2024-07-25T10:35:55.905Z"
   },
   {
    "duration": 0,
    "start_time": "2024-07-25T10:35:55.906Z"
   },
   {
    "duration": 0,
    "start_time": "2024-07-25T10:35:55.907Z"
   },
   {
    "duration": 0,
    "start_time": "2024-07-25T10:35:55.908Z"
   },
   {
    "duration": 0,
    "start_time": "2024-07-25T10:35:55.909Z"
   },
   {
    "duration": 0,
    "start_time": "2024-07-25T10:35:55.910Z"
   },
   {
    "duration": 5,
    "start_time": "2024-07-25T10:37:48.720Z"
   },
   {
    "duration": 7,
    "start_time": "2024-07-25T10:37:52.156Z"
   },
   {
    "duration": 8,
    "start_time": "2024-07-25T10:38:51.822Z"
   },
   {
    "duration": 7,
    "start_time": "2024-07-25T10:39:00.879Z"
   },
   {
    "duration": 12,
    "start_time": "2024-07-25T10:39:08.899Z"
   },
   {
    "duration": 4,
    "start_time": "2024-07-25T10:39:20.227Z"
   },
   {
    "duration": 8,
    "start_time": "2024-07-25T10:39:36.333Z"
   },
   {
    "duration": 6,
    "start_time": "2024-07-25T10:40:37.497Z"
   },
   {
    "duration": 6,
    "start_time": "2024-07-25T10:40:52.772Z"
   },
   {
    "duration": 11,
    "start_time": "2024-07-25T10:41:08.804Z"
   },
   {
    "duration": 7,
    "start_time": "2024-07-25T10:41:26.811Z"
   },
   {
    "duration": 6,
    "start_time": "2024-07-25T10:41:44.575Z"
   },
   {
    "duration": 8,
    "start_time": "2024-07-25T10:41:50.111Z"
   },
   {
    "duration": 7,
    "start_time": "2024-07-25T10:41:53.109Z"
   },
   {
    "duration": 6,
    "start_time": "2024-07-25T10:42:18.064Z"
   },
   {
    "duration": 7,
    "start_time": "2024-07-25T10:42:47.761Z"
   },
   {
    "duration": 9,
    "start_time": "2024-07-25T11:56:55.778Z"
   },
   {
    "duration": 9,
    "start_time": "2024-07-25T11:57:01.802Z"
   },
   {
    "duration": 20,
    "start_time": "2024-07-25T11:57:16.999Z"
   },
   {
    "duration": 12,
    "start_time": "2024-07-25T11:57:30.539Z"
   },
   {
    "duration": 11,
    "start_time": "2024-07-25T11:57:38.136Z"
   },
   {
    "duration": 59,
    "start_time": "2024-07-25T11:57:41.019Z"
   },
   {
    "duration": 13,
    "start_time": "2024-07-25T11:57:49.461Z"
   },
   {
    "duration": 12,
    "start_time": "2024-07-25T11:57:57.484Z"
   },
   {
    "duration": 13,
    "start_time": "2024-07-25T11:58:02.660Z"
   },
   {
    "duration": 350,
    "start_time": "2024-07-25T11:59:26.637Z"
   },
   {
    "duration": 4,
    "start_time": "2024-07-25T11:59:45.895Z"
   },
   {
    "duration": 371,
    "start_time": "2024-07-25T11:59:58.988Z"
   },
   {
    "duration": 8,
    "start_time": "2024-07-25T12:00:22.712Z"
   },
   {
    "duration": 7,
    "start_time": "2024-07-25T12:01:24.415Z"
   },
   {
    "duration": 390,
    "start_time": "2024-07-25T12:01:33.551Z"
   },
   {
    "duration": 366,
    "start_time": "2024-07-25T12:01:58.084Z"
   },
   {
    "duration": 7,
    "start_time": "2024-07-25T12:02:38.978Z"
   },
   {
    "duration": 10,
    "start_time": "2024-07-25T12:02:47.391Z"
   },
   {
    "duration": 6,
    "start_time": "2024-07-25T12:03:13.667Z"
   },
   {
    "duration": 13,
    "start_time": "2024-07-25T12:03:24.562Z"
   },
   {
    "duration": 8,
    "start_time": "2024-07-25T12:03:48.220Z"
   },
   {
    "duration": 8,
    "start_time": "2024-07-25T12:04:43.560Z"
   },
   {
    "duration": 6,
    "start_time": "2024-07-25T12:04:56.383Z"
   },
   {
    "duration": 8,
    "start_time": "2024-07-25T12:05:06.487Z"
   },
   {
    "duration": 8,
    "start_time": "2024-07-25T12:05:59.220Z"
   },
   {
    "duration": 1090,
    "start_time": "2024-07-25T12:14:10.002Z"
   },
   {
    "duration": 103,
    "start_time": "2024-07-25T12:14:11.093Z"
   },
   {
    "duration": 46,
    "start_time": "2024-07-25T12:14:11.197Z"
   },
   {
    "duration": 3,
    "start_time": "2024-07-25T12:14:11.245Z"
   },
   {
    "duration": 411,
    "start_time": "2024-07-25T12:14:11.249Z"
   },
   {
    "duration": 59,
    "start_time": "2024-07-25T12:14:11.662Z"
   },
   {
    "duration": 4,
    "start_time": "2024-07-25T12:14:11.722Z"
   },
   {
    "duration": 576,
    "start_time": "2024-07-25T12:14:11.727Z"
   },
   {
    "duration": 42,
    "start_time": "2024-07-25T12:14:12.305Z"
   },
   {
    "duration": 286,
    "start_time": "2024-07-25T12:14:12.349Z"
   },
   {
    "duration": 11,
    "start_time": "2024-07-25T12:14:12.636Z"
   },
   {
    "duration": 9,
    "start_time": "2024-07-25T12:14:12.648Z"
   },
   {
    "duration": 5,
    "start_time": "2024-07-25T12:14:12.658Z"
   },
   {
    "duration": 11,
    "start_time": "2024-07-25T12:14:12.664Z"
   },
   {
    "duration": 26,
    "start_time": "2024-07-25T12:14:12.676Z"
   },
   {
    "duration": 23,
    "start_time": "2024-07-25T12:14:12.703Z"
   },
   {
    "duration": 8,
    "start_time": "2024-07-25T12:14:12.727Z"
   },
   {
    "duration": 7,
    "start_time": "2024-07-25T12:14:12.737Z"
   },
   {
    "duration": 13,
    "start_time": "2024-07-25T12:14:12.745Z"
   },
   {
    "duration": 94,
    "start_time": "2024-07-25T12:14:12.759Z"
   },
   {
    "duration": 0,
    "start_time": "2024-07-25T12:14:12.855Z"
   },
   {
    "duration": 0,
    "start_time": "2024-07-25T12:14:12.856Z"
   },
   {
    "duration": 0,
    "start_time": "2024-07-25T12:14:12.858Z"
   },
   {
    "duration": 0,
    "start_time": "2024-07-25T12:14:12.859Z"
   },
   {
    "duration": 0,
    "start_time": "2024-07-25T12:14:12.860Z"
   },
   {
    "duration": 0,
    "start_time": "2024-07-25T12:14:12.862Z"
   },
   {
    "duration": 0,
    "start_time": "2024-07-25T12:14:12.863Z"
   },
   {
    "duration": 0,
    "start_time": "2024-07-25T12:14:12.864Z"
   },
   {
    "duration": 0,
    "start_time": "2024-07-25T12:14:12.866Z"
   },
   {
    "duration": 0,
    "start_time": "2024-07-25T12:14:12.867Z"
   },
   {
    "duration": 0,
    "start_time": "2024-07-25T12:14:12.868Z"
   },
   {
    "duration": 0,
    "start_time": "2024-07-25T12:14:12.896Z"
   },
   {
    "duration": 0,
    "start_time": "2024-07-25T12:14:12.898Z"
   },
   {
    "duration": 0,
    "start_time": "2024-07-25T12:14:12.899Z"
   },
   {
    "duration": 0,
    "start_time": "2024-07-25T12:14:12.900Z"
   },
   {
    "duration": 0,
    "start_time": "2024-07-25T12:14:12.901Z"
   },
   {
    "duration": 0,
    "start_time": "2024-07-25T12:14:12.903Z"
   },
   {
    "duration": 0,
    "start_time": "2024-07-25T12:14:12.904Z"
   },
   {
    "duration": 0,
    "start_time": "2024-07-25T12:14:12.905Z"
   },
   {
    "duration": 0,
    "start_time": "2024-07-25T12:14:12.907Z"
   },
   {
    "duration": 0,
    "start_time": "2024-07-25T12:14:12.908Z"
   },
   {
    "duration": 0,
    "start_time": "2024-07-25T12:14:12.910Z"
   },
   {
    "duration": 0,
    "start_time": "2024-07-25T12:14:12.911Z"
   },
   {
    "duration": 0,
    "start_time": "2024-07-25T12:14:12.912Z"
   },
   {
    "duration": 56,
    "start_time": "2024-07-25T12:18:35.496Z"
   },
   {
    "duration": 5,
    "start_time": "2024-07-25T12:18:42.084Z"
   },
   {
    "duration": 8,
    "start_time": "2024-07-25T12:18:44.944Z"
   },
   {
    "duration": 6,
    "start_time": "2024-07-25T12:19:49.633Z"
   },
   {
    "duration": 7,
    "start_time": "2024-07-25T12:19:58.999Z"
   },
   {
    "duration": 6,
    "start_time": "2024-07-25T12:20:20.823Z"
   },
   {
    "duration": 8,
    "start_time": "2024-07-25T12:20:28.384Z"
   },
   {
    "duration": 7,
    "start_time": "2024-07-25T12:20:47.207Z"
   },
   {
    "duration": 7,
    "start_time": "2024-07-25T12:20:50.782Z"
   },
   {
    "duration": 1095,
    "start_time": "2024-07-25T12:21:05.198Z"
   },
   {
    "duration": 99,
    "start_time": "2024-07-25T12:21:06.295Z"
   },
   {
    "duration": 43,
    "start_time": "2024-07-25T12:21:06.396Z"
   },
   {
    "duration": 2,
    "start_time": "2024-07-25T12:21:06.441Z"
   },
   {
    "duration": 404,
    "start_time": "2024-07-25T12:21:06.445Z"
   },
   {
    "duration": 59,
    "start_time": "2024-07-25T12:21:06.850Z"
   },
   {
    "duration": 4,
    "start_time": "2024-07-25T12:21:06.911Z"
   },
   {
    "duration": 701,
    "start_time": "2024-07-25T12:21:06.916Z"
   },
   {
    "duration": 92,
    "start_time": "2024-07-25T12:21:07.618Z"
   },
   {
    "duration": 512,
    "start_time": "2024-07-25T12:21:07.713Z"
   },
   {
    "duration": 10,
    "start_time": "2024-07-25T12:21:08.227Z"
   },
   {
    "duration": 64,
    "start_time": "2024-07-25T12:21:08.239Z"
   },
   {
    "duration": 53,
    "start_time": "2024-07-25T12:21:08.304Z"
   },
   {
    "duration": 42,
    "start_time": "2024-07-25T12:21:08.358Z"
   },
   {
    "duration": 11,
    "start_time": "2024-07-25T12:21:08.401Z"
   },
   {
    "duration": 14,
    "start_time": "2024-07-25T12:21:08.414Z"
   },
   {
    "duration": 12,
    "start_time": "2024-07-25T12:21:08.429Z"
   },
   {
    "duration": 57,
    "start_time": "2024-07-25T12:21:08.443Z"
   },
   {
    "duration": 5,
    "start_time": "2024-07-25T12:21:08.501Z"
   },
   {
    "duration": 5,
    "start_time": "2024-07-25T12:21:08.508Z"
   },
   {
    "duration": 8,
    "start_time": "2024-07-25T12:21:08.515Z"
   },
   {
    "duration": 296,
    "start_time": "2024-07-25T12:21:08.525Z"
   },
   {
    "duration": 0,
    "start_time": "2024-07-25T12:21:08.823Z"
   },
   {
    "duration": 0,
    "start_time": "2024-07-25T12:21:08.824Z"
   },
   {
    "duration": 0,
    "start_time": "2024-07-25T12:21:08.825Z"
   },
   {
    "duration": 0,
    "start_time": "2024-07-25T12:21:08.827Z"
   },
   {
    "duration": 0,
    "start_time": "2024-07-25T12:21:08.828Z"
   },
   {
    "duration": 0,
    "start_time": "2024-07-25T12:21:08.829Z"
   },
   {
    "duration": 0,
    "start_time": "2024-07-25T12:21:08.829Z"
   },
   {
    "duration": 0,
    "start_time": "2024-07-25T12:21:08.830Z"
   },
   {
    "duration": 0,
    "start_time": "2024-07-25T12:21:08.831Z"
   },
   {
    "duration": 0,
    "start_time": "2024-07-25T12:21:08.832Z"
   },
   {
    "duration": 0,
    "start_time": "2024-07-25T12:21:08.833Z"
   },
   {
    "duration": 0,
    "start_time": "2024-07-25T12:21:08.834Z"
   },
   {
    "duration": 0,
    "start_time": "2024-07-25T12:21:08.835Z"
   },
   {
    "duration": 0,
    "start_time": "2024-07-25T12:21:08.836Z"
   },
   {
    "duration": 0,
    "start_time": "2024-07-25T12:21:08.837Z"
   },
   {
    "duration": 0,
    "start_time": "2024-07-25T12:21:08.838Z"
   },
   {
    "duration": 0,
    "start_time": "2024-07-25T12:21:08.838Z"
   },
   {
    "duration": 0,
    "start_time": "2024-07-25T12:21:08.839Z"
   },
   {
    "duration": 0,
    "start_time": "2024-07-25T12:21:08.840Z"
   },
   {
    "duration": 0,
    "start_time": "2024-07-25T12:21:08.841Z"
   },
   {
    "duration": 0,
    "start_time": "2024-07-25T12:21:08.842Z"
   },
   {
    "duration": 0,
    "start_time": "2024-07-25T12:21:08.843Z"
   },
   {
    "duration": 5,
    "start_time": "2024-07-25T12:22:20.953Z"
   },
   {
    "duration": 6,
    "start_time": "2024-07-25T12:22:23.828Z"
   },
   {
    "duration": 7,
    "start_time": "2024-07-25T12:22:26.847Z"
   },
   {
    "duration": 5,
    "start_time": "2024-07-25T12:22:36.245Z"
   },
   {
    "duration": 7,
    "start_time": "2024-07-25T12:22:38.631Z"
   },
   {
    "duration": 6,
    "start_time": "2024-07-25T12:22:47.700Z"
   },
   {
    "duration": 6,
    "start_time": "2024-07-25T12:23:00.612Z"
   },
   {
    "duration": 1068,
    "start_time": "2024-07-25T12:23:32.328Z"
   },
   {
    "duration": 100,
    "start_time": "2024-07-25T12:23:33.398Z"
   },
   {
    "duration": 45,
    "start_time": "2024-07-25T12:23:33.499Z"
   },
   {
    "duration": 2,
    "start_time": "2024-07-25T12:23:33.546Z"
   },
   {
    "duration": 412,
    "start_time": "2024-07-25T12:23:33.549Z"
   },
   {
    "duration": 63,
    "start_time": "2024-07-25T12:23:33.963Z"
   },
   {
    "duration": 4,
    "start_time": "2024-07-25T12:23:34.027Z"
   },
   {
    "duration": 541,
    "start_time": "2024-07-25T12:23:34.032Z"
   },
   {
    "duration": 52,
    "start_time": "2024-07-25T12:23:34.574Z"
   },
   {
    "duration": 275,
    "start_time": "2024-07-25T12:23:34.628Z"
   },
   {
    "duration": 11,
    "start_time": "2024-07-25T12:23:34.905Z"
   },
   {
    "duration": 23,
    "start_time": "2024-07-25T12:23:34.917Z"
   },
   {
    "duration": 22,
    "start_time": "2024-07-25T12:23:34.941Z"
   },
   {
    "duration": 18,
    "start_time": "2024-07-25T12:23:34.964Z"
   },
   {
    "duration": 13,
    "start_time": "2024-07-25T12:23:34.983Z"
   },
   {
    "duration": 22,
    "start_time": "2024-07-25T12:23:34.997Z"
   },
   {
    "duration": 10,
    "start_time": "2024-07-25T12:23:35.020Z"
   },
   {
    "duration": 19,
    "start_time": "2024-07-25T12:23:35.031Z"
   },
   {
    "duration": 10,
    "start_time": "2024-07-25T12:23:35.052Z"
   },
   {
    "duration": 14,
    "start_time": "2024-07-25T12:23:35.064Z"
   },
   {
    "duration": 13,
    "start_time": "2024-07-25T12:23:35.080Z"
   },
   {
    "duration": 296,
    "start_time": "2024-07-25T12:23:35.094Z"
   },
   {
    "duration": 251,
    "start_time": "2024-07-25T12:23:35.396Z"
   },
   {
    "duration": 11,
    "start_time": "2024-07-25T12:23:35.648Z"
   },
   {
    "duration": 13,
    "start_time": "2024-07-25T12:23:35.660Z"
   },
   {
    "duration": 243,
    "start_time": "2024-07-25T12:23:35.674Z"
   },
   {
    "duration": 215,
    "start_time": "2024-07-25T12:23:35.918Z"
   },
   {
    "duration": 311,
    "start_time": "2024-07-25T12:23:36.136Z"
   },
   {
    "duration": 251,
    "start_time": "2024-07-25T12:23:36.449Z"
   },
   {
    "duration": 362,
    "start_time": "2024-07-25T12:23:36.701Z"
   },
   {
    "duration": 12,
    "start_time": "2024-07-25T12:23:37.064Z"
   },
   {
    "duration": 19,
    "start_time": "2024-07-25T12:23:37.077Z"
   },
   {
    "duration": 152,
    "start_time": "2024-07-25T12:23:37.097Z"
   },
   {
    "duration": 4,
    "start_time": "2024-07-25T12:23:37.251Z"
   },
   {
    "duration": 187,
    "start_time": "2024-07-25T12:23:37.256Z"
   },
   {
    "duration": 4,
    "start_time": "2024-07-25T12:23:37.444Z"
   },
   {
    "duration": 212,
    "start_time": "2024-07-25T12:23:37.450Z"
   },
   {
    "duration": 135,
    "start_time": "2024-07-25T12:23:37.663Z"
   },
   {
    "duration": 25,
    "start_time": "2024-07-25T12:23:37.799Z"
   },
   {
    "duration": 9,
    "start_time": "2024-07-25T12:23:37.825Z"
   },
   {
    "duration": 73,
    "start_time": "2024-07-25T12:23:37.835Z"
   },
   {
    "duration": 9,
    "start_time": "2024-07-25T12:23:37.909Z"
   },
   {
    "duration": 22,
    "start_time": "2024-07-25T12:23:37.919Z"
   },
   {
    "duration": 12,
    "start_time": "2024-07-25T12:23:37.943Z"
   },
   {
    "duration": 10,
    "start_time": "2024-07-25T12:25:46.248Z"
   },
   {
    "duration": 12,
    "start_time": "2024-07-25T12:26:06.453Z"
   },
   {
    "duration": 6,
    "start_time": "2024-07-25T12:26:13.945Z"
   },
   {
    "duration": 7,
    "start_time": "2024-07-25T12:26:19.265Z"
   },
   {
    "duration": 7,
    "start_time": "2024-07-25T12:26:30.570Z"
   },
   {
    "duration": 11,
    "start_time": "2024-07-25T12:27:04.706Z"
   },
   {
    "duration": 7,
    "start_time": "2024-07-25T12:27:43.213Z"
   },
   {
    "duration": 11,
    "start_time": "2024-07-25T12:27:45.222Z"
   },
   {
    "duration": 8,
    "start_time": "2024-07-25T12:27:47.433Z"
   },
   {
    "duration": 7,
    "start_time": "2024-07-25T12:28:18.860Z"
   },
   {
    "duration": 6,
    "start_time": "2024-07-25T12:28:21.454Z"
   },
   {
    "duration": 7,
    "start_time": "2024-07-25T12:28:22.844Z"
   },
   {
    "duration": 6,
    "start_time": "2024-07-25T12:28:30.040Z"
   },
   {
    "duration": 5,
    "start_time": "2024-07-25T12:29:14.129Z"
   },
   {
    "duration": 8,
    "start_time": "2024-07-25T12:34:55.785Z"
   },
   {
    "duration": 6,
    "start_time": "2024-07-25T12:35:01.074Z"
   },
   {
    "duration": 1056,
    "start_time": "2024-07-25T12:36:31.142Z"
   },
   {
    "duration": 101,
    "start_time": "2024-07-25T12:36:32.200Z"
   },
   {
    "duration": 60,
    "start_time": "2024-07-25T12:36:32.303Z"
   },
   {
    "duration": 3,
    "start_time": "2024-07-25T12:36:32.365Z"
   },
   {
    "duration": 412,
    "start_time": "2024-07-25T12:36:32.370Z"
   },
   {
    "duration": 48,
    "start_time": "2024-07-25T12:36:32.784Z"
   },
   {
    "duration": 3,
    "start_time": "2024-07-25T12:36:32.833Z"
   },
   {
    "duration": 562,
    "start_time": "2024-07-25T12:36:32.837Z"
   },
   {
    "duration": 97,
    "start_time": "2024-07-25T12:36:33.400Z"
   },
   {
    "duration": 512,
    "start_time": "2024-07-25T12:36:33.498Z"
   },
   {
    "duration": 11,
    "start_time": "2024-07-25T12:36:34.012Z"
   },
   {
    "duration": 9,
    "start_time": "2024-07-25T12:36:34.024Z"
   },
   {
    "duration": 63,
    "start_time": "2024-07-25T12:36:34.034Z"
   },
   {
    "duration": 8,
    "start_time": "2024-07-25T12:36:34.099Z"
   },
   {
    "duration": 12,
    "start_time": "2024-07-25T12:36:34.108Z"
   },
   {
    "duration": 11,
    "start_time": "2024-07-25T12:36:34.121Z"
   },
   {
    "duration": 5,
    "start_time": "2024-07-25T12:36:34.134Z"
   },
   {
    "duration": 60,
    "start_time": "2024-07-25T12:36:34.140Z"
   },
   {
    "duration": 7,
    "start_time": "2024-07-25T12:36:34.201Z"
   },
   {
    "duration": 10,
    "start_time": "2024-07-25T12:36:34.209Z"
   },
   {
    "duration": 81,
    "start_time": "2024-07-25T12:36:34.220Z"
   },
   {
    "duration": 427,
    "start_time": "2024-07-25T12:36:34.302Z"
   },
   {
    "duration": 220,
    "start_time": "2024-07-25T12:36:34.731Z"
   },
   {
    "duration": 10,
    "start_time": "2024-07-25T12:36:34.953Z"
   },
   {
    "duration": 10,
    "start_time": "2024-07-25T12:36:34.965Z"
   },
   {
    "duration": 238,
    "start_time": "2024-07-25T12:36:34.976Z"
   },
   {
    "duration": 239,
    "start_time": "2024-07-25T12:36:35.216Z"
   },
   {
    "duration": 363,
    "start_time": "2024-07-25T12:36:35.457Z"
   },
   {
    "duration": 255,
    "start_time": "2024-07-25T12:36:35.821Z"
   },
   {
    "duration": 356,
    "start_time": "2024-07-25T12:36:36.078Z"
   },
   {
    "duration": 12,
    "start_time": "2024-07-25T12:36:36.436Z"
   },
   {
    "duration": 36,
    "start_time": "2024-07-25T12:36:36.450Z"
   },
   {
    "duration": 139,
    "start_time": "2024-07-25T12:36:36.488Z"
   },
   {
    "duration": 4,
    "start_time": "2024-07-25T12:36:36.629Z"
   },
   {
    "duration": 187,
    "start_time": "2024-07-25T12:36:36.635Z"
   },
   {
    "duration": 4,
    "start_time": "2024-07-25T12:36:36.824Z"
   },
   {
    "duration": 205,
    "start_time": "2024-07-25T12:36:36.830Z"
   },
   {
    "duration": 123,
    "start_time": "2024-07-25T12:36:37.037Z"
   },
   {
    "duration": 36,
    "start_time": "2024-07-25T12:36:37.161Z"
   },
   {
    "duration": 9,
    "start_time": "2024-07-25T12:36:37.199Z"
   },
   {
    "duration": 8,
    "start_time": "2024-07-25T12:36:37.211Z"
   },
   {
    "duration": 21,
    "start_time": "2024-07-25T12:36:37.220Z"
   },
   {
    "duration": 24,
    "start_time": "2024-07-25T12:36:37.242Z"
   },
   {
    "duration": 12,
    "start_time": "2024-07-25T12:36:37.267Z"
   },
   {
    "duration": 6,
    "start_time": "2024-07-25T12:37:19.998Z"
   },
   {
    "duration": 92,
    "start_time": "2024-07-25T12:37:27.192Z"
   },
   {
    "duration": 6,
    "start_time": "2024-07-25T12:37:39.657Z"
   },
   {
    "duration": 8,
    "start_time": "2024-07-25T12:37:49.689Z"
   },
   {
    "duration": 9,
    "start_time": "2024-07-25T12:39:25.873Z"
   },
   {
    "duration": 7,
    "start_time": "2024-07-25T12:39:28.509Z"
   },
   {
    "duration": 723,
    "start_time": "2024-07-25T12:40:48.900Z"
   },
   {
    "duration": 732,
    "start_time": "2024-07-25T12:40:53.381Z"
   },
   {
    "duration": 7,
    "start_time": "2024-07-25T12:41:08.725Z"
   },
   {
    "duration": 9,
    "start_time": "2024-07-25T12:41:23.765Z"
   },
   {
    "duration": 11,
    "start_time": "2024-07-25T12:43:14.013Z"
   },
   {
    "duration": 6,
    "start_time": "2024-07-25T12:43:41.973Z"
   },
   {
    "duration": 73,
    "start_time": "2024-07-25T12:44:02.893Z"
   },
   {
    "duration": 50,
    "start_time": "2024-07-25T12:44:26.274Z"
   },
   {
    "duration": 6,
    "start_time": "2024-07-25T12:45:30.113Z"
   },
   {
    "duration": 736,
    "start_time": "2024-07-25T12:45:33.182Z"
   },
   {
    "duration": 770,
    "start_time": "2024-07-25T12:45:44.851Z"
   },
   {
    "duration": 10,
    "start_time": "2024-07-25T12:46:06.310Z"
   },
   {
    "duration": 6,
    "start_time": "2024-07-25T12:52:32.241Z"
   },
   {
    "duration": 12,
    "start_time": "2024-07-25T12:54:48.098Z"
   },
   {
    "duration": 29,
    "start_time": "2024-07-25T12:56:15.717Z"
   },
   {
    "duration": 5,
    "start_time": "2024-07-25T12:56:26.614Z"
   },
   {
    "duration": 10,
    "start_time": "2024-07-25T12:56:57.827Z"
   },
   {
    "duration": 9,
    "start_time": "2024-07-25T12:58:22.617Z"
   },
   {
    "duration": 1170,
    "start_time": "2024-07-25T12:58:51.664Z"
   },
   {
    "duration": 103,
    "start_time": "2024-07-25T12:58:52.836Z"
   },
   {
    "duration": 50,
    "start_time": "2024-07-25T12:58:52.941Z"
   },
   {
    "duration": 3,
    "start_time": "2024-07-25T12:58:52.993Z"
   },
   {
    "duration": 401,
    "start_time": "2024-07-25T12:58:52.998Z"
   },
   {
    "duration": 49,
    "start_time": "2024-07-25T12:58:53.401Z"
   },
   {
    "duration": 3,
    "start_time": "2024-07-25T12:58:53.452Z"
   },
   {
    "duration": 594,
    "start_time": "2024-07-25T12:58:53.457Z"
   },
   {
    "duration": 61,
    "start_time": "2024-07-25T12:58:54.053Z"
   },
   {
    "duration": 281,
    "start_time": "2024-07-25T12:58:54.116Z"
   },
   {
    "duration": 11,
    "start_time": "2024-07-25T12:58:54.399Z"
   },
   {
    "duration": 18,
    "start_time": "2024-07-25T12:58:54.411Z"
   },
   {
    "duration": 5,
    "start_time": "2024-07-25T12:58:54.431Z"
   },
   {
    "duration": 7,
    "start_time": "2024-07-25T12:58:54.438Z"
   },
   {
    "duration": 64,
    "start_time": "2024-07-25T12:58:54.447Z"
   },
   {
    "duration": 7,
    "start_time": "2024-07-25T12:58:54.512Z"
   },
   {
    "duration": 11,
    "start_time": "2024-07-25T12:58:54.520Z"
   },
   {
    "duration": 6,
    "start_time": "2024-07-25T12:58:54.533Z"
   },
   {
    "duration": 6,
    "start_time": "2024-07-25T12:58:54.540Z"
   },
   {
    "duration": 6,
    "start_time": "2024-07-25T12:58:54.547Z"
   },
   {
    "duration": 269,
    "start_time": "2024-07-25T12:58:54.554Z"
   },
   {
    "duration": 231,
    "start_time": "2024-07-25T12:58:54.825Z"
   },
   {
    "duration": 11,
    "start_time": "2024-07-25T12:58:55.057Z"
   },
   {
    "duration": 7,
    "start_time": "2024-07-25T12:58:55.069Z"
   },
   {
    "duration": 260,
    "start_time": "2024-07-25T12:58:55.077Z"
   },
   {
    "duration": 270,
    "start_time": "2024-07-25T12:58:55.339Z"
   },
   {
    "duration": 338,
    "start_time": "2024-07-25T12:58:55.610Z"
   },
   {
    "duration": 262,
    "start_time": "2024-07-25T12:58:55.951Z"
   },
   {
    "duration": 344,
    "start_time": "2024-07-25T12:58:56.215Z"
   },
   {
    "duration": 11,
    "start_time": "2024-07-25T12:58:56.560Z"
   },
   {
    "duration": 10,
    "start_time": "2024-07-25T12:58:56.572Z"
   },
   {
    "duration": 162,
    "start_time": "2024-07-25T12:58:56.595Z"
   },
   {
    "duration": 4,
    "start_time": "2024-07-25T12:58:56.759Z"
   },
   {
    "duration": 183,
    "start_time": "2024-07-25T12:58:56.764Z"
   },
   {
    "duration": 5,
    "start_time": "2024-07-25T12:58:56.948Z"
   },
   {
    "duration": 215,
    "start_time": "2024-07-25T12:58:56.954Z"
   },
   {
    "duration": 161,
    "start_time": "2024-07-25T12:58:57.171Z"
   },
   {
    "duration": 27,
    "start_time": "2024-07-25T12:58:57.334Z"
   },
   {
    "duration": 9,
    "start_time": "2024-07-25T12:58:57.362Z"
   },
   {
    "duration": 25,
    "start_time": "2024-07-25T12:58:57.372Z"
   },
   {
    "duration": 9,
    "start_time": "2024-07-25T12:58:57.398Z"
   },
   {
    "duration": 30,
    "start_time": "2024-07-25T12:58:57.408Z"
   },
   {
    "duration": 13,
    "start_time": "2024-07-25T12:58:57.440Z"
   },
   {
    "duration": 7,
    "start_time": "2024-07-25T13:02:30.948Z"
   },
   {
    "duration": 8,
    "start_time": "2024-07-25T13:02:51.053Z"
   },
   {
    "duration": 6,
    "start_time": "2024-07-25T13:04:05.835Z"
   },
   {
    "duration": 5,
    "start_time": "2024-07-25T13:04:22.163Z"
   },
   {
    "duration": 5,
    "start_time": "2024-07-25T13:04:38.337Z"
   },
   {
    "duration": 8,
    "start_time": "2024-07-25T13:04:49.389Z"
   },
   {
    "duration": 7,
    "start_time": "2024-07-25T13:05:13.251Z"
   },
   {
    "duration": 8,
    "start_time": "2024-07-25T13:05:34.679Z"
   },
   {
    "duration": 95,
    "start_time": "2024-07-25T13:07:30.463Z"
   },
   {
    "duration": 13,
    "start_time": "2024-07-25T13:07:44.373Z"
   },
   {
    "duration": 6,
    "start_time": "2024-07-25T13:07:46.322Z"
   },
   {
    "duration": 16,
    "start_time": "2024-07-25T13:09:02.757Z"
   },
   {
    "duration": 14,
    "start_time": "2024-07-25T13:09:12.437Z"
   },
   {
    "duration": 7,
    "start_time": "2024-07-25T13:09:16.874Z"
   },
   {
    "duration": 10,
    "start_time": "2024-07-25T13:09:33.304Z"
   },
   {
    "duration": 11,
    "start_time": "2024-07-25T13:12:31.309Z"
   },
   {
    "duration": 9,
    "start_time": "2024-07-25T13:13:03.163Z"
   },
   {
    "duration": 10,
    "start_time": "2024-07-25T13:13:29.833Z"
   },
   {
    "duration": 11,
    "start_time": "2024-07-25T13:13:35.370Z"
   },
   {
    "duration": 10,
    "start_time": "2024-07-25T13:14:01.992Z"
   },
   {
    "duration": 11,
    "start_time": "2024-07-25T13:14:09.146Z"
   },
   {
    "duration": 1071,
    "start_time": "2024-07-25T13:14:21.145Z"
   },
   {
    "duration": 101,
    "start_time": "2024-07-25T13:14:22.218Z"
   },
   {
    "duration": 50,
    "start_time": "2024-07-25T13:14:22.320Z"
   },
   {
    "duration": 3,
    "start_time": "2024-07-25T13:14:22.371Z"
   },
   {
    "duration": 397,
    "start_time": "2024-07-25T13:14:22.375Z"
   },
   {
    "duration": 59,
    "start_time": "2024-07-25T13:14:22.773Z"
   },
   {
    "duration": 3,
    "start_time": "2024-07-25T13:14:22.834Z"
   },
   {
    "duration": 581,
    "start_time": "2024-07-25T13:14:22.838Z"
   },
   {
    "duration": 76,
    "start_time": "2024-07-25T13:14:23.421Z"
   },
   {
    "duration": 247,
    "start_time": "2024-07-25T13:14:23.499Z"
   },
   {
    "duration": 11,
    "start_time": "2024-07-25T13:14:23.747Z"
   },
   {
    "duration": 10,
    "start_time": "2024-07-25T13:14:23.759Z"
   },
   {
    "duration": 29,
    "start_time": "2024-07-25T13:14:23.770Z"
   },
   {
    "duration": 7,
    "start_time": "2024-07-25T13:14:23.800Z"
   },
   {
    "duration": 9,
    "start_time": "2024-07-25T13:14:23.808Z"
   },
   {
    "duration": 9,
    "start_time": "2024-07-25T13:14:23.818Z"
   },
   {
    "duration": 6,
    "start_time": "2024-07-25T13:14:23.828Z"
   },
   {
    "duration": 16,
    "start_time": "2024-07-25T13:14:23.835Z"
   },
   {
    "duration": 15,
    "start_time": "2024-07-25T13:14:23.853Z"
   },
   {
    "duration": 109,
    "start_time": "2024-07-25T13:14:23.869Z"
   },
   {
    "duration": 0,
    "start_time": "2024-07-25T13:14:23.980Z"
   },
   {
    "duration": 0,
    "start_time": "2024-07-25T13:14:23.981Z"
   },
   {
    "duration": 0,
    "start_time": "2024-07-25T13:14:23.982Z"
   },
   {
    "duration": 0,
    "start_time": "2024-07-25T13:14:23.983Z"
   },
   {
    "duration": 0,
    "start_time": "2024-07-25T13:14:23.996Z"
   },
   {
    "duration": 0,
    "start_time": "2024-07-25T13:14:23.997Z"
   },
   {
    "duration": 0,
    "start_time": "2024-07-25T13:14:23.998Z"
   },
   {
    "duration": 0,
    "start_time": "2024-07-25T13:14:23.998Z"
   },
   {
    "duration": 0,
    "start_time": "2024-07-25T13:14:23.999Z"
   },
   {
    "duration": 0,
    "start_time": "2024-07-25T13:14:24.000Z"
   },
   {
    "duration": 0,
    "start_time": "2024-07-25T13:14:24.001Z"
   },
   {
    "duration": 0,
    "start_time": "2024-07-25T13:14:24.002Z"
   },
   {
    "duration": 0,
    "start_time": "2024-07-25T13:14:24.003Z"
   },
   {
    "duration": 0,
    "start_time": "2024-07-25T13:14:24.004Z"
   },
   {
    "duration": 0,
    "start_time": "2024-07-25T13:14:24.005Z"
   },
   {
    "duration": 0,
    "start_time": "2024-07-25T13:14:24.005Z"
   },
   {
    "duration": 0,
    "start_time": "2024-07-25T13:14:24.006Z"
   },
   {
    "duration": 0,
    "start_time": "2024-07-25T13:14:24.007Z"
   },
   {
    "duration": 0,
    "start_time": "2024-07-25T13:14:24.008Z"
   },
   {
    "duration": 0,
    "start_time": "2024-07-25T13:14:24.009Z"
   },
   {
    "duration": 0,
    "start_time": "2024-07-25T13:14:24.009Z"
   },
   {
    "duration": 0,
    "start_time": "2024-07-25T13:14:24.010Z"
   },
   {
    "duration": 0,
    "start_time": "2024-07-25T13:14:24.011Z"
   },
   {
    "duration": 0,
    "start_time": "2024-07-25T13:14:24.012Z"
   },
   {
    "duration": 7,
    "start_time": "2024-07-25T13:15:09.913Z"
   },
   {
    "duration": 7,
    "start_time": "2024-07-25T13:15:12.449Z"
   },
   {
    "duration": 6,
    "start_time": "2024-07-25T13:16:05.783Z"
   },
   {
    "duration": 7,
    "start_time": "2024-07-25T13:16:15.077Z"
   },
   {
    "duration": 9,
    "start_time": "2024-07-25T13:16:55.921Z"
   },
   {
    "duration": 6,
    "start_time": "2024-07-25T13:17:00.206Z"
   },
   {
    "duration": 6,
    "start_time": "2024-07-25T13:17:04.131Z"
   },
   {
    "duration": 1119,
    "start_time": "2024-07-25T13:17:27.065Z"
   },
   {
    "duration": 101,
    "start_time": "2024-07-25T13:17:28.186Z"
   },
   {
    "duration": 42,
    "start_time": "2024-07-25T13:17:28.289Z"
   },
   {
    "duration": 3,
    "start_time": "2024-07-25T13:17:28.333Z"
   },
   {
    "duration": 390,
    "start_time": "2024-07-25T13:17:28.337Z"
   },
   {
    "duration": 76,
    "start_time": "2024-07-25T13:17:28.729Z"
   },
   {
    "duration": 3,
    "start_time": "2024-07-25T13:17:28.807Z"
   },
   {
    "duration": 531,
    "start_time": "2024-07-25T13:17:28.811Z"
   },
   {
    "duration": 61,
    "start_time": "2024-07-25T13:17:29.344Z"
   },
   {
    "duration": 254,
    "start_time": "2024-07-25T13:17:29.407Z"
   },
   {
    "duration": 12,
    "start_time": "2024-07-25T13:17:29.662Z"
   },
   {
    "duration": 22,
    "start_time": "2024-07-25T13:17:29.675Z"
   },
   {
    "duration": 4,
    "start_time": "2024-07-25T13:17:29.698Z"
   },
   {
    "duration": 7,
    "start_time": "2024-07-25T13:17:29.703Z"
   },
   {
    "duration": 10,
    "start_time": "2024-07-25T13:17:29.711Z"
   },
   {
    "duration": 20,
    "start_time": "2024-07-25T13:17:29.722Z"
   },
   {
    "duration": 6,
    "start_time": "2024-07-25T13:17:29.744Z"
   },
   {
    "duration": 8,
    "start_time": "2024-07-25T13:17:29.797Z"
   },
   {
    "duration": 7,
    "start_time": "2024-07-25T13:17:29.806Z"
   },
   {
    "duration": 6,
    "start_time": "2024-07-25T13:17:29.814Z"
   },
   {
    "duration": 8,
    "start_time": "2024-07-25T13:17:29.821Z"
   },
   {
    "duration": 66,
    "start_time": "2024-07-25T13:17:29.830Z"
   },
   {
    "duration": 526,
    "start_time": "2024-07-25T13:17:29.898Z"
   },
   {
    "duration": 501,
    "start_time": "2024-07-25T13:17:30.426Z"
   },
   {
    "duration": 10,
    "start_time": "2024-07-25T13:17:30.929Z"
   },
   {
    "duration": 6,
    "start_time": "2024-07-25T13:17:30.997Z"
   },
   {
    "duration": 260,
    "start_time": "2024-07-25T13:17:31.005Z"
   },
   {
    "duration": 217,
    "start_time": "2024-07-25T13:17:31.268Z"
   },
   {
    "duration": 355,
    "start_time": "2024-07-25T13:17:31.487Z"
   },
   {
    "duration": 256,
    "start_time": "2024-07-25T13:17:31.844Z"
   },
   {
    "duration": 373,
    "start_time": "2024-07-25T13:17:32.102Z"
   },
   {
    "duration": 11,
    "start_time": "2024-07-25T13:17:32.476Z"
   },
   {
    "duration": 97,
    "start_time": "2024-07-25T13:17:32.489Z"
   },
   {
    "duration": 160,
    "start_time": "2024-07-25T13:17:32.588Z"
   },
   {
    "duration": 4,
    "start_time": "2024-07-25T13:17:32.749Z"
   },
   {
    "duration": 189,
    "start_time": "2024-07-25T13:17:32.755Z"
   },
   {
    "duration": 4,
    "start_time": "2024-07-25T13:17:32.945Z"
   },
   {
    "duration": 203,
    "start_time": "2024-07-25T13:17:32.950Z"
   },
   {
    "duration": 123,
    "start_time": "2024-07-25T13:17:33.154Z"
   },
   {
    "duration": 30,
    "start_time": "2024-07-25T13:17:33.279Z"
   },
   {
    "duration": 10,
    "start_time": "2024-07-25T13:17:33.311Z"
   },
   {
    "duration": 21,
    "start_time": "2024-07-25T13:17:33.322Z"
   },
   {
    "duration": 27,
    "start_time": "2024-07-25T13:17:33.345Z"
   },
   {
    "duration": 28,
    "start_time": "2024-07-25T13:17:33.373Z"
   },
   {
    "duration": 12,
    "start_time": "2024-07-25T13:17:33.402Z"
   },
   {
    "duration": 8,
    "start_time": "2024-07-25T13:17:58.132Z"
   },
   {
    "duration": 8,
    "start_time": "2024-07-25T13:18:15.710Z"
   },
   {
    "duration": 5,
    "start_time": "2024-07-25T13:18:37.242Z"
   },
   {
    "duration": 8,
    "start_time": "2024-07-25T13:18:54.747Z"
   },
   {
    "duration": 653,
    "start_time": "2024-07-25T13:19:17.226Z"
   },
   {
    "duration": 8,
    "start_time": "2024-07-25T13:19:35.301Z"
   },
   {
    "duration": 5,
    "start_time": "2024-07-25T13:19:55.951Z"
   },
   {
    "duration": 8,
    "start_time": "2024-07-25T13:19:58.563Z"
   },
   {
    "duration": 1079,
    "start_time": "2024-07-25T13:20:14.165Z"
   },
   {
    "duration": 105,
    "start_time": "2024-07-25T13:20:15.246Z"
   },
   {
    "duration": 58,
    "start_time": "2024-07-25T13:20:15.353Z"
   },
   {
    "duration": 2,
    "start_time": "2024-07-25T13:20:15.413Z"
   },
   {
    "duration": 418,
    "start_time": "2024-07-25T13:20:15.417Z"
   },
   {
    "duration": 75,
    "start_time": "2024-07-25T13:20:15.837Z"
   },
   {
    "duration": 4,
    "start_time": "2024-07-25T13:20:15.913Z"
   },
   {
    "duration": 536,
    "start_time": "2024-07-25T13:20:15.919Z"
   },
   {
    "duration": 57,
    "start_time": "2024-07-25T13:20:16.456Z"
   },
   {
    "duration": 261,
    "start_time": "2024-07-25T13:20:16.515Z"
   },
   {
    "duration": 19,
    "start_time": "2024-07-25T13:20:16.778Z"
   },
   {
    "duration": 11,
    "start_time": "2024-07-25T13:20:16.798Z"
   },
   {
    "duration": 4,
    "start_time": "2024-07-25T13:20:16.811Z"
   },
   {
    "duration": 8,
    "start_time": "2024-07-25T13:20:16.816Z"
   },
   {
    "duration": 8,
    "start_time": "2024-07-25T13:20:16.825Z"
   },
   {
    "duration": 6,
    "start_time": "2024-07-25T13:20:16.834Z"
   },
   {
    "duration": 6,
    "start_time": "2024-07-25T13:20:16.841Z"
   },
   {
    "duration": 5,
    "start_time": "2024-07-25T13:20:16.849Z"
   },
   {
    "duration": 44,
    "start_time": "2024-07-25T13:20:16.856Z"
   },
   {
    "duration": 7,
    "start_time": "2024-07-25T13:20:16.901Z"
   },
   {
    "duration": 101,
    "start_time": "2024-07-25T13:20:16.909Z"
   },
   {
    "duration": 0,
    "start_time": "2024-07-25T13:20:17.012Z"
   },
   {
    "duration": 0,
    "start_time": "2024-07-25T13:20:17.013Z"
   },
   {
    "duration": 0,
    "start_time": "2024-07-25T13:20:17.014Z"
   },
   {
    "duration": 0,
    "start_time": "2024-07-25T13:20:17.015Z"
   },
   {
    "duration": 0,
    "start_time": "2024-07-25T13:20:17.016Z"
   },
   {
    "duration": 0,
    "start_time": "2024-07-25T13:20:17.017Z"
   },
   {
    "duration": 0,
    "start_time": "2024-07-25T13:20:17.018Z"
   },
   {
    "duration": 0,
    "start_time": "2024-07-25T13:20:17.019Z"
   },
   {
    "duration": 0,
    "start_time": "2024-07-25T13:20:17.020Z"
   },
   {
    "duration": 0,
    "start_time": "2024-07-25T13:20:17.021Z"
   },
   {
    "duration": 0,
    "start_time": "2024-07-25T13:20:17.022Z"
   },
   {
    "duration": 0,
    "start_time": "2024-07-25T13:20:17.023Z"
   },
   {
    "duration": 0,
    "start_time": "2024-07-25T13:20:17.023Z"
   },
   {
    "duration": 0,
    "start_time": "2024-07-25T13:20:17.024Z"
   },
   {
    "duration": 0,
    "start_time": "2024-07-25T13:20:17.025Z"
   },
   {
    "duration": 0,
    "start_time": "2024-07-25T13:20:17.026Z"
   },
   {
    "duration": 0,
    "start_time": "2024-07-25T13:20:17.027Z"
   },
   {
    "duration": 0,
    "start_time": "2024-07-25T13:20:17.028Z"
   },
   {
    "duration": 0,
    "start_time": "2024-07-25T13:20:17.030Z"
   },
   {
    "duration": 0,
    "start_time": "2024-07-25T13:20:17.030Z"
   },
   {
    "duration": 0,
    "start_time": "2024-07-25T13:20:17.031Z"
   },
   {
    "duration": 0,
    "start_time": "2024-07-25T13:20:17.032Z"
   },
   {
    "duration": 0,
    "start_time": "2024-07-25T13:20:17.033Z"
   },
   {
    "duration": 0,
    "start_time": "2024-07-25T13:20:17.034Z"
   },
   {
    "duration": 7,
    "start_time": "2024-07-25T13:20:26.568Z"
   },
   {
    "duration": 5,
    "start_time": "2024-07-25T13:21:32.635Z"
   },
   {
    "duration": 7,
    "start_time": "2024-07-25T13:21:33.403Z"
   },
   {
    "duration": 7,
    "start_time": "2024-07-25T13:21:34.951Z"
   },
   {
    "duration": 7,
    "start_time": "2024-07-25T13:21:53.649Z"
   },
   {
    "duration": 11,
    "start_time": "2024-07-25T13:22:21.120Z"
   },
   {
    "duration": 7,
    "start_time": "2024-07-25T13:22:35.129Z"
   },
   {
    "duration": 11,
    "start_time": "2024-07-25T13:22:57.219Z"
   },
   {
    "duration": 1102,
    "start_time": "2024-07-25T13:24:49.709Z"
   },
   {
    "duration": 100,
    "start_time": "2024-07-25T13:24:50.813Z"
   },
   {
    "duration": 43,
    "start_time": "2024-07-25T13:24:50.914Z"
   },
   {
    "duration": 2,
    "start_time": "2024-07-25T13:24:50.959Z"
   },
   {
    "duration": 393,
    "start_time": "2024-07-25T13:24:50.963Z"
   },
   {
    "duration": 60,
    "start_time": "2024-07-25T13:24:51.358Z"
   },
   {
    "duration": 3,
    "start_time": "2024-07-25T13:24:51.420Z"
   },
   {
    "duration": 561,
    "start_time": "2024-07-25T13:24:51.424Z"
   },
   {
    "duration": 46,
    "start_time": "2024-07-25T13:24:51.987Z"
   },
   {
    "duration": 267,
    "start_time": "2024-07-25T13:24:52.035Z"
   },
   {
    "duration": 10,
    "start_time": "2024-07-25T13:24:52.303Z"
   },
   {
    "duration": 10,
    "start_time": "2024-07-25T13:24:52.314Z"
   },
   {
    "duration": 4,
    "start_time": "2024-07-25T13:24:52.325Z"
   },
   {
    "duration": 11,
    "start_time": "2024-07-25T13:24:52.330Z"
   },
   {
    "duration": 7,
    "start_time": "2024-07-25T13:24:52.342Z"
   },
   {
    "duration": 6,
    "start_time": "2024-07-25T13:24:52.351Z"
   },
   {
    "duration": 42,
    "start_time": "2024-07-25T13:24:52.358Z"
   },
   {
    "duration": 22,
    "start_time": "2024-07-25T13:24:52.401Z"
   },
   {
    "duration": 11,
    "start_time": "2024-07-25T13:24:52.424Z"
   },
   {
    "duration": 5,
    "start_time": "2024-07-25T13:24:52.436Z"
   },
   {
    "duration": 7,
    "start_time": "2024-07-25T13:24:52.442Z"
   },
   {
    "duration": 14,
    "start_time": "2024-07-25T13:24:52.450Z"
   },
   {
    "duration": 30,
    "start_time": "2024-07-25T13:24:52.465Z"
   },
   {
    "duration": 252,
    "start_time": "2024-07-25T13:24:52.496Z"
   },
   {
    "duration": 378,
    "start_time": "2024-07-25T13:24:52.750Z"
   },
   {
    "duration": 11,
    "start_time": "2024-07-25T13:24:53.129Z"
   },
   {
    "duration": 8,
    "start_time": "2024-07-25T13:24:53.197Z"
   },
   {
    "duration": 426,
    "start_time": "2024-07-25T13:24:53.208Z"
   },
   {
    "duration": 462,
    "start_time": "2024-07-25T13:24:53.636Z"
   },
   {
    "duration": 323,
    "start_time": "2024-07-25T13:24:54.100Z"
   },
   {
    "duration": 246,
    "start_time": "2024-07-25T13:24:54.425Z"
   },
   {
    "duration": 352,
    "start_time": "2024-07-25T13:24:54.672Z"
   },
   {
    "duration": 11,
    "start_time": "2024-07-25T13:24:55.026Z"
   },
   {
    "duration": 24,
    "start_time": "2024-07-25T13:24:55.038Z"
   },
   {
    "duration": 154,
    "start_time": "2024-07-25T13:24:55.063Z"
   },
   {
    "duration": 4,
    "start_time": "2024-07-25T13:24:55.219Z"
   },
   {
    "duration": 196,
    "start_time": "2024-07-25T13:24:55.224Z"
   },
   {
    "duration": 4,
    "start_time": "2024-07-25T13:24:55.422Z"
   },
   {
    "duration": 237,
    "start_time": "2024-07-25T13:24:55.427Z"
   },
   {
    "duration": 136,
    "start_time": "2024-07-25T13:24:55.666Z"
   },
   {
    "duration": 28,
    "start_time": "2024-07-25T13:24:55.804Z"
   },
   {
    "duration": 9,
    "start_time": "2024-07-25T13:24:55.833Z"
   },
   {
    "duration": 16,
    "start_time": "2024-07-25T13:24:55.843Z"
   },
   {
    "duration": 8,
    "start_time": "2024-07-25T13:24:55.861Z"
   },
   {
    "duration": 44,
    "start_time": "2024-07-25T13:24:55.871Z"
   },
   {
    "duration": 11,
    "start_time": "2024-07-25T13:24:55.917Z"
   },
   {
    "duration": 877,
    "start_time": "2024-07-25T13:25:43.227Z"
   },
   {
    "duration": 550,
    "start_time": "2024-07-25T13:25:52.939Z"
   },
   {
    "duration": 6,
    "start_time": "2024-07-25T13:26:18.804Z"
   },
   {
    "duration": 1091,
    "start_time": "2024-07-25T13:26:30.911Z"
   },
   {
    "duration": 99,
    "start_time": "2024-07-25T13:26:32.004Z"
   },
   {
    "duration": 42,
    "start_time": "2024-07-25T13:26:32.105Z"
   },
   {
    "duration": 18,
    "start_time": "2024-07-25T13:26:32.149Z"
   },
   {
    "duration": 395,
    "start_time": "2024-07-25T13:26:32.168Z"
   },
   {
    "duration": 60,
    "start_time": "2024-07-25T13:26:32.564Z"
   },
   {
    "duration": 4,
    "start_time": "2024-07-25T13:26:32.625Z"
   },
   {
    "duration": 693,
    "start_time": "2024-07-25T13:26:32.630Z"
   },
   {
    "duration": 99,
    "start_time": "2024-07-25T13:26:33.325Z"
   },
   {
    "duration": 507,
    "start_time": "2024-07-25T13:26:33.426Z"
   },
   {
    "duration": 63,
    "start_time": "2024-07-25T13:26:33.934Z"
   },
   {
    "duration": 11,
    "start_time": "2024-07-25T13:26:33.998Z"
   },
   {
    "duration": 5,
    "start_time": "2024-07-25T13:26:34.010Z"
   },
   {
    "duration": 8,
    "start_time": "2024-07-25T13:26:34.016Z"
   },
   {
    "duration": 8,
    "start_time": "2024-07-25T13:26:34.026Z"
   },
   {
    "duration": 68,
    "start_time": "2024-07-25T13:26:34.036Z"
   },
   {
    "duration": 91,
    "start_time": "2024-07-25T13:26:34.106Z"
   },
   {
    "duration": 9,
    "start_time": "2024-07-25T13:26:34.199Z"
   },
   {
    "duration": 7,
    "start_time": "2024-07-25T13:26:34.210Z"
   },
   {
    "duration": 7,
    "start_time": "2024-07-25T13:26:34.219Z"
   },
   {
    "duration": 7,
    "start_time": "2024-07-25T13:26:34.228Z"
   },
   {
    "duration": 60,
    "start_time": "2024-07-25T13:26:34.237Z"
   },
   {
    "duration": 262,
    "start_time": "2024-07-25T13:26:34.299Z"
   },
   {
    "duration": 233,
    "start_time": "2024-07-25T13:26:34.563Z"
   },
   {
    "duration": 11,
    "start_time": "2024-07-25T13:26:34.797Z"
   },
   {
    "duration": 10,
    "start_time": "2024-07-25T13:26:34.810Z"
   },
   {
    "duration": 235,
    "start_time": "2024-07-25T13:26:34.821Z"
   },
   {
    "duration": 341,
    "start_time": "2024-07-25T13:26:35.060Z"
   },
   {
    "duration": 511,
    "start_time": "2024-07-25T13:26:35.403Z"
   },
   {
    "duration": 581,
    "start_time": "2024-07-25T13:26:35.916Z"
   },
   {
    "duration": 374,
    "start_time": "2024-07-25T13:26:36.500Z"
   },
   {
    "duration": 11,
    "start_time": "2024-07-25T13:26:36.875Z"
   },
   {
    "duration": 18,
    "start_time": "2024-07-25T13:26:36.887Z"
   },
   {
    "duration": 165,
    "start_time": "2024-07-25T13:26:36.906Z"
   },
   {
    "duration": 4,
    "start_time": "2024-07-25T13:26:37.072Z"
   },
   {
    "duration": 185,
    "start_time": "2024-07-25T13:26:37.077Z"
   },
   {
    "duration": 4,
    "start_time": "2024-07-25T13:26:37.263Z"
   },
   {
    "duration": 198,
    "start_time": "2024-07-25T13:26:37.268Z"
   },
   {
    "duration": 134,
    "start_time": "2024-07-25T13:26:37.468Z"
   },
   {
    "duration": 27,
    "start_time": "2024-07-25T13:26:37.603Z"
   },
   {
    "duration": 9,
    "start_time": "2024-07-25T13:26:37.631Z"
   },
   {
    "duration": 7,
    "start_time": "2024-07-25T13:26:37.641Z"
   },
   {
    "duration": 6,
    "start_time": "2024-07-25T13:26:37.650Z"
   },
   {
    "duration": 50,
    "start_time": "2024-07-25T13:26:37.658Z"
   },
   {
    "duration": 13,
    "start_time": "2024-07-25T13:26:37.709Z"
   },
   {
    "duration": 676,
    "start_time": "2024-07-25T13:26:48.617Z"
   },
   {
    "duration": 518,
    "start_time": "2024-07-25T13:27:02.679Z"
   },
   {
    "duration": 1083,
    "start_time": "2024-07-25T13:27:13.309Z"
   },
   {
    "duration": 99,
    "start_time": "2024-07-25T13:27:14.395Z"
   },
   {
    "duration": 43,
    "start_time": "2024-07-25T13:27:14.496Z"
   },
   {
    "duration": 3,
    "start_time": "2024-07-25T13:27:14.541Z"
   },
   {
    "duration": 442,
    "start_time": "2024-07-25T13:27:14.545Z"
   },
   {
    "duration": 52,
    "start_time": "2024-07-25T13:27:14.989Z"
   },
   {
    "duration": 6,
    "start_time": "2024-07-25T13:27:15.043Z"
   },
   {
    "duration": 1181,
    "start_time": "2024-07-25T13:27:15.050Z"
   },
   {
    "duration": 94,
    "start_time": "2024-07-25T13:27:16.233Z"
   },
   {
    "duration": 287,
    "start_time": "2024-07-25T13:27:16.329Z"
   },
   {
    "duration": 10,
    "start_time": "2024-07-25T13:27:16.618Z"
   },
   {
    "duration": 13,
    "start_time": "2024-07-25T13:27:16.630Z"
   },
   {
    "duration": 12,
    "start_time": "2024-07-25T13:27:16.644Z"
   },
   {
    "duration": 7,
    "start_time": "2024-07-25T13:27:16.658Z"
   },
   {
    "duration": 8,
    "start_time": "2024-07-25T13:27:16.666Z"
   },
   {
    "duration": 27,
    "start_time": "2024-07-25T13:27:16.675Z"
   },
   {
    "duration": 18,
    "start_time": "2024-07-25T13:27:16.703Z"
   },
   {
    "duration": 15,
    "start_time": "2024-07-25T13:27:16.722Z"
   },
   {
    "duration": 7,
    "start_time": "2024-07-25T13:27:16.738Z"
   },
   {
    "duration": 6,
    "start_time": "2024-07-25T13:27:16.747Z"
   },
   {
    "duration": 12,
    "start_time": "2024-07-25T13:27:16.754Z"
   },
   {
    "duration": 6,
    "start_time": "2024-07-25T13:27:16.767Z"
   },
   {
    "duration": 264,
    "start_time": "2024-07-25T13:27:16.774Z"
   },
   {
    "duration": 234,
    "start_time": "2024-07-25T13:27:17.040Z"
   },
   {
    "duration": 11,
    "start_time": "2024-07-25T13:27:17.275Z"
   },
   {
    "duration": 13,
    "start_time": "2024-07-25T13:27:17.287Z"
   },
   {
    "duration": 240,
    "start_time": "2024-07-25T13:27:17.301Z"
   },
   {
    "duration": 218,
    "start_time": "2024-07-25T13:27:17.543Z"
   },
   {
    "duration": 346,
    "start_time": "2024-07-25T13:27:17.762Z"
   },
   {
    "duration": 253,
    "start_time": "2024-07-25T13:27:18.109Z"
   },
   {
    "duration": 361,
    "start_time": "2024-07-25T13:27:18.364Z"
   },
   {
    "duration": 10,
    "start_time": "2024-07-25T13:27:18.727Z"
   },
   {
    "duration": 10,
    "start_time": "2024-07-25T13:27:18.738Z"
   },
   {
    "duration": 160,
    "start_time": "2024-07-25T13:27:18.750Z"
   },
   {
    "duration": 4,
    "start_time": "2024-07-25T13:27:18.912Z"
   },
   {
    "duration": 184,
    "start_time": "2024-07-25T13:27:18.917Z"
   },
   {
    "duration": 5,
    "start_time": "2024-07-25T13:27:19.102Z"
   },
   {
    "duration": 215,
    "start_time": "2024-07-25T13:27:19.108Z"
   },
   {
    "duration": 128,
    "start_time": "2024-07-25T13:27:19.324Z"
   },
   {
    "duration": 24,
    "start_time": "2024-07-25T13:27:19.454Z"
   },
   {
    "duration": 20,
    "start_time": "2024-07-25T13:27:19.480Z"
   },
   {
    "duration": 9,
    "start_time": "2024-07-25T13:27:19.502Z"
   },
   {
    "duration": 23,
    "start_time": "2024-07-25T13:27:19.513Z"
   },
   {
    "duration": 23,
    "start_time": "2024-07-25T13:27:19.538Z"
   },
   {
    "duration": 12,
    "start_time": "2024-07-25T13:27:19.563Z"
   },
   {
    "duration": 637,
    "start_time": "2024-07-25T13:28:06.617Z"
   },
   {
    "duration": 552,
    "start_time": "2024-07-25T13:28:23.958Z"
   },
   {
    "duration": 7,
    "start_time": "2024-07-25T13:28:30.698Z"
   },
   {
    "duration": 7,
    "start_time": "2024-07-25T13:29:27.129Z"
   },
   {
    "duration": 8,
    "start_time": "2024-07-25T13:30:12.536Z"
   },
   {
    "duration": 8,
    "start_time": "2024-07-25T13:30:13.087Z"
   },
   {
    "duration": 6,
    "start_time": "2024-07-25T13:30:17.053Z"
   },
   {
    "duration": 6,
    "start_time": "2024-07-25T13:30:19.376Z"
   },
   {
    "duration": 7,
    "start_time": "2024-07-25T13:30:55.229Z"
   },
   {
    "duration": 6,
    "start_time": "2024-07-25T13:31:01.569Z"
   },
   {
    "duration": 1034,
    "start_time": "2024-07-25T13:31:11.659Z"
   },
   {
    "duration": 100,
    "start_time": "2024-07-25T13:31:12.696Z"
   },
   {
    "duration": 43,
    "start_time": "2024-07-25T13:31:12.798Z"
   },
   {
    "duration": 2,
    "start_time": "2024-07-25T13:31:12.843Z"
   },
   {
    "duration": 400,
    "start_time": "2024-07-25T13:31:12.847Z"
   },
   {
    "duration": 63,
    "start_time": "2024-07-25T13:31:13.248Z"
   },
   {
    "duration": 3,
    "start_time": "2024-07-25T13:31:13.313Z"
   },
   {
    "duration": 541,
    "start_time": "2024-07-25T13:31:13.317Z"
   },
   {
    "duration": 60,
    "start_time": "2024-07-25T13:31:13.860Z"
   },
   {
    "duration": 257,
    "start_time": "2024-07-25T13:31:13.922Z"
   },
   {
    "duration": 19,
    "start_time": "2024-07-25T13:31:14.181Z"
   },
   {
    "duration": 14,
    "start_time": "2024-07-25T13:31:14.202Z"
   },
   {
    "duration": 11,
    "start_time": "2024-07-25T13:31:14.217Z"
   },
   {
    "duration": 13,
    "start_time": "2024-07-25T13:31:14.229Z"
   },
   {
    "duration": 24,
    "start_time": "2024-07-25T13:31:14.243Z"
   },
   {
    "duration": 9,
    "start_time": "2024-07-25T13:31:14.268Z"
   },
   {
    "duration": 9,
    "start_time": "2024-07-25T13:31:14.278Z"
   },
   {
    "duration": 7,
    "start_time": "2024-07-25T13:31:14.288Z"
   },
   {
    "duration": 7,
    "start_time": "2024-07-25T13:31:14.296Z"
   },
   {
    "duration": 23,
    "start_time": "2024-07-25T13:31:14.304Z"
   },
   {
    "duration": 14,
    "start_time": "2024-07-25T13:31:14.328Z"
   },
   {
    "duration": 9,
    "start_time": "2024-07-25T13:31:14.343Z"
   },
   {
    "duration": 243,
    "start_time": "2024-07-25T13:31:14.354Z"
   },
   {
    "duration": 217,
    "start_time": "2024-07-25T13:31:14.599Z"
   },
   {
    "duration": 10,
    "start_time": "2024-07-25T13:31:14.818Z"
   },
   {
    "duration": 26,
    "start_time": "2024-07-25T13:31:14.829Z"
   },
   {
    "duration": 223,
    "start_time": "2024-07-25T13:31:14.857Z"
   },
   {
    "duration": 234,
    "start_time": "2024-07-25T13:31:15.082Z"
   },
   {
    "duration": 335,
    "start_time": "2024-07-25T13:31:15.318Z"
   },
   {
    "duration": 360,
    "start_time": "2024-07-25T13:31:15.654Z"
   },
   {
    "duration": 583,
    "start_time": "2024-07-25T13:31:16.016Z"
   },
   {
    "duration": 11,
    "start_time": "2024-07-25T13:31:16.600Z"
   },
   {
    "duration": 27,
    "start_time": "2024-07-25T13:31:16.612Z"
   },
   {
    "duration": 362,
    "start_time": "2024-07-25T13:31:16.640Z"
   },
   {
    "duration": 4,
    "start_time": "2024-07-25T13:31:17.003Z"
   },
   {
    "duration": 254,
    "start_time": "2024-07-25T13:31:17.008Z"
   },
   {
    "duration": 4,
    "start_time": "2024-07-25T13:31:17.263Z"
   },
   {
    "duration": 229,
    "start_time": "2024-07-25T13:31:17.268Z"
   },
   {
    "duration": 116,
    "start_time": "2024-07-25T13:31:17.499Z"
   },
   {
    "duration": 25,
    "start_time": "2024-07-25T13:31:17.617Z"
   },
   {
    "duration": 10,
    "start_time": "2024-07-25T13:31:17.644Z"
   },
   {
    "duration": 8,
    "start_time": "2024-07-25T13:31:17.655Z"
   },
   {
    "duration": 34,
    "start_time": "2024-07-25T13:31:17.665Z"
   },
   {
    "duration": 29,
    "start_time": "2024-07-25T13:31:17.701Z"
   },
   {
    "duration": 12,
    "start_time": "2024-07-25T13:31:17.732Z"
   },
   {
    "duration": 7,
    "start_time": "2024-07-25T13:31:38.368Z"
   },
   {
    "duration": 1046,
    "start_time": "2024-07-25T13:35:28.849Z"
   },
   {
    "duration": 99,
    "start_time": "2024-07-25T13:35:29.896Z"
   },
   {
    "duration": 48,
    "start_time": "2024-07-25T13:35:29.997Z"
   },
   {
    "duration": 37,
    "start_time": "2024-07-25T13:35:30.046Z"
   },
   {
    "duration": 415,
    "start_time": "2024-07-25T13:35:30.084Z"
   },
   {
    "duration": 53,
    "start_time": "2024-07-25T13:35:30.501Z"
   },
   {
    "duration": 4,
    "start_time": "2024-07-25T13:35:30.555Z"
   },
   {
    "duration": 655,
    "start_time": "2024-07-25T13:35:30.561Z"
   },
   {
    "duration": 42,
    "start_time": "2024-07-25T13:35:31.218Z"
   },
   {
    "duration": 287,
    "start_time": "2024-07-25T13:35:31.262Z"
   },
   {
    "duration": 10,
    "start_time": "2024-07-25T13:35:31.551Z"
   },
   {
    "duration": 31,
    "start_time": "2024-07-25T13:35:31.562Z"
   },
   {
    "duration": 21,
    "start_time": "2024-07-25T13:35:31.594Z"
   },
   {
    "duration": 35,
    "start_time": "2024-07-25T13:35:31.616Z"
   },
   {
    "duration": 31,
    "start_time": "2024-07-25T13:35:31.652Z"
   },
   {
    "duration": 29,
    "start_time": "2024-07-25T13:35:31.684Z"
   },
   {
    "duration": 6,
    "start_time": "2024-07-25T13:35:31.715Z"
   },
   {
    "duration": 28,
    "start_time": "2024-07-25T13:35:31.722Z"
   },
   {
    "duration": 5,
    "start_time": "2024-07-25T13:35:31.752Z"
   },
   {
    "duration": 6,
    "start_time": "2024-07-25T13:35:31.759Z"
   },
   {
    "duration": 27,
    "start_time": "2024-07-25T13:35:31.766Z"
   },
   {
    "duration": 261,
    "start_time": "2024-07-25T13:35:31.794Z"
   },
   {
    "duration": 232,
    "start_time": "2024-07-25T13:35:32.056Z"
   },
   {
    "duration": 15,
    "start_time": "2024-07-25T13:35:32.290Z"
   },
   {
    "duration": 8,
    "start_time": "2024-07-25T13:35:32.306Z"
   },
   {
    "duration": 236,
    "start_time": "2024-07-25T13:35:32.316Z"
   },
   {
    "duration": 222,
    "start_time": "2024-07-25T13:35:32.554Z"
   },
   {
    "duration": 328,
    "start_time": "2024-07-25T13:35:32.780Z"
   },
   {
    "duration": 247,
    "start_time": "2024-07-25T13:35:33.109Z"
   },
   {
    "duration": 329,
    "start_time": "2024-07-25T13:35:33.357Z"
   },
   {
    "duration": 15,
    "start_time": "2024-07-25T13:35:33.687Z"
   },
   {
    "duration": 14,
    "start_time": "2024-07-25T13:35:33.704Z"
   },
   {
    "duration": 166,
    "start_time": "2024-07-25T13:35:33.720Z"
   },
   {
    "duration": 5,
    "start_time": "2024-07-25T13:35:33.895Z"
   },
   {
    "duration": 178,
    "start_time": "2024-07-25T13:35:33.901Z"
   },
   {
    "duration": 16,
    "start_time": "2024-07-25T13:35:34.081Z"
   },
   {
    "duration": 211,
    "start_time": "2024-07-25T13:35:34.098Z"
   },
   {
    "duration": 120,
    "start_time": "2024-07-25T13:35:34.311Z"
   },
   {
    "duration": 25,
    "start_time": "2024-07-25T13:35:34.432Z"
   },
   {
    "duration": 8,
    "start_time": "2024-07-25T13:35:34.459Z"
   },
   {
    "duration": 8,
    "start_time": "2024-07-25T13:35:34.468Z"
   },
   {
    "duration": 26,
    "start_time": "2024-07-25T13:35:34.477Z"
   },
   {
    "duration": 24,
    "start_time": "2024-07-25T13:35:34.504Z"
   },
   {
    "duration": 12,
    "start_time": "2024-07-25T13:35:34.530Z"
   },
   {
    "duration": 8,
    "start_time": "2024-07-25T13:57:43.371Z"
   },
   {
    "duration": 1101,
    "start_time": "2024-07-25T13:58:18.903Z"
   },
   {
    "duration": 101,
    "start_time": "2024-07-25T13:58:20.006Z"
   },
   {
    "duration": 44,
    "start_time": "2024-07-25T13:58:20.109Z"
   },
   {
    "duration": 3,
    "start_time": "2024-07-25T13:58:20.155Z"
   },
   {
    "duration": 415,
    "start_time": "2024-07-25T13:58:20.160Z"
   },
   {
    "duration": 59,
    "start_time": "2024-07-25T13:58:20.576Z"
   },
   {
    "duration": 3,
    "start_time": "2024-07-25T13:58:20.636Z"
   },
   {
    "duration": 608,
    "start_time": "2024-07-25T13:58:20.641Z"
   },
   {
    "duration": 61,
    "start_time": "2024-07-25T13:58:21.251Z"
   },
   {
    "duration": 262,
    "start_time": "2024-07-25T13:58:21.314Z"
   },
   {
    "duration": 10,
    "start_time": "2024-07-25T13:58:21.577Z"
   },
   {
    "duration": 23,
    "start_time": "2024-07-25T13:58:21.596Z"
   },
   {
    "duration": 20,
    "start_time": "2024-07-25T13:58:21.620Z"
   },
   {
    "duration": 9,
    "start_time": "2024-07-25T13:58:21.641Z"
   },
   {
    "duration": 26,
    "start_time": "2024-07-25T13:58:21.651Z"
   },
   {
    "duration": 12,
    "start_time": "2024-07-25T13:58:21.679Z"
   },
   {
    "duration": 37,
    "start_time": "2024-07-25T13:58:21.693Z"
   },
   {
    "duration": 15,
    "start_time": "2024-07-25T13:58:21.731Z"
   },
   {
    "duration": 7,
    "start_time": "2024-07-25T13:58:21.748Z"
   },
   {
    "duration": 9,
    "start_time": "2024-07-25T13:58:21.756Z"
   },
   {
    "duration": 19,
    "start_time": "2024-07-25T13:58:21.767Z"
   },
   {
    "duration": 255,
    "start_time": "2024-07-25T13:58:21.787Z"
   },
   {
    "duration": 234,
    "start_time": "2024-07-25T13:58:22.043Z"
   },
   {
    "duration": 18,
    "start_time": "2024-07-25T13:58:22.279Z"
   },
   {
    "duration": 26,
    "start_time": "2024-07-25T13:58:22.299Z"
   },
   {
    "duration": 228,
    "start_time": "2024-07-25T13:58:22.327Z"
   },
   {
    "duration": 228,
    "start_time": "2024-07-25T13:58:22.556Z"
   },
   {
    "duration": 332,
    "start_time": "2024-07-25T13:58:22.795Z"
   },
   {
    "duration": 252,
    "start_time": "2024-07-25T13:58:23.128Z"
   },
   {
    "duration": 355,
    "start_time": "2024-07-25T13:58:23.382Z"
   },
   {
    "duration": 11,
    "start_time": "2024-07-25T13:58:23.739Z"
   },
   {
    "duration": 14,
    "start_time": "2024-07-25T13:58:23.751Z"
   },
   {
    "duration": 176,
    "start_time": "2024-07-25T13:58:23.766Z"
   },
   {
    "duration": 3,
    "start_time": "2024-07-25T13:58:23.944Z"
   },
   {
    "duration": 190,
    "start_time": "2024-07-25T13:58:23.948Z"
   },
   {
    "duration": 5,
    "start_time": "2024-07-25T13:58:24.139Z"
   },
   {
    "duration": 212,
    "start_time": "2024-07-25T13:58:24.145Z"
   },
   {
    "duration": 116,
    "start_time": "2024-07-25T13:58:24.358Z"
   },
   {
    "duration": 31,
    "start_time": "2024-07-25T13:58:24.475Z"
   },
   {
    "duration": 9,
    "start_time": "2024-07-25T13:58:24.507Z"
   },
   {
    "duration": 20,
    "start_time": "2024-07-25T13:58:24.518Z"
   },
   {
    "duration": 15,
    "start_time": "2024-07-25T13:58:24.539Z"
   },
   {
    "duration": 23,
    "start_time": "2024-07-25T13:58:24.556Z"
   },
   {
    "duration": 17,
    "start_time": "2024-07-25T13:58:24.581Z"
   },
   {
    "duration": 1089,
    "start_time": "2024-07-25T14:16:23.613Z"
   },
   {
    "duration": 101,
    "start_time": "2024-07-25T14:16:24.704Z"
   },
   {
    "duration": 50,
    "start_time": "2024-07-25T14:16:24.806Z"
   },
   {
    "duration": 3,
    "start_time": "2024-07-25T14:16:24.859Z"
   },
   {
    "duration": 395,
    "start_time": "2024-07-25T14:16:24.864Z"
   },
   {
    "duration": 60,
    "start_time": "2024-07-25T14:16:25.260Z"
   },
   {
    "duration": 3,
    "start_time": "2024-07-25T14:16:25.322Z"
   },
   {
    "duration": 573,
    "start_time": "2024-07-25T14:16:25.326Z"
   },
   {
    "duration": 40,
    "start_time": "2024-07-25T14:16:25.900Z"
   },
   {
    "duration": 277,
    "start_time": "2024-07-25T14:16:25.942Z"
   },
   {
    "duration": 10,
    "start_time": "2024-07-25T14:16:26.220Z"
   },
   {
    "duration": 18,
    "start_time": "2024-07-25T14:16:26.231Z"
   },
   {
    "duration": 4,
    "start_time": "2024-07-25T14:16:26.250Z"
   },
   {
    "duration": 7,
    "start_time": "2024-07-25T14:16:26.255Z"
   },
   {
    "duration": 7,
    "start_time": "2024-07-25T14:16:26.264Z"
   },
   {
    "duration": 8,
    "start_time": "2024-07-25T14:16:26.296Z"
   },
   {
    "duration": 12,
    "start_time": "2024-07-25T14:16:26.305Z"
   },
   {
    "duration": 7,
    "start_time": "2024-07-25T14:16:26.319Z"
   },
   {
    "duration": 41,
    "start_time": "2024-07-25T14:16:26.327Z"
   },
   {
    "duration": 35,
    "start_time": "2024-07-25T14:16:26.369Z"
   },
   {
    "duration": 28,
    "start_time": "2024-07-25T14:16:26.405Z"
   },
   {
    "duration": 254,
    "start_time": "2024-07-25T14:16:26.434Z"
   },
   {
    "duration": 224,
    "start_time": "2024-07-25T14:16:26.689Z"
   },
   {
    "duration": 11,
    "start_time": "2024-07-25T14:16:26.914Z"
   },
   {
    "duration": 7,
    "start_time": "2024-07-25T14:16:26.926Z"
   },
   {
    "duration": 238,
    "start_time": "2024-07-25T14:16:26.935Z"
   },
   {
    "duration": 222,
    "start_time": "2024-07-25T14:16:27.175Z"
   },
   {
    "duration": 309,
    "start_time": "2024-07-25T14:16:27.400Z"
   },
   {
    "duration": 237,
    "start_time": "2024-07-25T14:16:27.710Z"
   },
   {
    "duration": 313,
    "start_time": "2024-07-25T14:16:27.949Z"
   },
   {
    "duration": 11,
    "start_time": "2024-07-25T14:16:28.263Z"
   },
   {
    "duration": 10,
    "start_time": "2024-07-25T14:16:28.275Z"
   },
   {
    "duration": 165,
    "start_time": "2024-07-25T14:16:28.296Z"
   },
   {
    "duration": 3,
    "start_time": "2024-07-25T14:16:28.463Z"
   },
   {
    "duration": 328,
    "start_time": "2024-07-25T14:16:28.468Z"
   },
   {
    "duration": 3,
    "start_time": "2024-07-25T14:16:28.798Z"
   },
   {
    "duration": 409,
    "start_time": "2024-07-25T14:16:28.803Z"
   },
   {
    "duration": 282,
    "start_time": "2024-07-25T14:16:29.214Z"
   },
   {
    "duration": 26,
    "start_time": "2024-07-25T14:16:29.498Z"
   },
   {
    "duration": 9,
    "start_time": "2024-07-25T14:16:29.525Z"
   },
   {
    "duration": 62,
    "start_time": "2024-07-25T14:16:29.535Z"
   },
   {
    "duration": 8,
    "start_time": "2024-07-25T14:16:29.598Z"
   },
   {
    "duration": 22,
    "start_time": "2024-07-25T14:16:29.607Z"
   },
   {
    "duration": 65,
    "start_time": "2024-07-25T14:16:29.631Z"
   },
   {
    "duration": 1314,
    "start_time": "2024-07-26T06:13:08.889Z"
   },
   {
    "duration": 240,
    "start_time": "2024-07-26T06:13:10.205Z"
   },
   {
    "duration": 43,
    "start_time": "2024-07-26T06:13:10.447Z"
   },
   {
    "duration": 3,
    "start_time": "2024-07-26T06:13:10.492Z"
   },
   {
    "duration": 399,
    "start_time": "2024-07-26T06:13:10.496Z"
   },
   {
    "duration": 58,
    "start_time": "2024-07-26T06:13:10.897Z"
   },
   {
    "duration": 3,
    "start_time": "2024-07-26T06:13:10.956Z"
   },
   {
    "duration": 535,
    "start_time": "2024-07-26T06:13:10.961Z"
   },
   {
    "duration": 51,
    "start_time": "2024-07-26T06:13:11.497Z"
   },
   {
    "duration": 275,
    "start_time": "2024-07-26T06:13:11.552Z"
   },
   {
    "duration": 11,
    "start_time": "2024-07-26T06:13:11.828Z"
   },
   {
    "duration": 30,
    "start_time": "2024-07-26T06:13:11.841Z"
   },
   {
    "duration": 5,
    "start_time": "2024-07-26T06:13:11.873Z"
   },
   {
    "duration": 17,
    "start_time": "2024-07-26T06:13:11.879Z"
   },
   {
    "duration": 9,
    "start_time": "2024-07-26T06:13:11.897Z"
   },
   {
    "duration": 15,
    "start_time": "2024-07-26T06:13:11.907Z"
   },
   {
    "duration": 7,
    "start_time": "2024-07-26T06:13:11.923Z"
   },
   {
    "duration": 8,
    "start_time": "2024-07-26T06:13:11.932Z"
   },
   {
    "duration": 7,
    "start_time": "2024-07-26T06:13:11.942Z"
   },
   {
    "duration": 5,
    "start_time": "2024-07-26T06:13:11.950Z"
   },
   {
    "duration": 7,
    "start_time": "2024-07-26T06:13:11.956Z"
   },
   {
    "duration": 280,
    "start_time": "2024-07-26T06:13:11.964Z"
   },
   {
    "duration": 229,
    "start_time": "2024-07-26T06:13:12.245Z"
   },
   {
    "duration": 10,
    "start_time": "2024-07-26T06:13:12.476Z"
   },
   {
    "duration": 9,
    "start_time": "2024-07-26T06:13:12.487Z"
   },
   {
    "duration": 220,
    "start_time": "2024-07-26T06:13:12.497Z"
   },
   {
    "duration": 245,
    "start_time": "2024-07-26T06:13:12.719Z"
   },
   {
    "duration": 398,
    "start_time": "2024-07-26T06:13:12.968Z"
   },
   {
    "duration": 270,
    "start_time": "2024-07-26T06:13:13.368Z"
   },
   {
    "duration": 322,
    "start_time": "2024-07-26T06:13:13.639Z"
   },
   {
    "duration": 11,
    "start_time": "2024-07-26T06:13:13.962Z"
   },
   {
    "duration": 11,
    "start_time": "2024-07-26T06:13:13.974Z"
   },
   {
    "duration": 191,
    "start_time": "2024-07-26T06:13:13.987Z"
   },
   {
    "duration": 4,
    "start_time": "2024-07-26T06:13:14.180Z"
   },
   {
    "duration": 198,
    "start_time": "2024-07-26T06:13:14.185Z"
   },
   {
    "duration": 5,
    "start_time": "2024-07-26T06:13:14.384Z"
   },
   {
    "duration": 211,
    "start_time": "2024-07-26T06:13:14.390Z"
   },
   {
    "duration": 140,
    "start_time": "2024-07-26T06:13:14.602Z"
   },
   {
    "duration": 24,
    "start_time": "2024-07-26T06:13:14.744Z"
   },
   {
    "duration": 8,
    "start_time": "2024-07-26T06:13:14.769Z"
   },
   {
    "duration": 24,
    "start_time": "2024-07-26T06:13:14.778Z"
   },
   {
    "duration": 10,
    "start_time": "2024-07-26T06:13:14.808Z"
   },
   {
    "duration": 30,
    "start_time": "2024-07-26T06:13:14.820Z"
   },
   {
    "duration": 12,
    "start_time": "2024-07-26T06:13:14.851Z"
   },
   {
    "duration": 1183,
    "start_time": "2024-10-28T16:04:07.461Z"
   },
   {
    "duration": 97,
    "start_time": "2024-10-28T16:04:08.646Z"
   },
   {
    "duration": 56,
    "start_time": "2024-10-28T16:04:08.744Z"
   },
   {
    "duration": 3,
    "start_time": "2024-10-28T16:04:08.802Z"
   },
   {
    "duration": 497,
    "start_time": "2024-10-28T16:04:08.807Z"
   },
   {
    "duration": 81,
    "start_time": "2024-10-28T16:04:09.306Z"
   },
   {
    "duration": 5,
    "start_time": "2024-10-28T16:04:09.388Z"
   },
   {
    "duration": 691,
    "start_time": "2024-10-28T16:04:09.394Z"
   },
   {
    "duration": 78,
    "start_time": "2024-10-28T16:04:10.087Z"
   },
   {
    "duration": 318,
    "start_time": "2024-10-28T16:04:10.167Z"
   },
   {
    "duration": 14,
    "start_time": "2024-10-28T16:04:10.486Z"
   },
   {
    "duration": 12,
    "start_time": "2024-10-28T16:04:10.501Z"
   },
   {
    "duration": 14,
    "start_time": "2024-10-28T16:04:10.515Z"
   },
   {
    "duration": 9,
    "start_time": "2024-10-28T16:04:10.552Z"
   },
   {
    "duration": 12,
    "start_time": "2024-10-28T16:04:10.563Z"
   },
   {
    "duration": 8,
    "start_time": "2024-10-28T16:04:10.577Z"
   },
   {
    "duration": 7,
    "start_time": "2024-10-28T16:04:10.587Z"
   },
   {
    "duration": 24,
    "start_time": "2024-10-28T16:04:10.595Z"
   },
   {
    "duration": 7,
    "start_time": "2024-10-28T16:04:10.621Z"
   },
   {
    "duration": 27,
    "start_time": "2024-10-28T16:04:10.629Z"
   },
   {
    "duration": 10,
    "start_time": "2024-10-28T16:04:10.658Z"
   },
   {
    "duration": 317,
    "start_time": "2024-10-28T16:04:10.669Z"
   },
   {
    "duration": 282,
    "start_time": "2024-10-28T16:04:10.988Z"
   },
   {
    "duration": 13,
    "start_time": "2024-10-28T16:04:11.273Z"
   },
   {
    "duration": 8,
    "start_time": "2024-10-28T16:04:11.288Z"
   },
   {
    "duration": 289,
    "start_time": "2024-10-28T16:04:11.298Z"
   },
   {
    "duration": 271,
    "start_time": "2024-10-28T16:04:11.588Z"
   },
   {
    "duration": 345,
    "start_time": "2024-10-28T16:04:11.860Z"
   },
   {
    "duration": 294,
    "start_time": "2024-10-28T16:04:12.207Z"
   },
   {
    "duration": 353,
    "start_time": "2024-10-28T16:04:12.502Z"
   },
   {
    "duration": 12,
    "start_time": "2024-10-28T16:04:12.857Z"
   },
   {
    "duration": 12,
    "start_time": "2024-10-28T16:04:12.870Z"
   },
   {
    "duration": 219,
    "start_time": "2024-10-28T16:04:12.883Z"
   },
   {
    "duration": 4,
    "start_time": "2024-10-28T16:04:13.104Z"
   },
   {
    "duration": 298,
    "start_time": "2024-10-28T16:04:13.109Z"
   },
   {
    "duration": 4,
    "start_time": "2024-10-28T16:04:13.408Z"
   },
   {
    "duration": 267,
    "start_time": "2024-10-28T16:04:13.414Z"
   },
   {
    "duration": 145,
    "start_time": "2024-10-28T16:04:13.683Z"
   },
   {
    "duration": 39,
    "start_time": "2024-10-28T16:04:13.830Z"
   },
   {
    "duration": 66,
    "start_time": "2024-10-28T16:04:13.871Z"
   },
   {
    "duration": 13,
    "start_time": "2024-10-28T16:04:13.942Z"
   },
   {
    "duration": 17,
    "start_time": "2024-10-28T16:04:13.957Z"
   },
   {
    "duration": 41,
    "start_time": "2024-10-28T16:04:13.977Z"
   },
   {
    "duration": 14,
    "start_time": "2024-10-28T16:04:14.020Z"
   }
  ],
  "kernelspec": {
   "display_name": "Python 3 (ipykernel)",
   "language": "python",
   "name": "python3"
  },
  "language_info": {
   "codemirror_mode": {
    "name": "ipython",
    "version": 3
   },
   "file_extension": ".py",
   "mimetype": "text/x-python",
   "name": "python",
   "nbconvert_exporter": "python",
   "pygments_lexer": "ipython3",
   "version": "3.9.5"
  },
  "toc": {
   "base_numbering": 1,
   "nav_menu": {},
   "number_sections": true,
   "sideBar": true,
   "skip_h1_title": true,
   "title_cell": "Table of Contents",
   "title_sidebar": "Contents",
   "toc_cell": false,
   "toc_position": {
    "height": "calc(100% - 180px)",
    "left": "10px",
    "top": "150px",
    "width": "307.2px"
   },
   "toc_section_display": true,
   "toc_window_display": true
  }
 },
 "nbformat": 4,
 "nbformat_minor": 5
}
