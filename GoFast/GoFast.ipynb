{
 "cells": [
  {
   "cell_type": "markdown",
   "id": "24b837e6",
   "metadata": {},
   "source": [
    "# Статистический анализ данных сервиса аренды самокатов GoFast\n",
    "Вы аналитик популярного сервиса аренды самокатов GoFast. Вам передали данные о некоторых пользователях из нескольких городов, а также об их поездках. Проанализируйте данные и проверьте некоторые гипотезы, которые могут помочь бизнесу вырасти.  \n",
    "Чтобы совершать поездки по городу, пользователи сервиса GoFast пользуются мобильным приложением.  \n",
    "Сервисом можно пользоваться:  \n",
    "1. без подписки  \n",
    "абонентская плата отсутствует;  \n",
    "стоимость одной минуты поездки — 8 рублей;  \n",
    "стоимость старта (начала поездки) — 50 рублей;  \n",
    "\n",
    "2. с подпиской Ultra  \n",
    "абонентская плата — 199 рублей в месяц;  \n",
    "стоимость одной минуты поездки — 6 рублей;  \n",
    "стоимость старта — бесплатно."
   ]
  },
  {
   "cell_type": "markdown",
   "id": "2b3f6508",
   "metadata": {},
   "source": [
    "**Описание данных**  \n",
    "В основных данных есть информация о пользователях, их поездках и подписках.  "
   ]
  },
  {
   "cell_type": "markdown",
   "id": "6587f23e",
   "metadata": {},
   "source": [
    "## Шаг 1. Загрузка данных"
   ]
  },
  {
   "cell_type": "code",
   "execution_count": 1,
   "id": "424425f0",
   "metadata": {},
   "outputs": [],
   "source": [
    "import pandas as pd\n",
    "import math\n",
    "import numpy as np\n",
    "import matplotlib\n",
    "import seaborn as sns\n",
    "import matplotlib.pyplot as plt \n",
    "from math import factorial\n",
    "from scipy import stats as st\n",
    "from scipy.stats import binom"
   ]
  },
  {
   "cell_type": "markdown",
   "id": "477a4e9e",
   "metadata": {},
   "source": [
    "Считаем CSV-файлы с данными с помощью библиотеки pandas и сохраняем их в датафреймы."
   ]
  },
  {
   "cell_type": "code",
   "execution_count": 2,
   "id": "451b6caf",
   "metadata": {},
   "outputs": [],
   "source": [
    "df_users_go = pd.read_csv('/datasets/users_go.csv')"
   ]
  },
  {
   "cell_type": "code",
   "execution_count": 3,
   "id": "f67e9462",
   "metadata": {},
   "outputs": [],
   "source": [
    "df_rides_go = pd.read_csv('/datasets/rides_go.csv')"
   ]
  },
  {
   "cell_type": "code",
   "execution_count": 4,
   "id": "56955647",
   "metadata": {},
   "outputs": [],
   "source": [
    "df_subscriptions_go = pd.read_csv('/datasets/subscriptions_go.csv')"
   ]
  },
  {
   "cell_type": "markdown",
   "id": "d311163e",
   "metadata": {},
   "source": [
    "Выведим первые строки каждого набора данных. "
   ]
  },
  {
   "cell_type": "code",
   "execution_count": 5,
   "id": "97db2bea",
   "metadata": {},
   "outputs": [
    {
     "data": {
      "text/html": [
       "<div>\n",
       "<style scoped>\n",
       "    .dataframe tbody tr th:only-of-type {\n",
       "        vertical-align: middle;\n",
       "    }\n",
       "\n",
       "    .dataframe tbody tr th {\n",
       "        vertical-align: top;\n",
       "    }\n",
       "\n",
       "    .dataframe thead th {\n",
       "        text-align: right;\n",
       "    }\n",
       "</style>\n",
       "<table border=\"1\" class=\"dataframe\">\n",
       "  <thead>\n",
       "    <tr style=\"text-align: right;\">\n",
       "      <th></th>\n",
       "      <th>user_id</th>\n",
       "      <th>name</th>\n",
       "      <th>age</th>\n",
       "      <th>city</th>\n",
       "      <th>subscription_type</th>\n",
       "    </tr>\n",
       "  </thead>\n",
       "  <tbody>\n",
       "    <tr>\n",
       "      <th>0</th>\n",
       "      <td>1</td>\n",
       "      <td>Кира</td>\n",
       "      <td>22</td>\n",
       "      <td>Тюмень</td>\n",
       "      <td>ultra</td>\n",
       "    </tr>\n",
       "    <tr>\n",
       "      <th>1</th>\n",
       "      <td>2</td>\n",
       "      <td>Станислав</td>\n",
       "      <td>31</td>\n",
       "      <td>Омск</td>\n",
       "      <td>ultra</td>\n",
       "    </tr>\n",
       "    <tr>\n",
       "      <th>2</th>\n",
       "      <td>3</td>\n",
       "      <td>Алексей</td>\n",
       "      <td>20</td>\n",
       "      <td>Москва</td>\n",
       "      <td>ultra</td>\n",
       "    </tr>\n",
       "    <tr>\n",
       "      <th>3</th>\n",
       "      <td>4</td>\n",
       "      <td>Константин</td>\n",
       "      <td>26</td>\n",
       "      <td>Ростов-на-Дону</td>\n",
       "      <td>ultra</td>\n",
       "    </tr>\n",
       "    <tr>\n",
       "      <th>4</th>\n",
       "      <td>5</td>\n",
       "      <td>Адель</td>\n",
       "      <td>28</td>\n",
       "      <td>Омск</td>\n",
       "      <td>ultra</td>\n",
       "    </tr>\n",
       "    <tr>\n",
       "      <th>5</th>\n",
       "      <td>6</td>\n",
       "      <td>Регина</td>\n",
       "      <td>25</td>\n",
       "      <td>Краснодар</td>\n",
       "      <td>ultra</td>\n",
       "    </tr>\n",
       "    <tr>\n",
       "      <th>6</th>\n",
       "      <td>7</td>\n",
       "      <td>Игорь</td>\n",
       "      <td>23</td>\n",
       "      <td>Омск</td>\n",
       "      <td>ultra</td>\n",
       "    </tr>\n",
       "    <tr>\n",
       "      <th>7</th>\n",
       "      <td>8</td>\n",
       "      <td>Юрий</td>\n",
       "      <td>23</td>\n",
       "      <td>Краснодар</td>\n",
       "      <td>ultra</td>\n",
       "    </tr>\n",
       "    <tr>\n",
       "      <th>8</th>\n",
       "      <td>9</td>\n",
       "      <td>Ян</td>\n",
       "      <td>21</td>\n",
       "      <td>Пятигорск</td>\n",
       "      <td>ultra</td>\n",
       "    </tr>\n",
       "    <tr>\n",
       "      <th>9</th>\n",
       "      <td>10</td>\n",
       "      <td>Валерий</td>\n",
       "      <td>18</td>\n",
       "      <td>Екатеринбург</td>\n",
       "      <td>ultra</td>\n",
       "    </tr>\n",
       "  </tbody>\n",
       "</table>\n",
       "</div>"
      ],
      "text/plain": [
       "   user_id        name  age            city subscription_type\n",
       "0        1        Кира   22          Тюмень             ultra\n",
       "1        2   Станислав   31            Омск             ultra\n",
       "2        3     Алексей   20          Москва             ultra\n",
       "3        4  Константин   26  Ростов-на-Дону             ultra\n",
       "4        5       Адель   28            Омск             ultra\n",
       "5        6      Регина   25       Краснодар             ultra\n",
       "6        7       Игорь   23            Омск             ultra\n",
       "7        8        Юрий   23       Краснодар             ultra\n",
       "8        9          Ян   21       Пятигорск             ultra\n",
       "9       10     Валерий   18    Екатеринбург             ultra"
      ]
     },
     "execution_count": 5,
     "metadata": {},
     "output_type": "execute_result"
    }
   ],
   "source": [
    "df_users_go.head(10) # получение первых 10 строк таблицы df_users_go"
   ]
  },
  {
   "cell_type": "code",
   "execution_count": 6,
   "id": "d9dd73ba",
   "metadata": {},
   "outputs": [
    {
     "data": {
      "text/html": [
       "<div>\n",
       "<style scoped>\n",
       "    .dataframe tbody tr th:only-of-type {\n",
       "        vertical-align: middle;\n",
       "    }\n",
       "\n",
       "    .dataframe tbody tr th {\n",
       "        vertical-align: top;\n",
       "    }\n",
       "\n",
       "    .dataframe thead th {\n",
       "        text-align: right;\n",
       "    }\n",
       "</style>\n",
       "<table border=\"1\" class=\"dataframe\">\n",
       "  <thead>\n",
       "    <tr style=\"text-align: right;\">\n",
       "      <th></th>\n",
       "      <th>user_id</th>\n",
       "      <th>distance</th>\n",
       "      <th>duration</th>\n",
       "      <th>date</th>\n",
       "    </tr>\n",
       "  </thead>\n",
       "  <tbody>\n",
       "    <tr>\n",
       "      <th>0</th>\n",
       "      <td>1</td>\n",
       "      <td>4409.919140</td>\n",
       "      <td>25.599769</td>\n",
       "      <td>2021-01-01</td>\n",
       "    </tr>\n",
       "    <tr>\n",
       "      <th>1</th>\n",
       "      <td>1</td>\n",
       "      <td>2617.592153</td>\n",
       "      <td>15.816871</td>\n",
       "      <td>2021-01-18</td>\n",
       "    </tr>\n",
       "    <tr>\n",
       "      <th>2</th>\n",
       "      <td>1</td>\n",
       "      <td>754.159807</td>\n",
       "      <td>6.232113</td>\n",
       "      <td>2021-04-20</td>\n",
       "    </tr>\n",
       "    <tr>\n",
       "      <th>3</th>\n",
       "      <td>1</td>\n",
       "      <td>2694.783254</td>\n",
       "      <td>18.511000</td>\n",
       "      <td>2021-08-11</td>\n",
       "    </tr>\n",
       "    <tr>\n",
       "      <th>4</th>\n",
       "      <td>1</td>\n",
       "      <td>4028.687306</td>\n",
       "      <td>26.265803</td>\n",
       "      <td>2021-08-28</td>\n",
       "    </tr>\n",
       "    <tr>\n",
       "      <th>5</th>\n",
       "      <td>1</td>\n",
       "      <td>2770.890808</td>\n",
       "      <td>16.650138</td>\n",
       "      <td>2021-10-09</td>\n",
       "    </tr>\n",
       "    <tr>\n",
       "      <th>6</th>\n",
       "      <td>1</td>\n",
       "      <td>3039.020292</td>\n",
       "      <td>14.927879</td>\n",
       "      <td>2021-10-19</td>\n",
       "    </tr>\n",
       "    <tr>\n",
       "      <th>7</th>\n",
       "      <td>1</td>\n",
       "      <td>2842.118050</td>\n",
       "      <td>23.117468</td>\n",
       "      <td>2021-11-06</td>\n",
       "    </tr>\n",
       "    <tr>\n",
       "      <th>8</th>\n",
       "      <td>1</td>\n",
       "      <td>3412.690668</td>\n",
       "      <td>15.238072</td>\n",
       "      <td>2021-11-14</td>\n",
       "    </tr>\n",
       "    <tr>\n",
       "      <th>9</th>\n",
       "      <td>1</td>\n",
       "      <td>748.690645</td>\n",
       "      <td>15.041884</td>\n",
       "      <td>2021-11-22</td>\n",
       "    </tr>\n",
       "  </tbody>\n",
       "</table>\n",
       "</div>"
      ],
      "text/plain": [
       "   user_id     distance   duration        date\n",
       "0        1  4409.919140  25.599769  2021-01-01\n",
       "1        1  2617.592153  15.816871  2021-01-18\n",
       "2        1   754.159807   6.232113  2021-04-20\n",
       "3        1  2694.783254  18.511000  2021-08-11\n",
       "4        1  4028.687306  26.265803  2021-08-28\n",
       "5        1  2770.890808  16.650138  2021-10-09\n",
       "6        1  3039.020292  14.927879  2021-10-19\n",
       "7        1  2842.118050  23.117468  2021-11-06\n",
       "8        1  3412.690668  15.238072  2021-11-14\n",
       "9        1   748.690645  15.041884  2021-11-22"
      ]
     },
     "execution_count": 6,
     "metadata": {},
     "output_type": "execute_result"
    }
   ],
   "source": [
    "df_rides_go.head(10)  # получение первых 10 строк таблицы df_rides_go"
   ]
  },
  {
   "cell_type": "code",
   "execution_count": 7,
   "id": "5297712b",
   "metadata": {},
   "outputs": [
    {
     "data": {
      "text/html": [
       "<div>\n",
       "<style scoped>\n",
       "    .dataframe tbody tr th:only-of-type {\n",
       "        vertical-align: middle;\n",
       "    }\n",
       "\n",
       "    .dataframe tbody tr th {\n",
       "        vertical-align: top;\n",
       "    }\n",
       "\n",
       "    .dataframe thead th {\n",
       "        text-align: right;\n",
       "    }\n",
       "</style>\n",
       "<table border=\"1\" class=\"dataframe\">\n",
       "  <thead>\n",
       "    <tr style=\"text-align: right;\">\n",
       "      <th></th>\n",
       "      <th>subscription_type</th>\n",
       "      <th>minute_price</th>\n",
       "      <th>start_ride_price</th>\n",
       "      <th>subscription_fee</th>\n",
       "    </tr>\n",
       "  </thead>\n",
       "  <tbody>\n",
       "    <tr>\n",
       "      <th>0</th>\n",
       "      <td>free</td>\n",
       "      <td>8</td>\n",
       "      <td>50</td>\n",
       "      <td>0</td>\n",
       "    </tr>\n",
       "    <tr>\n",
       "      <th>1</th>\n",
       "      <td>ultra</td>\n",
       "      <td>6</td>\n",
       "      <td>0</td>\n",
       "      <td>199</td>\n",
       "    </tr>\n",
       "  </tbody>\n",
       "</table>\n",
       "</div>"
      ],
      "text/plain": [
       "  subscription_type  minute_price  start_ride_price  subscription_fee\n",
       "0              free             8                50                 0\n",
       "1             ultra             6                 0               199"
      ]
     },
     "execution_count": 7,
     "metadata": {},
     "output_type": "execute_result"
    }
   ],
   "source": [
    "df_subscriptions_go.head()  # получение строк таблицы df_subscriptions_go"
   ]
  },
  {
   "cell_type": "markdown",
   "id": "81da5800",
   "metadata": {},
   "source": [
    "Изучим общую информацию о каждом датафрейме."
   ]
  },
  {
   "cell_type": "code",
   "execution_count": 8,
   "id": "a6e579c6",
   "metadata": {},
   "outputs": [
    {
     "name": "stdout",
     "output_type": "stream",
     "text": [
      "<class 'pandas.core.frame.DataFrame'>\n",
      "RangeIndex: 1565 entries, 0 to 1564\n",
      "Data columns (total 5 columns):\n",
      " #   Column             Non-Null Count  Dtype \n",
      "---  ------             --------------  ----- \n",
      " 0   user_id            1565 non-null   int64 \n",
      " 1   name               1565 non-null   object\n",
      " 2   age                1565 non-null   int64 \n",
      " 3   city               1565 non-null   object\n",
      " 4   subscription_type  1565 non-null   object\n",
      "dtypes: int64(2), object(3)\n",
      "memory usage: 61.3+ KB\n"
     ]
    }
   ],
   "source": [
    "df_users_go.info() # получение общей информации о данных в таблице df_users_go"
   ]
  },
  {
   "cell_type": "code",
   "execution_count": 9,
   "id": "0dd9225d",
   "metadata": {},
   "outputs": [
    {
     "name": "stdout",
     "output_type": "stream",
     "text": [
      "<class 'pandas.core.frame.DataFrame'>\n",
      "RangeIndex: 18068 entries, 0 to 18067\n",
      "Data columns (total 4 columns):\n",
      " #   Column    Non-Null Count  Dtype  \n",
      "---  ------    --------------  -----  \n",
      " 0   user_id   18068 non-null  int64  \n",
      " 1   distance  18068 non-null  float64\n",
      " 2   duration  18068 non-null  float64\n",
      " 3   date      18068 non-null  object \n",
      "dtypes: float64(2), int64(1), object(1)\n",
      "memory usage: 564.8+ KB\n"
     ]
    }
   ],
   "source": [
    "df_rides_go.info() # получение общей информации о данных в таблице df_rides_go"
   ]
  },
  {
   "cell_type": "code",
   "execution_count": 10,
   "id": "c79d9731",
   "metadata": {},
   "outputs": [
    {
     "name": "stdout",
     "output_type": "stream",
     "text": [
      "<class 'pandas.core.frame.DataFrame'>\n",
      "RangeIndex: 2 entries, 0 to 1\n",
      "Data columns (total 4 columns):\n",
      " #   Column             Non-Null Count  Dtype \n",
      "---  ------             --------------  ----- \n",
      " 0   subscription_type  2 non-null      object\n",
      " 1   minute_price       2 non-null      int64 \n",
      " 2   start_ride_price   2 non-null      int64 \n",
      " 3   subscription_fee   2 non-null      int64 \n",
      "dtypes: int64(3), object(1)\n",
      "memory usage: 192.0+ bytes\n"
     ]
    }
   ],
   "source": [
    "df_subscriptions_go.info() # получение общей информации о данных в таблице df_rides_go"
   ]
  },
  {
   "cell_type": "markdown",
   "id": "586dc593",
   "metadata": {},
   "source": [
    "Количества значений в столбцах таблиц не различается. Значит, в данных нет пропущенных значений. Следующим шагом необходимо проверить на явные и неявные дубликаты данные таблицы."
   ]
  },
  {
   "cell_type": "code",
   "execution_count": 11,
   "id": "a07b2baf",
   "metadata": {},
   "outputs": [
    {
     "data": {
      "text/plain": [
       "31"
      ]
     },
     "execution_count": 11,
     "metadata": {},
     "output_type": "execute_result"
    }
   ],
   "source": [
    "df_users_go.duplicated().sum() # подсчёт явных дубликатов в таблице df_users_go"
   ]
  },
  {
   "cell_type": "code",
   "execution_count": 12,
   "id": "cd2e68e1",
   "metadata": {
    "scrolled": true
   },
   "outputs": [
    {
     "data": {
      "text/plain": [
       "0"
      ]
     },
     "execution_count": 12,
     "metadata": {},
     "output_type": "execute_result"
    }
   ],
   "source": [
    "df_rides_go.duplicated().sum() # подсчёт явных дубликатов в таблице df_rides_go"
   ]
  },
  {
   "cell_type": "code",
   "execution_count": 13,
   "id": "246aaeea",
   "metadata": {},
   "outputs": [
    {
     "data": {
      "text/plain": [
       "0"
      ]
     },
     "execution_count": 13,
     "metadata": {},
     "output_type": "execute_result"
    }
   ],
   "source": [
    "df_subscriptions_go.duplicated().sum() # подсчёт явных дубликатов в таблице df_subscriptions_go"
   ]
  },
  {
   "cell_type": "markdown",
   "id": "ef60743a",
   "metadata": {},
   "source": [
    "Изучим описательную статистику по столбцам каждой из таблиц."
   ]
  },
  {
   "cell_type": "code",
   "execution_count": 14,
   "id": "a6246c50",
   "metadata": {},
   "outputs": [
    {
     "data": {
      "text/html": [
       "<div>\n",
       "<style scoped>\n",
       "    .dataframe tbody tr th:only-of-type {\n",
       "        vertical-align: middle;\n",
       "    }\n",
       "\n",
       "    .dataframe tbody tr th {\n",
       "        vertical-align: top;\n",
       "    }\n",
       "\n",
       "    .dataframe thead th {\n",
       "        text-align: right;\n",
       "    }\n",
       "</style>\n",
       "<table border=\"1\" class=\"dataframe\">\n",
       "  <thead>\n",
       "    <tr style=\"text-align: right;\">\n",
       "      <th></th>\n",
       "      <th>user_id</th>\n",
       "      <th>age</th>\n",
       "    </tr>\n",
       "  </thead>\n",
       "  <tbody>\n",
       "    <tr>\n",
       "      <th>count</th>\n",
       "      <td>1565.000000</td>\n",
       "      <td>1565.000000</td>\n",
       "    </tr>\n",
       "    <tr>\n",
       "      <th>mean</th>\n",
       "      <td>762.633866</td>\n",
       "      <td>24.922045</td>\n",
       "    </tr>\n",
       "    <tr>\n",
       "      <th>std</th>\n",
       "      <td>443.260155</td>\n",
       "      <td>4.553496</td>\n",
       "    </tr>\n",
       "    <tr>\n",
       "      <th>min</th>\n",
       "      <td>1.000000</td>\n",
       "      <td>12.000000</td>\n",
       "    </tr>\n",
       "    <tr>\n",
       "      <th>25%</th>\n",
       "      <td>378.000000</td>\n",
       "      <td>22.000000</td>\n",
       "    </tr>\n",
       "    <tr>\n",
       "      <th>50%</th>\n",
       "      <td>762.000000</td>\n",
       "      <td>25.000000</td>\n",
       "    </tr>\n",
       "    <tr>\n",
       "      <th>75%</th>\n",
       "      <td>1146.000000</td>\n",
       "      <td>28.000000</td>\n",
       "    </tr>\n",
       "    <tr>\n",
       "      <th>max</th>\n",
       "      <td>1534.000000</td>\n",
       "      <td>43.000000</td>\n",
       "    </tr>\n",
       "  </tbody>\n",
       "</table>\n",
       "</div>"
      ],
      "text/plain": [
       "           user_id          age\n",
       "count  1565.000000  1565.000000\n",
       "mean    762.633866    24.922045\n",
       "std     443.260155     4.553496\n",
       "min       1.000000    12.000000\n",
       "25%     378.000000    22.000000\n",
       "50%     762.000000    25.000000\n",
       "75%    1146.000000    28.000000\n",
       "max    1534.000000    43.000000"
      ]
     },
     "execution_count": 14,
     "metadata": {},
     "output_type": "execute_result"
    }
   ],
   "source": [
    "df_users_go.describe()"
   ]
  },
  {
   "cell_type": "code",
   "execution_count": 15,
   "id": "bc2ce62a",
   "metadata": {},
   "outputs": [
    {
     "data": {
      "text/html": [
       "<div>\n",
       "<style scoped>\n",
       "    .dataframe tbody tr th:only-of-type {\n",
       "        vertical-align: middle;\n",
       "    }\n",
       "\n",
       "    .dataframe tbody tr th {\n",
       "        vertical-align: top;\n",
       "    }\n",
       "\n",
       "    .dataframe thead th {\n",
       "        text-align: right;\n",
       "    }\n",
       "</style>\n",
       "<table border=\"1\" class=\"dataframe\">\n",
       "  <thead>\n",
       "    <tr style=\"text-align: right;\">\n",
       "      <th></th>\n",
       "      <th>user_id</th>\n",
       "      <th>distance</th>\n",
       "      <th>duration</th>\n",
       "    </tr>\n",
       "  </thead>\n",
       "  <tbody>\n",
       "    <tr>\n",
       "      <th>count</th>\n",
       "      <td>18068.000000</td>\n",
       "      <td>18068.000000</td>\n",
       "      <td>18068.000000</td>\n",
       "    </tr>\n",
       "    <tr>\n",
       "      <th>mean</th>\n",
       "      <td>842.869936</td>\n",
       "      <td>3070.659976</td>\n",
       "      <td>17.805011</td>\n",
       "    </tr>\n",
       "    <tr>\n",
       "      <th>std</th>\n",
       "      <td>434.734317</td>\n",
       "      <td>1116.831209</td>\n",
       "      <td>6.091051</td>\n",
       "    </tr>\n",
       "    <tr>\n",
       "      <th>min</th>\n",
       "      <td>1.000000</td>\n",
       "      <td>0.855683</td>\n",
       "      <td>0.500000</td>\n",
       "    </tr>\n",
       "    <tr>\n",
       "      <th>25%</th>\n",
       "      <td>487.000000</td>\n",
       "      <td>2543.226360</td>\n",
       "      <td>13.597563</td>\n",
       "    </tr>\n",
       "    <tr>\n",
       "      <th>50%</th>\n",
       "      <td>889.000000</td>\n",
       "      <td>3133.609994</td>\n",
       "      <td>17.678395</td>\n",
       "    </tr>\n",
       "    <tr>\n",
       "      <th>75%</th>\n",
       "      <td>1213.250000</td>\n",
       "      <td>3776.222735</td>\n",
       "      <td>21.724800</td>\n",
       "    </tr>\n",
       "    <tr>\n",
       "      <th>max</th>\n",
       "      <td>1534.000000</td>\n",
       "      <td>7211.007745</td>\n",
       "      <td>40.823963</td>\n",
       "    </tr>\n",
       "  </tbody>\n",
       "</table>\n",
       "</div>"
      ],
      "text/plain": [
       "            user_id      distance      duration\n",
       "count  18068.000000  18068.000000  18068.000000\n",
       "mean     842.869936   3070.659976     17.805011\n",
       "std      434.734317   1116.831209      6.091051\n",
       "min        1.000000      0.855683      0.500000\n",
       "25%      487.000000   2543.226360     13.597563\n",
       "50%      889.000000   3133.609994     17.678395\n",
       "75%     1213.250000   3776.222735     21.724800\n",
       "max     1534.000000   7211.007745     40.823963"
      ]
     },
     "execution_count": 15,
     "metadata": {},
     "output_type": "execute_result"
    }
   ],
   "source": [
    "df_rides_go.describe()"
   ]
  },
  {
   "cell_type": "code",
   "execution_count": 16,
   "id": "4b4aec65",
   "metadata": {},
   "outputs": [
    {
     "data": {
      "text/html": [
       "<div>\n",
       "<style scoped>\n",
       "    .dataframe tbody tr th:only-of-type {\n",
       "        vertical-align: middle;\n",
       "    }\n",
       "\n",
       "    .dataframe tbody tr th {\n",
       "        vertical-align: top;\n",
       "    }\n",
       "\n",
       "    .dataframe thead th {\n",
       "        text-align: right;\n",
       "    }\n",
       "</style>\n",
       "<table border=\"1\" class=\"dataframe\">\n",
       "  <thead>\n",
       "    <tr style=\"text-align: right;\">\n",
       "      <th></th>\n",
       "      <th>minute_price</th>\n",
       "      <th>start_ride_price</th>\n",
       "      <th>subscription_fee</th>\n",
       "    </tr>\n",
       "  </thead>\n",
       "  <tbody>\n",
       "    <tr>\n",
       "      <th>count</th>\n",
       "      <td>2.000000</td>\n",
       "      <td>2.000000</td>\n",
       "      <td>2.000000</td>\n",
       "    </tr>\n",
       "    <tr>\n",
       "      <th>mean</th>\n",
       "      <td>7.000000</td>\n",
       "      <td>25.000000</td>\n",
       "      <td>99.500000</td>\n",
       "    </tr>\n",
       "    <tr>\n",
       "      <th>std</th>\n",
       "      <td>1.414214</td>\n",
       "      <td>35.355339</td>\n",
       "      <td>140.714249</td>\n",
       "    </tr>\n",
       "    <tr>\n",
       "      <th>min</th>\n",
       "      <td>6.000000</td>\n",
       "      <td>0.000000</td>\n",
       "      <td>0.000000</td>\n",
       "    </tr>\n",
       "    <tr>\n",
       "      <th>25%</th>\n",
       "      <td>6.500000</td>\n",
       "      <td>12.500000</td>\n",
       "      <td>49.750000</td>\n",
       "    </tr>\n",
       "    <tr>\n",
       "      <th>50%</th>\n",
       "      <td>7.000000</td>\n",
       "      <td>25.000000</td>\n",
       "      <td>99.500000</td>\n",
       "    </tr>\n",
       "    <tr>\n",
       "      <th>75%</th>\n",
       "      <td>7.500000</td>\n",
       "      <td>37.500000</td>\n",
       "      <td>149.250000</td>\n",
       "    </tr>\n",
       "    <tr>\n",
       "      <th>max</th>\n",
       "      <td>8.000000</td>\n",
       "      <td>50.000000</td>\n",
       "      <td>199.000000</td>\n",
       "    </tr>\n",
       "  </tbody>\n",
       "</table>\n",
       "</div>"
      ],
      "text/plain": [
       "       minute_price  start_ride_price  subscription_fee\n",
       "count      2.000000          2.000000          2.000000\n",
       "mean       7.000000         25.000000         99.500000\n",
       "std        1.414214         35.355339        140.714249\n",
       "min        6.000000          0.000000          0.000000\n",
       "25%        6.500000         12.500000         49.750000\n",
       "50%        7.000000         25.000000         99.500000\n",
       "75%        7.500000         37.500000        149.250000\n",
       "max        8.000000         50.000000        199.000000"
      ]
     },
     "execution_count": 16,
     "metadata": {},
     "output_type": "execute_result"
    }
   ],
   "source": [
    "df_subscriptions_go.describe()"
   ]
  },
  {
   "cell_type": "markdown",
   "id": "5a8fb1f7",
   "metadata": {},
   "source": [
    "Построем гистограммы для данных таблиц."
   ]
  },
  {
   "cell_type": "code",
   "execution_count": 17,
   "id": "fb567066",
   "metadata": {},
   "outputs": [
    {
     "data": {
      "image/png": "[encoded data removed]",
      "text/plain": [
       "<Figure size 576x360 with 2 Axes>"
      ]
     },
     "metadata": {
      "needs_background": "light"
     },
     "output_type": "display_data"
    }
   ],
   "source": [
    "df_users_go.hist(figsize=(8, 5), color='dodgerblue', ec='black') # построение гистограммы для таблицы df_users_go\n",
    "plt.show()"
   ]
  },
  {
   "cell_type": "code",
   "execution_count": 18,
   "id": "d875fe82",
   "metadata": {},
   "outputs": [
    {
     "data": {
      "image/png": "[encoded data removed]",
      "text/plain": [
       "<Figure size 720x720 with 4 Axes>"
      ]
     },
     "metadata": {
      "needs_background": "light"
     },
     "output_type": "display_data"
    }
   ],
   "source": [
    "df_rides_go.hist(figsize=(10, 10), color='dodgerblue', ec='black') # построение гистограммы для таблицы df_rides_go\n",
    "plt.show()"
   ]
  },
  {
   "cell_type": "code",
   "execution_count": 19,
   "id": "265ad04a",
   "metadata": {},
   "outputs": [
    {
     "data": {
      "image/png": "[encoded data removed]",
      "text/plain": [
       "<Figure size 720x720 with 4 Axes>"
      ]
     },
     "metadata": {
      "needs_background": "light"
     },
     "output_type": "display_data"
    }
   ],
   "source": [
    "# построение гистограммы для таблицы df_subscriptions_go\n",
    "df_subscriptions_go.hist(figsize=(10, 10), color='dodgerblue', ec='black') \n",
    "plt.show()"
   ]
  },
  {
   "cell_type": "markdown",
   "id": "8a311fc5",
   "metadata": {},
   "source": [
    "**Выводы**\n",
    "\n",
    "В первой таблице \"users_go.csv\" находится информация о пользователях сервиса аренды самокатов GoFast.  \n",
    "В стобце \"user_id\" - уникальный идентификатор пользователя, в столбце \"name\" - имя пользователя, в столбце \"age\" - возраст, в столбце \"city\" - город, в столбце \"subscription_type\" - тип подписки (free, ultra).  \n",
    "Подсчёт явных дубликатов в таблице показал, что в ней находится 31 дубликат. Это составляет около 2% от общего количество строк.\n",
    "На этапе предобработки данных эти дубликаты можно будет удалить. Нет аномальных или нестандартных значений.\n",
    "\n",
    "Во второй таблице \"rides_go.csv\" находится информация о поездках пользователей сервиса аренды самокатов GoFast.  \n",
    "В стобце \"user_id\" - уникальный идентификатор пользователя, в столбце \"distance\" - расстояние, которое пользователь проехал в текущей сессии (в метрах), в столбце \"duration\" - продолжительность сессии (в минутах) — время с того момента, как пользователь нажал кнопку «Начать поездку» до момента, как он нажал кнопку «Завершить поездку», в столбце \"date\" - дата совершения поездки.\n",
    "Возможно наличие выбросов в столбцах \"distance\" и \"duration\". Необходимо проверить на этапе предобработки данных.\n",
    "\n",
    "В третьей таблице \"subscriptions_go.csv\" находится информация о подписках пользователей сервиса аренды самокатов GoFast.  \n",
    "В стобце \"subscription_type\" - тип подписки, в столбце \"minute_price\" - стоимость одной минуты поездки по данной подписке, в столбце \"start_ride_price\" - стоимость начала поездки, в столбце \"subscription_fee\" - стоимость ежемесячного платежа.  Нет аномальных или нестандартных значений.\n",
    "\n",
    "На этапе предобработки данных необходимо изменить тип данных во второй таблице \"rides_go.csv\": \"date\".\n",
    "\n",
    "Не встречаются пропуски в данных, в названиях колонок нет расхождения с хорошим стилем. \n",
    "\n",
    "Чтобы двигаться дальше, нужно провести предобработку данных."
   ]
  },
  {
   "cell_type": "markdown",
   "id": "3cfd511d",
   "metadata": {},
   "source": [
    "## Шаг 2. Предобработка данных"
   ]
  },
  {
   "cell_type": "markdown",
   "id": "3d0e5189",
   "metadata": {},
   "source": [
    "1. Приведем столбец date к типу даты pandas.  \n",
    "2. Создадим новый столбец с номером месяца на основе столбца date.  \n",
    "3. Проверим наличие пропущенных значений и дубликатов в датафреймах. Обработаем их, если такие значения присутствуют."
   ]
  },
  {
   "cell_type": "markdown",
   "id": "d4a9ae29",
   "metadata": {},
   "source": [
    "Начнем предобработку с установки корректных типов данных."
   ]
  },
  {
   "cell_type": "code",
   "execution_count": 20,
   "id": "68c12c3a",
   "metadata": {},
   "outputs": [],
   "source": [
    "df_users_go.loc[df_users_go['subscription_type'] == 'ultra', 'subscription_type'] = True\n",
    "df_users_go.loc[df_users_go['subscription_type'] == 'free', 'subscription_type'] = False"
   ]
  },
  {
   "cell_type": "code",
   "execution_count": 21,
   "id": "bad65b71",
   "metadata": {},
   "outputs": [],
   "source": [
    "df_subscriptions_go.loc[df_subscriptions_go['subscription_type'] == 'ultra', 'subscription_type'] = True\n",
    "df_subscriptions_go.loc[df_subscriptions_go['subscription_type'] == 'free', 'subscription_type'] = False"
   ]
  },
  {
   "cell_type": "code",
   "execution_count": 22,
   "id": "4143f9c9",
   "metadata": {},
   "outputs": [],
   "source": [
    "df_rides_go['date'] = pd.to_datetime(df_rides_go['date'], format='%Y-%m-%d') # изменим тип данных"
   ]
  },
  {
   "cell_type": "markdown",
   "id": "a5d0ffe4",
   "metadata": {},
   "source": [
    "Создадим новый столбец с номером месяца на основе столбца \"date\"."
   ]
  },
  {
   "cell_type": "code",
   "execution_count": 23,
   "id": "efc87bbc",
   "metadata": {},
   "outputs": [
    {
     "data": {
      "text/html": [
       "<div>\n",
       "<style scoped>\n",
       "    .dataframe tbody tr th:only-of-type {\n",
       "        vertical-align: middle;\n",
       "    }\n",
       "\n",
       "    .dataframe tbody tr th {\n",
       "        vertical-align: top;\n",
       "    }\n",
       "\n",
       "    .dataframe thead th {\n",
       "        text-align: right;\n",
       "    }\n",
       "</style>\n",
       "<table border=\"1\" class=\"dataframe\">\n",
       "  <thead>\n",
       "    <tr style=\"text-align: right;\">\n",
       "      <th></th>\n",
       "      <th>user_id</th>\n",
       "      <th>distance</th>\n",
       "      <th>duration</th>\n",
       "      <th>date</th>\n",
       "      <th>month</th>\n",
       "    </tr>\n",
       "  </thead>\n",
       "  <tbody>\n",
       "    <tr>\n",
       "      <th>0</th>\n",
       "      <td>1</td>\n",
       "      <td>4409.919140</td>\n",
       "      <td>25.599769</td>\n",
       "      <td>2021-01-01</td>\n",
       "      <td>1</td>\n",
       "    </tr>\n",
       "    <tr>\n",
       "      <th>1</th>\n",
       "      <td>1</td>\n",
       "      <td>2617.592153</td>\n",
       "      <td>15.816871</td>\n",
       "      <td>2021-01-18</td>\n",
       "      <td>1</td>\n",
       "    </tr>\n",
       "    <tr>\n",
       "      <th>2</th>\n",
       "      <td>1</td>\n",
       "      <td>754.159807</td>\n",
       "      <td>6.232113</td>\n",
       "      <td>2021-04-20</td>\n",
       "      <td>4</td>\n",
       "    </tr>\n",
       "    <tr>\n",
       "      <th>3</th>\n",
       "      <td>1</td>\n",
       "      <td>2694.783254</td>\n",
       "      <td>18.511000</td>\n",
       "      <td>2021-08-11</td>\n",
       "      <td>8</td>\n",
       "    </tr>\n",
       "    <tr>\n",
       "      <th>4</th>\n",
       "      <td>1</td>\n",
       "      <td>4028.687306</td>\n",
       "      <td>26.265803</td>\n",
       "      <td>2021-08-28</td>\n",
       "      <td>8</td>\n",
       "    </tr>\n",
       "  </tbody>\n",
       "</table>\n",
       "</div>"
      ],
      "text/plain": [
       "   user_id     distance   duration       date  month\n",
       "0        1  4409.919140  25.599769 2021-01-01      1\n",
       "1        1  2617.592153  15.816871 2021-01-18      1\n",
       "2        1   754.159807   6.232113 2021-04-20      4\n",
       "3        1  2694.783254  18.511000 2021-08-11      8\n",
       "4        1  4028.687306  26.265803 2021-08-28      8"
      ]
     },
     "execution_count": 23,
     "metadata": {},
     "output_type": "execute_result"
    }
   ],
   "source": [
    "df_rides_go['month'] = df_rides_go['date'].dt.month\n",
    "df_rides_go.head()"
   ]
  },
  {
   "cell_type": "code",
   "execution_count": 24,
   "id": "0de6c179",
   "metadata": {},
   "outputs": [
    {
     "name": "stdout",
     "output_type": "stream",
     "text": [
      "Период: c 2021-01-01 00:00:00 по 2021-12-30 00:00:00\n"
     ]
    }
   ],
   "source": [
    "print('Период: c', df_rides_go.date.min(),'по', df_rides_go.date.max())"
   ]
  },
  {
   "cell_type": "markdown",
   "id": "6646d197",
   "metadata": {},
   "source": [
    "В предыдущем пункте мы проверили наличие пропущенных значений и явных дубликатов в датафреймах. Пропущенных значений не обнаружено. Было найдено несколько явных дубликатов в таблице \"df_users_go\". Идалим их."
   ]
  },
  {
   "cell_type": "code",
   "execution_count": 25,
   "id": "bbc9180a",
   "metadata": {},
   "outputs": [
    {
     "data": {
      "text/plain": [
       "31"
      ]
     },
     "execution_count": 25,
     "metadata": {},
     "output_type": "execute_result"
    }
   ],
   "source": [
    "df_users_go.duplicated().sum() # подсчёт явных дубликатов в таблице df_users_go"
   ]
  },
  {
   "cell_type": "code",
   "execution_count": 26,
   "id": "c1cf6d18",
   "metadata": {},
   "outputs": [],
   "source": [
    "# удаление явных дубликатов, создание новых индексов и удаление старых\n",
    "df_users_go = df_users_go.drop_duplicates().reset_index(drop=True) "
   ]
  },
  {
   "cell_type": "code",
   "execution_count": 27,
   "id": "f6242fe5",
   "metadata": {},
   "outputs": [
    {
     "data": {
      "text/plain": [
       "0"
      ]
     },
     "execution_count": 27,
     "metadata": {},
     "output_type": "execute_result"
    }
   ],
   "source": [
    "df_users_go.duplicated().sum() # проверка на отсутствие явных дубликатов"
   ]
  },
  {
   "cell_type": "markdown",
   "id": "423dcb11",
   "metadata": {},
   "source": [
    "Неявные дубликаты могут храниться в таблице \"df_users_go\" в столбце \"city\". Проверим их."
   ]
  },
  {
   "cell_type": "code",
   "execution_count": 28,
   "id": "7d9a5822",
   "metadata": {},
   "outputs": [
    {
     "data": {
      "text/plain": [
       "Пятигорск         219\n",
       "Екатеринбург      204\n",
       "Ростов-на-Дону    198\n",
       "Краснодар         193\n",
       "Сочи              189\n",
       "Омск              183\n",
       "Тюмень            180\n",
       "Москва            168\n",
       "Name: city, dtype: int64"
      ]
     },
     "execution_count": 28,
     "metadata": {},
     "output_type": "execute_result"
    }
   ],
   "source": [
    "df_users_go['city'].value_counts() # проверим наличие неявные дубликаты в названиях городов"
   ]
  },
  {
   "cell_type": "markdown",
   "id": "7fc8bb44",
   "metadata": {},
   "source": [
    "Неявных дубликатов нет."
   ]
  },
  {
   "cell_type": "markdown",
   "id": "63b235ce",
   "metadata": {},
   "source": [
    "Возможно наличие выбросов в столбцах \"distance\" и \"duration\". Проверим боксплотом."
   ]
  },
  {
   "cell_type": "code",
   "execution_count": 29,
   "id": "87c10b61",
   "metadata": {},
   "outputs": [
    {
     "data": {
      "image/png": "[encoded data removed]",
      "text/plain": [
       "<Figure size 432x288 with 1 Axes>"
      ]
     },
     "metadata": {
      "needs_background": "light"
     },
     "output_type": "display_data"
    }
   ],
   "source": [
    "df_rides_go.boxplot(column=['distance'], grid= False , color='g')\n",
    "plt.show()"
   ]
  },
  {
   "cell_type": "code",
   "execution_count": 30,
   "id": "ad9f3f7a",
   "metadata": {},
   "outputs": [
    {
     "data": {
      "image/png": "[encoded data removed]",
      "text/plain": [
       "<Figure size 432x288 with 1 Axes>"
      ]
     },
     "metadata": {
      "needs_background": "light"
     },
     "output_type": "display_data"
    }
   ],
   "source": [
    "df_rides_go.boxplot(column=['duration'], grid= False , color='g')\n",
    "plt.show()"
   ]
  },
  {
   "cell_type": "markdown",
   "id": "fa403c5b",
   "metadata": {},
   "source": [
    "В столбце \"distance\" показано расстояние, которое пользователь проехал в текущей сессии (в метрах). Минимальное значение составляет менее 1 метра при среднем значении 3100 метров.  \n",
    "Аналогичная ситуация и в столбце \"duration\", показывающем продолжительность сессии (в минутах). Минимальное значение составляет составляет 0,5 мин при среднем значении 17,7 мин.  \n",
    "По боксплоту можно сделать выводы, что значения выходящие за нижную и за верхнюю границы яляются выбросами. В нашем случае, скорее вызывают сомнения значения, выходящие только за нижнии границы. Минимальные значения могут означать то, что самокаты не исправны. Пока эти данные оставим без изменения. "
   ]
  },
  {
   "cell_type": "markdown",
   "id": "df09e7a3",
   "metadata": {},
   "source": [
    "Посмотрим на таблицы после предобаботки данных."
   ]
  },
  {
   "cell_type": "code",
   "execution_count": 31,
   "id": "caa2b9c3",
   "metadata": {},
   "outputs": [
    {
     "data": {
      "text/html": [
       "<div>\n",
       "<style scoped>\n",
       "    .dataframe tbody tr th:only-of-type {\n",
       "        vertical-align: middle;\n",
       "    }\n",
       "\n",
       "    .dataframe tbody tr th {\n",
       "        vertical-align: top;\n",
       "    }\n",
       "\n",
       "    .dataframe thead th {\n",
       "        text-align: right;\n",
       "    }\n",
       "</style>\n",
       "<table border=\"1\" class=\"dataframe\">\n",
       "  <thead>\n",
       "    <tr style=\"text-align: right;\">\n",
       "      <th></th>\n",
       "      <th>user_id</th>\n",
       "      <th>name</th>\n",
       "      <th>age</th>\n",
       "      <th>city</th>\n",
       "      <th>subscription_type</th>\n",
       "    </tr>\n",
       "  </thead>\n",
       "  <tbody>\n",
       "    <tr>\n",
       "      <th>0</th>\n",
       "      <td>1</td>\n",
       "      <td>Кира</td>\n",
       "      <td>22</td>\n",
       "      <td>Тюмень</td>\n",
       "      <td>True</td>\n",
       "    </tr>\n",
       "    <tr>\n",
       "      <th>1</th>\n",
       "      <td>2</td>\n",
       "      <td>Станислав</td>\n",
       "      <td>31</td>\n",
       "      <td>Омск</td>\n",
       "      <td>True</td>\n",
       "    </tr>\n",
       "    <tr>\n",
       "      <th>2</th>\n",
       "      <td>3</td>\n",
       "      <td>Алексей</td>\n",
       "      <td>20</td>\n",
       "      <td>Москва</td>\n",
       "      <td>True</td>\n",
       "    </tr>\n",
       "    <tr>\n",
       "      <th>3</th>\n",
       "      <td>4</td>\n",
       "      <td>Константин</td>\n",
       "      <td>26</td>\n",
       "      <td>Ростов-на-Дону</td>\n",
       "      <td>True</td>\n",
       "    </tr>\n",
       "    <tr>\n",
       "      <th>4</th>\n",
       "      <td>5</td>\n",
       "      <td>Адель</td>\n",
       "      <td>28</td>\n",
       "      <td>Омск</td>\n",
       "      <td>True</td>\n",
       "    </tr>\n",
       "  </tbody>\n",
       "</table>\n",
       "</div>"
      ],
      "text/plain": [
       "   user_id        name  age            city subscription_type\n",
       "0        1        Кира   22          Тюмень              True\n",
       "1        2   Станислав   31            Омск              True\n",
       "2        3     Алексей   20          Москва              True\n",
       "3        4  Константин   26  Ростов-на-Дону              True\n",
       "4        5       Адель   28            Омск              True"
      ]
     },
     "execution_count": 31,
     "metadata": {},
     "output_type": "execute_result"
    }
   ],
   "source": [
    "df_users_go.head()"
   ]
  },
  {
   "cell_type": "code",
   "execution_count": 32,
   "id": "bfeb8a09",
   "metadata": {},
   "outputs": [
    {
     "data": {
      "text/html": [
       "<div>\n",
       "<style scoped>\n",
       "    .dataframe tbody tr th:only-of-type {\n",
       "        vertical-align: middle;\n",
       "    }\n",
       "\n",
       "    .dataframe tbody tr th {\n",
       "        vertical-align: top;\n",
       "    }\n",
       "\n",
       "    .dataframe thead th {\n",
       "        text-align: right;\n",
       "    }\n",
       "</style>\n",
       "<table border=\"1\" class=\"dataframe\">\n",
       "  <thead>\n",
       "    <tr style=\"text-align: right;\">\n",
       "      <th></th>\n",
       "      <th>user_id</th>\n",
       "      <th>distance</th>\n",
       "      <th>duration</th>\n",
       "      <th>date</th>\n",
       "      <th>month</th>\n",
       "    </tr>\n",
       "  </thead>\n",
       "  <tbody>\n",
       "    <tr>\n",
       "      <th>0</th>\n",
       "      <td>1</td>\n",
       "      <td>4409.919140</td>\n",
       "      <td>25.599769</td>\n",
       "      <td>2021-01-01</td>\n",
       "      <td>1</td>\n",
       "    </tr>\n",
       "    <tr>\n",
       "      <th>1</th>\n",
       "      <td>1</td>\n",
       "      <td>2617.592153</td>\n",
       "      <td>15.816871</td>\n",
       "      <td>2021-01-18</td>\n",
       "      <td>1</td>\n",
       "    </tr>\n",
       "    <tr>\n",
       "      <th>2</th>\n",
       "      <td>1</td>\n",
       "      <td>754.159807</td>\n",
       "      <td>6.232113</td>\n",
       "      <td>2021-04-20</td>\n",
       "      <td>4</td>\n",
       "    </tr>\n",
       "    <tr>\n",
       "      <th>3</th>\n",
       "      <td>1</td>\n",
       "      <td>2694.783254</td>\n",
       "      <td>18.511000</td>\n",
       "      <td>2021-08-11</td>\n",
       "      <td>8</td>\n",
       "    </tr>\n",
       "    <tr>\n",
       "      <th>4</th>\n",
       "      <td>1</td>\n",
       "      <td>4028.687306</td>\n",
       "      <td>26.265803</td>\n",
       "      <td>2021-08-28</td>\n",
       "      <td>8</td>\n",
       "    </tr>\n",
       "  </tbody>\n",
       "</table>\n",
       "</div>"
      ],
      "text/plain": [
       "   user_id     distance   duration       date  month\n",
       "0        1  4409.919140  25.599769 2021-01-01      1\n",
       "1        1  2617.592153  15.816871 2021-01-18      1\n",
       "2        1   754.159807   6.232113 2021-04-20      4\n",
       "3        1  2694.783254  18.511000 2021-08-11      8\n",
       "4        1  4028.687306  26.265803 2021-08-28      8"
      ]
     },
     "execution_count": 32,
     "metadata": {},
     "output_type": "execute_result"
    }
   ],
   "source": [
    "df_rides_go.head()"
   ]
  },
  {
   "cell_type": "code",
   "execution_count": 33,
   "id": "75db84e3",
   "metadata": {},
   "outputs": [
    {
     "data": {
      "text/html": [
       "<div>\n",
       "<style scoped>\n",
       "    .dataframe tbody tr th:only-of-type {\n",
       "        vertical-align: middle;\n",
       "    }\n",
       "\n",
       "    .dataframe tbody tr th {\n",
       "        vertical-align: top;\n",
       "    }\n",
       "\n",
       "    .dataframe thead th {\n",
       "        text-align: right;\n",
       "    }\n",
       "</style>\n",
       "<table border=\"1\" class=\"dataframe\">\n",
       "  <thead>\n",
       "    <tr style=\"text-align: right;\">\n",
       "      <th></th>\n",
       "      <th>subscription_type</th>\n",
       "      <th>minute_price</th>\n",
       "      <th>start_ride_price</th>\n",
       "      <th>subscription_fee</th>\n",
       "    </tr>\n",
       "  </thead>\n",
       "  <tbody>\n",
       "    <tr>\n",
       "      <th>0</th>\n",
       "      <td>False</td>\n",
       "      <td>8</td>\n",
       "      <td>50</td>\n",
       "      <td>0</td>\n",
       "    </tr>\n",
       "    <tr>\n",
       "      <th>1</th>\n",
       "      <td>True</td>\n",
       "      <td>6</td>\n",
       "      <td>0</td>\n",
       "      <td>199</td>\n",
       "    </tr>\n",
       "  </tbody>\n",
       "</table>\n",
       "</div>"
      ],
      "text/plain": [
       "  subscription_type  minute_price  start_ride_price  subscription_fee\n",
       "0             False             8                50                 0\n",
       "1              True             6                 0               199"
      ]
     },
     "execution_count": 33,
     "metadata": {},
     "output_type": "execute_result"
    }
   ],
   "source": [
    "df_subscriptions_go.head()"
   ]
  },
  {
   "cell_type": "markdown",
   "id": "8f64095f",
   "metadata": {},
   "source": [
    "**Выводы**\n",
    "\n",
    "На этапе предобработки данных мы изменили тип данных во второй таблице \"rides_go.csv\" в столбце \"date\". Столбец \"date\" приведен к типу даты \"pandas\". На основе этого столбца мы создали новый столбец \"month\" с номером месяца. Нашли общий период. Период: c 2021-01-01 00:00:00 по 2021-12-30 00:00:00.    \n",
    "\n",
    "Проверили на наличие пропущенных значений и дубликатов в датафреймах. Подсчёт явных дубликатов в таблице \"users_go.csv\" показал, что в ней находится 31 дубликат. Мы их удалили. Пропущенных значений не обнаружено. Неявных дубликатов не обнаружено.  \n",
    "\n",
    "При проверке столбцов \"distance\" и \"duration\" на наличие выбросов по борсплоту были найдены значения, выходящие за границы усов.   \n",
    "В столбце \"distance\" показано расстояние, которое пользователь проехал в текущей сессии (в метрах). Минимальное значение составляет менее 1 метра при среднем значении 3100 метров. Аналогичная ситуация и в столбце \"duration\", показывающем продолжительность сессии (в минутах). Минимальное значение составляет составляет 0,5 мин при среднем значении 17,7 мин.  \n",
    "По боксплоту можно сделать выводы, что значения выходящие за нижную и за верхнюю границы яляются выбросами. В нашем случае, скорее вызывают сомнения значения, выходящие только за нижнии границы. Минимальные значения могут означать то, что самокаты не исправны. Пока эти данные оставим без изменения.  \n",
    "\n",
    "Далее проведем исследовательский анализ данных."
   ]
  },
  {
   "cell_type": "markdown",
   "id": "55f63429",
   "metadata": {},
   "source": [
    "## Шаг 3. Исследовательский анализ данных"
   ]
  },
  {
   "cell_type": "markdown",
   "id": "40b8edf5",
   "metadata": {},
   "source": [
    "Опишем и визуализируем общую информацию о пользователях и поездках:  \n",
    "1. частота встречаемости городов;  \n",
    "2. соотношение пользователей с подпиской и без подписки;  \n",
    "3. возраст пользователей;  \n",
    "4. расстояние, которое пользователь преодолел за одну поездку;  \n",
    "5. продолжительность поездок."
   ]
  },
  {
   "cell_type": "markdown",
   "id": "2cd2fc53",
   "metadata": {},
   "source": [
    "**Найдем частоту встречаемости городов**"
   ]
  },
  {
   "cell_type": "markdown",
   "id": "35c946de",
   "metadata": {},
   "source": [
    "Построем барплот, показывающий количество пользователей в городах. Расположим города в порядке убывания от самого популярного к самому непопулярному, предварительно сгруппировав их."
   ]
  },
  {
   "cell_type": "code",
   "execution_count": 34,
   "id": "1868f4cb",
   "metadata": {},
   "outputs": [
    {
     "data": {
      "text/plain": [
       "Пятигорск         219\n",
       "Екатеринбург      204\n",
       "Ростов-на-Дону    198\n",
       "Краснодар         193\n",
       "Сочи              189\n",
       "Омск              183\n",
       "Тюмень            180\n",
       "Москва            168\n",
       "Name: city, dtype: int64"
      ]
     },
     "execution_count": 34,
     "metadata": {},
     "output_type": "execute_result"
    }
   ],
   "source": [
    "df_users_go['city'].value_counts()"
   ]
  },
  {
   "cell_type": "code",
   "execution_count": 35,
   "id": "b17116da",
   "metadata": {},
   "outputs": [
    {
     "data": {
      "image/png": "[encoded data removed]",
      "text/plain": [
       "<Figure size 576x576 with 1 Axes>"
      ]
     },
     "metadata": {
      "needs_background": "light"
     },
     "output_type": "display_data"
    }
   ],
   "source": [
    "(\n",
    "    df_users_go.pivot_table(index = 'city', values = 'user_id', aggfunc = 'count')\n",
    "    .sort_values(by='user_id', ascending = True)\n",
    "    .plot( kind='barh', color='darkorange',  ec='black', figsize=(8, 8), grid = True )\n",
    ")\n",
    "plt.title('Частота встречаемости городов')\n",
    "plt.xlabel('Количество пользователей')\n",
    "plt.ylabel('Города')\n",
    "plt.legend(loc='lower left')\n",
    "plt.show()"
   ]
  },
  {
   "cell_type": "markdown",
   "id": "99304e13",
   "metadata": {},
   "source": [
    "В таблице содержится информация о 8 городах. Лидерами встречаемости сервиса среди пользователей являются Пятигорск 14,3%, Екатеринбург 13,3% и Ростов-на-Дону 12,9% упоминаний. Замыкает список Москва 11%."
   ]
  },
  {
   "cell_type": "markdown",
   "id": "0c4b2a6a",
   "metadata": {},
   "source": [
    "**Изучим соотношение пользователей с подпиской и без подписки**"
   ]
  },
  {
   "cell_type": "markdown",
   "id": "41c89b03",
   "metadata": {},
   "source": [
    "Построем барплот, показывающий соотношение пользователей с подпиской и без подписки. Найдем количество пользователей с типом подписки и их процентное соотношение."
   ]
  },
  {
   "cell_type": "code",
   "execution_count": 36,
   "id": "e560380e",
   "metadata": {
    "scrolled": false
   },
   "outputs": [
    {
     "data": {
      "image/png": "[encoded data removed]",
      "text/plain": [
       "<Figure size 576x576 with 1 Axes>"
      ]
     },
     "metadata": {},
     "output_type": "display_data"
    },
    {
     "name": "stdout",
     "output_type": "stream",
     "text": [
      "Количество пользователей с типом подписки:  \n",
      "                   count\n",
      "subscription_type       \n",
      "False                835\n",
      "True                 699\n",
      "Соотношение пользователей с типом подписки (%):  \n",
      "                   count\n",
      "subscription_type       \n",
      "False               54.4\n",
      "True                45.6\n"
     ]
    }
   ],
   "source": [
    "# построем круговую диаграмму, показывающий соотношение пользователей с подпиской и без подписки\n",
    "(\n",
    "    df_users_go.pivot_table(index='subscription_type', values='user_id', aggfunc='count')  \n",
    "    .plot(kind='pie', figsize=(8, 8), grid=True, subplots=True)\n",
    ")\n",
    "#plt.title('Соотношение пользователей с типом подписки')\n",
    "plt.ylabel('')\n",
    "plt.show()\n",
    "subscription_type_groupby = df_users_go.groupby(['subscription_type'])['subscription_type'].agg(['count'])\n",
    "subscription_type_fraction = (subscription_type_groupby / subscription_type_groupby.sum()) * 100\n",
    "print('Количество пользователей с типом подписки:  ')\n",
    "print(subscription_type_groupby)  \n",
    "print('Соотношение пользователей с типом подписки (%):  ')\n",
    "print(subscription_type_fraction.round(1))"
   ]
  },
  {
   "cell_type": "markdown",
   "id": "e61e7bcc",
   "metadata": {},
   "source": [
    "Пользователей без подписки 835 человек, пользователей с подпиской 699 человек. Соотвественно, пользователей без подписки (54,4%) больше, чем пользователей с подпиской (45,6%). "
   ]
  },
  {
   "cell_type": "markdown",
   "id": "4e2405fd",
   "metadata": {},
   "source": [
    "**Исследуем возраст пользователей**"
   ]
  },
  {
   "cell_type": "markdown",
   "id": "78479e09",
   "metadata": {},
   "source": [
    "Построем гистограмму распределения для нахождения возраста целевой аудитории. Выведем на экран самый популярный возраст пользователей."
   ]
  },
  {
   "cell_type": "code",
   "execution_count": 37,
   "id": "337b2a67",
   "metadata": {},
   "outputs": [
    {
     "data": {
      "image/png": "[encoded data removed]",
      "text/plain": [
       "<Figure size 576x576 with 1 Axes>"
      ]
     },
     "metadata": {
      "needs_background": "light"
     },
     "output_type": "display_data"
    },
    {
     "name": "stdout",
     "output_type": "stream",
     "text": [
      "Основная информация:\n",
      "count    1534.000000\n",
      "mean       24.903520\n",
      "std         4.572367\n",
      "min        12.000000\n",
      "25%        22.000000\n",
      "50%        25.000000\n",
      "75%        28.000000\n",
      "max        43.000000\n",
      "Name: age, dtype: float64\n",
      "Самый популярный возраст пользователей: \n",
      "     count\n",
      "age       \n",
      "25     145\n",
      "24     132\n",
      "26     131\n",
      "23     129\n",
      "27     119\n"
     ]
    }
   ],
   "source": [
    "# построем гистограмму распределения\n",
    "df_users_go['age'].plot(kind='hist', bins=30, color='darkorange', ec='black', figsize=(8, 8)) \n",
    "plt.title('Возраст пользователей')\n",
    "plt.xlabel('Возраст')\n",
    "plt.ylabel('Количество пользователей')\n",
    "plt.show()\n",
    "print('Основная информация:')\n",
    "print(df_users_go['age'].describe())\n",
    "print('Самый популярный возраст пользователей: ')\n",
    "print(df_users_go.groupby(['age'])['age'].agg(['count']).sort_values(by='count', ascending=False).head())"
   ]
  },
  {
   "cell_type": "markdown",
   "id": "96b10a2a",
   "metadata": {},
   "source": [
    "Средний возраст пользователя составляет 25 лет. Медиана и среднее практически совпадают. Наибольшей популярностью сервис пользуется у людей от 22 до 28 лет. По гистограмме можно определить, что результаты измерений имеют нормальное распределение. "
   ]
  },
  {
   "cell_type": "markdown",
   "id": "e5cb9ed7",
   "metadata": {},
   "source": [
    "**Найдем расстояние, которое пользователь преодолел за одну поездку**"
   ]
  },
  {
   "cell_type": "markdown",
   "id": "88796448",
   "metadata": {},
   "source": [
    "Построем гистограмму распределения для нахождения расстояния, которое пользователь преодолел за одну поездку. "
   ]
  },
  {
   "cell_type": "code",
   "execution_count": 38,
   "id": "50b63fec",
   "metadata": {},
   "outputs": [
    {
     "data": {
      "image/png": "[encoded data removed]",
      "text/plain": [
       "<Figure size 576x576 with 1 Axes>"
      ]
     },
     "metadata": {
      "needs_background": "light"
     },
     "output_type": "display_data"
    },
    {
     "name": "stdout",
     "output_type": "stream",
     "text": [
      "Основная информация:\n"
     ]
    },
    {
     "data": {
      "text/plain": [
       "count    18068.000000\n",
       "mean      3070.659976\n",
       "std       1116.831209\n",
       "min          0.855683\n",
       "25%       2543.226360\n",
       "50%       3133.609994\n",
       "75%       3776.222735\n",
       "max       7211.007745\n",
       "Name: distance, dtype: float64"
      ]
     },
     "execution_count": 38,
     "metadata": {},
     "output_type": "execute_result"
    }
   ],
   "source": [
    "# построем гистограмму распределения\n",
    "df_rides_go['distance'].plot(kind='hist', bins=30, color='darkorange', ec='black', figsize=(8, 8)) \n",
    "plt.title('Расстояние, которое пользователь преодолел за одну поездку')\n",
    "plt.xlabel('Расстояние, м')\n",
    "plt.ylabel('Количество поездок')\n",
    "plt.show()\n",
    "print('Основная информация:')\n",
    "df_rides_go['distance'].describe()"
   ]
  },
  {
   "cell_type": "markdown",
   "id": "8f3ff513",
   "metadata": {},
   "source": [
    "На гистограмме можно заметить всплеск поездок на расстояние около 500 м. Возможно пользователи совершали столь короткие поездку, чтобы добраться до ТЦ, метро или автобусной остановки. Чаще всего расстояние одной поездки составляет от 2500 до 3800 м. Среднее расстояние составляет приблизительно 3100 м. Медиана и среднее практически совпадают. Результаты измерений имеют нормальное распределение."
   ]
  },
  {
   "cell_type": "markdown",
   "id": "d2733c95",
   "metadata": {},
   "source": [
    "**Исследуем продолжительность поездок**"
   ]
  },
  {
   "cell_type": "markdown",
   "id": "3246b30a",
   "metadata": {},
   "source": [
    "Построем гистограмму распределения количества поездок по их продолжительности."
   ]
  },
  {
   "cell_type": "code",
   "execution_count": 39,
   "id": "6223af1c",
   "metadata": {},
   "outputs": [
    {
     "data": {
      "image/png": "[encoded data removed]",
      "text/plain": [
       "<Figure size 576x576 with 1 Axes>"
      ]
     },
     "metadata": {
      "needs_background": "light"
     },
     "output_type": "display_data"
    },
    {
     "name": "stdout",
     "output_type": "stream",
     "text": [
      "Основная информация:\n"
     ]
    },
    {
     "data": {
      "text/plain": [
       "count    18068.000000\n",
       "mean        17.805011\n",
       "std          6.091051\n",
       "min          0.500000\n",
       "25%         13.597563\n",
       "50%         17.678395\n",
       "75%         21.724800\n",
       "max         40.823963\n",
       "Name: duration, dtype: float64"
      ]
     },
     "execution_count": 39,
     "metadata": {},
     "output_type": "execute_result"
    }
   ],
   "source": [
    "# построем гистограмму распределения\n",
    "df_rides_go['duration'].plot(kind='hist', bins=30, color='darkorange', ec='black', figsize=(8, 8)) \n",
    "plt.title('Продолжительность одной поездки')\n",
    "plt.xlabel('Время, мин')\n",
    "plt.ylabel('Количество поездок')\n",
    "plt.show()\n",
    "print('Основная информация:')\n",
    "df_rides_go['duration'].describe()"
   ]
  },
  {
   "cell_type": "markdown",
   "id": "e0092ef6",
   "metadata": {},
   "source": [
    "Среднее время одной поездки составляет приблизительно 17,7 мин. Медиана и среднее практически совпадают. Результаты измерений имеют нормальное распределение. Стоит лишь отметить небольшой выброс в приблизительно 100 поездок по времени менее 1 мин. Возможно, самокаты были неисправны.   "
   ]
  },
  {
   "cell_type": "code",
   "execution_count": 40,
   "id": "82b23a10",
   "metadata": {},
   "outputs": [
    {
     "data": {
      "image/png": "[encoded data removed]",
      "text/plain": [
       "<Figure size 720x720 with 6 Axes>"
      ]
     },
     "metadata": {
      "needs_background": "light"
     },
     "output_type": "display_data"
    }
   ],
   "source": [
    "rides_1 = df_rides_go.loc[df_rides_go['duration'] < 1]\n",
    "rides_1.hist(figsize=(10, 10), color='dodgerblue', ec='black',)\n",
    "plt.show()"
   ]
  },
  {
   "cell_type": "markdown",
   "id": "603bb04c",
   "metadata": {},
   "source": [
    "Смущает то, что получилось на графике distance. Слишком большая дистанция для времени меньше минуты. Соотвество и скорость. Значит имеем дело с аномалиями. "
   ]
  },
  {
   "cell_type": "code",
   "execution_count": 41,
   "id": "e4733fde",
   "metadata": {},
   "outputs": [
    {
     "data": {
      "text/html": [
       "<div>\n",
       "<style scoped>\n",
       "    .dataframe tbody tr th:only-of-type {\n",
       "        vertical-align: middle;\n",
       "    }\n",
       "\n",
       "    .dataframe tbody tr th {\n",
       "        vertical-align: top;\n",
       "    }\n",
       "\n",
       "    .dataframe thead th {\n",
       "        text-align: right;\n",
       "    }\n",
       "</style>\n",
       "<table border=\"1\" class=\"dataframe\">\n",
       "  <thead>\n",
       "    <tr style=\"text-align: right;\">\n",
       "      <th></th>\n",
       "      <th>user_id</th>\n",
       "      <th>distance</th>\n",
       "      <th>duration</th>\n",
       "      <th>date</th>\n",
       "      <th>month</th>\n",
       "    </tr>\n",
       "  </thead>\n",
       "  <tbody>\n",
       "    <tr>\n",
       "      <th>6531</th>\n",
       "      <td>701</td>\n",
       "      <td>4196.445201</td>\n",
       "      <td>0.5</td>\n",
       "      <td>2021-08-31</td>\n",
       "      <td>8</td>\n",
       "    </tr>\n",
       "    <tr>\n",
       "      <th>6570</th>\n",
       "      <td>704</td>\n",
       "      <td>4830.824371</td>\n",
       "      <td>0.5</td>\n",
       "      <td>2021-10-14</td>\n",
       "      <td>10</td>\n",
       "    </tr>\n",
       "    <tr>\n",
       "      <th>6680</th>\n",
       "      <td>712</td>\n",
       "      <td>4684.004397</td>\n",
       "      <td>0.5</td>\n",
       "      <td>2021-03-04</td>\n",
       "      <td>3</td>\n",
       "    </tr>\n",
       "    <tr>\n",
       "      <th>6695</th>\n",
       "      <td>713</td>\n",
       "      <td>5215.642710</td>\n",
       "      <td>0.5</td>\n",
       "      <td>2021-02-25</td>\n",
       "      <td>2</td>\n",
       "    </tr>\n",
       "    <tr>\n",
       "      <th>6768</th>\n",
       "      <td>718</td>\n",
       "      <td>5197.436649</td>\n",
       "      <td>0.5</td>\n",
       "      <td>2021-02-11</td>\n",
       "      <td>2</td>\n",
       "    </tr>\n",
       "    <tr>\n",
       "      <th>...</th>\n",
       "      <td>...</td>\n",
       "      <td>...</td>\n",
       "      <td>...</td>\n",
       "      <td>...</td>\n",
       "      <td>...</td>\n",
       "    </tr>\n",
       "    <tr>\n",
       "      <th>17004</th>\n",
       "      <td>1460</td>\n",
       "      <td>5531.335845</td>\n",
       "      <td>0.5</td>\n",
       "      <td>2021-01-19</td>\n",
       "      <td>1</td>\n",
       "    </tr>\n",
       "    <tr>\n",
       "      <th>17242</th>\n",
       "      <td>1477</td>\n",
       "      <td>6724.932981</td>\n",
       "      <td>0.5</td>\n",
       "      <td>2021-01-12</td>\n",
       "      <td>1</td>\n",
       "    </tr>\n",
       "    <tr>\n",
       "      <th>17314</th>\n",
       "      <td>1483</td>\n",
       "      <td>4445.481070</td>\n",
       "      <td>0.5</td>\n",
       "      <td>2021-03-06</td>\n",
       "      <td>3</td>\n",
       "    </tr>\n",
       "    <tr>\n",
       "      <th>17505</th>\n",
       "      <td>1496</td>\n",
       "      <td>5722.551787</td>\n",
       "      <td>0.5</td>\n",
       "      <td>2021-02-14</td>\n",
       "      <td>2</td>\n",
       "    </tr>\n",
       "    <tr>\n",
       "      <th>17909</th>\n",
       "      <td>1524</td>\n",
       "      <td>4103.998874</td>\n",
       "      <td>0.5</td>\n",
       "      <td>2021-06-18</td>\n",
       "      <td>6</td>\n",
       "    </tr>\n",
       "  </tbody>\n",
       "</table>\n",
       "<p>95 rows × 5 columns</p>\n",
       "</div>"
      ],
      "text/plain": [
       "       user_id     distance  duration       date  month\n",
       "6531       701  4196.445201       0.5 2021-08-31      8\n",
       "6570       704  4830.824371       0.5 2021-10-14     10\n",
       "6680       712  4684.004397       0.5 2021-03-04      3\n",
       "6695       713  5215.642710       0.5 2021-02-25      2\n",
       "6768       718  5197.436649       0.5 2021-02-11      2\n",
       "...        ...          ...       ...        ...    ...\n",
       "17004     1460  5531.335845       0.5 2021-01-19      1\n",
       "17242     1477  6724.932981       0.5 2021-01-12      1\n",
       "17314     1483  4445.481070       0.5 2021-03-06      3\n",
       "17505     1496  5722.551787       0.5 2021-02-14      2\n",
       "17909     1524  4103.998874       0.5 2021-06-18      6\n",
       "\n",
       "[95 rows x 5 columns]"
      ]
     },
     "execution_count": 41,
     "metadata": {},
     "output_type": "execute_result"
    }
   ],
   "source": [
    "df_rides_go.loc[df_rides_go['duration'] < 1]"
   ]
  },
  {
   "cell_type": "code",
   "execution_count": 42,
   "id": "fb4fceac",
   "metadata": {},
   "outputs": [
    {
     "name": "stdout",
     "output_type": "stream",
     "text": [
      "<class 'pandas.core.frame.DataFrame'>\n",
      "Int64Index: 95 entries, 6531 to 17909\n",
      "Data columns (total 5 columns):\n",
      " #   Column    Non-Null Count  Dtype         \n",
      "---  ------    --------------  -----         \n",
      " 0   user_id   95 non-null     int64         \n",
      " 1   distance  95 non-null     float64       \n",
      " 2   duration  95 non-null     float64       \n",
      " 3   date      95 non-null     datetime64[ns]\n",
      " 4   month     95 non-null     int64         \n",
      "dtypes: datetime64[ns](1), float64(2), int64(2)\n",
      "memory usage: 4.5 KB\n"
     ]
    }
   ],
   "source": [
    "df_rides_go.loc[df_rides_go['duration'] == 0.5].info()"
   ]
  },
  {
   "cell_type": "markdown",
   "id": "6be3ba8b",
   "metadata": {},
   "source": [
    "Все аномалии происходят в 0,5 мин. "
   ]
  },
  {
   "cell_type": "markdown",
   "id": "df363910",
   "metadata": {},
   "source": [
    "**Выводы**  \n",
    "На этапе проведения исследовательского анализа данных мы описали и визуализировали общую информацию о пользователях и поездках.   \n",
    "1. Нашли частоту встречаемости городов;  \n",
    "В таблице содержится информация о 8 городах. Лидерами встречаемости сервиса среди пользователей являются Пятигорск 14,3%, Екатеринбург 13,3% и Ростов-на-Дону 12,9% упоминаний. Замыкает список Москва 11%.\n",
    "2. Нашли соотношение пользователей с подпиской и без подписки;  \n",
    "Пользователей без подписки 835 человек, пользователей с подпиской 699 человек. Соотвественно, пользователей без подписки (54,4%) больше, чем пользователей с подпиской (45,6%). \n",
    "3. Нашли целевой возраст пользователей;  \n",
    "Средний возраст пользователя составляет 25 лет. Медиана и среднее практически совпадают. Наибольшей популярностью сервис пользуется у людей от 22 до 28 лет. По гистограмме можно определить, что результаты измерений имеют нормальное распределение.\n",
    "4. Нашли расстояние, которое пользователь преодолел за одну поездку;  \n",
    "На гистограмме можно заметить всплеск поездок на расстояние около 500 м. Возможно пользователи совершали столь короткие поездку, чтобы добраться до ТЦ, метро или автобусной остановки. Чаще всего расстояние одной поездки составляет от 2500 до 3800 м. Среднее расстояние составляет приблизительно 3100 м. Медиана и среднее практически совпадают. Результаты измерений имеют нормальное распределение.\n",
    "5. Нашли продолжительность поездок.  \n",
    "Среднее время одной поездки составляет приблизительно 17,7 мин. Медиана и среднее практически совпадают. Результаты измерений имеют нормальное распределение. Стоит лишь отметить небольшой выброс в приблизительно 100 поездок по времени менее 1 мин. Значит имеем дело с аномалиями.  "
   ]
  },
  {
   "cell_type": "markdown",
   "id": "ada1cb1f",
   "metadata": {},
   "source": [
    "## Шаг 4. Объединение данных"
   ]
  },
  {
   "cell_type": "markdown",
   "id": "332f6750",
   "metadata": {},
   "source": [
    "1. Объединим данные о пользователях, поездках и подписках в один датафрейм.  \n",
    "2. Создадим ещё два датафрейма из датафрейма:  \n",
    "- c данными о пользователях без подписки;  \n",
    "- с данными о пользователях с подпиской.  \n",
    "3. Визуализируем информацию о расстоянии и времени поездок для пользователей обеих категорий."
   ]
  },
  {
   "cell_type": "markdown",
   "id": "e719bf9d",
   "metadata": {},
   "source": [
    "**Объединим данные о пользователях, поездках и подписках в один датафрейм методом merge().**"
   ]
  },
  {
   "cell_type": "markdown",
   "id": "61859ee9",
   "metadata": {},
   "source": [
    "Создадим новый датафрейм df_common. Методом merge() сначала объединим датафреймы df_users_go и df_rides_go по \"user_id\". Затем объединим полученный датафрейм с датафреймом df_subscriptions_go по \"subscription_type\". Выведем первые 5 строк нового датафрейма."
   ]
  },
  {
   "cell_type": "code",
   "execution_count": 43,
   "id": "e552dfac",
   "metadata": {},
   "outputs": [
    {
     "data": {
      "text/html": [
       "<div>\n",
       "<style scoped>\n",
       "    .dataframe tbody tr th:only-of-type {\n",
       "        vertical-align: middle;\n",
       "    }\n",
       "\n",
       "    .dataframe tbody tr th {\n",
       "        vertical-align: top;\n",
       "    }\n",
       "\n",
       "    .dataframe thead th {\n",
       "        text-align: right;\n",
       "    }\n",
       "</style>\n",
       "<table border=\"1\" class=\"dataframe\">\n",
       "  <thead>\n",
       "    <tr style=\"text-align: right;\">\n",
       "      <th></th>\n",
       "      <th>user_id</th>\n",
       "      <th>name</th>\n",
       "      <th>age</th>\n",
       "      <th>city</th>\n",
       "      <th>subscription_type</th>\n",
       "      <th>distance</th>\n",
       "      <th>duration</th>\n",
       "      <th>date</th>\n",
       "      <th>month</th>\n",
       "      <th>minute_price</th>\n",
       "      <th>start_ride_price</th>\n",
       "      <th>subscription_fee</th>\n",
       "    </tr>\n",
       "  </thead>\n",
       "  <tbody>\n",
       "    <tr>\n",
       "      <th>0</th>\n",
       "      <td>1</td>\n",
       "      <td>Кира</td>\n",
       "      <td>22</td>\n",
       "      <td>Тюмень</td>\n",
       "      <td>True</td>\n",
       "      <td>4409.919140</td>\n",
       "      <td>25.599769</td>\n",
       "      <td>2021-01-01</td>\n",
       "      <td>1</td>\n",
       "      <td>6</td>\n",
       "      <td>0</td>\n",
       "      <td>199</td>\n",
       "    </tr>\n",
       "    <tr>\n",
       "      <th>1</th>\n",
       "      <td>1</td>\n",
       "      <td>Кира</td>\n",
       "      <td>22</td>\n",
       "      <td>Тюмень</td>\n",
       "      <td>True</td>\n",
       "      <td>2617.592153</td>\n",
       "      <td>15.816871</td>\n",
       "      <td>2021-01-18</td>\n",
       "      <td>1</td>\n",
       "      <td>6</td>\n",
       "      <td>0</td>\n",
       "      <td>199</td>\n",
       "    </tr>\n",
       "    <tr>\n",
       "      <th>2</th>\n",
       "      <td>1</td>\n",
       "      <td>Кира</td>\n",
       "      <td>22</td>\n",
       "      <td>Тюмень</td>\n",
       "      <td>True</td>\n",
       "      <td>754.159807</td>\n",
       "      <td>6.232113</td>\n",
       "      <td>2021-04-20</td>\n",
       "      <td>4</td>\n",
       "      <td>6</td>\n",
       "      <td>0</td>\n",
       "      <td>199</td>\n",
       "    </tr>\n",
       "    <tr>\n",
       "      <th>3</th>\n",
       "      <td>1</td>\n",
       "      <td>Кира</td>\n",
       "      <td>22</td>\n",
       "      <td>Тюмень</td>\n",
       "      <td>True</td>\n",
       "      <td>2694.783254</td>\n",
       "      <td>18.511000</td>\n",
       "      <td>2021-08-11</td>\n",
       "      <td>8</td>\n",
       "      <td>6</td>\n",
       "      <td>0</td>\n",
       "      <td>199</td>\n",
       "    </tr>\n",
       "    <tr>\n",
       "      <th>4</th>\n",
       "      <td>1</td>\n",
       "      <td>Кира</td>\n",
       "      <td>22</td>\n",
       "      <td>Тюмень</td>\n",
       "      <td>True</td>\n",
       "      <td>4028.687306</td>\n",
       "      <td>26.265803</td>\n",
       "      <td>2021-08-28</td>\n",
       "      <td>8</td>\n",
       "      <td>6</td>\n",
       "      <td>0</td>\n",
       "      <td>199</td>\n",
       "    </tr>\n",
       "  </tbody>\n",
       "</table>\n",
       "</div>"
      ],
      "text/plain": [
       "   user_id  name  age    city subscription_type     distance   duration  \\\n",
       "0        1  Кира   22  Тюмень              True  4409.919140  25.599769   \n",
       "1        1  Кира   22  Тюмень              True  2617.592153  15.816871   \n",
       "2        1  Кира   22  Тюмень              True   754.159807   6.232113   \n",
       "3        1  Кира   22  Тюмень              True  2694.783254  18.511000   \n",
       "4        1  Кира   22  Тюмень              True  4028.687306  26.265803   \n",
       "\n",
       "        date  month  minute_price  start_ride_price  subscription_fee  \n",
       "0 2021-01-01      1             6                 0               199  \n",
       "1 2021-01-18      1             6                 0               199  \n",
       "2 2021-04-20      4             6                 0               199  \n",
       "3 2021-08-11      8             6                 0               199  \n",
       "4 2021-08-28      8             6                 0               199  "
      ]
     },
     "execution_count": 43,
     "metadata": {},
     "output_type": "execute_result"
    }
   ],
   "source": [
    "df_common = df_users_go.merge(df_rides_go, on='user_id').merge(df_subscriptions_go, on='subscription_type')\n",
    "df_common.head()"
   ]
  },
  {
   "cell_type": "code",
   "execution_count": 44,
   "id": "e28d3b64",
   "metadata": {},
   "outputs": [
    {
     "name": "stdout",
     "output_type": "stream",
     "text": [
      "Количество строк датафрейма df_rides_go: 18068\n",
      "Количество строк датафрейма df_common: 18068\n"
     ]
    }
   ],
   "source": [
    "print('Количество строк датафрейма df_rides_go:', df_rides_go['user_id'].count())\n",
    "print('Количество строк датафрейма df_common:', df_common['user_id'].count())"
   ]
  },
  {
   "cell_type": "markdown",
   "id": "0a5ffb45",
   "metadata": {},
   "source": [
    "Датафреймы имеют одинаковое количество строк."
   ]
  },
  {
   "cell_type": "markdown",
   "id": "0bc134c9",
   "metadata": {},
   "source": [
    "**Создадим датафрейм из общего датафрейма c данными о пользователях без подписки**   "
   ]
  },
  {
   "cell_type": "code",
   "execution_count": 45,
   "id": "e7ea309d",
   "metadata": {},
   "outputs": [
    {
     "data": {
      "text/html": [
       "<div>\n",
       "<style scoped>\n",
       "    .dataframe tbody tr th:only-of-type {\n",
       "        vertical-align: middle;\n",
       "    }\n",
       "\n",
       "    .dataframe tbody tr th {\n",
       "        vertical-align: top;\n",
       "    }\n",
       "\n",
       "    .dataframe thead th {\n",
       "        text-align: right;\n",
       "    }\n",
       "</style>\n",
       "<table border=\"1\" class=\"dataframe\">\n",
       "  <thead>\n",
       "    <tr style=\"text-align: right;\">\n",
       "      <th></th>\n",
       "      <th>user_id</th>\n",
       "      <th>name</th>\n",
       "      <th>age</th>\n",
       "      <th>city</th>\n",
       "      <th>subscription_type</th>\n",
       "      <th>distance</th>\n",
       "      <th>duration</th>\n",
       "      <th>date</th>\n",
       "      <th>month</th>\n",
       "      <th>minute_price</th>\n",
       "      <th>start_ride_price</th>\n",
       "      <th>subscription_fee</th>\n",
       "    </tr>\n",
       "  </thead>\n",
       "  <tbody>\n",
       "    <tr>\n",
       "      <th>6500</th>\n",
       "      <td>700</td>\n",
       "      <td>Айдар</td>\n",
       "      <td>22</td>\n",
       "      <td>Омск</td>\n",
       "      <td>False</td>\n",
       "      <td>2515.690719</td>\n",
       "      <td>14.944286</td>\n",
       "      <td>2021-01-02</td>\n",
       "      <td>1</td>\n",
       "      <td>8</td>\n",
       "      <td>50</td>\n",
       "      <td>0</td>\n",
       "    </tr>\n",
       "    <tr>\n",
       "      <th>6501</th>\n",
       "      <td>700</td>\n",
       "      <td>Айдар</td>\n",
       "      <td>22</td>\n",
       "      <td>Омск</td>\n",
       "      <td>False</td>\n",
       "      <td>846.932642</td>\n",
       "      <td>16.234663</td>\n",
       "      <td>2021-02-01</td>\n",
       "      <td>2</td>\n",
       "      <td>8</td>\n",
       "      <td>50</td>\n",
       "      <td>0</td>\n",
       "    </tr>\n",
       "    <tr>\n",
       "      <th>6502</th>\n",
       "      <td>700</td>\n",
       "      <td>Айдар</td>\n",
       "      <td>22</td>\n",
       "      <td>Омск</td>\n",
       "      <td>False</td>\n",
       "      <td>4004.434142</td>\n",
       "      <td>20.016628</td>\n",
       "      <td>2021-02-04</td>\n",
       "      <td>2</td>\n",
       "      <td>8</td>\n",
       "      <td>50</td>\n",
       "      <td>0</td>\n",
       "    </tr>\n",
       "    <tr>\n",
       "      <th>6503</th>\n",
       "      <td>700</td>\n",
       "      <td>Айдар</td>\n",
       "      <td>22</td>\n",
       "      <td>Омск</td>\n",
       "      <td>False</td>\n",
       "      <td>1205.911290</td>\n",
       "      <td>9.782872</td>\n",
       "      <td>2021-02-10</td>\n",
       "      <td>2</td>\n",
       "      <td>8</td>\n",
       "      <td>50</td>\n",
       "      <td>0</td>\n",
       "    </tr>\n",
       "    <tr>\n",
       "      <th>6504</th>\n",
       "      <td>700</td>\n",
       "      <td>Айдар</td>\n",
       "      <td>22</td>\n",
       "      <td>Омск</td>\n",
       "      <td>False</td>\n",
       "      <td>3047.379435</td>\n",
       "      <td>17.427673</td>\n",
       "      <td>2021-02-14</td>\n",
       "      <td>2</td>\n",
       "      <td>8</td>\n",
       "      <td>50</td>\n",
       "      <td>0</td>\n",
       "    </tr>\n",
       "  </tbody>\n",
       "</table>\n",
       "</div>"
      ],
      "text/plain": [
       "      user_id   name  age  city subscription_type     distance   duration  \\\n",
       "6500      700  Айдар   22  Омск             False  2515.690719  14.944286   \n",
       "6501      700  Айдар   22  Омск             False   846.932642  16.234663   \n",
       "6502      700  Айдар   22  Омск             False  4004.434142  20.016628   \n",
       "6503      700  Айдар   22  Омск             False  1205.911290   9.782872   \n",
       "6504      700  Айдар   22  Омск             False  3047.379435  17.427673   \n",
       "\n",
       "           date  month  minute_price  start_ride_price  subscription_fee  \n",
       "6500 2021-01-02      1             8                50                 0  \n",
       "6501 2021-02-01      2             8                50                 0  \n",
       "6502 2021-02-04      2             8                50                 0  \n",
       "6503 2021-02-10      2             8                50                 0  \n",
       "6504 2021-02-14      2             8                50                 0  "
      ]
     },
     "execution_count": 45,
     "metadata": {},
     "output_type": "execute_result"
    }
   ],
   "source": [
    "subscription_free = df_common.loc[df_common['subscription_type'] == False]\n",
    "subscription_free.head() "
   ]
  },
  {
   "cell_type": "markdown",
   "id": "aa5e6233",
   "metadata": {},
   "source": [
    "**Создадим датафрейм из общего датафрейма c данными о пользователях с подпиской**   "
   ]
  },
  {
   "cell_type": "code",
   "execution_count": 46,
   "id": "90ebc168",
   "metadata": {},
   "outputs": [
    {
     "data": {
      "text/html": [
       "<div>\n",
       "<style scoped>\n",
       "    .dataframe tbody tr th:only-of-type {\n",
       "        vertical-align: middle;\n",
       "    }\n",
       "\n",
       "    .dataframe tbody tr th {\n",
       "        vertical-align: top;\n",
       "    }\n",
       "\n",
       "    .dataframe thead th {\n",
       "        text-align: right;\n",
       "    }\n",
       "</style>\n",
       "<table border=\"1\" class=\"dataframe\">\n",
       "  <thead>\n",
       "    <tr style=\"text-align: right;\">\n",
       "      <th></th>\n",
       "      <th>user_id</th>\n",
       "      <th>name</th>\n",
       "      <th>age</th>\n",
       "      <th>city</th>\n",
       "      <th>subscription_type</th>\n",
       "      <th>distance</th>\n",
       "      <th>duration</th>\n",
       "      <th>date</th>\n",
       "      <th>month</th>\n",
       "      <th>minute_price</th>\n",
       "      <th>start_ride_price</th>\n",
       "      <th>subscription_fee</th>\n",
       "    </tr>\n",
       "  </thead>\n",
       "  <tbody>\n",
       "    <tr>\n",
       "      <th>0</th>\n",
       "      <td>1</td>\n",
       "      <td>Кира</td>\n",
       "      <td>22</td>\n",
       "      <td>Тюмень</td>\n",
       "      <td>True</td>\n",
       "      <td>4409.919140</td>\n",
       "      <td>25.599769</td>\n",
       "      <td>2021-01-01</td>\n",
       "      <td>1</td>\n",
       "      <td>6</td>\n",
       "      <td>0</td>\n",
       "      <td>199</td>\n",
       "    </tr>\n",
       "    <tr>\n",
       "      <th>1</th>\n",
       "      <td>1</td>\n",
       "      <td>Кира</td>\n",
       "      <td>22</td>\n",
       "      <td>Тюмень</td>\n",
       "      <td>True</td>\n",
       "      <td>2617.592153</td>\n",
       "      <td>15.816871</td>\n",
       "      <td>2021-01-18</td>\n",
       "      <td>1</td>\n",
       "      <td>6</td>\n",
       "      <td>0</td>\n",
       "      <td>199</td>\n",
       "    </tr>\n",
       "    <tr>\n",
       "      <th>2</th>\n",
       "      <td>1</td>\n",
       "      <td>Кира</td>\n",
       "      <td>22</td>\n",
       "      <td>Тюмень</td>\n",
       "      <td>True</td>\n",
       "      <td>754.159807</td>\n",
       "      <td>6.232113</td>\n",
       "      <td>2021-04-20</td>\n",
       "      <td>4</td>\n",
       "      <td>6</td>\n",
       "      <td>0</td>\n",
       "      <td>199</td>\n",
       "    </tr>\n",
       "    <tr>\n",
       "      <th>3</th>\n",
       "      <td>1</td>\n",
       "      <td>Кира</td>\n",
       "      <td>22</td>\n",
       "      <td>Тюмень</td>\n",
       "      <td>True</td>\n",
       "      <td>2694.783254</td>\n",
       "      <td>18.511000</td>\n",
       "      <td>2021-08-11</td>\n",
       "      <td>8</td>\n",
       "      <td>6</td>\n",
       "      <td>0</td>\n",
       "      <td>199</td>\n",
       "    </tr>\n",
       "    <tr>\n",
       "      <th>4</th>\n",
       "      <td>1</td>\n",
       "      <td>Кира</td>\n",
       "      <td>22</td>\n",
       "      <td>Тюмень</td>\n",
       "      <td>True</td>\n",
       "      <td>4028.687306</td>\n",
       "      <td>26.265803</td>\n",
       "      <td>2021-08-28</td>\n",
       "      <td>8</td>\n",
       "      <td>6</td>\n",
       "      <td>0</td>\n",
       "      <td>199</td>\n",
       "    </tr>\n",
       "  </tbody>\n",
       "</table>\n",
       "</div>"
      ],
      "text/plain": [
       "   user_id  name  age    city subscription_type     distance   duration  \\\n",
       "0        1  Кира   22  Тюмень              True  4409.919140  25.599769   \n",
       "1        1  Кира   22  Тюмень              True  2617.592153  15.816871   \n",
       "2        1  Кира   22  Тюмень              True   754.159807   6.232113   \n",
       "3        1  Кира   22  Тюмень              True  2694.783254  18.511000   \n",
       "4        1  Кира   22  Тюмень              True  4028.687306  26.265803   \n",
       "\n",
       "        date  month  minute_price  start_ride_price  subscription_fee  \n",
       "0 2021-01-01      1             6                 0               199  \n",
       "1 2021-01-18      1             6                 0               199  \n",
       "2 2021-04-20      4             6                 0               199  \n",
       "3 2021-08-11      8             6                 0               199  \n",
       "4 2021-08-28      8             6                 0               199  "
      ]
     },
     "execution_count": 46,
     "metadata": {},
     "output_type": "execute_result"
    }
   ],
   "source": [
    "subscription_ultra = df_common.loc[df_common['subscription_type'] == True]\n",
    "subscription_ultra.head()"
   ]
  },
  {
   "cell_type": "markdown",
   "id": "6b8cb0ec",
   "metadata": {},
   "source": [
    "**Визуализируем информацию о расстоянии поездок для пользователей обеих категорий.**"
   ]
  },
  {
   "cell_type": "code",
   "execution_count": 47,
   "id": "f8c92035",
   "metadata": {},
   "outputs": [
    {
     "data": {
      "image/png": "[encoded data removed]",
      "text/plain": [
       "<Figure size 576x576 with 1 Axes>"
      ]
     },
     "metadata": {
      "needs_background": "light"
     },
     "output_type": "display_data"
    }
   ],
   "source": [
    "# построем гистограмму распределения без подписки\n",
    "subscription_free['distance'].plot(kind='hist', bins=30, color='darkorange', ec='black', figsize=(8, 8), \n",
    "                                   label='без подписки \"free\"') \n",
    "# построем гистограмму распределения с подпиской\n",
    "subscription_ultra['distance'].plot(kind='hist', bins=30, color='dodgerblue', ec='black', figsize=(8, 8), \n",
    "                                    label='с подпиской \"ultra\"') \n",
    "plt.title('Расстояние, которое пользователь преодолел за одну поездку с подпиской и без подписки')\n",
    "plt.xlabel('Расстояние, м')\n",
    "plt.ylabel('Количество пользователей')\n",
    "plt.legend(loc='upper right')\n",
    "plt.show()"
   ]
  },
  {
   "cell_type": "markdown",
   "id": "6c1a17df",
   "metadata": {},
   "source": [
    "**Визуализируем информацию о времени поездок для пользователей обеих категорий.**"
   ]
  },
  {
   "cell_type": "code",
   "execution_count": 48,
   "id": "a5cf8b97",
   "metadata": {},
   "outputs": [
    {
     "data": {
      "image/png": "[encoded data removed]",
      "text/plain": [
       "<Figure size 576x576 with 1 Axes>"
      ]
     },
     "metadata": {
      "needs_background": "light"
     },
     "output_type": "display_data"
    }
   ],
   "source": [
    "# построем гистограмму распределения без подписки\n",
    "subscription_free['duration'].plot(kind='hist', bins=30, color='darkorange', ec='black', figsize=(8, 8), \n",
    "                                   label='без подписки \"free\"') \n",
    "# построем гистограмму распределения с подпиской\n",
    "subscription_ultra['duration'].plot(kind='hist', bins=30, color='dodgerblue', ec='black', figsize=(8, 8), \n",
    "                                    label='с подпиской \"ultra\"') \n",
    "plt.title('Продолжительность одной поездки пользователей с подпиской и без подписки')\n",
    "plt.xlabel('Время, мин')\n",
    "plt.ylabel('Количество пользователей')\n",
    "plt.legend(loc='upper right')\n",
    "plt.show()"
   ]
  },
  {
   "cell_type": "markdown",
   "id": "31cea54b",
   "metadata": {},
   "source": [
    "Гистограммы наглядно демонстрируют, что расстояние, которое пользователи преодовали за одну поездку, и время одной поездки у пользователей с подпиской ниже, чем у пользователей без подписки. Исключением является лишь расстояние в 3000 м, которое пользователь преодолел за одну поездку. Общее количество пользователей в этом значении больше с подпиской, чем без нее."
   ]
  },
  {
   "cell_type": "markdown",
   "id": "33fb5e1c",
   "metadata": {},
   "source": [
    "**Выводы**   \n",
    "На этом этапе было сделано следующее:  \n",
    "1. Объединены данные о пользователях, поездках и подписках в один датафрейм.  \n",
    "Создан новый датафрейм df_common. Методом merge() сначала объедины датафреймы df_users_go и df_rides_go по \"user_id\". Затем объеден полученный датафрейм с датафреймом df_subscriptions_go по \"subscription_type\". Выведены первые 5 строк нового датафрейма. Новый дататфрейм проверен на пропуски.  \n",
    "2. Созданы ещё два датафрейма из датафрейма:  \n",
    "- c данными о пользователях без подписки;  \n",
    "- с данными о пользователях с подпиской.  \n",
    "3. Визуализирована информация о расстоянии и времени поездок для пользователей обеих категорий.\n",
    "Гистограммы наглядно демонстрируют, что расстояние, которое пользователи преодовали за одну поездку, и время одной поездки у пользователей с подпиской ниже, чем у пользователей без подписки. Исключением является лишь расстояние в 3000 м, которое пользователь преодолел за одну поездку. Общее количество пользователей в этом значении больше с подпиской, чем без нее."
   ]
  },
  {
   "cell_type": "markdown",
   "id": "183938c2",
   "metadata": {},
   "source": [
    "## Шаг 5. Подсчёт выручки"
   ]
  },
  {
   "cell_type": "markdown",
   "id": "945e5403",
   "metadata": {},
   "source": [
    "1. Создадим датафрейм с агрегированными данными о поездках на основе датафрейма с объединёнными данными из шага 4: найдем суммарное расстояние, количество поездок и суммарное время для каждого пользователя за каждый месяц.  \n",
    "2. В этот же датафрейм добавим столбец с помесячной выручкой, которую принёс каждый пользователь.   "
   ]
  },
  {
   "cell_type": "markdown",
   "id": "97446d17",
   "metadata": {},
   "source": [
    "**Создадим датафрейм с агрегированными данными о поездках на основе датафрейма с объединёнными данными из шага 4: найдем суммарное расстояние, количество поездок и суммарное время для каждого пользователя за каждый месяц.**"
   ]
  },
  {
   "cell_type": "code",
   "execution_count": 49,
   "id": "cfaf9bbf",
   "metadata": {},
   "outputs": [],
   "source": [
    "df_common['duration'] = np.ceil(df_common['duration']) # каждое значение из столбца duration округляем с помощью «потолка»"
   ]
  },
  {
   "cell_type": "code",
   "execution_count": 50,
   "id": "63fd6a63",
   "metadata": {},
   "outputs": [
    {
     "data": {
      "text/html": [
       "<div>\n",
       "<style scoped>\n",
       "    .dataframe tbody tr th:only-of-type {\n",
       "        vertical-align: middle;\n",
       "    }\n",
       "\n",
       "    .dataframe tbody tr th {\n",
       "        vertical-align: top;\n",
       "    }\n",
       "\n",
       "    .dataframe thead th {\n",
       "        text-align: right;\n",
       "    }\n",
       "</style>\n",
       "<table border=\"1\" class=\"dataframe\">\n",
       "  <thead>\n",
       "    <tr style=\"text-align: right;\">\n",
       "      <th></th>\n",
       "      <th>user_id</th>\n",
       "      <th>month</th>\n",
       "      <th>count_distance</th>\n",
       "      <th>sum_distance</th>\n",
       "      <th>sum_duration</th>\n",
       "    </tr>\n",
       "  </thead>\n",
       "  <tbody>\n",
       "    <tr>\n",
       "      <th>0</th>\n",
       "      <td>1</td>\n",
       "      <td>1</td>\n",
       "      <td>2</td>\n",
       "      <td>7027.511294</td>\n",
       "      <td>42.0</td>\n",
       "    </tr>\n",
       "    <tr>\n",
       "      <th>1</th>\n",
       "      <td>1</td>\n",
       "      <td>4</td>\n",
       "      <td>1</td>\n",
       "      <td>754.159807</td>\n",
       "      <td>7.0</td>\n",
       "    </tr>\n",
       "    <tr>\n",
       "      <th>2</th>\n",
       "      <td>1</td>\n",
       "      <td>8</td>\n",
       "      <td>2</td>\n",
       "      <td>6723.470560</td>\n",
       "      <td>46.0</td>\n",
       "    </tr>\n",
       "    <tr>\n",
       "      <th>3</th>\n",
       "      <td>1</td>\n",
       "      <td>10</td>\n",
       "      <td>2</td>\n",
       "      <td>5809.911100</td>\n",
       "      <td>32.0</td>\n",
       "    </tr>\n",
       "    <tr>\n",
       "      <th>4</th>\n",
       "      <td>1</td>\n",
       "      <td>11</td>\n",
       "      <td>3</td>\n",
       "      <td>7003.499363</td>\n",
       "      <td>56.0</td>\n",
       "    </tr>\n",
       "    <tr>\n",
       "      <th>...</th>\n",
       "      <td>...</td>\n",
       "      <td>...</td>\n",
       "      <td>...</td>\n",
       "      <td>...</td>\n",
       "      <td>...</td>\n",
       "    </tr>\n",
       "    <tr>\n",
       "      <th>11326</th>\n",
       "      <td>1534</td>\n",
       "      <td>6</td>\n",
       "      <td>2</td>\n",
       "      <td>3409.468534</td>\n",
       "      <td>26.0</td>\n",
       "    </tr>\n",
       "    <tr>\n",
       "      <th>11327</th>\n",
       "      <td>1534</td>\n",
       "      <td>8</td>\n",
       "      <td>2</td>\n",
       "      <td>7622.453034</td>\n",
       "      <td>48.0</td>\n",
       "    </tr>\n",
       "    <tr>\n",
       "      <th>11328</th>\n",
       "      <td>1534</td>\n",
       "      <td>9</td>\n",
       "      <td>1</td>\n",
       "      <td>4928.173852</td>\n",
       "      <td>23.0</td>\n",
       "    </tr>\n",
       "    <tr>\n",
       "      <th>11329</th>\n",
       "      <td>1534</td>\n",
       "      <td>11</td>\n",
       "      <td>4</td>\n",
       "      <td>13350.015305</td>\n",
       "      <td>78.0</td>\n",
       "    </tr>\n",
       "    <tr>\n",
       "      <th>11330</th>\n",
       "      <td>1534</td>\n",
       "      <td>12</td>\n",
       "      <td>1</td>\n",
       "      <td>2371.711192</td>\n",
       "      <td>16.0</td>\n",
       "    </tr>\n",
       "  </tbody>\n",
       "</table>\n",
       "<p>11331 rows × 5 columns</p>\n",
       "</div>"
      ],
      "text/plain": [
       "       user_id  month  count_distance  sum_distance  sum_duration\n",
       "0            1      1               2   7027.511294          42.0\n",
       "1            1      4               1    754.159807           7.0\n",
       "2            1      8               2   6723.470560          46.0\n",
       "3            1     10               2   5809.911100          32.0\n",
       "4            1     11               3   7003.499363          56.0\n",
       "...        ...    ...             ...           ...           ...\n",
       "11326     1534      6               2   3409.468534          26.0\n",
       "11327     1534      8               2   7622.453034          48.0\n",
       "11328     1534      9               1   4928.173852          23.0\n",
       "11329     1534     11               4  13350.015305          78.0\n",
       "11330     1534     12               1   2371.711192          16.0\n",
       "\n",
       "[11331 rows x 5 columns]"
      ]
     },
     "execution_count": 50,
     "metadata": {},
     "output_type": "execute_result"
    }
   ],
   "source": [
    "df_common_agg = df_common.pivot_table(index= ['user_id', 'month'], values = ['distance', 'duration'], \n",
    "                                      aggfunc = ['count', 'sum']) # создадим сводную таблицу\n",
    "df_common_agg.columns = ['count_distance', 'count_duration', 'sum_distance', 'sum_duration'] # переменуем названия столбцов\n",
    "df_common_agg = df_common_agg.drop(labels=['count_duration'], axis=1).reset_index() # удалим дублирующийся столбец\n",
    "df_common_agg"
   ]
  },
  {
   "cell_type": "markdown",
   "id": "738e7b32",
   "metadata": {},
   "source": [
    "Мы получили новый датафрейм, в котором содержится информация для каждого пользователя за каждый месяц:  \n",
    "\"sum_distance\" - суммарное расстояние (м),  \n",
    "\"count_distance\" - количество поездок,  \n",
    "\"sum_duration\" - суммарное время (мин)."
   ]
  },
  {
   "cell_type": "markdown",
   "id": "aac92c5e",
   "metadata": {},
   "source": [
    "**Добавим столбец с помесячной выручкой, которую принёс каждый пользователь. Для этого обратимся к информации об условиях оплаты для подписчиков и тех, у кого нет подписки. Продолжительность каждой поездки в каждой строке исходного датафрейма для подсчёта стоимости округляется до следующего целого числа.**"
   ]
  },
  {
   "cell_type": "code",
   "execution_count": 51,
   "id": "d8f1ebdf",
   "metadata": {},
   "outputs": [
    {
     "data": {
      "text/html": [
       "<div>\n",
       "<style scoped>\n",
       "    .dataframe tbody tr th:only-of-type {\n",
       "        vertical-align: middle;\n",
       "    }\n",
       "\n",
       "    .dataframe tbody tr th {\n",
       "        vertical-align: top;\n",
       "    }\n",
       "\n",
       "    .dataframe thead th {\n",
       "        text-align: right;\n",
       "    }\n",
       "</style>\n",
       "<table border=\"1\" class=\"dataframe\">\n",
       "  <thead>\n",
       "    <tr style=\"text-align: right;\">\n",
       "      <th></th>\n",
       "      <th>user_id</th>\n",
       "      <th>month</th>\n",
       "      <th>count_distance</th>\n",
       "      <th>sum_distance</th>\n",
       "      <th>sum_duration</th>\n",
       "      <th>name</th>\n",
       "      <th>age</th>\n",
       "      <th>city</th>\n",
       "      <th>subscription_type</th>\n",
       "      <th>minute_price</th>\n",
       "      <th>start_ride_price</th>\n",
       "      <th>subscription_fee</th>\n",
       "    </tr>\n",
       "  </thead>\n",
       "  <tbody>\n",
       "    <tr>\n",
       "      <th>0</th>\n",
       "      <td>1</td>\n",
       "      <td>1</td>\n",
       "      <td>2</td>\n",
       "      <td>7027.511294</td>\n",
       "      <td>42.0</td>\n",
       "      <td>Кира</td>\n",
       "      <td>22</td>\n",
       "      <td>Тюмень</td>\n",
       "      <td>True</td>\n",
       "      <td>6</td>\n",
       "      <td>0</td>\n",
       "      <td>199</td>\n",
       "    </tr>\n",
       "    <tr>\n",
       "      <th>1</th>\n",
       "      <td>1</td>\n",
       "      <td>4</td>\n",
       "      <td>1</td>\n",
       "      <td>754.159807</td>\n",
       "      <td>7.0</td>\n",
       "      <td>Кира</td>\n",
       "      <td>22</td>\n",
       "      <td>Тюмень</td>\n",
       "      <td>True</td>\n",
       "      <td>6</td>\n",
       "      <td>0</td>\n",
       "      <td>199</td>\n",
       "    </tr>\n",
       "    <tr>\n",
       "      <th>2</th>\n",
       "      <td>1</td>\n",
       "      <td>8</td>\n",
       "      <td>2</td>\n",
       "      <td>6723.470560</td>\n",
       "      <td>46.0</td>\n",
       "      <td>Кира</td>\n",
       "      <td>22</td>\n",
       "      <td>Тюмень</td>\n",
       "      <td>True</td>\n",
       "      <td>6</td>\n",
       "      <td>0</td>\n",
       "      <td>199</td>\n",
       "    </tr>\n",
       "    <tr>\n",
       "      <th>3</th>\n",
       "      <td>1</td>\n",
       "      <td>10</td>\n",
       "      <td>2</td>\n",
       "      <td>5809.911100</td>\n",
       "      <td>32.0</td>\n",
       "      <td>Кира</td>\n",
       "      <td>22</td>\n",
       "      <td>Тюмень</td>\n",
       "      <td>True</td>\n",
       "      <td>6</td>\n",
       "      <td>0</td>\n",
       "      <td>199</td>\n",
       "    </tr>\n",
       "    <tr>\n",
       "      <th>4</th>\n",
       "      <td>1</td>\n",
       "      <td>11</td>\n",
       "      <td>3</td>\n",
       "      <td>7003.499363</td>\n",
       "      <td>56.0</td>\n",
       "      <td>Кира</td>\n",
       "      <td>22</td>\n",
       "      <td>Тюмень</td>\n",
       "      <td>True</td>\n",
       "      <td>6</td>\n",
       "      <td>0</td>\n",
       "      <td>199</td>\n",
       "    </tr>\n",
       "    <tr>\n",
       "      <th>...</th>\n",
       "      <td>...</td>\n",
       "      <td>...</td>\n",
       "      <td>...</td>\n",
       "      <td>...</td>\n",
       "      <td>...</td>\n",
       "      <td>...</td>\n",
       "      <td>...</td>\n",
       "      <td>...</td>\n",
       "      <td>...</td>\n",
       "      <td>...</td>\n",
       "      <td>...</td>\n",
       "      <td>...</td>\n",
       "    </tr>\n",
       "    <tr>\n",
       "      <th>11326</th>\n",
       "      <td>1534</td>\n",
       "      <td>6</td>\n",
       "      <td>2</td>\n",
       "      <td>3409.468534</td>\n",
       "      <td>26.0</td>\n",
       "      <td>Альберт</td>\n",
       "      <td>25</td>\n",
       "      <td>Краснодар</td>\n",
       "      <td>False</td>\n",
       "      <td>8</td>\n",
       "      <td>50</td>\n",
       "      <td>0</td>\n",
       "    </tr>\n",
       "    <tr>\n",
       "      <th>11327</th>\n",
       "      <td>1534</td>\n",
       "      <td>8</td>\n",
       "      <td>2</td>\n",
       "      <td>7622.453034</td>\n",
       "      <td>48.0</td>\n",
       "      <td>Альберт</td>\n",
       "      <td>25</td>\n",
       "      <td>Краснодар</td>\n",
       "      <td>False</td>\n",
       "      <td>8</td>\n",
       "      <td>50</td>\n",
       "      <td>0</td>\n",
       "    </tr>\n",
       "    <tr>\n",
       "      <th>11328</th>\n",
       "      <td>1534</td>\n",
       "      <td>9</td>\n",
       "      <td>1</td>\n",
       "      <td>4928.173852</td>\n",
       "      <td>23.0</td>\n",
       "      <td>Альберт</td>\n",
       "      <td>25</td>\n",
       "      <td>Краснодар</td>\n",
       "      <td>False</td>\n",
       "      <td>8</td>\n",
       "      <td>50</td>\n",
       "      <td>0</td>\n",
       "    </tr>\n",
       "    <tr>\n",
       "      <th>11329</th>\n",
       "      <td>1534</td>\n",
       "      <td>11</td>\n",
       "      <td>4</td>\n",
       "      <td>13350.015305</td>\n",
       "      <td>78.0</td>\n",
       "      <td>Альберт</td>\n",
       "      <td>25</td>\n",
       "      <td>Краснодар</td>\n",
       "      <td>False</td>\n",
       "      <td>8</td>\n",
       "      <td>50</td>\n",
       "      <td>0</td>\n",
       "    </tr>\n",
       "    <tr>\n",
       "      <th>11330</th>\n",
       "      <td>1534</td>\n",
       "      <td>12</td>\n",
       "      <td>1</td>\n",
       "      <td>2371.711192</td>\n",
       "      <td>16.0</td>\n",
       "      <td>Альберт</td>\n",
       "      <td>25</td>\n",
       "      <td>Краснодар</td>\n",
       "      <td>False</td>\n",
       "      <td>8</td>\n",
       "      <td>50</td>\n",
       "      <td>0</td>\n",
       "    </tr>\n",
       "  </tbody>\n",
       "</table>\n",
       "<p>11331 rows × 12 columns</p>\n",
       "</div>"
      ],
      "text/plain": [
       "       user_id  month  count_distance  sum_distance  sum_duration     name  \\\n",
       "0            1      1               2   7027.511294          42.0     Кира   \n",
       "1            1      4               1    754.159807           7.0     Кира   \n",
       "2            1      8               2   6723.470560          46.0     Кира   \n",
       "3            1     10               2   5809.911100          32.0     Кира   \n",
       "4            1     11               3   7003.499363          56.0     Кира   \n",
       "...        ...    ...             ...           ...           ...      ...   \n",
       "11326     1534      6               2   3409.468534          26.0  Альберт   \n",
       "11327     1534      8               2   7622.453034          48.0  Альберт   \n",
       "11328     1534      9               1   4928.173852          23.0  Альберт   \n",
       "11329     1534     11               4  13350.015305          78.0  Альберт   \n",
       "11330     1534     12               1   2371.711192          16.0  Альберт   \n",
       "\n",
       "       age       city subscription_type  minute_price  start_ride_price  \\\n",
       "0       22     Тюмень              True             6                 0   \n",
       "1       22     Тюмень              True             6                 0   \n",
       "2       22     Тюмень              True             6                 0   \n",
       "3       22     Тюмень              True             6                 0   \n",
       "4       22     Тюмень              True             6                 0   \n",
       "...    ...        ...               ...           ...               ...   \n",
       "11326   25  Краснодар             False             8                50   \n",
       "11327   25  Краснодар             False             8                50   \n",
       "11328   25  Краснодар             False             8                50   \n",
       "11329   25  Краснодар             False             8                50   \n",
       "11330   25  Краснодар             False             8                50   \n",
       "\n",
       "       subscription_fee  \n",
       "0                   199  \n",
       "1                   199  \n",
       "2                   199  \n",
       "3                   199  \n",
       "4                   199  \n",
       "...                 ...  \n",
       "11326                 0  \n",
       "11327                 0  \n",
       "11328                 0  \n",
       "11329                 0  \n",
       "11330                 0  \n",
       "\n",
       "[11331 rows x 12 columns]"
      ]
     },
     "execution_count": 51,
     "metadata": {},
     "output_type": "execute_result"
    }
   ],
   "source": [
    "df_common_agg = df_common_agg.merge(df_users_go, on='user_id', how='left')\n",
    "df_common_agg = df_common_agg.merge(df_subscriptions_go, on='subscription_type', how='left')\n",
    "df_common_agg"
   ]
  },
  {
   "cell_type": "markdown",
   "id": "cb58c0a5",
   "metadata": {},
   "source": [
    "Найдем помесячную выручку по формуле: стоимость старта поездки ×  количество поездок + стоимость одной минуты поездки\n",
    "× общая продолжительность всех поездок в минутах + стоимость подписки. Добавим новый столбец \"revenue\" в датафрейм."
   ]
  },
  {
   "cell_type": "code",
   "execution_count": 52,
   "id": "25c518b1",
   "metadata": {},
   "outputs": [
    {
     "data": {
      "text/html": [
       "<div>\n",
       "<style scoped>\n",
       "    .dataframe tbody tr th:only-of-type {\n",
       "        vertical-align: middle;\n",
       "    }\n",
       "\n",
       "    .dataframe tbody tr th {\n",
       "        vertical-align: top;\n",
       "    }\n",
       "\n",
       "    .dataframe thead th {\n",
       "        text-align: right;\n",
       "    }\n",
       "</style>\n",
       "<table border=\"1\" class=\"dataframe\">\n",
       "  <thead>\n",
       "    <tr style=\"text-align: right;\">\n",
       "      <th></th>\n",
       "      <th>user_id</th>\n",
       "      <th>name</th>\n",
       "      <th>subscription_type</th>\n",
       "      <th>month</th>\n",
       "      <th>count_distance</th>\n",
       "      <th>sum_distance</th>\n",
       "      <th>sum_duration</th>\n",
       "      <th>revenue</th>\n",
       "    </tr>\n",
       "  </thead>\n",
       "  <tbody>\n",
       "    <tr>\n",
       "      <th>0</th>\n",
       "      <td>1</td>\n",
       "      <td>Кира</td>\n",
       "      <td>True</td>\n",
       "      <td>1</td>\n",
       "      <td>2</td>\n",
       "      <td>7027.511294</td>\n",
       "      <td>42.0</td>\n",
       "      <td>451</td>\n",
       "    </tr>\n",
       "    <tr>\n",
       "      <th>1</th>\n",
       "      <td>1</td>\n",
       "      <td>Кира</td>\n",
       "      <td>True</td>\n",
       "      <td>4</td>\n",
       "      <td>1</td>\n",
       "      <td>754.159807</td>\n",
       "      <td>7.0</td>\n",
       "      <td>241</td>\n",
       "    </tr>\n",
       "    <tr>\n",
       "      <th>2</th>\n",
       "      <td>1</td>\n",
       "      <td>Кира</td>\n",
       "      <td>True</td>\n",
       "      <td>8</td>\n",
       "      <td>2</td>\n",
       "      <td>6723.470560</td>\n",
       "      <td>46.0</td>\n",
       "      <td>475</td>\n",
       "    </tr>\n",
       "    <tr>\n",
       "      <th>3</th>\n",
       "      <td>1</td>\n",
       "      <td>Кира</td>\n",
       "      <td>True</td>\n",
       "      <td>10</td>\n",
       "      <td>2</td>\n",
       "      <td>5809.911100</td>\n",
       "      <td>32.0</td>\n",
       "      <td>391</td>\n",
       "    </tr>\n",
       "    <tr>\n",
       "      <th>4</th>\n",
       "      <td>1</td>\n",
       "      <td>Кира</td>\n",
       "      <td>True</td>\n",
       "      <td>11</td>\n",
       "      <td>3</td>\n",
       "      <td>7003.499363</td>\n",
       "      <td>56.0</td>\n",
       "      <td>535</td>\n",
       "    </tr>\n",
       "    <tr>\n",
       "      <th>...</th>\n",
       "      <td>...</td>\n",
       "      <td>...</td>\n",
       "      <td>...</td>\n",
       "      <td>...</td>\n",
       "      <td>...</td>\n",
       "      <td>...</td>\n",
       "      <td>...</td>\n",
       "      <td>...</td>\n",
       "    </tr>\n",
       "    <tr>\n",
       "      <th>11326</th>\n",
       "      <td>1534</td>\n",
       "      <td>Альберт</td>\n",
       "      <td>False</td>\n",
       "      <td>6</td>\n",
       "      <td>2</td>\n",
       "      <td>3409.468534</td>\n",
       "      <td>26.0</td>\n",
       "      <td>308</td>\n",
       "    </tr>\n",
       "    <tr>\n",
       "      <th>11327</th>\n",
       "      <td>1534</td>\n",
       "      <td>Альберт</td>\n",
       "      <td>False</td>\n",
       "      <td>8</td>\n",
       "      <td>2</td>\n",
       "      <td>7622.453034</td>\n",
       "      <td>48.0</td>\n",
       "      <td>484</td>\n",
       "    </tr>\n",
       "    <tr>\n",
       "      <th>11328</th>\n",
       "      <td>1534</td>\n",
       "      <td>Альберт</td>\n",
       "      <td>False</td>\n",
       "      <td>9</td>\n",
       "      <td>1</td>\n",
       "      <td>4928.173852</td>\n",
       "      <td>23.0</td>\n",
       "      <td>234</td>\n",
       "    </tr>\n",
       "    <tr>\n",
       "      <th>11329</th>\n",
       "      <td>1534</td>\n",
       "      <td>Альберт</td>\n",
       "      <td>False</td>\n",
       "      <td>11</td>\n",
       "      <td>4</td>\n",
       "      <td>13350.015305</td>\n",
       "      <td>78.0</td>\n",
       "      <td>824</td>\n",
       "    </tr>\n",
       "    <tr>\n",
       "      <th>11330</th>\n",
       "      <td>1534</td>\n",
       "      <td>Альберт</td>\n",
       "      <td>False</td>\n",
       "      <td>12</td>\n",
       "      <td>1</td>\n",
       "      <td>2371.711192</td>\n",
       "      <td>16.0</td>\n",
       "      <td>178</td>\n",
       "    </tr>\n",
       "  </tbody>\n",
       "</table>\n",
       "<p>11331 rows × 8 columns</p>\n",
       "</div>"
      ],
      "text/plain": [
       "       user_id     name subscription_type  month  count_distance  \\\n",
       "0            1     Кира              True      1               2   \n",
       "1            1     Кира              True      4               1   \n",
       "2            1     Кира              True      8               2   \n",
       "3            1     Кира              True     10               2   \n",
       "4            1     Кира              True     11               3   \n",
       "...        ...      ...               ...    ...             ...   \n",
       "11326     1534  Альберт             False      6               2   \n",
       "11327     1534  Альберт             False      8               2   \n",
       "11328     1534  Альберт             False      9               1   \n",
       "11329     1534  Альберт             False     11               4   \n",
       "11330     1534  Альберт             False     12               1   \n",
       "\n",
       "       sum_distance  sum_duration  revenue  \n",
       "0       7027.511294          42.0      451  \n",
       "1        754.159807           7.0      241  \n",
       "2       6723.470560          46.0      475  \n",
       "3       5809.911100          32.0      391  \n",
       "4       7003.499363          56.0      535  \n",
       "...             ...           ...      ...  \n",
       "11326   3409.468534          26.0      308  \n",
       "11327   7622.453034          48.0      484  \n",
       "11328   4928.173852          23.0      234  \n",
       "11329  13350.015305          78.0      824  \n",
       "11330   2371.711192          16.0      178  \n",
       "\n",
       "[11331 rows x 8 columns]"
      ]
     },
     "execution_count": 52,
     "metadata": {},
     "output_type": "execute_result"
    }
   ],
   "source": [
    "df_common_agg['revenue'] = df_common_agg['start_ride_price'] * df_common_agg['count_distance'] + df_common_agg['minute_price'] * df_common_agg['sum_duration'] + df_common_agg['subscription_fee']\n",
    "df_common_agg['revenue'] = df_common_agg['revenue'].astype(int) # изменим тип данных\n",
    "df_common_agg = df_common_agg[['user_id', 'name', 'subscription_type', 'month', 'count_distance', 'sum_distance', 'sum_duration', 'revenue']] \n",
    "df_common_agg"
   ]
  },
  {
   "cell_type": "markdown",
   "id": "2b89d668",
   "metadata": {},
   "source": [
    "Получили таблицу, содержащую следующую информацию по каждому пользователю:  \n",
    "\"user_id\" - уникальный идентификатор пользователя,  \n",
    "\"name\" - имя,  \n",
    "\"subscription_type\" - тип подписки,\n",
    "\"month\" - количество месяцев пользования сервисом,  \n",
    "\"count_distance\" - количество поездок,  \n",
    "\"sum_distance\" - суммарное расстояние (м),  \n",
    "\"sum_duration\" - суммарное время (мин),  \n",
    "\"revenue\" - ежемесячная выручка (руб)."
   ]
  },
  {
   "cell_type": "markdown",
   "id": "564e83f7",
   "metadata": {},
   "source": [
    "Рассмотрим столбец с ежемесячной выручкой."
   ]
  },
  {
   "cell_type": "code",
   "execution_count": 53,
   "id": "b084b2d1",
   "metadata": {},
   "outputs": [
    {
     "data": {
      "text/plain": [
       "count    11331.000000\n",
       "mean       342.303504\n",
       "std        153.875346\n",
       "min         58.000000\n",
       "25%        234.000000\n",
       "50%        319.000000\n",
       "75%        415.000000\n",
       "max       1444.000000\n",
       "Name: revenue, dtype: float64"
      ]
     },
     "execution_count": 53,
     "metadata": {},
     "output_type": "execute_result"
    }
   ],
   "source": [
    "df_common_agg['revenue'].describe()"
   ]
  },
  {
   "cell_type": "markdown",
   "id": "b76c0e94",
   "metadata": {},
   "source": [
    "Ежемесячная выручка сервиса аренды самокатов от каждого пользователя в среднем составляет от 320 до 340 рублей. Проанализуем от каких пользователей (с подпиской или без нее) прибыли будет выше. Добавим столбец выручки для фатафреймов пользователей с подпиской и без подписки. "
   ]
  },
  {
   "cell_type": "code",
   "execution_count": 54,
   "id": "804c85d1",
   "metadata": {},
   "outputs": [],
   "source": [
    "# добавим столбец выручки для фатафрейма пользователей без подписки\n",
    "subscription_free = subscription_free.merge(df_common_agg, on='user_id', how='left')  \n",
    "# добавим столбец выручки для фатафрейма пользователей с подпиской\n",
    "subscription_ultra = subscription_ultra.merge(df_common_agg, on='user_id', how='left') "
   ]
  },
  {
   "cell_type": "markdown",
   "id": "a32d521d",
   "metadata": {},
   "source": [
    "Найдем зависимость выручки от месяца для пользователей с подпиской и без подписки."
   ]
  },
  {
   "cell_type": "code",
   "execution_count": 55,
   "id": "e74181fe",
   "metadata": {},
   "outputs": [
    {
     "data": {
      "image/png": "[encoded data removed]",
      "text/plain": [
       "<Figure size 360x360 with 1 Axes>"
      ]
     },
     "metadata": {
      "needs_background": "light"
     },
     "output_type": "display_data"
    },
    {
     "data": {
      "image/png": "[encoded data removed]",
      "text/plain": [
       "<Figure size 360x360 with 1 Axes>"
      ]
     },
     "metadata": {
      "needs_background": "light"
     },
     "output_type": "display_data"
    }
   ],
   "source": [
    "subscription_free.pivot_table(index='month_x', values='revenue').plot(color='b', figsize=(5, 5), grid=True, style='o-')\n",
    "plt.title('Ежемесячная выручка от пользователей без подписки')\n",
    "plt.xlabel('Месяц')\n",
    "plt.ylabel('Выручка, руб')\n",
    "subscription_ultra.pivot_table(index='month_x', values='revenue').plot(color='b', figsize=(5, 5), grid=True, style='o-')\n",
    "plt.title('Ежемесячная выручка от пользователей с подпиской')\n",
    "plt.xlabel('Месяц')\n",
    "plt.ylabel('Выручка, руб')\n",
    "plt.show()"
   ]
  },
  {
   "cell_type": "markdown",
   "id": "eefbdcdf",
   "metadata": {},
   "source": [
    "Максимальная ежемесячная выручка от пользователя с подпиской составляет чуть больше 370 руб., от пользователя без подписки чуть больше 340 руб. Не стоит забывать, что пользователей без подписки 835 человек, а пользователей с подпиской 699 человек.  \n",
    "Построем гистограммы распределения, с учетом общего количества пользователей с подпиской и без нее."
   ]
  },
  {
   "cell_type": "code",
   "execution_count": 56,
   "id": "71d6e04c",
   "metadata": {},
   "outputs": [
    {
     "data": {
      "image/png": "[encoded data removed]",
      "text/plain": [
       "<Figure size 576x576 with 1 Axes>"
      ]
     },
     "metadata": {
      "needs_background": "light"
     },
     "output_type": "display_data"
    }
   ],
   "source": [
    "# построем гистограмму распределения без подписки\n",
    "subscription_free['revenue'].plot(kind='hist', bins=30, color='darkorange', ec='black', figsize=(8, 8), \n",
    "                                  label='без подписки \"free\"') \n",
    "# построем гистограмму распределения с подпиской\n",
    "subscription_ultra['revenue'].plot(kind='hist', bins=30, color='dodgerblue', ec='black', figsize=(8, 8), \n",
    "                                   label='с подпиской \"ultra\"') \n",
    "plt.title('Ежемесячная выручка от пользователей с подпиской и без подписки')\n",
    "plt.xlabel('Выручка, руб')\n",
    "plt.ylabel('Количество пользователей')\n",
    "plt.legend(loc='upper right')\n",
    "plt.show()"
   ]
  },
  {
   "cell_type": "markdown",
   "id": "955f4a58",
   "metadata": {},
   "source": [
    "Ежемесячная выручка сервиса аренды самокатов от пользователей без подписки значительно выше прибыли от пользователей с подпиской. "
   ]
  },
  {
   "cell_type": "code",
   "execution_count": 57,
   "id": "54195139",
   "metadata": {},
   "outputs": [
    {
     "name": "stdout",
     "output_type": "stream",
     "text": [
      "Общая сумма выручки сервиса от пользователей без подписки составляет:  33174524 руб.\n",
      "Общая сумма выручки сервиса от пользователей с подпиской составляет:  16765929 руб.\n",
      "Общая сумма выручки сервиса от пользователей без подписки выше стоимости выручки с подпиской на 16408595 руб.\n"
     ]
    }
   ],
   "source": [
    "print('Общая сумма выручки сервиса от пользователей без подписки составляет: ', subscription_free['revenue'].sum(), 'руб.')\n",
    "print('Общая сумма выручки сервиса от пользователей с подпиской составляет: ', subscription_ultra['revenue'].sum(), 'руб.')\n",
    "print('Общая сумма выручки сервиса от пользователей без подписки выше стоимости выручки с подпиской на', \n",
    "      subscription_free['revenue'].sum() - subscription_ultra['revenue'].sum(), 'руб.')"
   ]
  },
  {
   "cell_type": "markdown",
   "id": "96b06a39",
   "metadata": {},
   "source": [
    "В результате общая сумма выручки сервиса от пользователей без подписки практически в два раза выше стоимости выручки с подпиской. Всё же необходимо рассмотреть помесячную выручку."
   ]
  },
  {
   "cell_type": "markdown",
   "id": "bd8b3a3e",
   "metadata": {},
   "source": [
    "**Выводы**  \n",
    "На данном этапе был проведен подсчёт выручки:  \n",
    "1. Создан датафрейм с агрегированными данными о поездках на основе датафрейма с объединёнными данными из шага 4: найдено суммарное расстояние, количество поездок и суммарное время для каждого пользователя за каждый месяц.  \n",
    "2. В этот же датафрейм добавлен столбец с помесячной выручкой, которую принёс каждый пользователь. Для этого мы обратились к информации об условиях оплаты для подписчиков и тех, у кого нет подписки.   \n",
    "- Продолжительность каждой поездки в каждой строке исходного датафрейма для подсчёта стоимости округлили до следующего целого числа.   \n",
    "- Нашли помесячную выручку по формуле: стоимость старта поездки × количество поездок + стоимость одной минуты поездки × общая продолжительность всех поездок в минутах + стоимость подписки. \n",
    "- Добавили новый столбец \"revenue\" в датафрейм.  \n",
    "- Получили таблицу, содержащую следующую информацию по каждому пользователю:\n",
    "\"user_id\" - уникальный идентификатор пользователя,\n",
    "\"name\" - имя,\n",
    "\"subscription_type\" - тип подписки, \"month\" - количество месяцев пользования сервисом,\n",
    "\"count_distance\" - количество поездок,\n",
    "\"sum_distance\" - суммарное расстояние (м),\n",
    "\"sum_duration\" - суммарное время (мин),\n",
    "\"revenue\" - ежемесячная выручка (руб).\n",
    "3. Проанализирована информация о ежемесячной выручки:\n",
    "- Ежемесячная выручка сервиса аренды самокатов от каждого пользователя в среднем составляет от 320 до 340 рублей. \n",
    "- Максимальная ежемесячная выручка от пользователя с подпиской составляет чуть больше 370 руб., от пользователя без подписки чуть больше 340 руб.  \n",
    "- Ежемесячная выручка сервиса аренды самокатов от пользователей без подписки значительно выше прибыли от пользователей с подпиской. \n",
    "- Общая сумма выручки сервиса от пользователей без подписки составляет:  33174524 руб.  \n",
    "- Общая сумма выручки сервиса от пользователей с подпиской составляет:  16765929 руб.  \n",
    "- Общая сумма выручки сервиса от пользователей без подписки выше стоимости выручки с подпиской на 16408595 руб.  \n",
    "\n",
    "В результате общая сумма выручки сервиса от пользователей без подписки практически в два раза выше стоимости выручки с подпиской. Всё же необходимо рассмотреть помесячную выручку.\n"
   ]
  },
  {
   "cell_type": "markdown",
   "id": "259105f4",
   "metadata": {},
   "source": [
    "## Шаг 6. Проверка гипотез"
   ]
  },
  {
   "cell_type": "markdown",
   "id": "02abc9a1",
   "metadata": {},
   "source": [
    "Продакт-менеджеры сервиса хотят увеличить количество пользователей с подпиской. Для этого они будут проводить различные акции, но сначала нужно выяснить несколько важных моментов.  \n",
    "1. Важно понять, тратят ли пользователи с подпиской больше времени на поездки? Если да, то пользователи с подпиской могут быть «выгоднее» для компании. Проверьте гипотезу. Используйте исходные данные о продолжительности каждой сессии — отдельно для подписчиков и тех, у кого нет подписки.  \n",
    "2. Расстояние одной поездки в 3130 метров — оптимальное с точки зрения износа самоката. Можно ли сказать, что среднее расстояние, которое проезжают пользователи с подпиской за одну поездку, не превышает 3130 метров? Проверьте гипотезу и сделайте выводы.  \n",
    "3. Проверьте гипотезу о том, будет ли помесячная выручка от пользователей с подпиской по месяцам выше, чем выручка от пользователей без подписки. Сделайте вывод.  \n",
    "4. Представьте такую ситуацию: техническая команда сервиса обновила сервера, с которыми взаимодействует мобильное приложение. Она надеется, что из-за этого количество обращений в техподдержку значимо снизилось. Некоторый файл содержит для каждого пользователя данные о количестве обращений до обновления и после него. Какой тест вам понадобился бы для проверки этой гипотезы?  "
   ]
  },
  {
   "cell_type": "markdown",
   "id": "491e59f2",
   "metadata": {},
   "source": [
    "**1. Важно понять, тратят ли пользователи с подпиской больше времени на поездки? Если да, то пользователи с подпиской могут быть «выгоднее» для компании. Проверим гипотезу. Используем исходные данные о продолжительности каждой сессии — отдельно для подписчиков и тех, у кого нет подписки.** "
   ]
  },
  {
   "cell_type": "markdown",
   "id": "663cfab5",
   "metadata": {},
   "source": [
    "Нулевая гипотеза Н0: Средняя продолжительность поездок пользователей с подпиской равна средней продолжительности поездок пользователей без подписки.  \n",
    "Альтернативная гипотеза Н1: Средняя продолжительность поездок пользователей с подпиской больше средней продолжительности поездок пользователей без подписки. "
   ]
  },
  {
   "cell_type": "code",
   "execution_count": 58,
   "id": "c7d34e08",
   "metadata": {},
   "outputs": [
    {
     "name": "stdout",
     "output_type": "stream",
     "text": [
      "p-значение: 3.923560593782122e-234\n",
      "Отвергаем нулевую гипотезу\n"
     ]
    }
   ],
   "source": [
    "alpha = 0.05 # уровень статистической значимости\n",
    "results = st.ttest_ind(subscription_ultra['duration'], subscription_free['duration'], alternative='greater')\n",
    "print('p-значение:', results.pvalue)\n",
    "if results.pvalue < alpha:\n",
    "    print('Отвергаем нулевую гипотезу')\n",
    "else:\n",
    "    print('Не получилось отвергнуть нулевую гипотезу')"
   ]
  },
  {
   "cell_type": "markdown",
   "id": "7308324a",
   "metadata": {},
   "source": [
    "**С большей долей вероятности можем сказать, что средняя продолжительность поездок пользователей с подпиской больше средней продолжительности поездок пользователей без подписки.**"
   ]
  },
  {
   "cell_type": "code",
   "execution_count": 59,
   "id": "fa347a03",
   "metadata": {},
   "outputs": [
    {
     "name": "stdout",
     "output_type": "stream",
     "text": [
      "Средняя продолжительность поездок пользователей с подпиской равна 18.52097244940167\n",
      "Средняя продолжительность поездок пользователей без подписки равна 17.390973908811073\n"
     ]
    }
   ],
   "source": [
    "print('Средняя продолжительность поездок пользователей с подпиской равна', subscription_ultra['duration'].mean())\n",
    "print('Средняя продолжительность поездок пользователей без подписки равна', subscription_free['duration'].mean())"
   ]
  },
  {
   "cell_type": "markdown",
   "id": "70752850",
   "metadata": {},
   "source": [
    "**2. Расстояние одной поездки в 3130 метров — оптимальное с точки зрения износа самоката. Можно ли сказать, что среднее расстояние, которое проезжают пользователи с подпиской за одну поездку, не превышает 3130 метров? Проверим гипотезу и сделаем выводы.**"
   ]
  },
  {
   "cell_type": "markdown",
   "id": "40a21f19",
   "metadata": {},
   "source": [
    "Нулевая гипотеза Н0: Среднее расстояние, которое проезжают пользователи с подпиской за одну поездку составляет 3130 метров.  \n",
    "Альтернативная гипотеза Н1: Среднее расстояние, которое проезжают пользователи с подпиской за одну поездку больше 3130 метров."
   ]
  },
  {
   "cell_type": "code",
   "execution_count": 60,
   "id": "0afa3f03",
   "metadata": {},
   "outputs": [
    {
     "name": "stdout",
     "output_type": "stream",
     "text": [
      "p-значение: 0.9998164060389575\n",
      "Не получилось отвергнуть нулевую гипотезу\n"
     ]
    }
   ],
   "source": [
    "alpha = 0.05 # уровень статистической значимости\n",
    "results = st.ttest_1samp(subscription_ultra['distance'], 3130, alternative='greater')\n",
    "print('p-значение:', results.pvalue)\n",
    "if results.pvalue < alpha:\n",
    "    print('Отвергаем нулевую гипотезу')\n",
    "else:\n",
    "    print('Не получилось отвергнуть нулевую гипотезу')"
   ]
  },
  {
   "cell_type": "markdown",
   "id": "af3f7a4d",
   "metadata": {},
   "source": [
    "**Не получилось отвергнуть гипотезу о том, что среднее расстояние, которое проезжают пользователи с подпиской за одну поездку не превышает 3130 метров.**"
   ]
  },
  {
   "cell_type": "code",
   "execution_count": 61,
   "id": "f6b1092b",
   "metadata": {},
   "outputs": [
    {
     "name": "stdout",
     "output_type": "stream",
     "text": [
      "Среднее расстояние, которое проезжают пользователи с подпиской за одну поездку составляет 3116.034782456601\n"
     ]
    }
   ],
   "source": [
    "print('Среднее расстояние, которое проезжают пользователи с подпиской за одну поездку составляет', \n",
    "      subscription_ultra['distance'].mean())"
   ]
  },
  {
   "cell_type": "markdown",
   "id": "17723f85",
   "metadata": {},
   "source": [
    "**3. Проверем гипотезу о том, будет ли помесячная выручка от пользователей с подпиской по месяцам выше, чем выручка от пользователей без подписки. Сделаем вывод.**"
   ]
  },
  {
   "cell_type": "markdown",
   "id": "4603f947",
   "metadata": {},
   "source": [
    "Нулевая гипотеза Н0: Помесячная выручка от пользователей с подпиской по месяцам равна выручке от пользователей без подписки.\n",
    "Альтернативная гипотеза Н1: Помесячная выручка от пользователей с подпиской по месяцам выше, чем выручка от пользователей без подписки."
   ]
  },
  {
   "cell_type": "code",
   "execution_count": 62,
   "id": "8280d65f",
   "metadata": {},
   "outputs": [
    {
     "name": "stdout",
     "output_type": "stream",
     "text": [
      "p-значение: 2.3782707027831515e-222\n",
      "Отвергаем нулевую гипотезу\n"
     ]
    }
   ],
   "source": [
    "alpha = 0.05 # уровень статистической значимости\n",
    "results = st.ttest_ind(subscription_ultra['revenue'], subscription_free['revenue'], alternative='greater')\n",
    "print('p-значение:', results.pvalue)\n",
    "if results.pvalue < alpha:\n",
    "    print('Отвергаем нулевую гипотезу')\n",
    "else:\n",
    "    print('Не получилось отвергнуть нулевую гипотезу')"
   ]
  },
  {
   "cell_type": "markdown",
   "id": "a6a01527",
   "metadata": {},
   "source": [
    "**С большей долей вероятности можем сказать, что помесячная выручка от пользователей с подпиской по месяцам выше, чем выручка от пользователей без подписки.**"
   ]
  },
  {
   "cell_type": "code",
   "execution_count": 63,
   "id": "b563e4e5",
   "metadata": {},
   "outputs": [
    {
     "name": "stdout",
     "output_type": "stream",
     "text": [
      "Помесячная выручка от пользователей с подпиской равна 368.4252752323818\n",
      "Помесячная выручка от пользователей без подписки равна 338.50173462307663\n"
     ]
    }
   ],
   "source": [
    "print('Помесячная выручка от пользователей с подпиской равна', subscription_ultra['revenue'].mean())\n",
    "print('Помесячная выручка от пользователей без подписки равна', subscription_free['revenue'].mean())"
   ]
  },
  {
   "cell_type": "markdown",
   "id": "55c2a289",
   "metadata": {},
   "source": [
    "**4. Представим такую ситуацию: техническая команда сервиса обновила сервера, с которыми взаимодействует мобильное приложение. Она надеется, что из-за этого количество обращений в техподдержку значимо снизилось. Некоторый файл содержит для каждого пользователя данные о количестве обращений до обновления и после него.**  "
   ]
  },
  {
   "cell_type": "markdown",
   "id": "efaf5b00",
   "metadata": {},
   "source": [
    "Две зависимые (парные) выборки, т.к. файл содержит данные для те же пользователей.  \n",
    "st.ttest_rel(before, after, alternative='greater')  \n",
    "Альтернативная гипотеза: количество обращений в техподдержку увеличилось.  "
   ]
  },
  {
   "cell_type": "markdown",
   "id": "a14d90c6",
   "metadata": {},
   "source": [
    "**Вывод**  \n",
    "На данном этапе были проверны следующие гипотезы:  \n",
    "1. Важно понять, тратят ли пользователи с подпиской больше времени на поездки? Если да, то пользователи с подпиской могут быть «выгоднее» для компании. Проверьте гипотезу. Используйте исходные данные о продолжительности каждой сессии — отдельно для подписчиков и тех, у кого нет подписки.  \n",
    "Нулевая гипотеза Н0: Средняя продолжительность поездок пользователей с подпиской равна средней продолжительности поездок пользователей без подписки.  \n",
    "Альтернативная гипотеза Н1: Средняя продолжительность поездок пользователей с подпиской больше средней продолжительности поездок пользователей без подписки. \n",
    "Вывод: **С большей долей вероятности можем сказать, что средняя продолжительность поездок пользователей с подпиской больше средней продолжительности поездок пользователей без подписки.**\n",
    "Проверка: Средняя продолжительность поездок пользователей с подпиской равна 18.5. Средняя продолжительность поездок пользователей без подписки равна 17.4\n",
    "2. Расстояние одной поездки в 3130 метров — оптимальное с точки зрения износа самоката. Можно ли сказать, что среднее расстояние, которое проезжают пользователи с подпиской за одну поездку, не превышает 3130 метров? Проверьте гипотезу и сделайте выводы.  \n",
    "Нулевая гипотеза Н0: Среднее расстояние, которое проезжают пользователи с подпиской за одну поездку составляет 3130 метров.\n",
    "Альтернативная гипотеза Н1: Среднее расстояние, которое проезжают пользователи с подпиской за одну поездку меньше 3130 метров.\n",
    "Вывод: **Не получилось отвергнуть гипотезу о том, что среднее расстояние, которое проезжают пользователи с подпиской за одну поездку меньше 3130 метров.**  \n",
    "Проверка: Среднее расстояние, которое проезжают пользователи с подпиской за одну поездку составляет 3116 метров.  \n",
    "3. Проверьте гипотезу о том, будет ли помесячная выручка от пользователей с подпиской по месяцам выше, чем выручка от пользователей без подписки. Сделайте вывод.  \n",
    "Нулевая гипотеза Н0: Помесячная выручка от пользователей с подпиской по месяцам равна выручке от пользователей без подписки.\n",
    "Альтернативная гипотеза Н1: Помесячная выручка от пользователей с подпиской по месяцам выше, чем выручка от пользователей без подписки.  \n",
    "Вывод: **С большей долей вероятности можем сказать, что помесячная выручка от пользователей с подпиской по месяцам выше, чем выручка от пользователей без подписки.**  \n",
    "Проверка: Помесячная выручка от пользователей с подпиской равна 368.4 руб., помесячная выручка от пользователей без подписки равна 338.5 руб.  \n",
    "4. Представьте такую ситуацию: техническая команда сервиса обновила сервера, с которыми взаимодействует мобильное приложение. Она надеется, что из-за этого количество обращений в техподдержку значимо снизилось. Некоторый файл содержит для каждого пользователя данные о количестве обращений до обновления и после него. Какой тест вам понадобился бы для проверки этой гипотезы?  \n",
    "Две зависимые (парные) выборки, т.к. файл содержит данные для те же пользователей.  \n",
    "st.ttest_rel(before, after, alternative='greater')  \n",
    "Альтернативная гипотеза: количество обращений в техподдержку увеличилось.  "
   ]
  },
  {
   "cell_type": "markdown",
   "id": "0171b812",
   "metadata": {},
   "source": [
    "## Шаг 7. Распределения"
   ]
  },
  {
   "cell_type": "markdown",
   "id": "3fc226ca",
   "metadata": {},
   "source": [
    "**1. Отделу маркетинга GoFast поставили задачу: нужно провести акцию с раздачей промокодов на один бесплатный месяц подписки, в рамках которой как минимум 100 существующих клиентов должны продлить эту подписку. То есть по завершении периода действия подписки пользователь может либо отказаться от неё, либо продлить, совершив соответствующий платёж. Эта акция уже проводилась ранее и по итогу выяснилось, что после бесплатного пробного периода подписку продлевают 10% пользователей. Выясните, какое минимальное количество промокодов нужно разослать, чтобы вероятность не выполнить план была примерно 5%. Подберите параметры распределения, описывающего эту ситуацию, постройте график распределения и сформулируйте ответ на вопрос о количестве промокодов.** "
   ]
  },
  {
   "cell_type": "code",
   "execution_count": 64,
   "id": "de63e521",
   "metadata": {},
   "outputs": [
    {
     "name": "stdout",
     "output_type": "stream",
     "text": [
      "Минимальное количество промокодов: 1161\n",
      "Вероятность не выполнить план при таком количестве промокодов: 4.976%\n"
     ]
    }
   ],
   "source": [
    "target_clients = 100  # Целевое количество клиентов для продления подписки\n",
    "p_renewal = 0.1       # Вероятность продления подписки\n",
    "\n",
    "# Подбор значения параметра n\n",
    "n = 1\n",
    "while binom.cdf(target_clients - 1, n, p_renewal) > 0.05:\n",
    "    n += 1\n",
    "\n",
    "# Вывод \n",
    "print(f\"Минимальное количество промокодов: {n}\")\n",
    "print(f\"Вероятность не выполнить план при таком количестве промокодов: {binom.cdf(target_clients - 1, n, p_renewal):.3%}\")"
   ]
  },
  {
   "cell_type": "markdown",
   "id": "7463eaac",
   "metadata": {},
   "source": [
    "**2. Отдел маркетинга рассылает клиентам push-уведомления в мобильном приложении. Клиенты могут открыть его или не открывать. Известно, что уведомления открывают около 40% получивших клиентов. Отдел планирует разослать 1 млн уведомлений. С помощью аппроксимации постройте примерный график распределения и оцените вероятность того, что уведомление откроют не более 399,5 тыс. пользователей.**"
   ]
  },
  {
   "cell_type": "code",
   "execution_count": 65,
   "id": "b015426d",
   "metadata": {},
   "outputs": [
    {
     "name": "stdout",
     "output_type": "stream",
     "text": [
      "Вероятность того, что push-уведомления откроют не более 399,5 тыс. пользователей: 0.15\n"
     ]
    }
   ],
   "source": [
    "# задаём параметры биномиального распределения\n",
    "n = 1000000\n",
    "p = 0.4\n",
    "\n",
    "mu = n * p\n",
    "sigma = (n * p * (1 - p)) ** 0.5\n",
    "\n",
    "# задаём нормальное распределение\n",
    "distr = st.norm(mu, sigma)\n",
    "\n",
    "x = 399500\n",
    "\n",
    "# считаем вероятность получить значение, равное x или меньше\n",
    "result = distr.cdf(x)\n",
    "\n",
    "print('Вероятность того, что push-уведомления откроют не более 399,5 тыс. пользователей:',\n",
    "      round(result, 2))"
   ]
  },
  {
   "cell_type": "markdown",
   "id": "a0e707da",
   "metadata": {},
   "source": [
    "## Шаг 8. Общие выводы"
   ]
  },
  {
   "cell_type": "markdown",
   "id": "3fb72792",
   "metadata": {},
   "source": [
    "**На первом этапе** загрузки данных мы познакомились с тремя датафреймами.  \n",
    "\n",
    "В первой таблице \"users_go.csv\" находится информация о пользователях сервиса аренды самокатов GoFast.\n",
    "В стобце \"user_id\" - уникальный идентификатор пользователя, в столбце \"name\" - имя пользователя, в столбце \"age\" - возраст, в столбце \"city\" - город, в столбце \"subscription_type\" - тип подписки (free, ultra).\n",
    "Подсчёт явных дубликатов в таблице показал, что в ней находится 31 дубликат. Это составляет около 2% от общего количество строк. На этапе предобработки данных эти дубликаты можно будет удалить. Нет аномальных или нестандартных значений.\n",
    "\n",
    "Во второй таблице \"rides_go.csv\" находится информация о поездках пользователей сервиса аренды самокатов GoFast.\n",
    "В стобце \"user_id\" - уникальный идентификатор пользователя, в столбце \"distance\" - расстояние, которое пользователь проехал в текущей сессии (в метрах), в столбце \"duration\" - продолжительность сессии (в минутах) — время с того момента, как пользователь нажал кнопку «Начать поездку» до момента, как он нажал кнопку «Завершить поездку», в столбце \"date\" - дата совершения поездки. Возможно наличие выбросов в столбцах \"distance\" и \"duration\". Необходимо проверить на этапе предобработки данных.\n",
    "\n",
    "В третьей таблице \"subscriptions_go.csv\" находится информация о подписках пользователей сервиса аренды самокатов GoFast.\n",
    "В стобце \"subscription_type\" - тип подписки, в столбце \"minute_price\" - стоимость одной минуты поездки по данной подписке, в столбце \"start_ride_price\" - стоимость начала поездки, в столбце \"subscription_fee\" - стоимость ежемесячного платежа. Нет аномальных или нестандартных значений.  \n",
    "Не встречаются пропуски в данных, в названиях колонок нет расхождения с хорошим стилем.  \n",
    "\n",
    "**На этапе предобработки данных** мы изменили тип данных во второй таблице \"rides_go.csv\" в столбце \"date\". Столбец \"date\" приведен к типу даты \"pandas\". На основе этого столбца мы создали новый столбец \"month\" с номером месяца. Нашли общий период. Период: c 2021-01-01 00:00:00 по 2021-12-30 00:00:00.    \n",
    "\n",
    "Проверили на наличие пропущенных значений и дубликатов в датафреймах. Подсчёт явных дубликатов в таблице \"users_go.csv\" показал, что в ней находится 31 дубликат. Мы их удалили. Пропущенных значений не обнаружено. Неявных дубликатов не обнаружено.  \n",
    "\n",
    "При проверке столбцов \"distance\" и \"duration\" на наличие выбросов по борсплоту были найдены значения, выходящие за границы усов.   \n",
    "В столбце \"distance\" показано расстояние, которое пользователь проехал в текущей сессии (в метрах). Минимальное значение составляет менее 1 метра при среднем значении 3100 метров. Аналогичная ситуация и в столбце \"duration\", показывающем продолжительность сессии (в минутах). Минимальное значение составляет составляет 0,5 мин при среднем значении 17,7 мин.  \n",
    "По боксплоту можно сделать выводы, что значения выходящие за нижную и за верхнюю границы яляются выбросами. В нашем случае, скорее вызывают сомнения значения, выходящие только за нижнии границы. Минимальные значения могут означать то, что самокаты не исправны.  \n",
    "\n",
    "**На этапе проведения исследовательского анализа данных** мы описали и визуализировали общую информацию о пользователях и поездках.   \n",
    "1. Нашли частоту встречаемости городов;  \n",
    "В таблице содержится информация о 8 городах. Лидерами встречаемости сервиса среди пользователей являются Пятигорск 14,3%, Екатеринбург 13,3% и Ростов-на-Дону 12,9% упоминаний. Замыкает список Москва 11%.\n",
    "2. Нашли соотношение пользователей с подпиской и без подписки;  \n",
    "Пользователей без подписки 835 человек, пользователей с подпиской 699 человек. Соотвественно, пользователей без подписки (54,4%) больше, чем пользователей с подпиской (45,6%). \n",
    "3. Нашли целевой возраст пользователей;  \n",
    "Средний возраст пользователя составляет 25 лет. Медиана и среднее практически совпадают. Наибольшей популярностью сервис пользуется у людей от 22 до 28 лет. По гистограмме можно определить, что результаты измерений имеют нормальное распределение.\n",
    "4. Нашли расстояние, которое пользователь преодолел за одну поездку;  \n",
    "На гистограмме можно заметить всплеск поездок на расстояние около 500 м. Возможно пользователи совершали столь короткие поездку, чтобы добраться до ТЦ, метро или автобусной остановки. Чаще всего расстояние одной поездки составляет от 2500 до 3800 м. Среднее расстояние составляет приблизительно 3100 м. Медиана и среднее практически совпадают. Результаты измерений имеют нормальное распределение.\n",
    "5. Нашли продолжительность поездок.  \n",
    "Среднее время одной поездки составляет приблизительно 17,7 мин. Медиана и среднее практически совпадают. Результаты измерений имеют нормальное распределение. Стоит лишь отметить небольшой выброс в приблизительно 100 поездок по времени менее 1 мин. Значит имеем дело с аномалиями.   \n",
    "\n",
    "**В следующем этапе были созданы новые датафреймы.**  \n",
    "1. Объединены данные о пользователях, поездках и подписках в один датафрейм.  \n",
    "Создан новый датафрейм df_common. Методом merge() сначала объедины датафреймы df_users_go и df_rides_go по \"user_id\". Затем объеден полученный датафрейм с датафреймом df_subscriptions_go по \"subscription_type\". Выведены первые 5 строк нового датафрейма. Новый дататфрейм проверен на пропуски.  \n",
    "2. Созданы ещё два датафрейма из датафрейма:  \n",
    "- c данными о пользователях без подписки;  \n",
    "- с данными о пользователях с подпиской.  \n",
    "3. Визуализирована информация о расстоянии и времени поездок для пользователей обеих категорий.\n",
    "Гистограммы наглядно демонстрируют, что расстояние, которое пользователи преодовали за одну поездку, и время одной поездки у пользователей с подпиской ниже, чем у пользователей без подписки. Исключением является лишь расстояние в 3000 м, которое пользователь преодолел за одну поездку. Общее количество пользователей в этом значении больше с подпиской, чем без нее.\n",
    "\n",
    "**Затем проведен подсчёт выручки**:  \n",
    "1. Создан датафрейм с агрегированными данными о поездках на основе датафрейма с объединёнными данными из шага 4: найдено суммарное расстояние, количество поездок и суммарное время для каждого пользователя за каждый месяц.  \n",
    "2. В этот же датафрейм добавлен столбец с помесячной выручкой, которую принёс каждый пользователь. Для этого мы обратились к информации об условиях оплаты для подписчиков и тех, у кого нет подписки.   \n",
    "- Продолжительность каждой поездки в каждой строке исходного датафрейма для подсчёта стоимости округлили до следующего целого числа.   \n",
    "- Нашли помесячную выручку по формуле: стоимость старта поездки × количество поездок + стоимость одной минуты поездки × общая продолжительность всех поездок в минутах + стоимость подписки. \n",
    "- Добавили новый столбец \"revenue\" в датафрейм.  \n",
    "- Получили таблицу, содержащую следующую информацию по каждому пользователю:\n",
    "\"user_id\" - уникальный идентификатор пользователя,\n",
    "\"name\" - имя,\n",
    "\"subscription_type\" - тип подписки, \"month\" - количество месяцев пользования сервисом,\n",
    "\"count_distance\" - количество поездок,\n",
    "\"sum_distance\" - суммарное расстояние (м),\n",
    "\"sum_duration\" - суммарное время (мин),\n",
    "\"revenue\" - ежемесячная выручка (руб).\n",
    "3. Проанализирована информация о ежемесячной выручки:\n",
    "- Ежемесячная выручка сервиса аренды самокатов от каждого пользователя в среднем составляет от 320 до 340 рублей. \n",
    "- Максимальная ежемесячная выручка от пользователя с подпиской составляет чуть больше 370 руб., от пользователя без подписки чуть больше 340 руб.  \n",
    "- Ежемесячная выручка сервиса аренды самокатов от пользователей без подписки значительно выше прибыли от пользователей с подпиской. \n",
    "- Общая сумма выручки сервиса от пользователей без подписки составляет:  33174524 руб.  \n",
    "- Общая сумма выручки сервиса от пользователей с подпиской составляет:  16765929 руб.  \n",
    "- Общая сумма выручки сервиса от пользователей без подписки выше стоимости выручки с подпиской на 16408595 руб.  \n",
    "\n",
    "В результате общая сумма выручки сервиса от пользователей без подписки практически в два раза выше стоимости выручки с подпиской. Всё же необходимо рассмотреть помесячную выручку.\n",
    "\n",
    "\n",
    "**На этапе проверки гипотез** были проверны следующие гипотезы:  \n",
    "1. Важно понять, тратят ли пользователи с подпиской больше времени на поездки? Если да, то пользователи с подпиской могут быть «выгоднее» для компании. Проверьте гипотезу. Используйте исходные данные о продолжительности каждой сессии — отдельно для подписчиков и тех, у кого нет подписки.  \n",
    "Нулевая гипотеза Н0: Средняя продолжительность поездок пользователей с подпиской равна средней продолжительности поездок пользователей без подписки.  \n",
    "Альтернативная гипотеза Н1: Средняя продолжительность поездок пользователей с подпиской больше средней продолжительности поездок пользователей без подписки. \n",
    "Вывод: **С большей долей вероятности можем сказать, что средняя продолжительность поездок пользователей с подпиской больше средней продолжительности поездок пользователей без подписки.**\n",
    "Проверка: Средняя продолжительность поездок пользователей с подпиской равна 18.5. Средняя продолжительность поездок пользователей без подписки равна 17.4\n",
    "2. Расстояние одной поездки в 3130 метров — оптимальное с точки зрения износа самоката. Можно ли сказать, что среднее расстояние, которое проезжают пользователи с подпиской за одну поездку, не превышает 3130 метров? Проверьте гипотезу и сделайте выводы.  \n",
    "Нулевая гипотеза Н0: Среднее расстояние, которое проезжают пользователи с подпиской за одну поездку составляет 3130 метров.\n",
    "Альтернативная гипотеза Н1: Среднее расстояние, которое проезжают пользователи с подпиской за одну поездку меньше 3130 метров.\n",
    "Вывод: **Не получилось отвергнуть гипотезу о том, что среднее расстояние, которое проезжают пользователи с подпиской за одну поездку меньше 3130 метров.**  \n",
    "Проверка: Среднее расстояние, которое проезжают пользователи с подпиской за одну поездку составляет 3116 метров.  \n",
    "3. Проверьте гипотезу о том, будет ли помесячная выручка от пользователей с подпиской по месяцам выше, чем выручка от пользователей без подписки. Сделайте вывод.  \n",
    "Нулевая гипотеза Н0: Помесячная выручка от пользователей с подпиской по месяцам равна выручке от пользователей без подписки.\n",
    "Альтернативная гипотеза Н1: Помесячная выручка от пользователей с подпиской по месяцам выше, чем выручка от пользователей без подписки.  \n",
    "Вывод: **С большей долей вероятности можем сказать, что помесячная выручка от пользователей с подпиской по месяцам выше, чем выручка от пользователей без подписки.**  \n",
    "Проверка: Помесячная выручка от пользователей с подпиской равна 368.4 руб., помесячная выручка от пользователей без подписки равна 338.5 руб.  \n",
    "4. Представьте такую ситуацию: техническая команда сервиса обновила сервера, с которыми взаимодействует мобильное приложение. Она надеется, что из-за этого количество обращений в техподдержку значимо снизилось. Некоторый файл содержит для каждого пользователя данные о количестве обращений до обновления и после него. Какой тест вам понадобился бы для проверки этой гипотезы?  \n",
    "Две зависимые (парные) выборки, т.к. файл содержит данные для те же пользователей.  \n",
    "st.ttest_rel(before, after, alternative='greater')  \n",
    "Альтернативная гипотеза: количество обращений в техподдержку увеличилось.  "
   ]
  }
 ],
 "metadata": {
  "ExecuteTimeLog": [
   {
    "duration": 253,
    "start_time": "2024-04-14T11:36:46.524Z"
   },
   {
    "duration": 373,
    "start_time": "2024-04-14T11:37:08.787Z"
   },
   {
    "duration": 424,
    "start_time": "2024-04-14T11:37:09.162Z"
   },
   {
    "duration": 3,
    "start_time": "2024-04-14T11:37:09.588Z"
   },
   {
    "duration": 14,
    "start_time": "2024-04-14T11:37:09.593Z"
   },
   {
    "duration": 407,
    "start_time": "2024-04-14T11:42:57.438Z"
   },
   {
    "duration": 241,
    "start_time": "2024-04-14T11:42:57.847Z"
   },
   {
    "duration": 2,
    "start_time": "2024-04-14T11:42:58.090Z"
   },
   {
    "duration": 4,
    "start_time": "2024-04-14T11:42:58.094Z"
   },
   {
    "duration": 73,
    "start_time": "2024-04-14T11:44:55.797Z"
   },
   {
    "duration": 29,
    "start_time": "2024-04-14T11:45:44.563Z"
   },
   {
    "duration": 85,
    "start_time": "2024-04-14T11:45:45.049Z"
   },
   {
    "duration": 59,
    "start_time": "2024-04-14T11:45:45.505Z"
   },
   {
    "duration": 442,
    "start_time": "2024-04-14T11:49:44.039Z"
   },
   {
    "duration": 246,
    "start_time": "2024-04-14T11:49:44.483Z"
   },
   {
    "duration": 2,
    "start_time": "2024-04-14T11:49:44.731Z"
   },
   {
    "duration": 6,
    "start_time": "2024-04-14T11:49:44.735Z"
   },
   {
    "duration": 34,
    "start_time": "2024-04-14T11:49:44.743Z"
   },
   {
    "duration": 36,
    "start_time": "2024-04-14T11:49:44.778Z"
   },
   {
    "duration": 15,
    "start_time": "2024-04-14T11:49:44.816Z"
   },
   {
    "duration": 10,
    "start_time": "2024-04-14T11:49:44.833Z"
   },
   {
    "duration": 19,
    "start_time": "2024-04-14T11:49:44.846Z"
   },
   {
    "duration": 28,
    "start_time": "2024-04-14T11:49:44.867Z"
   },
   {
    "duration": 29,
    "start_time": "2024-04-14T11:51:50.693Z"
   },
   {
    "duration": 7,
    "start_time": "2024-04-14T11:51:53.251Z"
   },
   {
    "duration": 147,
    "start_time": "2024-04-14T11:52:01.993Z"
   },
   {
    "duration": 59,
    "start_time": "2024-04-14T11:52:09.843Z"
   },
   {
    "duration": 7,
    "start_time": "2024-04-14T11:52:13.732Z"
   },
   {
    "duration": 50,
    "start_time": "2024-04-14T11:53:26.316Z"
   },
   {
    "duration": 9,
    "start_time": "2024-04-14T11:53:29.063Z"
   },
   {
    "duration": 49,
    "start_time": "2024-04-14T11:53:42.712Z"
   },
   {
    "duration": 7,
    "start_time": "2024-04-14T11:53:44.427Z"
   },
   {
    "duration": 80,
    "start_time": "2024-04-14T11:54:17.464Z"
   },
   {
    "duration": 404,
    "start_time": "2024-04-14T11:54:28.156Z"
   },
   {
    "duration": 246,
    "start_time": "2024-04-14T11:54:28.562Z"
   },
   {
    "duration": 3,
    "start_time": "2024-04-14T11:54:28.810Z"
   },
   {
    "duration": 7,
    "start_time": "2024-04-14T11:54:28.814Z"
   },
   {
    "duration": 33,
    "start_time": "2024-04-14T11:54:28.829Z"
   },
   {
    "duration": 32,
    "start_time": "2024-04-14T11:54:28.863Z"
   },
   {
    "duration": 15,
    "start_time": "2024-04-14T11:54:28.896Z"
   },
   {
    "duration": 10,
    "start_time": "2024-04-14T11:54:28.913Z"
   },
   {
    "duration": 7,
    "start_time": "2024-04-14T11:54:28.924Z"
   },
   {
    "duration": 9,
    "start_time": "2024-04-14T11:54:28.933Z"
   },
   {
    "duration": 28,
    "start_time": "2024-04-14T11:55:17.470Z"
   },
   {
    "duration": 10,
    "start_time": "2024-04-14T11:55:20.238Z"
   },
   {
    "duration": 40,
    "start_time": "2024-04-14T11:55:29.748Z"
   },
   {
    "duration": 25,
    "start_time": "2024-04-14T11:55:34.202Z"
   },
   {
    "duration": 9,
    "start_time": "2024-04-14T11:55:37.451Z"
   },
   {
    "duration": 10,
    "start_time": "2024-04-14T11:55:40.196Z"
   },
   {
    "duration": 7,
    "start_time": "2024-04-14T11:55:44.266Z"
   },
   {
    "duration": 8,
    "start_time": "2024-04-14T11:55:59.205Z"
   },
   {
    "duration": 11,
    "start_time": "2024-04-14T11:57:13.870Z"
   },
   {
    "duration": 12,
    "start_time": "2024-04-14T11:57:55.767Z"
   },
   {
    "duration": 11,
    "start_time": "2024-04-14T11:58:15.044Z"
   },
   {
    "duration": 16,
    "start_time": "2024-04-14T12:08:48.921Z"
   },
   {
    "duration": 20,
    "start_time": "2024-04-14T12:09:25.376Z"
   },
   {
    "duration": 18,
    "start_time": "2024-04-14T12:09:48.370Z"
   },
   {
    "duration": 512,
    "start_time": "2024-04-14T12:12:13.766Z"
   },
   {
    "duration": 491,
    "start_time": "2024-04-14T12:12:29.224Z"
   },
   {
    "duration": 572,
    "start_time": "2024-04-14T12:21:12.626Z"
   },
   {
    "duration": 396,
    "start_time": "2024-04-14T12:23:35.434Z"
   },
   {
    "duration": 369,
    "start_time": "2024-04-14T12:24:00.822Z"
   },
   {
    "duration": 78,
    "start_time": "2024-04-14T12:25:37.488Z"
   },
   {
    "duration": 8,
    "start_time": "2024-04-14T12:25:47.555Z"
   },
   {
    "duration": 288,
    "start_time": "2024-04-14T12:30:26.170Z"
   },
   {
    "duration": 65,
    "start_time": "2024-04-14T12:39:32.960Z"
   },
   {
    "duration": 157,
    "start_time": "2024-04-14T12:39:40.353Z"
   },
   {
    "duration": 417,
    "start_time": "2024-04-14T12:39:56.926Z"
   },
   {
    "duration": 259,
    "start_time": "2024-04-14T12:39:57.347Z"
   },
   {
    "duration": 2,
    "start_time": "2024-04-14T12:39:57.608Z"
   },
   {
    "duration": 18,
    "start_time": "2024-04-14T12:39:57.612Z"
   },
   {
    "duration": 39,
    "start_time": "2024-04-14T12:39:57.632Z"
   },
   {
    "duration": 30,
    "start_time": "2024-04-14T12:39:57.672Z"
   },
   {
    "duration": 15,
    "start_time": "2024-04-14T12:39:57.704Z"
   },
   {
    "duration": 14,
    "start_time": "2024-04-14T12:39:57.720Z"
   },
   {
    "duration": 23,
    "start_time": "2024-04-14T12:39:57.735Z"
   },
   {
    "duration": 26,
    "start_time": "2024-04-14T12:39:57.760Z"
   },
   {
    "duration": 21,
    "start_time": "2024-04-14T12:39:57.787Z"
   },
   {
    "duration": 28,
    "start_time": "2024-04-14T12:39:57.810Z"
   },
   {
    "duration": 13,
    "start_time": "2024-04-14T12:39:57.840Z"
   },
   {
    "duration": 22,
    "start_time": "2024-04-14T12:39:57.856Z"
   },
   {
    "duration": 62,
    "start_time": "2024-04-14T12:39:57.880Z"
   },
   {
    "duration": 23,
    "start_time": "2024-04-14T12:39:57.945Z"
   },
   {
    "duration": 283,
    "start_time": "2024-04-14T12:39:57.970Z"
   },
   {
    "duration": 396,
    "start_time": "2024-04-14T12:40:52.653Z"
   },
   {
    "duration": 435,
    "start_time": "2024-04-14T12:41:06.653Z"
   },
   {
    "duration": 421,
    "start_time": "2024-04-14T12:41:33.627Z"
   },
   {
    "duration": 401,
    "start_time": "2024-04-14T12:42:01.621Z"
   },
   {
    "duration": 442,
    "start_time": "2024-04-14T12:42:53.757Z"
   },
   {
    "duration": 9,
    "start_time": "2024-04-14T12:44:27.992Z"
   },
   {
    "duration": 8,
    "start_time": "2024-04-14T12:44:38.963Z"
   },
   {
    "duration": 8,
    "start_time": "2024-04-14T12:44:46.938Z"
   },
   {
    "duration": 8,
    "start_time": "2024-04-14T12:47:42.677Z"
   },
   {
    "duration": 9,
    "start_time": "2024-04-14T12:49:33.571Z"
   },
   {
    "duration": 6,
    "start_time": "2024-04-14T12:49:47.056Z"
   },
   {
    "duration": 471,
    "start_time": "2024-04-14T12:57:21.613Z"
   },
   {
    "duration": 259,
    "start_time": "2024-04-14T12:57:22.086Z"
   },
   {
    "duration": 3,
    "start_time": "2024-04-14T12:57:22.347Z"
   },
   {
    "duration": 17,
    "start_time": "2024-04-14T12:57:22.351Z"
   },
   {
    "duration": 36,
    "start_time": "2024-04-14T12:57:22.370Z"
   },
   {
    "duration": 44,
    "start_time": "2024-04-14T12:57:22.407Z"
   },
   {
    "duration": 16,
    "start_time": "2024-04-14T12:57:22.452Z"
   },
   {
    "duration": 23,
    "start_time": "2024-04-14T12:57:22.469Z"
   },
   {
    "duration": 26,
    "start_time": "2024-04-14T12:57:22.493Z"
   },
   {
    "duration": 21,
    "start_time": "2024-04-14T12:57:22.521Z"
   },
   {
    "duration": 40,
    "start_time": "2024-04-14T12:57:22.545Z"
   },
   {
    "duration": 31,
    "start_time": "2024-04-14T12:57:22.587Z"
   },
   {
    "duration": 16,
    "start_time": "2024-04-14T12:57:22.619Z"
   },
   {
    "duration": 63,
    "start_time": "2024-04-14T12:57:22.644Z"
   },
   {
    "duration": 41,
    "start_time": "2024-04-14T12:57:22.709Z"
   },
   {
    "duration": 27,
    "start_time": "2024-04-14T12:57:22.752Z"
   },
   {
    "duration": 32,
    "start_time": "2024-04-14T12:57:22.781Z"
   },
   {
    "duration": 44,
    "start_time": "2024-04-14T12:57:22.814Z"
   },
   {
    "duration": 31,
    "start_time": "2024-04-14T12:57:22.860Z"
   },
   {
    "duration": 353,
    "start_time": "2024-04-14T12:57:22.893Z"
   },
   {
    "duration": 439,
    "start_time": "2024-04-14T12:57:23.249Z"
   },
   {
    "duration": 467,
    "start_time": "2024-04-14T12:57:23.690Z"
   },
   {
    "duration": 8,
    "start_time": "2024-04-14T13:28:31.980Z"
   },
   {
    "duration": 5,
    "start_time": "2024-04-14T13:41:21.540Z"
   },
   {
    "duration": 4,
    "start_time": "2024-04-14T13:42:20.838Z"
   },
   {
    "duration": 3,
    "start_time": "2024-04-14T13:50:29.252Z"
   },
   {
    "duration": 4,
    "start_time": "2024-04-14T13:54:47.145Z"
   },
   {
    "duration": 14,
    "start_time": "2024-04-14T13:54:48.662Z"
   },
   {
    "duration": 6,
    "start_time": "2024-04-14T13:58:27.249Z"
   },
   {
    "duration": 12,
    "start_time": "2024-04-14T13:59:19.694Z"
   },
   {
    "duration": 7,
    "start_time": "2024-04-14T14:05:05.375Z"
   },
   {
    "duration": 6,
    "start_time": "2024-04-14T14:05:28.945Z"
   },
   {
    "duration": 6,
    "start_time": "2024-04-14T14:05:43.134Z"
   },
   {
    "duration": 6,
    "start_time": "2024-04-14T14:12:23.876Z"
   },
   {
    "duration": 9,
    "start_time": "2024-04-14T14:15:31.209Z"
   },
   {
    "duration": 11,
    "start_time": "2024-04-14T14:15:51.222Z"
   },
   {
    "duration": 10,
    "start_time": "2024-04-14T14:16:07.248Z"
   },
   {
    "duration": 5,
    "start_time": "2024-04-14T14:19:19.170Z"
   },
   {
    "duration": 4,
    "start_time": "2024-04-14T14:19:37.911Z"
   },
   {
    "duration": 405,
    "start_time": "2024-04-14T14:20:03.957Z"
   },
   {
    "duration": 258,
    "start_time": "2024-04-14T14:20:04.364Z"
   },
   {
    "duration": 5,
    "start_time": "2024-04-14T14:20:04.624Z"
   },
   {
    "duration": 18,
    "start_time": "2024-04-14T14:20:04.630Z"
   },
   {
    "duration": 42,
    "start_time": "2024-04-14T14:20:04.649Z"
   },
   {
    "duration": 30,
    "start_time": "2024-04-14T14:20:04.693Z"
   },
   {
    "duration": 15,
    "start_time": "2024-04-14T14:20:04.725Z"
   },
   {
    "duration": 13,
    "start_time": "2024-04-14T14:20:04.742Z"
   },
   {
    "duration": 11,
    "start_time": "2024-04-14T14:20:04.756Z"
   },
   {
    "duration": 12,
    "start_time": "2024-04-14T14:20:04.770Z"
   },
   {
    "duration": 15,
    "start_time": "2024-04-14T14:20:04.784Z"
   },
   {
    "duration": 35,
    "start_time": "2024-04-14T14:20:04.801Z"
   },
   {
    "duration": 18,
    "start_time": "2024-04-14T14:20:04.838Z"
   },
   {
    "duration": 18,
    "start_time": "2024-04-14T14:20:04.857Z"
   },
   {
    "duration": 15,
    "start_time": "2024-04-14T14:20:04.877Z"
   },
   {
    "duration": 5,
    "start_time": "2024-04-14T14:20:04.894Z"
   },
   {
    "duration": 39,
    "start_time": "2024-04-14T14:20:04.900Z"
   },
   {
    "duration": 19,
    "start_time": "2024-04-14T14:20:04.941Z"
   },
   {
    "duration": 16,
    "start_time": "2024-04-14T14:20:04.962Z"
   },
   {
    "duration": 347,
    "start_time": "2024-04-14T14:20:04.980Z"
   },
   {
    "duration": 440,
    "start_time": "2024-04-14T14:20:05.328Z"
   },
   {
    "duration": 443,
    "start_time": "2024-04-14T14:20:05.769Z"
   },
   {
    "duration": 4,
    "start_time": "2024-04-14T14:20:06.214Z"
   },
   {
    "duration": 14,
    "start_time": "2024-04-14T14:20:06.228Z"
   },
   {
    "duration": 7,
    "start_time": "2024-04-14T14:20:06.244Z"
   },
   {
    "duration": 5,
    "start_time": "2024-04-14T14:20:06.253Z"
   },
   {
    "duration": 7,
    "start_time": "2024-04-14T14:20:06.260Z"
   },
   {
    "duration": 12,
    "start_time": "2024-04-14T14:20:06.270Z"
   },
   {
    "duration": 6,
    "start_time": "2024-04-14T14:20:06.283Z"
   },
   {
    "duration": 10,
    "start_time": "2024-04-14T14:20:06.291Z"
   },
   {
    "duration": 13,
    "start_time": "2024-04-14T14:20:06.328Z"
   },
   {
    "duration": 7,
    "start_time": "2024-04-14T14:20:06.342Z"
   },
   {
    "duration": 6,
    "start_time": "2024-04-14T14:20:06.350Z"
   },
   {
    "duration": 6,
    "start_time": "2024-04-14T14:20:06.357Z"
   },
   {
    "duration": 6,
    "start_time": "2024-04-14T14:20:06.364Z"
   },
   {
    "duration": 68,
    "start_time": "2024-04-14T14:20:06.372Z"
   },
   {
    "duration": 9,
    "start_time": "2024-04-14T14:20:26.585Z"
   },
   {
    "duration": 10,
    "start_time": "2024-04-14T14:20:34.095Z"
   },
   {
    "duration": 8,
    "start_time": "2024-04-14T14:20:37.208Z"
   },
   {
    "duration": 175,
    "start_time": "2024-04-14T14:20:47.542Z"
   },
   {
    "duration": 590,
    "start_time": "2024-04-14T14:20:59.333Z"
   },
   {
    "duration": 378,
    "start_time": "2024-04-14T14:21:06.784Z"
   },
   {
    "duration": 118,
    "start_time": "2024-04-14T14:38:16.496Z"
   },
   {
    "duration": 120,
    "start_time": "2024-04-14T14:38:46.382Z"
   },
   {
    "duration": 137,
    "start_time": "2024-04-14T14:40:43.936Z"
   },
   {
    "duration": 10,
    "start_time": "2024-04-14T14:47:03.522Z"
   },
   {
    "duration": 10,
    "start_time": "2024-04-14T14:47:10.005Z"
   },
   {
    "duration": 10,
    "start_time": "2024-04-14T14:47:12.476Z"
   },
   {
    "duration": 22,
    "start_time": "2024-04-14T16:46:50.542Z"
   },
   {
    "duration": 348,
    "start_time": "2024-04-15T10:08:15.711Z"
   },
   {
    "duration": 394,
    "start_time": "2024-04-15T10:08:16.060Z"
   },
   {
    "duration": 3,
    "start_time": "2024-04-15T10:08:16.458Z"
   },
   {
    "duration": 4,
    "start_time": "2024-04-15T10:08:16.463Z"
   },
   {
    "duration": 99,
    "start_time": "2024-04-15T10:08:16.469Z"
   },
   {
    "duration": 130,
    "start_time": "2024-04-15T10:08:16.569Z"
   },
   {
    "duration": 65,
    "start_time": "2024-04-15T10:08:16.701Z"
   },
   {
    "duration": 13,
    "start_time": "2024-04-15T10:08:16.767Z"
   },
   {
    "duration": 12,
    "start_time": "2024-04-15T10:08:16.781Z"
   },
   {
    "duration": 13,
    "start_time": "2024-04-15T10:08:16.795Z"
   },
   {
    "duration": 17,
    "start_time": "2024-04-15T10:08:16.810Z"
   },
   {
    "duration": 12,
    "start_time": "2024-04-15T10:08:16.828Z"
   },
   {
    "duration": 17,
    "start_time": "2024-04-15T10:08:16.842Z"
   },
   {
    "duration": 8,
    "start_time": "2024-04-15T10:08:16.861Z"
   },
   {
    "duration": 18,
    "start_time": "2024-04-15T10:08:16.871Z"
   },
   {
    "duration": 5,
    "start_time": "2024-04-15T10:08:16.890Z"
   },
   {
    "duration": 16,
    "start_time": "2024-04-15T10:08:16.897Z"
   },
   {
    "duration": 19,
    "start_time": "2024-04-15T10:08:16.914Z"
   },
   {
    "duration": 37,
    "start_time": "2024-04-15T10:08:16.934Z"
   },
   {
    "duration": 291,
    "start_time": "2024-04-15T10:08:16.973Z"
   },
   {
    "duration": 373,
    "start_time": "2024-04-15T10:08:17.265Z"
   },
   {
    "duration": 417,
    "start_time": "2024-04-15T10:08:17.639Z"
   },
   {
    "duration": 4,
    "start_time": "2024-04-15T10:08:18.059Z"
   },
   {
    "duration": 24,
    "start_time": "2024-04-15T10:08:18.064Z"
   },
   {
    "duration": 27,
    "start_time": "2024-04-15T10:08:18.090Z"
   },
   {
    "duration": 22,
    "start_time": "2024-04-15T10:08:18.118Z"
   },
   {
    "duration": 28,
    "start_time": "2024-04-15T10:08:18.142Z"
   },
   {
    "duration": 13,
    "start_time": "2024-04-15T10:08:18.173Z"
   },
   {
    "duration": 9,
    "start_time": "2024-04-15T10:08:18.187Z"
   },
   {
    "duration": 9,
    "start_time": "2024-04-15T10:08:18.198Z"
   },
   {
    "duration": 15,
    "start_time": "2024-04-15T10:08:18.208Z"
   },
   {
    "duration": 5,
    "start_time": "2024-04-15T10:08:18.224Z"
   },
   {
    "duration": 8,
    "start_time": "2024-04-15T10:08:18.230Z"
   },
   {
    "duration": 5,
    "start_time": "2024-04-15T10:08:18.240Z"
   },
   {
    "duration": 5,
    "start_time": "2024-04-15T10:08:18.247Z"
   },
   {
    "duration": 82,
    "start_time": "2024-04-15T10:08:18.258Z"
   },
   {
    "duration": 0,
    "start_time": "2024-04-15T10:08:18.341Z"
   },
   {
    "duration": 0,
    "start_time": "2024-04-15T10:08:18.342Z"
   },
   {
    "duration": 0,
    "start_time": "2024-04-15T10:08:18.343Z"
   },
   {
    "duration": 0,
    "start_time": "2024-04-15T10:08:18.344Z"
   },
   {
    "duration": 0,
    "start_time": "2024-04-15T10:08:18.345Z"
   },
   {
    "duration": 0,
    "start_time": "2024-04-15T10:08:18.346Z"
   },
   {
    "duration": 419,
    "start_time": "2024-04-15T10:08:56.136Z"
   },
   {
    "duration": 274,
    "start_time": "2024-04-15T10:08:56.557Z"
   },
   {
    "duration": 2,
    "start_time": "2024-04-15T10:08:56.833Z"
   },
   {
    "duration": 11,
    "start_time": "2024-04-15T10:08:56.837Z"
   },
   {
    "duration": 31,
    "start_time": "2024-04-15T10:08:56.850Z"
   },
   {
    "duration": 27,
    "start_time": "2024-04-15T10:08:56.882Z"
   },
   {
    "duration": 14,
    "start_time": "2024-04-15T10:08:56.910Z"
   },
   {
    "duration": 11,
    "start_time": "2024-04-15T10:08:56.925Z"
   },
   {
    "duration": 7,
    "start_time": "2024-04-15T10:08:56.938Z"
   },
   {
    "duration": 12,
    "start_time": "2024-04-15T10:08:56.947Z"
   },
   {
    "duration": 10,
    "start_time": "2024-04-15T10:08:56.961Z"
   },
   {
    "duration": 12,
    "start_time": "2024-04-15T10:08:56.973Z"
   },
   {
    "duration": 9,
    "start_time": "2024-04-15T10:08:56.986Z"
   },
   {
    "duration": 10,
    "start_time": "2024-04-15T10:08:56.998Z"
   },
   {
    "duration": 8,
    "start_time": "2024-04-15T10:08:57.010Z"
   },
   {
    "duration": 4,
    "start_time": "2024-04-15T10:08:57.019Z"
   },
   {
    "duration": 37,
    "start_time": "2024-04-15T10:08:57.024Z"
   },
   {
    "duration": 17,
    "start_time": "2024-04-15T10:08:57.062Z"
   },
   {
    "duration": 15,
    "start_time": "2024-04-15T10:08:57.081Z"
   },
   {
    "duration": 313,
    "start_time": "2024-04-15T10:08:57.098Z"
   },
   {
    "duration": 365,
    "start_time": "2024-04-15T10:08:57.413Z"
   },
   {
    "duration": 381,
    "start_time": "2024-04-15T10:08:57.779Z"
   },
   {
    "duration": 4,
    "start_time": "2024-04-15T10:08:58.162Z"
   },
   {
    "duration": 14,
    "start_time": "2024-04-15T10:08:58.167Z"
   },
   {
    "duration": 3,
    "start_time": "2024-04-15T10:08:58.182Z"
   },
   {
    "duration": 5,
    "start_time": "2024-04-15T10:08:58.187Z"
   },
   {
    "duration": 7,
    "start_time": "2024-04-15T10:08:58.193Z"
   },
   {
    "duration": 7,
    "start_time": "2024-04-15T10:08:58.201Z"
   },
   {
    "duration": 5,
    "start_time": "2024-04-15T10:08:58.209Z"
   },
   {
    "duration": 9,
    "start_time": "2024-04-15T10:08:58.215Z"
   },
   {
    "duration": 11,
    "start_time": "2024-04-15T10:08:58.225Z"
   },
   {
    "duration": 5,
    "start_time": "2024-04-15T10:08:58.259Z"
   },
   {
    "duration": 15,
    "start_time": "2024-04-15T10:08:58.265Z"
   },
   {
    "duration": 27,
    "start_time": "2024-04-15T10:08:58.281Z"
   },
   {
    "duration": 5,
    "start_time": "2024-04-15T10:08:58.310Z"
   },
   {
    "duration": 114,
    "start_time": "2024-04-15T10:08:58.316Z"
   },
   {
    "duration": 103,
    "start_time": "2024-04-15T10:08:58.431Z"
   },
   {
    "duration": 8,
    "start_time": "2024-04-15T10:08:58.535Z"
   },
   {
    "duration": 15,
    "start_time": "2024-04-15T10:08:58.544Z"
   },
   {
    "duration": 6,
    "start_time": "2024-04-15T10:08:58.561Z"
   },
   {
    "duration": 68,
    "start_time": "2024-04-15T10:08:58.570Z"
   },
   {
    "duration": 155,
    "start_time": "2024-04-15T10:20:13.573Z"
   },
   {
    "duration": 282,
    "start_time": "2024-04-15T10:21:07.686Z"
   },
   {
    "duration": 93,
    "start_time": "2024-04-15T10:21:52.226Z"
   },
   {
    "duration": 157,
    "start_time": "2024-04-15T10:22:09.214Z"
   },
   {
    "duration": 158,
    "start_time": "2024-04-15T10:22:59.804Z"
   },
   {
    "duration": 194,
    "start_time": "2024-04-15T10:23:06.860Z"
   },
   {
    "duration": 111,
    "start_time": "2024-04-15T10:23:15.129Z"
   },
   {
    "duration": 229,
    "start_time": "2024-04-15T10:23:26.877Z"
   },
   {
    "duration": 154,
    "start_time": "2024-04-15T10:25:03.523Z"
   },
   {
    "duration": 166,
    "start_time": "2024-04-15T10:26:13.536Z"
   },
   {
    "duration": 177,
    "start_time": "2024-04-15T10:27:14.575Z"
   },
   {
    "duration": 164,
    "start_time": "2024-04-15T10:29:13.478Z"
   },
   {
    "duration": 160,
    "start_time": "2024-04-15T10:29:43.752Z"
   },
   {
    "duration": 9,
    "start_time": "2024-04-15T10:30:14.826Z"
   },
   {
    "duration": 157,
    "start_time": "2024-04-15T10:32:06.991Z"
   },
   {
    "duration": 144,
    "start_time": "2024-04-15T10:33:02.678Z"
   },
   {
    "duration": 150,
    "start_time": "2024-04-15T10:33:22.196Z"
   },
   {
    "duration": 168,
    "start_time": "2024-04-15T10:34:39.575Z"
   },
   {
    "duration": 161,
    "start_time": "2024-04-15T10:34:48.698Z"
   },
   {
    "duration": 229,
    "start_time": "2024-04-15T10:35:03.982Z"
   },
   {
    "duration": 149,
    "start_time": "2024-04-15T10:35:24.495Z"
   },
   {
    "duration": 166,
    "start_time": "2024-04-15T10:35:38.694Z"
   },
   {
    "duration": 158,
    "start_time": "2024-04-15T10:36:00.878Z"
   },
   {
    "duration": 161,
    "start_time": "2024-04-15T10:37:04.140Z"
   },
   {
    "duration": 10,
    "start_time": "2024-04-15T10:37:55.856Z"
   },
   {
    "duration": 163,
    "start_time": "2024-04-15T10:38:21.302Z"
   },
   {
    "duration": 158,
    "start_time": "2024-04-15T10:38:35.894Z"
   },
   {
    "duration": 159,
    "start_time": "2024-04-15T10:39:20.861Z"
   },
   {
    "duration": 154,
    "start_time": "2024-04-15T10:40:08.370Z"
   },
   {
    "duration": 181,
    "start_time": "2024-04-15T10:41:25.860Z"
   },
   {
    "duration": 171,
    "start_time": "2024-04-15T10:42:00.834Z"
   },
   {
    "duration": 254,
    "start_time": "2024-04-15T10:42:45.000Z"
   },
   {
    "duration": 173,
    "start_time": "2024-04-15T10:44:10.528Z"
   },
   {
    "duration": 398,
    "start_time": "2024-04-15T10:44:32.650Z"
   },
   {
    "duration": 271,
    "start_time": "2024-04-15T10:44:33.050Z"
   },
   {
    "duration": 2,
    "start_time": "2024-04-15T10:44:33.322Z"
   },
   {
    "duration": 12,
    "start_time": "2024-04-15T10:44:33.326Z"
   },
   {
    "duration": 33,
    "start_time": "2024-04-15T10:44:33.340Z"
   },
   {
    "duration": 27,
    "start_time": "2024-04-15T10:44:33.375Z"
   },
   {
    "duration": 14,
    "start_time": "2024-04-15T10:44:33.404Z"
   },
   {
    "duration": 11,
    "start_time": "2024-04-15T10:44:33.419Z"
   },
   {
    "duration": 9,
    "start_time": "2024-04-15T10:44:33.431Z"
   },
   {
    "duration": 7,
    "start_time": "2024-04-15T10:44:33.441Z"
   },
   {
    "duration": 14,
    "start_time": "2024-04-15T10:44:33.449Z"
   },
   {
    "duration": 11,
    "start_time": "2024-04-15T10:44:33.464Z"
   },
   {
    "duration": 9,
    "start_time": "2024-04-15T10:44:33.477Z"
   },
   {
    "duration": 9,
    "start_time": "2024-04-15T10:44:33.489Z"
   },
   {
    "duration": 10,
    "start_time": "2024-04-15T10:44:33.500Z"
   },
   {
    "duration": 25,
    "start_time": "2024-04-15T10:44:33.511Z"
   },
   {
    "duration": 42,
    "start_time": "2024-04-15T10:44:33.537Z"
   },
   {
    "duration": 28,
    "start_time": "2024-04-15T10:44:33.581Z"
   },
   {
    "duration": 20,
    "start_time": "2024-04-15T10:44:33.610Z"
   },
   {
    "duration": 283,
    "start_time": "2024-04-15T10:44:33.632Z"
   },
   {
    "duration": 335,
    "start_time": "2024-04-15T10:44:33.916Z"
   },
   {
    "duration": 378,
    "start_time": "2024-04-15T10:44:34.253Z"
   },
   {
    "duration": 5,
    "start_time": "2024-04-15T10:44:34.632Z"
   },
   {
    "duration": 35,
    "start_time": "2024-04-15T10:44:34.638Z"
   },
   {
    "duration": 5,
    "start_time": "2024-04-15T10:44:34.675Z"
   },
   {
    "duration": 8,
    "start_time": "2024-04-15T10:44:34.681Z"
   },
   {
    "duration": 10,
    "start_time": "2024-04-15T10:44:34.692Z"
   },
   {
    "duration": 11,
    "start_time": "2024-04-15T10:44:34.703Z"
   },
   {
    "duration": 15,
    "start_time": "2024-04-15T10:44:34.716Z"
   },
   {
    "duration": 17,
    "start_time": "2024-04-15T10:44:34.733Z"
   },
   {
    "duration": 10,
    "start_time": "2024-04-15T10:44:34.752Z"
   },
   {
    "duration": 6,
    "start_time": "2024-04-15T10:44:34.763Z"
   },
   {
    "duration": 6,
    "start_time": "2024-04-15T10:44:34.771Z"
   },
   {
    "duration": 17,
    "start_time": "2024-04-15T10:44:34.778Z"
   },
   {
    "duration": 9,
    "start_time": "2024-04-15T10:44:34.796Z"
   },
   {
    "duration": 116,
    "start_time": "2024-04-15T10:44:34.807Z"
   },
   {
    "duration": 107,
    "start_time": "2024-04-15T10:44:34.925Z"
   },
   {
    "duration": 9,
    "start_time": "2024-04-15T10:44:35.033Z"
   },
   {
    "duration": 23,
    "start_time": "2024-04-15T10:44:35.043Z"
   },
   {
    "duration": 21,
    "start_time": "2024-04-15T10:44:35.068Z"
   },
   {
    "duration": 229,
    "start_time": "2024-04-15T10:44:35.094Z"
   },
   {
    "duration": 153,
    "start_time": "2024-04-15T10:44:48.586Z"
   },
   {
    "duration": 151,
    "start_time": "2024-04-15T10:44:58.015Z"
   },
   {
    "duration": 159,
    "start_time": "2024-04-15T10:47:07.481Z"
   },
   {
    "duration": 149,
    "start_time": "2024-04-15T10:47:17.584Z"
   },
   {
    "duration": 153,
    "start_time": "2024-04-15T10:50:23.976Z"
   },
   {
    "duration": 162,
    "start_time": "2024-04-15T10:51:13.734Z"
   },
   {
    "duration": 226,
    "start_time": "2024-04-15T10:51:31.961Z"
   },
   {
    "duration": 155,
    "start_time": "2024-04-15T10:51:48.786Z"
   },
   {
    "duration": 158,
    "start_time": "2024-04-15T10:52:05.261Z"
   },
   {
    "duration": 157,
    "start_time": "2024-04-15T10:52:11.313Z"
   },
   {
    "duration": 158,
    "start_time": "2024-04-15T10:52:29.627Z"
   },
   {
    "duration": 147,
    "start_time": "2024-04-15T10:53:44.215Z"
   },
   {
    "duration": 148,
    "start_time": "2024-04-15T10:53:49.582Z"
   },
   {
    "duration": 161,
    "start_time": "2024-04-15T10:53:57.569Z"
   },
   {
    "duration": 151,
    "start_time": "2024-04-15T10:54:48.499Z"
   },
   {
    "duration": 154,
    "start_time": "2024-04-15T10:56:17.239Z"
   },
   {
    "duration": 168,
    "start_time": "2024-04-15T11:00:21.648Z"
   },
   {
    "duration": 226,
    "start_time": "2024-04-15T11:00:32.887Z"
   },
   {
    "duration": 180,
    "start_time": "2024-04-15T11:00:48.446Z"
   },
   {
    "duration": 169,
    "start_time": "2024-04-15T11:01:02.856Z"
   },
   {
    "duration": 184,
    "start_time": "2024-04-15T11:01:37.001Z"
   },
   {
    "duration": 152,
    "start_time": "2024-04-15T11:02:03.338Z"
   },
   {
    "duration": 162,
    "start_time": "2024-04-15T11:02:26.616Z"
   },
   {
    "duration": 166,
    "start_time": "2024-04-15T11:03:03.314Z"
   },
   {
    "duration": 151,
    "start_time": "2024-04-15T11:05:34.438Z"
   },
   {
    "duration": 144,
    "start_time": "2024-04-15T11:09:59.805Z"
   },
   {
    "duration": 166,
    "start_time": "2024-04-15T11:10:42.779Z"
   },
   {
    "duration": 155,
    "start_time": "2024-04-15T11:11:39.144Z"
   },
   {
    "duration": 239,
    "start_time": "2024-04-15T11:23:59.264Z"
   },
   {
    "duration": 163,
    "start_time": "2024-04-15T11:24:18.884Z"
   },
   {
    "duration": 164,
    "start_time": "2024-04-15T11:24:40.563Z"
   },
   {
    "duration": 175,
    "start_time": "2024-04-15T11:25:11.878Z"
   },
   {
    "duration": 154,
    "start_time": "2024-04-15T11:25:33.173Z"
   },
   {
    "duration": 150,
    "start_time": "2024-04-15T11:26:40.671Z"
   },
   {
    "duration": 159,
    "start_time": "2024-04-15T11:27:59.296Z"
   },
   {
    "duration": 167,
    "start_time": "2024-04-15T11:28:31.529Z"
   },
   {
    "duration": 168,
    "start_time": "2024-04-15T11:29:36.645Z"
   },
   {
    "duration": 178,
    "start_time": "2024-04-15T11:29:43.777Z"
   },
   {
    "duration": 161,
    "start_time": "2024-04-15T11:32:03.751Z"
   },
   {
    "duration": 224,
    "start_time": "2024-04-15T11:32:32.170Z"
   },
   {
    "duration": 12,
    "start_time": "2024-04-15T11:32:43.003Z"
   },
   {
    "duration": 163,
    "start_time": "2024-04-15T11:33:40.693Z"
   },
   {
    "duration": 166,
    "start_time": "2024-04-15T11:34:20.026Z"
   },
   {
    "duration": 15,
    "start_time": "2024-04-15T11:35:18.798Z"
   },
   {
    "duration": 173,
    "start_time": "2024-04-15T11:35:23.599Z"
   },
   {
    "duration": 165,
    "start_time": "2024-04-15T11:36:07.441Z"
   },
   {
    "duration": 160,
    "start_time": "2024-04-15T11:36:21.357Z"
   },
   {
    "duration": 161,
    "start_time": "2024-04-15T11:36:44.532Z"
   },
   {
    "duration": 159,
    "start_time": "2024-04-15T11:37:13.612Z"
   },
   {
    "duration": 172,
    "start_time": "2024-04-15T11:37:47.533Z"
   },
   {
    "duration": 154,
    "start_time": "2024-04-15T11:38:18.323Z"
   },
   {
    "duration": 177,
    "start_time": "2024-04-15T11:38:27.393Z"
   },
   {
    "duration": 217,
    "start_time": "2024-04-15T11:38:46.347Z"
   },
   {
    "duration": 155,
    "start_time": "2024-04-15T11:39:17.342Z"
   },
   {
    "duration": 157,
    "start_time": "2024-04-15T11:39:26.522Z"
   },
   {
    "duration": 157,
    "start_time": "2024-04-15T11:39:35.900Z"
   },
   {
    "duration": 15,
    "start_time": "2024-04-15T11:40:43.544Z"
   },
   {
    "duration": 109,
    "start_time": "2024-04-15T11:41:12.902Z"
   },
   {
    "duration": 182,
    "start_time": "2024-04-15T11:41:23.465Z"
   },
   {
    "duration": 229,
    "start_time": "2024-04-15T11:41:48.767Z"
   },
   {
    "duration": 227,
    "start_time": "2024-04-15T11:42:01.356Z"
   },
   {
    "duration": 174,
    "start_time": "2024-04-15T11:42:07.755Z"
   },
   {
    "duration": 159,
    "start_time": "2024-04-15T11:42:57.882Z"
   },
   {
    "duration": 168,
    "start_time": "2024-04-15T11:43:12.636Z"
   },
   {
    "duration": 215,
    "start_time": "2024-04-15T11:43:22.439Z"
   },
   {
    "duration": 177,
    "start_time": "2024-04-15T11:45:07.454Z"
   },
   {
    "duration": 160,
    "start_time": "2024-04-15T11:46:50.630Z"
   },
   {
    "duration": 139,
    "start_time": "2024-04-15T11:54:39.969Z"
   },
   {
    "duration": 14,
    "start_time": "2024-04-15T11:55:18.187Z"
   },
   {
    "duration": 101,
    "start_time": "2024-04-15T11:55:29.747Z"
   },
   {
    "duration": 95,
    "start_time": "2024-04-15T11:56:36.292Z"
   },
   {
    "duration": 120,
    "start_time": "2024-04-15T11:57:13.721Z"
   },
   {
    "duration": 132,
    "start_time": "2024-04-15T11:58:22.515Z"
   },
   {
    "duration": 144,
    "start_time": "2024-04-15T11:59:03.455Z"
   },
   {
    "duration": 129,
    "start_time": "2024-04-15T11:59:41.298Z"
   },
   {
    "duration": 125,
    "start_time": "2024-04-15T12:01:53.105Z"
   },
   {
    "duration": 222,
    "start_time": "2024-04-15T12:06:36.464Z"
   },
   {
    "duration": 142,
    "start_time": "2024-04-15T12:12:45.992Z"
   },
   {
    "duration": 167,
    "start_time": "2024-04-15T12:13:02.744Z"
   },
   {
    "duration": 170,
    "start_time": "2024-04-15T12:13:24.907Z"
   },
   {
    "duration": 148,
    "start_time": "2024-04-15T12:13:42.603Z"
   },
   {
    "duration": 151,
    "start_time": "2024-04-15T12:13:50.378Z"
   },
   {
    "duration": 134,
    "start_time": "2024-04-15T12:14:23.871Z"
   },
   {
    "duration": 164,
    "start_time": "2024-04-15T12:15:45.783Z"
   },
   {
    "duration": 194,
    "start_time": "2024-04-15T12:16:51.899Z"
   },
   {
    "duration": 161,
    "start_time": "2024-04-15T12:17:12.071Z"
   },
   {
    "duration": 157,
    "start_time": "2024-04-15T12:17:26.481Z"
   },
   {
    "duration": 242,
    "start_time": "2024-04-15T12:21:30.993Z"
   },
   {
    "duration": 172,
    "start_time": "2024-04-15T12:21:44.964Z"
   },
   {
    "duration": 143,
    "start_time": "2024-04-15T12:22:22.401Z"
   },
   {
    "duration": 157,
    "start_time": "2024-04-15T12:22:32.541Z"
   },
   {
    "duration": 188,
    "start_time": "2024-04-15T12:23:14.417Z"
   },
   {
    "duration": 137,
    "start_time": "2024-04-15T12:23:32.717Z"
   },
   {
    "duration": 143,
    "start_time": "2024-04-15T12:23:49.925Z"
   },
   {
    "duration": 183,
    "start_time": "2024-04-15T12:25:03.281Z"
   },
   {
    "duration": 182,
    "start_time": "2024-04-15T12:25:16.793Z"
   },
   {
    "duration": 369,
    "start_time": "2024-04-15T12:25:56.637Z"
   },
   {
    "duration": 309,
    "start_time": "2024-04-15T12:26:06.611Z"
   },
   {
    "duration": 255,
    "start_time": "2024-04-15T12:26:19.804Z"
   },
   {
    "duration": 382,
    "start_time": "2024-04-15T12:26:50.420Z"
   },
   {
    "duration": 241,
    "start_time": "2024-04-15T12:26:50.803Z"
   },
   {
    "duration": 2,
    "start_time": "2024-04-15T12:26:51.045Z"
   },
   {
    "duration": 5,
    "start_time": "2024-04-15T12:26:51.048Z"
   },
   {
    "duration": 31,
    "start_time": "2024-04-15T12:26:51.054Z"
   },
   {
    "duration": 29,
    "start_time": "2024-04-15T12:26:51.086Z"
   },
   {
    "duration": 15,
    "start_time": "2024-04-15T12:26:51.117Z"
   },
   {
    "duration": 18,
    "start_time": "2024-04-15T12:26:51.133Z"
   },
   {
    "duration": 11,
    "start_time": "2024-04-15T12:26:51.153Z"
   },
   {
    "duration": 40,
    "start_time": "2024-04-15T12:26:51.166Z"
   },
   {
    "duration": 31,
    "start_time": "2024-04-15T12:26:51.207Z"
   },
   {
    "duration": 21,
    "start_time": "2024-04-15T12:26:51.240Z"
   },
   {
    "duration": 8,
    "start_time": "2024-04-15T12:26:51.263Z"
   },
   {
    "duration": 5,
    "start_time": "2024-04-15T12:26:51.273Z"
   },
   {
    "duration": 7,
    "start_time": "2024-04-15T12:26:51.280Z"
   },
   {
    "duration": 4,
    "start_time": "2024-04-15T12:26:51.288Z"
   },
   {
    "duration": 13,
    "start_time": "2024-04-15T12:26:51.293Z"
   },
   {
    "duration": 17,
    "start_time": "2024-04-15T12:26:51.307Z"
   },
   {
    "duration": 46,
    "start_time": "2024-04-15T12:26:51.325Z"
   },
   {
    "duration": 288,
    "start_time": "2024-04-15T12:26:51.373Z"
   },
   {
    "duration": 362,
    "start_time": "2024-04-15T12:26:51.663Z"
   },
   {
    "duration": 401,
    "start_time": "2024-04-15T12:26:52.027Z"
   },
   {
    "duration": 4,
    "start_time": "2024-04-15T12:26:52.430Z"
   },
   {
    "duration": 24,
    "start_time": "2024-04-15T12:26:52.436Z"
   },
   {
    "duration": 3,
    "start_time": "2024-04-15T12:26:52.461Z"
   },
   {
    "duration": 7,
    "start_time": "2024-04-15T12:26:52.466Z"
   },
   {
    "duration": 5,
    "start_time": "2024-04-15T12:26:52.474Z"
   },
   {
    "duration": 5,
    "start_time": "2024-04-15T12:26:52.480Z"
   },
   {
    "duration": 4,
    "start_time": "2024-04-15T12:26:52.486Z"
   },
   {
    "duration": 7,
    "start_time": "2024-04-15T12:26:52.492Z"
   },
   {
    "duration": 11,
    "start_time": "2024-04-15T12:26:52.500Z"
   },
   {
    "duration": 5,
    "start_time": "2024-04-15T12:26:52.512Z"
   },
   {
    "duration": 43,
    "start_time": "2024-04-15T12:26:52.518Z"
   },
   {
    "duration": 6,
    "start_time": "2024-04-15T12:26:52.562Z"
   },
   {
    "duration": 6,
    "start_time": "2024-04-15T12:26:52.569Z"
   },
   {
    "duration": 111,
    "start_time": "2024-04-15T12:26:52.576Z"
   },
   {
    "duration": 112,
    "start_time": "2024-04-15T12:26:52.688Z"
   },
   {
    "duration": 8,
    "start_time": "2024-04-15T12:26:52.801Z"
   },
   {
    "duration": 12,
    "start_time": "2024-04-15T12:26:52.810Z"
   },
   {
    "duration": 8,
    "start_time": "2024-04-15T12:26:52.823Z"
   },
   {
    "duration": 186,
    "start_time": "2024-04-15T12:26:52.835Z"
   },
   {
    "duration": 168,
    "start_time": "2024-04-15T12:26:53.022Z"
   },
   {
    "duration": 178,
    "start_time": "2024-04-15T12:26:53.192Z"
   },
   {
    "duration": 371,
    "start_time": "2024-04-15T12:27:24.784Z"
   },
   {
    "duration": 270,
    "start_time": "2024-04-15T12:27:25.158Z"
   },
   {
    "duration": 3,
    "start_time": "2024-04-15T12:27:25.429Z"
   },
   {
    "duration": 8,
    "start_time": "2024-04-15T12:27:25.434Z"
   },
   {
    "duration": 51,
    "start_time": "2024-04-15T12:27:25.444Z"
   },
   {
    "duration": 27,
    "start_time": "2024-04-15T12:27:25.497Z"
   },
   {
    "duration": 14,
    "start_time": "2024-04-15T12:27:25.525Z"
   },
   {
    "duration": 11,
    "start_time": "2024-04-15T12:27:25.541Z"
   },
   {
    "duration": 21,
    "start_time": "2024-04-15T12:27:25.554Z"
   },
   {
    "duration": 12,
    "start_time": "2024-04-15T12:27:25.576Z"
   },
   {
    "duration": 13,
    "start_time": "2024-04-15T12:27:25.590Z"
   },
   {
    "duration": 10,
    "start_time": "2024-04-15T12:27:25.604Z"
   },
   {
    "duration": 9,
    "start_time": "2024-04-15T12:27:25.616Z"
   },
   {
    "duration": 17,
    "start_time": "2024-04-15T12:27:25.627Z"
   },
   {
    "duration": 13,
    "start_time": "2024-04-15T12:27:25.645Z"
   },
   {
    "duration": 4,
    "start_time": "2024-04-15T12:27:25.659Z"
   },
   {
    "duration": 21,
    "start_time": "2024-04-15T12:27:25.665Z"
   },
   {
    "duration": 16,
    "start_time": "2024-04-15T12:27:25.687Z"
   },
   {
    "duration": 15,
    "start_time": "2024-04-15T12:27:25.704Z"
   },
   {
    "duration": 288,
    "start_time": "2024-04-15T12:27:25.720Z"
   },
   {
    "duration": 366,
    "start_time": "2024-04-15T12:27:26.010Z"
   },
   {
    "duration": 387,
    "start_time": "2024-04-15T12:27:26.378Z"
   },
   {
    "duration": 4,
    "start_time": "2024-04-15T12:27:26.767Z"
   },
   {
    "duration": 15,
    "start_time": "2024-04-15T12:27:26.773Z"
   },
   {
    "duration": 19,
    "start_time": "2024-04-15T12:27:26.790Z"
   },
   {
    "duration": 25,
    "start_time": "2024-04-15T12:27:26.811Z"
   },
   {
    "duration": 7,
    "start_time": "2024-04-15T12:27:26.837Z"
   },
   {
    "duration": 9,
    "start_time": "2024-04-15T12:27:26.846Z"
   },
   {
    "duration": 7,
    "start_time": "2024-04-15T12:27:26.856Z"
   },
   {
    "duration": 20,
    "start_time": "2024-04-15T12:27:26.864Z"
   },
   {
    "duration": 22,
    "start_time": "2024-04-15T12:27:26.885Z"
   },
   {
    "duration": 6,
    "start_time": "2024-04-15T12:27:26.909Z"
   },
   {
    "duration": 6,
    "start_time": "2024-04-15T12:27:26.917Z"
   },
   {
    "duration": 6,
    "start_time": "2024-04-15T12:27:26.924Z"
   },
   {
    "duration": 10,
    "start_time": "2024-04-15T12:27:26.932Z"
   },
   {
    "duration": 109,
    "start_time": "2024-04-15T12:27:26.943Z"
   },
   {
    "duration": 113,
    "start_time": "2024-04-15T12:27:27.054Z"
   },
   {
    "duration": 8,
    "start_time": "2024-04-15T12:27:27.168Z"
   },
   {
    "duration": 13,
    "start_time": "2024-04-15T12:27:27.178Z"
   },
   {
    "duration": 10,
    "start_time": "2024-04-15T12:27:27.192Z"
   },
   {
    "duration": 187,
    "start_time": "2024-04-15T12:27:27.205Z"
   },
   {
    "duration": 148,
    "start_time": "2024-04-15T12:27:27.394Z"
   },
   {
    "duration": 195,
    "start_time": "2024-04-15T12:27:27.543Z"
   },
   {
    "duration": 191,
    "start_time": "2024-04-15T12:32:43.335Z"
   },
   {
    "duration": 193,
    "start_time": "2024-04-15T12:33:07.678Z"
   },
   {
    "duration": 404,
    "start_time": "2024-04-15T12:37:40.564Z"
   },
   {
    "duration": 256,
    "start_time": "2024-04-15T12:37:40.970Z"
   },
   {
    "duration": 3,
    "start_time": "2024-04-15T12:37:41.227Z"
   },
   {
    "duration": 63,
    "start_time": "2024-04-15T12:37:41.232Z"
   },
   {
    "duration": 95,
    "start_time": "2024-04-15T12:37:41.296Z"
   },
   {
    "duration": 48,
    "start_time": "2024-04-15T12:37:41.393Z"
   },
   {
    "duration": 18,
    "start_time": "2024-04-15T12:37:41.443Z"
   },
   {
    "duration": 43,
    "start_time": "2024-04-15T12:37:41.462Z"
   },
   {
    "duration": 55,
    "start_time": "2024-04-15T12:37:41.507Z"
   },
   {
    "duration": 58,
    "start_time": "2024-04-15T12:37:41.564Z"
   },
   {
    "duration": 39,
    "start_time": "2024-04-15T12:37:41.623Z"
   },
   {
    "duration": 38,
    "start_time": "2024-04-15T12:37:41.664Z"
   },
   {
    "duration": 39,
    "start_time": "2024-04-15T12:37:41.703Z"
   },
   {
    "duration": 43,
    "start_time": "2024-04-15T12:37:41.743Z"
   },
   {
    "duration": 66,
    "start_time": "2024-04-15T12:37:41.787Z"
   },
   {
    "duration": 44,
    "start_time": "2024-04-15T12:37:41.855Z"
   },
   {
    "duration": 37,
    "start_time": "2024-04-15T12:37:41.901Z"
   },
   {
    "duration": 17,
    "start_time": "2024-04-15T12:37:41.939Z"
   },
   {
    "duration": 16,
    "start_time": "2024-04-15T12:37:41.957Z"
   },
   {
    "duration": 263,
    "start_time": "2024-04-15T12:37:41.974Z"
   },
   {
    "duration": 359,
    "start_time": "2024-04-15T12:37:42.238Z"
   },
   {
    "duration": 399,
    "start_time": "2024-04-15T12:37:42.599Z"
   },
   {
    "duration": 4,
    "start_time": "2024-04-15T12:37:42.999Z"
   },
   {
    "duration": 19,
    "start_time": "2024-04-15T12:37:43.005Z"
   },
   {
    "duration": 6,
    "start_time": "2024-04-15T12:37:43.026Z"
   },
   {
    "duration": 17,
    "start_time": "2024-04-15T12:37:43.034Z"
   },
   {
    "duration": 9,
    "start_time": "2024-04-15T12:37:43.053Z"
   },
   {
    "duration": 8,
    "start_time": "2024-04-15T12:37:43.066Z"
   },
   {
    "duration": 8,
    "start_time": "2024-04-15T12:37:43.076Z"
   },
   {
    "duration": 18,
    "start_time": "2024-04-15T12:37:43.085Z"
   },
   {
    "duration": 12,
    "start_time": "2024-04-15T12:37:43.104Z"
   },
   {
    "duration": 6,
    "start_time": "2024-04-15T12:37:43.117Z"
   },
   {
    "duration": 6,
    "start_time": "2024-04-15T12:37:43.124Z"
   },
   {
    "duration": 6,
    "start_time": "2024-04-15T12:37:43.132Z"
   },
   {
    "duration": 21,
    "start_time": "2024-04-15T12:37:43.139Z"
   },
   {
    "duration": 121,
    "start_time": "2024-04-15T12:37:43.161Z"
   },
   {
    "duration": 116,
    "start_time": "2024-04-15T12:37:43.284Z"
   },
   {
    "duration": 7,
    "start_time": "2024-04-15T12:37:43.402Z"
   },
   {
    "duration": 24,
    "start_time": "2024-04-15T12:37:43.411Z"
   },
   {
    "duration": 8,
    "start_time": "2024-04-15T12:37:43.436Z"
   },
   {
    "duration": 186,
    "start_time": "2024-04-15T12:37:43.445Z"
   },
   {
    "duration": 155,
    "start_time": "2024-04-15T12:37:43.633Z"
   },
   {
    "duration": 192,
    "start_time": "2024-04-15T12:37:43.789Z"
   },
   {
    "duration": 448,
    "start_time": "2024-04-15T19:20:29.730Z"
   },
   {
    "duration": 245,
    "start_time": "2024-04-15T19:20:30.179Z"
   },
   {
    "duration": 2,
    "start_time": "2024-04-15T19:20:30.426Z"
   },
   {
    "duration": 76,
    "start_time": "2024-04-15T19:20:30.429Z"
   },
   {
    "duration": 94,
    "start_time": "2024-04-15T19:20:30.507Z"
   },
   {
    "duration": 45,
    "start_time": "2024-04-15T19:20:30.603Z"
   },
   {
    "duration": 104,
    "start_time": "2024-04-15T19:20:30.650Z"
   },
   {
    "duration": 200,
    "start_time": "2024-04-15T19:20:30.755Z"
   },
   {
    "duration": 118,
    "start_time": "2024-04-15T19:20:30.956Z"
   },
   {
    "duration": 82,
    "start_time": "2024-04-15T19:20:31.076Z"
   },
   {
    "duration": 92,
    "start_time": "2024-04-15T19:20:31.160Z"
   },
   {
    "duration": 72,
    "start_time": "2024-04-15T19:20:31.256Z"
   },
   {
    "duration": 91,
    "start_time": "2024-04-15T19:20:31.330Z"
   },
   {
    "duration": 110,
    "start_time": "2024-04-15T19:20:31.425Z"
   },
   {
    "duration": 72,
    "start_time": "2024-04-15T19:20:31.537Z"
   },
   {
    "duration": 80,
    "start_time": "2024-04-15T19:20:31.611Z"
   },
   {
    "duration": 94,
    "start_time": "2024-04-15T19:20:31.692Z"
   },
   {
    "duration": 125,
    "start_time": "2024-04-15T19:20:31.788Z"
   },
   {
    "duration": 53,
    "start_time": "2024-04-15T19:20:31.914Z"
   },
   {
    "duration": 294,
    "start_time": "2024-04-15T19:20:31.968Z"
   },
   {
    "duration": 339,
    "start_time": "2024-04-15T19:20:32.264Z"
   },
   {
    "duration": 406,
    "start_time": "2024-04-15T19:20:32.605Z"
   },
   {
    "duration": 5,
    "start_time": "2024-04-15T19:20:33.012Z"
   },
   {
    "duration": 75,
    "start_time": "2024-04-15T19:20:33.018Z"
   },
   {
    "duration": 15,
    "start_time": "2024-04-15T19:20:33.095Z"
   },
   {
    "duration": 22,
    "start_time": "2024-04-15T19:20:33.111Z"
   },
   {
    "duration": 16,
    "start_time": "2024-04-15T19:20:33.135Z"
   },
   {
    "duration": 25,
    "start_time": "2024-04-15T19:20:33.152Z"
   },
   {
    "duration": 19,
    "start_time": "2024-04-15T19:20:33.179Z"
   },
   {
    "duration": 34,
    "start_time": "2024-04-15T19:20:33.199Z"
   },
   {
    "duration": 13,
    "start_time": "2024-04-15T19:20:33.235Z"
   },
   {
    "duration": 6,
    "start_time": "2024-04-15T19:20:33.249Z"
   },
   {
    "duration": 12,
    "start_time": "2024-04-15T19:20:33.257Z"
   },
   {
    "duration": 11,
    "start_time": "2024-04-15T19:20:33.271Z"
   },
   {
    "duration": 5,
    "start_time": "2024-04-15T19:20:33.284Z"
   },
   {
    "duration": 115,
    "start_time": "2024-04-15T19:20:33.291Z"
   },
   {
    "duration": 114,
    "start_time": "2024-04-15T19:20:33.407Z"
   },
   {
    "duration": 8,
    "start_time": "2024-04-15T19:20:33.522Z"
   },
   {
    "duration": 28,
    "start_time": "2024-04-15T19:20:33.532Z"
   },
   {
    "duration": 24,
    "start_time": "2024-04-15T19:20:33.562Z"
   },
   {
    "duration": 192,
    "start_time": "2024-04-15T19:20:33.590Z"
   },
   {
    "duration": 154,
    "start_time": "2024-04-15T19:20:33.783Z"
   },
   {
    "duration": 191,
    "start_time": "2024-04-15T19:20:33.938Z"
   },
   {
    "duration": 178,
    "start_time": "2024-04-15T19:21:37.928Z"
   },
   {
    "duration": 173,
    "start_time": "2024-04-15T19:21:56.356Z"
   },
   {
    "duration": 193,
    "start_time": "2024-04-15T19:26:11.483Z"
   },
   {
    "duration": 221,
    "start_time": "2024-04-15T19:28:45.743Z"
   },
   {
    "duration": 275,
    "start_time": "2024-04-15T19:30:00.021Z"
   },
   {
    "duration": 216,
    "start_time": "2024-04-15T19:31:10.713Z"
   },
   {
    "duration": 403,
    "start_time": "2024-04-15T19:33:14.265Z"
   },
   {
    "duration": 239,
    "start_time": "2024-04-15T19:33:14.670Z"
   },
   {
    "duration": 3,
    "start_time": "2024-04-15T19:33:14.910Z"
   },
   {
    "duration": 14,
    "start_time": "2024-04-15T19:33:14.915Z"
   },
   {
    "duration": 32,
    "start_time": "2024-04-15T19:33:14.931Z"
   },
   {
    "duration": 27,
    "start_time": "2024-04-15T19:33:14.964Z"
   },
   {
    "duration": 14,
    "start_time": "2024-04-15T19:33:14.993Z"
   },
   {
    "duration": 13,
    "start_time": "2024-04-15T19:33:15.008Z"
   },
   {
    "duration": 41,
    "start_time": "2024-04-15T19:33:15.022Z"
   },
   {
    "duration": 175,
    "start_time": "2024-04-15T19:33:15.066Z"
   },
   {
    "duration": 154,
    "start_time": "2024-04-15T19:33:15.242Z"
   },
   {
    "duration": 37,
    "start_time": "2024-04-15T19:33:15.397Z"
   },
   {
    "duration": 17,
    "start_time": "2024-04-15T19:33:15.436Z"
   },
   {
    "duration": 20,
    "start_time": "2024-04-15T19:33:15.455Z"
   },
   {
    "duration": 11,
    "start_time": "2024-04-15T19:33:15.476Z"
   },
   {
    "duration": 11,
    "start_time": "2024-04-15T19:33:15.488Z"
   },
   {
    "duration": 16,
    "start_time": "2024-04-15T19:33:15.501Z"
   },
   {
    "duration": 31,
    "start_time": "2024-04-15T19:33:15.518Z"
   },
   {
    "duration": 16,
    "start_time": "2024-04-15T19:33:15.551Z"
   },
   {
    "duration": 262,
    "start_time": "2024-04-15T19:33:15.569Z"
   },
   {
    "duration": 376,
    "start_time": "2024-04-15T19:33:15.832Z"
   },
   {
    "duration": 398,
    "start_time": "2024-04-15T19:33:16.210Z"
   },
   {
    "duration": 4,
    "start_time": "2024-04-15T19:33:16.609Z"
   },
   {
    "duration": 17,
    "start_time": "2024-04-15T19:33:16.615Z"
   },
   {
    "duration": 10,
    "start_time": "2024-04-15T19:33:16.634Z"
   },
   {
    "duration": 14,
    "start_time": "2024-04-15T19:33:16.645Z"
   },
   {
    "duration": 26,
    "start_time": "2024-04-15T19:33:16.660Z"
   },
   {
    "duration": 10,
    "start_time": "2024-04-15T19:33:16.690Z"
   },
   {
    "duration": 13,
    "start_time": "2024-04-15T19:33:16.701Z"
   },
   {
    "duration": 27,
    "start_time": "2024-04-15T19:33:16.716Z"
   },
   {
    "duration": 24,
    "start_time": "2024-04-15T19:33:16.745Z"
   },
   {
    "duration": 6,
    "start_time": "2024-04-15T19:33:16.771Z"
   },
   {
    "duration": 8,
    "start_time": "2024-04-15T19:33:16.779Z"
   },
   {
    "duration": 12,
    "start_time": "2024-04-15T19:33:16.788Z"
   },
   {
    "duration": 14,
    "start_time": "2024-04-15T19:33:16.801Z"
   },
   {
    "duration": 127,
    "start_time": "2024-04-15T19:33:16.816Z"
   },
   {
    "duration": 127,
    "start_time": "2024-04-15T19:33:16.945Z"
   },
   {
    "duration": 9,
    "start_time": "2024-04-15T19:33:17.073Z"
   },
   {
    "duration": 13,
    "start_time": "2024-04-15T19:33:17.084Z"
   },
   {
    "duration": 9,
    "start_time": "2024-04-15T19:33:17.099Z"
   },
   {
    "duration": 225,
    "start_time": "2024-04-15T19:33:17.110Z"
   },
   {
    "duration": 169,
    "start_time": "2024-04-15T19:33:17.337Z"
   },
   {
    "duration": 217,
    "start_time": "2024-04-15T19:33:17.507Z"
   },
   {
    "duration": 213,
    "start_time": "2024-04-15T19:33:17.726Z"
   },
   {
    "duration": 203,
    "start_time": "2024-04-15T19:34:56.051Z"
   },
   {
    "duration": 175,
    "start_time": "2024-04-15T19:43:41.604Z"
   },
   {
    "duration": 177,
    "start_time": "2024-04-15T19:44:16.488Z"
   },
   {
    "duration": 182,
    "start_time": "2024-04-15T19:44:25.294Z"
   },
   {
    "duration": 244,
    "start_time": "2024-04-15T19:44:37.884Z"
   },
   {
    "duration": 196,
    "start_time": "2024-04-15T19:44:43.854Z"
   },
   {
    "duration": 388,
    "start_time": "2024-04-15T19:49:04.367Z"
   },
   {
    "duration": 244,
    "start_time": "2024-04-15T19:49:04.757Z"
   },
   {
    "duration": 2,
    "start_time": "2024-04-15T19:49:05.003Z"
   },
   {
    "duration": 24,
    "start_time": "2024-04-15T19:49:05.006Z"
   },
   {
    "duration": 51,
    "start_time": "2024-04-15T19:49:05.033Z"
   },
   {
    "duration": 27,
    "start_time": "2024-04-15T19:49:05.086Z"
   },
   {
    "duration": 14,
    "start_time": "2024-04-15T19:49:05.115Z"
   },
   {
    "duration": 44,
    "start_time": "2024-04-15T19:49:05.131Z"
   },
   {
    "duration": 16,
    "start_time": "2024-04-15T19:49:05.177Z"
   },
   {
    "duration": 16,
    "start_time": "2024-04-15T19:49:05.194Z"
   },
   {
    "duration": 41,
    "start_time": "2024-04-15T19:49:05.211Z"
   },
   {
    "duration": 45,
    "start_time": "2024-04-15T19:49:05.254Z"
   },
   {
    "duration": 56,
    "start_time": "2024-04-15T19:49:05.300Z"
   },
   {
    "duration": 11,
    "start_time": "2024-04-15T19:49:05.359Z"
   },
   {
    "duration": 9,
    "start_time": "2024-04-15T19:49:05.372Z"
   },
   {
    "duration": 6,
    "start_time": "2024-04-15T19:49:05.382Z"
   },
   {
    "duration": 20,
    "start_time": "2024-04-15T19:49:05.389Z"
   },
   {
    "duration": 35,
    "start_time": "2024-04-15T19:49:05.410Z"
   },
   {
    "duration": 30,
    "start_time": "2024-04-15T19:49:05.447Z"
   },
   {
    "duration": 273,
    "start_time": "2024-04-15T19:49:05.479Z"
   },
   {
    "duration": 375,
    "start_time": "2024-04-15T19:49:05.754Z"
   },
   {
    "duration": 395,
    "start_time": "2024-04-15T19:49:06.130Z"
   },
   {
    "duration": 4,
    "start_time": "2024-04-15T19:49:06.526Z"
   },
   {
    "duration": 21,
    "start_time": "2024-04-15T19:49:06.532Z"
   },
   {
    "duration": 5,
    "start_time": "2024-04-15T19:49:06.555Z"
   },
   {
    "duration": 8,
    "start_time": "2024-04-15T19:49:06.561Z"
   },
   {
    "duration": 9,
    "start_time": "2024-04-15T19:49:06.571Z"
   },
   {
    "duration": 6,
    "start_time": "2024-04-15T19:49:06.582Z"
   },
   {
    "duration": 4,
    "start_time": "2024-04-15T19:49:06.589Z"
   },
   {
    "duration": 13,
    "start_time": "2024-04-15T19:49:06.594Z"
   },
   {
    "duration": 12,
    "start_time": "2024-04-15T19:49:06.608Z"
   },
   {
    "duration": 6,
    "start_time": "2024-04-15T19:49:06.621Z"
   },
   {
    "duration": 5,
    "start_time": "2024-04-15T19:49:06.629Z"
   },
   {
    "duration": 26,
    "start_time": "2024-04-15T19:49:06.636Z"
   },
   {
    "duration": 7,
    "start_time": "2024-04-15T19:49:06.663Z"
   },
   {
    "duration": 114,
    "start_time": "2024-04-15T19:49:06.672Z"
   },
   {
    "duration": 114,
    "start_time": "2024-04-15T19:49:06.788Z"
   },
   {
    "duration": 8,
    "start_time": "2024-04-15T19:49:06.903Z"
   },
   {
    "duration": 13,
    "start_time": "2024-04-15T19:49:06.912Z"
   },
   {
    "duration": 7,
    "start_time": "2024-04-15T19:49:06.927Z"
   },
   {
    "duration": 185,
    "start_time": "2024-04-15T19:49:06.937Z"
   },
   {
    "duration": 150,
    "start_time": "2024-04-15T19:49:07.124Z"
   },
   {
    "duration": 185,
    "start_time": "2024-04-15T19:49:07.276Z"
   },
   {
    "duration": 212,
    "start_time": "2024-04-15T19:49:07.463Z"
   },
   {
    "duration": 367,
    "start_time": "2024-04-16T08:37:18.679Z"
   },
   {
    "duration": 382,
    "start_time": "2024-04-16T08:37:19.048Z"
   },
   {
    "duration": 3,
    "start_time": "2024-04-16T08:37:19.432Z"
   },
   {
    "duration": 42,
    "start_time": "2024-04-16T08:37:19.436Z"
   },
   {
    "duration": 150,
    "start_time": "2024-04-16T08:37:19.480Z"
   },
   {
    "duration": 79,
    "start_time": "2024-04-16T08:37:19.631Z"
   },
   {
    "duration": 59,
    "start_time": "2024-04-16T08:37:19.712Z"
   },
   {
    "duration": 12,
    "start_time": "2024-04-16T08:37:19.772Z"
   },
   {
    "duration": 45,
    "start_time": "2024-04-16T08:37:19.785Z"
   },
   {
    "duration": 46,
    "start_time": "2024-04-16T08:37:19.831Z"
   },
   {
    "duration": 57,
    "start_time": "2024-04-16T08:37:19.878Z"
   },
   {
    "duration": 45,
    "start_time": "2024-04-16T08:37:19.937Z"
   },
   {
    "duration": 61,
    "start_time": "2024-04-16T08:37:19.984Z"
   },
   {
    "duration": 62,
    "start_time": "2024-04-16T08:37:20.048Z"
   },
   {
    "duration": 81,
    "start_time": "2024-04-16T08:37:20.112Z"
   },
   {
    "duration": 35,
    "start_time": "2024-04-16T08:37:20.194Z"
   },
   {
    "duration": 82,
    "start_time": "2024-04-16T08:37:20.231Z"
   },
   {
    "duration": 30,
    "start_time": "2024-04-16T08:37:20.314Z"
   },
   {
    "duration": 26,
    "start_time": "2024-04-16T08:37:20.346Z"
   },
   {
    "duration": 238,
    "start_time": "2024-04-16T08:37:20.374Z"
   },
   {
    "duration": 355,
    "start_time": "2024-04-16T08:37:20.614Z"
   },
   {
    "duration": 388,
    "start_time": "2024-04-16T08:37:20.971Z"
   },
   {
    "duration": 4,
    "start_time": "2024-04-16T08:37:21.361Z"
   },
   {
    "duration": 42,
    "start_time": "2024-04-16T08:37:21.366Z"
   },
   {
    "duration": 65,
    "start_time": "2024-04-16T08:37:21.409Z"
   },
   {
    "duration": 24,
    "start_time": "2024-04-16T08:37:21.476Z"
   },
   {
    "duration": 47,
    "start_time": "2024-04-16T08:37:21.502Z"
   },
   {
    "duration": 41,
    "start_time": "2024-04-16T08:37:21.551Z"
   },
   {
    "duration": 42,
    "start_time": "2024-04-16T08:37:21.594Z"
   },
   {
    "duration": 49,
    "start_time": "2024-04-16T08:37:21.638Z"
   },
   {
    "duration": 49,
    "start_time": "2024-04-16T08:37:21.689Z"
   },
   {
    "duration": 59,
    "start_time": "2024-04-16T08:37:21.740Z"
   },
   {
    "duration": 61,
    "start_time": "2024-04-16T08:37:21.801Z"
   },
   {
    "duration": 63,
    "start_time": "2024-04-16T08:37:21.864Z"
   },
   {
    "duration": 28,
    "start_time": "2024-04-16T08:37:21.928Z"
   },
   {
    "duration": 215,
    "start_time": "2024-04-16T08:37:21.957Z"
   },
   {
    "duration": 120,
    "start_time": "2024-04-16T08:37:22.173Z"
   },
   {
    "duration": 8,
    "start_time": "2024-04-16T08:37:22.295Z"
   },
   {
    "duration": 55,
    "start_time": "2024-04-16T08:37:22.305Z"
   },
   {
    "duration": 29,
    "start_time": "2024-04-16T08:37:22.361Z"
   },
   {
    "duration": 223,
    "start_time": "2024-04-16T08:37:22.393Z"
   },
   {
    "duration": 154,
    "start_time": "2024-04-16T08:37:22.618Z"
   },
   {
    "duration": 189,
    "start_time": "2024-04-16T08:37:22.774Z"
   },
   {
    "duration": 203,
    "start_time": "2024-04-16T08:37:22.964Z"
   },
   {
    "duration": 196,
    "start_time": "2024-04-16T08:52:55.619Z"
   },
   {
    "duration": 187,
    "start_time": "2024-04-16T08:53:45.658Z"
   },
   {
    "duration": 435,
    "start_time": "2024-04-16T09:03:19.437Z"
   },
   {
    "duration": 221,
    "start_time": "2024-04-16T09:03:19.874Z"
   },
   {
    "duration": 3,
    "start_time": "2024-04-16T09:03:20.096Z"
   },
   {
    "duration": 6,
    "start_time": "2024-04-16T09:03:20.100Z"
   },
   {
    "duration": 31,
    "start_time": "2024-04-16T09:03:20.108Z"
   },
   {
    "duration": 28,
    "start_time": "2024-04-16T09:03:20.141Z"
   },
   {
    "duration": 16,
    "start_time": "2024-04-16T09:03:20.170Z"
   },
   {
    "duration": 12,
    "start_time": "2024-04-16T09:03:20.187Z"
   },
   {
    "duration": 10,
    "start_time": "2024-04-16T09:03:20.200Z"
   },
   {
    "duration": 13,
    "start_time": "2024-04-16T09:03:20.212Z"
   },
   {
    "duration": 18,
    "start_time": "2024-04-16T09:03:20.227Z"
   },
   {
    "duration": 20,
    "start_time": "2024-04-16T09:03:20.247Z"
   },
   {
    "duration": 9,
    "start_time": "2024-04-16T09:03:20.269Z"
   },
   {
    "duration": 5,
    "start_time": "2024-04-16T09:03:20.281Z"
   },
   {
    "duration": 8,
    "start_time": "2024-04-16T09:03:20.287Z"
   },
   {
    "duration": 4,
    "start_time": "2024-04-16T09:03:20.296Z"
   },
   {
    "duration": 13,
    "start_time": "2024-04-16T09:03:20.301Z"
   },
   {
    "duration": 40,
    "start_time": "2024-04-16T09:03:20.316Z"
   },
   {
    "duration": 14,
    "start_time": "2024-04-16T09:03:20.357Z"
   },
   {
    "duration": 249,
    "start_time": "2024-04-16T09:03:20.373Z"
   },
   {
    "duration": 344,
    "start_time": "2024-04-16T09:03:20.623Z"
   },
   {
    "duration": 383,
    "start_time": "2024-04-16T09:03:20.969Z"
   },
   {
    "duration": 4,
    "start_time": "2024-04-16T09:03:21.353Z"
   },
   {
    "duration": 15,
    "start_time": "2024-04-16T09:03:21.359Z"
   },
   {
    "duration": 37,
    "start_time": "2024-04-16T09:03:21.376Z"
   },
   {
    "duration": 8,
    "start_time": "2024-04-16T09:03:21.414Z"
   },
   {
    "duration": 6,
    "start_time": "2024-04-16T09:03:21.423Z"
   },
   {
    "duration": 20,
    "start_time": "2024-04-16T09:03:21.430Z"
   },
   {
    "duration": 4,
    "start_time": "2024-04-16T09:03:21.451Z"
   },
   {
    "duration": 11,
    "start_time": "2024-04-16T09:03:21.457Z"
   },
   {
    "duration": 11,
    "start_time": "2024-04-16T09:03:21.470Z"
   },
   {
    "duration": 8,
    "start_time": "2024-04-16T09:03:21.486Z"
   },
   {
    "duration": 7,
    "start_time": "2024-04-16T09:03:21.496Z"
   },
   {
    "duration": 15,
    "start_time": "2024-04-16T09:03:21.504Z"
   },
   {
    "duration": 6,
    "start_time": "2024-04-16T09:03:21.521Z"
   },
   {
    "duration": 131,
    "start_time": "2024-04-16T09:03:21.528Z"
   },
   {
    "duration": 118,
    "start_time": "2024-04-16T09:03:21.660Z"
   },
   {
    "duration": 8,
    "start_time": "2024-04-16T09:03:21.780Z"
   },
   {
    "duration": 13,
    "start_time": "2024-04-16T09:03:21.790Z"
   },
   {
    "duration": 7,
    "start_time": "2024-04-16T09:03:21.804Z"
   },
   {
    "duration": 201,
    "start_time": "2024-04-16T09:03:21.815Z"
   },
   {
    "duration": 156,
    "start_time": "2024-04-16T09:03:22.018Z"
   },
   {
    "duration": 196,
    "start_time": "2024-04-16T09:03:22.175Z"
   },
   {
    "duration": 213,
    "start_time": "2024-04-16T09:03:22.372Z"
   },
   {
    "duration": 212,
    "start_time": "2024-04-16T09:03:22.586Z"
   },
   {
    "duration": 218,
    "start_time": "2024-04-16T09:15:43.808Z"
   },
   {
    "duration": 203,
    "start_time": "2024-04-16T09:15:48.156Z"
   },
   {
    "duration": 27,
    "start_time": "2024-04-16T09:21:31.551Z"
   },
   {
    "duration": 14,
    "start_time": "2024-04-16T09:26:58.446Z"
   },
   {
    "duration": 14,
    "start_time": "2024-04-16T09:28:10.874Z"
   },
   {
    "duration": 6,
    "start_time": "2024-04-16T09:31:38.685Z"
   },
   {
    "duration": 14,
    "start_time": "2024-04-16T09:31:55.749Z"
   },
   {
    "duration": 13,
    "start_time": "2024-04-16T09:32:56.791Z"
   },
   {
    "duration": 55,
    "start_time": "2024-04-16T09:34:17.196Z"
   },
   {
    "duration": 15,
    "start_time": "2024-04-16T09:35:12.863Z"
   },
   {
    "duration": 14,
    "start_time": "2024-04-16T09:35:20.728Z"
   },
   {
    "duration": 446,
    "start_time": "2024-04-16T17:16:50.148Z"
   },
   {
    "duration": 424,
    "start_time": "2024-04-16T17:16:50.596Z"
   },
   {
    "duration": 3,
    "start_time": "2024-04-16T17:16:51.022Z"
   },
   {
    "duration": 8,
    "start_time": "2024-04-16T17:16:51.026Z"
   },
   {
    "duration": 109,
    "start_time": "2024-04-16T17:16:51.036Z"
   },
   {
    "duration": 150,
    "start_time": "2024-04-16T17:16:51.146Z"
   },
   {
    "duration": 69,
    "start_time": "2024-04-16T17:16:51.298Z"
   },
   {
    "duration": 14,
    "start_time": "2024-04-16T17:16:51.369Z"
   },
   {
    "duration": 15,
    "start_time": "2024-04-16T17:16:51.384Z"
   },
   {
    "duration": 9,
    "start_time": "2024-04-16T17:16:51.401Z"
   },
   {
    "duration": 15,
    "start_time": "2024-04-16T17:16:51.412Z"
   },
   {
    "duration": 11,
    "start_time": "2024-04-16T17:16:51.429Z"
   },
   {
    "duration": 22,
    "start_time": "2024-04-16T17:16:51.442Z"
   },
   {
    "duration": 16,
    "start_time": "2024-04-16T17:16:51.475Z"
   },
   {
    "duration": 26,
    "start_time": "2024-04-16T17:16:51.493Z"
   },
   {
    "duration": 5,
    "start_time": "2024-04-16T17:16:51.521Z"
   },
   {
    "duration": 23,
    "start_time": "2024-04-16T17:16:51.528Z"
   },
   {
    "duration": 29,
    "start_time": "2024-04-16T17:16:51.553Z"
   },
   {
    "duration": 18,
    "start_time": "2024-04-16T17:16:51.584Z"
   },
   {
    "duration": 284,
    "start_time": "2024-04-16T17:16:51.604Z"
   },
   {
    "duration": 435,
    "start_time": "2024-04-16T17:16:51.890Z"
   },
   {
    "duration": 451,
    "start_time": "2024-04-16T17:16:52.327Z"
   },
   {
    "duration": 5,
    "start_time": "2024-04-16T17:16:52.780Z"
   },
   {
    "duration": 14,
    "start_time": "2024-04-16T17:16:52.787Z"
   },
   {
    "duration": 6,
    "start_time": "2024-04-16T17:16:52.803Z"
   },
   {
    "duration": 6,
    "start_time": "2024-04-16T17:16:52.810Z"
   },
   {
    "duration": 6,
    "start_time": "2024-04-16T17:16:52.817Z"
   },
   {
    "duration": 5,
    "start_time": "2024-04-16T17:16:52.825Z"
   },
   {
    "duration": 7,
    "start_time": "2024-04-16T17:16:52.831Z"
   },
   {
    "duration": 9,
    "start_time": "2024-04-16T17:16:52.872Z"
   },
   {
    "duration": 16,
    "start_time": "2024-04-16T17:16:52.883Z"
   },
   {
    "duration": 6,
    "start_time": "2024-04-16T17:16:52.901Z"
   },
   {
    "duration": 11,
    "start_time": "2024-04-16T17:16:52.909Z"
   },
   {
    "duration": 8,
    "start_time": "2024-04-16T17:16:52.922Z"
   },
   {
    "duration": 8,
    "start_time": "2024-04-16T17:16:52.932Z"
   },
   {
    "duration": 123,
    "start_time": "2024-04-16T17:16:52.973Z"
   },
   {
    "duration": 136,
    "start_time": "2024-04-16T17:16:53.097Z"
   },
   {
    "duration": 9,
    "start_time": "2024-04-16T17:16:53.235Z"
   },
   {
    "duration": 29,
    "start_time": "2024-04-16T17:16:53.245Z"
   },
   {
    "duration": 27,
    "start_time": "2024-04-16T17:16:53.275Z"
   },
   {
    "duration": 206,
    "start_time": "2024-04-16T17:16:53.305Z"
   },
   {
    "duration": 177,
    "start_time": "2024-04-16T17:16:53.513Z"
   },
   {
    "duration": 218,
    "start_time": "2024-04-16T17:16:53.691Z"
   },
   {
    "duration": 241,
    "start_time": "2024-04-16T17:16:53.911Z"
   },
   {
    "duration": 231,
    "start_time": "2024-04-16T17:16:54.154Z"
   },
   {
    "duration": 26,
    "start_time": "2024-04-16T17:16:54.387Z"
   },
   {
    "duration": 15,
    "start_time": "2024-04-16T17:16:54.415Z"
   },
   {
    "duration": 44,
    "start_time": "2024-04-16T17:16:54.431Z"
   },
   {
    "duration": 15,
    "start_time": "2024-04-16T17:16:54.477Z"
   },
   {
    "duration": 240,
    "start_time": "2024-04-16T17:27:52.997Z"
   },
   {
    "duration": 318,
    "start_time": "2024-04-16T17:29:40.150Z"
   },
   {
    "duration": 252,
    "start_time": "2024-04-16T17:29:57.829Z"
   },
   {
    "duration": 265,
    "start_time": "2024-04-16T17:30:26.175Z"
   },
   {
    "duration": 275,
    "start_time": "2024-04-16T17:30:47.629Z"
   },
   {
    "duration": 261,
    "start_time": "2024-04-16T17:30:55.502Z"
   },
   {
    "duration": 276,
    "start_time": "2024-04-16T17:32:55.790Z"
   },
   {
    "duration": 383,
    "start_time": "2024-04-16T17:57:13.833Z"
   },
   {
    "duration": 262,
    "start_time": "2024-04-16T17:57:26.401Z"
   },
   {
    "duration": 270,
    "start_time": "2024-04-16T17:57:31.014Z"
   },
   {
    "duration": 5,
    "start_time": "2024-04-16T17:59:03.198Z"
   },
   {
    "duration": 5,
    "start_time": "2024-04-16T18:00:23.039Z"
   },
   {
    "duration": 5,
    "start_time": "2024-04-16T18:00:51.958Z"
   },
   {
    "duration": 5,
    "start_time": "2024-04-16T18:02:48.312Z"
   },
   {
    "duration": 36,
    "start_time": "2024-04-16T18:08:05.124Z"
   },
   {
    "duration": 32,
    "start_time": "2024-04-16T18:28:37.418Z"
   },
   {
    "duration": 18,
    "start_time": "2024-04-16T18:28:43.160Z"
   },
   {
    "duration": 44,
    "start_time": "2024-04-16T18:29:12.061Z"
   },
   {
    "duration": 374,
    "start_time": "2024-04-16T18:35:14.713Z"
   },
   {
    "duration": 341,
    "start_time": "2024-04-16T18:35:21.577Z"
   },
   {
    "duration": 327,
    "start_time": "2024-04-16T18:35:35.394Z"
   },
   {
    "duration": 3,
    "start_time": "2024-04-16T18:36:55.446Z"
   },
   {
    "duration": 16,
    "start_time": "2024-04-16T18:37:06.664Z"
   },
   {
    "duration": 11,
    "start_time": "2024-04-16T18:38:20.550Z"
   },
   {
    "duration": 15,
    "start_time": "2024-04-16T18:40:35.094Z"
   },
   {
    "duration": 16,
    "start_time": "2024-04-16T18:41:27.225Z"
   },
   {
    "duration": 5,
    "start_time": "2024-04-16T18:42:17.657Z"
   },
   {
    "duration": 13,
    "start_time": "2024-04-16T18:42:25.402Z"
   },
   {
    "duration": 11,
    "start_time": "2024-04-16T18:43:13.276Z"
   },
   {
    "duration": 12,
    "start_time": "2024-04-16T18:44:34.326Z"
   },
   {
    "duration": 11,
    "start_time": "2024-04-16T18:45:05.668Z"
   },
   {
    "duration": 11,
    "start_time": "2024-04-16T18:45:11.070Z"
   },
   {
    "duration": 7,
    "start_time": "2024-04-16T18:45:48.838Z"
   },
   {
    "duration": 13,
    "start_time": "2024-04-16T18:45:56.196Z"
   },
   {
    "duration": 12,
    "start_time": "2024-04-16T18:46:00.649Z"
   },
   {
    "duration": 1425,
    "start_time": "2024-04-16T18:46:09.795Z"
   },
   {
    "duration": 7,
    "start_time": "2024-04-16T18:46:34.053Z"
   },
   {
    "duration": 382,
    "start_time": "2024-04-16T18:47:18.520Z"
   },
   {
    "duration": 261,
    "start_time": "2024-04-16T18:47:18.903Z"
   },
   {
    "duration": 3,
    "start_time": "2024-04-16T18:47:19.165Z"
   },
   {
    "duration": 11,
    "start_time": "2024-04-16T18:47:19.172Z"
   },
   {
    "duration": 52,
    "start_time": "2024-04-16T18:47:19.185Z"
   },
   {
    "duration": 29,
    "start_time": "2024-04-16T18:47:19.239Z"
   },
   {
    "duration": 15,
    "start_time": "2024-04-16T18:47:19.270Z"
   },
   {
    "duration": 12,
    "start_time": "2024-04-16T18:47:19.286Z"
   },
   {
    "duration": 10,
    "start_time": "2024-04-16T18:47:19.300Z"
   },
   {
    "duration": 17,
    "start_time": "2024-04-16T18:47:19.311Z"
   },
   {
    "duration": 18,
    "start_time": "2024-04-16T18:47:19.329Z"
   },
   {
    "duration": 24,
    "start_time": "2024-04-16T18:47:19.349Z"
   },
   {
    "duration": 9,
    "start_time": "2024-04-16T18:47:19.374Z"
   },
   {
    "duration": 5,
    "start_time": "2024-04-16T18:47:19.386Z"
   },
   {
    "duration": 26,
    "start_time": "2024-04-16T18:47:19.392Z"
   },
   {
    "duration": 31,
    "start_time": "2024-04-16T18:47:19.420Z"
   },
   {
    "duration": 20,
    "start_time": "2024-04-16T18:47:19.453Z"
   },
   {
    "duration": 27,
    "start_time": "2024-04-16T18:47:19.475Z"
   },
   {
    "duration": 17,
    "start_time": "2024-04-16T18:47:19.504Z"
   },
   {
    "duration": 257,
    "start_time": "2024-04-16T18:47:19.522Z"
   },
   {
    "duration": 408,
    "start_time": "2024-04-16T18:47:19.780Z"
   },
   {
    "duration": 434,
    "start_time": "2024-04-16T18:47:20.190Z"
   },
   {
    "duration": 4,
    "start_time": "2024-04-16T18:47:20.626Z"
   },
   {
    "duration": 23,
    "start_time": "2024-04-16T18:47:20.631Z"
   },
   {
    "duration": 20,
    "start_time": "2024-04-16T18:47:20.656Z"
   },
   {
    "duration": 15,
    "start_time": "2024-04-16T18:47:20.678Z"
   },
   {
    "duration": 19,
    "start_time": "2024-04-16T18:47:20.694Z"
   },
   {
    "duration": 35,
    "start_time": "2024-04-16T18:47:20.714Z"
   },
   {
    "duration": 36,
    "start_time": "2024-04-16T18:47:20.751Z"
   },
   {
    "duration": 23,
    "start_time": "2024-04-16T18:47:20.789Z"
   },
   {
    "duration": 28,
    "start_time": "2024-04-16T18:47:20.814Z"
   },
   {
    "duration": 25,
    "start_time": "2024-04-16T18:47:20.844Z"
   },
   {
    "duration": 24,
    "start_time": "2024-04-16T18:47:20.871Z"
   },
   {
    "duration": 22,
    "start_time": "2024-04-16T18:47:20.896Z"
   },
   {
    "duration": 10,
    "start_time": "2024-04-16T18:47:20.920Z"
   },
   {
    "duration": 127,
    "start_time": "2024-04-16T18:47:20.932Z"
   },
   {
    "duration": 119,
    "start_time": "2024-04-16T18:47:21.061Z"
   },
   {
    "duration": 8,
    "start_time": "2024-04-16T18:47:21.182Z"
   },
   {
    "duration": 24,
    "start_time": "2024-04-16T18:47:21.191Z"
   },
   {
    "duration": 21,
    "start_time": "2024-04-16T18:47:21.217Z"
   },
   {
    "duration": 231,
    "start_time": "2024-04-16T18:47:21.242Z"
   },
   {
    "duration": 185,
    "start_time": "2024-04-16T18:47:21.475Z"
   },
   {
    "duration": 217,
    "start_time": "2024-04-16T18:47:21.662Z"
   },
   {
    "duration": 225,
    "start_time": "2024-04-16T18:47:21.880Z"
   },
   {
    "duration": 234,
    "start_time": "2024-04-16T18:47:22.107Z"
   },
   {
    "duration": 35,
    "start_time": "2024-04-16T18:47:22.343Z"
   },
   {
    "duration": 15,
    "start_time": "2024-04-16T18:47:22.380Z"
   },
   {
    "duration": 21,
    "start_time": "2024-04-16T18:47:22.397Z"
   },
   {
    "duration": 14,
    "start_time": "2024-04-16T18:47:22.420Z"
   },
   {
    "duration": 303,
    "start_time": "2024-04-16T18:47:22.436Z"
   },
   {
    "duration": 361,
    "start_time": "2024-04-16T18:47:22.741Z"
   },
   {
    "duration": 3,
    "start_time": "2024-04-16T18:47:23.105Z"
   },
   {
    "duration": 84,
    "start_time": "2024-04-16T18:47:23.110Z"
   },
   {
    "duration": 15,
    "start_time": "2024-04-16T18:47:23.196Z"
   },
   {
    "duration": 1455,
    "start_time": "2024-04-16T18:47:23.213Z"
   },
   {
    "duration": 16,
    "start_time": "2024-04-16T18:47:49.910Z"
   },
   {
    "duration": 16,
    "start_time": "2024-04-16T18:50:20.201Z"
   },
   {
    "duration": 15,
    "start_time": "2024-04-16T18:52:17.502Z"
   },
   {
    "duration": 17,
    "start_time": "2024-04-16T18:52:22.018Z"
   },
   {
    "duration": 16,
    "start_time": "2024-04-16T18:52:47.897Z"
   },
   {
    "duration": 444,
    "start_time": "2024-04-16T18:52:59.548Z"
   },
   {
    "duration": 257,
    "start_time": "2024-04-16T18:52:59.994Z"
   },
   {
    "duration": 3,
    "start_time": "2024-04-16T18:53:00.253Z"
   },
   {
    "duration": 107,
    "start_time": "2024-04-16T18:53:00.257Z"
   },
   {
    "duration": 127,
    "start_time": "2024-04-16T18:53:00.366Z"
   },
   {
    "duration": 50,
    "start_time": "2024-04-16T18:53:00.494Z"
   },
   {
    "duration": 15,
    "start_time": "2024-04-16T18:53:00.546Z"
   },
   {
    "duration": 35,
    "start_time": "2024-04-16T18:53:00.563Z"
   },
   {
    "duration": 68,
    "start_time": "2024-04-16T18:53:00.599Z"
   },
   {
    "duration": 42,
    "start_time": "2024-04-16T18:53:00.669Z"
   },
   {
    "duration": 66,
    "start_time": "2024-04-16T18:53:00.712Z"
   },
   {
    "duration": 57,
    "start_time": "2024-04-16T18:53:00.780Z"
   },
   {
    "duration": 55,
    "start_time": "2024-04-16T18:53:00.838Z"
   },
   {
    "duration": 97,
    "start_time": "2024-04-16T18:53:00.896Z"
   },
   {
    "duration": 82,
    "start_time": "2024-04-16T18:53:00.994Z"
   },
   {
    "duration": 80,
    "start_time": "2024-04-16T18:53:01.077Z"
   },
   {
    "duration": 61,
    "start_time": "2024-04-16T18:53:01.158Z"
   },
   {
    "duration": 64,
    "start_time": "2024-04-16T18:53:01.221Z"
   },
   {
    "duration": 68,
    "start_time": "2024-04-16T18:53:01.287Z"
   },
   {
    "duration": 304,
    "start_time": "2024-04-16T18:53:01.356Z"
   },
   {
    "duration": 394,
    "start_time": "2024-04-16T18:53:01.662Z"
   },
   {
    "duration": 434,
    "start_time": "2024-04-16T18:53:02.058Z"
   },
   {
    "duration": 4,
    "start_time": "2024-04-16T18:53:02.494Z"
   },
   {
    "duration": 38,
    "start_time": "2024-04-16T18:53:02.499Z"
   },
   {
    "duration": 18,
    "start_time": "2024-04-16T18:53:02.539Z"
   },
   {
    "duration": 13,
    "start_time": "2024-04-16T18:53:02.558Z"
   },
   {
    "duration": 16,
    "start_time": "2024-04-16T18:53:02.573Z"
   },
   {
    "duration": 10,
    "start_time": "2024-04-16T18:53:02.590Z"
   },
   {
    "duration": 13,
    "start_time": "2024-04-16T18:53:02.601Z"
   },
   {
    "duration": 36,
    "start_time": "2024-04-16T18:53:02.616Z"
   },
   {
    "duration": 55,
    "start_time": "2024-04-16T18:53:02.654Z"
   },
   {
    "duration": 10,
    "start_time": "2024-04-16T18:53:02.711Z"
   },
   {
    "duration": 7,
    "start_time": "2024-04-16T18:53:02.723Z"
   },
   {
    "duration": 23,
    "start_time": "2024-04-16T18:53:02.732Z"
   },
   {
    "duration": 6,
    "start_time": "2024-04-16T18:53:02.757Z"
   },
   {
    "duration": 117,
    "start_time": "2024-04-16T18:53:02.764Z"
   },
   {
    "duration": 117,
    "start_time": "2024-04-16T18:53:02.882Z"
   },
   {
    "duration": 9,
    "start_time": "2024-04-16T18:53:03.000Z"
   },
   {
    "duration": 32,
    "start_time": "2024-04-16T18:53:03.010Z"
   },
   {
    "duration": 42,
    "start_time": "2024-04-16T18:53:03.043Z"
   },
   {
    "duration": 197,
    "start_time": "2024-04-16T18:53:03.089Z"
   },
   {
    "duration": 170,
    "start_time": "2024-04-16T18:53:03.288Z"
   },
   {
    "duration": 242,
    "start_time": "2024-04-16T18:53:03.460Z"
   },
   {
    "duration": 221,
    "start_time": "2024-04-16T18:53:03.704Z"
   },
   {
    "duration": 232,
    "start_time": "2024-04-16T18:53:03.927Z"
   },
   {
    "duration": 32,
    "start_time": "2024-04-16T18:53:04.161Z"
   },
   {
    "duration": 14,
    "start_time": "2024-04-16T18:53:04.195Z"
   },
   {
    "duration": 15,
    "start_time": "2024-04-16T18:53:04.210Z"
   },
   {
    "duration": 13,
    "start_time": "2024-04-16T18:53:04.227Z"
   },
   {
    "duration": 289,
    "start_time": "2024-04-16T18:53:04.241Z"
   },
   {
    "duration": 346,
    "start_time": "2024-04-16T18:53:04.531Z"
   },
   {
    "duration": 4,
    "start_time": "2024-04-16T18:53:04.878Z"
   },
   {
    "duration": 44,
    "start_time": "2024-04-16T18:53:04.883Z"
   },
   {
    "duration": 15,
    "start_time": "2024-04-16T18:53:04.929Z"
   },
   {
    "duration": 17,
    "start_time": "2024-04-16T18:53:04.973Z"
   },
   {
    "duration": 14,
    "start_time": "2024-04-16T18:53:34.548Z"
   },
   {
    "duration": 15,
    "start_time": "2024-04-16T18:53:44.179Z"
   },
   {
    "duration": 16,
    "start_time": "2024-04-16T18:53:53.325Z"
   },
   {
    "duration": 21,
    "start_time": "2024-04-16T18:54:08.151Z"
   },
   {
    "duration": 14,
    "start_time": "2024-04-16T18:54:15.957Z"
   },
   {
    "duration": 14,
    "start_time": "2024-04-16T18:54:29.265Z"
   },
   {
    "duration": 426,
    "start_time": "2024-04-16T18:54:43.361Z"
   },
   {
    "duration": 255,
    "start_time": "2024-04-16T18:54:43.789Z"
   },
   {
    "duration": 3,
    "start_time": "2024-04-16T18:54:44.045Z"
   },
   {
    "duration": 3,
    "start_time": "2024-04-16T18:54:44.050Z"
   },
   {
    "duration": 30,
    "start_time": "2024-04-16T18:54:44.054Z"
   },
   {
    "duration": 34,
    "start_time": "2024-04-16T18:54:44.086Z"
   },
   {
    "duration": 15,
    "start_time": "2024-04-16T18:54:44.122Z"
   },
   {
    "duration": 11,
    "start_time": "2024-04-16T18:54:44.139Z"
   },
   {
    "duration": 8,
    "start_time": "2024-04-16T18:54:44.152Z"
   },
   {
    "duration": 7,
    "start_time": "2024-04-16T18:54:44.163Z"
   },
   {
    "duration": 13,
    "start_time": "2024-04-16T18:54:44.172Z"
   },
   {
    "duration": 12,
    "start_time": "2024-04-16T18:54:44.186Z"
   },
   {
    "duration": 9,
    "start_time": "2024-04-16T18:54:44.199Z"
   },
   {
    "duration": 5,
    "start_time": "2024-04-16T18:54:44.210Z"
   },
   {
    "duration": 10,
    "start_time": "2024-04-16T18:54:44.217Z"
   },
   {
    "duration": 4,
    "start_time": "2024-04-16T18:54:44.228Z"
   },
   {
    "duration": 46,
    "start_time": "2024-04-16T18:54:44.233Z"
   },
   {
    "duration": 18,
    "start_time": "2024-04-16T18:54:44.281Z"
   },
   {
    "duration": 15,
    "start_time": "2024-04-16T18:54:44.300Z"
   },
   {
    "duration": 274,
    "start_time": "2024-04-16T18:54:44.317Z"
   },
   {
    "duration": 372,
    "start_time": "2024-04-16T18:54:44.592Z"
   },
   {
    "duration": 429,
    "start_time": "2024-04-16T18:54:44.965Z"
   },
   {
    "duration": 6,
    "start_time": "2024-04-16T18:54:45.396Z"
   },
   {
    "duration": 43,
    "start_time": "2024-04-16T18:54:45.403Z"
   },
   {
    "duration": 4,
    "start_time": "2024-04-16T18:54:45.449Z"
   },
   {
    "duration": 29,
    "start_time": "2024-04-16T18:54:45.455Z"
   },
   {
    "duration": 42,
    "start_time": "2024-04-16T18:54:45.485Z"
   },
   {
    "duration": 19,
    "start_time": "2024-04-16T18:54:45.531Z"
   },
   {
    "duration": 45,
    "start_time": "2024-04-16T18:54:45.552Z"
   },
   {
    "duration": 29,
    "start_time": "2024-04-16T18:54:45.598Z"
   },
   {
    "duration": 43,
    "start_time": "2024-04-16T18:54:45.628Z"
   },
   {
    "duration": 28,
    "start_time": "2024-04-16T18:54:45.673Z"
   },
   {
    "duration": 34,
    "start_time": "2024-04-16T18:54:45.703Z"
   },
   {
    "duration": 15,
    "start_time": "2024-04-16T18:54:45.739Z"
   },
   {
    "duration": 21,
    "start_time": "2024-04-16T18:54:45.756Z"
   },
   {
    "duration": 140,
    "start_time": "2024-04-16T18:54:45.779Z"
   },
   {
    "duration": 122,
    "start_time": "2024-04-16T18:54:45.921Z"
   },
   {
    "duration": 9,
    "start_time": "2024-04-16T18:54:46.044Z"
   },
   {
    "duration": 20,
    "start_time": "2024-04-16T18:54:46.054Z"
   },
   {
    "duration": 14,
    "start_time": "2024-04-16T18:54:46.084Z"
   },
   {
    "duration": 209,
    "start_time": "2024-04-16T18:54:46.100Z"
   },
   {
    "duration": 173,
    "start_time": "2024-04-16T18:54:46.312Z"
   },
   {
    "duration": 198,
    "start_time": "2024-04-16T18:54:46.487Z"
   },
   {
    "duration": 226,
    "start_time": "2024-04-16T18:54:46.686Z"
   },
   {
    "duration": 263,
    "start_time": "2024-04-16T18:54:46.914Z"
   },
   {
    "duration": 28,
    "start_time": "2024-04-16T18:54:47.178Z"
   },
   {
    "duration": 14,
    "start_time": "2024-04-16T18:54:47.208Z"
   },
   {
    "duration": 15,
    "start_time": "2024-04-16T18:54:47.224Z"
   },
   {
    "duration": 39,
    "start_time": "2024-04-16T18:54:47.240Z"
   },
   {
    "duration": 281,
    "start_time": "2024-04-16T18:54:47.280Z"
   },
   {
    "duration": 357,
    "start_time": "2024-04-16T18:54:47.563Z"
   },
   {
    "duration": 3,
    "start_time": "2024-04-16T18:54:47.922Z"
   },
   {
    "duration": 54,
    "start_time": "2024-04-16T18:54:47.926Z"
   },
   {
    "duration": 14,
    "start_time": "2024-04-16T18:54:47.981Z"
   },
   {
    "duration": 32,
    "start_time": "2024-04-16T18:54:47.996Z"
   },
   {
    "duration": 12,
    "start_time": "2024-04-16T19:06:49.617Z"
   },
   {
    "duration": 29,
    "start_time": "2024-04-16T19:07:00.257Z"
   },
   {
    "duration": 34,
    "start_time": "2024-04-16T19:07:46.181Z"
   },
   {
    "duration": 50,
    "start_time": "2024-04-16T19:07:49.713Z"
   },
   {
    "duration": 370,
    "start_time": "2024-04-16T19:08:08.429Z"
   },
   {
    "duration": 250,
    "start_time": "2024-04-16T19:08:08.801Z"
   },
   {
    "duration": 2,
    "start_time": "2024-04-16T19:08:09.053Z"
   },
   {
    "duration": 6,
    "start_time": "2024-04-16T19:08:09.057Z"
   },
   {
    "duration": 36,
    "start_time": "2024-04-16T19:08:09.064Z"
   },
   {
    "duration": 29,
    "start_time": "2024-04-16T19:08:09.102Z"
   },
   {
    "duration": 15,
    "start_time": "2024-04-16T19:08:09.133Z"
   },
   {
    "duration": 16,
    "start_time": "2024-04-16T19:08:09.149Z"
   },
   {
    "duration": 9,
    "start_time": "2024-04-16T19:08:09.166Z"
   },
   {
    "duration": 12,
    "start_time": "2024-04-16T19:08:09.177Z"
   },
   {
    "duration": 13,
    "start_time": "2024-04-16T19:08:09.190Z"
   },
   {
    "duration": 15,
    "start_time": "2024-04-16T19:08:09.204Z"
   },
   {
    "duration": 17,
    "start_time": "2024-04-16T19:08:09.221Z"
   },
   {
    "duration": 9,
    "start_time": "2024-04-16T19:08:09.239Z"
   },
   {
    "duration": 9,
    "start_time": "2024-04-16T19:08:09.249Z"
   },
   {
    "duration": 14,
    "start_time": "2024-04-16T19:08:09.259Z"
   },
   {
    "duration": 24,
    "start_time": "2024-04-16T19:08:09.275Z"
   },
   {
    "duration": 18,
    "start_time": "2024-04-16T19:08:09.301Z"
   },
   {
    "duration": 18,
    "start_time": "2024-04-16T19:08:09.321Z"
   },
   {
    "duration": 290,
    "start_time": "2024-04-16T19:08:09.341Z"
   },
   {
    "duration": 385,
    "start_time": "2024-04-16T19:08:09.633Z"
   },
   {
    "duration": 433,
    "start_time": "2024-04-16T19:08:10.020Z"
   },
   {
    "duration": 5,
    "start_time": "2024-04-16T19:08:10.454Z"
   },
   {
    "duration": 20,
    "start_time": "2024-04-16T19:08:10.460Z"
   },
   {
    "duration": 14,
    "start_time": "2024-04-16T19:08:10.481Z"
   },
   {
    "duration": 14,
    "start_time": "2024-04-16T19:08:10.497Z"
   },
   {
    "duration": 25,
    "start_time": "2024-04-16T19:08:10.513Z"
   },
   {
    "duration": 7,
    "start_time": "2024-04-16T19:08:10.543Z"
   },
   {
    "duration": 6,
    "start_time": "2024-04-16T19:08:10.552Z"
   },
   {
    "duration": 27,
    "start_time": "2024-04-16T19:08:10.560Z"
   },
   {
    "duration": 18,
    "start_time": "2024-04-16T19:08:10.588Z"
   },
   {
    "duration": 7,
    "start_time": "2024-04-16T19:08:10.607Z"
   },
   {
    "duration": 7,
    "start_time": "2024-04-16T19:08:10.616Z"
   },
   {
    "duration": 8,
    "start_time": "2024-04-16T19:08:10.625Z"
   },
   {
    "duration": 7,
    "start_time": "2024-04-16T19:08:10.634Z"
   },
   {
    "duration": 139,
    "start_time": "2024-04-16T19:08:10.642Z"
   },
   {
    "duration": 136,
    "start_time": "2024-04-16T19:08:10.783Z"
   },
   {
    "duration": 9,
    "start_time": "2024-04-16T19:08:10.921Z"
   },
   {
    "duration": 12,
    "start_time": "2024-04-16T19:08:10.932Z"
   },
   {
    "duration": 27,
    "start_time": "2024-04-16T19:08:10.946Z"
   },
   {
    "duration": 211,
    "start_time": "2024-04-16T19:08:10.975Z"
   },
   {
    "duration": 163,
    "start_time": "2024-04-16T19:08:11.188Z"
   },
   {
    "duration": 198,
    "start_time": "2024-04-16T19:08:11.352Z"
   },
   {
    "duration": 204,
    "start_time": "2024-04-16T19:08:11.552Z"
   },
   {
    "duration": 219,
    "start_time": "2024-04-16T19:08:11.758Z"
   },
   {
    "duration": 26,
    "start_time": "2024-04-16T19:08:11.979Z"
   },
   {
    "duration": 14,
    "start_time": "2024-04-16T19:08:12.007Z"
   },
   {
    "duration": 16,
    "start_time": "2024-04-16T19:08:12.022Z"
   },
   {
    "duration": 48,
    "start_time": "2024-04-16T19:08:12.039Z"
   },
   {
    "duration": 317,
    "start_time": "2024-04-16T19:08:12.089Z"
   },
   {
    "duration": 356,
    "start_time": "2024-04-16T19:08:12.407Z"
   },
   {
    "duration": 4,
    "start_time": "2024-04-16T19:08:12.764Z"
   },
   {
    "duration": 58,
    "start_time": "2024-04-16T19:08:12.773Z"
   },
   {
    "duration": 14,
    "start_time": "2024-04-16T19:08:12.833Z"
   },
   {
    "duration": 29,
    "start_time": "2024-04-16T19:08:12.849Z"
   },
   {
    "duration": 22,
    "start_time": "2024-04-16T19:08:12.880Z"
   },
   {
    "duration": 29,
    "start_time": "2024-04-16T19:08:29.350Z"
   },
   {
    "duration": 33,
    "start_time": "2024-04-16T19:08:40.265Z"
   },
   {
    "duration": 87,
    "start_time": "2024-04-16T19:09:52.654Z"
   },
   {
    "duration": 412,
    "start_time": "2024-04-16T19:10:18.926Z"
   },
   {
    "duration": 262,
    "start_time": "2024-04-16T19:10:19.340Z"
   },
   {
    "duration": 3,
    "start_time": "2024-04-16T19:10:19.604Z"
   },
   {
    "duration": 12,
    "start_time": "2024-04-16T19:10:19.609Z"
   },
   {
    "duration": 30,
    "start_time": "2024-04-16T19:10:19.622Z"
   },
   {
    "duration": 39,
    "start_time": "2024-04-16T19:10:19.654Z"
   },
   {
    "duration": 16,
    "start_time": "2024-04-16T19:10:19.696Z"
   },
   {
    "duration": 11,
    "start_time": "2024-04-16T19:10:19.714Z"
   },
   {
    "duration": 21,
    "start_time": "2024-04-16T19:10:19.727Z"
   },
   {
    "duration": 19,
    "start_time": "2024-04-16T19:10:19.751Z"
   },
   {
    "duration": 18,
    "start_time": "2024-04-16T19:10:19.772Z"
   },
   {
    "duration": 28,
    "start_time": "2024-04-16T19:10:19.792Z"
   },
   {
    "duration": 13,
    "start_time": "2024-04-16T19:10:19.822Z"
   },
   {
    "duration": 32,
    "start_time": "2024-04-16T19:10:19.837Z"
   },
   {
    "duration": 22,
    "start_time": "2024-04-16T19:10:19.870Z"
   },
   {
    "duration": 22,
    "start_time": "2024-04-16T19:10:19.893Z"
   },
   {
    "duration": 33,
    "start_time": "2024-04-16T19:10:19.917Z"
   },
   {
    "duration": 27,
    "start_time": "2024-04-16T19:10:19.952Z"
   },
   {
    "duration": 17,
    "start_time": "2024-04-16T19:10:19.980Z"
   },
   {
    "duration": 292,
    "start_time": "2024-04-16T19:10:19.999Z"
   },
   {
    "duration": 385,
    "start_time": "2024-04-16T19:10:20.293Z"
   },
   {
    "duration": 448,
    "start_time": "2024-04-16T19:10:20.680Z"
   },
   {
    "duration": 7,
    "start_time": "2024-04-16T19:10:21.130Z"
   },
   {
    "duration": 24,
    "start_time": "2024-04-16T19:10:21.139Z"
   },
   {
    "duration": 14,
    "start_time": "2024-04-16T19:10:21.165Z"
   },
   {
    "duration": 11,
    "start_time": "2024-04-16T19:10:21.180Z"
   },
   {
    "duration": 9,
    "start_time": "2024-04-16T19:10:21.193Z"
   },
   {
    "duration": 5,
    "start_time": "2024-04-16T19:10:21.205Z"
   },
   {
    "duration": 8,
    "start_time": "2024-04-16T19:10:21.211Z"
   },
   {
    "duration": 9,
    "start_time": "2024-04-16T19:10:21.221Z"
   },
   {
    "duration": 12,
    "start_time": "2024-04-16T19:10:21.232Z"
   },
   {
    "duration": 8,
    "start_time": "2024-04-16T19:10:21.246Z"
   },
   {
    "duration": 24,
    "start_time": "2024-04-16T19:10:21.255Z"
   },
   {
    "duration": 10,
    "start_time": "2024-04-16T19:10:21.281Z"
   },
   {
    "duration": 7,
    "start_time": "2024-04-16T19:10:21.293Z"
   },
   {
    "duration": 158,
    "start_time": "2024-04-16T19:10:21.301Z"
   },
   {
    "duration": 120,
    "start_time": "2024-04-16T19:10:21.461Z"
   },
   {
    "duration": 9,
    "start_time": "2024-04-16T19:10:21.583Z"
   },
   {
    "duration": 16,
    "start_time": "2024-04-16T19:10:21.593Z"
   },
   {
    "duration": 8,
    "start_time": "2024-04-16T19:10:21.610Z"
   },
   {
    "duration": 223,
    "start_time": "2024-04-16T19:10:21.619Z"
   },
   {
    "duration": 176,
    "start_time": "2024-04-16T19:10:21.844Z"
   },
   {
    "duration": 208,
    "start_time": "2024-04-16T19:10:22.023Z"
   },
   {
    "duration": 222,
    "start_time": "2024-04-16T19:10:22.233Z"
   },
   {
    "duration": 233,
    "start_time": "2024-04-16T19:10:22.457Z"
   },
   {
    "duration": 36,
    "start_time": "2024-04-16T19:10:22.691Z"
   },
   {
    "duration": 14,
    "start_time": "2024-04-16T19:10:22.729Z"
   },
   {
    "duration": 43,
    "start_time": "2024-04-16T19:10:22.744Z"
   },
   {
    "duration": 15,
    "start_time": "2024-04-16T19:10:22.788Z"
   },
   {
    "duration": 293,
    "start_time": "2024-04-16T19:10:22.805Z"
   },
   {
    "duration": 363,
    "start_time": "2024-04-16T19:10:23.100Z"
   },
   {
    "duration": 8,
    "start_time": "2024-04-16T19:10:23.465Z"
   },
   {
    "duration": 46,
    "start_time": "2024-04-16T19:10:23.475Z"
   },
   {
    "duration": 16,
    "start_time": "2024-04-16T19:10:23.522Z"
   },
   {
    "duration": 34,
    "start_time": "2024-04-16T19:10:23.540Z"
   },
   {
    "duration": 30,
    "start_time": "2024-04-16T19:10:23.575Z"
   },
   {
    "duration": 41,
    "start_time": "2024-04-16T19:15:42.938Z"
   },
   {
    "duration": 52,
    "start_time": "2024-04-17T05:27:19.607Z"
   },
   {
    "duration": 441,
    "start_time": "2024-04-17T05:27:30.012Z"
   },
   {
    "duration": 508,
    "start_time": "2024-04-17T05:27:30.455Z"
   },
   {
    "duration": 3,
    "start_time": "2024-04-17T05:27:30.965Z"
   },
   {
    "duration": 114,
    "start_time": "2024-04-17T05:27:30.969Z"
   },
   {
    "duration": 164,
    "start_time": "2024-04-17T05:27:31.086Z"
   },
   {
    "duration": 147,
    "start_time": "2024-04-17T05:27:31.252Z"
   },
   {
    "duration": 73,
    "start_time": "2024-04-17T05:27:31.401Z"
   },
   {
    "duration": 19,
    "start_time": "2024-04-17T05:27:31.476Z"
   },
   {
    "duration": 34,
    "start_time": "2024-04-17T05:27:31.497Z"
   },
   {
    "duration": 47,
    "start_time": "2024-04-17T05:27:31.536Z"
   },
   {
    "duration": 37,
    "start_time": "2024-04-17T05:27:31.585Z"
   },
   {
    "duration": 38,
    "start_time": "2024-04-17T05:27:31.624Z"
   },
   {
    "duration": 40,
    "start_time": "2024-04-17T05:27:31.664Z"
   },
   {
    "duration": 26,
    "start_time": "2024-04-17T05:27:31.707Z"
   },
   {
    "duration": 46,
    "start_time": "2024-04-17T05:27:31.735Z"
   },
   {
    "duration": 29,
    "start_time": "2024-04-17T05:27:31.783Z"
   },
   {
    "duration": 35,
    "start_time": "2024-04-17T05:27:31.814Z"
   },
   {
    "duration": 39,
    "start_time": "2024-04-17T05:27:31.851Z"
   },
   {
    "duration": 29,
    "start_time": "2024-04-17T05:27:31.892Z"
   },
   {
    "duration": 320,
    "start_time": "2024-04-17T05:27:31.924Z"
   },
   {
    "duration": 397,
    "start_time": "2024-04-17T05:27:32.247Z"
   },
   {
    "duration": 445,
    "start_time": "2024-04-17T05:27:32.646Z"
   },
   {
    "duration": 5,
    "start_time": "2024-04-17T05:27:33.093Z"
   },
   {
    "duration": 20,
    "start_time": "2024-04-17T05:27:33.100Z"
   },
   {
    "duration": 9,
    "start_time": "2024-04-17T05:27:33.121Z"
   },
   {
    "duration": 9,
    "start_time": "2024-04-17T05:27:33.132Z"
   },
   {
    "duration": 27,
    "start_time": "2024-04-17T05:27:33.143Z"
   },
   {
    "duration": 12,
    "start_time": "2024-04-17T05:27:33.176Z"
   },
   {
    "duration": 33,
    "start_time": "2024-04-17T05:27:33.190Z"
   },
   {
    "duration": 20,
    "start_time": "2024-04-17T05:27:33.225Z"
   },
   {
    "duration": 16,
    "start_time": "2024-04-17T05:27:33.247Z"
   },
   {
    "duration": 8,
    "start_time": "2024-04-17T05:27:33.265Z"
   },
   {
    "duration": 8,
    "start_time": "2024-04-17T05:27:33.275Z"
   },
   {
    "duration": 7,
    "start_time": "2024-04-17T05:27:33.285Z"
   },
   {
    "duration": 26,
    "start_time": "2024-04-17T05:27:33.294Z"
   },
   {
    "duration": 152,
    "start_time": "2024-04-17T05:27:33.321Z"
   },
   {
    "duration": 142,
    "start_time": "2024-04-17T05:27:33.476Z"
   },
   {
    "duration": 10,
    "start_time": "2024-04-17T05:27:33.620Z"
   },
   {
    "duration": 11,
    "start_time": "2024-04-17T05:27:33.631Z"
   },
   {
    "duration": 30,
    "start_time": "2024-04-17T05:27:33.643Z"
   },
   {
    "duration": 224,
    "start_time": "2024-04-17T05:27:33.675Z"
   },
   {
    "duration": 190,
    "start_time": "2024-04-17T05:27:33.901Z"
   },
   {
    "duration": 269,
    "start_time": "2024-04-17T05:27:34.093Z"
   },
   {
    "duration": 230,
    "start_time": "2024-04-17T05:27:34.364Z"
   },
   {
    "duration": 246,
    "start_time": "2024-04-17T05:27:34.596Z"
   },
   {
    "duration": 40,
    "start_time": "2024-04-17T05:27:34.843Z"
   },
   {
    "duration": 17,
    "start_time": "2024-04-17T05:27:34.885Z"
   },
   {
    "duration": 21,
    "start_time": "2024-04-17T05:27:34.904Z"
   },
   {
    "duration": 15,
    "start_time": "2024-04-17T05:27:34.927Z"
   },
   {
    "duration": 301,
    "start_time": "2024-04-17T05:27:34.972Z"
   },
   {
    "duration": 373,
    "start_time": "2024-04-17T05:27:35.274Z"
   },
   {
    "duration": 4,
    "start_time": "2024-04-17T05:27:35.649Z"
   },
   {
    "duration": 58,
    "start_time": "2024-04-17T05:27:35.655Z"
   },
   {
    "duration": 30,
    "start_time": "2024-04-17T05:27:35.715Z"
   },
   {
    "duration": 95,
    "start_time": "2024-04-17T05:27:35.747Z"
   },
   {
    "duration": 10,
    "start_time": "2024-04-17T05:28:39.383Z"
   },
   {
    "duration": 9,
    "start_time": "2024-04-17T05:28:42.048Z"
   },
   {
    "duration": 12,
    "start_time": "2024-04-17T05:28:59.081Z"
   },
   {
    "duration": 9,
    "start_time": "2024-04-17T05:29:11.960Z"
   },
   {
    "duration": 452,
    "start_time": "2024-04-17T05:29:23.346Z"
   },
   {
    "duration": 285,
    "start_time": "2024-04-17T05:29:23.800Z"
   },
   {
    "duration": 3,
    "start_time": "2024-04-17T05:29:24.086Z"
   },
   {
    "duration": 6,
    "start_time": "2024-04-17T05:29:24.090Z"
   },
   {
    "duration": 44,
    "start_time": "2024-04-17T05:29:24.099Z"
   },
   {
    "duration": 37,
    "start_time": "2024-04-17T05:29:24.145Z"
   },
   {
    "duration": 16,
    "start_time": "2024-04-17T05:29:24.184Z"
   },
   {
    "duration": 12,
    "start_time": "2024-04-17T05:29:24.202Z"
   },
   {
    "duration": 14,
    "start_time": "2024-04-17T05:29:24.215Z"
   },
   {
    "duration": 20,
    "start_time": "2024-04-17T05:29:24.231Z"
   },
   {
    "duration": 33,
    "start_time": "2024-04-17T05:29:24.252Z"
   },
   {
    "duration": 22,
    "start_time": "2024-04-17T05:29:24.286Z"
   },
   {
    "duration": 12,
    "start_time": "2024-04-17T05:29:24.310Z"
   },
   {
    "duration": 13,
    "start_time": "2024-04-17T05:29:24.325Z"
   },
   {
    "duration": 31,
    "start_time": "2024-04-17T05:29:24.339Z"
   },
   {
    "duration": 7,
    "start_time": "2024-04-17T05:29:24.372Z"
   },
   {
    "duration": 18,
    "start_time": "2024-04-17T05:29:24.381Z"
   },
   {
    "duration": 20,
    "start_time": "2024-04-17T05:29:24.401Z"
   },
   {
    "duration": 18,
    "start_time": "2024-04-17T05:29:24.423Z"
   },
   {
    "duration": 305,
    "start_time": "2024-04-17T05:29:24.443Z"
   },
   {
    "duration": 423,
    "start_time": "2024-04-17T05:29:24.750Z"
   },
   {
    "duration": 455,
    "start_time": "2024-04-17T05:29:25.174Z"
   },
   {
    "duration": 5,
    "start_time": "2024-04-17T05:29:25.630Z"
   },
   {
    "duration": 40,
    "start_time": "2024-04-17T05:29:25.637Z"
   },
   {
    "duration": 5,
    "start_time": "2024-04-17T05:29:25.679Z"
   },
   {
    "duration": 5,
    "start_time": "2024-04-17T05:29:25.686Z"
   },
   {
    "duration": 8,
    "start_time": "2024-04-17T05:29:25.693Z"
   },
   {
    "duration": 6,
    "start_time": "2024-04-17T05:29:25.702Z"
   },
   {
    "duration": 48,
    "start_time": "2024-04-17T05:29:25.710Z"
   },
   {
    "duration": 18,
    "start_time": "2024-04-17T05:29:25.760Z"
   },
   {
    "duration": 35,
    "start_time": "2024-04-17T05:29:25.780Z"
   },
   {
    "duration": 7,
    "start_time": "2024-04-17T05:29:25.817Z"
   },
   {
    "duration": 7,
    "start_time": "2024-04-17T05:29:25.825Z"
   },
   {
    "duration": 22,
    "start_time": "2024-04-17T05:29:25.834Z"
   },
   {
    "duration": 37,
    "start_time": "2024-04-17T05:29:25.858Z"
   },
   {
    "duration": 124,
    "start_time": "2024-04-17T05:29:25.898Z"
   },
   {
    "duration": 128,
    "start_time": "2024-04-17T05:29:26.024Z"
   },
   {
    "duration": 11,
    "start_time": "2024-04-17T05:29:26.154Z"
   },
   {
    "duration": 19,
    "start_time": "2024-04-17T05:29:26.173Z"
   },
   {
    "duration": 14,
    "start_time": "2024-04-17T05:29:26.194Z"
   },
   {
    "duration": 214,
    "start_time": "2024-04-17T05:29:26.213Z"
   },
   {
    "duration": 173,
    "start_time": "2024-04-17T05:29:26.428Z"
   },
   {
    "duration": 211,
    "start_time": "2024-04-17T05:29:26.602Z"
   },
   {
    "duration": 251,
    "start_time": "2024-04-17T05:29:26.815Z"
   },
   {
    "duration": 235,
    "start_time": "2024-04-17T05:29:27.073Z"
   },
   {
    "duration": 26,
    "start_time": "2024-04-17T05:29:27.310Z"
   },
   {
    "duration": 38,
    "start_time": "2024-04-17T05:29:27.338Z"
   },
   {
    "duration": 15,
    "start_time": "2024-04-17T05:29:27.378Z"
   },
   {
    "duration": 13,
    "start_time": "2024-04-17T05:29:27.395Z"
   },
   {
    "duration": 322,
    "start_time": "2024-04-17T05:29:27.409Z"
   },
   {
    "duration": 376,
    "start_time": "2024-04-17T05:29:27.732Z"
   },
   {
    "duration": 4,
    "start_time": "2024-04-17T05:29:28.110Z"
   },
   {
    "duration": 60,
    "start_time": "2024-04-17T05:29:28.115Z"
   },
   {
    "duration": 30,
    "start_time": "2024-04-17T05:29:28.177Z"
   },
   {
    "duration": 89,
    "start_time": "2024-04-17T05:29:28.209Z"
   },
   {
    "duration": 9,
    "start_time": "2024-04-17T05:30:34.284Z"
   },
   {
    "duration": 9,
    "start_time": "2024-04-17T05:30:39.038Z"
   },
   {
    "duration": 463,
    "start_time": "2024-04-17T05:30:44.041Z"
   },
   {
    "duration": 291,
    "start_time": "2024-04-17T05:30:44.507Z"
   },
   {
    "duration": 3,
    "start_time": "2024-04-17T05:30:44.800Z"
   },
   {
    "duration": 4,
    "start_time": "2024-04-17T05:30:44.805Z"
   },
   {
    "duration": 33,
    "start_time": "2024-04-17T05:30:44.811Z"
   },
   {
    "duration": 30,
    "start_time": "2024-04-17T05:30:44.846Z"
   },
   {
    "duration": 15,
    "start_time": "2024-04-17T05:30:44.878Z"
   },
   {
    "duration": 13,
    "start_time": "2024-04-17T05:30:44.895Z"
   },
   {
    "duration": 13,
    "start_time": "2024-04-17T05:30:44.910Z"
   },
   {
    "duration": 7,
    "start_time": "2024-04-17T05:30:44.926Z"
   },
   {
    "duration": 14,
    "start_time": "2024-04-17T05:30:44.934Z"
   },
   {
    "duration": 32,
    "start_time": "2024-04-17T05:30:44.949Z"
   },
   {
    "duration": 9,
    "start_time": "2024-04-17T05:30:44.983Z"
   },
   {
    "duration": 31,
    "start_time": "2024-04-17T05:30:44.993Z"
   },
   {
    "duration": 74,
    "start_time": "2024-04-17T05:30:45.025Z"
   },
   {
    "duration": 59,
    "start_time": "2024-04-17T05:30:45.101Z"
   },
   {
    "duration": 67,
    "start_time": "2024-04-17T05:30:45.161Z"
   },
   {
    "duration": 78,
    "start_time": "2024-04-17T05:30:45.230Z"
   },
   {
    "duration": 76,
    "start_time": "2024-04-17T05:30:45.309Z"
   },
   {
    "duration": 359,
    "start_time": "2024-04-17T05:30:45.386Z"
   },
   {
    "duration": 409,
    "start_time": "2024-04-17T05:30:45.747Z"
   },
   {
    "duration": 454,
    "start_time": "2024-04-17T05:30:46.158Z"
   },
   {
    "duration": 5,
    "start_time": "2024-04-17T05:30:46.614Z"
   },
   {
    "duration": 45,
    "start_time": "2024-04-17T05:30:46.620Z"
   },
   {
    "duration": 27,
    "start_time": "2024-04-17T05:30:46.667Z"
   },
   {
    "duration": 21,
    "start_time": "2024-04-17T05:30:46.695Z"
   },
   {
    "duration": 25,
    "start_time": "2024-04-17T05:30:46.718Z"
   },
   {
    "duration": 12,
    "start_time": "2024-04-17T05:30:46.746Z"
   },
   {
    "duration": 9,
    "start_time": "2024-04-17T05:30:46.759Z"
   },
   {
    "duration": 14,
    "start_time": "2024-04-17T05:30:46.770Z"
   },
   {
    "duration": 14,
    "start_time": "2024-04-17T05:30:46.785Z"
   },
   {
    "duration": 6,
    "start_time": "2024-04-17T05:30:46.800Z"
   },
   {
    "duration": 22,
    "start_time": "2024-04-17T05:30:46.808Z"
   },
   {
    "duration": 50,
    "start_time": "2024-04-17T05:30:46.832Z"
   },
   {
    "duration": 20,
    "start_time": "2024-04-17T05:30:46.884Z"
   },
   {
    "duration": 161,
    "start_time": "2024-04-17T05:30:46.906Z"
   },
   {
    "duration": 134,
    "start_time": "2024-04-17T05:30:47.069Z"
   },
   {
    "duration": 9,
    "start_time": "2024-04-17T05:30:47.204Z"
   },
   {
    "duration": 30,
    "start_time": "2024-04-17T05:30:47.214Z"
   },
   {
    "duration": 16,
    "start_time": "2024-04-17T05:30:47.245Z"
   },
   {
    "duration": 214,
    "start_time": "2024-04-17T05:30:47.262Z"
   },
   {
    "duration": 173,
    "start_time": "2024-04-17T05:30:47.477Z"
   },
   {
    "duration": 225,
    "start_time": "2024-04-17T05:30:47.652Z"
   },
   {
    "duration": 237,
    "start_time": "2024-04-17T05:30:47.878Z"
   },
   {
    "duration": 232,
    "start_time": "2024-04-17T05:30:48.117Z"
   },
   {
    "duration": 39,
    "start_time": "2024-04-17T05:30:48.350Z"
   },
   {
    "duration": 14,
    "start_time": "2024-04-17T05:30:48.391Z"
   },
   {
    "duration": 15,
    "start_time": "2024-04-17T05:30:48.407Z"
   },
   {
    "duration": 14,
    "start_time": "2024-04-17T05:30:48.424Z"
   },
   {
    "duration": 302,
    "start_time": "2024-04-17T05:30:48.439Z"
   },
   {
    "duration": 383,
    "start_time": "2024-04-17T05:30:48.743Z"
   },
   {
    "duration": 4,
    "start_time": "2024-04-17T05:30:49.128Z"
   },
   {
    "duration": 65,
    "start_time": "2024-04-17T05:30:49.133Z"
   },
   {
    "duration": 30,
    "start_time": "2024-04-17T05:30:49.200Z"
   },
   {
    "duration": 92,
    "start_time": "2024-04-17T05:30:49.232Z"
   },
   {
    "duration": 15,
    "start_time": "2024-04-17T05:31:00.029Z"
   },
   {
    "duration": 18,
    "start_time": "2024-04-17T05:31:03.425Z"
   },
   {
    "duration": 13,
    "start_time": "2024-04-17T05:32:27.528Z"
   },
   {
    "duration": 437,
    "start_time": "2024-04-17T05:32:39.387Z"
   },
   {
    "duration": 286,
    "start_time": "2024-04-17T05:32:39.827Z"
   },
   {
    "duration": 3,
    "start_time": "2024-04-17T05:32:40.115Z"
   },
   {
    "duration": 9,
    "start_time": "2024-04-17T05:32:40.121Z"
   },
   {
    "duration": 37,
    "start_time": "2024-04-17T05:32:40.132Z"
   },
   {
    "duration": 31,
    "start_time": "2024-04-17T05:32:40.171Z"
   },
   {
    "duration": 16,
    "start_time": "2024-04-17T05:32:40.203Z"
   },
   {
    "duration": 12,
    "start_time": "2024-04-17T05:32:40.221Z"
   },
   {
    "duration": 11,
    "start_time": "2024-04-17T05:32:40.235Z"
   },
   {
    "duration": 15,
    "start_time": "2024-04-17T05:32:40.250Z"
   },
   {
    "duration": 32,
    "start_time": "2024-04-17T05:32:40.267Z"
   },
   {
    "duration": 12,
    "start_time": "2024-04-17T05:32:40.301Z"
   },
   {
    "duration": 10,
    "start_time": "2024-04-17T05:32:40.314Z"
   },
   {
    "duration": 7,
    "start_time": "2024-04-17T05:32:40.325Z"
   },
   {
    "duration": 11,
    "start_time": "2024-04-17T05:32:40.333Z"
   },
   {
    "duration": 9,
    "start_time": "2024-04-17T05:32:40.346Z"
   },
   {
    "duration": 24,
    "start_time": "2024-04-17T05:32:40.356Z"
   },
   {
    "duration": 36,
    "start_time": "2024-04-17T05:32:40.381Z"
   },
   {
    "duration": 23,
    "start_time": "2024-04-17T05:32:40.419Z"
   },
   {
    "duration": 265,
    "start_time": "2024-04-17T05:32:40.443Z"
   },
   {
    "duration": 398,
    "start_time": "2024-04-17T05:32:40.710Z"
   },
   {
    "duration": 442,
    "start_time": "2024-04-17T05:32:41.110Z"
   },
   {
    "duration": 5,
    "start_time": "2024-04-17T05:32:41.553Z"
   },
   {
    "duration": 44,
    "start_time": "2024-04-17T05:32:41.560Z"
   },
   {
    "duration": 33,
    "start_time": "2024-04-17T05:32:41.606Z"
   },
   {
    "duration": 25,
    "start_time": "2024-04-17T05:32:41.641Z"
   },
   {
    "duration": 29,
    "start_time": "2024-04-17T05:32:41.668Z"
   },
   {
    "duration": 22,
    "start_time": "2024-04-17T05:32:41.702Z"
   },
   {
    "duration": 15,
    "start_time": "2024-04-17T05:32:41.725Z"
   },
   {
    "duration": 23,
    "start_time": "2024-04-17T05:32:41.741Z"
   },
   {
    "duration": 26,
    "start_time": "2024-04-17T05:32:41.766Z"
   },
   {
    "duration": 10,
    "start_time": "2024-04-17T05:32:41.793Z"
   },
   {
    "duration": 14,
    "start_time": "2024-04-17T05:32:41.805Z"
   },
   {
    "duration": 16,
    "start_time": "2024-04-17T05:32:41.820Z"
   },
   {
    "duration": 6,
    "start_time": "2024-04-17T05:32:41.837Z"
   },
   {
    "duration": 130,
    "start_time": "2024-04-17T05:32:41.845Z"
   },
   {
    "duration": 121,
    "start_time": "2024-04-17T05:32:41.977Z"
   },
   {
    "duration": 8,
    "start_time": "2024-04-17T05:32:42.100Z"
   },
   {
    "duration": 27,
    "start_time": "2024-04-17T05:32:42.110Z"
   },
   {
    "duration": 18,
    "start_time": "2024-04-17T05:32:42.139Z"
   },
   {
    "duration": 215,
    "start_time": "2024-04-17T05:32:42.159Z"
   },
   {
    "duration": 176,
    "start_time": "2024-04-17T05:32:42.376Z"
   },
   {
    "duration": 225,
    "start_time": "2024-04-17T05:32:42.554Z"
   },
   {
    "duration": 252,
    "start_time": "2024-04-17T05:32:42.780Z"
   },
   {
    "duration": 241,
    "start_time": "2024-04-17T05:32:43.034Z"
   },
   {
    "duration": 26,
    "start_time": "2024-04-17T05:32:43.277Z"
   },
   {
    "duration": 14,
    "start_time": "2024-04-17T05:32:43.305Z"
   },
   {
    "duration": 24,
    "start_time": "2024-04-17T05:32:43.320Z"
   },
   {
    "duration": 35,
    "start_time": "2024-04-17T05:32:43.345Z"
   },
   {
    "duration": 310,
    "start_time": "2024-04-17T05:32:43.382Z"
   },
   {
    "duration": 369,
    "start_time": "2024-04-17T05:32:43.693Z"
   },
   {
    "duration": 10,
    "start_time": "2024-04-17T05:32:44.064Z"
   },
   {
    "duration": 81,
    "start_time": "2024-04-17T05:32:44.076Z"
   },
   {
    "duration": 42,
    "start_time": "2024-04-17T05:32:44.158Z"
   },
   {
    "duration": 107,
    "start_time": "2024-04-17T05:32:44.202Z"
   },
   {
    "duration": 436,
    "start_time": "2024-04-17T05:33:18.378Z"
   },
   {
    "duration": 258,
    "start_time": "2024-04-17T05:33:18.816Z"
   },
   {
    "duration": 3,
    "start_time": "2024-04-17T05:33:19.075Z"
   },
   {
    "duration": 3,
    "start_time": "2024-04-17T05:33:19.080Z"
   },
   {
    "duration": 32,
    "start_time": "2024-04-17T05:33:19.084Z"
   },
   {
    "duration": 30,
    "start_time": "2024-04-17T05:33:19.117Z"
   },
   {
    "duration": 16,
    "start_time": "2024-04-17T05:33:19.149Z"
   },
   {
    "duration": 13,
    "start_time": "2024-04-17T05:33:19.166Z"
   },
   {
    "duration": 12,
    "start_time": "2024-04-17T05:33:19.181Z"
   },
   {
    "duration": 20,
    "start_time": "2024-04-17T05:33:19.195Z"
   },
   {
    "duration": 17,
    "start_time": "2024-04-17T05:33:19.216Z"
   },
   {
    "duration": 14,
    "start_time": "2024-04-17T05:33:19.236Z"
   },
   {
    "duration": 11,
    "start_time": "2024-04-17T05:33:19.251Z"
   },
   {
    "duration": 7,
    "start_time": "2024-04-17T05:33:19.272Z"
   },
   {
    "duration": 11,
    "start_time": "2024-04-17T05:33:19.281Z"
   },
   {
    "duration": 5,
    "start_time": "2024-04-17T05:33:19.294Z"
   },
   {
    "duration": 16,
    "start_time": "2024-04-17T05:33:19.301Z"
   },
   {
    "duration": 55,
    "start_time": "2024-04-17T05:33:19.318Z"
   },
   {
    "duration": 17,
    "start_time": "2024-04-17T05:33:19.375Z"
   },
   {
    "duration": 282,
    "start_time": "2024-04-17T05:33:19.394Z"
   },
   {
    "duration": 401,
    "start_time": "2024-04-17T05:33:19.678Z"
   },
   {
    "duration": 441,
    "start_time": "2024-04-17T05:33:20.081Z"
   },
   {
    "duration": 4,
    "start_time": "2024-04-17T05:33:20.524Z"
   },
   {
    "duration": 35,
    "start_time": "2024-04-17T05:33:20.530Z"
   },
   {
    "duration": 7,
    "start_time": "2024-04-17T05:33:20.566Z"
   },
   {
    "duration": 7,
    "start_time": "2024-04-17T05:33:20.575Z"
   },
   {
    "duration": 19,
    "start_time": "2024-04-17T05:33:20.584Z"
   },
   {
    "duration": 9,
    "start_time": "2024-04-17T05:33:20.608Z"
   },
   {
    "duration": 6,
    "start_time": "2024-04-17T05:33:20.619Z"
   },
   {
    "duration": 25,
    "start_time": "2024-04-17T05:33:20.627Z"
   },
   {
    "duration": 27,
    "start_time": "2024-04-17T05:33:20.654Z"
   },
   {
    "duration": 9,
    "start_time": "2024-04-17T05:33:20.683Z"
   },
   {
    "duration": 23,
    "start_time": "2024-04-17T05:33:20.694Z"
   },
   {
    "duration": 12,
    "start_time": "2024-04-17T05:33:20.719Z"
   },
   {
    "duration": 30,
    "start_time": "2024-04-17T05:33:20.734Z"
   },
   {
    "duration": 175,
    "start_time": "2024-04-17T05:33:20.766Z"
   },
   {
    "duration": 139,
    "start_time": "2024-04-17T05:33:20.943Z"
   },
   {
    "duration": 10,
    "start_time": "2024-04-17T05:33:21.084Z"
   },
   {
    "duration": 34,
    "start_time": "2024-04-17T05:33:21.096Z"
   },
   {
    "duration": 23,
    "start_time": "2024-04-17T05:33:21.132Z"
   },
   {
    "duration": 194,
    "start_time": "2024-04-17T05:33:21.156Z"
   },
   {
    "duration": 167,
    "start_time": "2024-04-17T05:33:21.351Z"
   },
   {
    "duration": 208,
    "start_time": "2024-04-17T05:33:21.519Z"
   },
   {
    "duration": 221,
    "start_time": "2024-04-17T05:33:21.728Z"
   },
   {
    "duration": 242,
    "start_time": "2024-04-17T05:33:21.950Z"
   },
   {
    "duration": 27,
    "start_time": "2024-04-17T05:33:22.194Z"
   },
   {
    "duration": 36,
    "start_time": "2024-04-17T05:33:22.223Z"
   },
   {
    "duration": 27,
    "start_time": "2024-04-17T05:33:22.260Z"
   },
   {
    "duration": 32,
    "start_time": "2024-04-17T05:33:22.289Z"
   },
   {
    "duration": 295,
    "start_time": "2024-04-17T05:33:22.322Z"
   },
   {
    "duration": 370,
    "start_time": "2024-04-17T05:33:22.619Z"
   },
   {
    "duration": 4,
    "start_time": "2024-04-17T05:33:22.990Z"
   },
   {
    "duration": 46,
    "start_time": "2024-04-17T05:33:22.996Z"
   },
   {
    "duration": 48,
    "start_time": "2024-04-17T05:33:23.044Z"
   },
   {
    "duration": 84,
    "start_time": "2024-04-17T05:33:23.094Z"
   },
   {
    "duration": 12,
    "start_time": "2024-04-17T05:33:35.141Z"
   },
   {
    "duration": 248,
    "start_time": "2024-04-17T05:34:53.970Z"
   },
   {
    "duration": 1588,
    "start_time": "2024-04-17T05:35:04.789Z"
   },
   {
    "duration": 222,
    "start_time": "2024-04-17T05:35:18.623Z"
   },
   {
    "duration": 213,
    "start_time": "2024-04-17T05:35:27.539Z"
   },
   {
    "duration": 413,
    "start_time": "2024-04-17T05:36:03.723Z"
   },
   {
    "duration": 295,
    "start_time": "2024-04-17T05:36:04.138Z"
   },
   {
    "duration": 3,
    "start_time": "2024-04-17T05:36:04.437Z"
   },
   {
    "duration": 15,
    "start_time": "2024-04-17T05:36:04.442Z"
   },
   {
    "duration": 32,
    "start_time": "2024-04-17T05:36:04.459Z"
   },
   {
    "duration": 29,
    "start_time": "2024-04-17T05:36:04.493Z"
   },
   {
    "duration": 16,
    "start_time": "2024-04-17T05:36:04.525Z"
   },
   {
    "duration": 17,
    "start_time": "2024-04-17T05:36:04.543Z"
   },
   {
    "duration": 9,
    "start_time": "2024-04-17T05:36:04.563Z"
   },
   {
    "duration": 12,
    "start_time": "2024-04-17T05:36:04.574Z"
   },
   {
    "duration": 35,
    "start_time": "2024-04-17T05:36:04.588Z"
   },
   {
    "duration": 27,
    "start_time": "2024-04-17T05:36:04.626Z"
   },
   {
    "duration": 15,
    "start_time": "2024-04-17T05:36:04.658Z"
   },
   {
    "duration": 11,
    "start_time": "2024-04-17T05:36:04.675Z"
   },
   {
    "duration": 18,
    "start_time": "2024-04-17T05:36:04.688Z"
   },
   {
    "duration": 5,
    "start_time": "2024-04-17T05:36:04.707Z"
   },
   {
    "duration": 22,
    "start_time": "2024-04-17T05:36:04.714Z"
   },
   {
    "duration": 28,
    "start_time": "2024-04-17T05:36:04.738Z"
   },
   {
    "duration": 17,
    "start_time": "2024-04-17T05:36:04.772Z"
   },
   {
    "duration": 302,
    "start_time": "2024-04-17T05:36:04.791Z"
   },
   {
    "duration": 402,
    "start_time": "2024-04-17T05:36:05.094Z"
   },
   {
    "duration": 437,
    "start_time": "2024-04-17T05:36:05.498Z"
   },
   {
    "duration": 6,
    "start_time": "2024-04-17T05:36:05.937Z"
   },
   {
    "duration": 35,
    "start_time": "2024-04-17T05:36:05.945Z"
   },
   {
    "duration": 28,
    "start_time": "2024-04-17T05:36:05.982Z"
   },
   {
    "duration": 13,
    "start_time": "2024-04-17T05:36:06.012Z"
   },
   {
    "duration": 10,
    "start_time": "2024-04-17T05:36:06.027Z"
   },
   {
    "duration": 23,
    "start_time": "2024-04-17T05:36:06.038Z"
   },
   {
    "duration": 6,
    "start_time": "2024-04-17T05:36:06.063Z"
   },
   {
    "duration": 20,
    "start_time": "2024-04-17T05:36:06.070Z"
   },
   {
    "duration": 24,
    "start_time": "2024-04-17T05:36:06.092Z"
   },
   {
    "duration": 7,
    "start_time": "2024-04-17T05:36:06.118Z"
   },
   {
    "duration": 9,
    "start_time": "2024-04-17T05:36:06.127Z"
   },
   {
    "duration": 7,
    "start_time": "2024-04-17T05:36:06.138Z"
   },
   {
    "duration": 14,
    "start_time": "2024-04-17T05:36:06.147Z"
   },
   {
    "duration": 168,
    "start_time": "2024-04-17T05:36:06.163Z"
   },
   {
    "duration": 131,
    "start_time": "2024-04-17T05:36:06.332Z"
   },
   {
    "duration": 9,
    "start_time": "2024-04-17T05:36:06.472Z"
   },
   {
    "duration": 11,
    "start_time": "2024-04-17T05:36:06.482Z"
   },
   {
    "duration": 7,
    "start_time": "2024-04-17T05:36:06.497Z"
   },
   {
    "duration": 221,
    "start_time": "2024-04-17T05:36:06.506Z"
   },
   {
    "duration": 174,
    "start_time": "2024-04-17T05:36:06.729Z"
   },
   {
    "duration": 246,
    "start_time": "2024-04-17T05:36:06.904Z"
   },
   {
    "duration": 239,
    "start_time": "2024-04-17T05:36:07.151Z"
   },
   {
    "duration": 239,
    "start_time": "2024-04-17T05:36:07.391Z"
   },
   {
    "duration": 41,
    "start_time": "2024-04-17T05:36:07.632Z"
   },
   {
    "duration": 16,
    "start_time": "2024-04-17T05:36:07.675Z"
   },
   {
    "duration": 18,
    "start_time": "2024-04-17T05:36:07.692Z"
   },
   {
    "duration": 15,
    "start_time": "2024-04-17T05:36:07.713Z"
   },
   {
    "duration": 312,
    "start_time": "2024-04-17T05:36:07.730Z"
   },
   {
    "duration": 376,
    "start_time": "2024-04-17T05:36:08.043Z"
   },
   {
    "duration": 4,
    "start_time": "2024-04-17T05:36:08.421Z"
   },
   {
    "duration": 82,
    "start_time": "2024-04-17T05:36:08.426Z"
   },
   {
    "duration": 30,
    "start_time": "2024-04-17T05:36:08.510Z"
   },
   {
    "duration": 296,
    "start_time": "2024-04-17T05:36:08.541Z"
   },
   {
    "duration": 223,
    "start_time": "2024-04-17T05:41:51.803Z"
   },
   {
    "duration": 1403,
    "start_time": "2024-04-17T05:51:12.778Z"
   },
   {
    "duration": 220,
    "start_time": "2024-04-17T05:51:32.758Z"
   },
   {
    "duration": 444,
    "start_time": "2024-04-17T06:11:35.463Z"
   },
   {
    "duration": 284,
    "start_time": "2024-04-17T06:11:35.909Z"
   },
   {
    "duration": 3,
    "start_time": "2024-04-17T06:11:36.194Z"
   },
   {
    "duration": 33,
    "start_time": "2024-04-17T06:11:36.199Z"
   },
   {
    "duration": 53,
    "start_time": "2024-04-17T06:11:36.234Z"
   },
   {
    "duration": 30,
    "start_time": "2024-04-17T06:11:36.288Z"
   },
   {
    "duration": 16,
    "start_time": "2024-04-17T06:11:36.320Z"
   },
   {
    "duration": 21,
    "start_time": "2024-04-17T06:11:36.338Z"
   },
   {
    "duration": 36,
    "start_time": "2024-04-17T06:11:36.361Z"
   },
   {
    "duration": 26,
    "start_time": "2024-04-17T06:11:36.400Z"
   },
   {
    "duration": 28,
    "start_time": "2024-04-17T06:11:36.428Z"
   },
   {
    "duration": 48,
    "start_time": "2024-04-17T06:11:36.458Z"
   },
   {
    "duration": 18,
    "start_time": "2024-04-17T06:11:36.509Z"
   },
   {
    "duration": 30,
    "start_time": "2024-04-17T06:11:36.532Z"
   },
   {
    "duration": 26,
    "start_time": "2024-04-17T06:11:36.564Z"
   },
   {
    "duration": 20,
    "start_time": "2024-04-17T06:11:36.593Z"
   },
   {
    "duration": 58,
    "start_time": "2024-04-17T06:11:36.615Z"
   },
   {
    "duration": 24,
    "start_time": "2024-04-17T06:11:36.675Z"
   },
   {
    "duration": 19,
    "start_time": "2024-04-17T06:11:36.701Z"
   },
   {
    "duration": 304,
    "start_time": "2024-04-17T06:11:36.722Z"
   },
   {
    "duration": 431,
    "start_time": "2024-04-17T06:11:37.027Z"
   },
   {
    "duration": 448,
    "start_time": "2024-04-17T06:11:37.461Z"
   },
   {
    "duration": 6,
    "start_time": "2024-04-17T06:11:37.911Z"
   },
   {
    "duration": 31,
    "start_time": "2024-04-17T06:11:37.919Z"
   },
   {
    "duration": 5,
    "start_time": "2024-04-17T06:11:37.952Z"
   },
   {
    "duration": 7,
    "start_time": "2024-04-17T06:11:37.973Z"
   },
   {
    "duration": 14,
    "start_time": "2024-04-17T06:11:37.982Z"
   },
   {
    "duration": 20,
    "start_time": "2024-04-17T06:11:37.998Z"
   },
   {
    "duration": 10,
    "start_time": "2024-04-17T06:11:38.020Z"
   },
   {
    "duration": 11,
    "start_time": "2024-04-17T06:11:38.032Z"
   },
   {
    "duration": 37,
    "start_time": "2024-04-17T06:11:38.045Z"
   },
   {
    "duration": 9,
    "start_time": "2024-04-17T06:11:38.084Z"
   },
   {
    "duration": 30,
    "start_time": "2024-04-17T06:11:38.094Z"
   },
   {
    "duration": 20,
    "start_time": "2024-04-17T06:11:38.125Z"
   },
   {
    "duration": 19,
    "start_time": "2024-04-17T06:11:38.147Z"
   },
   {
    "duration": 171,
    "start_time": "2024-04-17T06:11:38.167Z"
   },
   {
    "duration": 125,
    "start_time": "2024-04-17T06:11:38.341Z"
   },
   {
    "duration": 9,
    "start_time": "2024-04-17T06:11:38.468Z"
   },
   {
    "duration": 18,
    "start_time": "2024-04-17T06:11:38.478Z"
   },
   {
    "duration": 7,
    "start_time": "2024-04-17T06:11:38.498Z"
   },
   {
    "duration": 225,
    "start_time": "2024-04-17T06:11:38.509Z"
   },
   {
    "duration": 184,
    "start_time": "2024-04-17T06:11:38.736Z"
   },
   {
    "duration": 216,
    "start_time": "2024-04-17T06:11:38.922Z"
   },
   {
    "duration": 253,
    "start_time": "2024-04-17T06:11:39.139Z"
   },
   {
    "duration": 253,
    "start_time": "2024-04-17T06:11:39.393Z"
   },
   {
    "duration": 44,
    "start_time": "2024-04-17T06:11:39.648Z"
   },
   {
    "duration": 22,
    "start_time": "2024-04-17T06:11:39.694Z"
   },
   {
    "duration": 18,
    "start_time": "2024-04-17T06:11:39.717Z"
   },
   {
    "duration": 44,
    "start_time": "2024-04-17T06:11:39.736Z"
   },
   {
    "duration": 293,
    "start_time": "2024-04-17T06:11:39.781Z"
   },
   {
    "duration": 415,
    "start_time": "2024-04-17T06:11:40.077Z"
   },
   {
    "duration": 4,
    "start_time": "2024-04-17T06:11:40.494Z"
   },
   {
    "duration": 49,
    "start_time": "2024-04-17T06:11:40.499Z"
   },
   {
    "duration": 51,
    "start_time": "2024-04-17T06:11:40.550Z"
   },
   {
    "duration": 306,
    "start_time": "2024-04-17T06:11:40.603Z"
   },
   {
    "duration": 22,
    "start_time": "2024-04-17T06:14:09.211Z"
   },
   {
    "duration": 29,
    "start_time": "2024-04-17T06:15:21.727Z"
   },
   {
    "duration": 8,
    "start_time": "2024-04-17T06:17:20.604Z"
   },
   {
    "duration": 12,
    "start_time": "2024-04-17T06:17:28.737Z"
   },
   {
    "duration": 20,
    "start_time": "2024-04-17T06:17:37.505Z"
   },
   {
    "duration": 8,
    "start_time": "2024-04-17T06:19:41.084Z"
   },
   {
    "duration": 8,
    "start_time": "2024-04-17T06:19:52.865Z"
   },
   {
    "duration": 10,
    "start_time": "2024-04-17T06:20:02.518Z"
   },
   {
    "duration": 18,
    "start_time": "2024-04-17T06:20:28.324Z"
   },
   {
    "duration": 31,
    "start_time": "2024-04-17T06:20:44.176Z"
   },
   {
    "duration": 19,
    "start_time": "2024-04-17T06:21:26.645Z"
   },
   {
    "duration": 450,
    "start_time": "2024-04-17T06:21:36.355Z"
   },
   {
    "duration": 277,
    "start_time": "2024-04-17T06:21:36.807Z"
   },
   {
    "duration": 3,
    "start_time": "2024-04-17T06:21:37.086Z"
   },
   {
    "duration": 10,
    "start_time": "2024-04-17T06:21:37.091Z"
   },
   {
    "duration": 32,
    "start_time": "2024-04-17T06:21:37.105Z"
   },
   {
    "duration": 29,
    "start_time": "2024-04-17T06:21:37.139Z"
   },
   {
    "duration": 14,
    "start_time": "2024-04-17T06:21:37.170Z"
   },
   {
    "duration": 15,
    "start_time": "2024-04-17T06:21:37.186Z"
   },
   {
    "duration": 21,
    "start_time": "2024-04-17T06:21:37.203Z"
   },
   {
    "duration": 13,
    "start_time": "2024-04-17T06:21:37.227Z"
   },
   {
    "duration": 14,
    "start_time": "2024-04-17T06:21:37.242Z"
   },
   {
    "duration": 36,
    "start_time": "2024-04-17T06:21:37.257Z"
   },
   {
    "duration": 10,
    "start_time": "2024-04-17T06:21:37.294Z"
   },
   {
    "duration": 6,
    "start_time": "2024-04-17T06:21:37.307Z"
   },
   {
    "duration": 11,
    "start_time": "2024-04-17T06:21:37.314Z"
   },
   {
    "duration": 5,
    "start_time": "2024-04-17T06:21:37.327Z"
   },
   {
    "duration": 50,
    "start_time": "2024-04-17T06:21:37.333Z"
   },
   {
    "duration": 19,
    "start_time": "2024-04-17T06:21:37.385Z"
   },
   {
    "duration": 18,
    "start_time": "2024-04-17T06:21:37.405Z"
   },
   {
    "duration": 319,
    "start_time": "2024-04-17T06:21:37.424Z"
   },
   {
    "duration": 420,
    "start_time": "2024-04-17T06:21:37.744Z"
   },
   {
    "duration": 458,
    "start_time": "2024-04-17T06:21:38.166Z"
   },
   {
    "duration": 5,
    "start_time": "2024-04-17T06:21:38.625Z"
   },
   {
    "duration": 41,
    "start_time": "2024-04-17T06:21:38.632Z"
   },
   {
    "duration": 3,
    "start_time": "2024-04-17T06:21:38.675Z"
   },
   {
    "duration": 9,
    "start_time": "2024-04-17T06:21:38.680Z"
   },
   {
    "duration": 10,
    "start_time": "2024-04-17T06:21:38.691Z"
   },
   {
    "duration": 6,
    "start_time": "2024-04-17T06:21:38.702Z"
   },
   {
    "duration": 5,
    "start_time": "2024-04-17T06:21:38.710Z"
   },
   {
    "duration": 21,
    "start_time": "2024-04-17T06:21:38.717Z"
   },
   {
    "duration": 34,
    "start_time": "2024-04-17T06:21:38.740Z"
   },
   {
    "duration": 8,
    "start_time": "2024-04-17T06:21:38.776Z"
   },
   {
    "duration": 7,
    "start_time": "2024-04-17T06:21:38.786Z"
   },
   {
    "duration": 7,
    "start_time": "2024-04-17T06:21:38.794Z"
   },
   {
    "duration": 11,
    "start_time": "2024-04-17T06:21:38.802Z"
   },
   {
    "duration": 162,
    "start_time": "2024-04-17T06:21:38.815Z"
   },
   {
    "duration": 139,
    "start_time": "2024-04-17T06:21:38.978Z"
   },
   {
    "duration": 8,
    "start_time": "2024-04-17T06:21:39.119Z"
   },
   {
    "duration": 11,
    "start_time": "2024-04-17T06:21:39.129Z"
   },
   {
    "duration": 36,
    "start_time": "2024-04-17T06:21:39.141Z"
   },
   {
    "duration": 212,
    "start_time": "2024-04-17T06:21:39.181Z"
   },
   {
    "duration": 190,
    "start_time": "2024-04-17T06:21:39.395Z"
   },
   {
    "duration": 214,
    "start_time": "2024-04-17T06:21:39.587Z"
   },
   {
    "duration": 244,
    "start_time": "2024-04-17T06:21:39.803Z"
   },
   {
    "duration": 297,
    "start_time": "2024-04-17T06:21:40.049Z"
   },
   {
    "duration": 46,
    "start_time": "2024-04-17T06:21:40.348Z"
   },
   {
    "duration": 15,
    "start_time": "2024-04-17T06:21:40.396Z"
   },
   {
    "duration": 18,
    "start_time": "2024-04-17T06:21:40.414Z"
   },
   {
    "duration": 48,
    "start_time": "2024-04-17T06:21:40.433Z"
   },
   {
    "duration": 298,
    "start_time": "2024-04-17T06:21:40.482Z"
   },
   {
    "duration": 379,
    "start_time": "2024-04-17T06:21:40.782Z"
   },
   {
    "duration": 14,
    "start_time": "2024-04-17T06:21:41.163Z"
   },
   {
    "duration": 49,
    "start_time": "2024-04-17T06:21:41.178Z"
   },
   {
    "duration": 57,
    "start_time": "2024-04-17T06:21:41.228Z"
   },
   {
    "duration": 339,
    "start_time": "2024-04-17T06:21:41.286Z"
   },
   {
    "duration": 1370,
    "start_time": "2024-04-17T06:22:38.520Z"
   },
   {
    "duration": 39,
    "start_time": "2024-04-17T06:24:10.131Z"
   },
   {
    "duration": 1373,
    "start_time": "2024-04-17T06:24:16.221Z"
   },
   {
    "duration": 21,
    "start_time": "2024-04-17T06:24:35.510Z"
   },
   {
    "duration": 1424,
    "start_time": "2024-04-17T06:25:19.895Z"
   },
   {
    "duration": 30,
    "start_time": "2024-04-17T06:25:40.547Z"
   },
   {
    "duration": 1581,
    "start_time": "2024-04-17T06:25:44.755Z"
   },
   {
    "duration": 41,
    "start_time": "2024-04-17T06:26:36.404Z"
   },
   {
    "duration": 19,
    "start_time": "2024-04-17T06:26:44.666Z"
   },
   {
    "duration": 37,
    "start_time": "2024-04-17T06:26:57.047Z"
   },
   {
    "duration": 109,
    "start_time": "2024-04-17T06:27:10.447Z"
   },
   {
    "duration": 22,
    "start_time": "2024-04-17T06:27:15.625Z"
   },
   {
    "duration": 19,
    "start_time": "2024-04-17T06:27:42.220Z"
   },
   {
    "duration": 459,
    "start_time": "2024-04-17T06:28:08.099Z"
   },
   {
    "duration": 264,
    "start_time": "2024-04-17T06:28:08.561Z"
   },
   {
    "duration": 3,
    "start_time": "2024-04-17T06:28:08.826Z"
   },
   {
    "duration": 14,
    "start_time": "2024-04-17T06:28:08.831Z"
   },
   {
    "duration": 38,
    "start_time": "2024-04-17T06:28:08.847Z"
   },
   {
    "duration": 31,
    "start_time": "2024-04-17T06:28:08.886Z"
   },
   {
    "duration": 16,
    "start_time": "2024-04-17T06:28:08.919Z"
   },
   {
    "duration": 17,
    "start_time": "2024-04-17T06:28:08.936Z"
   },
   {
    "duration": 9,
    "start_time": "2024-04-17T06:28:08.955Z"
   },
   {
    "duration": 8,
    "start_time": "2024-04-17T06:28:08.973Z"
   },
   {
    "duration": 18,
    "start_time": "2024-04-17T06:28:08.982Z"
   },
   {
    "duration": 30,
    "start_time": "2024-04-17T06:28:09.002Z"
   },
   {
    "duration": 22,
    "start_time": "2024-04-17T06:28:09.034Z"
   },
   {
    "duration": 14,
    "start_time": "2024-04-17T06:28:09.060Z"
   },
   {
    "duration": 19,
    "start_time": "2024-04-17T06:28:09.076Z"
   },
   {
    "duration": 25,
    "start_time": "2024-04-17T06:28:09.097Z"
   },
   {
    "duration": 24,
    "start_time": "2024-04-17T06:28:09.124Z"
   },
   {
    "duration": 28,
    "start_time": "2024-04-17T06:28:09.150Z"
   },
   {
    "duration": 18,
    "start_time": "2024-04-17T06:28:09.179Z"
   },
   {
    "duration": 285,
    "start_time": "2024-04-17T06:28:09.199Z"
   },
   {
    "duration": 438,
    "start_time": "2024-04-17T06:28:09.486Z"
   },
   {
    "duration": 452,
    "start_time": "2024-04-17T06:28:09.926Z"
   },
   {
    "duration": 5,
    "start_time": "2024-04-17T06:28:10.379Z"
   },
   {
    "duration": 15,
    "start_time": "2024-04-17T06:28:10.386Z"
   },
   {
    "duration": 30,
    "start_time": "2024-04-17T06:28:10.403Z"
   },
   {
    "duration": 7,
    "start_time": "2024-04-17T06:28:10.436Z"
   },
   {
    "duration": 8,
    "start_time": "2024-04-17T06:28:10.445Z"
   },
   {
    "duration": 19,
    "start_time": "2024-04-17T06:28:10.454Z"
   },
   {
    "duration": 12,
    "start_time": "2024-04-17T06:28:10.475Z"
   },
   {
    "duration": 10,
    "start_time": "2024-04-17T06:28:10.489Z"
   },
   {
    "duration": 12,
    "start_time": "2024-04-17T06:28:10.501Z"
   },
   {
    "duration": 12,
    "start_time": "2024-04-17T06:28:10.515Z"
   },
   {
    "duration": 11,
    "start_time": "2024-04-17T06:28:10.529Z"
   },
   {
    "duration": 7,
    "start_time": "2024-04-17T06:28:10.572Z"
   },
   {
    "duration": 27,
    "start_time": "2024-04-17T06:28:10.581Z"
   },
   {
    "duration": 136,
    "start_time": "2024-04-17T06:28:10.610Z"
   },
   {
    "duration": 137,
    "start_time": "2024-04-17T06:28:10.748Z"
   },
   {
    "duration": 10,
    "start_time": "2024-04-17T06:28:10.887Z"
   },
   {
    "duration": 27,
    "start_time": "2024-04-17T06:28:10.898Z"
   },
   {
    "duration": 11,
    "start_time": "2024-04-17T06:28:10.926Z"
   },
   {
    "duration": 236,
    "start_time": "2024-04-17T06:28:10.942Z"
   },
   {
    "duration": 194,
    "start_time": "2024-04-17T06:28:11.180Z"
   },
   {
    "duration": 217,
    "start_time": "2024-04-17T06:28:11.376Z"
   },
   {
    "duration": 240,
    "start_time": "2024-04-17T06:28:11.595Z"
   },
   {
    "duration": 241,
    "start_time": "2024-04-17T06:28:11.837Z"
   },
   {
    "duration": 36,
    "start_time": "2024-04-17T06:28:12.080Z"
   },
   {
    "duration": 21,
    "start_time": "2024-04-17T06:28:12.118Z"
   },
   {
    "duration": 48,
    "start_time": "2024-04-17T06:28:12.141Z"
   },
   {
    "duration": 14,
    "start_time": "2024-04-17T06:28:12.190Z"
   },
   {
    "duration": 316,
    "start_time": "2024-04-17T06:28:12.206Z"
   },
   {
    "duration": 425,
    "start_time": "2024-04-17T06:28:12.524Z"
   },
   {
    "duration": 4,
    "start_time": "2024-04-17T06:28:12.952Z"
   },
   {
    "duration": 81,
    "start_time": "2024-04-17T06:28:12.958Z"
   },
   {
    "duration": 40,
    "start_time": "2024-04-17T06:28:13.041Z"
   },
   {
    "duration": 227,
    "start_time": "2024-04-17T06:28:13.083Z"
   },
   {
    "duration": 82,
    "start_time": "2024-04-17T06:30:46.997Z"
   },
   {
    "duration": 8,
    "start_time": "2024-04-17T06:31:28.613Z"
   },
   {
    "duration": 212,
    "start_time": "2024-04-17T06:34:53.769Z"
   },
   {
    "duration": 9,
    "start_time": "2024-04-17T06:34:57.639Z"
   },
   {
    "duration": 233,
    "start_time": "2024-04-17T06:38:01.873Z"
   },
   {
    "duration": 203,
    "start_time": "2024-04-17T06:38:19.103Z"
   },
   {
    "duration": 1413,
    "start_time": "2024-04-17T06:38:26.766Z"
   },
   {
    "duration": 445,
    "start_time": "2024-04-17T06:39:01.648Z"
   },
   {
    "duration": 312,
    "start_time": "2024-04-17T06:39:02.095Z"
   },
   {
    "duration": 3,
    "start_time": "2024-04-17T06:39:02.409Z"
   },
   {
    "duration": 18,
    "start_time": "2024-04-17T06:39:02.413Z"
   },
   {
    "duration": 35,
    "start_time": "2024-04-17T06:39:02.435Z"
   },
   {
    "duration": 35,
    "start_time": "2024-04-17T06:39:02.472Z"
   },
   {
    "duration": 16,
    "start_time": "2024-04-17T06:39:02.513Z"
   },
   {
    "duration": 24,
    "start_time": "2024-04-17T06:39:02.532Z"
   },
   {
    "duration": 21,
    "start_time": "2024-04-17T06:39:02.558Z"
   },
   {
    "duration": 22,
    "start_time": "2024-04-17T06:39:02.581Z"
   },
   {
    "duration": 56,
    "start_time": "2024-04-17T06:39:02.604Z"
   },
   {
    "duration": 19,
    "start_time": "2024-04-17T06:39:02.662Z"
   },
   {
    "duration": 12,
    "start_time": "2024-04-17T06:39:02.682Z"
   },
   {
    "duration": 17,
    "start_time": "2024-04-17T06:39:02.698Z"
   },
   {
    "duration": 23,
    "start_time": "2024-04-17T06:39:02.717Z"
   },
   {
    "duration": 45,
    "start_time": "2024-04-17T06:39:02.742Z"
   },
   {
    "duration": 25,
    "start_time": "2024-04-17T06:39:02.789Z"
   },
   {
    "duration": 38,
    "start_time": "2024-04-17T06:39:02.816Z"
   },
   {
    "duration": 24,
    "start_time": "2024-04-17T06:39:02.856Z"
   },
   {
    "duration": 293,
    "start_time": "2024-04-17T06:39:02.882Z"
   },
   {
    "duration": 441,
    "start_time": "2024-04-17T06:39:03.177Z"
   },
   {
    "duration": 446,
    "start_time": "2024-04-17T06:39:03.620Z"
   },
   {
    "duration": 6,
    "start_time": "2024-04-17T06:39:04.067Z"
   },
   {
    "duration": 34,
    "start_time": "2024-04-17T06:39:04.075Z"
   },
   {
    "duration": 6,
    "start_time": "2024-04-17T06:39:04.112Z"
   },
   {
    "duration": 14,
    "start_time": "2024-04-17T06:39:04.121Z"
   },
   {
    "duration": 9,
    "start_time": "2024-04-17T06:39:04.137Z"
   },
   {
    "duration": 4,
    "start_time": "2024-04-17T06:39:04.149Z"
   },
   {
    "duration": 23,
    "start_time": "2024-04-17T06:39:04.155Z"
   },
   {
    "duration": 11,
    "start_time": "2024-04-17T06:39:04.182Z"
   },
   {
    "duration": 18,
    "start_time": "2024-04-17T06:39:04.195Z"
   },
   {
    "duration": 10,
    "start_time": "2024-04-17T06:39:04.215Z"
   },
   {
    "duration": 8,
    "start_time": "2024-04-17T06:39:04.227Z"
   },
   {
    "duration": 7,
    "start_time": "2024-04-17T06:39:04.273Z"
   },
   {
    "duration": 7,
    "start_time": "2024-04-17T06:39:04.282Z"
   },
   {
    "duration": 200,
    "start_time": "2024-04-17T06:39:04.291Z"
   },
   {
    "duration": 134,
    "start_time": "2024-04-17T06:39:04.494Z"
   },
   {
    "duration": 11,
    "start_time": "2024-04-17T06:39:04.630Z"
   },
   {
    "duration": 17,
    "start_time": "2024-04-17T06:39:04.643Z"
   },
   {
    "duration": 10,
    "start_time": "2024-04-17T06:39:04.674Z"
   },
   {
    "duration": 229,
    "start_time": "2024-04-17T06:39:04.688Z"
   },
   {
    "duration": 195,
    "start_time": "2024-04-17T06:39:04.919Z"
   },
   {
    "duration": 228,
    "start_time": "2024-04-17T06:39:05.116Z"
   },
   {
    "duration": 255,
    "start_time": "2024-04-17T06:39:05.346Z"
   },
   {
    "duration": 273,
    "start_time": "2024-04-17T06:39:05.603Z"
   },
   {
    "duration": 44,
    "start_time": "2024-04-17T06:39:05.878Z"
   },
   {
    "duration": 20,
    "start_time": "2024-04-17T06:39:05.925Z"
   },
   {
    "duration": 41,
    "start_time": "2024-04-17T06:39:05.947Z"
   },
   {
    "duration": 22,
    "start_time": "2024-04-17T06:39:05.990Z"
   },
   {
    "duration": 362,
    "start_time": "2024-04-17T06:39:06.015Z"
   },
   {
    "duration": 379,
    "start_time": "2024-04-17T06:39:06.379Z"
   },
   {
    "duration": 4,
    "start_time": "2024-04-17T06:39:06.760Z"
   },
   {
    "duration": 69,
    "start_time": "2024-04-17T06:39:06.773Z"
   },
   {
    "duration": 32,
    "start_time": "2024-04-17T06:39:06.844Z"
   },
   {
    "duration": 300,
    "start_time": "2024-04-17T06:39:06.878Z"
   },
   {
    "duration": 10,
    "start_time": "2024-04-17T06:39:07.180Z"
   },
   {
    "duration": 32,
    "start_time": "2024-04-17T06:39:20.622Z"
   },
   {
    "duration": 1723,
    "start_time": "2024-04-17T06:40:26.997Z"
   },
   {
    "duration": 0,
    "start_time": "2024-04-17T06:40:28.722Z"
   },
   {
    "duration": 1457,
    "start_time": "2024-04-17T06:40:39.428Z"
   },
   {
    "duration": 468,
    "start_time": "2024-04-17T06:40:52.320Z"
   },
   {
    "duration": 292,
    "start_time": "2024-04-17T06:40:52.790Z"
   },
   {
    "duration": 3,
    "start_time": "2024-04-17T06:40:53.084Z"
   },
   {
    "duration": 8,
    "start_time": "2024-04-17T06:40:53.088Z"
   },
   {
    "duration": 31,
    "start_time": "2024-04-17T06:40:53.098Z"
   },
   {
    "duration": 29,
    "start_time": "2024-04-17T06:40:53.131Z"
   },
   {
    "duration": 15,
    "start_time": "2024-04-17T06:40:53.161Z"
   },
   {
    "duration": 18,
    "start_time": "2024-04-17T06:40:53.178Z"
   },
   {
    "duration": 10,
    "start_time": "2024-04-17T06:40:53.198Z"
   },
   {
    "duration": 18,
    "start_time": "2024-04-17T06:40:53.209Z"
   },
   {
    "duration": 25,
    "start_time": "2024-04-17T06:40:53.229Z"
   },
   {
    "duration": 23,
    "start_time": "2024-04-17T06:40:53.256Z"
   },
   {
    "duration": 10,
    "start_time": "2024-04-17T06:40:53.281Z"
   },
   {
    "duration": 6,
    "start_time": "2024-04-17T06:40:53.294Z"
   },
   {
    "duration": 13,
    "start_time": "2024-04-17T06:40:53.302Z"
   },
   {
    "duration": 6,
    "start_time": "2024-04-17T06:40:53.317Z"
   },
   {
    "duration": 17,
    "start_time": "2024-04-17T06:40:53.324Z"
   },
   {
    "duration": 48,
    "start_time": "2024-04-17T06:40:53.342Z"
   },
   {
    "duration": 17,
    "start_time": "2024-04-17T06:40:53.392Z"
   },
   {
    "duration": 324,
    "start_time": "2024-04-17T06:40:53.412Z"
   },
   {
    "duration": 424,
    "start_time": "2024-04-17T06:40:53.738Z"
   },
   {
    "duration": 511,
    "start_time": "2024-04-17T06:40:54.163Z"
   },
   {
    "duration": 4,
    "start_time": "2024-04-17T06:40:54.676Z"
   },
   {
    "duration": 23,
    "start_time": "2024-04-17T06:40:54.682Z"
   },
   {
    "duration": 5,
    "start_time": "2024-04-17T06:40:54.707Z"
   },
   {
    "duration": 7,
    "start_time": "2024-04-17T06:40:54.714Z"
   },
   {
    "duration": 6,
    "start_time": "2024-04-17T06:40:54.723Z"
   },
   {
    "duration": 11,
    "start_time": "2024-04-17T06:40:54.730Z"
   },
   {
    "duration": 9,
    "start_time": "2024-04-17T06:40:54.743Z"
   },
   {
    "duration": 22,
    "start_time": "2024-04-17T06:40:54.754Z"
   },
   {
    "duration": 15,
    "start_time": "2024-04-17T06:40:54.779Z"
   },
   {
    "duration": 8,
    "start_time": "2024-04-17T06:40:54.796Z"
   },
   {
    "duration": 14,
    "start_time": "2024-04-17T06:40:54.806Z"
   },
   {
    "duration": 9,
    "start_time": "2024-04-17T06:40:54.822Z"
   },
   {
    "duration": 26,
    "start_time": "2024-04-17T06:40:54.833Z"
   },
   {
    "duration": 122,
    "start_time": "2024-04-17T06:40:54.873Z"
   },
   {
    "duration": 129,
    "start_time": "2024-04-17T06:40:54.996Z"
   },
   {
    "duration": 9,
    "start_time": "2024-04-17T06:40:55.126Z"
   },
   {
    "duration": 15,
    "start_time": "2024-04-17T06:40:55.137Z"
   },
   {
    "duration": 24,
    "start_time": "2024-04-17T06:40:55.154Z"
   },
   {
    "duration": 216,
    "start_time": "2024-04-17T06:40:55.182Z"
   },
   {
    "duration": 176,
    "start_time": "2024-04-17T06:40:55.400Z"
   },
   {
    "duration": 226,
    "start_time": "2024-04-17T06:40:55.578Z"
   },
   {
    "duration": 247,
    "start_time": "2024-04-17T06:40:55.806Z"
   },
   {
    "duration": 275,
    "start_time": "2024-04-17T06:40:56.055Z"
   },
   {
    "duration": 26,
    "start_time": "2024-04-17T06:40:56.331Z"
   },
   {
    "duration": 27,
    "start_time": "2024-04-17T06:40:56.359Z"
   },
   {
    "duration": 17,
    "start_time": "2024-04-17T06:40:56.388Z"
   },
   {
    "duration": 16,
    "start_time": "2024-04-17T06:40:56.406Z"
   },
   {
    "duration": 303,
    "start_time": "2024-04-17T06:40:56.424Z"
   },
   {
    "duration": 440,
    "start_time": "2024-04-17T06:40:56.730Z"
   },
   {
    "duration": 4,
    "start_time": "2024-04-17T06:40:57.173Z"
   },
   {
    "duration": 59,
    "start_time": "2024-04-17T06:40:57.179Z"
   },
   {
    "duration": 39,
    "start_time": "2024-04-17T06:40:57.240Z"
   },
   {
    "duration": 236,
    "start_time": "2024-04-17T06:40:57.281Z"
   },
   {
    "duration": 24,
    "start_time": "2024-04-17T06:40:57.519Z"
   },
   {
    "duration": 11,
    "start_time": "2024-04-17T06:42:17.146Z"
   },
   {
    "duration": 158,
    "start_time": "2024-04-17T06:45:02.897Z"
   },
   {
    "duration": 631,
    "start_time": "2024-04-17T06:45:09.771Z"
   },
   {
    "duration": 389,
    "start_time": "2024-04-17T06:45:16.373Z"
   },
   {
    "duration": 84,
    "start_time": "2024-04-17T06:54:14.226Z"
   },
   {
    "duration": 11,
    "start_time": "2024-04-17T06:54:41.091Z"
   },
   {
    "duration": 1584,
    "start_time": "2024-04-17T06:55:16.673Z"
   },
   {
    "duration": 428,
    "start_time": "2024-04-17T06:55:27.738Z"
   },
   {
    "duration": 301,
    "start_time": "2024-04-17T06:55:28.172Z"
   },
   {
    "duration": 3,
    "start_time": "2024-04-17T06:55:28.475Z"
   },
   {
    "duration": 5,
    "start_time": "2024-04-17T06:55:28.479Z"
   },
   {
    "duration": 30,
    "start_time": "2024-04-17T06:55:28.487Z"
   },
   {
    "duration": 30,
    "start_time": "2024-04-17T06:55:28.519Z"
   },
   {
    "duration": 15,
    "start_time": "2024-04-17T06:55:28.551Z"
   },
   {
    "duration": 20,
    "start_time": "2024-04-17T06:55:28.568Z"
   },
   {
    "duration": 10,
    "start_time": "2024-04-17T06:55:28.589Z"
   },
   {
    "duration": 9,
    "start_time": "2024-04-17T06:55:28.601Z"
   },
   {
    "duration": 18,
    "start_time": "2024-04-17T06:55:28.612Z"
   },
   {
    "duration": 26,
    "start_time": "2024-04-17T06:55:28.632Z"
   },
   {
    "duration": 11,
    "start_time": "2024-04-17T06:55:28.672Z"
   },
   {
    "duration": 11,
    "start_time": "2024-04-17T06:55:28.687Z"
   },
   {
    "duration": 33,
    "start_time": "2024-04-17T06:55:28.700Z"
   },
   {
    "duration": 7,
    "start_time": "2024-04-17T06:55:28.735Z"
   },
   {
    "duration": 30,
    "start_time": "2024-04-17T06:55:28.744Z"
   },
   {
    "duration": 24,
    "start_time": "2024-04-17T06:55:28.775Z"
   },
   {
    "duration": 24,
    "start_time": "2024-04-17T06:55:28.801Z"
   },
   {
    "duration": 286,
    "start_time": "2024-04-17T06:55:28.827Z"
   },
   {
    "duration": 410,
    "start_time": "2024-04-17T06:55:29.115Z"
   },
   {
    "duration": 439,
    "start_time": "2024-04-17T06:55:29.526Z"
   },
   {
    "duration": 8,
    "start_time": "2024-04-17T06:55:29.966Z"
   },
   {
    "duration": 41,
    "start_time": "2024-04-17T06:55:29.975Z"
   },
   {
    "duration": 102,
    "start_time": "2024-04-17T06:55:30.020Z"
   },
   {
    "duration": 110,
    "start_time": "2024-04-17T06:55:30.124Z"
   },
   {
    "duration": 161,
    "start_time": "2024-04-17T06:55:30.236Z"
   },
   {
    "duration": 123,
    "start_time": "2024-04-17T06:55:30.399Z"
   },
   {
    "duration": 70,
    "start_time": "2024-04-17T06:55:30.523Z"
   },
   {
    "duration": 101,
    "start_time": "2024-04-17T06:55:30.595Z"
   },
   {
    "duration": 94,
    "start_time": "2024-04-17T06:55:30.697Z"
   },
   {
    "duration": 86,
    "start_time": "2024-04-17T06:55:30.792Z"
   },
   {
    "duration": 88,
    "start_time": "2024-04-17T06:55:30.880Z"
   },
   {
    "duration": 113,
    "start_time": "2024-04-17T06:55:30.970Z"
   },
   {
    "duration": 179,
    "start_time": "2024-04-17T06:55:31.085Z"
   },
   {
    "duration": 332,
    "start_time": "2024-04-17T06:55:31.265Z"
   },
   {
    "duration": 135,
    "start_time": "2024-04-17T06:55:31.599Z"
   },
   {
    "duration": 9,
    "start_time": "2024-04-17T06:55:31.737Z"
   },
   {
    "duration": 30,
    "start_time": "2024-04-17T06:55:31.749Z"
   },
   {
    "duration": 36,
    "start_time": "2024-04-17T06:55:31.781Z"
   },
   {
    "duration": 217,
    "start_time": "2024-04-17T06:55:31.822Z"
   },
   {
    "duration": 189,
    "start_time": "2024-04-17T06:55:32.041Z"
   },
   {
    "duration": 213,
    "start_time": "2024-04-17T06:55:32.232Z"
   },
   {
    "duration": 231,
    "start_time": "2024-04-17T06:55:32.447Z"
   },
   {
    "duration": 253,
    "start_time": "2024-04-17T06:55:32.679Z"
   },
   {
    "duration": 39,
    "start_time": "2024-04-17T06:55:32.935Z"
   },
   {
    "duration": 23,
    "start_time": "2024-04-17T06:55:32.976Z"
   },
   {
    "duration": 17,
    "start_time": "2024-04-17T06:55:33.001Z"
   },
   {
    "duration": 28,
    "start_time": "2024-04-17T06:55:33.020Z"
   },
   {
    "duration": 431,
    "start_time": "2024-04-17T06:55:33.050Z"
   },
   {
    "duration": 384,
    "start_time": "2024-04-17T06:55:33.483Z"
   },
   {
    "duration": 6,
    "start_time": "2024-04-17T06:55:33.868Z"
   },
   {
    "duration": 68,
    "start_time": "2024-04-17T06:55:33.876Z"
   },
   {
    "duration": 31,
    "start_time": "2024-04-17T06:55:33.945Z"
   },
   {
    "duration": 247,
    "start_time": "2024-04-17T06:55:33.977Z"
   },
   {
    "duration": 7,
    "start_time": "2024-04-17T06:55:34.226Z"
   },
   {
    "duration": 10770,
    "start_time": "2024-04-17T06:55:34.235Z"
   },
   {
    "duration": 11334,
    "start_time": "2024-04-17T06:57:56.210Z"
   },
   {
    "duration": 171,
    "start_time": "2024-04-17T06:58:32.695Z"
   },
   {
    "duration": 83,
    "start_time": "2024-04-17T07:02:24.557Z"
   },
   {
    "duration": 18,
    "start_time": "2024-04-17T07:02:37.688Z"
   },
   {
    "duration": 1488,
    "start_time": "2024-04-17T07:07:32.261Z"
   },
   {
    "duration": 418,
    "start_time": "2024-04-17T07:08:16.634Z"
   },
   {
    "duration": 274,
    "start_time": "2024-04-17T07:08:17.054Z"
   },
   {
    "duration": 3,
    "start_time": "2024-04-17T07:08:17.330Z"
   },
   {
    "duration": 40,
    "start_time": "2024-04-17T07:08:17.334Z"
   },
   {
    "duration": 53,
    "start_time": "2024-04-17T07:08:17.377Z"
   },
   {
    "duration": 45,
    "start_time": "2024-04-17T07:08:17.432Z"
   },
   {
    "duration": 15,
    "start_time": "2024-04-17T07:08:17.479Z"
   },
   {
    "duration": 23,
    "start_time": "2024-04-17T07:08:17.496Z"
   },
   {
    "duration": 20,
    "start_time": "2024-04-17T07:08:17.521Z"
   },
   {
    "duration": 47,
    "start_time": "2024-04-17T07:08:17.542Z"
   },
   {
    "duration": 25,
    "start_time": "2024-04-17T07:08:17.592Z"
   },
   {
    "duration": 25,
    "start_time": "2024-04-17T07:08:17.619Z"
   },
   {
    "duration": 13,
    "start_time": "2024-04-17T07:08:17.646Z"
   },
   {
    "duration": 14,
    "start_time": "2024-04-17T07:08:17.662Z"
   },
   {
    "duration": 40,
    "start_time": "2024-04-17T07:08:17.678Z"
   },
   {
    "duration": 27,
    "start_time": "2024-04-17T07:08:17.719Z"
   },
   {
    "duration": 32,
    "start_time": "2024-04-17T07:08:17.748Z"
   },
   {
    "duration": 20,
    "start_time": "2024-04-17T07:08:17.782Z"
   },
   {
    "duration": 27,
    "start_time": "2024-04-17T07:08:17.804Z"
   },
   {
    "duration": 290,
    "start_time": "2024-04-17T07:08:17.833Z"
   },
   {
    "duration": 387,
    "start_time": "2024-04-17T07:08:18.124Z"
   },
   {
    "duration": 449,
    "start_time": "2024-04-17T07:08:18.513Z"
   },
   {
    "duration": 9,
    "start_time": "2024-04-17T07:08:18.965Z"
   },
   {
    "duration": 24,
    "start_time": "2024-04-17T07:08:18.976Z"
   },
   {
    "duration": 24,
    "start_time": "2024-04-17T07:08:19.002Z"
   },
   {
    "duration": 21,
    "start_time": "2024-04-17T07:08:19.028Z"
   },
   {
    "duration": 27,
    "start_time": "2024-04-17T07:08:19.051Z"
   },
   {
    "duration": 20,
    "start_time": "2024-04-17T07:08:19.080Z"
   },
   {
    "duration": 15,
    "start_time": "2024-04-17T07:08:19.102Z"
   },
   {
    "duration": 16,
    "start_time": "2024-04-17T07:08:19.119Z"
   },
   {
    "duration": 76,
    "start_time": "2024-04-17T07:08:19.137Z"
   },
   {
    "duration": 13,
    "start_time": "2024-04-17T07:08:19.215Z"
   },
   {
    "duration": 17,
    "start_time": "2024-04-17T07:08:19.230Z"
   },
   {
    "duration": 45,
    "start_time": "2024-04-17T07:08:19.250Z"
   },
   {
    "duration": 18,
    "start_time": "2024-04-17T07:08:19.297Z"
   },
   {
    "duration": 139,
    "start_time": "2024-04-17T07:08:19.317Z"
   },
   {
    "duration": 119,
    "start_time": "2024-04-17T07:08:19.458Z"
   },
   {
    "duration": 10,
    "start_time": "2024-04-17T07:08:19.578Z"
   },
   {
    "duration": 18,
    "start_time": "2024-04-17T07:08:19.590Z"
   },
   {
    "duration": 18,
    "start_time": "2024-04-17T07:08:19.610Z"
   },
   {
    "duration": 209,
    "start_time": "2024-04-17T07:08:19.633Z"
   },
   {
    "duration": 182,
    "start_time": "2024-04-17T07:08:19.844Z"
   },
   {
    "duration": 254,
    "start_time": "2024-04-17T07:08:20.028Z"
   },
   {
    "duration": 232,
    "start_time": "2024-04-17T07:08:20.284Z"
   },
   {
    "duration": 235,
    "start_time": "2024-04-17T07:08:20.518Z"
   },
   {
    "duration": 50,
    "start_time": "2024-04-17T07:08:20.755Z"
   },
   {
    "duration": 21,
    "start_time": "2024-04-17T07:08:20.807Z"
   },
   {
    "duration": 25,
    "start_time": "2024-04-17T07:08:20.829Z"
   },
   {
    "duration": 19,
    "start_time": "2024-04-17T07:08:20.874Z"
   },
   {
    "duration": 323,
    "start_time": "2024-04-17T07:08:20.895Z"
   },
   {
    "duration": 370,
    "start_time": "2024-04-17T07:08:21.220Z"
   },
   {
    "duration": 4,
    "start_time": "2024-04-17T07:08:21.591Z"
   },
   {
    "duration": 50,
    "start_time": "2024-04-17T07:08:21.596Z"
   },
   {
    "duration": 49,
    "start_time": "2024-04-17T07:08:21.647Z"
   },
   {
    "duration": 235,
    "start_time": "2024-04-17T07:08:21.698Z"
   },
   {
    "duration": 8,
    "start_time": "2024-04-17T07:08:21.935Z"
   },
   {
    "duration": 2301,
    "start_time": "2024-04-17T07:08:21.944Z"
   },
   {
    "duration": 1460,
    "start_time": "2024-04-17T07:08:56.526Z"
   },
   {
    "duration": 19,
    "start_time": "2024-04-17T07:15:59.016Z"
   },
   {
    "duration": 40,
    "start_time": "2024-04-17T07:17:32.706Z"
   },
   {
    "duration": 763,
    "start_time": "2024-04-17T07:17:50.583Z"
   },
   {
    "duration": 2511,
    "start_time": "2024-04-17T07:18:18.768Z"
   },
   {
    "duration": 407,
    "start_time": "2024-04-17T07:19:18.798Z"
   },
   {
    "duration": 258,
    "start_time": "2024-04-17T07:19:19.207Z"
   },
   {
    "duration": 2,
    "start_time": "2024-04-17T07:19:19.467Z"
   },
   {
    "duration": 7,
    "start_time": "2024-04-17T07:19:19.470Z"
   },
   {
    "duration": 105,
    "start_time": "2024-04-17T07:19:19.479Z"
   },
   {
    "duration": 136,
    "start_time": "2024-04-17T07:19:19.586Z"
   },
   {
    "duration": 68,
    "start_time": "2024-04-17T07:19:19.724Z"
   },
   {
    "duration": 13,
    "start_time": "2024-04-17T07:19:19.793Z"
   },
   {
    "duration": 18,
    "start_time": "2024-04-17T07:19:19.807Z"
   },
   {
    "duration": 16,
    "start_time": "2024-04-17T07:19:19.827Z"
   },
   {
    "duration": 18,
    "start_time": "2024-04-17T07:19:19.844Z"
   },
   {
    "duration": 36,
    "start_time": "2024-04-17T07:19:19.864Z"
   },
   {
    "duration": 10,
    "start_time": "2024-04-17T07:19:19.902Z"
   },
   {
    "duration": 25,
    "start_time": "2024-04-17T07:19:19.915Z"
   },
   {
    "duration": 19,
    "start_time": "2024-04-17T07:19:19.941Z"
   },
   {
    "duration": 11,
    "start_time": "2024-04-17T07:19:19.961Z"
   },
   {
    "duration": 18,
    "start_time": "2024-04-17T07:19:19.974Z"
   },
   {
    "duration": 20,
    "start_time": "2024-04-17T07:19:19.994Z"
   },
   {
    "duration": 38,
    "start_time": "2024-04-17T07:19:20.015Z"
   },
   {
    "duration": 292,
    "start_time": "2024-04-17T07:19:20.054Z"
   },
   {
    "duration": 393,
    "start_time": "2024-04-17T07:19:20.347Z"
   },
   {
    "duration": 433,
    "start_time": "2024-04-17T07:19:20.742Z"
   },
   {
    "duration": 5,
    "start_time": "2024-04-17T07:19:21.177Z"
   },
   {
    "duration": 18,
    "start_time": "2024-04-17T07:19:21.183Z"
   },
   {
    "duration": 13,
    "start_time": "2024-04-17T07:19:21.203Z"
   },
   {
    "duration": 6,
    "start_time": "2024-04-17T07:19:21.218Z"
   },
   {
    "duration": 22,
    "start_time": "2024-04-17T07:19:21.225Z"
   },
   {
    "duration": 31,
    "start_time": "2024-04-17T07:19:21.249Z"
   },
   {
    "duration": 25,
    "start_time": "2024-04-17T07:19:21.282Z"
   },
   {
    "duration": 20,
    "start_time": "2024-04-17T07:19:21.309Z"
   },
   {
    "duration": 12,
    "start_time": "2024-04-17T07:19:21.331Z"
   },
   {
    "duration": 19,
    "start_time": "2024-04-17T07:19:21.345Z"
   },
   {
    "duration": 6,
    "start_time": "2024-04-17T07:19:21.365Z"
   },
   {
    "duration": 16,
    "start_time": "2024-04-17T07:19:21.373Z"
   },
   {
    "duration": 24,
    "start_time": "2024-04-17T07:19:21.390Z"
   },
   {
    "duration": 154,
    "start_time": "2024-04-17T07:19:21.416Z"
   },
   {
    "duration": 137,
    "start_time": "2024-04-17T07:19:21.573Z"
   },
   {
    "duration": 8,
    "start_time": "2024-04-17T07:19:21.712Z"
   },
   {
    "duration": 24,
    "start_time": "2024-04-17T07:19:21.722Z"
   },
   {
    "duration": 14,
    "start_time": "2024-04-17T07:19:21.747Z"
   },
   {
    "duration": 211,
    "start_time": "2024-04-17T07:19:21.765Z"
   },
   {
    "duration": 168,
    "start_time": "2024-04-17T07:19:21.977Z"
   },
   {
    "duration": 213,
    "start_time": "2024-04-17T07:19:22.147Z"
   },
   {
    "duration": 221,
    "start_time": "2024-04-17T07:19:22.361Z"
   },
   {
    "duration": 230,
    "start_time": "2024-04-17T07:19:22.584Z"
   },
   {
    "duration": 26,
    "start_time": "2024-04-17T07:19:22.816Z"
   },
   {
    "duration": 30,
    "start_time": "2024-04-17T07:19:22.844Z"
   },
   {
    "duration": 15,
    "start_time": "2024-04-17T07:19:22.876Z"
   },
   {
    "duration": 13,
    "start_time": "2024-04-17T07:19:22.892Z"
   },
   {
    "duration": 304,
    "start_time": "2024-04-17T07:19:22.907Z"
   },
   {
    "duration": 375,
    "start_time": "2024-04-17T07:19:23.212Z"
   },
   {
    "duration": 4,
    "start_time": "2024-04-17T07:19:23.588Z"
   },
   {
    "duration": 41,
    "start_time": "2024-04-17T07:19:23.593Z"
   },
   {
    "duration": 46,
    "start_time": "2024-04-17T07:19:23.635Z"
   },
   {
    "duration": 230,
    "start_time": "2024-04-17T07:19:23.683Z"
   },
   {
    "duration": 7,
    "start_time": "2024-04-17T07:19:23.915Z"
   },
   {
    "duration": 58,
    "start_time": "2024-04-17T07:19:23.923Z"
   },
   {
    "duration": 305,
    "start_time": "2024-04-17T07:20:24.134Z"
   },
   {
    "duration": 300,
    "start_time": "2024-04-17T07:23:08.173Z"
   },
   {
    "duration": 291,
    "start_time": "2024-04-17T07:23:30.891Z"
   },
   {
    "duration": 610,
    "start_time": "2024-04-17T07:26:16.759Z"
   },
   {
    "duration": 500,
    "start_time": "2024-04-17T07:26:42.314Z"
   },
   {
    "duration": 367,
    "start_time": "2024-04-17T07:27:11.311Z"
   },
   {
    "duration": 105,
    "start_time": "2024-04-17T07:33:09.114Z"
   },
   {
    "duration": 30,
    "start_time": "2024-04-17T07:33:21.449Z"
   },
   {
    "duration": 33,
    "start_time": "2024-04-17T07:33:48.471Z"
   },
   {
    "duration": 146,
    "start_time": "2024-04-17T07:34:07.981Z"
   },
   {
    "duration": 86,
    "start_time": "2024-04-17T07:34:23.020Z"
   },
   {
    "duration": 146,
    "start_time": "2024-04-17T07:34:35.445Z"
   },
   {
    "duration": 143,
    "start_time": "2024-04-17T07:35:45.104Z"
   },
   {
    "duration": 162,
    "start_time": "2024-04-17T07:36:51.186Z"
   },
   {
    "duration": 159,
    "start_time": "2024-04-17T07:38:13.670Z"
   },
   {
    "duration": 318,
    "start_time": "2024-04-17T07:38:40.413Z"
   },
   {
    "duration": 322,
    "start_time": "2024-04-17T07:39:04.241Z"
   },
   {
    "duration": 501,
    "start_time": "2024-04-17T07:46:58.945Z"
   },
   {
    "duration": 1338,
    "start_time": "2024-04-17T07:47:02.346Z"
   },
   {
    "duration": 416,
    "start_time": "2024-04-17T07:47:55.126Z"
   },
   {
    "duration": 313,
    "start_time": "2024-04-17T07:47:55.544Z"
   },
   {
    "duration": 3,
    "start_time": "2024-04-17T07:47:55.859Z"
   },
   {
    "duration": 4,
    "start_time": "2024-04-17T07:47:55.865Z"
   },
   {
    "duration": 32,
    "start_time": "2024-04-17T07:47:55.872Z"
   },
   {
    "duration": 30,
    "start_time": "2024-04-17T07:47:55.906Z"
   },
   {
    "duration": 15,
    "start_time": "2024-04-17T07:47:55.937Z"
   },
   {
    "duration": 17,
    "start_time": "2024-04-17T07:47:55.954Z"
   },
   {
    "duration": 23,
    "start_time": "2024-04-17T07:47:55.973Z"
   },
   {
    "duration": 21,
    "start_time": "2024-04-17T07:47:55.999Z"
   },
   {
    "duration": 27,
    "start_time": "2024-04-17T07:47:56.022Z"
   },
   {
    "duration": 20,
    "start_time": "2024-04-17T07:47:56.051Z"
   },
   {
    "duration": 16,
    "start_time": "2024-04-17T07:47:56.072Z"
   },
   {
    "duration": 16,
    "start_time": "2024-04-17T07:47:56.089Z"
   },
   {
    "duration": 12,
    "start_time": "2024-04-17T07:47:56.107Z"
   },
   {
    "duration": 5,
    "start_time": "2024-04-17T07:47:56.121Z"
   },
   {
    "duration": 21,
    "start_time": "2024-04-17T07:47:56.128Z"
   },
   {
    "duration": 38,
    "start_time": "2024-04-17T07:47:56.151Z"
   },
   {
    "duration": 17,
    "start_time": "2024-04-17T07:47:56.191Z"
   },
   {
    "duration": 284,
    "start_time": "2024-04-17T07:47:56.210Z"
   },
   {
    "duration": 401,
    "start_time": "2024-04-17T07:47:56.495Z"
   },
   {
    "duration": 487,
    "start_time": "2024-04-17T07:47:56.898Z"
   },
   {
    "duration": 5,
    "start_time": "2024-04-17T07:47:57.387Z"
   },
   {
    "duration": 50,
    "start_time": "2024-04-17T07:47:57.394Z"
   },
   {
    "duration": 25,
    "start_time": "2024-04-17T07:47:57.446Z"
   },
   {
    "duration": 36,
    "start_time": "2024-04-17T07:47:57.473Z"
   },
   {
    "duration": 44,
    "start_time": "2024-04-17T07:47:57.510Z"
   },
   {
    "duration": 47,
    "start_time": "2024-04-17T07:47:57.558Z"
   },
   {
    "duration": 41,
    "start_time": "2024-04-17T07:47:57.606Z"
   },
   {
    "duration": 29,
    "start_time": "2024-04-17T07:47:57.649Z"
   },
   {
    "duration": 30,
    "start_time": "2024-04-17T07:47:57.680Z"
   },
   {
    "duration": 15,
    "start_time": "2024-04-17T07:47:57.712Z"
   },
   {
    "duration": 23,
    "start_time": "2024-04-17T07:47:57.728Z"
   },
   {
    "duration": 21,
    "start_time": "2024-04-17T07:47:57.753Z"
   },
   {
    "duration": 21,
    "start_time": "2024-04-17T07:47:57.776Z"
   },
   {
    "duration": 124,
    "start_time": "2024-04-17T07:47:57.799Z"
   },
   {
    "duration": 123,
    "start_time": "2024-04-17T07:47:57.924Z"
   },
   {
    "duration": 9,
    "start_time": "2024-04-17T07:47:58.048Z"
   },
   {
    "duration": 14,
    "start_time": "2024-04-17T07:47:58.072Z"
   },
   {
    "duration": 37,
    "start_time": "2024-04-17T07:47:58.087Z"
   },
   {
    "duration": 211,
    "start_time": "2024-04-17T07:47:58.126Z"
   },
   {
    "duration": 183,
    "start_time": "2024-04-17T07:47:58.338Z"
   },
   {
    "duration": 209,
    "start_time": "2024-04-17T07:47:58.523Z"
   },
   {
    "duration": 257,
    "start_time": "2024-04-17T07:47:58.733Z"
   },
   {
    "duration": 228,
    "start_time": "2024-04-17T07:47:58.992Z"
   },
   {
    "duration": 28,
    "start_time": "2024-04-17T07:47:59.222Z"
   },
   {
    "duration": 42,
    "start_time": "2024-04-17T07:47:59.252Z"
   },
   {
    "duration": 25,
    "start_time": "2024-04-17T07:47:59.296Z"
   },
   {
    "duration": 14,
    "start_time": "2024-04-17T07:47:59.323Z"
   },
   {
    "duration": 282,
    "start_time": "2024-04-17T07:47:59.338Z"
   },
   {
    "duration": 382,
    "start_time": "2024-04-17T07:47:59.621Z"
   },
   {
    "duration": 4,
    "start_time": "2024-04-17T07:48:00.005Z"
   },
   {
    "duration": 136,
    "start_time": "2024-04-17T07:48:00.011Z"
   },
   {
    "duration": 124,
    "start_time": "2024-04-17T07:48:00.149Z"
   },
   {
    "duration": 308,
    "start_time": "2024-04-17T07:48:00.275Z"
   },
   {
    "duration": 8,
    "start_time": "2024-04-17T07:48:00.585Z"
   },
   {
    "duration": 188,
    "start_time": "2024-04-17T07:48:00.595Z"
   },
   {
    "duration": 487,
    "start_time": "2024-04-17T07:48:00.784Z"
   },
   {
    "duration": 539,
    "start_time": "2024-04-17T07:48:01.272Z"
   },
   {
    "duration": 32,
    "start_time": "2024-04-17T07:59:28.353Z"
   },
   {
    "duration": 5,
    "start_time": "2024-04-17T08:02:28.114Z"
   },
   {
    "duration": 4,
    "start_time": "2024-04-17T08:02:52.508Z"
   },
   {
    "duration": 6,
    "start_time": "2024-04-17T08:04:10.020Z"
   },
   {
    "duration": 4,
    "start_time": "2024-04-17T08:04:44.332Z"
   },
   {
    "duration": 5,
    "start_time": "2024-04-17T08:05:51.979Z"
   },
   {
    "duration": 6,
    "start_time": "2024-04-17T08:06:15.922Z"
   },
   {
    "duration": 7,
    "start_time": "2024-04-17T08:06:30.533Z"
   },
   {
    "duration": 6,
    "start_time": "2024-04-17T08:06:36.113Z"
   },
   {
    "duration": 6,
    "start_time": "2024-04-17T08:08:04.110Z"
   },
   {
    "duration": 6,
    "start_time": "2024-04-17T08:09:35.495Z"
   },
   {
    "duration": 85,
    "start_time": "2024-04-17T08:09:50.226Z"
   },
   {
    "duration": 6,
    "start_time": "2024-04-17T08:09:55.496Z"
   },
   {
    "duration": 418,
    "start_time": "2024-04-17T08:40:17.489Z"
   },
   {
    "duration": 276,
    "start_time": "2024-04-17T08:40:17.910Z"
   },
   {
    "duration": 3,
    "start_time": "2024-04-17T08:40:18.188Z"
   },
   {
    "duration": 46,
    "start_time": "2024-04-17T08:40:18.193Z"
   },
   {
    "duration": 54,
    "start_time": "2024-04-17T08:40:18.241Z"
   },
   {
    "duration": 46,
    "start_time": "2024-04-17T08:40:18.296Z"
   },
   {
    "duration": 24,
    "start_time": "2024-04-17T08:40:18.344Z"
   },
   {
    "duration": 29,
    "start_time": "2024-04-17T08:40:18.370Z"
   },
   {
    "duration": 38,
    "start_time": "2024-04-17T08:40:18.401Z"
   },
   {
    "duration": 23,
    "start_time": "2024-04-17T08:40:18.441Z"
   },
   {
    "duration": 33,
    "start_time": "2024-04-17T08:40:18.466Z"
   },
   {
    "duration": 46,
    "start_time": "2024-04-17T08:40:18.500Z"
   },
   {
    "duration": 24,
    "start_time": "2024-04-17T08:40:18.547Z"
   },
   {
    "duration": 31,
    "start_time": "2024-04-17T08:40:18.574Z"
   },
   {
    "duration": 39,
    "start_time": "2024-04-17T08:40:18.606Z"
   },
   {
    "duration": 13,
    "start_time": "2024-04-17T08:40:18.646Z"
   },
   {
    "duration": 34,
    "start_time": "2024-04-17T08:40:18.661Z"
   },
   {
    "duration": 27,
    "start_time": "2024-04-17T08:40:18.697Z"
   },
   {
    "duration": 31,
    "start_time": "2024-04-17T08:40:18.726Z"
   },
   {
    "duration": 270,
    "start_time": "2024-04-17T08:40:18.758Z"
   },
   {
    "duration": 395,
    "start_time": "2024-04-17T08:40:19.029Z"
   },
   {
    "duration": 451,
    "start_time": "2024-04-17T08:40:19.425Z"
   },
   {
    "duration": 4,
    "start_time": "2024-04-17T08:40:19.878Z"
   },
   {
    "duration": 45,
    "start_time": "2024-04-17T08:40:19.884Z"
   },
   {
    "duration": 47,
    "start_time": "2024-04-17T08:40:19.931Z"
   },
   {
    "duration": 36,
    "start_time": "2024-04-17T08:40:19.980Z"
   },
   {
    "duration": 41,
    "start_time": "2024-04-17T08:40:20.018Z"
   },
   {
    "duration": 20,
    "start_time": "2024-04-17T08:40:20.061Z"
   },
   {
    "duration": 33,
    "start_time": "2024-04-17T08:40:20.082Z"
   },
   {
    "duration": 45,
    "start_time": "2024-04-17T08:40:20.116Z"
   },
   {
    "duration": 36,
    "start_time": "2024-04-17T08:40:20.164Z"
   },
   {
    "duration": 23,
    "start_time": "2024-04-17T08:40:20.202Z"
   },
   {
    "duration": 19,
    "start_time": "2024-04-17T08:40:20.227Z"
   },
   {
    "duration": 25,
    "start_time": "2024-04-17T08:40:20.248Z"
   },
   {
    "duration": 13,
    "start_time": "2024-04-17T08:40:20.274Z"
   },
   {
    "duration": 151,
    "start_time": "2024-04-17T08:40:20.288Z"
   },
   {
    "duration": 122,
    "start_time": "2024-04-17T08:40:20.441Z"
   },
   {
    "duration": 9,
    "start_time": "2024-04-17T08:40:20.565Z"
   },
   {
    "duration": 30,
    "start_time": "2024-04-17T08:40:20.575Z"
   },
   {
    "duration": 37,
    "start_time": "2024-04-17T08:40:20.606Z"
   },
   {
    "duration": 222,
    "start_time": "2024-04-17T08:40:20.647Z"
   },
   {
    "duration": 200,
    "start_time": "2024-04-17T08:40:20.874Z"
   },
   {
    "duration": 230,
    "start_time": "2024-04-17T08:40:21.076Z"
   },
   {
    "duration": 237,
    "start_time": "2024-04-17T08:40:21.308Z"
   },
   {
    "duration": 228,
    "start_time": "2024-04-17T08:40:21.546Z"
   },
   {
    "duration": 25,
    "start_time": "2024-04-17T08:40:21.776Z"
   },
   {
    "duration": 14,
    "start_time": "2024-04-17T08:40:21.803Z"
   },
   {
    "duration": 37,
    "start_time": "2024-04-17T08:40:21.819Z"
   },
   {
    "duration": 21,
    "start_time": "2024-04-17T08:40:21.859Z"
   },
   {
    "duration": 315,
    "start_time": "2024-04-17T08:40:21.882Z"
   },
   {
    "duration": 373,
    "start_time": "2024-04-17T08:40:22.200Z"
   },
   {
    "duration": 4,
    "start_time": "2024-04-17T08:40:22.575Z"
   },
   {
    "duration": 69,
    "start_time": "2024-04-17T08:40:22.581Z"
   },
   {
    "duration": 44,
    "start_time": "2024-04-17T08:40:22.652Z"
   },
   {
    "duration": 244,
    "start_time": "2024-04-17T08:40:22.698Z"
   },
   {
    "duration": 9,
    "start_time": "2024-04-17T08:40:22.944Z"
   },
   {
    "duration": 75,
    "start_time": "2024-04-17T08:40:22.955Z"
   },
   {
    "duration": 343,
    "start_time": "2024-04-17T08:40:23.032Z"
   },
   {
    "duration": 309,
    "start_time": "2024-04-17T08:40:23.377Z"
   },
   {
    "duration": 6,
    "start_time": "2024-04-17T08:40:23.688Z"
   },
   {
    "duration": 77,
    "start_time": "2024-04-17T08:53:35.972Z"
   },
   {
    "duration": 507,
    "start_time": "2024-04-17T08:55:24.354Z"
   },
   {
    "duration": 6,
    "start_time": "2024-04-17T08:55:38.912Z"
   },
   {
    "duration": 6,
    "start_time": "2024-04-17T08:57:18.191Z"
   },
   {
    "duration": 6,
    "start_time": "2024-04-17T08:57:39.739Z"
   },
   {
    "duration": 7,
    "start_time": "2024-04-17T08:57:42.775Z"
   },
   {
    "duration": 424,
    "start_time": "2024-04-17T09:01:42.051Z"
   },
   {
    "duration": 463,
    "start_time": "2024-04-17T09:01:42.477Z"
   },
   {
    "duration": 238,
    "start_time": "2024-04-17T09:01:42.941Z"
   },
   {
    "duration": 3,
    "start_time": "2024-04-17T09:01:43.180Z"
   },
   {
    "duration": 22,
    "start_time": "2024-04-17T09:01:43.186Z"
   },
   {
    "duration": 87,
    "start_time": "2024-04-17T09:01:43.210Z"
   },
   {
    "duration": 29,
    "start_time": "2024-04-17T09:01:43.299Z"
   },
   {
    "duration": 15,
    "start_time": "2024-04-17T09:01:43.330Z"
   },
   {
    "duration": 13,
    "start_time": "2024-04-17T09:01:43.347Z"
   },
   {
    "duration": 21,
    "start_time": "2024-04-17T09:01:43.361Z"
   },
   {
    "duration": 14,
    "start_time": "2024-04-17T09:01:43.384Z"
   },
   {
    "duration": 19,
    "start_time": "2024-04-17T09:01:43.399Z"
   },
   {
    "duration": 25,
    "start_time": "2024-04-17T09:01:43.422Z"
   },
   {
    "duration": 20,
    "start_time": "2024-04-17T09:01:43.452Z"
   },
   {
    "duration": 9,
    "start_time": "2024-04-17T09:01:43.474Z"
   },
   {
    "duration": 19,
    "start_time": "2024-04-17T09:01:43.485Z"
   },
   {
    "duration": 10,
    "start_time": "2024-04-17T09:01:43.505Z"
   },
   {
    "duration": 28,
    "start_time": "2024-04-17T09:01:43.517Z"
   },
   {
    "duration": 27,
    "start_time": "2024-04-17T09:01:43.546Z"
   },
   {
    "duration": 16,
    "start_time": "2024-04-17T09:01:43.574Z"
   },
   {
    "duration": 270,
    "start_time": "2024-04-17T09:01:43.592Z"
   },
   {
    "duration": 409,
    "start_time": "2024-04-17T09:01:43.864Z"
   },
   {
    "duration": 385,
    "start_time": "2024-04-17T09:01:44.274Z"
   },
   {
    "duration": 13,
    "start_time": "2024-04-17T09:01:44.661Z"
   },
   {
    "duration": 17,
    "start_time": "2024-04-17T09:01:44.676Z"
   },
   {
    "duration": 11,
    "start_time": "2024-04-17T09:01:44.695Z"
   },
   {
    "duration": 8,
    "start_time": "2024-04-17T09:01:44.707Z"
   },
   {
    "duration": 22,
    "start_time": "2024-04-17T09:01:44.716Z"
   },
   {
    "duration": 14,
    "start_time": "2024-04-17T09:01:44.740Z"
   },
   {
    "duration": 7,
    "start_time": "2024-04-17T09:01:44.755Z"
   },
   {
    "duration": 22,
    "start_time": "2024-04-17T09:01:44.764Z"
   },
   {
    "duration": 27,
    "start_time": "2024-04-17T09:01:44.789Z"
   },
   {
    "duration": 8,
    "start_time": "2024-04-17T09:01:44.818Z"
   },
   {
    "duration": 7,
    "start_time": "2024-04-17T09:01:44.828Z"
   },
   {
    "duration": 8,
    "start_time": "2024-04-17T09:01:44.837Z"
   },
   {
    "duration": 22,
    "start_time": "2024-04-17T09:01:44.846Z"
   },
   {
    "duration": 127,
    "start_time": "2024-04-17T09:01:44.870Z"
   },
   {
    "duration": 124,
    "start_time": "2024-04-17T09:01:44.999Z"
   },
   {
    "duration": 10,
    "start_time": "2024-04-17T09:01:45.125Z"
   },
   {
    "duration": 84,
    "start_time": "2024-04-17T09:01:45.137Z"
   },
   {
    "duration": 31,
    "start_time": "2024-04-17T09:01:45.227Z"
   },
   {
    "duration": 277,
    "start_time": "2024-04-17T09:01:45.260Z"
   },
   {
    "duration": 172,
    "start_time": "2024-04-17T09:01:45.539Z"
   },
   {
    "duration": 209,
    "start_time": "2024-04-17T09:01:45.713Z"
   },
   {
    "duration": 315,
    "start_time": "2024-04-17T09:01:45.923Z"
   },
   {
    "duration": 235,
    "start_time": "2024-04-17T09:01:46.240Z"
   },
   {
    "duration": 25,
    "start_time": "2024-04-17T09:01:46.477Z"
   },
   {
    "duration": 16,
    "start_time": "2024-04-17T09:01:46.504Z"
   },
   {
    "duration": 22,
    "start_time": "2024-04-17T09:01:46.522Z"
   },
   {
    "duration": 36,
    "start_time": "2024-04-17T09:01:46.546Z"
   },
   {
    "duration": 279,
    "start_time": "2024-04-17T09:01:46.584Z"
   },
   {
    "duration": 307,
    "start_time": "2024-04-17T09:01:46.873Z"
   },
   {
    "duration": 4,
    "start_time": "2024-04-17T09:01:47.181Z"
   },
   {
    "duration": 47,
    "start_time": "2024-04-17T09:01:47.187Z"
   },
   {
    "duration": 42,
    "start_time": "2024-04-17T09:01:47.235Z"
   },
   {
    "duration": 225,
    "start_time": "2024-04-17T09:01:47.279Z"
   },
   {
    "duration": 10,
    "start_time": "2024-04-17T09:01:47.507Z"
   },
   {
    "duration": 73,
    "start_time": "2024-04-17T09:01:47.519Z"
   },
   {
    "duration": 351,
    "start_time": "2024-04-17T09:01:47.594Z"
   },
   {
    "duration": 305,
    "start_time": "2024-04-17T09:01:47.947Z"
   },
   {
    "duration": 7,
    "start_time": "2024-04-17T09:01:48.254Z"
   },
   {
    "duration": 36,
    "start_time": "2024-04-17T09:01:48.274Z"
   },
   {
    "duration": 6,
    "start_time": "2024-04-17T09:04:56.693Z"
   },
   {
    "duration": 6,
    "start_time": "2024-04-17T09:06:44.544Z"
   },
   {
    "duration": 85,
    "start_time": "2024-04-17T09:13:50.654Z"
   },
   {
    "duration": 8,
    "start_time": "2024-04-17T09:17:25.463Z"
   },
   {
    "duration": 6,
    "start_time": "2024-04-17T09:17:51.372Z"
   },
   {
    "duration": 418,
    "start_time": "2024-04-17T09:18:03.217Z"
   },
   {
    "duration": 503,
    "start_time": "2024-04-17T09:18:03.637Z"
   },
   {
    "duration": 228,
    "start_time": "2024-04-17T09:18:04.141Z"
   },
   {
    "duration": 3,
    "start_time": "2024-04-17T09:18:04.371Z"
   },
   {
    "duration": 11,
    "start_time": "2024-04-17T09:18:04.377Z"
   },
   {
    "duration": 104,
    "start_time": "2024-04-17T09:18:04.390Z"
   },
   {
    "duration": 29,
    "start_time": "2024-04-17T09:18:04.496Z"
   },
   {
    "duration": 15,
    "start_time": "2024-04-17T09:18:04.526Z"
   },
   {
    "duration": 13,
    "start_time": "2024-04-17T09:18:04.542Z"
   },
   {
    "duration": 23,
    "start_time": "2024-04-17T09:18:04.556Z"
   },
   {
    "duration": 15,
    "start_time": "2024-04-17T09:18:04.581Z"
   },
   {
    "duration": 22,
    "start_time": "2024-04-17T09:18:04.598Z"
   },
   {
    "duration": 16,
    "start_time": "2024-04-17T09:18:04.621Z"
   },
   {
    "duration": 29,
    "start_time": "2024-04-17T09:18:04.641Z"
   },
   {
    "duration": 8,
    "start_time": "2024-04-17T09:18:04.672Z"
   },
   {
    "duration": 21,
    "start_time": "2024-04-17T09:18:04.682Z"
   },
   {
    "duration": 5,
    "start_time": "2024-04-17T09:18:04.705Z"
   },
   {
    "duration": 33,
    "start_time": "2024-04-17T09:18:04.711Z"
   },
   {
    "duration": 20,
    "start_time": "2024-04-17T09:18:04.746Z"
   },
   {
    "duration": 16,
    "start_time": "2024-04-17T09:18:04.768Z"
   },
   {
    "duration": 276,
    "start_time": "2024-04-17T09:18:04.786Z"
   },
   {
    "duration": 410,
    "start_time": "2024-04-17T09:18:05.063Z"
   },
   {
    "duration": 398,
    "start_time": "2024-04-17T09:18:05.475Z"
   },
   {
    "duration": 5,
    "start_time": "2024-04-17T09:18:05.875Z"
   },
   {
    "duration": 19,
    "start_time": "2024-04-17T09:18:05.881Z"
   },
   {
    "duration": 5,
    "start_time": "2024-04-17T09:18:05.902Z"
   },
   {
    "duration": 7,
    "start_time": "2024-04-17T09:18:05.908Z"
   },
   {
    "duration": 13,
    "start_time": "2024-04-17T09:18:05.916Z"
   },
   {
    "duration": 8,
    "start_time": "2024-04-17T09:18:05.930Z"
   },
   {
    "duration": 5,
    "start_time": "2024-04-17T09:18:05.940Z"
   },
   {
    "duration": 26,
    "start_time": "2024-04-17T09:18:05.947Z"
   },
   {
    "duration": 13,
    "start_time": "2024-04-17T09:18:05.975Z"
   },
   {
    "duration": 7,
    "start_time": "2024-04-17T09:18:05.990Z"
   },
   {
    "duration": 7,
    "start_time": "2024-04-17T09:18:05.999Z"
   },
   {
    "duration": 8,
    "start_time": "2024-04-17T09:18:06.008Z"
   },
   {
    "duration": 7,
    "start_time": "2024-04-17T09:18:06.018Z"
   },
   {
    "duration": 167,
    "start_time": "2024-04-17T09:18:06.026Z"
   },
   {
    "duration": 127,
    "start_time": "2024-04-17T09:18:06.194Z"
   },
   {
    "duration": 8,
    "start_time": "2024-04-17T09:18:06.322Z"
   },
   {
    "duration": 10,
    "start_time": "2024-04-17T09:18:06.332Z"
   },
   {
    "duration": 32,
    "start_time": "2024-04-17T09:18:06.346Z"
   },
   {
    "duration": 221,
    "start_time": "2024-04-17T09:18:06.379Z"
   },
   {
    "duration": 172,
    "start_time": "2024-04-17T09:18:06.601Z"
   },
   {
    "duration": 214,
    "start_time": "2024-04-17T09:18:06.774Z"
   },
   {
    "duration": 328,
    "start_time": "2024-04-17T09:18:06.991Z"
   },
   {
    "duration": 252,
    "start_time": "2024-04-17T09:18:07.321Z"
   },
   {
    "duration": 27,
    "start_time": "2024-04-17T09:18:07.574Z"
   },
   {
    "duration": 16,
    "start_time": "2024-04-17T09:18:07.602Z"
   },
   {
    "duration": 64,
    "start_time": "2024-04-17T09:18:07.619Z"
   },
   {
    "duration": 16,
    "start_time": "2024-04-17T09:18:07.685Z"
   },
   {
    "duration": 295,
    "start_time": "2024-04-17T09:18:07.703Z"
   },
   {
    "duration": 319,
    "start_time": "2024-04-17T09:18:08.000Z"
   },
   {
    "duration": 4,
    "start_time": "2024-04-17T09:18:08.321Z"
   },
   {
    "duration": 55,
    "start_time": "2024-04-17T09:18:08.327Z"
   },
   {
    "duration": 30,
    "start_time": "2024-04-17T09:18:08.384Z"
   },
   {
    "duration": 235,
    "start_time": "2024-04-17T09:18:08.415Z"
   },
   {
    "duration": 9,
    "start_time": "2024-04-17T09:18:08.652Z"
   },
   {
    "duration": 55,
    "start_time": "2024-04-17T09:18:08.673Z"
   },
   {
    "duration": 362,
    "start_time": "2024-04-17T09:18:08.729Z"
   },
   {
    "duration": 296,
    "start_time": "2024-04-17T09:18:09.093Z"
   },
   {
    "duration": 6,
    "start_time": "2024-04-17T09:18:09.390Z"
   },
   {
    "duration": 6,
    "start_time": "2024-04-17T09:18:09.398Z"
   },
   {
    "duration": 10,
    "start_time": "2024-04-17T09:18:09.405Z"
   },
   {
    "duration": 6,
    "start_time": "2024-04-17T09:20:30.399Z"
   },
   {
    "duration": 6,
    "start_time": "2024-04-17T09:20:48.636Z"
   },
   {
    "duration": 6,
    "start_time": "2024-04-17T09:22:35.997Z"
   },
   {
    "duration": 424,
    "start_time": "2024-04-17T09:24:12.638Z"
   },
   {
    "duration": 507,
    "start_time": "2024-04-17T09:24:13.064Z"
   },
   {
    "duration": 224,
    "start_time": "2024-04-17T09:24:13.572Z"
   },
   {
    "duration": 2,
    "start_time": "2024-04-17T09:24:13.798Z"
   },
   {
    "duration": 16,
    "start_time": "2024-04-17T09:24:13.802Z"
   },
   {
    "duration": 90,
    "start_time": "2024-04-17T09:24:13.820Z"
   },
   {
    "duration": 29,
    "start_time": "2024-04-17T09:24:13.911Z"
   },
   {
    "duration": 15,
    "start_time": "2024-04-17T09:24:13.942Z"
   },
   {
    "duration": 18,
    "start_time": "2024-04-17T09:24:13.958Z"
   },
   {
    "duration": 12,
    "start_time": "2024-04-17T09:24:13.979Z"
   },
   {
    "duration": 13,
    "start_time": "2024-04-17T09:24:13.993Z"
   },
   {
    "duration": 39,
    "start_time": "2024-04-17T09:24:14.008Z"
   },
   {
    "duration": 25,
    "start_time": "2024-04-17T09:24:14.049Z"
   },
   {
    "duration": 15,
    "start_time": "2024-04-17T09:24:14.076Z"
   },
   {
    "duration": 21,
    "start_time": "2024-04-17T09:24:14.094Z"
   },
   {
    "duration": 15,
    "start_time": "2024-04-17T09:24:14.117Z"
   },
   {
    "duration": 21,
    "start_time": "2024-04-17T09:24:14.133Z"
   },
   {
    "duration": 21,
    "start_time": "2024-04-17T09:24:14.157Z"
   },
   {
    "duration": 18,
    "start_time": "2024-04-17T09:24:14.180Z"
   },
   {
    "duration": 16,
    "start_time": "2024-04-17T09:24:14.199Z"
   },
   {
    "duration": 272,
    "start_time": "2024-04-17T09:24:14.217Z"
   },
   {
    "duration": 401,
    "start_time": "2024-04-17T09:24:14.491Z"
   },
   {
    "duration": 387,
    "start_time": "2024-04-17T09:24:14.893Z"
   },
   {
    "duration": 4,
    "start_time": "2024-04-17T09:24:15.282Z"
   },
   {
    "duration": 53,
    "start_time": "2024-04-17T09:24:15.288Z"
   },
   {
    "duration": 28,
    "start_time": "2024-04-17T09:24:15.343Z"
   },
   {
    "duration": 18,
    "start_time": "2024-04-17T09:24:15.372Z"
   },
   {
    "duration": 35,
    "start_time": "2024-04-17T09:24:15.394Z"
   },
   {
    "duration": 25,
    "start_time": "2024-04-17T09:24:15.430Z"
   },
   {
    "duration": 36,
    "start_time": "2024-04-17T09:24:15.456Z"
   },
   {
    "duration": 30,
    "start_time": "2024-04-17T09:24:15.493Z"
   },
   {
    "duration": 43,
    "start_time": "2024-04-17T09:24:15.524Z"
   },
   {
    "duration": 32,
    "start_time": "2024-04-17T09:24:15.569Z"
   },
   {
    "duration": 71,
    "start_time": "2024-04-17T09:24:15.603Z"
   },
   {
    "duration": 37,
    "start_time": "2024-04-17T09:24:15.676Z"
   },
   {
    "duration": 57,
    "start_time": "2024-04-17T09:24:15.715Z"
   },
   {
    "duration": 143,
    "start_time": "2024-04-17T09:24:15.773Z"
   },
   {
    "duration": 123,
    "start_time": "2024-04-17T09:24:15.918Z"
   },
   {
    "duration": 9,
    "start_time": "2024-04-17T09:24:16.042Z"
   },
   {
    "duration": 21,
    "start_time": "2024-04-17T09:24:16.053Z"
   },
   {
    "duration": 18,
    "start_time": "2024-04-17T09:24:16.075Z"
   },
   {
    "duration": 221,
    "start_time": "2024-04-17T09:24:16.095Z"
   },
   {
    "duration": 176,
    "start_time": "2024-04-17T09:24:16.318Z"
   },
   {
    "duration": 209,
    "start_time": "2024-04-17T09:24:16.495Z"
   },
   {
    "duration": 305,
    "start_time": "2024-04-17T09:24:16.705Z"
   },
   {
    "duration": 227,
    "start_time": "2024-04-17T09:24:17.012Z"
   },
   {
    "duration": 44,
    "start_time": "2024-04-17T09:24:17.240Z"
   },
   {
    "duration": 15,
    "start_time": "2024-04-17T09:24:17.285Z"
   },
   {
    "duration": 22,
    "start_time": "2024-04-17T09:24:17.301Z"
   },
   {
    "duration": 20,
    "start_time": "2024-04-17T09:24:17.325Z"
   },
   {
    "duration": 320,
    "start_time": "2024-04-17T09:24:17.347Z"
   },
   {
    "duration": 295,
    "start_time": "2024-04-17T09:24:17.668Z"
   },
   {
    "duration": 4,
    "start_time": "2024-04-17T09:24:17.965Z"
   },
   {
    "duration": 41,
    "start_time": "2024-04-17T09:24:17.973Z"
   },
   {
    "duration": 31,
    "start_time": "2024-04-17T09:24:18.016Z"
   },
   {
    "duration": 245,
    "start_time": "2024-04-17T09:24:18.048Z"
   },
   {
    "duration": 7,
    "start_time": "2024-04-17T09:24:18.295Z"
   },
   {
    "duration": 69,
    "start_time": "2024-04-17T09:24:18.304Z"
   },
   {
    "duration": 343,
    "start_time": "2024-04-17T09:24:18.375Z"
   },
   {
    "duration": 304,
    "start_time": "2024-04-17T09:24:18.720Z"
   },
   {
    "duration": 8,
    "start_time": "2024-04-17T09:24:19.026Z"
   },
   {
    "duration": 7,
    "start_time": "2024-04-17T09:24:19.035Z"
   },
   {
    "duration": 33,
    "start_time": "2024-04-17T09:24:19.044Z"
   },
   {
    "duration": 7,
    "start_time": "2024-04-17T09:26:26.553Z"
   },
   {
    "duration": 7,
    "start_time": "2024-04-17T09:28:35.370Z"
   },
   {
    "duration": 7,
    "start_time": "2024-04-17T09:28:41.348Z"
   },
   {
    "duration": 6,
    "start_time": "2024-04-17T09:29:32.887Z"
   },
   {
    "duration": 5,
    "start_time": "2024-04-17T09:29:35.338Z"
   },
   {
    "duration": 6,
    "start_time": "2024-04-17T09:29:45.817Z"
   },
   {
    "duration": 6,
    "start_time": "2024-04-17T09:30:41.511Z"
   },
   {
    "duration": 91,
    "start_time": "2024-04-17T09:31:04.867Z"
   },
   {
    "duration": 6,
    "start_time": "2024-04-17T09:31:13.114Z"
   },
   {
    "duration": 5,
    "start_time": "2024-04-17T09:31:26.739Z"
   },
   {
    "duration": 5,
    "start_time": "2024-04-17T09:32:48.675Z"
   },
   {
    "duration": 4,
    "start_time": "2024-04-17T09:33:11.589Z"
   },
   {
    "duration": 7,
    "start_time": "2024-04-17T09:34:32.274Z"
   },
   {
    "duration": 7,
    "start_time": "2024-04-17T09:34:34.827Z"
   },
   {
    "duration": 6,
    "start_time": "2024-04-17T09:35:12.415Z"
   },
   {
    "duration": 6,
    "start_time": "2024-04-17T09:36:07.342Z"
   },
   {
    "duration": 6,
    "start_time": "2024-04-17T09:37:18.134Z"
   },
   {
    "duration": 6,
    "start_time": "2024-04-17T09:39:07.158Z"
   },
   {
    "duration": 7,
    "start_time": "2024-04-17T09:40:15.401Z"
   },
   {
    "duration": 6,
    "start_time": "2024-04-17T09:44:08.431Z"
   },
   {
    "duration": 5,
    "start_time": "2024-04-17T09:45:17.317Z"
   },
   {
    "duration": 5,
    "start_time": "2024-04-17T09:47:10.211Z"
   },
   {
    "duration": 5,
    "start_time": "2024-04-17T09:49:28.879Z"
   },
   {
    "duration": 154,
    "start_time": "2024-04-17T09:54:58.778Z"
   },
   {
    "duration": 5,
    "start_time": "2024-04-17T09:55:16.164Z"
   },
   {
    "duration": 8,
    "start_time": "2024-04-17T09:57:23.924Z"
   },
   {
    "duration": 4,
    "start_time": "2024-04-17T10:00:28.287Z"
   },
   {
    "duration": 5,
    "start_time": "2024-04-17T10:02:20.543Z"
   },
   {
    "duration": 2,
    "start_time": "2024-04-17T10:29:58.497Z"
   },
   {
    "duration": 110,
    "start_time": "2024-04-17T10:56:34.629Z"
   },
   {
    "duration": 6,
    "start_time": "2024-04-17T10:57:29.249Z"
   },
   {
    "duration": 164,
    "start_time": "2024-04-17T11:01:59.143Z"
   },
   {
    "duration": 3,
    "start_time": "2024-04-17T11:02:37.731Z"
   },
   {
    "duration": 3,
    "start_time": "2024-04-17T11:03:22.997Z"
   },
   {
    "duration": 420,
    "start_time": "2024-04-17T11:03:32.590Z"
   },
   {
    "duration": 495,
    "start_time": "2024-04-17T11:03:33.012Z"
   },
   {
    "duration": 226,
    "start_time": "2024-04-17T11:03:33.509Z"
   },
   {
    "duration": 3,
    "start_time": "2024-04-17T11:03:33.737Z"
   },
   {
    "duration": 23,
    "start_time": "2024-04-17T11:03:33.741Z"
   },
   {
    "duration": 9,
    "start_time": "2024-04-17T11:03:33.766Z"
   },
   {
    "duration": 117,
    "start_time": "2024-04-17T11:03:33.776Z"
   },
   {
    "duration": 30,
    "start_time": "2024-04-17T11:03:33.895Z"
   },
   {
    "duration": 30,
    "start_time": "2024-04-17T11:03:33.926Z"
   },
   {
    "duration": 14,
    "start_time": "2024-04-17T11:03:33.960Z"
   },
   {
    "duration": 16,
    "start_time": "2024-04-17T11:03:33.976Z"
   },
   {
    "duration": 14,
    "start_time": "2024-04-17T11:03:33.994Z"
   },
   {
    "duration": 11,
    "start_time": "2024-04-17T11:03:34.011Z"
   },
   {
    "duration": 14,
    "start_time": "2024-04-17T11:03:34.024Z"
   },
   {
    "duration": 44,
    "start_time": "2024-04-17T11:03:34.039Z"
   },
   {
    "duration": 16,
    "start_time": "2024-04-17T11:03:34.085Z"
   },
   {
    "duration": 23,
    "start_time": "2024-04-17T11:03:34.103Z"
   },
   {
    "duration": 13,
    "start_time": "2024-04-17T11:03:34.127Z"
   },
   {
    "duration": 6,
    "start_time": "2024-04-17T11:03:34.142Z"
   },
   {
    "duration": 42,
    "start_time": "2024-04-17T11:03:34.150Z"
   },
   {
    "duration": 21,
    "start_time": "2024-04-17T11:03:34.194Z"
   },
   {
    "duration": 17,
    "start_time": "2024-04-17T11:03:34.217Z"
   },
   {
    "duration": 349,
    "start_time": "2024-04-17T11:03:34.235Z"
   },
   {
    "duration": 400,
    "start_time": "2024-04-17T11:03:34.586Z"
   },
   {
    "duration": 390,
    "start_time": "2024-04-17T11:03:34.988Z"
   },
   {
    "duration": 5,
    "start_time": "2024-04-17T11:03:35.380Z"
   },
   {
    "duration": 29,
    "start_time": "2024-04-17T11:03:35.386Z"
   },
   {
    "duration": 16,
    "start_time": "2024-04-17T11:03:35.419Z"
   },
   {
    "duration": 28,
    "start_time": "2024-04-17T11:03:35.436Z"
   },
   {
    "duration": 46,
    "start_time": "2024-04-17T11:03:35.466Z"
   },
   {
    "duration": 42,
    "start_time": "2024-04-17T11:03:35.514Z"
   },
   {
    "duration": 27,
    "start_time": "2024-04-17T11:03:35.558Z"
   },
   {
    "duration": 54,
    "start_time": "2024-04-17T11:03:35.587Z"
   },
   {
    "duration": 40,
    "start_time": "2024-04-17T11:03:35.643Z"
   },
   {
    "duration": 12,
    "start_time": "2024-04-17T11:03:35.684Z"
   },
   {
    "duration": 21,
    "start_time": "2024-04-17T11:03:35.699Z"
   },
   {
    "duration": 19,
    "start_time": "2024-04-17T11:03:35.722Z"
   },
   {
    "duration": 19,
    "start_time": "2024-04-17T11:03:35.743Z"
   },
   {
    "duration": 152,
    "start_time": "2024-04-17T11:03:35.764Z"
   },
   {
    "duration": 135,
    "start_time": "2024-04-17T11:03:35.917Z"
   },
   {
    "duration": 8,
    "start_time": "2024-04-17T11:03:36.054Z"
   },
   {
    "duration": 23,
    "start_time": "2024-04-17T11:03:36.073Z"
   },
   {
    "duration": 47,
    "start_time": "2024-04-17T11:03:36.098Z"
   },
   {
    "duration": 227,
    "start_time": "2024-04-17T11:03:36.146Z"
   },
   {
    "duration": 249,
    "start_time": "2024-04-17T11:03:36.376Z"
   },
   {
    "duration": 220,
    "start_time": "2024-04-17T11:03:36.627Z"
   },
   {
    "duration": 283,
    "start_time": "2024-04-17T11:03:36.849Z"
   },
   {
    "duration": 241,
    "start_time": "2024-04-17T11:03:37.133Z"
   },
   {
    "duration": 28,
    "start_time": "2024-04-17T11:03:37.377Z"
   },
   {
    "duration": 15,
    "start_time": "2024-04-17T11:03:37.407Z"
   },
   {
    "duration": 49,
    "start_time": "2024-04-17T11:03:37.424Z"
   },
   {
    "duration": 15,
    "start_time": "2024-04-17T11:03:37.475Z"
   },
   {
    "duration": 304,
    "start_time": "2024-04-17T11:03:37.492Z"
   },
   {
    "duration": 295,
    "start_time": "2024-04-17T11:03:37.798Z"
   },
   {
    "duration": 4,
    "start_time": "2024-04-17T11:03:38.095Z"
   },
   {
    "duration": 54,
    "start_time": "2024-04-17T11:03:38.100Z"
   },
   {
    "duration": 40,
    "start_time": "2024-04-17T11:03:38.173Z"
   },
   {
    "duration": 234,
    "start_time": "2024-04-17T11:03:38.215Z"
   },
   {
    "duration": 8,
    "start_time": "2024-04-17T11:03:38.451Z"
   },
   {
    "duration": 75,
    "start_time": "2024-04-17T11:03:38.473Z"
   },
   {
    "duration": 381,
    "start_time": "2024-04-17T11:03:38.550Z"
   },
   {
    "duration": 379,
    "start_time": "2024-04-17T11:03:38.933Z"
   },
   {
    "duration": 6,
    "start_time": "2024-04-17T11:03:39.314Z"
   },
   {
    "duration": 23,
    "start_time": "2024-04-17T11:03:39.321Z"
   },
   {
    "duration": 7,
    "start_time": "2024-04-17T11:03:39.346Z"
   },
   {
    "duration": 27,
    "start_time": "2024-04-17T11:03:39.354Z"
   },
   {
    "duration": 26,
    "start_time": "2024-04-17T11:03:39.382Z"
   },
   {
    "duration": 20,
    "start_time": "2024-04-17T11:03:39.410Z"
   },
   {
    "duration": 32,
    "start_time": "2024-04-17T11:03:39.432Z"
   },
   {
    "duration": 19,
    "start_time": "2024-04-17T11:03:39.466Z"
   },
   {
    "duration": 5,
    "start_time": "2024-04-17T11:05:48.408Z"
   },
   {
    "duration": 5,
    "start_time": "2024-04-17T11:06:14.687Z"
   },
   {
    "duration": 4,
    "start_time": "2024-04-17T11:06:18.039Z"
   },
   {
    "duration": 3,
    "start_time": "2024-04-17T11:07:59.481Z"
   },
   {
    "duration": 5,
    "start_time": "2024-04-17T11:09:37.987Z"
   },
   {
    "duration": 5,
    "start_time": "2024-04-17T11:09:42.342Z"
   },
   {
    "duration": 100,
    "start_time": "2024-04-17T11:09:50.452Z"
   },
   {
    "duration": 5,
    "start_time": "2024-04-17T11:09:55.447Z"
   },
   {
    "duration": 416,
    "start_time": "2024-04-17T11:10:20.696Z"
   },
   {
    "duration": 480,
    "start_time": "2024-04-17T11:10:21.114Z"
   },
   {
    "duration": 231,
    "start_time": "2024-04-17T11:10:21.595Z"
   },
   {
    "duration": 3,
    "start_time": "2024-04-17T11:10:21.828Z"
   },
   {
    "duration": 6,
    "start_time": "2024-04-17T11:10:21.833Z"
   },
   {
    "duration": 18,
    "start_time": "2024-04-17T11:10:21.840Z"
   },
   {
    "duration": 13,
    "start_time": "2024-04-17T11:10:21.860Z"
   },
   {
    "duration": 128,
    "start_time": "2024-04-17T11:10:21.875Z"
   },
   {
    "duration": 29,
    "start_time": "2024-04-17T11:10:22.005Z"
   },
   {
    "duration": 30,
    "start_time": "2024-04-17T11:10:22.035Z"
   },
   {
    "duration": 15,
    "start_time": "2024-04-17T11:10:22.067Z"
   },
   {
    "duration": 34,
    "start_time": "2024-04-17T11:10:22.084Z"
   },
   {
    "duration": 18,
    "start_time": "2024-04-17T11:10:22.120Z"
   },
   {
    "duration": 15,
    "start_time": "2024-04-17T11:10:22.142Z"
   },
   {
    "duration": 23,
    "start_time": "2024-04-17T11:10:22.159Z"
   },
   {
    "duration": 28,
    "start_time": "2024-04-17T11:10:22.184Z"
   },
   {
    "duration": 12,
    "start_time": "2024-04-17T11:10:22.214Z"
   },
   {
    "duration": 17,
    "start_time": "2024-04-17T11:10:22.228Z"
   },
   {
    "duration": 18,
    "start_time": "2024-04-17T11:10:22.247Z"
   },
   {
    "duration": 14,
    "start_time": "2024-04-17T11:10:22.267Z"
   },
   {
    "duration": 29,
    "start_time": "2024-04-17T11:10:22.283Z"
   },
   {
    "duration": 18,
    "start_time": "2024-04-17T11:10:22.313Z"
   },
   {
    "duration": 17,
    "start_time": "2024-04-17T11:10:22.332Z"
   },
   {
    "duration": 265,
    "start_time": "2024-04-17T11:10:22.351Z"
   },
   {
    "duration": 390,
    "start_time": "2024-04-17T11:10:22.618Z"
   },
   {
    "duration": 373,
    "start_time": "2024-04-17T11:10:23.010Z"
   },
   {
    "duration": 4,
    "start_time": "2024-04-17T11:10:23.385Z"
   },
   {
    "duration": 17,
    "start_time": "2024-04-17T11:10:23.391Z"
   },
   {
    "duration": 8,
    "start_time": "2024-04-17T11:10:23.409Z"
   },
   {
    "duration": 11,
    "start_time": "2024-04-17T11:10:23.419Z"
   },
   {
    "duration": 5,
    "start_time": "2024-04-17T11:10:23.432Z"
   },
   {
    "duration": 13,
    "start_time": "2024-04-17T11:10:23.439Z"
   },
   {
    "duration": 28,
    "start_time": "2024-04-17T11:10:23.454Z"
   },
   {
    "duration": 11,
    "start_time": "2024-04-17T11:10:23.484Z"
   },
   {
    "duration": 12,
    "start_time": "2024-04-17T11:10:23.497Z"
   },
   {
    "duration": 8,
    "start_time": "2024-04-17T11:10:23.511Z"
   },
   {
    "duration": 7,
    "start_time": "2024-04-17T11:10:23.522Z"
   },
   {
    "duration": 9,
    "start_time": "2024-04-17T11:10:23.533Z"
   },
   {
    "duration": 12,
    "start_time": "2024-04-17T11:10:23.572Z"
   },
   {
    "duration": 132,
    "start_time": "2024-04-17T11:10:23.585Z"
   },
   {
    "duration": 121,
    "start_time": "2024-04-17T11:10:23.722Z"
   },
   {
    "duration": 9,
    "start_time": "2024-04-17T11:10:23.845Z"
   },
   {
    "duration": 54,
    "start_time": "2024-04-17T11:10:23.855Z"
   },
   {
    "duration": 40,
    "start_time": "2024-04-17T11:10:23.911Z"
   },
   {
    "duration": 221,
    "start_time": "2024-04-17T11:10:23.953Z"
   },
   {
    "duration": 245,
    "start_time": "2024-04-17T11:10:24.175Z"
   },
   {
    "duration": 207,
    "start_time": "2024-04-17T11:10:24.422Z"
   },
   {
    "duration": 228,
    "start_time": "2024-04-17T11:10:24.630Z"
   },
   {
    "duration": 241,
    "start_time": "2024-04-17T11:10:24.859Z"
   },
   {
    "duration": 27,
    "start_time": "2024-04-17T11:10:25.101Z"
   },
   {
    "duration": 15,
    "start_time": "2024-04-17T11:10:25.130Z"
   },
   {
    "duration": 16,
    "start_time": "2024-04-17T11:10:25.172Z"
   },
   {
    "duration": 13,
    "start_time": "2024-04-17T11:10:25.189Z"
   },
   {
    "duration": 296,
    "start_time": "2024-04-17T11:10:25.204Z"
   },
   {
    "duration": 295,
    "start_time": "2024-04-17T11:10:25.502Z"
   },
   {
    "duration": 3,
    "start_time": "2024-04-17T11:10:25.799Z"
   },
   {
    "duration": 42,
    "start_time": "2024-04-17T11:10:25.803Z"
   },
   {
    "duration": 50,
    "start_time": "2024-04-17T11:10:25.846Z"
   },
   {
    "duration": 230,
    "start_time": "2024-04-17T11:10:25.897Z"
   },
   {
    "duration": 8,
    "start_time": "2024-04-17T11:10:26.129Z"
   },
   {
    "duration": 68,
    "start_time": "2024-04-17T11:10:26.139Z"
   },
   {
    "duration": 380,
    "start_time": "2024-04-17T11:10:26.209Z"
   },
   {
    "duration": 385,
    "start_time": "2024-04-17T11:10:26.590Z"
   },
   {
    "duration": 6,
    "start_time": "2024-04-17T11:10:26.977Z"
   },
   {
    "duration": 13,
    "start_time": "2024-04-17T11:10:26.985Z"
   },
   {
    "duration": 21,
    "start_time": "2024-04-17T11:10:27.000Z"
   },
   {
    "duration": 31,
    "start_time": "2024-04-17T11:10:27.023Z"
   },
   {
    "duration": 17,
    "start_time": "2024-04-17T11:10:27.056Z"
   },
   {
    "duration": 21,
    "start_time": "2024-04-17T11:10:27.074Z"
   },
   {
    "duration": 11,
    "start_time": "2024-04-17T11:10:27.097Z"
   },
   {
    "duration": 9,
    "start_time": "2024-04-17T11:10:27.109Z"
   },
   {
    "duration": 5,
    "start_time": "2024-04-17T11:10:56.839Z"
   },
   {
    "duration": 5,
    "start_time": "2024-04-17T11:11:39.889Z"
   },
   {
    "duration": 5,
    "start_time": "2024-04-17T11:11:41.733Z"
   },
   {
    "duration": 4,
    "start_time": "2024-04-17T11:11:46.238Z"
   },
   {
    "duration": 12,
    "start_time": "2024-04-17T11:12:09.794Z"
   },
   {
    "duration": 5,
    "start_time": "2024-04-17T11:12:11.969Z"
   },
   {
    "duration": 109,
    "start_time": "2024-04-17T11:18:16.928Z"
   },
   {
    "duration": 12,
    "start_time": "2024-04-17T11:18:40.680Z"
   },
   {
    "duration": 3,
    "start_time": "2024-04-17T11:19:27.525Z"
   },
   {
    "duration": 11,
    "start_time": "2024-04-17T11:19:29.789Z"
   },
   {
    "duration": 3,
    "start_time": "2024-04-17T11:19:42.547Z"
   },
   {
    "duration": 11,
    "start_time": "2024-04-17T11:19:45.789Z"
   },
   {
    "duration": 423,
    "start_time": "2024-04-17T11:20:20.484Z"
   },
   {
    "duration": 477,
    "start_time": "2024-04-17T11:20:20.909Z"
   },
   {
    "duration": 236,
    "start_time": "2024-04-17T11:20:21.388Z"
   },
   {
    "duration": 2,
    "start_time": "2024-04-17T11:20:21.627Z"
   },
   {
    "duration": 5,
    "start_time": "2024-04-17T11:20:21.631Z"
   },
   {
    "duration": 16,
    "start_time": "2024-04-17T11:20:21.638Z"
   },
   {
    "duration": 9,
    "start_time": "2024-04-17T11:20:21.655Z"
   },
   {
    "duration": 115,
    "start_time": "2024-04-17T11:20:21.665Z"
   },
   {
    "duration": 28,
    "start_time": "2024-04-17T11:20:21.782Z"
   },
   {
    "duration": 30,
    "start_time": "2024-04-17T11:20:21.813Z"
   },
   {
    "duration": 15,
    "start_time": "2024-04-17T11:20:21.845Z"
   },
   {
    "duration": 17,
    "start_time": "2024-04-17T11:20:21.862Z"
   },
   {
    "duration": 9,
    "start_time": "2024-04-17T11:20:21.881Z"
   },
   {
    "duration": 10,
    "start_time": "2024-04-17T11:20:21.892Z"
   },
   {
    "duration": 19,
    "start_time": "2024-04-17T11:20:21.903Z"
   },
   {
    "duration": 13,
    "start_time": "2024-04-17T11:20:21.924Z"
   },
   {
    "duration": 10,
    "start_time": "2024-04-17T11:20:21.938Z"
   },
   {
    "duration": 32,
    "start_time": "2024-04-17T11:20:21.950Z"
   },
   {
    "duration": 16,
    "start_time": "2024-04-17T11:20:21.984Z"
   },
   {
    "duration": 16,
    "start_time": "2024-04-17T11:20:22.002Z"
   },
   {
    "duration": 15,
    "start_time": "2024-04-17T11:20:22.019Z"
   },
   {
    "duration": 18,
    "start_time": "2024-04-17T11:20:22.036Z"
   },
   {
    "duration": 30,
    "start_time": "2024-04-17T11:20:22.055Z"
   },
   {
    "duration": 275,
    "start_time": "2024-04-17T11:20:22.087Z"
   },
   {
    "duration": 402,
    "start_time": "2024-04-17T11:20:22.363Z"
   },
   {
    "duration": 397,
    "start_time": "2024-04-17T11:20:22.767Z"
   },
   {
    "duration": 8,
    "start_time": "2024-04-17T11:20:23.165Z"
   },
   {
    "duration": 43,
    "start_time": "2024-04-17T11:20:23.178Z"
   },
   {
    "duration": 28,
    "start_time": "2024-04-17T11:20:23.223Z"
   },
   {
    "duration": 14,
    "start_time": "2024-04-17T11:20:23.253Z"
   },
   {
    "duration": 28,
    "start_time": "2024-04-17T11:20:23.268Z"
   },
   {
    "duration": 15,
    "start_time": "2024-04-17T11:20:23.298Z"
   },
   {
    "duration": 9,
    "start_time": "2024-04-17T11:20:23.315Z"
   },
   {
    "duration": 21,
    "start_time": "2024-04-17T11:20:23.326Z"
   },
   {
    "duration": 20,
    "start_time": "2024-04-17T11:20:23.349Z"
   },
   {
    "duration": 36,
    "start_time": "2024-04-17T11:20:23.370Z"
   },
   {
    "duration": 9,
    "start_time": "2024-04-17T11:20:23.408Z"
   },
   {
    "duration": 14,
    "start_time": "2024-04-17T11:20:23.418Z"
   },
   {
    "duration": 11,
    "start_time": "2024-04-17T11:20:23.433Z"
   },
   {
    "duration": 151,
    "start_time": "2024-04-17T11:20:23.445Z"
   },
   {
    "duration": 128,
    "start_time": "2024-04-17T11:20:23.598Z"
   },
   {
    "duration": 9,
    "start_time": "2024-04-17T11:20:23.728Z"
   },
   {
    "duration": 38,
    "start_time": "2024-04-17T11:20:23.739Z"
   },
   {
    "duration": 23,
    "start_time": "2024-04-17T11:20:23.778Z"
   },
   {
    "duration": 217,
    "start_time": "2024-04-17T11:20:23.802Z"
   },
   {
    "duration": 267,
    "start_time": "2024-04-17T11:20:24.021Z"
   },
   {
    "duration": 228,
    "start_time": "2024-04-17T11:20:24.290Z"
   },
   {
    "duration": 228,
    "start_time": "2024-04-17T11:20:24.520Z"
   },
   {
    "duration": 225,
    "start_time": "2024-04-17T11:20:24.749Z"
   },
   {
    "duration": 27,
    "start_time": "2024-04-17T11:20:24.976Z"
   },
   {
    "duration": 16,
    "start_time": "2024-04-17T11:20:25.004Z"
   },
   {
    "duration": 18,
    "start_time": "2024-04-17T11:20:25.021Z"
   },
   {
    "duration": 44,
    "start_time": "2024-04-17T11:20:25.040Z"
   },
   {
    "duration": 283,
    "start_time": "2024-04-17T11:20:25.086Z"
   },
   {
    "duration": 295,
    "start_time": "2024-04-17T11:20:25.370Z"
   },
   {
    "duration": 8,
    "start_time": "2024-04-17T11:20:25.666Z"
   },
   {
    "duration": 80,
    "start_time": "2024-04-17T11:20:25.675Z"
   },
   {
    "duration": 30,
    "start_time": "2024-04-17T11:20:25.757Z"
   },
   {
    "duration": 219,
    "start_time": "2024-04-17T11:20:25.789Z"
   },
   {
    "duration": 8,
    "start_time": "2024-04-17T11:20:26.009Z"
   },
   {
    "duration": 68,
    "start_time": "2024-04-17T11:20:26.018Z"
   },
   {
    "duration": 360,
    "start_time": "2024-04-17T11:20:26.087Z"
   },
   {
    "duration": 384,
    "start_time": "2024-04-17T11:20:26.448Z"
   },
   {
    "duration": 7,
    "start_time": "2024-04-17T11:20:26.834Z"
   },
   {
    "duration": 11,
    "start_time": "2024-04-17T11:20:26.842Z"
   },
   {
    "duration": 27,
    "start_time": "2024-04-17T11:20:26.854Z"
   },
   {
    "duration": 5,
    "start_time": "2024-04-17T11:20:26.884Z"
   },
   {
    "duration": 4,
    "start_time": "2024-04-17T11:20:26.891Z"
   },
   {
    "duration": 7,
    "start_time": "2024-04-17T11:20:26.896Z"
   },
   {
    "duration": 13,
    "start_time": "2024-04-17T11:20:26.904Z"
   },
   {
    "duration": 30,
    "start_time": "2024-04-17T11:20:26.918Z"
   },
   {
    "duration": 118,
    "start_time": "2024-04-17T11:20:26.950Z"
   },
   {
    "duration": 3,
    "start_time": "2024-04-17T11:22:24.888Z"
   },
   {
    "duration": 11,
    "start_time": "2024-04-17T11:22:26.499Z"
   },
   {
    "duration": 11,
    "start_time": "2024-04-17T11:23:30.828Z"
   },
   {
    "duration": 218,
    "start_time": "2024-04-17T11:23:44.957Z"
   },
   {
    "duration": 225,
    "start_time": "2024-04-17T11:25:09.133Z"
   },
   {
    "duration": 6,
    "start_time": "2024-04-17T11:26:01.263Z"
   },
   {
    "duration": 5,
    "start_time": "2024-04-17T11:28:50.076Z"
   },
   {
    "duration": 4,
    "start_time": "2024-04-17T11:29:04.464Z"
   },
   {
    "duration": 5,
    "start_time": "2024-04-17T11:30:04.640Z"
   },
   {
    "duration": 12,
    "start_time": "2024-04-17T11:30:07.092Z"
   },
   {
    "duration": 4,
    "start_time": "2024-04-17T11:30:09.534Z"
   },
   {
    "duration": 225,
    "start_time": "2024-04-17T11:31:36.116Z"
   },
   {
    "duration": 376,
    "start_time": "2024-04-17T11:32:27.328Z"
   },
   {
    "duration": 489,
    "start_time": "2024-04-17T11:32:27.706Z"
   },
   {
    "duration": 226,
    "start_time": "2024-04-17T11:32:28.197Z"
   },
   {
    "duration": 3,
    "start_time": "2024-04-17T11:32:28.425Z"
   },
   {
    "duration": 20,
    "start_time": "2024-04-17T11:32:28.429Z"
   },
   {
    "duration": 9,
    "start_time": "2024-04-17T11:32:28.451Z"
   },
   {
    "duration": 18,
    "start_time": "2024-04-17T11:32:28.461Z"
   },
   {
    "duration": 120,
    "start_time": "2024-04-17T11:32:28.481Z"
   },
   {
    "duration": 30,
    "start_time": "2024-04-17T11:32:28.603Z"
   },
   {
    "duration": 29,
    "start_time": "2024-04-17T11:32:28.636Z"
   },
   {
    "duration": 20,
    "start_time": "2024-04-17T11:32:28.666Z"
   },
   {
    "duration": 14,
    "start_time": "2024-04-17T11:32:28.688Z"
   },
   {
    "duration": 27,
    "start_time": "2024-04-17T11:32:28.704Z"
   },
   {
    "duration": 23,
    "start_time": "2024-04-17T11:32:28.733Z"
   },
   {
    "duration": 14,
    "start_time": "2024-04-17T11:32:28.757Z"
   },
   {
    "duration": 17,
    "start_time": "2024-04-17T11:32:28.772Z"
   },
   {
    "duration": 10,
    "start_time": "2024-04-17T11:32:28.790Z"
   },
   {
    "duration": 7,
    "start_time": "2024-04-17T11:32:28.802Z"
   },
   {
    "duration": 22,
    "start_time": "2024-04-17T11:32:28.810Z"
   },
   {
    "duration": 5,
    "start_time": "2024-04-17T11:32:28.834Z"
   },
   {
    "duration": 33,
    "start_time": "2024-04-17T11:32:28.841Z"
   },
   {
    "duration": 20,
    "start_time": "2024-04-17T11:32:28.876Z"
   },
   {
    "duration": 18,
    "start_time": "2024-04-17T11:32:28.897Z"
   },
   {
    "duration": 298,
    "start_time": "2024-04-17T11:32:28.916Z"
   },
   {
    "duration": 409,
    "start_time": "2024-04-17T11:32:29.216Z"
   },
   {
    "duration": 407,
    "start_time": "2024-04-17T11:32:29.627Z"
   },
   {
    "duration": 5,
    "start_time": "2024-04-17T11:32:30.035Z"
   },
   {
    "duration": 101,
    "start_time": "2024-04-17T11:32:30.044Z"
   },
   {
    "duration": 62,
    "start_time": "2024-04-17T11:32:30.146Z"
   },
   {
    "duration": 50,
    "start_time": "2024-04-17T11:32:30.209Z"
   },
   {
    "duration": 106,
    "start_time": "2024-04-17T11:32:30.261Z"
   },
   {
    "duration": 77,
    "start_time": "2024-04-17T11:32:30.369Z"
   },
   {
    "duration": 44,
    "start_time": "2024-04-17T11:32:30.448Z"
   },
   {
    "duration": 79,
    "start_time": "2024-04-17T11:32:30.494Z"
   },
   {
    "duration": 105,
    "start_time": "2024-04-17T11:32:30.575Z"
   },
   {
    "duration": 52,
    "start_time": "2024-04-17T11:32:30.682Z"
   },
   {
    "duration": 114,
    "start_time": "2024-04-17T11:32:30.736Z"
   },
   {
    "duration": 76,
    "start_time": "2024-04-17T11:32:30.851Z"
   },
   {
    "duration": 53,
    "start_time": "2024-04-17T11:32:30.929Z"
   },
   {
    "duration": 231,
    "start_time": "2024-04-17T11:32:30.985Z"
   },
   {
    "duration": 199,
    "start_time": "2024-04-17T11:32:31.218Z"
   },
   {
    "duration": 8,
    "start_time": "2024-04-17T11:32:31.419Z"
   },
   {
    "duration": 58,
    "start_time": "2024-04-17T11:32:31.428Z"
   },
   {
    "duration": 106,
    "start_time": "2024-04-17T11:32:31.488Z"
   },
   {
    "duration": 251,
    "start_time": "2024-04-17T11:32:31.595Z"
   },
   {
    "duration": 268,
    "start_time": "2024-04-17T11:32:31.848Z"
   },
   {
    "duration": 214,
    "start_time": "2024-04-17T11:32:32.117Z"
   },
   {
    "duration": 231,
    "start_time": "2024-04-17T11:32:32.333Z"
   },
   {
    "duration": 229,
    "start_time": "2024-04-17T11:32:32.573Z"
   },
   {
    "duration": 26,
    "start_time": "2024-04-17T11:32:32.803Z"
   },
   {
    "duration": 16,
    "start_time": "2024-04-17T11:32:32.830Z"
   },
   {
    "duration": 39,
    "start_time": "2024-04-17T11:32:32.848Z"
   },
   {
    "duration": 13,
    "start_time": "2024-04-17T11:32:32.889Z"
   },
   {
    "duration": 293,
    "start_time": "2024-04-17T11:32:32.904Z"
   },
   {
    "duration": 298,
    "start_time": "2024-04-17T11:32:33.199Z"
   },
   {
    "duration": 4,
    "start_time": "2024-04-17T11:32:33.499Z"
   },
   {
    "duration": 71,
    "start_time": "2024-04-17T11:32:33.504Z"
   },
   {
    "duration": 28,
    "start_time": "2024-04-17T11:32:33.576Z"
   },
   {
    "duration": 236,
    "start_time": "2024-04-17T11:32:33.605Z"
   },
   {
    "duration": 7,
    "start_time": "2024-04-17T11:32:33.843Z"
   },
   {
    "duration": 62,
    "start_time": "2024-04-17T11:32:33.852Z"
   },
   {
    "duration": 373,
    "start_time": "2024-04-17T11:32:33.916Z"
   },
   {
    "duration": 371,
    "start_time": "2024-04-17T11:32:34.290Z"
   },
   {
    "duration": 13,
    "start_time": "2024-04-17T11:32:34.663Z"
   },
   {
    "duration": 7,
    "start_time": "2024-04-17T11:32:34.677Z"
   },
   {
    "duration": 5,
    "start_time": "2024-04-17T11:32:34.685Z"
   },
   {
    "duration": 5,
    "start_time": "2024-04-17T11:32:34.691Z"
   },
   {
    "duration": 4,
    "start_time": "2024-04-17T11:32:34.698Z"
   },
   {
    "duration": 8,
    "start_time": "2024-04-17T11:32:34.703Z"
   },
   {
    "duration": 6,
    "start_time": "2024-04-17T11:32:34.712Z"
   },
   {
    "duration": 144,
    "start_time": "2024-04-17T11:32:34.719Z"
   },
   {
    "duration": 0,
    "start_time": "2024-04-17T11:32:34.864Z"
   },
   {
    "duration": 232,
    "start_time": "2024-04-17T11:32:48.245Z"
   },
   {
    "duration": 242,
    "start_time": "2024-04-17T11:33:03.972Z"
   },
   {
    "duration": 362,
    "start_time": "2024-04-17T11:34:45.536Z"
   },
   {
    "duration": 292,
    "start_time": "2024-04-17T11:34:56.529Z"
   },
   {
    "duration": 17,
    "start_time": "2024-04-17T11:35:23.585Z"
   },
   {
    "duration": 272,
    "start_time": "2024-04-17T11:35:41.461Z"
   },
   {
    "duration": 273,
    "start_time": "2024-04-17T11:36:15.222Z"
   },
   {
    "duration": 340,
    "start_time": "2024-04-17T11:37:12.598Z"
   },
   {
    "duration": 267,
    "start_time": "2024-04-17T11:38:18.492Z"
   },
   {
    "duration": 1804,
    "start_time": "2024-04-17T11:38:45.501Z"
   },
   {
    "duration": 247,
    "start_time": "2024-04-17T11:38:57.303Z"
   },
   {
    "duration": 261,
    "start_time": "2024-04-17T11:39:16.250Z"
   },
   {
    "duration": 15,
    "start_time": "2024-04-17T11:40:01.193Z"
   },
   {
    "duration": 13,
    "start_time": "2024-04-17T11:40:17.577Z"
   },
   {
    "duration": 3,
    "start_time": "2024-04-17T11:40:56.191Z"
   },
   {
    "duration": 12,
    "start_time": "2024-04-17T11:41:18.774Z"
   },
   {
    "duration": 10,
    "start_time": "2024-04-17T11:42:57.122Z"
   },
   {
    "duration": 6,
    "start_time": "2024-04-17T11:43:12.458Z"
   },
   {
    "duration": 10,
    "start_time": "2024-04-17T11:46:44.209Z"
   },
   {
    "duration": 236,
    "start_time": "2024-04-17T11:46:51.542Z"
   },
   {
    "duration": 213,
    "start_time": "2024-04-17T11:47:17.566Z"
   },
   {
    "duration": 339,
    "start_time": "2024-04-17T11:47:47.342Z"
   },
   {
    "duration": 96,
    "start_time": "2024-04-17T11:48:06.945Z"
   },
   {
    "duration": 206,
    "start_time": "2024-04-17T11:48:14.648Z"
   },
   {
    "duration": 209,
    "start_time": "2024-04-17T11:48:30.308Z"
   },
   {
    "duration": 216,
    "start_time": "2024-04-17T11:49:04.977Z"
   },
   {
    "duration": 204,
    "start_time": "2024-04-17T11:49:26.559Z"
   },
   {
    "duration": 126,
    "start_time": "2024-04-17T11:51:37.173Z"
   },
   {
    "duration": 4,
    "start_time": "2024-04-17T11:51:44.643Z"
   },
   {
    "duration": 6,
    "start_time": "2024-04-17T11:52:01.585Z"
   },
   {
    "duration": 203,
    "start_time": "2024-04-17T11:54:36.111Z"
   },
   {
    "duration": 248,
    "start_time": "2024-04-17T11:55:22.347Z"
   },
   {
    "duration": 246,
    "start_time": "2024-04-17T11:56:06.465Z"
   },
   {
    "duration": 10,
    "start_time": "2024-04-17T11:56:18.031Z"
   },
   {
    "duration": 9,
    "start_time": "2024-04-17T11:57:27.705Z"
   },
   {
    "duration": 9,
    "start_time": "2024-04-17T11:57:41.182Z"
   },
   {
    "duration": 10,
    "start_time": "2024-04-17T11:57:43.913Z"
   },
   {
    "duration": 424,
    "start_time": "2024-04-17T11:57:58.190Z"
   },
   {
    "duration": 478,
    "start_time": "2024-04-17T11:57:58.615Z"
   },
   {
    "duration": 221,
    "start_time": "2024-04-17T11:57:59.095Z"
   },
   {
    "duration": 3,
    "start_time": "2024-04-17T11:57:59.317Z"
   },
   {
    "duration": 5,
    "start_time": "2024-04-17T11:57:59.322Z"
   },
   {
    "duration": 4,
    "start_time": "2024-04-17T11:57:59.329Z"
   },
   {
    "duration": 9,
    "start_time": "2024-04-17T11:57:59.334Z"
   },
   {
    "duration": 128,
    "start_time": "2024-04-17T11:57:59.345Z"
   },
   {
    "duration": 29,
    "start_time": "2024-04-17T11:57:59.474Z"
   },
   {
    "duration": 29,
    "start_time": "2024-04-17T11:57:59.505Z"
   },
   {
    "duration": 16,
    "start_time": "2024-04-17T11:57:59.535Z"
   },
   {
    "duration": 14,
    "start_time": "2024-04-17T11:57:59.552Z"
   },
   {
    "duration": 25,
    "start_time": "2024-04-17T11:57:59.568Z"
   },
   {
    "duration": 11,
    "start_time": "2024-04-17T11:57:59.596Z"
   },
   {
    "duration": 15,
    "start_time": "2024-04-17T11:57:59.609Z"
   },
   {
    "duration": 12,
    "start_time": "2024-04-17T11:57:59.626Z"
   },
   {
    "duration": 14,
    "start_time": "2024-04-17T11:57:59.640Z"
   },
   {
    "duration": 24,
    "start_time": "2024-04-17T11:57:59.656Z"
   },
   {
    "duration": 9,
    "start_time": "2024-04-17T11:57:59.682Z"
   },
   {
    "duration": 7,
    "start_time": "2024-04-17T11:57:59.692Z"
   },
   {
    "duration": 56,
    "start_time": "2024-04-17T11:57:59.700Z"
   },
   {
    "duration": 23,
    "start_time": "2024-04-17T11:57:59.758Z"
   },
   {
    "duration": 18,
    "start_time": "2024-04-17T11:57:59.783Z"
   },
   {
    "duration": 285,
    "start_time": "2024-04-17T11:57:59.802Z"
   },
   {
    "duration": 427,
    "start_time": "2024-04-17T11:58:00.089Z"
   },
   {
    "duration": 397,
    "start_time": "2024-04-17T11:58:00.517Z"
   },
   {
    "duration": 6,
    "start_time": "2024-04-17T11:58:00.916Z"
   },
   {
    "duration": 164,
    "start_time": "2024-04-17T11:58:00.923Z"
   },
   {
    "duration": 127,
    "start_time": "2024-04-17T11:58:01.090Z"
   },
   {
    "duration": 181,
    "start_time": "2024-04-17T11:58:01.219Z"
   },
   {
    "duration": 86,
    "start_time": "2024-04-17T11:58:01.402Z"
   },
   {
    "duration": 56,
    "start_time": "2024-04-17T11:58:01.490Z"
   },
   {
    "duration": 39,
    "start_time": "2024-04-17T11:58:01.547Z"
   },
   {
    "duration": 67,
    "start_time": "2024-04-17T11:58:01.588Z"
   },
   {
    "duration": 113,
    "start_time": "2024-04-17T11:58:01.657Z"
   },
   {
    "duration": 83,
    "start_time": "2024-04-17T11:58:01.772Z"
   },
   {
    "duration": 103,
    "start_time": "2024-04-17T11:58:01.858Z"
   },
   {
    "duration": 58,
    "start_time": "2024-04-17T11:58:01.963Z"
   },
   {
    "duration": 74,
    "start_time": "2024-04-17T11:58:02.023Z"
   },
   {
    "duration": 207,
    "start_time": "2024-04-17T11:58:02.099Z"
   },
   {
    "duration": 124,
    "start_time": "2024-04-17T11:58:02.312Z"
   },
   {
    "duration": 9,
    "start_time": "2024-04-17T11:58:02.438Z"
   },
   {
    "duration": 61,
    "start_time": "2024-04-17T11:58:02.449Z"
   },
   {
    "duration": 23,
    "start_time": "2024-04-17T11:58:02.512Z"
   },
   {
    "duration": 236,
    "start_time": "2024-04-17T11:58:02.537Z"
   },
   {
    "duration": 256,
    "start_time": "2024-04-17T11:58:02.775Z"
   },
   {
    "duration": 241,
    "start_time": "2024-04-17T11:58:03.032Z"
   },
   {
    "duration": 315,
    "start_time": "2024-04-17T11:58:03.276Z"
   },
   {
    "duration": 238,
    "start_time": "2024-04-17T11:58:03.593Z"
   },
   {
    "duration": 41,
    "start_time": "2024-04-17T11:58:03.833Z"
   },
   {
    "duration": 16,
    "start_time": "2024-04-17T11:58:03.876Z"
   },
   {
    "duration": 16,
    "start_time": "2024-04-17T11:58:03.895Z"
   },
   {
    "duration": 15,
    "start_time": "2024-04-17T11:58:03.913Z"
   },
   {
    "duration": 329,
    "start_time": "2024-04-17T11:58:03.930Z"
   },
   {
    "duration": 295,
    "start_time": "2024-04-17T11:58:04.261Z"
   },
   {
    "duration": 5,
    "start_time": "2024-04-17T11:58:04.558Z"
   },
   {
    "duration": 61,
    "start_time": "2024-04-17T11:58:04.573Z"
   },
   {
    "duration": 39,
    "start_time": "2024-04-17T11:58:04.635Z"
   },
   {
    "duration": 250,
    "start_time": "2024-04-17T11:58:04.676Z"
   },
   {
    "duration": 8,
    "start_time": "2024-04-17T11:58:04.928Z"
   },
   {
    "duration": 73,
    "start_time": "2024-04-17T11:58:04.938Z"
   },
   {
    "duration": 353,
    "start_time": "2024-04-17T11:58:05.013Z"
   },
   {
    "duration": 382,
    "start_time": "2024-04-17T11:58:05.367Z"
   },
   {
    "duration": 7,
    "start_time": "2024-04-17T11:58:05.750Z"
   },
   {
    "duration": 43,
    "start_time": "2024-04-17T11:58:05.758Z"
   },
   {
    "duration": 37,
    "start_time": "2024-04-17T11:58:05.802Z"
   },
   {
    "duration": 19,
    "start_time": "2024-04-17T11:58:05.841Z"
   },
   {
    "duration": 15,
    "start_time": "2024-04-17T11:58:05.862Z"
   },
   {
    "duration": 27,
    "start_time": "2024-04-17T11:58:05.879Z"
   },
   {
    "duration": 14,
    "start_time": "2024-04-17T11:58:05.908Z"
   },
   {
    "duration": 291,
    "start_time": "2024-04-17T11:58:05.924Z"
   },
   {
    "duration": 115,
    "start_time": "2024-04-17T11:58:06.217Z"
   },
   {
    "duration": 0,
    "start_time": "2024-04-17T11:58:06.334Z"
   },
   {
    "duration": 0,
    "start_time": "2024-04-17T11:58:06.335Z"
   },
   {
    "duration": 10,
    "start_time": "2024-04-17T12:00:23.735Z"
   },
   {
    "duration": 6,
    "start_time": "2024-04-17T12:00:30.934Z"
   },
   {
    "duration": 5,
    "start_time": "2024-04-17T12:00:35.636Z"
   },
   {
    "duration": 409,
    "start_time": "2024-04-17T12:01:07.498Z"
   },
   {
    "duration": 441,
    "start_time": "2024-04-17T12:01:07.909Z"
   },
   {
    "duration": 229,
    "start_time": "2024-04-17T12:01:08.352Z"
   },
   {
    "duration": 4,
    "start_time": "2024-04-17T12:01:08.583Z"
   },
   {
    "duration": 18,
    "start_time": "2024-04-17T12:01:08.589Z"
   },
   {
    "duration": 8,
    "start_time": "2024-04-17T12:01:08.608Z"
   },
   {
    "duration": 23,
    "start_time": "2024-04-17T12:01:08.617Z"
   },
   {
    "duration": 129,
    "start_time": "2024-04-17T12:01:08.642Z"
   },
   {
    "duration": 29,
    "start_time": "2024-04-17T12:01:08.772Z"
   },
   {
    "duration": 29,
    "start_time": "2024-04-17T12:01:08.803Z"
   },
   {
    "duration": 15,
    "start_time": "2024-04-17T12:01:08.834Z"
   },
   {
    "duration": 13,
    "start_time": "2024-04-17T12:01:08.851Z"
   },
   {
    "duration": 10,
    "start_time": "2024-04-17T12:01:08.865Z"
   },
   {
    "duration": 14,
    "start_time": "2024-04-17T12:01:08.878Z"
   },
   {
    "duration": 20,
    "start_time": "2024-04-17T12:01:08.894Z"
   },
   {
    "duration": 21,
    "start_time": "2024-04-17T12:01:08.915Z"
   },
   {
    "duration": 10,
    "start_time": "2024-04-17T12:01:08.938Z"
   },
   {
    "duration": 8,
    "start_time": "2024-04-17T12:01:08.949Z"
   },
   {
    "duration": 25,
    "start_time": "2024-04-17T12:01:08.958Z"
   },
   {
    "duration": 10,
    "start_time": "2024-04-17T12:01:08.985Z"
   },
   {
    "duration": 21,
    "start_time": "2024-04-17T12:01:08.997Z"
   },
   {
    "duration": 17,
    "start_time": "2024-04-17T12:01:09.020Z"
   },
   {
    "duration": 15,
    "start_time": "2024-04-17T12:01:09.039Z"
   },
   {
    "duration": 269,
    "start_time": "2024-04-17T12:01:09.056Z"
   },
   {
    "duration": 390,
    "start_time": "2024-04-17T12:01:09.327Z"
   },
   {
    "duration": 394,
    "start_time": "2024-04-17T12:01:09.718Z"
   },
   {
    "duration": 4,
    "start_time": "2024-04-17T12:01:10.114Z"
   },
   {
    "duration": 33,
    "start_time": "2024-04-17T12:01:10.119Z"
   },
   {
    "duration": 7,
    "start_time": "2024-04-17T12:01:10.154Z"
   },
   {
    "duration": 15,
    "start_time": "2024-04-17T12:01:10.163Z"
   },
   {
    "duration": 16,
    "start_time": "2024-04-17T12:01:10.180Z"
   },
   {
    "duration": 5,
    "start_time": "2024-04-17T12:01:10.198Z"
   },
   {
    "duration": 5,
    "start_time": "2024-04-17T12:01:10.205Z"
   },
   {
    "duration": 17,
    "start_time": "2024-04-17T12:01:10.212Z"
   },
   {
    "duration": 15,
    "start_time": "2024-04-17T12:01:10.230Z"
   },
   {
    "duration": 5,
    "start_time": "2024-04-17T12:01:10.247Z"
   },
   {
    "duration": 22,
    "start_time": "2024-04-17T12:01:10.254Z"
   },
   {
    "duration": 20,
    "start_time": "2024-04-17T12:01:10.278Z"
   },
   {
    "duration": 10,
    "start_time": "2024-04-17T12:01:10.299Z"
   },
   {
    "duration": 126,
    "start_time": "2024-04-17T12:01:10.311Z"
   },
   {
    "duration": 124,
    "start_time": "2024-04-17T12:01:10.441Z"
   },
   {
    "duration": 9,
    "start_time": "2024-04-17T12:01:10.567Z"
   },
   {
    "duration": 21,
    "start_time": "2024-04-17T12:01:10.578Z"
   },
   {
    "duration": 18,
    "start_time": "2024-04-17T12:01:10.600Z"
   },
   {
    "duration": 207,
    "start_time": "2024-04-17T12:01:10.619Z"
   },
   {
    "duration": 247,
    "start_time": "2024-04-17T12:01:10.827Z"
   },
   {
    "duration": 203,
    "start_time": "2024-04-17T12:01:11.075Z"
   },
   {
    "duration": 223,
    "start_time": "2024-04-17T12:01:11.279Z"
   },
   {
    "duration": 221,
    "start_time": "2024-04-17T12:01:11.504Z"
   },
   {
    "duration": 25,
    "start_time": "2024-04-17T12:01:11.727Z"
   },
   {
    "duration": 33,
    "start_time": "2024-04-17T12:01:11.754Z"
   },
   {
    "duration": 15,
    "start_time": "2024-04-17T12:01:11.789Z"
   },
   {
    "duration": 12,
    "start_time": "2024-04-17T12:01:11.806Z"
   },
   {
    "duration": 309,
    "start_time": "2024-04-17T12:01:11.820Z"
   },
   {
    "duration": 291,
    "start_time": "2024-04-17T12:01:12.131Z"
   },
   {
    "duration": 4,
    "start_time": "2024-04-17T12:01:12.423Z"
   },
   {
    "duration": 56,
    "start_time": "2024-04-17T12:01:12.429Z"
   },
   {
    "duration": 30,
    "start_time": "2024-04-17T12:01:12.487Z"
   },
   {
    "duration": 249,
    "start_time": "2024-04-17T12:01:12.519Z"
   },
   {
    "duration": 8,
    "start_time": "2024-04-17T12:01:12.770Z"
   },
   {
    "duration": 81,
    "start_time": "2024-04-17T12:01:12.780Z"
   },
   {
    "duration": 346,
    "start_time": "2024-04-17T12:01:12.863Z"
   },
   {
    "duration": 416,
    "start_time": "2024-04-17T12:01:13.211Z"
   },
   {
    "duration": 6,
    "start_time": "2024-04-17T12:01:13.628Z"
   },
   {
    "duration": 25,
    "start_time": "2024-04-17T12:01:13.635Z"
   },
   {
    "duration": 9,
    "start_time": "2024-04-17T12:01:13.662Z"
   },
   {
    "duration": 34,
    "start_time": "2024-04-17T12:01:13.673Z"
   },
   {
    "duration": 24,
    "start_time": "2024-04-17T12:01:13.709Z"
   },
   {
    "duration": 84,
    "start_time": "2024-04-17T12:01:13.735Z"
   },
   {
    "duration": 19,
    "start_time": "2024-04-17T12:01:13.821Z"
   },
   {
    "duration": 276,
    "start_time": "2024-04-17T12:01:13.841Z"
   },
   {
    "duration": 6,
    "start_time": "2024-04-17T12:01:14.119Z"
   },
   {
    "duration": 21,
    "start_time": "2024-04-17T12:01:14.127Z"
   },
   {
    "duration": 38,
    "start_time": "2024-04-17T12:01:14.150Z"
   },
   {
    "duration": 48,
    "start_time": "2024-04-17T12:02:17.164Z"
   },
   {
    "duration": 420,
    "start_time": "2024-04-17T12:04:29.586Z"
   },
   {
    "duration": 446,
    "start_time": "2024-04-17T12:04:30.009Z"
   },
   {
    "duration": 235,
    "start_time": "2024-04-17T12:04:30.457Z"
   },
   {
    "duration": 4,
    "start_time": "2024-04-17T12:04:30.694Z"
   },
   {
    "duration": 194,
    "start_time": "2024-04-17T12:04:30.701Z"
   },
   {
    "duration": 270,
    "start_time": "2024-04-17T12:04:30.897Z"
   },
   {
    "duration": 303,
    "start_time": "2024-04-17T12:04:31.169Z"
   },
   {
    "duration": 250,
    "start_time": "2024-04-17T12:04:31.474Z"
   },
   {
    "duration": 32,
    "start_time": "2024-04-17T12:04:31.726Z"
   },
   {
    "duration": 30,
    "start_time": "2024-04-17T12:04:31.760Z"
   },
   {
    "duration": 24,
    "start_time": "2024-04-17T12:04:31.792Z"
   },
   {
    "duration": 40,
    "start_time": "2024-04-17T12:04:31.818Z"
   },
   {
    "duration": 48,
    "start_time": "2024-04-17T12:04:31.859Z"
   },
   {
    "duration": 78,
    "start_time": "2024-04-17T12:04:31.910Z"
   },
   {
    "duration": 41,
    "start_time": "2024-04-17T12:04:31.990Z"
   },
   {
    "duration": 28,
    "start_time": "2024-04-17T12:04:32.033Z"
   },
   {
    "duration": 30,
    "start_time": "2024-04-17T12:04:32.062Z"
   },
   {
    "duration": 56,
    "start_time": "2024-04-17T12:04:32.094Z"
   },
   {
    "duration": 26,
    "start_time": "2024-04-17T12:04:32.152Z"
   },
   {
    "duration": 7,
    "start_time": "2024-04-17T12:04:32.180Z"
   },
   {
    "duration": 39,
    "start_time": "2024-04-17T12:04:32.189Z"
   },
   {
    "duration": 18,
    "start_time": "2024-04-17T12:04:32.230Z"
   },
   {
    "duration": 26,
    "start_time": "2024-04-17T12:04:32.250Z"
   },
   {
    "duration": 301,
    "start_time": "2024-04-17T12:04:32.278Z"
   },
   {
    "duration": 384,
    "start_time": "2024-04-17T12:04:32.581Z"
   },
   {
    "duration": 372,
    "start_time": "2024-04-17T12:04:32.966Z"
   },
   {
    "duration": 4,
    "start_time": "2024-04-17T12:04:33.339Z"
   },
   {
    "duration": 25,
    "start_time": "2024-04-17T12:04:33.345Z"
   },
   {
    "duration": 11,
    "start_time": "2024-04-17T12:04:33.372Z"
   },
   {
    "duration": 33,
    "start_time": "2024-04-17T12:04:33.384Z"
   },
   {
    "duration": 30,
    "start_time": "2024-04-17T12:04:33.419Z"
   },
   {
    "duration": 8,
    "start_time": "2024-04-17T12:04:33.451Z"
   },
   {
    "duration": 19,
    "start_time": "2024-04-17T12:04:33.461Z"
   },
   {
    "duration": 18,
    "start_time": "2024-04-17T12:04:33.482Z"
   },
   {
    "duration": 22,
    "start_time": "2024-04-17T12:04:33.502Z"
   },
   {
    "duration": 21,
    "start_time": "2024-04-17T12:04:33.526Z"
   },
   {
    "duration": 16,
    "start_time": "2024-04-17T12:04:33.549Z"
   },
   {
    "duration": 12,
    "start_time": "2024-04-17T12:04:33.567Z"
   },
   {
    "duration": 7,
    "start_time": "2024-04-17T12:04:33.581Z"
   },
   {
    "duration": 135,
    "start_time": "2024-04-17T12:04:33.590Z"
   },
   {
    "duration": 144,
    "start_time": "2024-04-17T12:04:33.731Z"
   },
   {
    "duration": 12,
    "start_time": "2024-04-17T12:04:33.877Z"
   },
   {
    "duration": 30,
    "start_time": "2024-04-17T12:04:33.891Z"
   },
   {
    "duration": 47,
    "start_time": "2024-04-17T12:04:33.923Z"
   },
   {
    "duration": 203,
    "start_time": "2024-04-17T12:04:33.972Z"
   },
   {
    "duration": 250,
    "start_time": "2024-04-17T12:04:34.177Z"
   },
   {
    "duration": 215,
    "start_time": "2024-04-17T12:04:34.429Z"
   },
   {
    "duration": 220,
    "start_time": "2024-04-17T12:04:34.646Z"
   },
   {
    "duration": 215,
    "start_time": "2024-04-17T12:04:34.872Z"
   },
   {
    "duration": 27,
    "start_time": "2024-04-17T12:04:35.089Z"
   },
   {
    "duration": 15,
    "start_time": "2024-04-17T12:04:35.117Z"
   },
   {
    "duration": 46,
    "start_time": "2024-04-17T12:04:35.134Z"
   },
   {
    "duration": 15,
    "start_time": "2024-04-17T12:04:35.182Z"
   },
   {
    "duration": 305,
    "start_time": "2024-04-17T12:04:35.199Z"
   },
   {
    "duration": 292,
    "start_time": "2024-04-17T12:04:35.505Z"
   },
   {
    "duration": 3,
    "start_time": "2024-04-17T12:04:35.799Z"
   },
   {
    "duration": 59,
    "start_time": "2024-04-17T12:04:35.804Z"
   },
   {
    "duration": 33,
    "start_time": "2024-04-17T12:04:35.865Z"
   },
   {
    "duration": 261,
    "start_time": "2024-04-17T12:04:35.901Z"
   },
   {
    "duration": 22,
    "start_time": "2024-04-17T12:04:36.164Z"
   },
   {
    "duration": 66,
    "start_time": "2024-04-17T12:04:36.187Z"
   },
   {
    "duration": 467,
    "start_time": "2024-04-17T12:04:36.254Z"
   },
   {
    "duration": 392,
    "start_time": "2024-04-17T12:04:36.723Z"
   },
   {
    "duration": 7,
    "start_time": "2024-04-17T12:04:37.117Z"
   },
   {
    "duration": 11,
    "start_time": "2024-04-17T12:04:37.126Z"
   },
   {
    "duration": 27,
    "start_time": "2024-04-17T12:04:37.139Z"
   },
   {
    "duration": 16,
    "start_time": "2024-04-17T12:04:37.168Z"
   },
   {
    "duration": 14,
    "start_time": "2024-04-17T12:04:37.185Z"
   },
   {
    "duration": 24,
    "start_time": "2024-04-17T12:04:37.201Z"
   },
   {
    "duration": 6,
    "start_time": "2024-04-17T12:04:37.227Z"
   },
   {
    "duration": 267,
    "start_time": "2024-04-17T12:04:37.235Z"
   },
   {
    "duration": 100,
    "start_time": "2024-04-17T12:04:37.503Z"
   },
   {
    "duration": 6,
    "start_time": "2024-04-17T12:04:37.605Z"
   },
   {
    "duration": 24,
    "start_time": "2024-04-17T12:04:55.434Z"
   },
   {
    "duration": 463,
    "start_time": "2024-04-17T12:05:03.949Z"
   },
   {
    "duration": 463,
    "start_time": "2024-04-17T12:05:04.414Z"
   },
   {
    "duration": 220,
    "start_time": "2024-04-17T12:05:04.878Z"
   },
   {
    "duration": 3,
    "start_time": "2024-04-17T12:05:05.099Z"
   },
   {
    "duration": 90,
    "start_time": "2024-04-17T12:05:05.105Z"
   },
   {
    "duration": 10,
    "start_time": "2024-04-17T12:05:05.197Z"
   },
   {
    "duration": 15,
    "start_time": "2024-04-17T12:05:05.209Z"
   },
   {
    "duration": 120,
    "start_time": "2024-04-17T12:05:05.226Z"
   },
   {
    "duration": 29,
    "start_time": "2024-04-17T12:05:05.348Z"
   },
   {
    "duration": 29,
    "start_time": "2024-04-17T12:05:05.379Z"
   },
   {
    "duration": 15,
    "start_time": "2024-04-17T12:05:05.409Z"
   },
   {
    "duration": 13,
    "start_time": "2024-04-17T12:05:05.426Z"
   },
   {
    "duration": 21,
    "start_time": "2024-04-17T12:05:05.440Z"
   },
   {
    "duration": 46,
    "start_time": "2024-04-17T12:05:05.464Z"
   },
   {
    "duration": 122,
    "start_time": "2024-04-17T12:05:05.512Z"
   },
   {
    "duration": 28,
    "start_time": "2024-04-17T12:05:05.636Z"
   },
   {
    "duration": 11,
    "start_time": "2024-04-17T12:05:05.665Z"
   },
   {
    "duration": 21,
    "start_time": "2024-04-17T12:05:05.678Z"
   },
   {
    "duration": 19,
    "start_time": "2024-04-17T12:05:05.701Z"
   },
   {
    "duration": 10,
    "start_time": "2024-04-17T12:05:05.722Z"
   },
   {
    "duration": 20,
    "start_time": "2024-04-17T12:05:05.733Z"
   },
   {
    "duration": 24,
    "start_time": "2024-04-17T12:05:05.755Z"
   },
   {
    "duration": 18,
    "start_time": "2024-04-17T12:05:05.780Z"
   },
   {
    "duration": 295,
    "start_time": "2024-04-17T12:05:05.799Z"
   },
   {
    "duration": 394,
    "start_time": "2024-04-17T12:05:06.096Z"
   },
   {
    "duration": 387,
    "start_time": "2024-04-17T12:05:06.492Z"
   },
   {
    "duration": 4,
    "start_time": "2024-04-17T12:05:06.881Z"
   },
   {
    "duration": 16,
    "start_time": "2024-04-17T12:05:06.887Z"
   },
   {
    "duration": 16,
    "start_time": "2024-04-17T12:05:06.904Z"
   },
   {
    "duration": 8,
    "start_time": "2024-04-17T12:05:06.922Z"
   },
   {
    "duration": 33,
    "start_time": "2024-04-17T12:05:06.931Z"
   },
   {
    "duration": 34,
    "start_time": "2024-04-17T12:05:06.967Z"
   },
   {
    "duration": 6,
    "start_time": "2024-04-17T12:05:07.003Z"
   },
   {
    "duration": 10,
    "start_time": "2024-04-17T12:05:07.011Z"
   },
   {
    "duration": 13,
    "start_time": "2024-04-17T12:05:07.023Z"
   },
   {
    "duration": 8,
    "start_time": "2024-04-17T12:05:07.038Z"
   },
   {
    "duration": 8,
    "start_time": "2024-04-17T12:05:07.048Z"
   },
   {
    "duration": 33,
    "start_time": "2024-04-17T12:05:07.057Z"
   },
   {
    "duration": 20,
    "start_time": "2024-04-17T12:05:07.092Z"
   },
   {
    "duration": 118,
    "start_time": "2024-04-17T12:05:07.113Z"
   },
   {
    "duration": 117,
    "start_time": "2024-04-17T12:05:07.235Z"
   },
   {
    "duration": 8,
    "start_time": "2024-04-17T12:05:07.354Z"
   },
   {
    "duration": 11,
    "start_time": "2024-04-17T12:05:07.373Z"
   },
   {
    "duration": 15,
    "start_time": "2024-04-17T12:05:07.385Z"
   },
   {
    "duration": 211,
    "start_time": "2024-04-17T12:05:07.401Z"
   },
   {
    "duration": 255,
    "start_time": "2024-04-17T12:05:07.613Z"
   },
   {
    "duration": 214,
    "start_time": "2024-04-17T12:05:07.869Z"
   },
   {
    "duration": 234,
    "start_time": "2024-04-17T12:05:08.085Z"
   },
   {
    "duration": 218,
    "start_time": "2024-04-17T12:05:08.321Z"
   },
   {
    "duration": 39,
    "start_time": "2024-04-17T12:05:08.541Z"
   },
   {
    "duration": 17,
    "start_time": "2024-04-17T12:05:08.581Z"
   },
   {
    "duration": 18,
    "start_time": "2024-04-17T12:05:08.600Z"
   },
   {
    "duration": 14,
    "start_time": "2024-04-17T12:05:08.620Z"
   },
   {
    "duration": 311,
    "start_time": "2024-04-17T12:05:08.635Z"
   },
   {
    "duration": 284,
    "start_time": "2024-04-17T12:05:08.947Z"
   },
   {
    "duration": 4,
    "start_time": "2024-04-17T12:05:09.232Z"
   },
   {
    "duration": 53,
    "start_time": "2024-04-17T12:05:09.237Z"
   },
   {
    "duration": 29,
    "start_time": "2024-04-17T12:05:09.291Z"
   },
   {
    "duration": 228,
    "start_time": "2024-04-17T12:05:09.321Z"
   },
   {
    "duration": 7,
    "start_time": "2024-04-17T12:05:09.550Z"
   },
   {
    "duration": 66,
    "start_time": "2024-04-17T12:05:09.559Z"
   },
   {
    "duration": 360,
    "start_time": "2024-04-17T12:05:09.627Z"
   },
   {
    "duration": 390,
    "start_time": "2024-04-17T12:05:09.988Z"
   },
   {
    "duration": 8,
    "start_time": "2024-04-17T12:05:10.380Z"
   },
   {
    "duration": 12,
    "start_time": "2024-04-17T12:05:10.390Z"
   },
   {
    "duration": 22,
    "start_time": "2024-04-17T12:05:10.404Z"
   },
   {
    "duration": 31,
    "start_time": "2024-04-17T12:05:10.427Z"
   },
   {
    "duration": 12,
    "start_time": "2024-04-17T12:05:10.459Z"
   },
   {
    "duration": 10,
    "start_time": "2024-04-17T12:05:10.473Z"
   },
   {
    "duration": 6,
    "start_time": "2024-04-17T12:05:10.485Z"
   },
   {
    "duration": 253,
    "start_time": "2024-04-17T12:05:10.493Z"
   },
   {
    "duration": 39,
    "start_time": "2024-04-17T12:05:10.748Z"
   },
   {
    "duration": 7,
    "start_time": "2024-04-17T12:05:10.789Z"
   },
   {
    "duration": 4,
    "start_time": "2024-04-17T12:05:32.099Z"
   },
   {
    "duration": 1522,
    "start_time": "2024-04-17T12:05:38.219Z"
   },
   {
    "duration": 87,
    "start_time": "2024-04-17T12:05:45.330Z"
   },
   {
    "duration": 12,
    "start_time": "2024-04-17T12:06:13.664Z"
   },
   {
    "duration": 423,
    "start_time": "2024-04-17T12:06:22.975Z"
   },
   {
    "duration": 495,
    "start_time": "2024-04-17T12:06:23.399Z"
   },
   {
    "duration": 224,
    "start_time": "2024-04-17T12:06:23.895Z"
   },
   {
    "duration": 3,
    "start_time": "2024-04-17T12:06:24.121Z"
   },
   {
    "duration": 23,
    "start_time": "2024-04-17T12:06:24.125Z"
   },
   {
    "duration": 16,
    "start_time": "2024-04-17T12:06:24.150Z"
   },
   {
    "duration": 5,
    "start_time": "2024-04-17T12:06:24.168Z"
   },
   {
    "duration": 117,
    "start_time": "2024-04-17T12:06:24.174Z"
   },
   {
    "duration": 29,
    "start_time": "2024-04-17T12:06:24.293Z"
   },
   {
    "duration": 28,
    "start_time": "2024-04-17T12:06:24.326Z"
   },
   {
    "duration": 16,
    "start_time": "2024-04-17T12:06:24.356Z"
   },
   {
    "duration": 13,
    "start_time": "2024-04-17T12:06:24.373Z"
   },
   {
    "duration": 10,
    "start_time": "2024-04-17T12:06:24.387Z"
   },
   {
    "duration": 7,
    "start_time": "2024-04-17T12:06:24.398Z"
   },
   {
    "duration": 15,
    "start_time": "2024-04-17T12:06:24.407Z"
   },
   {
    "duration": 19,
    "start_time": "2024-04-17T12:06:24.423Z"
   },
   {
    "duration": 31,
    "start_time": "2024-04-17T12:06:24.444Z"
   },
   {
    "duration": 23,
    "start_time": "2024-04-17T12:06:24.477Z"
   },
   {
    "duration": 9,
    "start_time": "2024-04-17T12:06:24.502Z"
   },
   {
    "duration": 5,
    "start_time": "2024-04-17T12:06:24.512Z"
   },
   {
    "duration": 15,
    "start_time": "2024-04-17T12:06:24.518Z"
   },
   {
    "duration": 19,
    "start_time": "2024-04-17T12:06:24.535Z"
   },
   {
    "duration": 33,
    "start_time": "2024-04-17T12:06:24.555Z"
   },
   {
    "duration": 266,
    "start_time": "2024-04-17T12:06:24.589Z"
   },
   {
    "duration": 412,
    "start_time": "2024-04-17T12:06:24.857Z"
   },
   {
    "duration": 375,
    "start_time": "2024-04-17T12:06:25.271Z"
   },
   {
    "duration": 5,
    "start_time": "2024-04-17T12:06:25.648Z"
   },
   {
    "duration": 25,
    "start_time": "2024-04-17T12:06:25.657Z"
   },
   {
    "duration": 9,
    "start_time": "2024-04-17T12:06:25.683Z"
   },
   {
    "duration": 12,
    "start_time": "2024-04-17T12:06:25.694Z"
   },
   {
    "duration": 11,
    "start_time": "2024-04-17T12:06:25.708Z"
   },
   {
    "duration": 7,
    "start_time": "2024-04-17T12:06:25.721Z"
   },
   {
    "duration": 18,
    "start_time": "2024-04-17T12:06:25.729Z"
   },
   {
    "duration": 11,
    "start_time": "2024-04-17T12:06:25.748Z"
   },
   {
    "duration": 14,
    "start_time": "2024-04-17T12:06:25.760Z"
   },
   {
    "duration": 6,
    "start_time": "2024-04-17T12:06:25.775Z"
   },
   {
    "duration": 14,
    "start_time": "2024-04-17T12:06:25.782Z"
   },
   {
    "duration": 8,
    "start_time": "2024-04-17T12:06:25.798Z"
   },
   {
    "duration": 6,
    "start_time": "2024-04-17T12:06:25.807Z"
   },
   {
    "duration": 125,
    "start_time": "2024-04-17T12:06:25.814Z"
   },
   {
    "duration": 132,
    "start_time": "2024-04-17T12:06:25.941Z"
   },
   {
    "duration": 9,
    "start_time": "2024-04-17T12:06:26.075Z"
   },
   {
    "duration": 24,
    "start_time": "2024-04-17T12:06:26.085Z"
   },
   {
    "duration": 28,
    "start_time": "2024-04-17T12:06:26.111Z"
   },
   {
    "duration": 218,
    "start_time": "2024-04-17T12:06:26.141Z"
   },
   {
    "duration": 255,
    "start_time": "2024-04-17T12:06:26.360Z"
   },
   {
    "duration": 230,
    "start_time": "2024-04-17T12:06:26.617Z"
   },
   {
    "duration": 234,
    "start_time": "2024-04-17T12:06:26.848Z"
   },
   {
    "duration": 216,
    "start_time": "2024-04-17T12:06:27.084Z"
   },
   {
    "duration": 25,
    "start_time": "2024-04-17T12:06:27.301Z"
   },
   {
    "duration": 13,
    "start_time": "2024-04-17T12:06:27.328Z"
   },
   {
    "duration": 37,
    "start_time": "2024-04-17T12:06:27.342Z"
   },
   {
    "duration": 13,
    "start_time": "2024-04-17T12:06:27.381Z"
   },
   {
    "duration": 289,
    "start_time": "2024-04-17T12:06:27.395Z"
   },
   {
    "duration": 293,
    "start_time": "2024-04-17T12:06:27.685Z"
   },
   {
    "duration": 4,
    "start_time": "2024-04-17T12:06:27.980Z"
   },
   {
    "duration": 52,
    "start_time": "2024-04-17T12:06:27.986Z"
   },
   {
    "duration": 38,
    "start_time": "2024-04-17T12:06:28.040Z"
   },
   {
    "duration": 248,
    "start_time": "2024-04-17T12:06:28.080Z"
   },
   {
    "duration": 8,
    "start_time": "2024-04-17T12:06:28.330Z"
   },
   {
    "duration": 65,
    "start_time": "2024-04-17T12:06:28.339Z"
   },
   {
    "duration": 345,
    "start_time": "2024-04-17T12:06:28.406Z"
   },
   {
    "duration": 379,
    "start_time": "2024-04-17T12:06:28.753Z"
   },
   {
    "duration": 6,
    "start_time": "2024-04-17T12:06:29.133Z"
   },
   {
    "duration": 16,
    "start_time": "2024-04-17T12:06:29.141Z"
   },
   {
    "duration": 16,
    "start_time": "2024-04-17T12:06:29.159Z"
   },
   {
    "duration": 7,
    "start_time": "2024-04-17T12:06:29.177Z"
   },
   {
    "duration": 4,
    "start_time": "2024-04-17T12:06:29.186Z"
   },
   {
    "duration": 6,
    "start_time": "2024-04-17T12:06:29.191Z"
   },
   {
    "duration": 4,
    "start_time": "2024-04-17T12:06:29.199Z"
   },
   {
    "duration": 292,
    "start_time": "2024-04-17T12:06:29.204Z"
   },
   {
    "duration": 14,
    "start_time": "2024-04-17T12:06:29.497Z"
   },
   {
    "duration": 9,
    "start_time": "2024-04-17T12:06:29.513Z"
   },
   {
    "duration": 425,
    "start_time": "2024-04-17T12:07:16.880Z"
   },
   {
    "duration": 435,
    "start_time": "2024-04-17T12:07:17.307Z"
   },
   {
    "duration": 233,
    "start_time": "2024-04-17T12:07:17.744Z"
   },
   {
    "duration": 3,
    "start_time": "2024-04-17T12:07:17.978Z"
   },
   {
    "duration": 3,
    "start_time": "2024-04-17T12:07:17.983Z"
   },
   {
    "duration": 7,
    "start_time": "2024-04-17T12:07:17.988Z"
   },
   {
    "duration": 4,
    "start_time": "2024-04-17T12:07:17.996Z"
   },
   {
    "duration": 122,
    "start_time": "2024-04-17T12:07:18.002Z"
   },
   {
    "duration": 29,
    "start_time": "2024-04-17T12:07:18.126Z"
   },
   {
    "duration": 40,
    "start_time": "2024-04-17T12:07:18.157Z"
   },
   {
    "duration": 15,
    "start_time": "2024-04-17T12:07:18.199Z"
   },
   {
    "duration": 20,
    "start_time": "2024-04-17T12:07:18.215Z"
   },
   {
    "duration": 32,
    "start_time": "2024-04-17T12:07:18.237Z"
   },
   {
    "duration": 32,
    "start_time": "2024-04-17T12:07:18.273Z"
   },
   {
    "duration": 38,
    "start_time": "2024-04-17T12:07:18.307Z"
   },
   {
    "duration": 20,
    "start_time": "2024-04-17T12:07:18.347Z"
   },
   {
    "duration": 10,
    "start_time": "2024-04-17T12:07:18.369Z"
   },
   {
    "duration": 9,
    "start_time": "2024-04-17T12:07:18.381Z"
   },
   {
    "duration": 10,
    "start_time": "2024-04-17T12:07:18.392Z"
   },
   {
    "duration": 5,
    "start_time": "2024-04-17T12:07:18.403Z"
   },
   {
    "duration": 15,
    "start_time": "2024-04-17T12:07:18.410Z"
   },
   {
    "duration": 18,
    "start_time": "2024-04-17T12:07:18.426Z"
   },
   {
    "duration": 17,
    "start_time": "2024-04-17T12:07:18.473Z"
   },
   {
    "duration": 271,
    "start_time": "2024-04-17T12:07:18.492Z"
   },
   {
    "duration": 397,
    "start_time": "2024-04-17T12:07:18.766Z"
   },
   {
    "duration": 372,
    "start_time": "2024-04-17T12:07:19.173Z"
   },
   {
    "duration": 4,
    "start_time": "2024-04-17T12:07:19.547Z"
   },
   {
    "duration": 29,
    "start_time": "2024-04-17T12:07:19.553Z"
   },
   {
    "duration": 7,
    "start_time": "2024-04-17T12:07:19.584Z"
   },
   {
    "duration": 15,
    "start_time": "2024-04-17T12:07:19.594Z"
   },
   {
    "duration": 21,
    "start_time": "2024-04-17T12:07:19.611Z"
   },
   {
    "duration": 19,
    "start_time": "2024-04-17T12:07:19.634Z"
   },
   {
    "duration": 26,
    "start_time": "2024-04-17T12:07:19.655Z"
   },
   {
    "duration": 24,
    "start_time": "2024-04-17T12:07:19.683Z"
   },
   {
    "duration": 38,
    "start_time": "2024-04-17T12:07:19.709Z"
   },
   {
    "duration": 7,
    "start_time": "2024-04-17T12:07:19.748Z"
   },
   {
    "duration": 10,
    "start_time": "2024-04-17T12:07:19.756Z"
   },
   {
    "duration": 20,
    "start_time": "2024-04-17T12:07:19.768Z"
   },
   {
    "duration": 27,
    "start_time": "2024-04-17T12:07:19.789Z"
   },
   {
    "duration": 124,
    "start_time": "2024-04-17T12:07:19.817Z"
   },
   {
    "duration": 123,
    "start_time": "2024-04-17T12:07:19.945Z"
   },
   {
    "duration": 9,
    "start_time": "2024-04-17T12:07:20.073Z"
   },
   {
    "duration": 54,
    "start_time": "2024-04-17T12:07:20.084Z"
   },
   {
    "duration": 34,
    "start_time": "2024-04-17T12:07:20.141Z"
   },
   {
    "duration": 213,
    "start_time": "2024-04-17T12:07:20.177Z"
   },
   {
    "duration": 245,
    "start_time": "2024-04-17T12:07:20.392Z"
   },
   {
    "duration": 209,
    "start_time": "2024-04-17T12:07:20.638Z"
   },
   {
    "duration": 229,
    "start_time": "2024-04-17T12:07:20.849Z"
   },
   {
    "duration": 226,
    "start_time": "2024-04-17T12:07:21.080Z"
   },
   {
    "duration": 26,
    "start_time": "2024-04-17T12:07:21.308Z"
   },
   {
    "duration": 38,
    "start_time": "2024-04-17T12:07:21.336Z"
   },
   {
    "duration": 25,
    "start_time": "2024-04-17T12:07:21.376Z"
   },
   {
    "duration": 23,
    "start_time": "2024-04-17T12:07:21.403Z"
   },
   {
    "duration": 275,
    "start_time": "2024-04-17T12:07:21.428Z"
   },
   {
    "duration": 304,
    "start_time": "2024-04-17T12:07:21.705Z"
   },
   {
    "duration": 4,
    "start_time": "2024-04-17T12:07:22.010Z"
   },
   {
    "duration": 69,
    "start_time": "2024-04-17T12:07:22.016Z"
   },
   {
    "duration": 39,
    "start_time": "2024-04-17T12:07:22.087Z"
   },
   {
    "duration": 246,
    "start_time": "2024-04-17T12:07:22.128Z"
   },
   {
    "duration": 8,
    "start_time": "2024-04-17T12:07:22.375Z"
   },
   {
    "duration": 71,
    "start_time": "2024-04-17T12:07:22.385Z"
   },
   {
    "duration": 346,
    "start_time": "2024-04-17T12:07:22.458Z"
   },
   {
    "duration": 383,
    "start_time": "2024-04-17T12:07:22.806Z"
   },
   {
    "duration": 6,
    "start_time": "2024-04-17T12:07:23.190Z"
   },
   {
    "duration": 27,
    "start_time": "2024-04-17T12:07:23.197Z"
   },
   {
    "duration": 8,
    "start_time": "2024-04-17T12:07:23.226Z"
   },
   {
    "duration": 25,
    "start_time": "2024-04-17T12:07:23.235Z"
   },
   {
    "duration": 31,
    "start_time": "2024-04-17T12:07:23.262Z"
   },
   {
    "duration": 16,
    "start_time": "2024-04-17T12:07:23.295Z"
   },
   {
    "duration": 5,
    "start_time": "2024-04-17T12:07:23.313Z"
   },
   {
    "duration": 280,
    "start_time": "2024-04-17T12:07:23.320Z"
   },
   {
    "duration": 14,
    "start_time": "2024-04-17T12:07:23.602Z"
   },
   {
    "duration": 14,
    "start_time": "2024-04-17T12:07:23.618Z"
   },
   {
    "duration": 1687,
    "start_time": "2024-04-17T12:07:53.962Z"
   },
   {
    "duration": 100,
    "start_time": "2024-04-17T12:07:57.035Z"
   },
   {
    "duration": 4,
    "start_time": "2024-04-17T12:09:41.278Z"
   },
   {
    "duration": 93,
    "start_time": "2024-04-17T12:11:01.920Z"
   },
   {
    "duration": 207,
    "start_time": "2024-04-17T12:11:29.122Z"
   },
   {
    "duration": 83,
    "start_time": "2024-04-17T12:12:02.560Z"
   },
   {
    "duration": 445,
    "start_time": "2024-04-17T12:12:19.769Z"
   },
   {
    "duration": 441,
    "start_time": "2024-04-17T12:12:20.216Z"
   },
   {
    "duration": 219,
    "start_time": "2024-04-17T12:12:20.658Z"
   },
   {
    "duration": 3,
    "start_time": "2024-04-17T12:12:20.879Z"
   },
   {
    "duration": 14,
    "start_time": "2024-04-17T12:12:20.883Z"
   },
   {
    "duration": 7,
    "start_time": "2024-04-17T12:12:20.898Z"
   },
   {
    "duration": 12,
    "start_time": "2024-04-17T12:12:20.907Z"
   },
   {
    "duration": 125,
    "start_time": "2024-04-17T12:12:20.920Z"
   },
   {
    "duration": 28,
    "start_time": "2024-04-17T12:12:21.047Z"
   },
   {
    "duration": 30,
    "start_time": "2024-04-17T12:12:21.078Z"
   },
   {
    "duration": 15,
    "start_time": "2024-04-17T12:12:21.110Z"
   },
   {
    "duration": 12,
    "start_time": "2024-04-17T12:12:21.127Z"
   },
   {
    "duration": 16,
    "start_time": "2024-04-17T12:12:21.140Z"
   },
   {
    "duration": 23,
    "start_time": "2024-04-17T12:12:21.158Z"
   },
   {
    "duration": 24,
    "start_time": "2024-04-17T12:12:21.182Z"
   },
   {
    "duration": 46,
    "start_time": "2024-04-17T12:12:21.207Z"
   },
   {
    "duration": 21,
    "start_time": "2024-04-17T12:12:21.262Z"
   },
   {
    "duration": 17,
    "start_time": "2024-04-17T12:12:21.285Z"
   },
   {
    "duration": 18,
    "start_time": "2024-04-17T12:12:21.304Z"
   },
   {
    "duration": 6,
    "start_time": "2024-04-17T12:12:21.324Z"
   },
   {
    "duration": 48,
    "start_time": "2024-04-17T12:12:21.332Z"
   },
   {
    "duration": 41,
    "start_time": "2024-04-17T12:12:21.382Z"
   },
   {
    "duration": 17,
    "start_time": "2024-04-17T12:12:21.425Z"
   },
   {
    "duration": 281,
    "start_time": "2024-04-17T12:12:21.443Z"
   },
   {
    "duration": 406,
    "start_time": "2024-04-17T12:12:21.726Z"
   },
   {
    "duration": 379,
    "start_time": "2024-04-17T12:12:22.134Z"
   },
   {
    "duration": 5,
    "start_time": "2024-04-17T12:12:22.514Z"
   },
   {
    "duration": 39,
    "start_time": "2024-04-17T12:12:22.525Z"
   },
   {
    "duration": 31,
    "start_time": "2024-04-17T12:12:22.566Z"
   },
   {
    "duration": 44,
    "start_time": "2024-04-17T12:12:22.598Z"
   },
   {
    "duration": 41,
    "start_time": "2024-04-17T12:12:22.644Z"
   },
   {
    "duration": 16,
    "start_time": "2024-04-17T12:12:22.687Z"
   },
   {
    "duration": 28,
    "start_time": "2024-04-17T12:12:22.704Z"
   },
   {
    "duration": 13,
    "start_time": "2024-04-17T12:12:22.734Z"
   },
   {
    "duration": 21,
    "start_time": "2024-04-17T12:12:22.749Z"
   },
   {
    "duration": 7,
    "start_time": "2024-04-17T12:12:22.772Z"
   },
   {
    "duration": 10,
    "start_time": "2024-04-17T12:12:22.780Z"
   },
   {
    "duration": 26,
    "start_time": "2024-04-17T12:12:22.792Z"
   },
   {
    "duration": 32,
    "start_time": "2024-04-17T12:12:22.819Z"
   },
   {
    "duration": 139,
    "start_time": "2024-04-17T12:12:22.853Z"
   },
   {
    "duration": 127,
    "start_time": "2024-04-17T12:12:22.993Z"
   },
   {
    "duration": 11,
    "start_time": "2024-04-17T12:12:23.122Z"
   },
   {
    "duration": 15,
    "start_time": "2024-04-17T12:12:23.135Z"
   },
   {
    "duration": 9,
    "start_time": "2024-04-17T12:12:23.152Z"
   },
   {
    "duration": 216,
    "start_time": "2024-04-17T12:12:23.173Z"
   },
   {
    "duration": 262,
    "start_time": "2024-04-17T12:12:23.390Z"
   },
   {
    "duration": 230,
    "start_time": "2024-04-17T12:12:23.653Z"
   },
   {
    "duration": 239,
    "start_time": "2024-04-17T12:12:23.885Z"
   },
   {
    "duration": 226,
    "start_time": "2024-04-17T12:12:24.126Z"
   },
   {
    "duration": 33,
    "start_time": "2024-04-17T12:12:24.353Z"
   },
   {
    "duration": 13,
    "start_time": "2024-04-17T12:12:24.388Z"
   },
   {
    "duration": 29,
    "start_time": "2024-04-17T12:12:24.403Z"
   },
   {
    "duration": 30,
    "start_time": "2024-04-17T12:12:24.434Z"
   },
   {
    "duration": 266,
    "start_time": "2024-04-17T12:12:24.466Z"
   },
   {
    "duration": 283,
    "start_time": "2024-04-17T12:12:24.733Z"
   },
   {
    "duration": 4,
    "start_time": "2024-04-17T12:12:25.018Z"
   },
   {
    "duration": 52,
    "start_time": "2024-04-17T12:12:25.023Z"
   },
   {
    "duration": 30,
    "start_time": "2024-04-17T12:12:25.077Z"
   },
   {
    "duration": 242,
    "start_time": "2024-04-17T12:12:25.109Z"
   },
   {
    "duration": 8,
    "start_time": "2024-04-17T12:12:25.352Z"
   },
   {
    "duration": 54,
    "start_time": "2024-04-17T12:12:25.372Z"
   },
   {
    "duration": 356,
    "start_time": "2024-04-17T12:12:25.428Z"
   },
   {
    "duration": 392,
    "start_time": "2024-04-17T12:12:25.786Z"
   },
   {
    "duration": 6,
    "start_time": "2024-04-17T12:12:26.179Z"
   },
   {
    "duration": 12,
    "start_time": "2024-04-17T12:12:26.186Z"
   },
   {
    "duration": 15,
    "start_time": "2024-04-17T12:12:26.199Z"
   },
   {
    "duration": 35,
    "start_time": "2024-04-17T12:12:26.215Z"
   },
   {
    "duration": 13,
    "start_time": "2024-04-17T12:12:26.251Z"
   },
   {
    "duration": 7,
    "start_time": "2024-04-17T12:12:26.265Z"
   },
   {
    "duration": 7,
    "start_time": "2024-04-17T12:12:26.274Z"
   },
   {
    "duration": 1528,
    "start_time": "2024-04-17T12:12:26.283Z"
   },
   {
    "duration": 93,
    "start_time": "2024-04-17T12:12:27.812Z"
   },
   {
    "duration": 86,
    "start_time": "2024-04-17T12:12:27.906Z"
   },
   {
    "duration": 0,
    "start_time": "2024-04-17T12:12:27.993Z"
   },
   {
    "duration": 5,
    "start_time": "2024-04-17T12:13:45.575Z"
   },
   {
    "duration": 443,
    "start_time": "2024-04-17T12:14:59.862Z"
   },
   {
    "duration": 432,
    "start_time": "2024-04-17T12:15:00.307Z"
   },
   {
    "duration": 237,
    "start_time": "2024-04-17T12:15:00.741Z"
   },
   {
    "duration": 2,
    "start_time": "2024-04-17T12:15:00.981Z"
   },
   {
    "duration": 75,
    "start_time": "2024-04-17T12:15:00.985Z"
   },
   {
    "duration": 74,
    "start_time": "2024-04-17T12:15:01.062Z"
   },
   {
    "duration": 82,
    "start_time": "2024-04-17T12:15:01.139Z"
   },
   {
    "duration": 100,
    "start_time": "2024-04-17T12:15:01.222Z"
   },
   {
    "duration": 130,
    "start_time": "2024-04-17T12:15:01.324Z"
   },
   {
    "duration": 64,
    "start_time": "2024-04-17T12:15:01.455Z"
   },
   {
    "duration": 52,
    "start_time": "2024-04-17T12:15:01.521Z"
   },
   {
    "duration": 22,
    "start_time": "2024-04-17T12:15:01.577Z"
   },
   {
    "duration": 41,
    "start_time": "2024-04-17T12:15:01.601Z"
   },
   {
    "duration": 44,
    "start_time": "2024-04-17T12:15:01.644Z"
   },
   {
    "duration": 65,
    "start_time": "2024-04-17T12:15:01.690Z"
   },
   {
    "duration": 74,
    "start_time": "2024-04-17T12:15:01.756Z"
   },
   {
    "duration": 26,
    "start_time": "2024-04-17T12:15:01.831Z"
   },
   {
    "duration": 19,
    "start_time": "2024-04-17T12:15:01.859Z"
   },
   {
    "duration": 13,
    "start_time": "2024-04-17T12:15:01.880Z"
   },
   {
    "duration": 18,
    "start_time": "2024-04-17T12:15:01.894Z"
   },
   {
    "duration": 41,
    "start_time": "2024-04-17T12:15:01.914Z"
   },
   {
    "duration": 92,
    "start_time": "2024-04-17T12:15:01.957Z"
   },
   {
    "duration": 87,
    "start_time": "2024-04-17T12:15:02.050Z"
   },
   {
    "duration": 28,
    "start_time": "2024-04-17T12:15:02.139Z"
   },
   {
    "duration": 273,
    "start_time": "2024-04-17T12:15:02.169Z"
   },
   {
    "duration": 406,
    "start_time": "2024-04-17T12:15:02.445Z"
   },
   {
    "duration": 380,
    "start_time": "2024-04-17T12:15:02.853Z"
   },
   {
    "duration": 5,
    "start_time": "2024-04-17T12:15:03.235Z"
   },
   {
    "duration": 23,
    "start_time": "2024-04-17T12:15:03.242Z"
   },
   {
    "duration": 28,
    "start_time": "2024-04-17T12:15:03.267Z"
   },
   {
    "duration": 25,
    "start_time": "2024-04-17T12:15:03.297Z"
   },
   {
    "duration": 18,
    "start_time": "2024-04-17T12:15:03.324Z"
   },
   {
    "duration": 45,
    "start_time": "2024-04-17T12:15:03.343Z"
   },
   {
    "duration": 31,
    "start_time": "2024-04-17T12:15:03.390Z"
   },
   {
    "duration": 17,
    "start_time": "2024-04-17T12:15:03.423Z"
   },
   {
    "duration": 14,
    "start_time": "2024-04-17T12:15:03.446Z"
   },
   {
    "duration": 8,
    "start_time": "2024-04-17T12:15:03.462Z"
   },
   {
    "duration": 31,
    "start_time": "2024-04-17T12:15:03.471Z"
   },
   {
    "duration": 19,
    "start_time": "2024-04-17T12:15:03.504Z"
   },
   {
    "duration": 6,
    "start_time": "2024-04-17T12:15:03.524Z"
   },
   {
    "duration": 122,
    "start_time": "2024-04-17T12:15:03.531Z"
   },
   {
    "duration": 123,
    "start_time": "2024-04-17T12:15:03.655Z"
   },
   {
    "duration": 9,
    "start_time": "2024-04-17T12:15:03.780Z"
   },
   {
    "duration": 30,
    "start_time": "2024-04-17T12:15:03.791Z"
   },
   {
    "duration": 9,
    "start_time": "2024-04-17T12:15:03.823Z"
   },
   {
    "duration": 222,
    "start_time": "2024-04-17T12:15:03.833Z"
   },
   {
    "duration": 268,
    "start_time": "2024-04-17T12:15:04.057Z"
   },
   {
    "duration": 215,
    "start_time": "2024-04-17T12:15:04.327Z"
   },
   {
    "duration": 223,
    "start_time": "2024-04-17T12:15:04.543Z"
   },
   {
    "duration": 216,
    "start_time": "2024-04-17T12:15:04.773Z"
   },
   {
    "duration": 26,
    "start_time": "2024-04-17T12:15:04.990Z"
   },
   {
    "duration": 29,
    "start_time": "2024-04-17T12:15:05.018Z"
   },
   {
    "duration": 114,
    "start_time": "2024-04-17T12:15:05.049Z"
   },
   {
    "duration": 24,
    "start_time": "2024-04-17T12:15:05.164Z"
   },
   {
    "duration": 297,
    "start_time": "2024-04-17T12:15:05.190Z"
   },
   {
    "duration": 295,
    "start_time": "2024-04-17T12:15:05.489Z"
   },
   {
    "duration": 4,
    "start_time": "2024-04-17T12:15:05.786Z"
   },
   {
    "duration": 62,
    "start_time": "2024-04-17T12:15:05.791Z"
   },
   {
    "duration": 47,
    "start_time": "2024-04-17T12:15:05.854Z"
   },
   {
    "duration": 229,
    "start_time": "2024-04-17T12:15:05.903Z"
   },
   {
    "duration": 9,
    "start_time": "2024-04-17T12:15:06.134Z"
   },
   {
    "duration": 70,
    "start_time": "2024-04-17T12:15:06.145Z"
   },
   {
    "duration": 350,
    "start_time": "2024-04-17T12:15:06.217Z"
   },
   {
    "duration": 403,
    "start_time": "2024-04-17T12:15:06.573Z"
   },
   {
    "duration": 7,
    "start_time": "2024-04-17T12:15:06.978Z"
   },
   {
    "duration": 24,
    "start_time": "2024-04-17T12:15:06.987Z"
   },
   {
    "duration": 42,
    "start_time": "2024-04-17T12:15:07.013Z"
   },
   {
    "duration": 10,
    "start_time": "2024-04-17T12:15:07.057Z"
   },
   {
    "duration": 13,
    "start_time": "2024-04-17T12:15:07.069Z"
   },
   {
    "duration": 35,
    "start_time": "2024-04-17T12:15:07.084Z"
   },
   {
    "duration": 18,
    "start_time": "2024-04-17T12:15:07.121Z"
   },
   {
    "duration": 1574,
    "start_time": "2024-04-17T12:15:07.141Z"
   },
   {
    "duration": 86,
    "start_time": "2024-04-17T12:15:08.717Z"
   },
   {
    "duration": 5,
    "start_time": "2024-04-17T12:15:08.805Z"
   },
   {
    "duration": 253,
    "start_time": "2024-04-17T12:15:24.296Z"
   },
   {
    "duration": 81,
    "start_time": "2024-04-17T12:15:27.209Z"
   },
   {
    "duration": 16,
    "start_time": "2024-04-17T12:15:36.069Z"
   },
   {
    "duration": 85,
    "start_time": "2024-04-17T12:15:41.733Z"
   },
   {
    "duration": 237,
    "start_time": "2024-04-17T12:16:42.970Z"
   },
   {
    "duration": 94,
    "start_time": "2024-04-17T12:16:46.849Z"
   },
   {
    "duration": 7,
    "start_time": "2024-04-17T12:16:51.180Z"
   },
   {
    "duration": 212,
    "start_time": "2024-04-17T12:26:59.594Z"
   },
   {
    "duration": 115,
    "start_time": "2024-04-17T12:27:19.630Z"
   },
   {
    "duration": 118,
    "start_time": "2024-04-17T12:27:43.205Z"
   },
   {
    "duration": 6,
    "start_time": "2024-04-17T12:27:50.145Z"
   },
   {
    "duration": 6,
    "start_time": "2024-04-17T12:29:16.716Z"
   },
   {
    "duration": 6,
    "start_time": "2024-04-17T12:30:59.958Z"
   },
   {
    "duration": 7,
    "start_time": "2024-04-17T12:53:00.396Z"
   },
   {
    "duration": 6,
    "start_time": "2024-04-17T12:53:04.274Z"
   },
   {
    "duration": 6,
    "start_time": "2024-04-17T12:55:36.387Z"
   },
   {
    "duration": 140,
    "start_time": "2024-04-17T12:56:20.482Z"
   },
   {
    "duration": 83,
    "start_time": "2024-04-17T12:56:42.256Z"
   },
   {
    "duration": 464,
    "start_time": "2024-04-17T12:56:57.451Z"
   },
   {
    "duration": 488,
    "start_time": "2024-04-17T12:56:57.916Z"
   },
   {
    "duration": 215,
    "start_time": "2024-04-17T12:56:58.406Z"
   },
   {
    "duration": 2,
    "start_time": "2024-04-17T12:56:58.623Z"
   },
   {
    "duration": 7,
    "start_time": "2024-04-17T12:56:58.627Z"
   },
   {
    "duration": 20,
    "start_time": "2024-04-17T12:56:58.635Z"
   },
   {
    "duration": 32,
    "start_time": "2024-04-17T12:56:58.657Z"
   },
   {
    "duration": 22,
    "start_time": "2024-04-17T12:56:58.690Z"
   },
   {
    "duration": 125,
    "start_time": "2024-04-17T12:56:58.714Z"
   },
   {
    "duration": 29,
    "start_time": "2024-04-17T12:56:58.842Z"
   },
   {
    "duration": 30,
    "start_time": "2024-04-17T12:56:58.874Z"
   },
   {
    "duration": 15,
    "start_time": "2024-04-17T12:56:58.905Z"
   },
   {
    "duration": 12,
    "start_time": "2024-04-17T12:56:58.922Z"
   },
   {
    "duration": 9,
    "start_time": "2024-04-17T12:56:58.936Z"
   },
   {
    "duration": 10,
    "start_time": "2024-04-17T12:56:58.947Z"
   },
   {
    "duration": 20,
    "start_time": "2024-04-17T12:56:58.959Z"
   },
   {
    "duration": 11,
    "start_time": "2024-04-17T12:56:58.981Z"
   },
   {
    "duration": 10,
    "start_time": "2024-04-17T12:56:58.994Z"
   },
   {
    "duration": 10,
    "start_time": "2024-04-17T12:56:59.005Z"
   },
   {
    "duration": 13,
    "start_time": "2024-04-17T12:56:59.017Z"
   },
   {
    "duration": 10,
    "start_time": "2024-04-17T12:56:59.031Z"
   },
   {
    "duration": 38,
    "start_time": "2024-04-17T12:56:59.042Z"
   },
   {
    "duration": 22,
    "start_time": "2024-04-17T12:56:59.082Z"
   },
   {
    "duration": 20,
    "start_time": "2024-04-17T12:56:59.107Z"
   },
   {
    "duration": 288,
    "start_time": "2024-04-17T12:56:59.129Z"
   },
   {
    "duration": 388,
    "start_time": "2024-04-17T12:56:59.418Z"
   },
   {
    "duration": 379,
    "start_time": "2024-04-17T12:56:59.807Z"
   },
   {
    "duration": 4,
    "start_time": "2024-04-17T12:57:00.190Z"
   },
   {
    "duration": 51,
    "start_time": "2024-04-17T12:57:00.195Z"
   },
   {
    "duration": 112,
    "start_time": "2024-04-17T12:57:00.248Z"
   },
   {
    "duration": 72,
    "start_time": "2024-04-17T12:57:00.362Z"
   },
   {
    "duration": 243,
    "start_time": "2024-04-17T12:57:00.436Z"
   },
   {
    "duration": 278,
    "start_time": "2024-04-17T12:57:00.681Z"
   },
   {
    "duration": 308,
    "start_time": "2024-04-17T12:57:00.960Z"
   },
   {
    "duration": 111,
    "start_time": "2024-04-17T12:57:01.269Z"
   },
   {
    "duration": 151,
    "start_time": "2024-04-17T12:57:01.381Z"
   },
   {
    "duration": 53,
    "start_time": "2024-04-17T12:57:01.533Z"
   },
   {
    "duration": 86,
    "start_time": "2024-04-17T12:57:01.588Z"
   },
   {
    "duration": 135,
    "start_time": "2024-04-17T12:57:01.676Z"
   },
   {
    "duration": 51,
    "start_time": "2024-04-17T12:57:01.812Z"
   },
   {
    "duration": 171,
    "start_time": "2024-04-17T12:57:01.864Z"
   },
   {
    "duration": 137,
    "start_time": "2024-04-17T12:57:02.036Z"
   },
   {
    "duration": 9,
    "start_time": "2024-04-17T12:57:02.175Z"
   },
   {
    "duration": 77,
    "start_time": "2024-04-17T12:57:02.185Z"
   },
   {
    "duration": 42,
    "start_time": "2024-04-17T12:57:02.264Z"
   },
   {
    "duration": 266,
    "start_time": "2024-04-17T12:57:02.308Z"
   },
   {
    "duration": 244,
    "start_time": "2024-04-17T12:57:02.576Z"
   },
   {
    "duration": 208,
    "start_time": "2024-04-17T12:57:02.822Z"
   },
   {
    "duration": 227,
    "start_time": "2024-04-17T12:57:03.032Z"
   },
   {
    "duration": 245,
    "start_time": "2024-04-17T12:57:03.261Z"
   },
   {
    "duration": 28,
    "start_time": "2024-04-17T12:57:03.508Z"
   },
   {
    "duration": 35,
    "start_time": "2024-04-17T12:57:03.538Z"
   },
   {
    "duration": 33,
    "start_time": "2024-04-17T12:57:03.575Z"
   },
   {
    "duration": 14,
    "start_time": "2024-04-17T12:57:03.610Z"
   },
   {
    "duration": 283,
    "start_time": "2024-04-17T12:57:03.626Z"
   },
   {
    "duration": 308,
    "start_time": "2024-04-17T12:57:03.911Z"
   },
   {
    "duration": 4,
    "start_time": "2024-04-17T12:57:04.221Z"
   },
   {
    "duration": 72,
    "start_time": "2024-04-17T12:57:04.227Z"
   },
   {
    "duration": 29,
    "start_time": "2024-04-17T12:57:04.301Z"
   },
   {
    "duration": 234,
    "start_time": "2024-04-17T12:57:04.332Z"
   },
   {
    "duration": 10,
    "start_time": "2024-04-17T12:57:04.568Z"
   },
   {
    "duration": 75,
    "start_time": "2024-04-17T12:57:04.580Z"
   },
   {
    "duration": 353,
    "start_time": "2024-04-17T12:57:04.656Z"
   },
   {
    "duration": 384,
    "start_time": "2024-04-17T12:57:05.011Z"
   },
   {
    "duration": 6,
    "start_time": "2024-04-17T12:57:05.397Z"
   },
   {
    "duration": 31,
    "start_time": "2024-04-17T12:57:05.405Z"
   },
   {
    "duration": 14,
    "start_time": "2024-04-17T12:57:05.438Z"
   },
   {
    "duration": 24,
    "start_time": "2024-04-17T12:57:05.454Z"
   },
   {
    "duration": 26,
    "start_time": "2024-04-17T12:57:05.480Z"
   },
   {
    "duration": 33,
    "start_time": "2024-04-17T12:57:05.508Z"
   },
   {
    "duration": 19,
    "start_time": "2024-04-17T12:57:05.543Z"
   },
   {
    "duration": 205,
    "start_time": "2024-04-17T12:57:05.564Z"
   },
   {
    "duration": 0,
    "start_time": "2024-04-17T12:57:05.771Z"
   },
   {
    "duration": 4,
    "start_time": "2024-04-17T13:01:07.926Z"
   },
   {
    "duration": 107,
    "start_time": "2024-04-17T13:01:19.520Z"
   },
   {
    "duration": 9,
    "start_time": "2024-04-17T13:01:30.290Z"
   },
   {
    "duration": 9,
    "start_time": "2024-04-17T13:01:39.753Z"
   },
   {
    "duration": 438,
    "start_time": "2024-04-17T13:02:03.225Z"
   },
   {
    "duration": 492,
    "start_time": "2024-04-17T13:02:03.666Z"
   },
   {
    "duration": 250,
    "start_time": "2024-04-17T13:02:04.160Z"
   },
   {
    "duration": 3,
    "start_time": "2024-04-17T13:02:04.412Z"
   },
   {
    "duration": 29,
    "start_time": "2024-04-17T13:02:04.416Z"
   },
   {
    "duration": 24,
    "start_time": "2024-04-17T13:02:04.447Z"
   },
   {
    "duration": 6,
    "start_time": "2024-04-17T13:02:04.473Z"
   },
   {
    "duration": 12,
    "start_time": "2024-04-17T13:02:04.481Z"
   },
   {
    "duration": 116,
    "start_time": "2024-04-17T13:02:04.495Z"
   },
   {
    "duration": 29,
    "start_time": "2024-04-17T13:02:04.614Z"
   },
   {
    "duration": 30,
    "start_time": "2024-04-17T13:02:04.645Z"
   },
   {
    "duration": 16,
    "start_time": "2024-04-17T13:02:04.676Z"
   },
   {
    "duration": 60,
    "start_time": "2024-04-17T13:02:04.693Z"
   },
   {
    "duration": 57,
    "start_time": "2024-04-17T13:02:04.755Z"
   },
   {
    "duration": 30,
    "start_time": "2024-04-17T13:02:04.813Z"
   },
   {
    "duration": 32,
    "start_time": "2024-04-17T13:02:04.844Z"
   },
   {
    "duration": 29,
    "start_time": "2024-04-17T13:02:04.878Z"
   },
   {
    "duration": 9,
    "start_time": "2024-04-17T13:02:04.909Z"
   },
   {
    "duration": 21,
    "start_time": "2024-04-17T13:02:04.920Z"
   },
   {
    "duration": 36,
    "start_time": "2024-04-17T13:02:04.943Z"
   },
   {
    "duration": 13,
    "start_time": "2024-04-17T13:02:04.980Z"
   },
   {
    "duration": 22,
    "start_time": "2024-04-17T13:02:04.994Z"
   },
   {
    "duration": 26,
    "start_time": "2024-04-17T13:02:05.017Z"
   },
   {
    "duration": 38,
    "start_time": "2024-04-17T13:02:05.045Z"
   },
   {
    "duration": 266,
    "start_time": "2024-04-17T13:02:05.085Z"
   },
   {
    "duration": 424,
    "start_time": "2024-04-17T13:02:05.353Z"
   },
   {
    "duration": 397,
    "start_time": "2024-04-17T13:02:05.778Z"
   },
   {
    "duration": 5,
    "start_time": "2024-04-17T13:02:06.180Z"
   },
   {
    "duration": 36,
    "start_time": "2024-04-17T13:02:06.186Z"
   },
   {
    "duration": 17,
    "start_time": "2024-04-17T13:02:06.224Z"
   },
   {
    "duration": 32,
    "start_time": "2024-04-17T13:02:06.242Z"
   },
   {
    "duration": 16,
    "start_time": "2024-04-17T13:02:06.275Z"
   },
   {
    "duration": 17,
    "start_time": "2024-04-17T13:02:06.292Z"
   },
   {
    "duration": 31,
    "start_time": "2024-04-17T13:02:06.310Z"
   },
   {
    "duration": 15,
    "start_time": "2024-04-17T13:02:06.343Z"
   },
   {
    "duration": 12,
    "start_time": "2024-04-17T13:02:06.360Z"
   },
   {
    "duration": 5,
    "start_time": "2024-04-17T13:02:06.374Z"
   },
   {
    "duration": 11,
    "start_time": "2024-04-17T13:02:06.381Z"
   },
   {
    "duration": 8,
    "start_time": "2024-04-17T13:02:06.394Z"
   },
   {
    "duration": 15,
    "start_time": "2024-04-17T13:02:06.403Z"
   },
   {
    "duration": 127,
    "start_time": "2024-04-17T13:02:06.419Z"
   },
   {
    "duration": 127,
    "start_time": "2024-04-17T13:02:06.547Z"
   },
   {
    "duration": 10,
    "start_time": "2024-04-17T13:02:06.676Z"
   },
   {
    "duration": 22,
    "start_time": "2024-04-17T13:02:06.688Z"
   },
   {
    "duration": 72,
    "start_time": "2024-04-17T13:02:06.712Z"
   },
   {
    "duration": 238,
    "start_time": "2024-04-17T13:02:06.785Z"
   },
   {
    "duration": 289,
    "start_time": "2024-04-17T13:02:07.026Z"
   },
   {
    "duration": 212,
    "start_time": "2024-04-17T13:02:07.317Z"
   },
   {
    "duration": 223,
    "start_time": "2024-04-17T13:02:07.531Z"
   },
   {
    "duration": 226,
    "start_time": "2024-04-17T13:02:07.756Z"
   },
   {
    "duration": 28,
    "start_time": "2024-04-17T13:02:07.984Z"
   },
   {
    "duration": 31,
    "start_time": "2024-04-17T13:02:08.014Z"
   },
   {
    "duration": 39,
    "start_time": "2024-04-17T13:02:08.046Z"
   },
   {
    "duration": 14,
    "start_time": "2024-04-17T13:02:08.087Z"
   },
   {
    "duration": 299,
    "start_time": "2024-04-17T13:02:08.103Z"
   },
   {
    "duration": 304,
    "start_time": "2024-04-17T13:02:08.404Z"
   },
   {
    "duration": 3,
    "start_time": "2024-04-17T13:02:08.710Z"
   },
   {
    "duration": 64,
    "start_time": "2024-04-17T13:02:08.715Z"
   },
   {
    "duration": 28,
    "start_time": "2024-04-17T13:02:08.781Z"
   },
   {
    "duration": 238,
    "start_time": "2024-04-17T13:02:08.811Z"
   },
   {
    "duration": 7,
    "start_time": "2024-04-17T13:02:09.051Z"
   },
   {
    "duration": 64,
    "start_time": "2024-04-17T13:02:09.060Z"
   },
   {
    "duration": 353,
    "start_time": "2024-04-17T13:02:09.126Z"
   },
   {
    "duration": 377,
    "start_time": "2024-04-17T13:02:09.480Z"
   },
   {
    "duration": 14,
    "start_time": "2024-04-17T13:02:09.859Z"
   },
   {
    "duration": 6,
    "start_time": "2024-04-17T13:02:09.875Z"
   },
   {
    "duration": 5,
    "start_time": "2024-04-17T13:02:09.883Z"
   },
   {
    "duration": 24,
    "start_time": "2024-04-17T13:02:09.889Z"
   },
   {
    "duration": 13,
    "start_time": "2024-04-17T13:02:09.915Z"
   },
   {
    "duration": 7,
    "start_time": "2024-04-17T13:02:09.930Z"
   },
   {
    "duration": 5,
    "start_time": "2024-04-17T13:02:09.938Z"
   },
   {
    "duration": 123,
    "start_time": "2024-04-17T13:02:09.944Z"
   },
   {
    "duration": 0,
    "start_time": "2024-04-17T13:02:10.072Z"
   },
   {
    "duration": 5,
    "start_time": "2024-04-17T13:05:39.701Z"
   },
   {
    "duration": 88,
    "start_time": "2024-04-17T13:06:42.351Z"
   },
   {
    "duration": 5,
    "start_time": "2024-04-17T13:06:52.317Z"
   },
   {
    "duration": 4,
    "start_time": "2024-04-17T13:07:18.935Z"
   },
   {
    "duration": 5,
    "start_time": "2024-04-17T13:31:17.099Z"
   },
   {
    "duration": 473,
    "start_time": "2024-04-17T13:32:17.440Z"
   },
   {
    "duration": 447,
    "start_time": "2024-04-17T13:32:17.915Z"
   },
   {
    "duration": 221,
    "start_time": "2024-04-17T13:32:18.364Z"
   },
   {
    "duration": 3,
    "start_time": "2024-04-17T13:32:18.587Z"
   },
   {
    "duration": 17,
    "start_time": "2024-04-17T13:32:18.592Z"
   },
   {
    "duration": 8,
    "start_time": "2024-04-17T13:32:18.610Z"
   },
   {
    "duration": 7,
    "start_time": "2024-04-17T13:32:18.619Z"
   },
   {
    "duration": 8,
    "start_time": "2024-04-17T13:32:18.628Z"
   },
   {
    "duration": 114,
    "start_time": "2024-04-17T13:32:18.638Z"
   },
   {
    "duration": 30,
    "start_time": "2024-04-17T13:32:18.755Z"
   },
   {
    "duration": 32,
    "start_time": "2024-04-17T13:32:18.786Z"
   },
   {
    "duration": 16,
    "start_time": "2024-04-17T13:32:18.820Z"
   },
   {
    "duration": 13,
    "start_time": "2024-04-17T13:32:18.839Z"
   },
   {
    "duration": 16,
    "start_time": "2024-04-17T13:32:18.853Z"
   },
   {
    "duration": 19,
    "start_time": "2024-04-17T13:32:18.870Z"
   },
   {
    "duration": 15,
    "start_time": "2024-04-17T13:32:18.891Z"
   },
   {
    "duration": 20,
    "start_time": "2024-04-17T13:32:18.907Z"
   },
   {
    "duration": 11,
    "start_time": "2024-04-17T13:32:18.928Z"
   },
   {
    "duration": 23,
    "start_time": "2024-04-17T13:32:18.940Z"
   },
   {
    "duration": 13,
    "start_time": "2024-04-17T13:32:18.965Z"
   },
   {
    "duration": 15,
    "start_time": "2024-04-17T13:32:18.979Z"
   },
   {
    "duration": 37,
    "start_time": "2024-04-17T13:32:18.995Z"
   },
   {
    "duration": 28,
    "start_time": "2024-04-17T13:32:19.034Z"
   },
   {
    "duration": 17,
    "start_time": "2024-04-17T13:32:19.064Z"
   },
   {
    "duration": 271,
    "start_time": "2024-04-17T13:32:19.082Z"
   },
   {
    "duration": 398,
    "start_time": "2024-04-17T13:32:19.355Z"
   },
   {
    "duration": 398,
    "start_time": "2024-04-17T13:32:19.754Z"
   },
   {
    "duration": 15,
    "start_time": "2024-04-17T13:32:20.159Z"
   },
   {
    "duration": 29,
    "start_time": "2024-04-17T13:32:20.176Z"
   },
   {
    "duration": 14,
    "start_time": "2024-04-17T13:32:20.207Z"
   },
   {
    "duration": 12,
    "start_time": "2024-04-17T13:32:20.223Z"
   },
   {
    "duration": 6,
    "start_time": "2024-04-17T13:32:20.236Z"
   },
   {
    "duration": 9,
    "start_time": "2024-04-17T13:32:20.244Z"
   },
   {
    "duration": 17,
    "start_time": "2024-04-17T13:32:20.254Z"
   },
   {
    "duration": 11,
    "start_time": "2024-04-17T13:32:20.272Z"
   },
   {
    "duration": 12,
    "start_time": "2024-04-17T13:32:20.285Z"
   },
   {
    "duration": 7,
    "start_time": "2024-04-17T13:32:20.299Z"
   },
   {
    "duration": 26,
    "start_time": "2024-04-17T13:32:20.307Z"
   },
   {
    "duration": 9,
    "start_time": "2024-04-17T13:32:20.335Z"
   },
   {
    "duration": 13,
    "start_time": "2024-04-17T13:32:20.346Z"
   },
   {
    "duration": 131,
    "start_time": "2024-04-17T13:32:20.361Z"
   },
   {
    "duration": 138,
    "start_time": "2024-04-17T13:32:20.494Z"
   },
   {
    "duration": 9,
    "start_time": "2024-04-17T13:32:20.634Z"
   },
   {
    "duration": 28,
    "start_time": "2024-04-17T13:32:20.644Z"
   },
   {
    "duration": 36,
    "start_time": "2024-04-17T13:32:20.674Z"
   },
   {
    "duration": 211,
    "start_time": "2024-04-17T13:32:20.712Z"
   },
   {
    "duration": 256,
    "start_time": "2024-04-17T13:32:20.925Z"
   },
   {
    "duration": 211,
    "start_time": "2024-04-17T13:32:21.183Z"
   },
   {
    "duration": 237,
    "start_time": "2024-04-17T13:32:21.396Z"
   },
   {
    "duration": 243,
    "start_time": "2024-04-17T13:32:21.635Z"
   },
   {
    "duration": 27,
    "start_time": "2024-04-17T13:32:21.880Z"
   },
   {
    "duration": 96,
    "start_time": "2024-04-17T13:32:21.909Z"
   },
   {
    "duration": 30,
    "start_time": "2024-04-17T13:32:22.006Z"
   },
   {
    "duration": 20,
    "start_time": "2024-04-17T13:32:22.037Z"
   },
   {
    "duration": 325,
    "start_time": "2024-04-17T13:32:22.059Z"
   },
   {
    "duration": 291,
    "start_time": "2024-04-17T13:32:22.386Z"
   },
   {
    "duration": 3,
    "start_time": "2024-04-17T13:32:22.679Z"
   },
   {
    "duration": 57,
    "start_time": "2024-04-17T13:32:22.683Z"
   },
   {
    "duration": 31,
    "start_time": "2024-04-17T13:32:22.742Z"
   },
   {
    "duration": 229,
    "start_time": "2024-04-17T13:32:22.774Z"
   },
   {
    "duration": 7,
    "start_time": "2024-04-17T13:32:23.005Z"
   },
   {
    "duration": 65,
    "start_time": "2024-04-17T13:32:23.014Z"
   },
   {
    "duration": 380,
    "start_time": "2024-04-17T13:32:23.081Z"
   },
   {
    "duration": 394,
    "start_time": "2024-04-17T13:32:23.463Z"
   },
   {
    "duration": 6,
    "start_time": "2024-04-17T13:32:23.858Z"
   },
   {
    "duration": 6,
    "start_time": "2024-04-17T13:32:23.873Z"
   },
   {
    "duration": 9,
    "start_time": "2024-04-17T13:32:23.881Z"
   },
   {
    "duration": 55,
    "start_time": "2024-04-17T13:32:23.892Z"
   },
   {
    "duration": 29,
    "start_time": "2024-04-17T13:32:23.948Z"
   },
   {
    "duration": 13,
    "start_time": "2024-04-17T13:32:23.978Z"
   },
   {
    "duration": 5,
    "start_time": "2024-04-17T13:32:23.993Z"
   },
   {
    "duration": 7,
    "start_time": "2024-04-17T13:32:24.000Z"
   },
   {
    "duration": 80,
    "start_time": "2024-04-17T13:32:24.009Z"
   },
   {
    "duration": 0,
    "start_time": "2024-04-17T13:32:24.091Z"
   },
   {
    "duration": 4,
    "start_time": "2024-04-17T13:47:21.561Z"
   },
   {
    "duration": 5,
    "start_time": "2024-04-17T13:48:18.704Z"
   },
   {
    "duration": 4,
    "start_time": "2024-04-17T13:53:51.745Z"
   },
   {
    "duration": 84,
    "start_time": "2024-04-17T13:53:58.250Z"
   },
   {
    "duration": 4,
    "start_time": "2024-04-17T13:54:43.736Z"
   },
   {
    "duration": 6,
    "start_time": "2024-04-17T13:54:54.081Z"
   },
   {
    "duration": 4,
    "start_time": "2024-04-17T13:55:17.135Z"
   },
   {
    "duration": 4,
    "start_time": "2024-04-17T13:55:51.529Z"
   },
   {
    "duration": 4,
    "start_time": "2024-04-17T13:59:32.309Z"
   },
   {
    "duration": 505,
    "start_time": "2024-04-17T14:05:16.545Z"
   },
   {
    "duration": 487,
    "start_time": "2024-04-17T14:05:17.052Z"
   },
   {
    "duration": 221,
    "start_time": "2024-04-17T14:05:17.540Z"
   },
   {
    "duration": 3,
    "start_time": "2024-04-17T14:05:17.763Z"
   },
   {
    "duration": 7,
    "start_time": "2024-04-17T14:05:17.768Z"
   },
   {
    "duration": 14,
    "start_time": "2024-04-17T14:05:17.777Z"
   },
   {
    "duration": 10,
    "start_time": "2024-04-17T14:05:17.793Z"
   },
   {
    "duration": 12,
    "start_time": "2024-04-17T14:05:17.805Z"
   },
   {
    "duration": 127,
    "start_time": "2024-04-17T14:05:17.819Z"
   },
   {
    "duration": 29,
    "start_time": "2024-04-17T14:05:17.949Z"
   },
   {
    "duration": 29,
    "start_time": "2024-04-17T14:05:17.980Z"
   },
   {
    "duration": 15,
    "start_time": "2024-04-17T14:05:18.011Z"
   },
   {
    "duration": 13,
    "start_time": "2024-04-17T14:05:18.028Z"
   },
   {
    "duration": 10,
    "start_time": "2024-04-17T14:05:18.043Z"
   },
   {
    "duration": 31,
    "start_time": "2024-04-17T14:05:18.054Z"
   },
   {
    "duration": 14,
    "start_time": "2024-04-17T14:05:18.086Z"
   },
   {
    "duration": 24,
    "start_time": "2024-04-17T14:05:18.101Z"
   },
   {
    "duration": 12,
    "start_time": "2024-04-17T14:05:18.127Z"
   },
   {
    "duration": 8,
    "start_time": "2024-04-17T14:05:18.141Z"
   },
   {
    "duration": 26,
    "start_time": "2024-04-17T14:05:18.150Z"
   },
   {
    "duration": 5,
    "start_time": "2024-04-17T14:05:18.178Z"
   },
   {
    "duration": 29,
    "start_time": "2024-04-17T14:05:18.185Z"
   },
   {
    "duration": 24,
    "start_time": "2024-04-17T14:05:18.215Z"
   },
   {
    "duration": 15,
    "start_time": "2024-04-17T14:05:18.241Z"
   },
   {
    "duration": 272,
    "start_time": "2024-04-17T14:05:18.258Z"
   },
   {
    "duration": 401,
    "start_time": "2024-04-17T14:05:18.532Z"
   },
   {
    "duration": 388,
    "start_time": "2024-04-17T14:05:18.935Z"
   },
   {
    "duration": 5,
    "start_time": "2024-04-17T14:05:19.327Z"
   },
   {
    "duration": 41,
    "start_time": "2024-04-17T14:05:19.333Z"
   },
   {
    "duration": 16,
    "start_time": "2024-04-17T14:05:19.376Z"
   },
   {
    "duration": 17,
    "start_time": "2024-04-17T14:05:19.394Z"
   },
   {
    "duration": 6,
    "start_time": "2024-04-17T14:05:19.413Z"
   },
   {
    "duration": 30,
    "start_time": "2024-04-17T14:05:19.421Z"
   },
   {
    "duration": 29,
    "start_time": "2024-04-17T14:05:19.453Z"
   },
   {
    "duration": 27,
    "start_time": "2024-04-17T14:05:19.483Z"
   },
   {
    "duration": 28,
    "start_time": "2024-04-17T14:05:19.512Z"
   },
   {
    "duration": 18,
    "start_time": "2024-04-17T14:05:19.542Z"
   },
   {
    "duration": 27,
    "start_time": "2024-04-17T14:05:19.561Z"
   },
   {
    "duration": 20,
    "start_time": "2024-04-17T14:05:19.589Z"
   },
   {
    "duration": 42,
    "start_time": "2024-04-17T14:05:19.610Z"
   },
   {
    "duration": 149,
    "start_time": "2024-04-17T14:05:19.654Z"
   },
   {
    "duration": 117,
    "start_time": "2024-04-17T14:05:19.805Z"
   },
   {
    "duration": 9,
    "start_time": "2024-04-17T14:05:19.924Z"
   },
   {
    "duration": 40,
    "start_time": "2024-04-17T14:05:19.934Z"
   },
   {
    "duration": 27,
    "start_time": "2024-04-17T14:05:19.976Z"
   },
   {
    "duration": 219,
    "start_time": "2024-04-17T14:05:20.005Z"
   },
   {
    "duration": 262,
    "start_time": "2024-04-17T14:05:20.226Z"
   },
   {
    "duration": 226,
    "start_time": "2024-04-17T14:05:20.490Z"
   },
   {
    "duration": 228,
    "start_time": "2024-04-17T14:05:20.717Z"
   },
   {
    "duration": 231,
    "start_time": "2024-04-17T14:05:20.947Z"
   },
   {
    "duration": 27,
    "start_time": "2024-04-17T14:05:21.179Z"
   },
   {
    "duration": 14,
    "start_time": "2024-04-17T14:05:21.207Z"
   },
   {
    "duration": 31,
    "start_time": "2024-04-17T14:05:21.223Z"
   },
   {
    "duration": 37,
    "start_time": "2024-04-17T14:05:21.256Z"
   },
   {
    "duration": 292,
    "start_time": "2024-04-17T14:05:21.294Z"
   },
   {
    "duration": 293,
    "start_time": "2024-04-17T14:05:21.588Z"
   },
   {
    "duration": 4,
    "start_time": "2024-04-17T14:05:21.883Z"
   },
   {
    "duration": 83,
    "start_time": "2024-04-17T14:05:21.889Z"
   },
   {
    "duration": 41,
    "start_time": "2024-04-17T14:05:21.974Z"
   },
   {
    "duration": 239,
    "start_time": "2024-04-17T14:05:22.017Z"
   },
   {
    "duration": 15,
    "start_time": "2024-04-17T14:05:22.258Z"
   },
   {
    "duration": 55,
    "start_time": "2024-04-17T14:05:22.274Z"
   },
   {
    "duration": 360,
    "start_time": "2024-04-17T14:05:22.330Z"
   },
   {
    "duration": 375,
    "start_time": "2024-04-17T14:05:22.692Z"
   },
   {
    "duration": 6,
    "start_time": "2024-04-17T14:05:23.074Z"
   },
   {
    "duration": 7,
    "start_time": "2024-04-17T14:05:23.082Z"
   },
   {
    "duration": 14,
    "start_time": "2024-04-17T14:05:23.091Z"
   },
   {
    "duration": 7,
    "start_time": "2024-04-17T14:05:23.107Z"
   },
   {
    "duration": 21,
    "start_time": "2024-04-17T14:05:23.115Z"
   },
   {
    "duration": 10,
    "start_time": "2024-04-17T14:05:23.138Z"
   },
   {
    "duration": 4,
    "start_time": "2024-04-17T14:05:23.150Z"
   },
   {
    "duration": 7,
    "start_time": "2024-04-17T14:05:23.155Z"
   },
   {
    "duration": 12,
    "start_time": "2024-04-17T14:05:23.164Z"
   },
   {
    "duration": 424,
    "start_time": "2024-04-17T14:40:42.995Z"
   },
   {
    "duration": 516,
    "start_time": "2024-04-17T14:40:43.421Z"
   },
   {
    "duration": 231,
    "start_time": "2024-04-17T14:40:43.939Z"
   },
   {
    "duration": 3,
    "start_time": "2024-04-17T14:40:44.172Z"
   },
   {
    "duration": 9,
    "start_time": "2024-04-17T14:40:44.176Z"
   },
   {
    "duration": 5,
    "start_time": "2024-04-17T14:40:44.187Z"
   },
   {
    "duration": 8,
    "start_time": "2024-04-17T14:40:44.193Z"
   },
   {
    "duration": 12,
    "start_time": "2024-04-17T14:40:44.203Z"
   },
   {
    "duration": 138,
    "start_time": "2024-04-17T14:40:44.216Z"
   },
   {
    "duration": 29,
    "start_time": "2024-04-17T14:40:44.356Z"
   },
   {
    "duration": 30,
    "start_time": "2024-04-17T14:40:44.387Z"
   },
   {
    "duration": 15,
    "start_time": "2024-04-17T14:40:44.419Z"
   },
   {
    "duration": 12,
    "start_time": "2024-04-17T14:40:44.436Z"
   },
   {
    "duration": 11,
    "start_time": "2024-04-17T14:40:44.449Z"
   },
   {
    "duration": 8,
    "start_time": "2024-04-17T14:40:44.461Z"
   },
   {
    "duration": 22,
    "start_time": "2024-04-17T14:40:44.471Z"
   },
   {
    "duration": 15,
    "start_time": "2024-04-17T14:40:44.495Z"
   },
   {
    "duration": 10,
    "start_time": "2024-04-17T14:40:44.511Z"
   },
   {
    "duration": 9,
    "start_time": "2024-04-17T14:40:44.523Z"
   },
   {
    "duration": 14,
    "start_time": "2024-04-17T14:40:44.533Z"
   },
   {
    "duration": 5,
    "start_time": "2024-04-17T14:40:44.548Z"
   },
   {
    "duration": 34,
    "start_time": "2024-04-17T14:40:44.555Z"
   },
   {
    "duration": 19,
    "start_time": "2024-04-17T14:40:44.590Z"
   },
   {
    "duration": 15,
    "start_time": "2024-04-17T14:40:44.611Z"
   },
   {
    "duration": 285,
    "start_time": "2024-04-17T14:40:44.628Z"
   },
   {
    "duration": 398,
    "start_time": "2024-04-17T14:40:44.915Z"
   },
   {
    "duration": 377,
    "start_time": "2024-04-17T14:40:45.315Z"
   },
   {
    "duration": 4,
    "start_time": "2024-04-17T14:40:45.698Z"
   },
   {
    "duration": 43,
    "start_time": "2024-04-17T14:40:45.704Z"
   },
   {
    "duration": 7,
    "start_time": "2024-04-17T14:40:45.749Z"
   },
   {
    "duration": 48,
    "start_time": "2024-04-17T14:40:45.757Z"
   },
   {
    "duration": 22,
    "start_time": "2024-04-17T14:40:45.807Z"
   },
   {
    "duration": 29,
    "start_time": "2024-04-17T14:40:45.831Z"
   },
   {
    "duration": 8,
    "start_time": "2024-04-17T14:40:45.861Z"
   },
   {
    "duration": 17,
    "start_time": "2024-04-17T14:40:45.871Z"
   },
   {
    "duration": 20,
    "start_time": "2024-04-17T14:40:45.890Z"
   },
   {
    "duration": 22,
    "start_time": "2024-04-17T14:40:45.912Z"
   },
   {
    "duration": 15,
    "start_time": "2024-04-17T14:40:45.936Z"
   },
   {
    "duration": 58,
    "start_time": "2024-04-17T14:40:45.953Z"
   },
   {
    "duration": 32,
    "start_time": "2024-04-17T14:40:46.012Z"
   },
   {
    "duration": 145,
    "start_time": "2024-04-17T14:40:46.046Z"
   },
   {
    "duration": 127,
    "start_time": "2024-04-17T14:40:46.192Z"
   },
   {
    "duration": 13,
    "start_time": "2024-04-17T14:40:46.321Z"
   },
   {
    "duration": 28,
    "start_time": "2024-04-17T14:40:46.336Z"
   },
   {
    "duration": 11,
    "start_time": "2024-04-17T14:40:46.366Z"
   },
   {
    "duration": 236,
    "start_time": "2024-04-17T14:40:46.379Z"
   },
   {
    "duration": 248,
    "start_time": "2024-04-17T14:40:46.617Z"
   },
   {
    "duration": 214,
    "start_time": "2024-04-17T14:40:46.866Z"
   },
   {
    "duration": 220,
    "start_time": "2024-04-17T14:40:47.081Z"
   },
   {
    "duration": 237,
    "start_time": "2024-04-17T14:40:47.303Z"
   },
   {
    "duration": 39,
    "start_time": "2024-04-17T14:40:47.542Z"
   },
   {
    "duration": 14,
    "start_time": "2024-04-17T14:40:47.583Z"
   },
   {
    "duration": 24,
    "start_time": "2024-04-17T14:40:47.599Z"
   },
   {
    "duration": 15,
    "start_time": "2024-04-17T14:40:47.624Z"
   },
   {
    "duration": 306,
    "start_time": "2024-04-17T14:40:47.641Z"
   },
   {
    "duration": 296,
    "start_time": "2024-04-17T14:40:47.949Z"
   },
   {
    "duration": 4,
    "start_time": "2024-04-17T14:40:48.247Z"
   },
   {
    "duration": 56,
    "start_time": "2024-04-17T14:40:48.252Z"
   },
   {
    "duration": 33,
    "start_time": "2024-04-17T14:40:48.309Z"
   },
   {
    "duration": 238,
    "start_time": "2024-04-17T14:40:48.343Z"
   },
   {
    "duration": 8,
    "start_time": "2024-04-17T14:40:48.583Z"
   },
   {
    "duration": 79,
    "start_time": "2024-04-17T14:40:48.593Z"
   },
   {
    "duration": 359,
    "start_time": "2024-04-17T14:40:48.674Z"
   },
   {
    "duration": 425,
    "start_time": "2024-04-17T14:40:49.034Z"
   },
   {
    "duration": 16,
    "start_time": "2024-04-17T14:40:49.460Z"
   },
   {
    "duration": 38,
    "start_time": "2024-04-17T14:40:49.478Z"
   },
   {
    "duration": 8,
    "start_time": "2024-04-17T14:40:49.518Z"
   },
   {
    "duration": 8,
    "start_time": "2024-04-17T14:40:49.528Z"
   },
   {
    "duration": 21,
    "start_time": "2024-04-17T14:40:49.538Z"
   },
   {
    "duration": 25,
    "start_time": "2024-04-17T14:40:49.561Z"
   },
   {
    "duration": 25,
    "start_time": "2024-04-17T14:40:49.588Z"
   },
   {
    "duration": 13,
    "start_time": "2024-04-17T14:40:49.614Z"
   },
   {
    "duration": 14,
    "start_time": "2024-04-17T14:40:49.629Z"
   },
   {
    "duration": 480,
    "start_time": "2024-04-17T15:36:16.851Z"
   },
   {
    "duration": 457,
    "start_time": "2024-04-17T15:36:17.334Z"
   },
   {
    "duration": 205,
    "start_time": "2024-04-17T15:36:17.792Z"
   },
   {
    "duration": 2,
    "start_time": "2024-04-17T15:36:17.999Z"
   },
   {
    "duration": 7,
    "start_time": "2024-04-17T15:36:18.003Z"
   },
   {
    "duration": 9,
    "start_time": "2024-04-17T15:36:18.011Z"
   },
   {
    "duration": 7,
    "start_time": "2024-04-17T15:36:18.021Z"
   },
   {
    "duration": 14,
    "start_time": "2024-04-17T15:36:18.030Z"
   },
   {
    "duration": 130,
    "start_time": "2024-04-17T15:36:18.047Z"
   },
   {
    "duration": 28,
    "start_time": "2024-04-17T15:36:18.180Z"
   },
   {
    "duration": 37,
    "start_time": "2024-04-17T15:36:18.209Z"
   },
   {
    "duration": 15,
    "start_time": "2024-04-17T15:36:18.249Z"
   },
   {
    "duration": 13,
    "start_time": "2024-04-17T15:36:18.265Z"
   },
   {
    "duration": 26,
    "start_time": "2024-04-17T15:36:18.279Z"
   },
   {
    "duration": 14,
    "start_time": "2024-04-17T15:36:18.306Z"
   },
   {
    "duration": 15,
    "start_time": "2024-04-17T15:36:18.321Z"
   },
   {
    "duration": 25,
    "start_time": "2024-04-17T15:36:18.339Z"
   },
   {
    "duration": 9,
    "start_time": "2024-04-17T15:36:18.365Z"
   },
   {
    "duration": 10,
    "start_time": "2024-04-17T15:36:18.376Z"
   },
   {
    "duration": 12,
    "start_time": "2024-04-17T15:36:18.388Z"
   },
   {
    "duration": 22,
    "start_time": "2024-04-17T15:36:18.401Z"
   },
   {
    "duration": 27,
    "start_time": "2024-04-17T15:36:18.424Z"
   },
   {
    "duration": 18,
    "start_time": "2024-04-17T15:36:18.452Z"
   },
   {
    "duration": 28,
    "start_time": "2024-04-17T15:36:18.471Z"
   },
   {
    "duration": 286,
    "start_time": "2024-04-17T15:36:18.500Z"
   },
   {
    "duration": 394,
    "start_time": "2024-04-17T15:36:18.788Z"
   },
   {
    "duration": 392,
    "start_time": "2024-04-17T15:36:19.184Z"
   },
   {
    "duration": 6,
    "start_time": "2024-04-17T15:36:19.581Z"
   },
   {
    "duration": 18,
    "start_time": "2024-04-17T15:36:19.589Z"
   },
   {
    "duration": 21,
    "start_time": "2024-04-17T15:36:19.608Z"
   },
   {
    "duration": 8,
    "start_time": "2024-04-17T15:36:19.633Z"
   },
   {
    "duration": 18,
    "start_time": "2024-04-17T15:36:19.643Z"
   },
   {
    "duration": 5,
    "start_time": "2024-04-17T15:36:19.662Z"
   },
   {
    "duration": 5,
    "start_time": "2024-04-17T15:36:19.669Z"
   },
   {
    "duration": 12,
    "start_time": "2024-04-17T15:36:19.676Z"
   },
   {
    "duration": 17,
    "start_time": "2024-04-17T15:36:19.690Z"
   },
   {
    "duration": 21,
    "start_time": "2024-04-17T15:36:19.708Z"
   },
   {
    "duration": 10,
    "start_time": "2024-04-17T15:36:19.732Z"
   },
   {
    "duration": 10,
    "start_time": "2024-04-17T15:36:19.745Z"
   },
   {
    "duration": 9,
    "start_time": "2024-04-17T15:36:19.756Z"
   },
   {
    "duration": 157,
    "start_time": "2024-04-17T15:36:19.767Z"
   },
   {
    "duration": 157,
    "start_time": "2024-04-17T15:36:19.925Z"
   },
   {
    "duration": 9,
    "start_time": "2024-04-17T15:36:20.084Z"
   },
   {
    "duration": 21,
    "start_time": "2024-04-17T15:36:20.094Z"
   },
   {
    "duration": 16,
    "start_time": "2024-04-17T15:36:20.116Z"
   },
   {
    "duration": 218,
    "start_time": "2024-04-17T15:36:20.134Z"
   },
   {
    "duration": 267,
    "start_time": "2024-04-17T15:36:20.354Z"
   },
   {
    "duration": 244,
    "start_time": "2024-04-17T15:36:20.629Z"
   },
   {
    "duration": 229,
    "start_time": "2024-04-17T15:36:20.874Z"
   },
   {
    "duration": 231,
    "start_time": "2024-04-17T15:36:21.105Z"
   },
   {
    "duration": 30,
    "start_time": "2024-04-17T15:36:21.338Z"
   },
   {
    "duration": 14,
    "start_time": "2024-04-17T15:36:21.370Z"
   },
   {
    "duration": 16,
    "start_time": "2024-04-17T15:36:21.385Z"
   },
   {
    "duration": 25,
    "start_time": "2024-04-17T15:36:21.430Z"
   },
   {
    "duration": 342,
    "start_time": "2024-04-17T15:36:21.457Z"
   },
   {
    "duration": 337,
    "start_time": "2024-04-17T15:36:21.800Z"
   },
   {
    "duration": 6,
    "start_time": "2024-04-17T15:36:22.140Z"
   },
   {
    "duration": 46,
    "start_time": "2024-04-17T15:36:22.149Z"
   },
   {
    "duration": 67,
    "start_time": "2024-04-17T15:36:22.196Z"
   },
   {
    "duration": 256,
    "start_time": "2024-04-17T15:36:22.265Z"
   },
   {
    "duration": 15,
    "start_time": "2024-04-17T15:36:22.523Z"
   },
   {
    "duration": 58,
    "start_time": "2024-04-17T15:36:22.541Z"
   },
   {
    "duration": 402,
    "start_time": "2024-04-17T15:36:22.601Z"
   },
   {
    "duration": 434,
    "start_time": "2024-04-17T15:36:23.005Z"
   },
   {
    "duration": 11,
    "start_time": "2024-04-17T15:36:23.441Z"
   },
   {
    "duration": 13,
    "start_time": "2024-04-17T15:36:23.454Z"
   },
   {
    "duration": 11,
    "start_time": "2024-04-17T15:36:23.469Z"
   },
   {
    "duration": 5,
    "start_time": "2024-04-17T15:36:23.482Z"
   },
   {
    "duration": 12,
    "start_time": "2024-04-17T15:36:23.489Z"
   },
   {
    "duration": 30,
    "start_time": "2024-04-17T15:36:23.503Z"
   },
   {
    "duration": 5,
    "start_time": "2024-04-17T15:36:23.536Z"
   },
   {
    "duration": 6,
    "start_time": "2024-04-17T15:36:23.544Z"
   },
   {
    "duration": 31,
    "start_time": "2024-04-17T15:36:23.553Z"
   },
   {
    "duration": 7,
    "start_time": "2024-04-17T15:45:12.475Z"
   },
   {
    "duration": 471,
    "start_time": "2024-04-17T15:50:23.525Z"
   },
   {
    "duration": 534,
    "start_time": "2024-04-17T15:50:23.998Z"
   },
   {
    "duration": 231,
    "start_time": "2024-04-17T15:50:24.537Z"
   },
   {
    "duration": 3,
    "start_time": "2024-04-17T15:50:24.772Z"
   },
   {
    "duration": 16,
    "start_time": "2024-04-17T15:50:24.777Z"
   },
   {
    "duration": 9,
    "start_time": "2024-04-17T15:50:24.795Z"
   },
   {
    "duration": 8,
    "start_time": "2024-04-17T15:50:24.806Z"
   },
   {
    "duration": 40,
    "start_time": "2024-04-17T15:50:24.816Z"
   },
   {
    "duration": 137,
    "start_time": "2024-04-17T15:50:24.859Z"
   },
   {
    "duration": 29,
    "start_time": "2024-04-17T15:50:24.998Z"
   },
   {
    "duration": 34,
    "start_time": "2024-04-17T15:50:25.029Z"
   },
   {
    "duration": 15,
    "start_time": "2024-04-17T15:50:25.064Z"
   },
   {
    "duration": 17,
    "start_time": "2024-04-17T15:50:25.082Z"
   },
   {
    "duration": 50,
    "start_time": "2024-04-17T15:50:25.101Z"
   },
   {
    "duration": 12,
    "start_time": "2024-04-17T15:50:25.154Z"
   },
   {
    "duration": 40,
    "start_time": "2024-04-17T15:50:25.168Z"
   },
   {
    "duration": 26,
    "start_time": "2024-04-17T15:50:25.209Z"
   },
   {
    "duration": 17,
    "start_time": "2024-04-17T15:50:25.238Z"
   },
   {
    "duration": 8,
    "start_time": "2024-04-17T15:50:25.257Z"
   },
   {
    "duration": 16,
    "start_time": "2024-04-17T15:50:25.267Z"
   },
   {
    "duration": 6,
    "start_time": "2024-04-17T15:50:25.285Z"
   },
   {
    "duration": 58,
    "start_time": "2024-04-17T15:50:25.293Z"
   },
   {
    "duration": 19,
    "start_time": "2024-04-17T15:50:25.353Z"
   },
   {
    "duration": 68,
    "start_time": "2024-04-17T15:50:25.373Z"
   },
   {
    "duration": 329,
    "start_time": "2024-04-17T15:50:25.443Z"
   },
   {
    "duration": 477,
    "start_time": "2024-04-17T15:50:25.774Z"
   },
   {
    "duration": 440,
    "start_time": "2024-04-17T15:50:26.254Z"
   },
   {
    "duration": 6,
    "start_time": "2024-04-17T15:50:26.696Z"
   },
   {
    "duration": 52,
    "start_time": "2024-04-17T15:50:26.704Z"
   },
   {
    "duration": 23,
    "start_time": "2024-04-17T15:50:26.757Z"
   },
   {
    "duration": 14,
    "start_time": "2024-04-17T15:50:26.782Z"
   },
   {
    "duration": 37,
    "start_time": "2024-04-17T15:50:26.798Z"
   },
   {
    "duration": 9,
    "start_time": "2024-04-17T15:50:26.840Z"
   },
   {
    "duration": 11,
    "start_time": "2024-04-17T15:50:26.851Z"
   },
   {
    "duration": 29,
    "start_time": "2024-04-17T15:50:26.864Z"
   },
   {
    "duration": 50,
    "start_time": "2024-04-17T15:50:26.895Z"
   },
   {
    "duration": 39,
    "start_time": "2024-04-17T15:50:26.948Z"
   },
   {
    "duration": 51,
    "start_time": "2024-04-17T15:50:26.989Z"
   },
   {
    "duration": 14,
    "start_time": "2024-04-17T15:50:27.045Z"
   },
   {
    "duration": 29,
    "start_time": "2024-04-17T15:50:27.064Z"
   },
   {
    "duration": 171,
    "start_time": "2024-04-17T15:50:27.095Z"
   },
   {
    "duration": 141,
    "start_time": "2024-04-17T15:50:27.267Z"
   },
   {
    "duration": 10,
    "start_time": "2024-04-17T15:50:27.410Z"
   },
   {
    "duration": 20,
    "start_time": "2024-04-17T15:50:27.431Z"
   },
   {
    "duration": 31,
    "start_time": "2024-04-17T15:50:27.454Z"
   },
   {
    "duration": 282,
    "start_time": "2024-04-17T15:50:27.487Z"
   },
   {
    "duration": 285,
    "start_time": "2024-04-17T15:50:27.771Z"
   },
   {
    "duration": 220,
    "start_time": "2024-04-17T15:50:28.058Z"
   },
   {
    "duration": 239,
    "start_time": "2024-04-17T15:50:28.280Z"
   },
   {
    "duration": 254,
    "start_time": "2024-04-17T15:50:28.530Z"
   },
   {
    "duration": 27,
    "start_time": "2024-04-17T15:50:28.786Z"
   },
   {
    "duration": 29,
    "start_time": "2024-04-17T15:50:28.829Z"
   },
   {
    "duration": 29,
    "start_time": "2024-04-17T15:50:28.860Z"
   },
   {
    "duration": 18,
    "start_time": "2024-04-17T15:50:28.892Z"
   },
   {
    "duration": 325,
    "start_time": "2024-04-17T15:50:28.929Z"
   },
   {
    "duration": 323,
    "start_time": "2024-04-17T15:50:29.255Z"
   },
   {
    "duration": 4,
    "start_time": "2024-04-17T15:50:29.580Z"
   },
   {
    "duration": 69,
    "start_time": "2024-04-17T15:50:29.586Z"
   },
   {
    "duration": 30,
    "start_time": "2024-04-17T15:50:29.656Z"
   },
   {
    "duration": 267,
    "start_time": "2024-04-17T15:50:29.688Z"
   },
   {
    "duration": 10,
    "start_time": "2024-04-17T15:50:29.957Z"
   },
   {
    "duration": 91,
    "start_time": "2024-04-17T15:50:29.968Z"
   },
   {
    "duration": 417,
    "start_time": "2024-04-17T15:50:30.061Z"
   },
   {
    "duration": 905,
    "start_time": "2024-04-17T15:50:30.480Z"
   },
   {
    "duration": 466,
    "start_time": "2024-04-17T15:50:31.387Z"
   },
   {
    "duration": 430,
    "start_time": "2024-04-17T15:50:31.855Z"
   },
   {
    "duration": 98,
    "start_time": "2024-04-17T15:50:32.287Z"
   },
   {
    "duration": 29,
    "start_time": "2024-04-17T15:50:32.387Z"
   },
   {
    "duration": 33,
    "start_time": "2024-04-17T15:50:32.418Z"
   },
   {
    "duration": 44,
    "start_time": "2024-04-17T15:50:32.453Z"
   },
   {
    "duration": 7,
    "start_time": "2024-04-17T15:50:32.499Z"
   },
   {
    "duration": 44,
    "start_time": "2024-04-17T15:50:32.508Z"
   },
   {
    "duration": 27,
    "start_time": "2024-04-17T15:50:32.554Z"
   },
   {
    "duration": 3,
    "start_time": "2024-04-18T05:33:24.262Z"
   },
   {
    "duration": 41,
    "start_time": "2024-04-18T05:45:42.335Z"
   },
   {
    "duration": 325,
    "start_time": "2024-04-18T05:46:15.657Z"
   },
   {
    "duration": 431,
    "start_time": "2024-04-18T05:46:15.983Z"
   },
   {
    "duration": 347,
    "start_time": "2024-04-18T05:46:16.416Z"
   },
   {
    "duration": 2,
    "start_time": "2024-04-18T05:46:16.766Z"
   },
   {
    "duration": 12,
    "start_time": "2024-04-18T05:46:16.770Z"
   },
   {
    "duration": 12,
    "start_time": "2024-04-18T05:46:16.783Z"
   },
   {
    "duration": 4,
    "start_time": "2024-04-18T05:46:16.797Z"
   },
   {
    "duration": 11,
    "start_time": "2024-04-18T05:46:16.803Z"
   },
   {
    "duration": 100,
    "start_time": "2024-04-18T05:46:16.815Z"
   },
   {
    "duration": 71,
    "start_time": "2024-04-18T05:46:16.917Z"
   },
   {
    "duration": 72,
    "start_time": "2024-04-18T05:46:16.990Z"
   },
   {
    "duration": 56,
    "start_time": "2024-04-18T05:46:17.063Z"
   },
   {
    "duration": 10,
    "start_time": "2024-04-18T05:46:17.120Z"
   },
   {
    "duration": 22,
    "start_time": "2024-04-18T05:46:17.132Z"
   },
   {
    "duration": 7,
    "start_time": "2024-04-18T05:46:17.155Z"
   },
   {
    "duration": 14,
    "start_time": "2024-04-18T05:46:17.164Z"
   },
   {
    "duration": 16,
    "start_time": "2024-04-18T05:46:17.179Z"
   },
   {
    "duration": 14,
    "start_time": "2024-04-18T05:46:17.197Z"
   },
   {
    "duration": 9,
    "start_time": "2024-04-18T05:46:17.212Z"
   },
   {
    "duration": 20,
    "start_time": "2024-04-18T05:46:17.222Z"
   },
   {
    "duration": 4,
    "start_time": "2024-04-18T05:46:17.243Z"
   },
   {
    "duration": 12,
    "start_time": "2024-04-18T05:46:17.249Z"
   },
   {
    "duration": 14,
    "start_time": "2024-04-18T05:46:17.262Z"
   },
   {
    "duration": 48,
    "start_time": "2024-04-18T05:46:17.277Z"
   },
   {
    "duration": 209,
    "start_time": "2024-04-18T05:46:17.327Z"
   },
   {
    "duration": 304,
    "start_time": "2024-04-18T05:46:17.538Z"
   },
   {
    "duration": 302,
    "start_time": "2024-04-18T05:46:17.843Z"
   },
   {
    "duration": 2,
    "start_time": "2024-04-18T05:46:18.148Z"
   },
   {
    "duration": 59,
    "start_time": "2024-04-18T05:46:18.151Z"
   },
   {
    "duration": 32,
    "start_time": "2024-04-18T05:46:18.212Z"
   },
   {
    "duration": 5,
    "start_time": "2024-04-18T05:46:18.246Z"
   },
   {
    "duration": 5,
    "start_time": "2024-04-18T05:46:18.253Z"
   },
   {
    "duration": 6,
    "start_time": "2024-04-18T05:46:18.259Z"
   },
   {
    "duration": 6,
    "start_time": "2024-04-18T05:46:18.266Z"
   },
   {
    "duration": 8,
    "start_time": "2024-04-18T05:46:18.274Z"
   },
   {
    "duration": 10,
    "start_time": "2024-04-18T05:46:18.283Z"
   },
   {
    "duration": 19,
    "start_time": "2024-04-18T05:46:18.294Z"
   },
   {
    "duration": 12,
    "start_time": "2024-04-18T05:46:18.315Z"
   },
   {
    "duration": 61,
    "start_time": "2024-04-18T05:46:18.328Z"
   },
   {
    "duration": 29,
    "start_time": "2024-04-18T05:46:18.391Z"
   },
   {
    "duration": 13,
    "start_time": "2024-04-18T05:46:18.421Z"
   },
   {
    "duration": 120,
    "start_time": "2024-04-18T05:46:18.436Z"
   },
   {
    "duration": 95,
    "start_time": "2024-04-18T05:46:18.557Z"
   },
   {
    "duration": 7,
    "start_time": "2024-04-18T05:46:18.654Z"
   },
   {
    "duration": 24,
    "start_time": "2024-04-18T05:46:18.662Z"
   },
   {
    "duration": 7,
    "start_time": "2024-04-18T05:46:18.687Z"
   },
   {
    "duration": 154,
    "start_time": "2024-04-18T05:46:18.695Z"
   },
   {
    "duration": 193,
    "start_time": "2024-04-18T05:46:18.850Z"
   },
   {
    "duration": 159,
    "start_time": "2024-04-18T05:46:19.045Z"
   },
   {
    "duration": 175,
    "start_time": "2024-04-18T05:46:19.205Z"
   },
   {
    "duration": 166,
    "start_time": "2024-04-18T05:46:19.381Z"
   },
   {
    "duration": 17,
    "start_time": "2024-04-18T05:46:19.549Z"
   },
   {
    "duration": 10,
    "start_time": "2024-04-18T05:46:19.567Z"
   },
   {
    "duration": 27,
    "start_time": "2024-04-18T05:46:19.578Z"
   },
   {
    "duration": 7,
    "start_time": "2024-04-18T05:46:19.607Z"
   },
   {
    "duration": 207,
    "start_time": "2024-04-18T05:46:19.616Z"
   },
   {
    "duration": 198,
    "start_time": "2024-04-18T05:46:19.825Z"
   },
   {
    "duration": 3,
    "start_time": "2024-04-18T05:46:20.025Z"
   },
   {
    "duration": 51,
    "start_time": "2024-04-18T05:46:20.029Z"
   },
   {
    "duration": 20,
    "start_time": "2024-04-18T05:46:20.081Z"
   },
   {
    "duration": 180,
    "start_time": "2024-04-18T05:46:20.103Z"
   },
   {
    "duration": 20,
    "start_time": "2024-04-18T05:46:20.284Z"
   },
   {
    "duration": 9,
    "start_time": "2024-04-18T05:46:20.306Z"
   },
   {
    "duration": 125,
    "start_time": "2024-04-18T05:46:20.316Z"
   },
   {
    "duration": 0,
    "start_time": "2024-04-18T05:46:20.443Z"
   },
   {
    "duration": 0,
    "start_time": "2024-04-18T05:46:20.443Z"
   },
   {
    "duration": 0,
    "start_time": "2024-04-18T05:46:20.444Z"
   },
   {
    "duration": 0,
    "start_time": "2024-04-18T05:46:20.445Z"
   },
   {
    "duration": 0,
    "start_time": "2024-04-18T05:46:20.446Z"
   },
   {
    "duration": 0,
    "start_time": "2024-04-18T05:46:20.446Z"
   },
   {
    "duration": 0,
    "start_time": "2024-04-18T05:46:20.448Z"
   },
   {
    "duration": 0,
    "start_time": "2024-04-18T05:46:20.449Z"
   },
   {
    "duration": 0,
    "start_time": "2024-04-18T05:46:20.450Z"
   },
   {
    "duration": 0,
    "start_time": "2024-04-18T05:46:20.451Z"
   },
   {
    "duration": 7,
    "start_time": "2024-04-18T05:56:05.120Z"
   },
   {
    "duration": 4,
    "start_time": "2024-04-18T05:56:26.785Z"
   },
   {
    "duration": 4,
    "start_time": "2024-04-18T05:57:26.323Z"
   },
   {
    "duration": 9,
    "start_time": "2024-04-18T05:57:42.324Z"
   },
   {
    "duration": 4,
    "start_time": "2024-04-18T05:57:49.944Z"
   },
   {
    "duration": 93,
    "start_time": "2024-04-18T06:24:30.023Z"
   },
   {
    "duration": 5,
    "start_time": "2024-04-18T06:28:52.164Z"
   },
   {
    "duration": 12,
    "start_time": "2024-04-18T06:31:47.643Z"
   },
   {
    "duration": 185,
    "start_time": "2024-04-18T06:32:00.307Z"
   },
   {
    "duration": 50,
    "start_time": "2024-04-18T06:34:23.656Z"
   },
   {
    "duration": 139,
    "start_time": "2024-04-18T06:34:30.295Z"
   },
   {
    "duration": 138,
    "start_time": "2024-04-18T06:35:44.201Z"
   },
   {
    "duration": 67,
    "start_time": "2024-04-18T06:35:54.294Z"
   },
   {
    "duration": 56,
    "start_time": "2024-04-18T06:36:09.352Z"
   },
   {
    "duration": 186,
    "start_time": "2024-04-18T06:36:55.681Z"
   },
   {
    "duration": 154,
    "start_time": "2024-04-18T06:38:43.475Z"
   },
   {
    "duration": 152,
    "start_time": "2024-04-18T06:39:07.688Z"
   },
   {
    "duration": 161,
    "start_time": "2024-04-18T06:40:10.000Z"
   },
   {
    "duration": 140,
    "start_time": "2024-04-18T06:40:46.263Z"
   },
   {
    "duration": 122,
    "start_time": "2024-04-18T06:49:54.373Z"
   },
   {
    "duration": 123,
    "start_time": "2024-04-18T06:50:34.729Z"
   },
   {
    "duration": 116,
    "start_time": "2024-04-18T06:50:51.928Z"
   },
   {
    "duration": 308,
    "start_time": "2024-04-18T06:51:52.201Z"
   },
   {
    "duration": 122,
    "start_time": "2024-04-18T06:52:00.602Z"
   },
   {
    "duration": 193,
    "start_time": "2024-04-18T07:02:34.686Z"
   },
   {
    "duration": 21,
    "start_time": "2024-04-18T07:03:47.171Z"
   },
   {
    "duration": 95,
    "start_time": "2024-04-18T07:04:01.665Z"
   },
   {
    "duration": 130,
    "start_time": "2024-04-18T07:05:17.812Z"
   },
   {
    "duration": 366,
    "start_time": "2024-04-18T07:06:07.150Z"
   },
   {
    "duration": 417,
    "start_time": "2024-04-18T07:06:07.518Z"
   },
   {
    "duration": 167,
    "start_time": "2024-04-18T07:06:07.936Z"
   },
   {
    "duration": 3,
    "start_time": "2024-04-18T07:06:08.104Z"
   },
   {
    "duration": 20,
    "start_time": "2024-04-18T07:06:08.108Z"
   },
   {
    "duration": 5,
    "start_time": "2024-04-18T07:06:08.129Z"
   },
   {
    "duration": 9,
    "start_time": "2024-04-18T07:06:08.135Z"
   },
   {
    "duration": 9,
    "start_time": "2024-04-18T07:06:08.145Z"
   },
   {
    "duration": 87,
    "start_time": "2024-04-18T07:06:08.155Z"
   },
   {
    "duration": 27,
    "start_time": "2024-04-18T07:06:08.244Z"
   },
   {
    "duration": 25,
    "start_time": "2024-04-18T07:06:08.272Z"
   },
   {
    "duration": 15,
    "start_time": "2024-04-18T07:06:08.298Z"
   },
   {
    "duration": 11,
    "start_time": "2024-04-18T07:06:08.314Z"
   },
   {
    "duration": 7,
    "start_time": "2024-04-18T07:06:08.326Z"
   },
   {
    "duration": 12,
    "start_time": "2024-04-18T07:06:08.334Z"
   },
   {
    "duration": 10,
    "start_time": "2024-04-18T07:06:08.347Z"
   },
   {
    "duration": 9,
    "start_time": "2024-04-18T07:06:08.358Z"
   },
   {
    "duration": 11,
    "start_time": "2024-04-18T07:06:08.368Z"
   },
   {
    "duration": 27,
    "start_time": "2024-04-18T07:06:08.380Z"
   },
   {
    "duration": 19,
    "start_time": "2024-04-18T07:06:08.408Z"
   },
   {
    "duration": 4,
    "start_time": "2024-04-18T07:06:08.429Z"
   },
   {
    "duration": 12,
    "start_time": "2024-04-18T07:06:08.434Z"
   },
   {
    "duration": 14,
    "start_time": "2024-04-18T07:06:08.448Z"
   },
   {
    "duration": 43,
    "start_time": "2024-04-18T07:06:08.464Z"
   },
   {
    "duration": 220,
    "start_time": "2024-04-18T07:06:08.508Z"
   },
   {
    "duration": 297,
    "start_time": "2024-04-18T07:06:08.730Z"
   },
   {
    "duration": 301,
    "start_time": "2024-04-18T07:06:09.029Z"
   },
   {
    "duration": 2,
    "start_time": "2024-04-18T07:06:09.335Z"
   },
   {
    "duration": 6,
    "start_time": "2024-04-18T07:06:09.338Z"
   },
   {
    "duration": 4,
    "start_time": "2024-04-18T07:06:09.345Z"
   },
   {
    "duration": 12,
    "start_time": "2024-04-18T07:06:09.350Z"
   },
   {
    "duration": 17,
    "start_time": "2024-04-18T07:06:09.363Z"
   },
   {
    "duration": 18,
    "start_time": "2024-04-18T07:06:09.381Z"
   },
   {
    "duration": 11,
    "start_time": "2024-04-18T07:06:09.400Z"
   },
   {
    "duration": 9,
    "start_time": "2024-04-18T07:06:09.412Z"
   },
   {
    "duration": 16,
    "start_time": "2024-04-18T07:06:09.422Z"
   },
   {
    "duration": 5,
    "start_time": "2024-04-18T07:06:09.440Z"
   },
   {
    "duration": 6,
    "start_time": "2024-04-18T07:06:09.446Z"
   },
   {
    "duration": 21,
    "start_time": "2024-04-18T07:06:09.453Z"
   },
   {
    "duration": 11,
    "start_time": "2024-04-18T07:06:09.476Z"
   },
   {
    "duration": 6,
    "start_time": "2024-04-18T07:06:09.489Z"
   },
   {
    "duration": 96,
    "start_time": "2024-04-18T07:06:09.496Z"
   },
   {
    "duration": 89,
    "start_time": "2024-04-18T07:06:09.594Z"
   },
   {
    "duration": 6,
    "start_time": "2024-04-18T07:06:09.684Z"
   },
   {
    "duration": 9,
    "start_time": "2024-04-18T07:06:09.702Z"
   },
   {
    "duration": 54,
    "start_time": "2024-04-18T07:06:09.712Z"
   },
   {
    "duration": 208,
    "start_time": "2024-04-18T07:06:09.768Z"
   },
   {
    "duration": 4,
    "start_time": "2024-04-18T07:06:09.978Z"
   },
   {
    "duration": 233,
    "start_time": "2024-04-18T07:06:09.983Z"
   },
   {
    "duration": 133,
    "start_time": "2024-04-18T07:06:10.218Z"
   },
   {
    "duration": 177,
    "start_time": "2024-04-18T07:06:10.353Z"
   },
   {
    "duration": 172,
    "start_time": "2024-04-18T07:06:10.531Z"
   },
   {
    "duration": 171,
    "start_time": "2024-04-18T07:06:10.704Z"
   },
   {
    "duration": 28,
    "start_time": "2024-04-18T07:06:10.876Z"
   },
   {
    "duration": 11,
    "start_time": "2024-04-18T07:06:10.905Z"
   },
   {
    "duration": 13,
    "start_time": "2024-04-18T07:06:10.917Z"
   },
   {
    "duration": 12,
    "start_time": "2024-04-18T07:06:10.931Z"
   },
   {
    "duration": 201,
    "start_time": "2024-04-18T07:06:10.944Z"
   },
   {
    "duration": 204,
    "start_time": "2024-04-18T07:06:11.146Z"
   },
   {
    "duration": 4,
    "start_time": "2024-04-18T07:06:11.351Z"
   },
   {
    "duration": 67,
    "start_time": "2024-04-18T07:06:11.356Z"
   },
   {
    "duration": 23,
    "start_time": "2024-04-18T07:06:11.425Z"
   },
   {
    "duration": 196,
    "start_time": "2024-04-18T07:06:11.450Z"
   },
   {
    "duration": 7,
    "start_time": "2024-04-18T07:06:11.648Z"
   },
   {
    "duration": 12,
    "start_time": "2024-04-18T07:06:11.657Z"
   },
   {
    "duration": 113,
    "start_time": "2024-04-18T07:06:11.670Z"
   },
   {
    "duration": 0,
    "start_time": "2024-04-18T07:06:11.785Z"
   },
   {
    "duration": 0,
    "start_time": "2024-04-18T07:06:11.786Z"
   },
   {
    "duration": 0,
    "start_time": "2024-04-18T07:06:11.787Z"
   },
   {
    "duration": 0,
    "start_time": "2024-04-18T07:06:11.788Z"
   },
   {
    "duration": 0,
    "start_time": "2024-04-18T07:06:11.789Z"
   },
   {
    "duration": 0,
    "start_time": "2024-04-18T07:06:11.801Z"
   },
   {
    "duration": 0,
    "start_time": "2024-04-18T07:06:11.802Z"
   },
   {
    "duration": 0,
    "start_time": "2024-04-18T07:06:11.803Z"
   },
   {
    "duration": 0,
    "start_time": "2024-04-18T07:06:11.803Z"
   },
   {
    "duration": 0,
    "start_time": "2024-04-18T07:06:11.804Z"
   },
   {
    "duration": 124,
    "start_time": "2024-04-18T07:09:23.957Z"
   },
   {
    "duration": 134,
    "start_time": "2024-04-18T07:17:50.571Z"
   },
   {
    "duration": 44,
    "start_time": "2024-04-18T12:03:12.166Z"
   },
   {
    "duration": 396,
    "start_time": "2024-04-18T12:03:23.806Z"
   },
   {
    "duration": 432,
    "start_time": "2024-04-18T12:03:24.204Z"
   },
   {
    "duration": 340,
    "start_time": "2024-04-18T12:03:24.638Z"
   },
   {
    "duration": 2,
    "start_time": "2024-04-18T12:03:24.980Z"
   },
   {
    "duration": 16,
    "start_time": "2024-04-18T12:03:24.983Z"
   },
   {
    "duration": 20,
    "start_time": "2024-04-18T12:03:25.000Z"
   },
   {
    "duration": 25,
    "start_time": "2024-04-18T12:03:25.021Z"
   },
   {
    "duration": 17,
    "start_time": "2024-04-18T12:03:25.047Z"
   },
   {
    "duration": 125,
    "start_time": "2024-04-18T12:03:25.066Z"
   },
   {
    "duration": 104,
    "start_time": "2024-04-18T12:03:25.193Z"
   },
   {
    "duration": 138,
    "start_time": "2024-04-18T12:03:25.299Z"
   },
   {
    "duration": 69,
    "start_time": "2024-04-18T12:03:25.438Z"
   },
   {
    "duration": 12,
    "start_time": "2024-04-18T12:03:25.508Z"
   },
   {
    "duration": 18,
    "start_time": "2024-04-18T12:03:25.521Z"
   },
   {
    "duration": 22,
    "start_time": "2024-04-18T12:03:25.541Z"
   },
   {
    "duration": 27,
    "start_time": "2024-04-18T12:03:25.565Z"
   },
   {
    "duration": 33,
    "start_time": "2024-04-18T12:03:25.594Z"
   },
   {
    "duration": 16,
    "start_time": "2024-04-18T12:03:25.629Z"
   },
   {
    "duration": 41,
    "start_time": "2024-04-18T12:03:25.647Z"
   },
   {
    "duration": 19,
    "start_time": "2024-04-18T12:03:25.690Z"
   },
   {
    "duration": 14,
    "start_time": "2024-04-18T12:03:25.711Z"
   },
   {
    "duration": 45,
    "start_time": "2024-04-18T12:03:25.727Z"
   },
   {
    "duration": 38,
    "start_time": "2024-04-18T12:03:25.774Z"
   },
   {
    "duration": 14,
    "start_time": "2024-04-18T12:03:25.813Z"
   },
   {
    "duration": 251,
    "start_time": "2024-04-18T12:03:25.829Z"
   },
   {
    "duration": 330,
    "start_time": "2024-04-18T12:03:26.082Z"
   },
   {
    "duration": 316,
    "start_time": "2024-04-18T12:03:26.414Z"
   },
   {
    "duration": 2,
    "start_time": "2024-04-18T12:03:26.735Z"
   },
   {
    "duration": 6,
    "start_time": "2024-04-18T12:03:26.739Z"
   },
   {
    "duration": 7,
    "start_time": "2024-04-18T12:03:26.747Z"
   },
   {
    "duration": 4,
    "start_time": "2024-04-18T12:03:26.755Z"
   },
   {
    "duration": 13,
    "start_time": "2024-04-18T12:03:26.760Z"
   },
   {
    "duration": 6,
    "start_time": "2024-04-18T12:03:26.775Z"
   },
   {
    "duration": 12,
    "start_time": "2024-04-18T12:03:26.783Z"
   },
   {
    "duration": 9,
    "start_time": "2024-04-18T12:03:26.796Z"
   },
   {
    "duration": 18,
    "start_time": "2024-04-18T12:03:26.806Z"
   },
   {
    "duration": 4,
    "start_time": "2024-04-18T12:03:26.826Z"
   },
   {
    "duration": 8,
    "start_time": "2024-04-18T12:03:26.832Z"
   },
   {
    "duration": 7,
    "start_time": "2024-04-18T12:03:26.841Z"
   },
   {
    "duration": 6,
    "start_time": "2024-04-18T12:03:26.850Z"
   },
   {
    "duration": 6,
    "start_time": "2024-04-18T12:03:26.857Z"
   },
   {
    "duration": 127,
    "start_time": "2024-04-18T12:03:26.864Z"
   },
   {
    "duration": 105,
    "start_time": "2024-04-18T12:03:26.992Z"
   },
   {
    "duration": 15,
    "start_time": "2024-04-18T12:03:27.099Z"
   },
   {
    "duration": 12,
    "start_time": "2024-04-18T12:03:27.115Z"
   },
   {
    "duration": 10,
    "start_time": "2024-04-18T12:03:27.128Z"
   },
   {
    "duration": 177,
    "start_time": "2024-04-18T12:03:27.139Z"
   },
   {
    "duration": 5,
    "start_time": "2024-04-18T12:03:27.317Z"
   },
   {
    "duration": 231,
    "start_time": "2024-04-18T12:03:27.324Z"
   },
   {
    "duration": 217,
    "start_time": "2024-04-18T12:03:27.557Z"
   },
   {
    "duration": 0,
    "start_time": "2024-04-18T12:03:27.775Z"
   },
   {
    "duration": 0,
    "start_time": "2024-04-18T12:03:27.777Z"
   },
   {
    "duration": 0,
    "start_time": "2024-04-18T12:03:27.777Z"
   },
   {
    "duration": 0,
    "start_time": "2024-04-18T12:03:27.778Z"
   },
   {
    "duration": 0,
    "start_time": "2024-04-18T12:03:27.779Z"
   },
   {
    "duration": 0,
    "start_time": "2024-04-18T12:03:27.780Z"
   },
   {
    "duration": 0,
    "start_time": "2024-04-18T12:03:27.781Z"
   },
   {
    "duration": 0,
    "start_time": "2024-04-18T12:03:27.782Z"
   },
   {
    "duration": 0,
    "start_time": "2024-04-18T12:03:27.783Z"
   },
   {
    "duration": 0,
    "start_time": "2024-04-18T12:03:27.784Z"
   },
   {
    "duration": 0,
    "start_time": "2024-04-18T12:03:27.785Z"
   },
   {
    "duration": 0,
    "start_time": "2024-04-18T12:03:27.786Z"
   },
   {
    "duration": 0,
    "start_time": "2024-04-18T12:03:27.809Z"
   },
   {
    "duration": 0,
    "start_time": "2024-04-18T12:03:27.810Z"
   },
   {
    "duration": 0,
    "start_time": "2024-04-18T12:03:27.811Z"
   },
   {
    "duration": 0,
    "start_time": "2024-04-18T12:03:27.812Z"
   },
   {
    "duration": 0,
    "start_time": "2024-04-18T12:03:27.813Z"
   },
   {
    "duration": 0,
    "start_time": "2024-04-18T12:03:27.814Z"
   },
   {
    "duration": 0,
    "start_time": "2024-04-18T12:03:27.815Z"
   },
   {
    "duration": 0,
    "start_time": "2024-04-18T12:03:27.816Z"
   },
   {
    "duration": 0,
    "start_time": "2024-04-18T12:03:27.817Z"
   },
   {
    "duration": 0,
    "start_time": "2024-04-18T12:03:27.818Z"
   },
   {
    "duration": 0,
    "start_time": "2024-04-18T12:03:27.819Z"
   },
   {
    "duration": 0,
    "start_time": "2024-04-18T12:03:27.820Z"
   },
   {
    "duration": 0,
    "start_time": "2024-04-18T12:03:27.821Z"
   },
   {
    "duration": 0,
    "start_time": "2024-04-18T12:03:27.822Z"
   },
   {
    "duration": 126,
    "start_time": "2024-04-18T12:03:41.849Z"
   },
   {
    "duration": 128,
    "start_time": "2024-04-18T12:04:07.003Z"
   },
   {
    "duration": 137,
    "start_time": "2024-04-18T12:04:16.676Z"
   },
   {
    "duration": 130,
    "start_time": "2024-04-18T12:04:43.317Z"
   },
   {
    "duration": 131,
    "start_time": "2024-04-18T12:05:56.836Z"
   },
   {
    "duration": 169,
    "start_time": "2024-04-18T12:06:08.377Z"
   },
   {
    "duration": 122,
    "start_time": "2024-04-18T12:06:36.211Z"
   },
   {
    "duration": 414,
    "start_time": "2024-04-18T12:07:04.887Z"
   },
   {
    "duration": 439,
    "start_time": "2024-04-18T12:07:05.302Z"
   },
   {
    "duration": 202,
    "start_time": "2024-04-18T12:07:05.742Z"
   },
   {
    "duration": 3,
    "start_time": "2024-04-18T12:07:05.945Z"
   },
   {
    "duration": 27,
    "start_time": "2024-04-18T12:07:05.949Z"
   },
   {
    "duration": 19,
    "start_time": "2024-04-18T12:07:05.977Z"
   },
   {
    "duration": 14,
    "start_time": "2024-04-18T12:07:05.997Z"
   },
   {
    "duration": 4,
    "start_time": "2024-04-18T12:07:06.013Z"
   },
   {
    "duration": 117,
    "start_time": "2024-04-18T12:07:06.018Z"
   },
   {
    "duration": 29,
    "start_time": "2024-04-18T12:07:06.136Z"
   },
   {
    "duration": 28,
    "start_time": "2024-04-18T12:07:06.166Z"
   },
   {
    "duration": 16,
    "start_time": "2024-04-18T12:07:06.195Z"
   },
   {
    "duration": 15,
    "start_time": "2024-04-18T12:07:06.212Z"
   },
   {
    "duration": 34,
    "start_time": "2024-04-18T12:07:06.230Z"
   },
   {
    "duration": 11,
    "start_time": "2024-04-18T12:07:06.265Z"
   },
   {
    "duration": 16,
    "start_time": "2024-04-18T12:07:06.277Z"
   },
   {
    "duration": 16,
    "start_time": "2024-04-18T12:07:06.295Z"
   },
   {
    "duration": 16,
    "start_time": "2024-04-18T12:07:06.313Z"
   },
   {
    "duration": 25,
    "start_time": "2024-04-18T12:07:06.330Z"
   },
   {
    "duration": 9,
    "start_time": "2024-04-18T12:07:06.357Z"
   },
   {
    "duration": 5,
    "start_time": "2024-04-18T12:07:06.368Z"
   },
   {
    "duration": 28,
    "start_time": "2024-04-18T12:07:06.374Z"
   },
   {
    "duration": 26,
    "start_time": "2024-04-18T12:07:06.403Z"
   },
   {
    "duration": 15,
    "start_time": "2024-04-18T12:07:06.430Z"
   },
   {
    "duration": 224,
    "start_time": "2024-04-18T12:07:06.446Z"
   },
   {
    "duration": 326,
    "start_time": "2024-04-18T12:07:06.672Z"
   },
   {
    "duration": 337,
    "start_time": "2024-04-18T12:07:07.000Z"
   },
   {
    "duration": 3,
    "start_time": "2024-04-18T12:07:07.338Z"
   },
   {
    "duration": 5,
    "start_time": "2024-04-18T12:07:07.342Z"
   },
   {
    "duration": 7,
    "start_time": "2024-04-18T12:07:07.349Z"
   },
   {
    "duration": 4,
    "start_time": "2024-04-18T12:07:07.358Z"
   },
   {
    "duration": 8,
    "start_time": "2024-04-18T12:07:07.364Z"
   },
   {
    "duration": 5,
    "start_time": "2024-04-18T12:07:07.373Z"
   },
   {
    "duration": 5,
    "start_time": "2024-04-18T12:07:07.379Z"
   },
   {
    "duration": 8,
    "start_time": "2024-04-18T12:07:07.386Z"
   },
   {
    "duration": 16,
    "start_time": "2024-04-18T12:07:07.395Z"
   },
   {
    "duration": 4,
    "start_time": "2024-04-18T12:07:07.412Z"
   },
   {
    "duration": 17,
    "start_time": "2024-04-18T12:07:07.417Z"
   },
   {
    "duration": 5,
    "start_time": "2024-04-18T12:07:07.435Z"
   },
   {
    "duration": 13,
    "start_time": "2024-04-18T12:07:07.441Z"
   },
   {
    "duration": 21,
    "start_time": "2024-04-18T12:07:07.458Z"
   },
   {
    "duration": 100,
    "start_time": "2024-04-18T12:07:07.480Z"
   },
   {
    "duration": 99,
    "start_time": "2024-04-18T12:07:07.581Z"
   },
   {
    "duration": 8,
    "start_time": "2024-04-18T12:07:07.681Z"
   },
   {
    "duration": 24,
    "start_time": "2024-04-18T12:07:07.690Z"
   },
   {
    "duration": 14,
    "start_time": "2024-04-18T12:07:07.715Z"
   },
   {
    "duration": 169,
    "start_time": "2024-04-18T12:07:07.730Z"
   },
   {
    "duration": 5,
    "start_time": "2024-04-18T12:07:07.909Z"
   },
   {
    "duration": 247,
    "start_time": "2024-04-18T12:07:07.915Z"
   },
   {
    "duration": 132,
    "start_time": "2024-04-18T12:07:08.164Z"
   },
   {
    "duration": 181,
    "start_time": "2024-04-18T12:07:08.297Z"
   },
   {
    "duration": 194,
    "start_time": "2024-04-18T12:07:08.479Z"
   },
   {
    "duration": 197,
    "start_time": "2024-04-18T12:07:08.674Z"
   },
   {
    "duration": 21,
    "start_time": "2024-04-18T12:07:08.872Z"
   },
   {
    "duration": 13,
    "start_time": "2024-04-18T12:07:08.908Z"
   },
   {
    "duration": 24,
    "start_time": "2024-04-18T12:07:08.923Z"
   },
   {
    "duration": 39,
    "start_time": "2024-04-18T12:07:08.949Z"
   },
   {
    "duration": 224,
    "start_time": "2024-04-18T12:07:08.990Z"
   },
   {
    "duration": 223,
    "start_time": "2024-04-18T12:07:09.216Z"
   },
   {
    "duration": 3,
    "start_time": "2024-04-18T12:07:09.441Z"
   },
   {
    "duration": 35,
    "start_time": "2024-04-18T12:07:09.446Z"
   },
   {
    "duration": 38,
    "start_time": "2024-04-18T12:07:09.483Z"
   },
   {
    "duration": 205,
    "start_time": "2024-04-18T12:07:09.522Z"
   },
   {
    "duration": 7,
    "start_time": "2024-04-18T12:07:09.729Z"
   },
   {
    "duration": 24,
    "start_time": "2024-04-18T12:07:09.738Z"
   },
   {
    "duration": 112,
    "start_time": "2024-04-18T12:07:09.764Z"
   },
   {
    "duration": 0,
    "start_time": "2024-04-18T12:07:09.877Z"
   },
   {
    "duration": 0,
    "start_time": "2024-04-18T12:07:09.878Z"
   },
   {
    "duration": 0,
    "start_time": "2024-04-18T12:07:09.879Z"
   },
   {
    "duration": 0,
    "start_time": "2024-04-18T12:07:09.880Z"
   },
   {
    "duration": 0,
    "start_time": "2024-04-18T12:07:09.881Z"
   },
   {
    "duration": 0,
    "start_time": "2024-04-18T12:07:09.882Z"
   },
   {
    "duration": 0,
    "start_time": "2024-04-18T12:07:09.883Z"
   },
   {
    "duration": 0,
    "start_time": "2024-04-18T12:07:09.884Z"
   },
   {
    "duration": 0,
    "start_time": "2024-04-18T12:07:09.885Z"
   },
   {
    "duration": 0,
    "start_time": "2024-04-18T12:07:09.885Z"
   },
   {
    "duration": 348,
    "start_time": "2024-04-18T12:08:28.956Z"
   },
   {
    "duration": 426,
    "start_time": "2024-04-18T12:08:29.309Z"
   },
   {
    "duration": 1038,
    "start_time": "2024-04-18T12:08:29.736Z"
   },
   {
    "duration": 2,
    "start_time": "2024-04-18T12:08:30.776Z"
   },
   {
    "duration": 105,
    "start_time": "2024-04-18T12:08:30.781Z"
   },
   {
    "duration": 48,
    "start_time": "2024-04-18T12:08:30.887Z"
   },
   {
    "duration": 91,
    "start_time": "2024-04-18T12:08:30.936Z"
   },
   {
    "duration": 87,
    "start_time": "2024-04-18T12:08:31.028Z"
   },
   {
    "duration": 104,
    "start_time": "2024-04-18T12:08:31.117Z"
   },
   {
    "duration": 33,
    "start_time": "2024-04-18T12:08:31.223Z"
   },
   {
    "duration": 49,
    "start_time": "2024-04-18T12:08:31.257Z"
   },
   {
    "duration": 44,
    "start_time": "2024-04-18T12:08:31.307Z"
   },
   {
    "duration": 39,
    "start_time": "2024-04-18T12:08:31.352Z"
   },
   {
    "duration": 54,
    "start_time": "2024-04-18T12:08:31.393Z"
   },
   {
    "duration": 61,
    "start_time": "2024-04-18T12:08:31.449Z"
   },
   {
    "duration": 47,
    "start_time": "2024-04-18T12:08:31.512Z"
   },
   {
    "duration": 89,
    "start_time": "2024-04-18T12:08:31.560Z"
   },
   {
    "duration": 170,
    "start_time": "2024-04-18T12:08:31.651Z"
   },
   {
    "duration": 53,
    "start_time": "2024-04-18T12:08:31.822Z"
   },
   {
    "duration": 40,
    "start_time": "2024-04-18T12:08:31.877Z"
   },
   {
    "duration": 43,
    "start_time": "2024-04-18T12:08:31.919Z"
   },
   {
    "duration": 54,
    "start_time": "2024-04-18T12:08:31.964Z"
   },
   {
    "duration": 89,
    "start_time": "2024-04-18T12:08:32.020Z"
   },
   {
    "duration": 17,
    "start_time": "2024-04-18T12:08:32.110Z"
   },
   {
    "duration": 225,
    "start_time": "2024-04-18T12:08:32.128Z"
   },
   {
    "duration": 335,
    "start_time": "2024-04-18T12:08:32.354Z"
   },
   {
    "duration": 343,
    "start_time": "2024-04-18T12:08:32.691Z"
   },
   {
    "duration": 2,
    "start_time": "2024-04-18T12:08:33.035Z"
   },
   {
    "duration": 11,
    "start_time": "2024-04-18T12:08:33.039Z"
   },
   {
    "duration": 10,
    "start_time": "2024-04-18T12:08:33.052Z"
   },
   {
    "duration": 24,
    "start_time": "2024-04-18T12:08:33.063Z"
   },
   {
    "duration": 9,
    "start_time": "2024-04-18T12:08:33.088Z"
   },
   {
    "duration": 26,
    "start_time": "2024-04-18T12:08:33.098Z"
   },
   {
    "duration": 6,
    "start_time": "2024-04-18T12:08:33.126Z"
   },
   {
    "duration": 8,
    "start_time": "2024-04-18T12:08:33.133Z"
   },
   {
    "duration": 10,
    "start_time": "2024-04-18T12:08:33.142Z"
   },
   {
    "duration": 4,
    "start_time": "2024-04-18T12:08:33.153Z"
   },
   {
    "duration": 11,
    "start_time": "2024-04-18T12:08:33.158Z"
   },
   {
    "duration": 10,
    "start_time": "2024-04-18T12:08:33.170Z"
   },
   {
    "duration": 20,
    "start_time": "2024-04-18T12:08:33.182Z"
   },
   {
    "duration": 4,
    "start_time": "2024-04-18T12:08:33.207Z"
   },
   {
    "duration": 110,
    "start_time": "2024-04-18T12:08:33.212Z"
   },
   {
    "duration": 107,
    "start_time": "2024-04-18T12:08:33.324Z"
   },
   {
    "duration": 8,
    "start_time": "2024-04-18T12:08:33.432Z"
   },
   {
    "duration": 16,
    "start_time": "2024-04-18T12:08:33.442Z"
   },
   {
    "duration": 8,
    "start_time": "2024-04-18T12:08:33.459Z"
   },
   {
    "duration": 210,
    "start_time": "2024-04-18T12:08:33.469Z"
   },
   {
    "duration": 5,
    "start_time": "2024-04-18T12:08:33.680Z"
   },
   {
    "duration": 239,
    "start_time": "2024-04-18T12:08:33.687Z"
   },
   {
    "duration": 142,
    "start_time": "2024-04-18T12:08:33.928Z"
   },
   {
    "duration": 168,
    "start_time": "2024-04-18T12:08:34.071Z"
   },
   {
    "duration": 189,
    "start_time": "2024-04-18T12:08:34.240Z"
   },
   {
    "duration": 183,
    "start_time": "2024-04-18T12:08:34.430Z"
   },
   {
    "duration": 21,
    "start_time": "2024-04-18T12:08:34.615Z"
   },
   {
    "duration": 13,
    "start_time": "2024-04-18T12:08:34.638Z"
   },
   {
    "duration": 14,
    "start_time": "2024-04-18T12:08:34.653Z"
   },
   {
    "duration": 47,
    "start_time": "2024-04-18T12:08:34.669Z"
   },
   {
    "duration": 233,
    "start_time": "2024-04-18T12:08:34.718Z"
   },
   {
    "duration": 245,
    "start_time": "2024-04-18T12:08:34.953Z"
   },
   {
    "duration": 9,
    "start_time": "2024-04-18T12:08:35.200Z"
   },
   {
    "duration": 33,
    "start_time": "2024-04-18T12:08:35.210Z"
   },
   {
    "duration": 31,
    "start_time": "2024-04-18T12:08:35.245Z"
   },
   {
    "duration": 196,
    "start_time": "2024-04-18T12:08:35.277Z"
   },
   {
    "duration": 6,
    "start_time": "2024-04-18T12:08:35.475Z"
   },
   {
    "duration": 55,
    "start_time": "2024-04-18T12:08:35.482Z"
   },
   {
    "duration": 296,
    "start_time": "2024-04-18T12:08:35.539Z"
   },
   {
    "duration": 323,
    "start_time": "2024-04-18T12:08:35.836Z"
   },
   {
    "duration": 6,
    "start_time": "2024-04-18T12:08:36.161Z"
   },
   {
    "duration": 8,
    "start_time": "2024-04-18T12:08:36.168Z"
   },
   {
    "duration": 13,
    "start_time": "2024-04-18T12:08:36.177Z"
   },
   {
    "duration": 40,
    "start_time": "2024-04-18T12:08:36.191Z"
   },
   {
    "duration": 23,
    "start_time": "2024-04-18T12:08:36.233Z"
   },
   {
    "duration": 20,
    "start_time": "2024-04-18T12:08:36.258Z"
   },
   {
    "duration": 13,
    "start_time": "2024-04-18T12:08:36.279Z"
   },
   {
    "duration": 18,
    "start_time": "2024-04-18T12:08:36.293Z"
   },
   {
    "duration": 13,
    "start_time": "2024-04-18T12:08:36.312Z"
   },
   {
    "duration": 4,
    "start_time": "2024-04-18T12:33:05.976Z"
   },
   {
    "duration": 7,
    "start_time": "2024-04-18T12:33:19.682Z"
   },
   {
    "duration": 9,
    "start_time": "2024-04-18T12:34:52.408Z"
   },
   {
    "duration": 7,
    "start_time": "2024-04-18T12:35:00.945Z"
   },
   {
    "duration": 6,
    "start_time": "2024-04-18T12:35:10.149Z"
   },
   {
    "duration": 98,
    "start_time": "2024-04-18T12:35:41.098Z"
   },
   {
    "duration": 87,
    "start_time": "2024-04-18T12:35:49.894Z"
   },
   {
    "duration": 164,
    "start_time": "2024-04-18T12:35:59.398Z"
   },
   {
    "duration": 14,
    "start_time": "2024-04-18T12:36:03.473Z"
   },
   {
    "duration": 16,
    "start_time": "2024-04-18T12:38:57.370Z"
   },
   {
    "duration": 13,
    "start_time": "2024-04-18T12:39:15.659Z"
   },
   {
    "duration": 6,
    "start_time": "2024-04-18T12:39:49.781Z"
   },
   {
    "duration": 6,
    "start_time": "2024-04-18T12:47:22.991Z"
   },
   {
    "duration": 46,
    "start_time": "2024-04-18T12:50:00.534Z"
   },
   {
    "duration": 430,
    "start_time": "2024-04-18T12:50:57.495Z"
   },
   {
    "duration": 434,
    "start_time": "2024-04-18T12:50:57.927Z"
   },
   {
    "duration": 223,
    "start_time": "2024-04-18T12:50:58.363Z"
   },
   {
    "duration": 3,
    "start_time": "2024-04-18T12:50:58.587Z"
   },
   {
    "duration": 17,
    "start_time": "2024-04-18T12:50:58.591Z"
   },
   {
    "duration": 16,
    "start_time": "2024-04-18T12:50:58.610Z"
   },
   {
    "duration": 7,
    "start_time": "2024-04-18T12:50:58.628Z"
   },
   {
    "duration": 15,
    "start_time": "2024-04-18T12:50:58.636Z"
   },
   {
    "duration": 121,
    "start_time": "2024-04-18T12:50:58.652Z"
   },
   {
    "duration": 105,
    "start_time": "2024-04-18T12:50:58.777Z"
   },
   {
    "duration": 137,
    "start_time": "2024-04-18T12:50:58.884Z"
   },
   {
    "duration": 69,
    "start_time": "2024-04-18T12:50:59.023Z"
   },
   {
    "duration": 13,
    "start_time": "2024-04-18T12:50:59.093Z"
   },
   {
    "duration": 9,
    "start_time": "2024-04-18T12:50:59.107Z"
   },
   {
    "duration": 8,
    "start_time": "2024-04-18T12:50:59.117Z"
   },
   {
    "duration": 15,
    "start_time": "2024-04-18T12:50:59.127Z"
   },
   {
    "duration": 19,
    "start_time": "2024-04-18T12:50:59.143Z"
   },
   {
    "duration": 9,
    "start_time": "2024-04-18T12:50:59.164Z"
   },
   {
    "duration": 6,
    "start_time": "2024-04-18T12:50:59.174Z"
   },
   {
    "duration": 11,
    "start_time": "2024-04-18T12:50:59.181Z"
   },
   {
    "duration": 5,
    "start_time": "2024-04-18T12:50:59.208Z"
   },
   {
    "duration": 18,
    "start_time": "2024-04-18T12:50:59.214Z"
   },
   {
    "duration": 18,
    "start_time": "2024-04-18T12:50:59.234Z"
   },
   {
    "duration": 15,
    "start_time": "2024-04-18T12:50:59.253Z"
   },
   {
    "duration": 265,
    "start_time": "2024-04-18T12:50:59.270Z"
   },
   {
    "duration": 366,
    "start_time": "2024-04-18T12:50:59.537Z"
   },
   {
    "duration": 379,
    "start_time": "2024-04-18T12:50:59.908Z"
   },
   {
    "duration": 3,
    "start_time": "2024-04-18T12:51:00.292Z"
   },
   {
    "duration": 63,
    "start_time": "2024-04-18T12:51:00.296Z"
   },
   {
    "duration": 93,
    "start_time": "2024-04-18T12:51:00.361Z"
   },
   {
    "duration": 117,
    "start_time": "2024-04-18T12:51:00.455Z"
   },
   {
    "duration": 135,
    "start_time": "2024-04-18T12:51:00.573Z"
   },
   {
    "duration": 122,
    "start_time": "2024-04-18T12:51:00.709Z"
   },
   {
    "duration": 103,
    "start_time": "2024-04-18T12:51:00.832Z"
   },
   {
    "duration": 55,
    "start_time": "2024-04-18T12:51:00.936Z"
   },
   {
    "duration": 94,
    "start_time": "2024-04-18T12:51:00.992Z"
   },
   {
    "duration": 189,
    "start_time": "2024-04-18T12:51:01.088Z"
   },
   {
    "duration": 79,
    "start_time": "2024-04-18T12:51:01.279Z"
   },
   {
    "duration": 100,
    "start_time": "2024-04-18T12:51:01.360Z"
   },
   {
    "duration": 77,
    "start_time": "2024-04-18T12:51:01.461Z"
   },
   {
    "duration": 89,
    "start_time": "2024-04-18T12:51:01.540Z"
   },
   {
    "duration": 181,
    "start_time": "2024-04-18T12:51:01.631Z"
   },
   {
    "duration": 118,
    "start_time": "2024-04-18T12:51:01.814Z"
   },
   {
    "duration": 8,
    "start_time": "2024-04-18T12:51:01.934Z"
   },
   {
    "duration": 26,
    "start_time": "2024-04-18T12:51:01.943Z"
   },
   {
    "duration": 47,
    "start_time": "2024-04-18T12:51:01.970Z"
   },
   {
    "duration": 232,
    "start_time": "2024-04-18T12:51:02.018Z"
   },
   {
    "duration": 5,
    "start_time": "2024-04-18T12:51:02.252Z"
   },
   {
    "duration": 280,
    "start_time": "2024-04-18T12:51:02.258Z"
   },
   {
    "duration": 143,
    "start_time": "2024-04-18T12:51:02.539Z"
   },
   {
    "duration": 191,
    "start_time": "2024-04-18T12:51:02.684Z"
   },
   {
    "duration": 204,
    "start_time": "2024-04-18T12:51:02.876Z"
   },
   {
    "duration": 208,
    "start_time": "2024-04-18T12:51:03.081Z"
   },
   {
    "duration": 108,
    "start_time": "2024-04-18T12:51:03.290Z"
   },
   {
    "duration": 0,
    "start_time": "2024-04-18T12:51:03.399Z"
   },
   {
    "duration": 0,
    "start_time": "2024-04-18T12:51:03.401Z"
   },
   {
    "duration": 0,
    "start_time": "2024-04-18T12:51:03.402Z"
   },
   {
    "duration": 0,
    "start_time": "2024-04-18T12:51:03.408Z"
   },
   {
    "duration": 0,
    "start_time": "2024-04-18T12:51:03.409Z"
   },
   {
    "duration": 0,
    "start_time": "2024-04-18T12:51:03.411Z"
   },
   {
    "duration": 0,
    "start_time": "2024-04-18T12:51:03.411Z"
   },
   {
    "duration": 0,
    "start_time": "2024-04-18T12:51:03.413Z"
   },
   {
    "duration": 0,
    "start_time": "2024-04-18T12:51:03.414Z"
   },
   {
    "duration": 0,
    "start_time": "2024-04-18T12:51:03.415Z"
   },
   {
    "duration": 0,
    "start_time": "2024-04-18T12:51:03.416Z"
   },
   {
    "duration": 0,
    "start_time": "2024-04-18T12:51:03.417Z"
   },
   {
    "duration": 0,
    "start_time": "2024-04-18T12:51:03.418Z"
   },
   {
    "duration": 0,
    "start_time": "2024-04-18T12:51:03.419Z"
   },
   {
    "duration": 0,
    "start_time": "2024-04-18T12:51:03.420Z"
   },
   {
    "duration": 0,
    "start_time": "2024-04-18T12:51:03.421Z"
   },
   {
    "duration": 0,
    "start_time": "2024-04-18T12:51:03.422Z"
   },
   {
    "duration": 0,
    "start_time": "2024-04-18T12:51:03.423Z"
   },
   {
    "duration": 0,
    "start_time": "2024-04-18T12:51:03.424Z"
   },
   {
    "duration": 0,
    "start_time": "2024-04-18T12:51:03.426Z"
   },
   {
    "duration": 0,
    "start_time": "2024-04-18T12:51:03.426Z"
   },
   {
    "duration": 0,
    "start_time": "2024-04-18T12:51:03.428Z"
   },
   {
    "duration": 0,
    "start_time": "2024-04-18T12:51:03.429Z"
   },
   {
    "duration": 14,
    "start_time": "2024-04-18T12:53:50.176Z"
   },
   {
    "duration": 12,
    "start_time": "2024-04-18T12:58:26.278Z"
   },
   {
    "duration": 23,
    "start_time": "2024-04-18T12:58:41.718Z"
   },
   {
    "duration": 814,
    "start_time": "2024-04-18T13:01:24.772Z"
   },
   {
    "duration": 545,
    "start_time": "2024-04-18T13:02:32.160Z"
   },
   {
    "duration": 462,
    "start_time": "2024-04-18T13:03:39.706Z"
   },
   {
    "duration": 488,
    "start_time": "2024-04-18T13:04:51.369Z"
   },
   {
    "duration": 509,
    "start_time": "2024-04-18T13:04:56.744Z"
   },
   {
    "duration": 8,
    "start_time": "2024-04-18T13:26:22.281Z"
   },
   {
    "duration": 14,
    "start_time": "2024-04-18T13:26:39.211Z"
   },
   {
    "duration": 17,
    "start_time": "2024-04-18T14:39:59.661Z"
   },
   {
    "duration": 14,
    "start_time": "2024-04-18T14:48:36.736Z"
   },
   {
    "duration": 12,
    "start_time": "2024-04-18T14:48:46.846Z"
   },
   {
    "duration": 429,
    "start_time": "2024-04-18T14:52:00.614Z"
   },
   {
    "duration": 472,
    "start_time": "2024-04-18T14:52:01.044Z"
   },
   {
    "duration": 220,
    "start_time": "2024-04-18T14:52:01.517Z"
   },
   {
    "duration": 3,
    "start_time": "2024-04-18T14:52:01.739Z"
   },
   {
    "duration": 67,
    "start_time": "2024-04-18T14:52:01.743Z"
   },
   {
    "duration": 65,
    "start_time": "2024-04-18T14:52:01.812Z"
   },
   {
    "duration": 119,
    "start_time": "2024-04-18T14:52:01.880Z"
   },
   {
    "duration": 47,
    "start_time": "2024-04-18T14:52:02.001Z"
   },
   {
    "duration": 161,
    "start_time": "2024-04-18T14:52:02.050Z"
   },
   {
    "duration": 29,
    "start_time": "2024-04-18T14:52:02.214Z"
   },
   {
    "duration": 29,
    "start_time": "2024-04-18T14:52:02.244Z"
   },
   {
    "duration": 15,
    "start_time": "2024-04-18T14:52:02.274Z"
   },
   {
    "duration": 17,
    "start_time": "2024-04-18T14:52:02.291Z"
   },
   {
    "duration": 28,
    "start_time": "2024-04-18T14:52:02.309Z"
   },
   {
    "duration": 20,
    "start_time": "2024-04-18T14:52:02.339Z"
   },
   {
    "duration": 13,
    "start_time": "2024-04-18T14:52:02.361Z"
   },
   {
    "duration": 34,
    "start_time": "2024-04-18T14:52:02.375Z"
   },
   {
    "duration": 21,
    "start_time": "2024-04-18T14:52:02.410Z"
   },
   {
    "duration": 16,
    "start_time": "2024-04-18T14:52:02.433Z"
   },
   {
    "duration": 12,
    "start_time": "2024-04-18T14:52:02.451Z"
   },
   {
    "duration": 4,
    "start_time": "2024-04-18T14:52:02.465Z"
   },
   {
    "duration": 38,
    "start_time": "2024-04-18T14:52:02.471Z"
   },
   {
    "duration": 54,
    "start_time": "2024-04-18T14:52:02.511Z"
   },
   {
    "duration": 23,
    "start_time": "2024-04-18T14:52:02.567Z"
   },
   {
    "duration": 290,
    "start_time": "2024-04-18T14:52:02.591Z"
   },
   {
    "duration": 378,
    "start_time": "2024-04-18T14:52:02.883Z"
   },
   {
    "duration": 365,
    "start_time": "2024-04-18T14:52:03.262Z"
   },
   {
    "duration": 2,
    "start_time": "2024-04-18T14:52:03.631Z"
   },
   {
    "duration": 12,
    "start_time": "2024-04-18T14:52:03.634Z"
   },
   {
    "duration": 27,
    "start_time": "2024-04-18T14:52:03.648Z"
   },
   {
    "duration": 33,
    "start_time": "2024-04-18T14:52:03.676Z"
   },
   {
    "duration": 54,
    "start_time": "2024-04-18T14:52:03.710Z"
   },
   {
    "duration": 20,
    "start_time": "2024-04-18T14:52:03.766Z"
   },
   {
    "duration": 12,
    "start_time": "2024-04-18T14:52:03.787Z"
   },
   {
    "duration": 14,
    "start_time": "2024-04-18T14:52:03.801Z"
   },
   {
    "duration": 39,
    "start_time": "2024-04-18T14:52:03.816Z"
   },
   {
    "duration": 8,
    "start_time": "2024-04-18T14:52:03.856Z"
   },
   {
    "duration": 24,
    "start_time": "2024-04-18T14:52:03.865Z"
   },
   {
    "duration": 10,
    "start_time": "2024-04-18T14:52:03.890Z"
   },
   {
    "duration": 13,
    "start_time": "2024-04-18T14:52:03.901Z"
   },
   {
    "duration": 22,
    "start_time": "2024-04-18T14:52:03.916Z"
   },
   {
    "duration": 110,
    "start_time": "2024-04-18T14:52:03.940Z"
   },
   {
    "duration": 111,
    "start_time": "2024-04-18T14:52:04.052Z"
   },
   {
    "duration": 8,
    "start_time": "2024-04-18T14:52:04.164Z"
   },
   {
    "duration": 20,
    "start_time": "2024-04-18T14:52:04.173Z"
   },
   {
    "duration": 8,
    "start_time": "2024-04-18T14:52:04.194Z"
   },
   {
    "duration": 205,
    "start_time": "2024-04-18T14:52:04.208Z"
   },
   {
    "duration": 6,
    "start_time": "2024-04-18T14:52:04.414Z"
   },
   {
    "duration": 286,
    "start_time": "2024-04-18T14:52:04.421Z"
   },
   {
    "duration": 145,
    "start_time": "2024-04-18T14:52:04.708Z"
   },
   {
    "duration": 193,
    "start_time": "2024-04-18T14:52:04.854Z"
   },
   {
    "duration": 211,
    "start_time": "2024-04-18T14:52:05.049Z"
   },
   {
    "duration": 220,
    "start_time": "2024-04-18T14:52:05.262Z"
   },
   {
    "duration": 630,
    "start_time": "2024-04-18T14:52:05.483Z"
   },
   {
    "duration": 15,
    "start_time": "2024-04-18T14:52:06.114Z"
   },
   {
    "duration": 40,
    "start_time": "2024-04-18T14:52:06.130Z"
   },
   {
    "duration": 87,
    "start_time": "2024-04-18T14:52:06.171Z"
   },
   {
    "duration": 18,
    "start_time": "2024-04-18T14:52:06.259Z"
   },
   {
    "duration": 42,
    "start_time": "2024-04-18T14:52:06.279Z"
   },
   {
    "duration": 43,
    "start_time": "2024-04-18T14:52:06.323Z"
   },
   {
    "duration": 243,
    "start_time": "2024-04-18T14:52:06.368Z"
   },
   {
    "duration": 339,
    "start_time": "2024-04-18T14:52:06.613Z"
   },
   {
    "duration": 4,
    "start_time": "2024-04-18T14:52:06.953Z"
   },
   {
    "duration": 33,
    "start_time": "2024-04-18T14:52:06.959Z"
   },
   {
    "duration": 35,
    "start_time": "2024-04-18T14:52:06.993Z"
   },
   {
    "duration": 201,
    "start_time": "2024-04-18T14:52:07.030Z"
   },
   {
    "duration": 7,
    "start_time": "2024-04-18T14:52:07.233Z"
   },
   {
    "duration": 47,
    "start_time": "2024-04-18T14:52:07.241Z"
   },
   {
    "duration": 323,
    "start_time": "2024-04-18T14:52:07.289Z"
   },
   {
    "duration": 290,
    "start_time": "2024-04-18T14:52:07.614Z"
   },
   {
    "duration": 5,
    "start_time": "2024-04-18T14:52:07.906Z"
   },
   {
    "duration": 8,
    "start_time": "2024-04-18T14:52:07.913Z"
   },
   {
    "duration": 5,
    "start_time": "2024-04-18T14:52:07.922Z"
   },
   {
    "duration": 7,
    "start_time": "2024-04-18T14:52:07.928Z"
   },
   {
    "duration": 6,
    "start_time": "2024-04-18T14:52:07.936Z"
   },
   {
    "duration": 36,
    "start_time": "2024-04-18T14:52:07.944Z"
   },
   {
    "duration": 6,
    "start_time": "2024-04-18T14:52:07.982Z"
   },
   {
    "duration": 19,
    "start_time": "2024-04-18T14:52:07.990Z"
   },
   {
    "duration": 40,
    "start_time": "2024-04-18T14:52:08.010Z"
   },
   {
    "duration": 380,
    "start_time": "2024-04-18T15:01:18.051Z"
   },
   {
    "duration": 448,
    "start_time": "2024-04-18T15:01:18.433Z"
   },
   {
    "duration": 212,
    "start_time": "2024-04-18T15:01:18.883Z"
   },
   {
    "duration": 3,
    "start_time": "2024-04-18T15:01:19.097Z"
   },
   {
    "duration": 14,
    "start_time": "2024-04-18T15:01:19.101Z"
   },
   {
    "duration": 22,
    "start_time": "2024-04-18T15:01:19.116Z"
   },
   {
    "duration": 14,
    "start_time": "2024-04-18T15:01:19.140Z"
   },
   {
    "duration": 40,
    "start_time": "2024-04-18T15:01:19.156Z"
   },
   {
    "duration": 110,
    "start_time": "2024-04-18T15:01:19.198Z"
   },
   {
    "duration": 30,
    "start_time": "2024-04-18T15:01:19.311Z"
   },
   {
    "duration": 37,
    "start_time": "2024-04-18T15:01:19.342Z"
   },
   {
    "duration": 16,
    "start_time": "2024-04-18T15:01:19.380Z"
   },
   {
    "duration": 13,
    "start_time": "2024-04-18T15:01:19.398Z"
   },
   {
    "duration": 14,
    "start_time": "2024-04-18T15:01:19.413Z"
   },
   {
    "duration": 16,
    "start_time": "2024-04-18T15:01:19.429Z"
   },
   {
    "duration": 37,
    "start_time": "2024-04-18T15:01:19.446Z"
   },
   {
    "duration": 23,
    "start_time": "2024-04-18T15:01:19.485Z"
   },
   {
    "duration": 15,
    "start_time": "2024-04-18T15:01:19.510Z"
   },
   {
    "duration": 12,
    "start_time": "2024-04-18T15:01:19.526Z"
   },
   {
    "duration": 11,
    "start_time": "2024-04-18T15:01:19.539Z"
   },
   {
    "duration": 9,
    "start_time": "2024-04-18T15:01:19.552Z"
   },
   {
    "duration": 33,
    "start_time": "2024-04-18T15:01:19.562Z"
   },
   {
    "duration": 16,
    "start_time": "2024-04-18T15:01:19.597Z"
   },
   {
    "duration": 13,
    "start_time": "2024-04-18T15:01:19.615Z"
   },
   {
    "duration": 251,
    "start_time": "2024-04-18T15:01:19.630Z"
   },
   {
    "duration": 342,
    "start_time": "2024-04-18T15:01:19.883Z"
   },
   {
    "duration": 325,
    "start_time": "2024-04-18T15:01:20.226Z"
   },
   {
    "duration": 3,
    "start_time": "2024-04-18T15:01:20.555Z"
   },
   {
    "duration": 19,
    "start_time": "2024-04-18T15:01:20.559Z"
   },
   {
    "duration": 12,
    "start_time": "2024-04-18T15:01:20.580Z"
   },
   {
    "duration": 9,
    "start_time": "2024-04-18T15:01:20.594Z"
   },
   {
    "duration": 13,
    "start_time": "2024-04-18T15:01:20.605Z"
   },
   {
    "duration": 11,
    "start_time": "2024-04-18T15:01:20.619Z"
   },
   {
    "duration": 7,
    "start_time": "2024-04-18T15:01:20.632Z"
   },
   {
    "duration": 14,
    "start_time": "2024-04-18T15:01:20.640Z"
   },
   {
    "duration": 14,
    "start_time": "2024-04-18T15:01:20.656Z"
   },
   {
    "duration": 5,
    "start_time": "2024-04-18T15:01:20.671Z"
   },
   {
    "duration": 9,
    "start_time": "2024-04-18T15:01:20.677Z"
   },
   {
    "duration": 5,
    "start_time": "2024-04-18T15:01:20.687Z"
   },
   {
    "duration": 9,
    "start_time": "2024-04-18T15:01:20.693Z"
   },
   {
    "duration": 8,
    "start_time": "2024-04-18T15:01:20.703Z"
   },
   {
    "duration": 108,
    "start_time": "2024-04-18T15:01:20.712Z"
   },
   {
    "duration": 105,
    "start_time": "2024-04-18T15:01:20.821Z"
   },
   {
    "duration": 8,
    "start_time": "2024-04-18T15:01:20.927Z"
   },
   {
    "duration": 24,
    "start_time": "2024-04-18T15:01:20.936Z"
   },
   {
    "duration": 20,
    "start_time": "2024-04-18T15:01:20.962Z"
   },
   {
    "duration": 186,
    "start_time": "2024-04-18T15:01:20.983Z"
   },
   {
    "duration": 4,
    "start_time": "2024-04-18T15:01:21.171Z"
   },
   {
    "duration": 239,
    "start_time": "2024-04-18T15:01:21.177Z"
   },
   {
    "duration": 134,
    "start_time": "2024-04-18T15:01:21.417Z"
   },
   {
    "duration": 202,
    "start_time": "2024-04-18T15:01:21.552Z"
   },
   {
    "duration": 206,
    "start_time": "2024-04-18T15:01:21.756Z"
   },
   {
    "duration": 190,
    "start_time": "2024-04-18T15:01:21.964Z"
   },
   {
    "duration": 591,
    "start_time": "2024-04-18T15:01:22.155Z"
   },
   {
    "duration": 13,
    "start_time": "2024-04-18T15:01:22.747Z"
   },
   {
    "duration": 27,
    "start_time": "2024-04-18T15:01:22.761Z"
   },
   {
    "duration": 24,
    "start_time": "2024-04-18T15:01:22.790Z"
   },
   {
    "duration": 12,
    "start_time": "2024-04-18T15:01:22.816Z"
   },
   {
    "duration": 20,
    "start_time": "2024-04-18T15:01:22.830Z"
   },
   {
    "duration": 23,
    "start_time": "2024-04-18T15:01:22.852Z"
   },
   {
    "duration": 258,
    "start_time": "2024-04-18T15:01:22.877Z"
   },
   {
    "duration": 335,
    "start_time": "2024-04-18T15:01:23.137Z"
   },
   {
    "duration": 3,
    "start_time": "2024-04-18T15:01:23.474Z"
   },
   {
    "duration": 47,
    "start_time": "2024-04-18T15:01:23.479Z"
   },
   {
    "duration": 28,
    "start_time": "2024-04-18T15:01:23.528Z"
   },
   {
    "duration": 212,
    "start_time": "2024-04-18T15:01:23.557Z"
   },
   {
    "duration": 7,
    "start_time": "2024-04-18T15:01:23.770Z"
   },
   {
    "duration": 56,
    "start_time": "2024-04-18T15:01:23.778Z"
   },
   {
    "duration": 318,
    "start_time": "2024-04-18T15:01:23.836Z"
   },
   {
    "duration": 267,
    "start_time": "2024-04-18T15:01:24.155Z"
   },
   {
    "duration": 5,
    "start_time": "2024-04-18T15:01:24.423Z"
   },
   {
    "duration": 12,
    "start_time": "2024-04-18T15:01:24.429Z"
   },
   {
    "duration": 12,
    "start_time": "2024-04-18T15:01:24.442Z"
   },
   {
    "duration": 29,
    "start_time": "2024-04-18T15:01:24.455Z"
   },
   {
    "duration": 26,
    "start_time": "2024-04-18T15:01:24.486Z"
   },
   {
    "duration": 8,
    "start_time": "2024-04-18T15:01:24.514Z"
   },
   {
    "duration": 14,
    "start_time": "2024-04-18T15:01:24.523Z"
   },
   {
    "duration": 28,
    "start_time": "2024-04-18T15:01:24.539Z"
   },
   {
    "duration": 48,
    "start_time": "2024-04-18T15:01:24.569Z"
   },
   {
    "duration": 461,
    "start_time": "2024-04-18T17:46:04.000Z"
   },
   {
    "duration": 486,
    "start_time": "2024-04-18T17:46:04.464Z"
   },
   {
    "duration": 387,
    "start_time": "2024-04-18T17:46:04.951Z"
   },
   {
    "duration": 3,
    "start_time": "2024-04-18T17:46:05.339Z"
   },
   {
    "duration": 25,
    "start_time": "2024-04-18T17:46:05.344Z"
   },
   {
    "duration": 26,
    "start_time": "2024-04-18T17:46:05.371Z"
   },
   {
    "duration": 15,
    "start_time": "2024-04-18T17:46:05.398Z"
   },
   {
    "duration": 8,
    "start_time": "2024-04-18T17:46:05.415Z"
   },
   {
    "duration": 121,
    "start_time": "2024-04-18T17:46:05.424Z"
   },
   {
    "duration": 107,
    "start_time": "2024-04-18T17:46:05.546Z"
   },
   {
    "duration": 134,
    "start_time": "2024-04-18T17:46:05.656Z"
   },
   {
    "duration": 67,
    "start_time": "2024-04-18T17:46:05.792Z"
   },
   {
    "duration": 14,
    "start_time": "2024-04-18T17:46:05.860Z"
   },
   {
    "duration": 9,
    "start_time": "2024-04-18T17:46:05.877Z"
   },
   {
    "duration": 12,
    "start_time": "2024-04-18T17:46:05.888Z"
   },
   {
    "duration": 15,
    "start_time": "2024-04-18T17:46:05.902Z"
   },
   {
    "duration": 15,
    "start_time": "2024-04-18T17:46:05.919Z"
   },
   {
    "duration": 10,
    "start_time": "2024-04-18T17:46:05.936Z"
   },
   {
    "duration": 21,
    "start_time": "2024-04-18T17:46:05.948Z"
   },
   {
    "duration": 21,
    "start_time": "2024-04-18T17:46:05.971Z"
   },
   {
    "duration": 6,
    "start_time": "2024-04-18T17:46:05.994Z"
   },
   {
    "duration": 18,
    "start_time": "2024-04-18T17:46:06.002Z"
   },
   {
    "duration": 18,
    "start_time": "2024-04-18T17:46:06.021Z"
   },
   {
    "duration": 53,
    "start_time": "2024-04-18T17:46:06.041Z"
   },
   {
    "duration": 258,
    "start_time": "2024-04-18T17:46:06.095Z"
   },
   {
    "duration": 365,
    "start_time": "2024-04-18T17:46:06.355Z"
   },
   {
    "duration": 357,
    "start_time": "2024-04-18T17:46:06.722Z"
   },
   {
    "duration": 2,
    "start_time": "2024-04-18T17:46:07.080Z"
   },
   {
    "duration": 3,
    "start_time": "2024-04-18T17:46:07.091Z"
   },
   {
    "duration": 9,
    "start_time": "2024-04-18T17:46:07.096Z"
   },
   {
    "duration": 8,
    "start_time": "2024-04-18T17:46:07.106Z"
   },
   {
    "duration": 8,
    "start_time": "2024-04-18T17:46:07.116Z"
   },
   {
    "duration": 12,
    "start_time": "2024-04-18T17:46:07.125Z"
   },
   {
    "duration": 10,
    "start_time": "2024-04-18T17:46:07.139Z"
   },
   {
    "duration": 18,
    "start_time": "2024-04-18T17:46:07.150Z"
   },
   {
    "duration": 30,
    "start_time": "2024-04-18T17:46:07.169Z"
   },
   {
    "duration": 5,
    "start_time": "2024-04-18T17:46:07.200Z"
   },
   {
    "duration": 8,
    "start_time": "2024-04-18T17:46:07.207Z"
   },
   {
    "duration": 8,
    "start_time": "2024-04-18T17:46:07.216Z"
   },
   {
    "duration": 9,
    "start_time": "2024-04-18T17:46:07.225Z"
   },
   {
    "duration": 6,
    "start_time": "2024-04-18T17:46:07.238Z"
   },
   {
    "duration": 153,
    "start_time": "2024-04-18T17:46:07.245Z"
   },
   {
    "duration": 113,
    "start_time": "2024-04-18T17:46:07.400Z"
   },
   {
    "duration": 8,
    "start_time": "2024-04-18T17:46:07.515Z"
   },
   {
    "duration": 12,
    "start_time": "2024-04-18T17:46:07.524Z"
   },
   {
    "duration": 11,
    "start_time": "2024-04-18T17:46:07.537Z"
   },
   {
    "duration": 223,
    "start_time": "2024-04-18T17:46:07.549Z"
   },
   {
    "duration": 6,
    "start_time": "2024-04-18T17:46:07.773Z"
   },
   {
    "duration": 265,
    "start_time": "2024-04-18T17:46:07.780Z"
   },
   {
    "duration": 155,
    "start_time": "2024-04-18T17:46:08.047Z"
   },
   {
    "duration": 220,
    "start_time": "2024-04-18T17:46:08.204Z"
   },
   {
    "duration": 219,
    "start_time": "2024-04-18T17:46:08.425Z"
   },
   {
    "duration": 225,
    "start_time": "2024-04-18T17:46:08.645Z"
   },
   {
    "duration": 655,
    "start_time": "2024-04-18T17:46:08.872Z"
   },
   {
    "duration": 15,
    "start_time": "2024-04-18T17:46:09.529Z"
   },
   {
    "duration": 19,
    "start_time": "2024-04-18T17:46:09.545Z"
   },
   {
    "duration": 37,
    "start_time": "2024-04-18T17:46:09.565Z"
   },
   {
    "duration": 13,
    "start_time": "2024-04-18T17:46:09.603Z"
   },
   {
    "duration": 15,
    "start_time": "2024-04-18T17:46:09.618Z"
   },
   {
    "duration": 17,
    "start_time": "2024-04-18T17:46:09.634Z"
   },
   {
    "duration": 321,
    "start_time": "2024-04-18T17:46:09.653Z"
   },
   {
    "duration": 386,
    "start_time": "2024-04-18T17:46:09.975Z"
   },
   {
    "duration": 4,
    "start_time": "2024-04-18T17:46:10.362Z"
   },
   {
    "duration": 42,
    "start_time": "2024-04-18T17:46:10.368Z"
   },
   {
    "duration": 26,
    "start_time": "2024-04-18T17:46:10.411Z"
   },
   {
    "duration": 218,
    "start_time": "2024-04-18T17:46:10.438Z"
   },
   {
    "duration": 8,
    "start_time": "2024-04-18T17:46:10.658Z"
   },
   {
    "duration": 58,
    "start_time": "2024-04-18T17:46:10.667Z"
   },
   {
    "duration": 343,
    "start_time": "2024-04-18T17:46:10.727Z"
   },
   {
    "duration": 297,
    "start_time": "2024-04-18T17:46:11.072Z"
   },
   {
    "duration": 6,
    "start_time": "2024-04-18T17:46:11.370Z"
   },
   {
    "duration": 21,
    "start_time": "2024-04-18T17:46:11.378Z"
   },
   {
    "duration": 5,
    "start_time": "2024-04-18T17:46:11.401Z"
   },
   {
    "duration": 6,
    "start_time": "2024-04-18T17:46:11.408Z"
   },
   {
    "duration": 14,
    "start_time": "2024-04-18T17:46:11.416Z"
   },
   {
    "duration": 9,
    "start_time": "2024-04-18T17:46:11.432Z"
   },
   {
    "duration": 5,
    "start_time": "2024-04-18T17:46:11.443Z"
   },
   {
    "duration": 8,
    "start_time": "2024-04-18T17:46:11.449Z"
   },
   {
    "duration": 13,
    "start_time": "2024-04-18T17:46:11.458Z"
   },
   {
    "duration": 1412,
    "start_time": "2024-04-18T17:58:49.352Z"
   },
   {
    "duration": 4,
    "start_time": "2024-04-18T17:59:04.634Z"
   },
   {
    "duration": 9,
    "start_time": "2024-04-18T18:06:51.123Z"
   },
   {
    "duration": 1269,
    "start_time": "2024-04-18T18:07:34.392Z"
   },
   {
    "duration": 428,
    "start_time": "2024-04-18T18:07:48.699Z"
   },
   {
    "duration": 458,
    "start_time": "2024-04-18T18:07:49.129Z"
   },
   {
    "duration": 225,
    "start_time": "2024-04-18T18:07:49.588Z"
   },
   {
    "duration": 4,
    "start_time": "2024-04-18T18:07:49.815Z"
   },
   {
    "duration": 20,
    "start_time": "2024-04-18T18:07:49.820Z"
   },
   {
    "duration": 19,
    "start_time": "2024-04-18T18:07:49.842Z"
   },
   {
    "duration": 8,
    "start_time": "2024-04-18T18:07:49.864Z"
   },
   {
    "duration": 57,
    "start_time": "2024-04-18T18:07:49.873Z"
   },
   {
    "duration": 144,
    "start_time": "2024-04-18T18:07:49.932Z"
   },
   {
    "duration": 28,
    "start_time": "2024-04-18T18:07:50.078Z"
   },
   {
    "duration": 29,
    "start_time": "2024-04-18T18:07:50.108Z"
   },
   {
    "duration": 14,
    "start_time": "2024-04-18T18:07:50.139Z"
   },
   {
    "duration": 23,
    "start_time": "2024-04-18T18:07:50.155Z"
   },
   {
    "duration": 15,
    "start_time": "2024-04-18T18:07:50.180Z"
   },
   {
    "duration": 14,
    "start_time": "2024-04-18T18:07:50.197Z"
   },
   {
    "duration": 26,
    "start_time": "2024-04-18T18:07:50.213Z"
   },
   {
    "duration": 32,
    "start_time": "2024-04-18T18:07:50.241Z"
   },
   {
    "duration": 11,
    "start_time": "2024-04-18T18:07:50.275Z"
   },
   {
    "duration": 26,
    "start_time": "2024-04-18T18:07:50.288Z"
   },
   {
    "duration": 45,
    "start_time": "2024-04-18T18:07:50.316Z"
   },
   {
    "duration": 10,
    "start_time": "2024-04-18T18:07:50.362Z"
   },
   {
    "duration": 19,
    "start_time": "2024-04-18T18:07:50.373Z"
   },
   {
    "duration": 26,
    "start_time": "2024-04-18T18:07:50.393Z"
   },
   {
    "duration": 19,
    "start_time": "2024-04-18T18:07:50.421Z"
   },
   {
    "duration": 277,
    "start_time": "2024-04-18T18:07:50.442Z"
   },
   {
    "duration": 381,
    "start_time": "2024-04-18T18:07:50.721Z"
   },
   {
    "duration": 397,
    "start_time": "2024-04-18T18:07:51.103Z"
   },
   {
    "duration": 3,
    "start_time": "2024-04-18T18:07:51.504Z"
   },
   {
    "duration": 10,
    "start_time": "2024-04-18T18:07:51.508Z"
   },
   {
    "duration": 12,
    "start_time": "2024-04-18T18:07:51.520Z"
   },
   {
    "duration": 15,
    "start_time": "2024-04-18T18:07:51.533Z"
   },
   {
    "duration": 10,
    "start_time": "2024-04-18T18:07:51.550Z"
   },
   {
    "duration": 4,
    "start_time": "2024-04-18T18:07:51.562Z"
   },
   {
    "duration": 4,
    "start_time": "2024-04-18T18:07:51.568Z"
   },
   {
    "duration": 13,
    "start_time": "2024-04-18T18:07:51.574Z"
   },
   {
    "duration": 33,
    "start_time": "2024-04-18T18:07:51.588Z"
   },
   {
    "duration": 5,
    "start_time": "2024-04-18T18:07:51.623Z"
   },
   {
    "duration": 26,
    "start_time": "2024-04-18T18:07:51.629Z"
   },
   {
    "duration": 12,
    "start_time": "2024-04-18T18:07:51.657Z"
   },
   {
    "duration": 6,
    "start_time": "2024-04-18T18:07:51.671Z"
   },
   {
    "duration": 7,
    "start_time": "2024-04-18T18:07:51.679Z"
   },
   {
    "duration": 115,
    "start_time": "2024-04-18T18:07:51.687Z"
   },
   {
    "duration": 122,
    "start_time": "2024-04-18T18:07:51.804Z"
   },
   {
    "duration": 9,
    "start_time": "2024-04-18T18:07:51.928Z"
   },
   {
    "duration": 15,
    "start_time": "2024-04-18T18:07:51.939Z"
   },
   {
    "duration": 12,
    "start_time": "2024-04-18T18:07:51.956Z"
   },
   {
    "duration": 221,
    "start_time": "2024-04-18T18:07:51.970Z"
   },
   {
    "duration": 6,
    "start_time": "2024-04-18T18:07:52.193Z"
   },
   {
    "duration": 275,
    "start_time": "2024-04-18T18:07:52.201Z"
   },
   {
    "duration": 149,
    "start_time": "2024-04-18T18:07:52.478Z"
   },
   {
    "duration": 204,
    "start_time": "2024-04-18T18:07:52.629Z"
   },
   {
    "duration": 222,
    "start_time": "2024-04-18T18:07:52.835Z"
   },
   {
    "duration": 212,
    "start_time": "2024-04-18T18:07:53.059Z"
   },
   {
    "duration": 702,
    "start_time": "2024-04-18T18:07:53.273Z"
   },
   {
    "duration": 21,
    "start_time": "2024-04-18T18:07:53.977Z"
   },
   {
    "duration": 15,
    "start_time": "2024-04-18T18:07:54.000Z"
   },
   {
    "duration": 34,
    "start_time": "2024-04-18T18:07:54.017Z"
   },
   {
    "duration": 18,
    "start_time": "2024-04-18T18:07:54.053Z"
   },
   {
    "duration": 22,
    "start_time": "2024-04-18T18:07:54.072Z"
   },
   {
    "duration": 26,
    "start_time": "2024-04-18T18:07:54.096Z"
   },
   {
    "duration": 20,
    "start_time": "2024-04-18T18:07:54.123Z"
   },
   {
    "duration": 284,
    "start_time": "2024-04-18T18:07:54.145Z"
   },
   {
    "duration": 375,
    "start_time": "2024-04-18T18:07:54.431Z"
   },
   {
    "duration": 5,
    "start_time": "2024-04-18T18:07:54.808Z"
   },
   {
    "duration": 51,
    "start_time": "2024-04-18T18:07:54.814Z"
   },
   {
    "duration": 44,
    "start_time": "2024-04-18T18:07:54.867Z"
   },
   {
    "duration": 5,
    "start_time": "2024-04-18T18:07:54.913Z"
   },
   {
    "duration": 222,
    "start_time": "2024-04-18T18:07:54.919Z"
   },
   {
    "duration": 8,
    "start_time": "2024-04-18T18:07:55.143Z"
   },
   {
    "duration": 59,
    "start_time": "2024-04-18T18:07:55.153Z"
   },
   {
    "duration": 349,
    "start_time": "2024-04-18T18:07:55.214Z"
   },
   {
    "duration": 311,
    "start_time": "2024-04-18T18:07:55.564Z"
   },
   {
    "duration": 15,
    "start_time": "2024-04-18T18:07:55.877Z"
   },
   {
    "duration": 7,
    "start_time": "2024-04-18T18:07:55.894Z"
   },
   {
    "duration": 7,
    "start_time": "2024-04-18T18:07:55.903Z"
   },
   {
    "duration": 6,
    "start_time": "2024-04-18T18:07:55.911Z"
   },
   {
    "duration": 8,
    "start_time": "2024-04-18T18:07:55.919Z"
   },
   {
    "duration": 6,
    "start_time": "2024-04-18T18:07:55.928Z"
   },
   {
    "duration": 9,
    "start_time": "2024-04-18T18:07:55.936Z"
   },
   {
    "duration": 19,
    "start_time": "2024-04-18T18:07:55.947Z"
   },
   {
    "duration": 27,
    "start_time": "2024-04-18T18:07:55.968Z"
   },
   {
    "duration": 1406,
    "start_time": "2024-04-18T18:08:22.314Z"
   },
   {
    "duration": 455,
    "start_time": "2024-04-18T18:09:06.991Z"
   },
   {
    "duration": 493,
    "start_time": "2024-04-18T18:09:07.448Z"
   },
   {
    "duration": 234,
    "start_time": "2024-04-18T18:09:07.942Z"
   },
   {
    "duration": 2,
    "start_time": "2024-04-18T18:09:08.178Z"
   },
   {
    "duration": 10,
    "start_time": "2024-04-18T18:09:08.182Z"
   },
   {
    "duration": 5,
    "start_time": "2024-04-18T18:09:08.194Z"
   },
   {
    "duration": 7,
    "start_time": "2024-04-18T18:09:08.201Z"
   },
   {
    "duration": 6,
    "start_time": "2024-04-18T18:09:08.209Z"
   },
   {
    "duration": 118,
    "start_time": "2024-04-18T18:09:08.216Z"
   },
   {
    "duration": 28,
    "start_time": "2024-04-18T18:09:08.335Z"
   },
   {
    "duration": 29,
    "start_time": "2024-04-18T18:09:08.365Z"
   },
   {
    "duration": 14,
    "start_time": "2024-04-18T18:09:08.396Z"
   },
   {
    "duration": 13,
    "start_time": "2024-04-18T18:09:08.411Z"
   },
   {
    "duration": 9,
    "start_time": "2024-04-18T18:09:08.427Z"
   },
   {
    "duration": 19,
    "start_time": "2024-04-18T18:09:08.438Z"
   },
   {
    "duration": 20,
    "start_time": "2024-04-18T18:09:08.459Z"
   },
   {
    "duration": 18,
    "start_time": "2024-04-18T18:09:08.480Z"
   },
   {
    "duration": 10,
    "start_time": "2024-04-18T18:09:08.499Z"
   },
   {
    "duration": 6,
    "start_time": "2024-04-18T18:09:08.510Z"
   },
   {
    "duration": 8,
    "start_time": "2024-04-18T18:09:08.518Z"
   },
   {
    "duration": 4,
    "start_time": "2024-04-18T18:09:08.528Z"
   },
   {
    "duration": 14,
    "start_time": "2024-04-18T18:09:08.533Z"
   },
   {
    "duration": 52,
    "start_time": "2024-04-18T18:09:08.548Z"
   },
   {
    "duration": 17,
    "start_time": "2024-04-18T18:09:08.601Z"
   },
   {
    "duration": 260,
    "start_time": "2024-04-18T18:09:08.619Z"
   },
   {
    "duration": 375,
    "start_time": "2024-04-18T18:09:08.880Z"
   },
   {
    "duration": 358,
    "start_time": "2024-04-18T18:09:09.256Z"
   },
   {
    "duration": 3,
    "start_time": "2024-04-18T18:09:09.615Z"
   },
   {
    "duration": 31,
    "start_time": "2024-04-18T18:09:09.619Z"
   },
   {
    "duration": 21,
    "start_time": "2024-04-18T18:09:09.651Z"
   },
   {
    "duration": 36,
    "start_time": "2024-04-18T18:09:09.674Z"
   },
   {
    "duration": 17,
    "start_time": "2024-04-18T18:09:09.711Z"
   },
   {
    "duration": 15,
    "start_time": "2024-04-18T18:09:09.730Z"
   },
   {
    "duration": 10,
    "start_time": "2024-04-18T18:09:09.748Z"
   },
   {
    "duration": 21,
    "start_time": "2024-04-18T18:09:09.759Z"
   },
   {
    "duration": 13,
    "start_time": "2024-04-18T18:09:09.782Z"
   },
   {
    "duration": 6,
    "start_time": "2024-04-18T18:09:09.797Z"
   },
   {
    "duration": 18,
    "start_time": "2024-04-18T18:09:09.804Z"
   },
   {
    "duration": 38,
    "start_time": "2024-04-18T18:09:09.823Z"
   },
   {
    "duration": 21,
    "start_time": "2024-04-18T18:09:09.862Z"
   },
   {
    "duration": 23,
    "start_time": "2024-04-18T18:09:09.888Z"
   },
   {
    "duration": 136,
    "start_time": "2024-04-18T18:09:09.912Z"
   },
   {
    "duration": 126,
    "start_time": "2024-04-18T18:09:10.050Z"
   },
   {
    "duration": 15,
    "start_time": "2024-04-18T18:09:10.178Z"
   },
   {
    "duration": 11,
    "start_time": "2024-04-18T18:09:10.194Z"
   },
   {
    "duration": 11,
    "start_time": "2024-04-18T18:09:10.206Z"
   },
   {
    "duration": 218,
    "start_time": "2024-04-18T18:09:10.218Z"
   },
   {
    "duration": 7,
    "start_time": "2024-04-18T18:09:10.438Z"
   },
   {
    "duration": 268,
    "start_time": "2024-04-18T18:09:10.446Z"
   },
   {
    "duration": 151,
    "start_time": "2024-04-18T18:09:10.716Z"
   },
   {
    "duration": 196,
    "start_time": "2024-04-18T18:09:10.868Z"
   },
   {
    "duration": 223,
    "start_time": "2024-04-18T18:09:11.066Z"
   },
   {
    "duration": 211,
    "start_time": "2024-04-18T18:09:11.292Z"
   },
   {
    "duration": 698,
    "start_time": "2024-04-18T18:09:11.505Z"
   },
   {
    "duration": 14,
    "start_time": "2024-04-18T18:09:12.205Z"
   },
   {
    "duration": 32,
    "start_time": "2024-04-18T18:09:12.220Z"
   },
   {
    "duration": 29,
    "start_time": "2024-04-18T18:09:12.254Z"
   },
   {
    "duration": 14,
    "start_time": "2024-04-18T18:09:12.285Z"
   },
   {
    "duration": 5,
    "start_time": "2024-04-18T18:09:12.300Z"
   },
   {
    "duration": 19,
    "start_time": "2024-04-18T18:09:12.306Z"
   },
   {
    "duration": 46,
    "start_time": "2024-04-18T18:09:12.326Z"
   },
   {
    "duration": 425,
    "start_time": "2024-04-18T18:09:12.373Z"
   },
   {
    "duration": 370,
    "start_time": "2024-04-18T18:09:12.800Z"
   },
   {
    "duration": 4,
    "start_time": "2024-04-18T18:09:13.171Z"
   },
   {
    "duration": 73,
    "start_time": "2024-04-18T18:09:13.177Z"
   },
   {
    "duration": 124,
    "start_time": "2024-04-18T18:09:13.252Z"
   },
   {
    "duration": 34,
    "start_time": "2024-04-18T18:09:13.378Z"
   },
   {
    "duration": 1508,
    "start_time": "2024-04-18T18:09:13.414Z"
   },
   {
    "duration": 0,
    "start_time": "2024-04-18T18:09:14.924Z"
   },
   {
    "duration": 0,
    "start_time": "2024-04-18T18:09:14.925Z"
   },
   {
    "duration": 0,
    "start_time": "2024-04-18T18:09:14.926Z"
   },
   {
    "duration": 0,
    "start_time": "2024-04-18T18:09:14.927Z"
   },
   {
    "duration": 0,
    "start_time": "2024-04-18T18:09:14.928Z"
   },
   {
    "duration": 0,
    "start_time": "2024-04-18T18:09:14.929Z"
   },
   {
    "duration": 0,
    "start_time": "2024-04-18T18:09:14.929Z"
   },
   {
    "duration": 0,
    "start_time": "2024-04-18T18:09:14.930Z"
   },
   {
    "duration": 0,
    "start_time": "2024-04-18T18:09:14.931Z"
   },
   {
    "duration": 0,
    "start_time": "2024-04-18T18:09:14.932Z"
   },
   {
    "duration": 0,
    "start_time": "2024-04-18T18:09:14.933Z"
   },
   {
    "duration": 0,
    "start_time": "2024-04-18T18:09:14.934Z"
   },
   {
    "duration": 0,
    "start_time": "2024-04-18T18:09:14.935Z"
   },
   {
    "duration": 469,
    "start_time": "2024-04-18T18:10:35.972Z"
   },
   {
    "duration": 492,
    "start_time": "2024-04-18T18:10:36.443Z"
   },
   {
    "duration": 216,
    "start_time": "2024-04-18T18:10:36.936Z"
   },
   {
    "duration": 3,
    "start_time": "2024-04-18T18:10:37.154Z"
   },
   {
    "duration": 13,
    "start_time": "2024-04-18T18:10:37.159Z"
   },
   {
    "duration": 13,
    "start_time": "2024-04-18T18:10:37.173Z"
   },
   {
    "duration": 9,
    "start_time": "2024-04-18T18:10:37.188Z"
   },
   {
    "duration": 8,
    "start_time": "2024-04-18T18:10:37.199Z"
   },
   {
    "duration": 120,
    "start_time": "2024-04-18T18:10:37.208Z"
   },
   {
    "duration": 29,
    "start_time": "2024-04-18T18:10:37.330Z"
   },
   {
    "duration": 31,
    "start_time": "2024-04-18T18:10:37.360Z"
   },
   {
    "duration": 16,
    "start_time": "2024-04-18T18:10:37.392Z"
   },
   {
    "duration": 14,
    "start_time": "2024-04-18T18:10:37.409Z"
   },
   {
    "duration": 17,
    "start_time": "2024-04-18T18:10:37.425Z"
   },
   {
    "duration": 21,
    "start_time": "2024-04-18T18:10:37.443Z"
   },
   {
    "duration": 15,
    "start_time": "2024-04-18T18:10:37.465Z"
   },
   {
    "duration": 23,
    "start_time": "2024-04-18T18:10:37.482Z"
   },
   {
    "duration": 11,
    "start_time": "2024-04-18T18:10:37.507Z"
   },
   {
    "duration": 7,
    "start_time": "2024-04-18T18:10:37.520Z"
   },
   {
    "duration": 16,
    "start_time": "2024-04-18T18:10:37.529Z"
   },
   {
    "duration": 6,
    "start_time": "2024-04-18T18:10:37.546Z"
   },
   {
    "duration": 48,
    "start_time": "2024-04-18T18:10:37.554Z"
   },
   {
    "duration": 19,
    "start_time": "2024-04-18T18:10:37.604Z"
   },
   {
    "duration": 22,
    "start_time": "2024-04-18T18:10:37.625Z"
   },
   {
    "duration": 288,
    "start_time": "2024-04-18T18:10:37.649Z"
   },
   {
    "duration": 392,
    "start_time": "2024-04-18T18:10:37.939Z"
   },
   {
    "duration": 358,
    "start_time": "2024-04-18T18:10:38.333Z"
   },
   {
    "duration": 3,
    "start_time": "2024-04-18T18:10:38.695Z"
   },
   {
    "duration": 17,
    "start_time": "2024-04-18T18:10:38.700Z"
   },
   {
    "duration": 9,
    "start_time": "2024-04-18T18:10:38.719Z"
   },
   {
    "duration": 19,
    "start_time": "2024-04-18T18:10:38.730Z"
   },
   {
    "duration": 12,
    "start_time": "2024-04-18T18:10:38.751Z"
   },
   {
    "duration": 8,
    "start_time": "2024-04-18T18:10:38.764Z"
   },
   {
    "duration": 7,
    "start_time": "2024-04-18T18:10:38.774Z"
   },
   {
    "duration": 11,
    "start_time": "2024-04-18T18:10:38.783Z"
   },
   {
    "duration": 18,
    "start_time": "2024-04-18T18:10:38.795Z"
   },
   {
    "duration": 5,
    "start_time": "2024-04-18T18:10:38.815Z"
   },
   {
    "duration": 9,
    "start_time": "2024-04-18T18:10:38.822Z"
   },
   {
    "duration": 6,
    "start_time": "2024-04-18T18:10:38.833Z"
   },
   {
    "duration": 23,
    "start_time": "2024-04-18T18:10:38.841Z"
   },
   {
    "duration": 12,
    "start_time": "2024-04-18T18:10:38.866Z"
   },
   {
    "duration": 163,
    "start_time": "2024-04-18T18:10:38.892Z"
   },
   {
    "duration": 170,
    "start_time": "2024-04-18T18:10:39.056Z"
   },
   {
    "duration": 10,
    "start_time": "2024-04-18T18:10:39.227Z"
   },
   {
    "duration": 56,
    "start_time": "2024-04-18T18:10:39.239Z"
   },
   {
    "duration": 16,
    "start_time": "2024-04-18T18:10:39.296Z"
   },
   {
    "duration": 193,
    "start_time": "2024-04-18T18:10:39.314Z"
   },
   {
    "duration": 5,
    "start_time": "2024-04-18T18:10:39.509Z"
   },
   {
    "duration": 284,
    "start_time": "2024-04-18T18:10:39.516Z"
   },
   {
    "duration": 162,
    "start_time": "2024-04-18T18:10:39.802Z"
   },
   {
    "duration": 229,
    "start_time": "2024-04-18T18:10:39.966Z"
   },
   {
    "duration": 215,
    "start_time": "2024-04-18T18:10:40.197Z"
   },
   {
    "duration": 226,
    "start_time": "2024-04-18T18:10:40.414Z"
   },
   {
    "duration": 695,
    "start_time": "2024-04-18T18:10:40.642Z"
   },
   {
    "duration": 15,
    "start_time": "2024-04-18T18:10:41.339Z"
   },
   {
    "duration": 13,
    "start_time": "2024-04-18T18:10:41.355Z"
   },
   {
    "duration": 37,
    "start_time": "2024-04-18T18:10:41.370Z"
   },
   {
    "duration": 15,
    "start_time": "2024-04-18T18:10:41.408Z"
   },
   {
    "duration": 4,
    "start_time": "2024-04-18T18:10:41.424Z"
   },
   {
    "duration": 17,
    "start_time": "2024-04-18T18:10:41.429Z"
   },
   {
    "duration": 45,
    "start_time": "2024-04-18T18:10:41.447Z"
   },
   {
    "duration": 274,
    "start_time": "2024-04-18T18:10:41.494Z"
   },
   {
    "duration": 407,
    "start_time": "2024-04-18T18:10:41.770Z"
   },
   {
    "duration": 3,
    "start_time": "2024-04-18T18:10:42.179Z"
   },
   {
    "duration": 31,
    "start_time": "2024-04-18T18:10:42.192Z"
   },
   {
    "duration": 26,
    "start_time": "2024-04-18T18:10:42.224Z"
   },
   {
    "duration": 219,
    "start_time": "2024-04-18T18:10:42.252Z"
   },
   {
    "duration": 1400,
    "start_time": "2024-04-18T18:10:42.472Z"
   },
   {
    "duration": 0,
    "start_time": "2024-04-18T18:10:43.874Z"
   },
   {
    "duration": 0,
    "start_time": "2024-04-18T18:10:43.875Z"
   },
   {
    "duration": 0,
    "start_time": "2024-04-18T18:10:43.876Z"
   },
   {
    "duration": 0,
    "start_time": "2024-04-18T18:10:43.877Z"
   },
   {
    "duration": 0,
    "start_time": "2024-04-18T18:10:43.878Z"
   },
   {
    "duration": 0,
    "start_time": "2024-04-18T18:10:43.879Z"
   },
   {
    "duration": 0,
    "start_time": "2024-04-18T18:10:43.880Z"
   },
   {
    "duration": 0,
    "start_time": "2024-04-18T18:10:43.881Z"
   },
   {
    "duration": 0,
    "start_time": "2024-04-18T18:10:43.882Z"
   },
   {
    "duration": 0,
    "start_time": "2024-04-18T18:10:43.883Z"
   },
   {
    "duration": 0,
    "start_time": "2024-04-18T18:10:43.884Z"
   },
   {
    "duration": 0,
    "start_time": "2024-04-18T18:10:43.885Z"
   },
   {
    "duration": 0,
    "start_time": "2024-04-18T18:10:43.886Z"
   },
   {
    "duration": 482,
    "start_time": "2024-04-18T18:12:01.770Z"
   },
   {
    "duration": 488,
    "start_time": "2024-04-18T18:12:02.254Z"
   },
   {
    "duration": 352,
    "start_time": "2024-04-18T18:12:02.744Z"
   },
   {
    "duration": 3,
    "start_time": "2024-04-18T18:12:03.098Z"
   },
   {
    "duration": 36,
    "start_time": "2024-04-18T18:12:03.102Z"
   },
   {
    "duration": 82,
    "start_time": "2024-04-18T18:12:03.140Z"
   },
   {
    "duration": 58,
    "start_time": "2024-04-18T18:12:03.223Z"
   },
   {
    "duration": 6,
    "start_time": "2024-04-18T18:12:03.283Z"
   },
   {
    "duration": 135,
    "start_time": "2024-04-18T18:12:03.291Z"
   },
   {
    "duration": 29,
    "start_time": "2024-04-18T18:12:03.429Z"
   },
   {
    "duration": 29,
    "start_time": "2024-04-18T18:12:03.460Z"
   },
   {
    "duration": 15,
    "start_time": "2024-04-18T18:12:03.491Z"
   },
   {
    "duration": 13,
    "start_time": "2024-04-18T18:12:03.508Z"
   },
   {
    "duration": 17,
    "start_time": "2024-04-18T18:12:03.523Z"
   },
   {
    "duration": 20,
    "start_time": "2024-04-18T18:12:03.543Z"
   },
   {
    "duration": 42,
    "start_time": "2024-04-18T18:12:03.565Z"
   },
   {
    "duration": 33,
    "start_time": "2024-04-18T18:12:03.608Z"
   },
   {
    "duration": 12,
    "start_time": "2024-04-18T18:12:03.643Z"
   },
   {
    "duration": 8,
    "start_time": "2024-04-18T18:12:03.656Z"
   },
   {
    "duration": 23,
    "start_time": "2024-04-18T18:12:03.665Z"
   },
   {
    "duration": 11,
    "start_time": "2024-04-18T18:12:03.690Z"
   },
   {
    "duration": 52,
    "start_time": "2024-04-18T18:12:03.703Z"
   },
   {
    "duration": 53,
    "start_time": "2024-04-18T18:12:03.756Z"
   },
   {
    "duration": 21,
    "start_time": "2024-04-18T18:12:03.811Z"
   },
   {
    "duration": 262,
    "start_time": "2024-04-18T18:12:03.833Z"
   },
   {
    "duration": 377,
    "start_time": "2024-04-18T18:12:04.097Z"
   },
   {
    "duration": 382,
    "start_time": "2024-04-18T18:12:04.475Z"
   },
   {
    "duration": 2,
    "start_time": "2024-04-18T18:12:04.862Z"
   },
   {
    "duration": 16,
    "start_time": "2024-04-18T18:12:04.866Z"
   },
   {
    "duration": 9,
    "start_time": "2024-04-18T18:12:04.883Z"
   },
   {
    "duration": 6,
    "start_time": "2024-04-18T18:12:04.893Z"
   },
   {
    "duration": 11,
    "start_time": "2024-04-18T18:12:04.901Z"
   },
   {
    "duration": 36,
    "start_time": "2024-04-18T18:12:04.913Z"
   },
   {
    "duration": 22,
    "start_time": "2024-04-18T18:12:04.950Z"
   },
   {
    "duration": 17,
    "start_time": "2024-04-18T18:12:04.974Z"
   },
   {
    "duration": 18,
    "start_time": "2024-04-18T18:12:04.993Z"
   },
   {
    "duration": 16,
    "start_time": "2024-04-18T18:12:05.013Z"
   },
   {
    "duration": 31,
    "start_time": "2024-04-18T18:12:05.031Z"
   },
   {
    "duration": 18,
    "start_time": "2024-04-18T18:12:05.064Z"
   },
   {
    "duration": 38,
    "start_time": "2024-04-18T18:12:05.084Z"
   },
   {
    "duration": 13,
    "start_time": "2024-04-18T18:12:05.124Z"
   },
   {
    "duration": 118,
    "start_time": "2024-04-18T18:12:05.139Z"
   },
   {
    "duration": 116,
    "start_time": "2024-04-18T18:12:05.259Z"
   },
   {
    "duration": 8,
    "start_time": "2024-04-18T18:12:05.377Z"
   },
   {
    "duration": 14,
    "start_time": "2024-04-18T18:12:05.392Z"
   },
   {
    "duration": 14,
    "start_time": "2024-04-18T18:12:05.407Z"
   },
   {
    "duration": 214,
    "start_time": "2024-04-18T18:12:05.423Z"
   },
   {
    "duration": 5,
    "start_time": "2024-04-18T18:12:05.638Z"
   },
   {
    "duration": 260,
    "start_time": "2024-04-18T18:12:05.645Z"
   },
   {
    "duration": 171,
    "start_time": "2024-04-18T18:12:05.907Z"
   },
   {
    "duration": 239,
    "start_time": "2024-04-18T18:12:06.080Z"
   },
   {
    "duration": 228,
    "start_time": "2024-04-18T18:12:06.321Z"
   },
   {
    "duration": 219,
    "start_time": "2024-04-18T18:12:06.551Z"
   },
   {
    "duration": 671,
    "start_time": "2024-04-18T18:12:06.772Z"
   },
   {
    "duration": 20,
    "start_time": "2024-04-18T18:12:07.445Z"
   },
   {
    "duration": 25,
    "start_time": "2024-04-18T18:12:07.467Z"
   },
   {
    "duration": 24,
    "start_time": "2024-04-18T18:12:07.494Z"
   },
   {
    "duration": 14,
    "start_time": "2024-04-18T18:12:07.520Z"
   },
   {
    "duration": 5,
    "start_time": "2024-04-18T18:12:07.536Z"
   },
   {
    "duration": 16,
    "start_time": "2024-04-18T18:12:07.543Z"
   },
   {
    "duration": 50,
    "start_time": "2024-04-18T18:12:07.561Z"
   },
   {
    "duration": 314,
    "start_time": "2024-04-18T18:12:07.613Z"
   },
   {
    "duration": 377,
    "start_time": "2024-04-18T18:12:07.929Z"
   },
   {
    "duration": 4,
    "start_time": "2024-04-18T18:12:08.307Z"
   },
   {
    "duration": 47,
    "start_time": "2024-04-18T18:12:08.312Z"
   },
   {
    "duration": 35,
    "start_time": "2024-04-18T18:12:08.360Z"
   },
   {
    "duration": 21,
    "start_time": "2024-04-18T18:12:08.397Z"
   },
   {
    "duration": 1364,
    "start_time": "2024-04-18T18:12:08.419Z"
   },
   {
    "duration": 0,
    "start_time": "2024-04-18T18:12:09.785Z"
   },
   {
    "duration": 0,
    "start_time": "2024-04-18T18:12:09.787Z"
   },
   {
    "duration": 0,
    "start_time": "2024-04-18T18:12:09.788Z"
   },
   {
    "duration": 0,
    "start_time": "2024-04-18T18:12:09.789Z"
   },
   {
    "duration": 0,
    "start_time": "2024-04-18T18:12:09.791Z"
   },
   {
    "duration": 0,
    "start_time": "2024-04-18T18:12:09.792Z"
   },
   {
    "duration": 0,
    "start_time": "2024-04-18T18:12:09.793Z"
   },
   {
    "duration": 1,
    "start_time": "2024-04-18T18:12:09.794Z"
   },
   {
    "duration": 0,
    "start_time": "2024-04-18T18:12:09.796Z"
   },
   {
    "duration": 0,
    "start_time": "2024-04-18T18:12:09.797Z"
   },
   {
    "duration": 0,
    "start_time": "2024-04-18T18:12:09.798Z"
   },
   {
    "duration": 0,
    "start_time": "2024-04-18T18:12:09.799Z"
   },
   {
    "duration": 0,
    "start_time": "2024-04-18T18:12:09.800Z"
   },
   {
    "duration": 410,
    "start_time": "2024-04-18T18:13:29.535Z"
   },
   {
    "duration": 490,
    "start_time": "2024-04-18T18:13:29.947Z"
   },
   {
    "duration": 231,
    "start_time": "2024-04-18T18:13:30.439Z"
   },
   {
    "duration": 17,
    "start_time": "2024-04-18T18:13:30.673Z"
   },
   {
    "duration": 79,
    "start_time": "2024-04-18T18:13:30.692Z"
   },
   {
    "duration": 119,
    "start_time": "2024-04-18T18:13:30.773Z"
   },
   {
    "duration": 70,
    "start_time": "2024-04-18T18:13:30.894Z"
   },
   {
    "duration": 116,
    "start_time": "2024-04-18T18:13:30.965Z"
   },
   {
    "duration": 280,
    "start_time": "2024-04-18T18:13:31.083Z"
   },
   {
    "duration": 28,
    "start_time": "2024-04-18T18:13:31.366Z"
   },
   {
    "duration": 132,
    "start_time": "2024-04-18T18:13:31.395Z"
   },
   {
    "duration": 147,
    "start_time": "2024-04-18T18:13:31.529Z"
   },
   {
    "duration": 80,
    "start_time": "2024-04-18T18:13:31.678Z"
   },
   {
    "duration": 43,
    "start_time": "2024-04-18T18:13:31.760Z"
   },
   {
    "duration": 48,
    "start_time": "2024-04-18T18:13:31.805Z"
   },
   {
    "duration": 84,
    "start_time": "2024-04-18T18:13:31.855Z"
   },
   {
    "duration": 55,
    "start_time": "2024-04-18T18:13:31.941Z"
   },
   {
    "duration": 62,
    "start_time": "2024-04-18T18:13:31.998Z"
   },
   {
    "duration": 94,
    "start_time": "2024-04-18T18:13:32.062Z"
   },
   {
    "duration": 29,
    "start_time": "2024-04-18T18:13:32.157Z"
   },
   {
    "duration": 8,
    "start_time": "2024-04-18T18:13:32.188Z"
   },
   {
    "duration": 28,
    "start_time": "2024-04-18T18:13:32.197Z"
   },
   {
    "duration": 38,
    "start_time": "2024-04-18T18:13:32.226Z"
   },
   {
    "duration": 34,
    "start_time": "2024-04-18T18:13:32.265Z"
   },
   {
    "duration": 292,
    "start_time": "2024-04-18T18:13:32.301Z"
   },
   {
    "duration": 374,
    "start_time": "2024-04-18T18:13:32.595Z"
   },
   {
    "duration": 373,
    "start_time": "2024-04-18T18:13:32.971Z"
   },
   {
    "duration": 3,
    "start_time": "2024-04-18T18:13:33.348Z"
   },
   {
    "duration": 6,
    "start_time": "2024-04-18T18:13:33.352Z"
   },
   {
    "duration": 21,
    "start_time": "2024-04-18T18:13:33.359Z"
   },
   {
    "duration": 9,
    "start_time": "2024-04-18T18:13:33.382Z"
   },
   {
    "duration": 4,
    "start_time": "2024-04-18T18:13:33.393Z"
   },
   {
    "duration": 6,
    "start_time": "2024-04-18T18:13:33.399Z"
   },
   {
    "duration": 8,
    "start_time": "2024-04-18T18:13:33.406Z"
   },
   {
    "duration": 8,
    "start_time": "2024-04-18T18:13:33.416Z"
   },
   {
    "duration": 20,
    "start_time": "2024-04-18T18:13:33.425Z"
   },
   {
    "duration": 4,
    "start_time": "2024-04-18T18:13:33.446Z"
   },
   {
    "duration": 20,
    "start_time": "2024-04-18T18:13:33.452Z"
   },
   {
    "duration": 16,
    "start_time": "2024-04-18T18:13:33.475Z"
   },
   {
    "duration": 9,
    "start_time": "2024-04-18T18:13:33.493Z"
   },
   {
    "duration": 6,
    "start_time": "2024-04-18T18:13:33.504Z"
   },
   {
    "duration": 150,
    "start_time": "2024-04-18T18:13:33.511Z"
   },
   {
    "duration": 133,
    "start_time": "2024-04-18T18:13:33.663Z"
   },
   {
    "duration": 9,
    "start_time": "2024-04-18T18:13:33.798Z"
   },
   {
    "duration": 27,
    "start_time": "2024-04-18T18:13:33.809Z"
   },
   {
    "duration": 14,
    "start_time": "2024-04-18T18:13:33.838Z"
   },
   {
    "duration": 221,
    "start_time": "2024-04-18T18:13:33.854Z"
   },
   {
    "duration": 7,
    "start_time": "2024-04-18T18:13:34.077Z"
   },
   {
    "duration": 282,
    "start_time": "2024-04-18T18:13:34.091Z"
   },
   {
    "duration": 161,
    "start_time": "2024-04-18T18:13:34.374Z"
   },
   {
    "duration": 215,
    "start_time": "2024-04-18T18:13:34.536Z"
   },
   {
    "duration": 223,
    "start_time": "2024-04-18T18:13:34.752Z"
   },
   {
    "duration": 243,
    "start_time": "2024-04-18T18:13:34.977Z"
   },
   {
    "duration": 682,
    "start_time": "2024-04-18T18:13:35.222Z"
   },
   {
    "duration": 14,
    "start_time": "2024-04-18T18:13:35.906Z"
   },
   {
    "duration": 11,
    "start_time": "2024-04-18T18:13:35.922Z"
   },
   {
    "duration": 39,
    "start_time": "2024-04-18T18:13:35.934Z"
   },
   {
    "duration": 46,
    "start_time": "2024-04-18T18:13:35.975Z"
   },
   {
    "duration": 25,
    "start_time": "2024-04-18T18:13:36.023Z"
   },
   {
    "duration": 28,
    "start_time": "2024-04-18T18:13:36.049Z"
   },
   {
    "duration": 28,
    "start_time": "2024-04-18T18:13:36.079Z"
   },
   {
    "duration": 288,
    "start_time": "2024-04-18T18:13:36.108Z"
   },
   {
    "duration": 410,
    "start_time": "2024-04-18T18:13:36.397Z"
   },
   {
    "duration": 4,
    "start_time": "2024-04-18T18:13:36.809Z"
   },
   {
    "duration": 35,
    "start_time": "2024-04-18T18:13:36.814Z"
   },
   {
    "duration": 42,
    "start_time": "2024-04-18T18:13:36.851Z"
   },
   {
    "duration": 2,
    "start_time": "2024-04-18T18:13:36.895Z"
   },
   {
    "duration": 27,
    "start_time": "2024-04-18T18:13:36.898Z"
   },
   {
    "duration": 8,
    "start_time": "2024-04-18T18:13:36.926Z"
   },
   {
    "duration": 63,
    "start_time": "2024-04-18T18:13:36.936Z"
   },
   {
    "duration": 355,
    "start_time": "2024-04-18T18:13:37.000Z"
   },
   {
    "duration": 304,
    "start_time": "2024-04-18T18:13:37.357Z"
   },
   {
    "duration": 6,
    "start_time": "2024-04-18T18:13:37.663Z"
   },
   {
    "duration": 38,
    "start_time": "2024-04-18T18:13:37.671Z"
   },
   {
    "duration": 24,
    "start_time": "2024-04-18T18:13:37.711Z"
   },
   {
    "duration": 50,
    "start_time": "2024-04-18T18:13:37.737Z"
   },
   {
    "duration": 51,
    "start_time": "2024-04-18T18:13:37.788Z"
   },
   {
    "duration": 102,
    "start_time": "2024-04-18T18:13:37.841Z"
   },
   {
    "duration": 50,
    "start_time": "2024-04-18T18:13:37.945Z"
   },
   {
    "duration": 46,
    "start_time": "2024-04-18T18:13:37.997Z"
   },
   {
    "duration": 58,
    "start_time": "2024-04-18T18:13:38.045Z"
   },
   {
    "duration": 5,
    "start_time": "2024-04-18T18:42:55.069Z"
   },
   {
    "duration": 445,
    "start_time": "2024-04-18T19:14:36.991Z"
   },
   {
    "duration": 484,
    "start_time": "2024-04-18T19:14:37.437Z"
   },
   {
    "duration": 223,
    "start_time": "2024-04-18T19:14:37.923Z"
   },
   {
    "duration": 3,
    "start_time": "2024-04-18T19:14:38.148Z"
   },
   {
    "duration": 13,
    "start_time": "2024-04-18T19:14:38.152Z"
   },
   {
    "duration": 8,
    "start_time": "2024-04-18T19:14:38.166Z"
   },
   {
    "duration": 5,
    "start_time": "2024-04-18T19:14:38.175Z"
   },
   {
    "duration": 4,
    "start_time": "2024-04-18T19:14:38.182Z"
   },
   {
    "duration": 116,
    "start_time": "2024-04-18T19:14:38.187Z"
   },
   {
    "duration": 29,
    "start_time": "2024-04-18T19:14:38.306Z"
   },
   {
    "duration": 36,
    "start_time": "2024-04-18T19:14:38.337Z"
   },
   {
    "duration": 15,
    "start_time": "2024-04-18T19:14:38.375Z"
   },
   {
    "duration": 13,
    "start_time": "2024-04-18T19:14:38.392Z"
   },
   {
    "duration": 16,
    "start_time": "2024-04-18T19:14:38.407Z"
   },
   {
    "duration": 11,
    "start_time": "2024-04-18T19:14:38.425Z"
   },
   {
    "duration": 23,
    "start_time": "2024-04-18T19:14:38.437Z"
   },
   {
    "duration": 15,
    "start_time": "2024-04-18T19:14:38.462Z"
   },
   {
    "duration": 24,
    "start_time": "2024-04-18T19:14:38.479Z"
   },
   {
    "duration": 6,
    "start_time": "2024-04-18T19:14:38.504Z"
   },
   {
    "duration": 8,
    "start_time": "2024-04-18T19:14:38.512Z"
   },
   {
    "duration": 5,
    "start_time": "2024-04-18T19:14:38.522Z"
   },
   {
    "duration": 17,
    "start_time": "2024-04-18T19:14:38.529Z"
   },
   {
    "duration": 51,
    "start_time": "2024-04-18T19:14:38.548Z"
   },
   {
    "duration": 17,
    "start_time": "2024-04-18T19:14:38.601Z"
   },
   {
    "duration": 269,
    "start_time": "2024-04-18T19:14:38.620Z"
   },
   {
    "duration": 370,
    "start_time": "2024-04-18T19:14:38.892Z"
   },
   {
    "duration": 377,
    "start_time": "2024-04-18T19:14:39.264Z"
   },
   {
    "duration": 3,
    "start_time": "2024-04-18T19:14:39.646Z"
   },
   {
    "duration": 4,
    "start_time": "2024-04-18T19:14:39.651Z"
   },
   {
    "duration": 11,
    "start_time": "2024-04-18T19:14:39.657Z"
   },
   {
    "duration": 10,
    "start_time": "2024-04-18T19:14:39.670Z"
   },
   {
    "duration": 10,
    "start_time": "2024-04-18T19:14:39.682Z"
   },
   {
    "duration": 10,
    "start_time": "2024-04-18T19:14:39.694Z"
   },
   {
    "duration": 6,
    "start_time": "2024-04-18T19:14:39.706Z"
   },
   {
    "duration": 10,
    "start_time": "2024-04-18T19:14:39.714Z"
   },
   {
    "duration": 18,
    "start_time": "2024-04-18T19:14:39.726Z"
   },
   {
    "duration": 6,
    "start_time": "2024-04-18T19:14:39.746Z"
   },
   {
    "duration": 7,
    "start_time": "2024-04-18T19:14:39.753Z"
   },
   {
    "duration": 30,
    "start_time": "2024-04-18T19:14:39.762Z"
   },
   {
    "duration": 10,
    "start_time": "2024-04-18T19:14:39.793Z"
   },
   {
    "duration": 7,
    "start_time": "2024-04-18T19:14:39.805Z"
   },
   {
    "duration": 144,
    "start_time": "2024-04-18T19:14:39.814Z"
   },
   {
    "duration": 133,
    "start_time": "2024-04-18T19:14:39.960Z"
   },
   {
    "duration": 9,
    "start_time": "2024-04-18T19:14:40.095Z"
   },
   {
    "duration": 12,
    "start_time": "2024-04-18T19:14:40.105Z"
   },
   {
    "duration": 12,
    "start_time": "2024-04-18T19:14:40.119Z"
   },
   {
    "duration": 206,
    "start_time": "2024-04-18T19:14:40.133Z"
   },
   {
    "duration": 5,
    "start_time": "2024-04-18T19:14:40.340Z"
   },
   {
    "duration": 261,
    "start_time": "2024-04-18T19:14:40.347Z"
   },
   {
    "duration": 150,
    "start_time": "2024-04-18T19:14:40.610Z"
   },
   {
    "duration": 208,
    "start_time": "2024-04-18T19:14:40.761Z"
   },
   {
    "duration": 231,
    "start_time": "2024-04-18T19:14:40.971Z"
   },
   {
    "duration": 221,
    "start_time": "2024-04-18T19:14:41.204Z"
   },
   {
    "duration": 694,
    "start_time": "2024-04-18T19:14:41.427Z"
   },
   {
    "duration": 15,
    "start_time": "2024-04-18T19:14:42.123Z"
   },
   {
    "duration": 19,
    "start_time": "2024-04-18T19:14:42.140Z"
   },
   {
    "duration": 38,
    "start_time": "2024-04-18T19:14:42.161Z"
   },
   {
    "duration": 16,
    "start_time": "2024-04-18T19:14:42.200Z"
   },
   {
    "duration": 4,
    "start_time": "2024-04-18T19:14:42.218Z"
   },
   {
    "duration": 22,
    "start_time": "2024-04-18T19:14:42.224Z"
   },
   {
    "duration": 21,
    "start_time": "2024-04-18T19:14:42.247Z"
   },
   {
    "duration": 326,
    "start_time": "2024-04-18T19:14:42.270Z"
   },
   {
    "duration": 370,
    "start_time": "2024-04-18T19:14:42.598Z"
   },
   {
    "duration": 3,
    "start_time": "2024-04-18T19:14:42.970Z"
   },
   {
    "duration": 42,
    "start_time": "2024-04-18T19:14:42.975Z"
   },
   {
    "duration": 27,
    "start_time": "2024-04-18T19:14:43.019Z"
   },
   {
    "duration": 2,
    "start_time": "2024-04-18T19:14:43.048Z"
   },
   {
    "duration": 41,
    "start_time": "2024-04-18T19:14:43.051Z"
   },
   {
    "duration": 10,
    "start_time": "2024-04-18T19:14:43.094Z"
   },
   {
    "duration": 47,
    "start_time": "2024-04-18T19:14:43.105Z"
   },
   {
    "duration": 359,
    "start_time": "2024-04-18T19:14:43.154Z"
   },
   {
    "duration": 299,
    "start_time": "2024-04-18T19:14:43.515Z"
   },
   {
    "duration": 5,
    "start_time": "2024-04-18T19:14:43.816Z"
   },
   {
    "duration": 16,
    "start_time": "2024-04-18T19:14:43.823Z"
   },
   {
    "duration": 6,
    "start_time": "2024-04-18T19:14:43.841Z"
   },
   {
    "duration": 6,
    "start_time": "2024-04-18T19:14:43.849Z"
   },
   {
    "duration": 7,
    "start_time": "2024-04-18T19:14:43.856Z"
   },
   {
    "duration": 28,
    "start_time": "2024-04-18T19:14:43.864Z"
   },
   {
    "duration": 4,
    "start_time": "2024-04-18T19:14:43.894Z"
   },
   {
    "duration": 6,
    "start_time": "2024-04-18T19:14:43.899Z"
   },
   {
    "duration": 7,
    "start_time": "2024-04-18T19:14:43.907Z"
   },
   {
    "duration": 427,
    "start_time": "2024-04-18T19:16:02.020Z"
   },
   {
    "duration": 703,
    "start_time": "2024-04-18T19:16:02.449Z"
   },
   {
    "duration": 213,
    "start_time": "2024-04-18T19:16:03.153Z"
   },
   {
    "duration": 2,
    "start_time": "2024-04-18T19:16:03.368Z"
   },
   {
    "duration": 25,
    "start_time": "2024-04-18T19:16:03.372Z"
   },
   {
    "duration": 14,
    "start_time": "2024-04-18T19:16:03.399Z"
   },
   {
    "duration": 24,
    "start_time": "2024-04-18T19:16:03.415Z"
   },
   {
    "duration": 127,
    "start_time": "2024-04-18T19:16:03.441Z"
   },
   {
    "duration": 112,
    "start_time": "2024-04-18T19:16:03.570Z"
   },
   {
    "duration": 28,
    "start_time": "2024-04-18T19:16:03.683Z"
   },
   {
    "duration": 28,
    "start_time": "2024-04-18T19:16:03.713Z"
   },
   {
    "duration": 15,
    "start_time": "2024-04-18T19:16:03.742Z"
   },
   {
    "duration": 14,
    "start_time": "2024-04-18T19:16:03.759Z"
   },
   {
    "duration": 11,
    "start_time": "2024-04-18T19:16:03.778Z"
   },
   {
    "duration": 52,
    "start_time": "2024-04-18T19:16:03.791Z"
   },
   {
    "duration": 42,
    "start_time": "2024-04-18T19:16:03.845Z"
   },
   {
    "duration": 15,
    "start_time": "2024-04-18T19:16:03.888Z"
   },
   {
    "duration": 9,
    "start_time": "2024-04-18T19:16:03.905Z"
   },
   {
    "duration": 12,
    "start_time": "2024-04-18T19:16:03.916Z"
   },
   {
    "duration": 17,
    "start_time": "2024-04-18T19:16:03.929Z"
   },
   {
    "duration": 4,
    "start_time": "2024-04-18T19:16:03.948Z"
   },
   {
    "duration": 24,
    "start_time": "2024-04-18T19:16:03.954Z"
   },
   {
    "duration": 24,
    "start_time": "2024-04-18T19:16:03.980Z"
   },
   {
    "duration": 20,
    "start_time": "2024-04-18T19:16:04.005Z"
   },
   {
    "duration": 293,
    "start_time": "2024-04-18T19:16:04.027Z"
   },
   {
    "duration": 384,
    "start_time": "2024-04-18T19:16:04.321Z"
   },
   {
    "duration": 366,
    "start_time": "2024-04-18T19:16:04.707Z"
   },
   {
    "duration": 3,
    "start_time": "2024-04-18T19:16:05.074Z"
   },
   {
    "duration": 8,
    "start_time": "2024-04-18T19:16:05.078Z"
   },
   {
    "duration": 6,
    "start_time": "2024-04-18T19:16:05.091Z"
   },
   {
    "duration": 5,
    "start_time": "2024-04-18T19:16:05.098Z"
   },
   {
    "duration": 6,
    "start_time": "2024-04-18T19:16:05.104Z"
   },
   {
    "duration": 24,
    "start_time": "2024-04-18T19:16:05.111Z"
   },
   {
    "duration": 8,
    "start_time": "2024-04-18T19:16:05.137Z"
   },
   {
    "duration": 10,
    "start_time": "2024-04-18T19:16:05.147Z"
   },
   {
    "duration": 22,
    "start_time": "2024-04-18T19:16:05.158Z"
   },
   {
    "duration": 4,
    "start_time": "2024-04-18T19:16:05.182Z"
   },
   {
    "duration": 15,
    "start_time": "2024-04-18T19:16:05.188Z"
   },
   {
    "duration": 13,
    "start_time": "2024-04-18T19:16:05.204Z"
   },
   {
    "duration": 6,
    "start_time": "2024-04-18T19:16:05.218Z"
   },
   {
    "duration": 5,
    "start_time": "2024-04-18T19:16:05.229Z"
   },
   {
    "duration": 122,
    "start_time": "2024-04-18T19:16:05.235Z"
   },
   {
    "duration": 122,
    "start_time": "2024-04-18T19:16:05.358Z"
   },
   {
    "duration": 12,
    "start_time": "2024-04-18T19:16:05.481Z"
   },
   {
    "duration": 13,
    "start_time": "2024-04-18T19:16:05.494Z"
   },
   {
    "duration": 31,
    "start_time": "2024-04-18T19:16:05.508Z"
   },
   {
    "duration": 219,
    "start_time": "2024-04-18T19:16:05.540Z"
   },
   {
    "duration": 6,
    "start_time": "2024-04-18T19:16:05.760Z"
   },
   {
    "duration": 297,
    "start_time": "2024-04-18T19:16:05.767Z"
   },
   {
    "duration": 169,
    "start_time": "2024-04-18T19:16:06.066Z"
   },
   {
    "duration": 205,
    "start_time": "2024-04-18T19:16:06.236Z"
   },
   {
    "duration": 217,
    "start_time": "2024-04-18T19:16:06.443Z"
   },
   {
    "duration": 216,
    "start_time": "2024-04-18T19:16:06.662Z"
   },
   {
    "duration": 693,
    "start_time": "2024-04-18T19:16:06.879Z"
   },
   {
    "duration": 24,
    "start_time": "2024-04-18T19:16:07.573Z"
   },
   {
    "duration": 13,
    "start_time": "2024-04-18T19:16:07.599Z"
   },
   {
    "duration": 32,
    "start_time": "2024-04-18T19:16:07.613Z"
   },
   {
    "duration": 14,
    "start_time": "2024-04-18T19:16:07.647Z"
   },
   {
    "duration": 5,
    "start_time": "2024-04-18T19:16:07.663Z"
   },
   {
    "duration": 17,
    "start_time": "2024-04-18T19:16:07.692Z"
   },
   {
    "duration": 14,
    "start_time": "2024-04-18T19:16:07.711Z"
   },
   {
    "duration": 299,
    "start_time": "2024-04-18T19:16:07.727Z"
   },
   {
    "duration": 384,
    "start_time": "2024-04-18T19:16:08.028Z"
   },
   {
    "duration": 3,
    "start_time": "2024-04-18T19:16:08.414Z"
   },
   {
    "duration": 44,
    "start_time": "2024-04-18T19:16:08.419Z"
   },
   {
    "duration": 32,
    "start_time": "2024-04-18T19:16:08.465Z"
   },
   {
    "duration": 2,
    "start_time": "2024-04-18T19:16:08.499Z"
   },
   {
    "duration": 33,
    "start_time": "2024-04-18T19:16:08.502Z"
   },
   {
    "duration": 7,
    "start_time": "2024-04-18T19:16:08.537Z"
   },
   {
    "duration": 63,
    "start_time": "2024-04-18T19:16:08.546Z"
   },
   {
    "duration": 358,
    "start_time": "2024-04-18T19:16:08.611Z"
   },
   {
    "duration": 287,
    "start_time": "2024-04-18T19:16:08.971Z"
   },
   {
    "duration": 6,
    "start_time": "2024-04-18T19:16:09.259Z"
   },
   {
    "duration": 16,
    "start_time": "2024-04-18T19:16:09.266Z"
   },
   {
    "duration": 11,
    "start_time": "2024-04-18T19:16:09.283Z"
   },
   {
    "duration": 5,
    "start_time": "2024-04-18T19:16:09.295Z"
   },
   {
    "duration": 3,
    "start_time": "2024-04-18T19:16:09.302Z"
   },
   {
    "duration": 21,
    "start_time": "2024-04-18T19:16:09.307Z"
   },
   {
    "duration": 5,
    "start_time": "2024-04-18T19:16:09.330Z"
   },
   {
    "duration": 6,
    "start_time": "2024-04-18T19:16:09.337Z"
   },
   {
    "duration": 7,
    "start_time": "2024-04-18T19:16:09.345Z"
   },
   {
    "duration": 1456,
    "start_time": "2024-10-23T09:17:24.104Z"
   },
   {
    "duration": 79,
    "start_time": "2024-10-23T09:17:25.562Z"
   },
   {
    "duration": 149,
    "start_time": "2024-10-23T09:17:25.643Z"
   },
   {
    "duration": 70,
    "start_time": "2024-10-23T09:17:25.794Z"
   },
   {
    "duration": 13,
    "start_time": "2024-10-23T09:17:25.866Z"
   },
   {
    "duration": 84,
    "start_time": "2024-10-23T09:17:25.881Z"
   },
   {
    "duration": 55,
    "start_time": "2024-10-23T09:17:25.967Z"
   },
   {
    "duration": 57,
    "start_time": "2024-10-23T09:17:26.024Z"
   },
   {
    "duration": 18,
    "start_time": "2024-10-23T09:17:26.083Z"
   },
   {
    "duration": 13,
    "start_time": "2024-10-23T09:17:26.102Z"
   },
   {
    "duration": 40,
    "start_time": "2024-10-23T09:17:26.116Z"
   },
   {
    "duration": 23,
    "start_time": "2024-10-23T09:17:26.158Z"
   },
   {
    "duration": 13,
    "start_time": "2024-10-23T09:17:26.183Z"
   },
   {
    "duration": 28,
    "start_time": "2024-10-23T09:17:26.199Z"
   },
   {
    "duration": 23,
    "start_time": "2024-10-23T09:17:26.229Z"
   },
   {
    "duration": 20,
    "start_time": "2024-10-23T09:17:26.254Z"
   },
   {
    "duration": 290,
    "start_time": "2024-10-23T09:17:26.275Z"
   },
   {
    "duration": 383,
    "start_time": "2024-10-23T09:17:26.567Z"
   },
   {
    "duration": 374,
    "start_time": "2024-10-23T09:17:26.952Z"
   },
   {
    "duration": 2,
    "start_time": "2024-10-23T09:17:27.328Z"
   },
   {
    "duration": 49,
    "start_time": "2024-10-23T09:17:27.332Z"
   },
   {
    "duration": 17,
    "start_time": "2024-10-23T09:17:27.383Z"
   },
   {
    "duration": 6,
    "start_time": "2024-10-23T09:17:27.402Z"
   },
   {
    "duration": 23,
    "start_time": "2024-10-23T09:17:27.409Z"
   },
   {
    "duration": 15,
    "start_time": "2024-10-23T09:17:27.434Z"
   },
   {
    "duration": 22,
    "start_time": "2024-10-23T09:17:27.451Z"
   },
   {
    "duration": 9,
    "start_time": "2024-10-23T09:17:27.475Z"
   },
   {
    "duration": 13,
    "start_time": "2024-10-23T09:17:27.486Z"
   },
   {
    "duration": 6,
    "start_time": "2024-10-23T09:17:27.501Z"
   },
   {
    "duration": 10,
    "start_time": "2024-10-23T09:17:27.509Z"
   },
   {
    "duration": 5,
    "start_time": "2024-10-23T09:17:27.520Z"
   },
   {
    "duration": 26,
    "start_time": "2024-10-23T09:17:27.527Z"
   },
   {
    "duration": 6,
    "start_time": "2024-10-23T09:17:27.554Z"
   },
   {
    "duration": 132,
    "start_time": "2024-10-23T09:17:27.562Z"
   },
   {
    "duration": 129,
    "start_time": "2024-10-23T09:17:27.695Z"
   },
   {
    "duration": 8,
    "start_time": "2024-10-23T09:17:27.826Z"
   },
   {
    "duration": 89,
    "start_time": "2024-10-23T09:17:27.836Z"
   },
   {
    "duration": 12,
    "start_time": "2024-10-23T09:17:27.926Z"
   },
   {
    "duration": 218,
    "start_time": "2024-10-23T09:17:27.940Z"
   },
   {
    "duration": 6,
    "start_time": "2024-10-23T09:17:28.160Z"
   },
   {
    "duration": 276,
    "start_time": "2024-10-23T09:17:28.171Z"
   },
   {
    "duration": 164,
    "start_time": "2024-10-23T09:17:28.449Z"
   },
   {
    "duration": 224,
    "start_time": "2024-10-23T09:17:28.616Z"
   },
   {
    "duration": 222,
    "start_time": "2024-10-23T09:17:28.842Z"
   },
   {
    "duration": 226,
    "start_time": "2024-10-23T09:17:29.065Z"
   },
   {
    "duration": 724,
    "start_time": "2024-10-23T09:17:29.300Z"
   },
   {
    "duration": 15,
    "start_time": "2024-10-23T09:17:30.026Z"
   },
   {
    "duration": 70,
    "start_time": "2024-10-23T09:17:30.043Z"
   },
   {
    "duration": 98,
    "start_time": "2024-10-23T09:17:30.114Z"
   },
   {
    "duration": 77,
    "start_time": "2024-10-23T09:17:30.214Z"
   },
   {
    "duration": 63,
    "start_time": "2024-10-23T09:17:30.293Z"
   },
   {
    "duration": 82,
    "start_time": "2024-10-23T09:17:30.358Z"
   },
   {
    "duration": 81,
    "start_time": "2024-10-23T09:17:30.442Z"
   },
   {
    "duration": 351,
    "start_time": "2024-10-23T09:17:30.525Z"
   },
   {
    "duration": 387,
    "start_time": "2024-10-23T09:17:30.878Z"
   },
   {
    "duration": 4,
    "start_time": "2024-10-23T09:17:31.266Z"
   },
   {
    "duration": 76,
    "start_time": "2024-10-23T09:17:31.272Z"
   },
   {
    "duration": 96,
    "start_time": "2024-10-23T09:17:31.350Z"
   },
   {
    "duration": 5,
    "start_time": "2024-10-23T09:17:31.447Z"
   },
   {
    "duration": 26,
    "start_time": "2024-10-23T09:17:31.453Z"
   },
   {
    "duration": 10,
    "start_time": "2024-10-23T09:17:31.480Z"
   },
   {
    "duration": 59,
    "start_time": "2024-10-23T09:17:31.492Z"
   },
   {
    "duration": 349,
    "start_time": "2024-10-23T09:17:31.553Z"
   },
   {
    "duration": 296,
    "start_time": "2024-10-23T09:17:31.904Z"
   },
   {
    "duration": 7,
    "start_time": "2024-10-23T09:17:32.201Z"
   },
   {
    "duration": 56,
    "start_time": "2024-10-23T09:17:32.210Z"
   },
   {
    "duration": 40,
    "start_time": "2024-10-23T09:17:32.269Z"
   },
   {
    "duration": 16,
    "start_time": "2024-10-23T09:17:32.311Z"
   },
   {
    "duration": 32,
    "start_time": "2024-10-23T09:17:32.329Z"
   },
   {
    "duration": 32,
    "start_time": "2024-10-23T09:17:32.363Z"
   },
   {
    "duration": 26,
    "start_time": "2024-10-23T09:17:32.397Z"
   },
   {
    "duration": 65,
    "start_time": "2024-10-23T09:17:32.424Z"
   },
   {
    "duration": 25,
    "start_time": "2024-10-23T09:17:32.490Z"
   },
   {
    "duration": 4,
    "start_time": "2024-10-23T09:28:26.412Z"
   },
   {
    "duration": 186,
    "start_time": "2024-10-23T09:31:16.623Z"
   },
   {
    "duration": 1241,
    "start_time": "2024-10-23T09:33:25.350Z"
   },
   {
    "duration": 31,
    "start_time": "2024-10-23T09:33:26.593Z"
   },
   {
    "duration": 29,
    "start_time": "2024-10-23T09:33:26.626Z"
   },
   {
    "duration": 16,
    "start_time": "2024-10-23T09:33:26.657Z"
   },
   {
    "duration": 12,
    "start_time": "2024-10-23T09:33:26.675Z"
   },
   {
    "duration": 9,
    "start_time": "2024-10-23T09:33:26.689Z"
   },
   {
    "duration": 10,
    "start_time": "2024-10-23T09:33:26.700Z"
   },
   {
    "duration": 12,
    "start_time": "2024-10-23T09:33:26.712Z"
   },
   {
    "duration": 35,
    "start_time": "2024-10-23T09:33:26.726Z"
   },
   {
    "duration": 19,
    "start_time": "2024-10-23T09:33:26.762Z"
   },
   {
    "duration": 9,
    "start_time": "2024-10-23T09:33:26.782Z"
   },
   {
    "duration": 8,
    "start_time": "2024-10-23T09:33:26.793Z"
   },
   {
    "duration": 8,
    "start_time": "2024-10-23T09:33:26.802Z"
   },
   {
    "duration": 13,
    "start_time": "2024-10-23T09:33:26.813Z"
   },
   {
    "duration": 19,
    "start_time": "2024-10-23T09:33:26.828Z"
   },
   {
    "duration": 19,
    "start_time": "2024-10-23T09:33:26.849Z"
   },
   {
    "duration": 257,
    "start_time": "2024-10-23T09:33:26.901Z"
   },
   {
    "duration": 392,
    "start_time": "2024-10-23T09:33:27.160Z"
   },
   {
    "duration": 389,
    "start_time": "2024-10-23T09:33:27.553Z"
   },
   {
    "duration": 5,
    "start_time": "2024-10-23T09:33:27.944Z"
   },
   {
    "duration": 87,
    "start_time": "2024-10-23T09:33:27.950Z"
   },
   {
    "duration": 40,
    "start_time": "2024-10-23T09:33:28.038Z"
   },
   {
    "duration": 16,
    "start_time": "2024-10-23T09:33:28.080Z"
   },
   {
    "duration": 5,
    "start_time": "2024-10-23T09:33:28.098Z"
   },
   {
    "duration": 10,
    "start_time": "2024-10-23T09:33:28.104Z"
   },
   {
    "duration": 7,
    "start_time": "2024-10-23T09:33:28.115Z"
   },
   {
    "duration": 17,
    "start_time": "2024-10-23T09:33:28.124Z"
   },
   {
    "duration": 17,
    "start_time": "2024-10-23T09:33:28.143Z"
   },
   {
    "duration": 123,
    "start_time": "2024-10-23T09:33:28.162Z"
   },
   {
    "duration": 122,
    "start_time": "2024-10-23T09:33:28.287Z"
   },
   {
    "duration": 8,
    "start_time": "2024-10-23T09:33:28.411Z"
   },
   {
    "duration": 20,
    "start_time": "2024-10-23T09:33:28.421Z"
   },
   {
    "duration": 36,
    "start_time": "2024-10-23T09:33:28.442Z"
   },
   {
    "duration": 6,
    "start_time": "2024-10-23T09:33:28.480Z"
   },
   {
    "duration": 212,
    "start_time": "2024-10-23T09:33:28.487Z"
   },
   {
    "duration": 238,
    "start_time": "2024-10-23T09:33:28.702Z"
   },
   {
    "duration": 221,
    "start_time": "2024-10-23T09:33:28.943Z"
   },
   {
    "duration": 234,
    "start_time": "2024-10-23T09:33:29.166Z"
   },
   {
    "duration": 232,
    "start_time": "2024-10-23T09:33:29.402Z"
   },
   {
    "duration": 698,
    "start_time": "2024-10-23T09:33:29.636Z"
   },
   {
    "duration": 16,
    "start_time": "2024-10-23T09:33:30.338Z"
   },
   {
    "duration": 71,
    "start_time": "2024-10-23T09:33:30.356Z"
   },
   {
    "duration": 48,
    "start_time": "2024-10-23T09:33:30.428Z"
   },
   {
    "duration": 8,
    "start_time": "2024-10-23T09:33:30.478Z"
   },
   {
    "duration": 74,
    "start_time": "2024-10-23T09:33:30.487Z"
   },
   {
    "duration": 25,
    "start_time": "2024-10-23T09:33:30.563Z"
   },
   {
    "duration": 312,
    "start_time": "2024-10-23T09:33:30.589Z"
   },
   {
    "duration": 404,
    "start_time": "2024-10-23T09:33:30.903Z"
   },
   {
    "duration": 4,
    "start_time": "2024-10-23T09:33:31.309Z"
   },
   {
    "duration": 65,
    "start_time": "2024-10-23T09:33:31.314Z"
   },
   {
    "duration": 96,
    "start_time": "2024-10-23T09:33:31.380Z"
   },
   {
    "duration": 19,
    "start_time": "2024-10-23T09:33:31.478Z"
   },
   {
    "duration": 7,
    "start_time": "2024-10-23T09:33:31.499Z"
   },
   {
    "duration": 81,
    "start_time": "2024-10-23T09:33:31.508Z"
   },
   {
    "duration": 347,
    "start_time": "2024-10-23T09:33:31.591Z"
   },
   {
    "duration": 321,
    "start_time": "2024-10-23T09:33:31.939Z"
   },
   {
    "duration": 8,
    "start_time": "2024-10-23T09:33:32.262Z"
   },
   {
    "duration": 26,
    "start_time": "2024-10-23T09:33:32.272Z"
   },
   {
    "duration": 34,
    "start_time": "2024-10-23T09:33:32.300Z"
   },
   {
    "duration": 22,
    "start_time": "2024-10-23T09:33:32.336Z"
   },
   {
    "duration": 24,
    "start_time": "2024-10-23T09:33:32.360Z"
   },
   {
    "duration": 15,
    "start_time": "2024-10-23T09:33:32.386Z"
   },
   {
    "duration": 38,
    "start_time": "2024-10-23T09:33:32.403Z"
   },
   {
    "duration": 179,
    "start_time": "2024-10-23T09:33:32.444Z"
   },
   {
    "duration": 6,
    "start_time": "2024-10-23T09:33:32.624Z"
   },
   {
    "duration": 309,
    "start_time": "2024-10-23T09:34:56.877Z"
   },
   {
    "duration": 35,
    "start_time": "2024-10-23T09:35:04.415Z"
   },
   {
    "duration": 67,
    "start_time": "2024-10-23T09:35:15.101Z"
   },
   {
    "duration": 1235,
    "start_time": "2024-10-23T09:35:57.223Z"
   },
   {
    "duration": 30,
    "start_time": "2024-10-23T09:35:58.460Z"
   },
   {
    "duration": 29,
    "start_time": "2024-10-23T09:35:58.494Z"
   },
   {
    "duration": 16,
    "start_time": "2024-10-23T09:35:58.526Z"
   },
   {
    "duration": 13,
    "start_time": "2024-10-23T09:35:58.543Z"
   },
   {
    "duration": 24,
    "start_time": "2024-10-23T09:35:58.558Z"
   },
   {
    "duration": 21,
    "start_time": "2024-10-23T09:35:58.584Z"
   },
   {
    "duration": 13,
    "start_time": "2024-10-23T09:35:58.607Z"
   },
   {
    "duration": 26,
    "start_time": "2024-10-23T09:35:58.622Z"
   },
   {
    "duration": 40,
    "start_time": "2024-10-23T09:35:58.651Z"
   },
   {
    "duration": 11,
    "start_time": "2024-10-23T09:35:58.692Z"
   },
   {
    "duration": 10,
    "start_time": "2024-10-23T09:35:58.705Z"
   },
   {
    "duration": 5,
    "start_time": "2024-10-23T09:35:58.719Z"
   },
   {
    "duration": 37,
    "start_time": "2024-10-23T09:35:58.726Z"
   },
   {
    "duration": 29,
    "start_time": "2024-10-23T09:35:58.766Z"
   },
   {
    "duration": 18,
    "start_time": "2024-10-23T09:35:58.797Z"
   },
   {
    "duration": 295,
    "start_time": "2024-10-23T09:35:58.816Z"
   },
   {
    "duration": 405,
    "start_time": "2024-10-23T09:35:59.112Z"
   },
   {
    "duration": 380,
    "start_time": "2024-10-23T09:35:59.519Z"
   },
   {
    "duration": 5,
    "start_time": "2024-10-23T09:35:59.901Z"
   },
   {
    "duration": 16,
    "start_time": "2024-10-23T09:35:59.907Z"
   },
   {
    "duration": 11,
    "start_time": "2024-10-23T09:35:59.925Z"
   },
   {
    "duration": 11,
    "start_time": "2024-10-23T09:35:59.938Z"
   },
   {
    "duration": 97,
    "start_time": "2024-10-23T09:35:59.951Z"
   },
   {
    "duration": 67,
    "start_time": "2024-10-23T09:36:00.050Z"
   },
   {
    "duration": 41,
    "start_time": "2024-10-23T09:36:00.118Z"
   },
   {
    "duration": 56,
    "start_time": "2024-10-23T09:36:00.161Z"
   },
   {
    "duration": 27,
    "start_time": "2024-10-23T09:36:00.218Z"
   },
   {
    "duration": 168,
    "start_time": "2024-10-23T09:36:00.247Z"
   },
   {
    "duration": 135,
    "start_time": "2024-10-23T09:36:00.416Z"
   },
   {
    "duration": 13,
    "start_time": "2024-10-23T09:36:00.553Z"
   },
   {
    "duration": 42,
    "start_time": "2024-10-23T09:36:00.568Z"
   },
   {
    "duration": 25,
    "start_time": "2024-10-23T09:36:00.612Z"
   },
   {
    "duration": 43,
    "start_time": "2024-10-23T09:36:00.638Z"
   },
   {
    "duration": 195,
    "start_time": "2024-10-23T09:36:00.683Z"
   },
   {
    "duration": 250,
    "start_time": "2024-10-23T09:36:00.880Z"
   },
   {
    "duration": 207,
    "start_time": "2024-10-23T09:36:01.132Z"
   },
   {
    "duration": 221,
    "start_time": "2024-10-23T09:36:01.340Z"
   },
   {
    "duration": 231,
    "start_time": "2024-10-23T09:36:01.562Z"
   },
   {
    "duration": 725,
    "start_time": "2024-10-23T09:36:01.802Z"
   },
   {
    "duration": 14,
    "start_time": "2024-10-23T09:36:02.529Z"
   },
   {
    "duration": 24,
    "start_time": "2024-10-23T09:36:02.545Z"
   },
   {
    "duration": 83,
    "start_time": "2024-10-23T09:36:02.570Z"
   },
   {
    "duration": 11,
    "start_time": "2024-10-23T09:36:02.655Z"
   },
   {
    "duration": 59,
    "start_time": "2024-10-23T09:36:02.668Z"
   },
   {
    "duration": 16,
    "start_time": "2024-10-23T09:36:02.729Z"
   },
   {
    "duration": 287,
    "start_time": "2024-10-23T09:36:02.746Z"
   },
   {
    "duration": 383,
    "start_time": "2024-10-23T09:36:03.035Z"
   },
   {
    "duration": 4,
    "start_time": "2024-10-23T09:36:03.420Z"
   },
   {
    "duration": 57,
    "start_time": "2024-10-23T09:36:03.426Z"
   },
   {
    "duration": 27,
    "start_time": "2024-10-23T09:36:03.485Z"
   },
   {
    "duration": 26,
    "start_time": "2024-10-23T09:36:03.514Z"
   },
   {
    "duration": 9,
    "start_time": "2024-10-23T09:36:03.542Z"
   },
   {
    "duration": 71,
    "start_time": "2024-10-23T09:36:03.552Z"
   },
   {
    "duration": 378,
    "start_time": "2024-10-23T09:36:03.624Z"
   },
   {
    "duration": 295,
    "start_time": "2024-10-23T09:36:04.004Z"
   },
   {
    "duration": 6,
    "start_time": "2024-10-23T09:36:04.301Z"
   },
   {
    "duration": 24,
    "start_time": "2024-10-23T09:36:04.308Z"
   },
   {
    "duration": 11,
    "start_time": "2024-10-23T09:36:04.333Z"
   },
   {
    "duration": 18,
    "start_time": "2024-10-23T09:36:04.346Z"
   },
   {
    "duration": 4,
    "start_time": "2024-10-23T09:36:04.366Z"
   },
   {
    "duration": 59,
    "start_time": "2024-10-23T09:36:04.371Z"
   },
   {
    "duration": 28,
    "start_time": "2024-10-23T09:36:04.432Z"
   },
   {
    "duration": 166,
    "start_time": "2024-10-23T09:36:04.461Z"
   },
   {
    "duration": 7,
    "start_time": "2024-10-23T09:36:04.630Z"
   }
  ],
  "kernelspec": {
   "display_name": "Python 3 (ipykernel)",
   "language": "python",
   "name": "python3"
  },
  "language_info": {
   "codemirror_mode": {
    "name": "ipython",
    "version": 3
   },
   "file_extension": ".py",
   "mimetype": "text/x-python",
   "name": "python",
   "nbconvert_exporter": "python",
   "pygments_lexer": "ipython3",
   "version": "3.9.5"
  },
  "toc": {
   "base_numbering": 1,
   "nav_menu": {},
   "number_sections": true,
   "sideBar": true,
   "skip_h1_title": true,
   "title_cell": "Table of Contents",
   "title_sidebar": "Contents",
   "toc_cell": false,
   "toc_position": {},
   "toc_section_display": true,
   "toc_window_display": false
  }
 },
 "nbformat": 4,
 "nbformat_minor": 5
}
